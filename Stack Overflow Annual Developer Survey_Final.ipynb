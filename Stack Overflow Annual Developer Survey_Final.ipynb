{
 "cells": [
  {
   "cell_type": "markdown",
   "metadata": {},
   "source": [
    "# Analysis of Stack Overflow Annual Developer Surveys"
   ]
  },
  {
   "cell_type": "markdown",
   "metadata": {},
   "source": [
    "###  OBJECTIVE : \n",
    "\n",
    "Every year Stack Overflow conducts developers Survey, which is the largest and most comprehensive survey of people who code around the world. This survey covers everything from developer's favorite technologies to their job preferences. From these surveys Stack Overflow has been trying to figure out interesting facts and reflections of the worldwide developer community. \n",
    "\n",
    "In this project I am going to analyze previous years surveys and I will try to get some useful trends, which I can use for planning my long dream of working in the developer industry. There are students and working professionals like me who are interested in Data science, ML, developing and programming jobs, so I want to analyze these surveys to know about the history and trends in the developers community. Particularly I would like to know about following 3 things:"
   ]
  },
  {
   "cell_type": "markdown",
   "metadata": {},
   "source": [
    "**TOP PROGRAMMING LANGUAGES**\n",
    "\n",
    "1. Which programming languages had most demand in 2018 & 2019 \n",
    "2. A trend of programming languages from 2016 to 2019\n",
    "3. Popular programming languages amongst students and developers in 2019\n",
    "\n",
    "**TOP DEVELOPER ROLES**\n",
    "1. Top 3 developer roles in 2018 and 2019\n",
    "2. Gender Proportion in Top 3 Developer Types (Year 2019)\n",
    "3. Popular Languages In Top 3 Developer Types in 2019)\n",
    "\n",
    "**GENDER**\n",
    "1. Gender proportion in development community from 2016 to 2019"
   ]
  },
  {
   "cell_type": "markdown",
   "metadata": {},
   "source": [
    "## INDEX\n",
    "\n",
    "\n",
    "- <a href='#1'>1. LOAD THE LIBRARIES AND READ THE DATA</a>  \n",
    "\n",
    "    - <a href='#1.1'>1.1. LOAD LIBRARIES</a> \n",
    "    - <a href='#1.2'>1.2. READ THE DATA</a> \n",
    "    \n",
    "    \n",
    "- <a href='#2'>2. OVERVIEW </a> \n",
    "\n",
    "    - <a href='#2.1'>2.1. DATA INFORMATION </a> \n",
    "    - <a href='#2.2'>2.2. HEAD</a>\n",
    "    - <a href='#2.3'>2.3. DATA TYPES</a>\n",
    "    \n",
    "- <a href='#3'>3. MISSING VALUES </a>\n",
    "\n",
    "    - <a href='#3.1'>3.1. CORRELATION WITH TARGET VARIABLE </a>\n",
    " \n",
    "    \n",
    "- <a href='#4'> 4. ANALYSIS </a>\n",
    "   - <a href='#4.1'> 4.1. TOP PROGRAMMING LANGUAGES: </a>\n",
    "   - <a href='#4.2'> 4.2. TOP DEVELOPER ROLES: </a>\n",
    "   - <a href='#4.3'> 4.3. GENDER: </a>\n",
    "   \n",
    "- <a href='#4'> 5. CONCLUSION </a>\n",
    "  "
   ]
  },
  {
   "cell_type": "markdown",
   "metadata": {},
   "source": [
    "## <a id='1'>1. LOAD LIBRARIES AND READ THE DATA </a> "
   ]
  },
  {
   "cell_type": "markdown",
   "metadata": {},
   "source": [
    "**TOP PROGRAMMING LANGUAGES**\n",
    "\n",
    "- A trend of programming languages from 2016 to 2019\n",
    "- Top percentage-wise programming languages in 2016, 2017, 2018 and 2019\n",
    "- Comparison of programming languages in 2018 and 2019\n",
    "- Gender-wise programming languages in 2019\n",
    "- Popular programming languages amongst students and developers in 2019\n",
    "\n",
    "**TOP DEVELOPER ROLES**\n",
    "- Top 3 developer roles in 2018 and 2019\n",
    "- Popular programming languages in different  developer  types \n",
    "- Gender proportion in different  developer  types\n",
    "\n",
    "**GENDER**\n",
    "- Gender proportion in development community from 2016 to 2019\n"
   ]
  },
  {
   "cell_type": "markdown",
   "metadata": {},
   "source": [
    "I will be using following python packages for this analysis: "
   ]
  },
  {
   "cell_type": "code",
   "execution_count": 515,
   "metadata": {},
   "outputs": [],
   "source": [
    "#Import initial libraries\n",
    "import numpy as np\n",
    "import pandas as pd\n",
    "\n",
    "# Libraries for plotting\n",
    "import seaborn as sns\n",
    "#from pandas.tools.plotting import scatter_matrix\n",
    "import matplotlib.pyplot as plt\n",
    "plt.style.use('fivethirtyeight')\n",
    "\n",
    "%matplotlib inline\n",
    "import plotly.offline as py\n",
    "import plotly.graph_objs as go\n",
    "from plotly.offline import download_plotlyjs, init_notebook_mode, plot, iplot \n",
    "import plotly.tools as tls\n",
    "import plotly.figure_factory as ff\n",
    "import plotly.express as px\n",
    "from plotly.subplots import make_subplots\n",
    "\n",
    "\n",
    "#ignore warning messages \n",
    "import warnings\n",
    "warnings.filterwarnings('ignore') \n",
    "style_dict = {'background-color':'lightyellow','color':'#000000','border-color': 'red','font-family':'Roboto'}"
   ]
  },
  {
   "cell_type": "markdown",
   "metadata": {},
   "source": [
    "### <a id = '1.2'> 1.2. READ THE DATA </a> "
   ]
  },
  {
   "cell_type": "markdown",
   "metadata": {},
   "source": [
    "Data Source : [Stack Overflow Annual Developer Survey](https://insights.stackoverflow.com/survey)"
   ]
  },
  {
   "cell_type": "code",
   "execution_count": 516,
   "metadata": {
    "collapsed": true
   },
   "outputs": [
    {
     "data": {
      "text/html": [
       "<style  type=\"text/css\" >\n",
       "    #T_6bf747d0_41de_11ea_82c8_acde48001122row0_col0 {\n",
       "            background-color:  lightyellow;\n",
       "            color:  #000000;\n",
       "            border-color:  red;\n",
       "            font-family:  Roboto;\n",
       "        }    #T_6bf747d0_41de_11ea_82c8_acde48001122row0_col1 {\n",
       "            background-color:  lightyellow;\n",
       "            color:  #000000;\n",
       "            border-color:  red;\n",
       "            font-family:  Roboto;\n",
       "        }    #T_6bf747d0_41de_11ea_82c8_acde48001122row0_col2 {\n",
       "            background-color:  lightyellow;\n",
       "            color:  #000000;\n",
       "            border-color:  red;\n",
       "            font-family:  Roboto;\n",
       "        }    #T_6bf747d0_41de_11ea_82c8_acde48001122row0_col3 {\n",
       "            background-color:  lightyellow;\n",
       "            color:  #000000;\n",
       "            border-color:  red;\n",
       "            font-family:  Roboto;\n",
       "        }    #T_6bf747d0_41de_11ea_82c8_acde48001122row0_col4 {\n",
       "            background-color:  lightyellow;\n",
       "            color:  #000000;\n",
       "            border-color:  red;\n",
       "            font-family:  Roboto;\n",
       "        }    #T_6bf747d0_41de_11ea_82c8_acde48001122row0_col5 {\n",
       "            background-color:  lightyellow;\n",
       "            color:  #000000;\n",
       "            border-color:  red;\n",
       "            font-family:  Roboto;\n",
       "        }    #T_6bf747d0_41de_11ea_82c8_acde48001122row0_col6 {\n",
       "            background-color:  lightyellow;\n",
       "            color:  #000000;\n",
       "            border-color:  red;\n",
       "            font-family:  Roboto;\n",
       "        }    #T_6bf747d0_41de_11ea_82c8_acde48001122row0_col7 {\n",
       "            background-color:  lightyellow;\n",
       "            color:  #000000;\n",
       "            border-color:  red;\n",
       "            font-family:  Roboto;\n",
       "        }    #T_6bf747d0_41de_11ea_82c8_acde48001122row0_col8 {\n",
       "            background-color:  lightyellow;\n",
       "            color:  #000000;\n",
       "            border-color:  red;\n",
       "            font-family:  Roboto;\n",
       "        }    #T_6bf747d0_41de_11ea_82c8_acde48001122row0_col9 {\n",
       "            background-color:  lightyellow;\n",
       "            color:  #000000;\n",
       "            border-color:  red;\n",
       "            font-family:  Roboto;\n",
       "        }    #T_6bf747d0_41de_11ea_82c8_acde48001122row0_col10 {\n",
       "            background-color:  lightyellow;\n",
       "            color:  #000000;\n",
       "            border-color:  red;\n",
       "            font-family:  Roboto;\n",
       "        }    #T_6bf747d0_41de_11ea_82c8_acde48001122row0_col11 {\n",
       "            background-color:  lightyellow;\n",
       "            color:  #000000;\n",
       "            border-color:  red;\n",
       "            font-family:  Roboto;\n",
       "        }    #T_6bf747d0_41de_11ea_82c8_acde48001122row0_col12 {\n",
       "            background-color:  lightyellow;\n",
       "            color:  #000000;\n",
       "            border-color:  red;\n",
       "            font-family:  Roboto;\n",
       "        }    #T_6bf747d0_41de_11ea_82c8_acde48001122row0_col13 {\n",
       "            background-color:  lightyellow;\n",
       "            color:  #000000;\n",
       "            border-color:  red;\n",
       "            font-family:  Roboto;\n",
       "        }    #T_6bf747d0_41de_11ea_82c8_acde48001122row0_col14 {\n",
       "            background-color:  lightyellow;\n",
       "            color:  #000000;\n",
       "            border-color:  red;\n",
       "            font-family:  Roboto;\n",
       "        }    #T_6bf747d0_41de_11ea_82c8_acde48001122row0_col15 {\n",
       "            background-color:  lightyellow;\n",
       "            color:  #000000;\n",
       "            border-color:  red;\n",
       "            font-family:  Roboto;\n",
       "        }    #T_6bf747d0_41de_11ea_82c8_acde48001122row0_col16 {\n",
       "            background-color:  lightyellow;\n",
       "            color:  #000000;\n",
       "            border-color:  red;\n",
       "            font-family:  Roboto;\n",
       "        }    #T_6bf747d0_41de_11ea_82c8_acde48001122row0_col17 {\n",
       "            background-color:  lightyellow;\n",
       "            color:  #000000;\n",
       "            border-color:  red;\n",
       "            font-family:  Roboto;\n",
       "        }    #T_6bf747d0_41de_11ea_82c8_acde48001122row0_col18 {\n",
       "            background-color:  lightyellow;\n",
       "            color:  #000000;\n",
       "            border-color:  red;\n",
       "            font-family:  Roboto;\n",
       "        }    #T_6bf747d0_41de_11ea_82c8_acde48001122row0_col19 {\n",
       "            background-color:  lightyellow;\n",
       "            color:  #000000;\n",
       "            border-color:  red;\n",
       "            font-family:  Roboto;\n",
       "        }    #T_6bf747d0_41de_11ea_82c8_acde48001122row0_col20 {\n",
       "            background-color:  lightyellow;\n",
       "            color:  #000000;\n",
       "            border-color:  red;\n",
       "            font-family:  Roboto;\n",
       "        }    #T_6bf747d0_41de_11ea_82c8_acde48001122row0_col21 {\n",
       "            background-color:  lightyellow;\n",
       "            color:  #000000;\n",
       "            border-color:  red;\n",
       "            font-family:  Roboto;\n",
       "        }    #T_6bf747d0_41de_11ea_82c8_acde48001122row0_col22 {\n",
       "            background-color:  lightyellow;\n",
       "            color:  #000000;\n",
       "            border-color:  red;\n",
       "            font-family:  Roboto;\n",
       "        }    #T_6bf747d0_41de_11ea_82c8_acde48001122row0_col23 {\n",
       "            background-color:  lightyellow;\n",
       "            color:  #000000;\n",
       "            border-color:  red;\n",
       "            font-family:  Roboto;\n",
       "        }    #T_6bf747d0_41de_11ea_82c8_acde48001122row0_col24 {\n",
       "            background-color:  lightyellow;\n",
       "            color:  #000000;\n",
       "            border-color:  red;\n",
       "            font-family:  Roboto;\n",
       "        }    #T_6bf747d0_41de_11ea_82c8_acde48001122row0_col25 {\n",
       "            background-color:  lightyellow;\n",
       "            color:  #000000;\n",
       "            border-color:  red;\n",
       "            font-family:  Roboto;\n",
       "        }    #T_6bf747d0_41de_11ea_82c8_acde48001122row0_col26 {\n",
       "            background-color:  lightyellow;\n",
       "            color:  #000000;\n",
       "            border-color:  red;\n",
       "            font-family:  Roboto;\n",
       "        }    #T_6bf747d0_41de_11ea_82c8_acde48001122row0_col27 {\n",
       "            background-color:  lightyellow;\n",
       "            color:  #000000;\n",
       "            border-color:  red;\n",
       "            font-family:  Roboto;\n",
       "        }    #T_6bf747d0_41de_11ea_82c8_acde48001122row0_col28 {\n",
       "            background-color:  lightyellow;\n",
       "            color:  #000000;\n",
       "            border-color:  red;\n",
       "            font-family:  Roboto;\n",
       "        }    #T_6bf747d0_41de_11ea_82c8_acde48001122row0_col29 {\n",
       "            background-color:  lightyellow;\n",
       "            color:  #000000;\n",
       "            border-color:  red;\n",
       "            font-family:  Roboto;\n",
       "        }    #T_6bf747d0_41de_11ea_82c8_acde48001122row0_col30 {\n",
       "            background-color:  lightyellow;\n",
       "            color:  #000000;\n",
       "            border-color:  red;\n",
       "            font-family:  Roboto;\n",
       "        }    #T_6bf747d0_41de_11ea_82c8_acde48001122row0_col31 {\n",
       "            background-color:  lightyellow;\n",
       "            color:  #000000;\n",
       "            border-color:  red;\n",
       "            font-family:  Roboto;\n",
       "        }    #T_6bf747d0_41de_11ea_82c8_acde48001122row0_col32 {\n",
       "            background-color:  lightyellow;\n",
       "            color:  #000000;\n",
       "            border-color:  red;\n",
       "            font-family:  Roboto;\n",
       "        }    #T_6bf747d0_41de_11ea_82c8_acde48001122row0_col33 {\n",
       "            background-color:  lightyellow;\n",
       "            color:  #000000;\n",
       "            border-color:  red;\n",
       "            font-family:  Roboto;\n",
       "        }    #T_6bf747d0_41de_11ea_82c8_acde48001122row0_col34 {\n",
       "            background-color:  lightyellow;\n",
       "            color:  #000000;\n",
       "            border-color:  red;\n",
       "            font-family:  Roboto;\n",
       "        }    #T_6bf747d0_41de_11ea_82c8_acde48001122row0_col35 {\n",
       "            background-color:  lightyellow;\n",
       "            color:  #000000;\n",
       "            border-color:  red;\n",
       "            font-family:  Roboto;\n",
       "        }    #T_6bf747d0_41de_11ea_82c8_acde48001122row0_col36 {\n",
       "            background-color:  lightyellow;\n",
       "            color:  #000000;\n",
       "            border-color:  red;\n",
       "            font-family:  Roboto;\n",
       "        }    #T_6bf747d0_41de_11ea_82c8_acde48001122row0_col37 {\n",
       "            background-color:  lightyellow;\n",
       "            color:  #000000;\n",
       "            border-color:  red;\n",
       "            font-family:  Roboto;\n",
       "        }    #T_6bf747d0_41de_11ea_82c8_acde48001122row0_col38 {\n",
       "            background-color:  lightyellow;\n",
       "            color:  #000000;\n",
       "            border-color:  red;\n",
       "            font-family:  Roboto;\n",
       "        }    #T_6bf747d0_41de_11ea_82c8_acde48001122row0_col39 {\n",
       "            background-color:  lightyellow;\n",
       "            color:  #000000;\n",
       "            border-color:  red;\n",
       "            font-family:  Roboto;\n",
       "        }    #T_6bf747d0_41de_11ea_82c8_acde48001122row0_col40 {\n",
       "            background-color:  lightyellow;\n",
       "            color:  #000000;\n",
       "            border-color:  red;\n",
       "            font-family:  Roboto;\n",
       "        }    #T_6bf747d0_41de_11ea_82c8_acde48001122row0_col41 {\n",
       "            background-color:  lightyellow;\n",
       "            color:  #000000;\n",
       "            border-color:  red;\n",
       "            font-family:  Roboto;\n",
       "        }    #T_6bf747d0_41de_11ea_82c8_acde48001122row0_col42 {\n",
       "            background-color:  lightyellow;\n",
       "            color:  #000000;\n",
       "            border-color:  red;\n",
       "            font-family:  Roboto;\n",
       "        }    #T_6bf747d0_41de_11ea_82c8_acde48001122row0_col43 {\n",
       "            background-color:  lightyellow;\n",
       "            color:  #000000;\n",
       "            border-color:  red;\n",
       "            font-family:  Roboto;\n",
       "        }    #T_6bf747d0_41de_11ea_82c8_acde48001122row0_col44 {\n",
       "            background-color:  lightyellow;\n",
       "            color:  #000000;\n",
       "            border-color:  red;\n",
       "            font-family:  Roboto;\n",
       "        }    #T_6bf747d0_41de_11ea_82c8_acde48001122row0_col45 {\n",
       "            background-color:  lightyellow;\n",
       "            color:  #000000;\n",
       "            border-color:  red;\n",
       "            font-family:  Roboto;\n",
       "        }    #T_6bf747d0_41de_11ea_82c8_acde48001122row0_col46 {\n",
       "            background-color:  lightyellow;\n",
       "            color:  #000000;\n",
       "            border-color:  red;\n",
       "            font-family:  Roboto;\n",
       "        }    #T_6bf747d0_41de_11ea_82c8_acde48001122row0_col47 {\n",
       "            background-color:  lightyellow;\n",
       "            color:  #000000;\n",
       "            border-color:  red;\n",
       "            font-family:  Roboto;\n",
       "        }    #T_6bf747d0_41de_11ea_82c8_acde48001122row0_col48 {\n",
       "            background-color:  lightyellow;\n",
       "            color:  #000000;\n",
       "            border-color:  red;\n",
       "            font-family:  Roboto;\n",
       "        }    #T_6bf747d0_41de_11ea_82c8_acde48001122row0_col49 {\n",
       "            background-color:  lightyellow;\n",
       "            color:  #000000;\n",
       "            border-color:  red;\n",
       "            font-family:  Roboto;\n",
       "        }    #T_6bf747d0_41de_11ea_82c8_acde48001122row0_col50 {\n",
       "            background-color:  lightyellow;\n",
       "            color:  #000000;\n",
       "            border-color:  red;\n",
       "            font-family:  Roboto;\n",
       "        }    #T_6bf747d0_41de_11ea_82c8_acde48001122row0_col51 {\n",
       "            background-color:  lightyellow;\n",
       "            color:  #000000;\n",
       "            border-color:  red;\n",
       "            font-family:  Roboto;\n",
       "        }    #T_6bf747d0_41de_11ea_82c8_acde48001122row0_col52 {\n",
       "            background-color:  lightyellow;\n",
       "            color:  #000000;\n",
       "            border-color:  red;\n",
       "            font-family:  Roboto;\n",
       "        }    #T_6bf747d0_41de_11ea_82c8_acde48001122row0_col53 {\n",
       "            background-color:  lightyellow;\n",
       "            color:  #000000;\n",
       "            border-color:  red;\n",
       "            font-family:  Roboto;\n",
       "        }    #T_6bf747d0_41de_11ea_82c8_acde48001122row0_col54 {\n",
       "            background-color:  lightyellow;\n",
       "            color:  #000000;\n",
       "            border-color:  red;\n",
       "            font-family:  Roboto;\n",
       "        }    #T_6bf747d0_41de_11ea_82c8_acde48001122row0_col55 {\n",
       "            background-color:  lightyellow;\n",
       "            color:  #000000;\n",
       "            border-color:  red;\n",
       "            font-family:  Roboto;\n",
       "        }    #T_6bf747d0_41de_11ea_82c8_acde48001122row0_col56 {\n",
       "            background-color:  lightyellow;\n",
       "            color:  #000000;\n",
       "            border-color:  red;\n",
       "            font-family:  Roboto;\n",
       "        }    #T_6bf747d0_41de_11ea_82c8_acde48001122row0_col57 {\n",
       "            background-color:  lightyellow;\n",
       "            color:  #000000;\n",
       "            border-color:  red;\n",
       "            font-family:  Roboto;\n",
       "        }    #T_6bf747d0_41de_11ea_82c8_acde48001122row0_col58 {\n",
       "            background-color:  lightyellow;\n",
       "            color:  #000000;\n",
       "            border-color:  red;\n",
       "            font-family:  Roboto;\n",
       "        }    #T_6bf747d0_41de_11ea_82c8_acde48001122row0_col59 {\n",
       "            background-color:  lightyellow;\n",
       "            color:  #000000;\n",
       "            border-color:  red;\n",
       "            font-family:  Roboto;\n",
       "        }    #T_6bf747d0_41de_11ea_82c8_acde48001122row0_col60 {\n",
       "            background-color:  lightyellow;\n",
       "            color:  #000000;\n",
       "            border-color:  red;\n",
       "            font-family:  Roboto;\n",
       "        }    #T_6bf747d0_41de_11ea_82c8_acde48001122row0_col61 {\n",
       "            background-color:  lightyellow;\n",
       "            color:  #000000;\n",
       "            border-color:  red;\n",
       "            font-family:  Roboto;\n",
       "        }    #T_6bf747d0_41de_11ea_82c8_acde48001122row0_col62 {\n",
       "            background-color:  lightyellow;\n",
       "            color:  #000000;\n",
       "            border-color:  red;\n",
       "            font-family:  Roboto;\n",
       "        }    #T_6bf747d0_41de_11ea_82c8_acde48001122row0_col63 {\n",
       "            background-color:  lightyellow;\n",
       "            color:  #000000;\n",
       "            border-color:  red;\n",
       "            font-family:  Roboto;\n",
       "        }    #T_6bf747d0_41de_11ea_82c8_acde48001122row0_col64 {\n",
       "            background-color:  lightyellow;\n",
       "            color:  #000000;\n",
       "            border-color:  red;\n",
       "            font-family:  Roboto;\n",
       "        }    #T_6bf747d0_41de_11ea_82c8_acde48001122row1_col0 {\n",
       "            background-color:  lightyellow;\n",
       "            color:  #000000;\n",
       "            border-color:  red;\n",
       "            font-family:  Roboto;\n",
       "        }    #T_6bf747d0_41de_11ea_82c8_acde48001122row1_col1 {\n",
       "            background-color:  lightyellow;\n",
       "            color:  #000000;\n",
       "            border-color:  red;\n",
       "            font-family:  Roboto;\n",
       "        }    #T_6bf747d0_41de_11ea_82c8_acde48001122row1_col2 {\n",
       "            background-color:  lightyellow;\n",
       "            color:  #000000;\n",
       "            border-color:  red;\n",
       "            font-family:  Roboto;\n",
       "        }    #T_6bf747d0_41de_11ea_82c8_acde48001122row1_col3 {\n",
       "            background-color:  lightyellow;\n",
       "            color:  #000000;\n",
       "            border-color:  red;\n",
       "            font-family:  Roboto;\n",
       "        }    #T_6bf747d0_41de_11ea_82c8_acde48001122row1_col4 {\n",
       "            background-color:  lightyellow;\n",
       "            color:  #000000;\n",
       "            border-color:  red;\n",
       "            font-family:  Roboto;\n",
       "        }    #T_6bf747d0_41de_11ea_82c8_acde48001122row1_col5 {\n",
       "            background-color:  lightyellow;\n",
       "            color:  #000000;\n",
       "            border-color:  red;\n",
       "            font-family:  Roboto;\n",
       "        }    #T_6bf747d0_41de_11ea_82c8_acde48001122row1_col6 {\n",
       "            background-color:  lightyellow;\n",
       "            color:  #000000;\n",
       "            border-color:  red;\n",
       "            font-family:  Roboto;\n",
       "        }    #T_6bf747d0_41de_11ea_82c8_acde48001122row1_col7 {\n",
       "            background-color:  lightyellow;\n",
       "            color:  #000000;\n",
       "            border-color:  red;\n",
       "            font-family:  Roboto;\n",
       "        }    #T_6bf747d0_41de_11ea_82c8_acde48001122row1_col8 {\n",
       "            background-color:  lightyellow;\n",
       "            color:  #000000;\n",
       "            border-color:  red;\n",
       "            font-family:  Roboto;\n",
       "        }    #T_6bf747d0_41de_11ea_82c8_acde48001122row1_col9 {\n",
       "            background-color:  lightyellow;\n",
       "            color:  #000000;\n",
       "            border-color:  red;\n",
       "            font-family:  Roboto;\n",
       "        }    #T_6bf747d0_41de_11ea_82c8_acde48001122row1_col10 {\n",
       "            background-color:  lightyellow;\n",
       "            color:  #000000;\n",
       "            border-color:  red;\n",
       "            font-family:  Roboto;\n",
       "        }    #T_6bf747d0_41de_11ea_82c8_acde48001122row1_col11 {\n",
       "            background-color:  lightyellow;\n",
       "            color:  #000000;\n",
       "            border-color:  red;\n",
       "            font-family:  Roboto;\n",
       "        }    #T_6bf747d0_41de_11ea_82c8_acde48001122row1_col12 {\n",
       "            background-color:  lightyellow;\n",
       "            color:  #000000;\n",
       "            border-color:  red;\n",
       "            font-family:  Roboto;\n",
       "        }    #T_6bf747d0_41de_11ea_82c8_acde48001122row1_col13 {\n",
       "            background-color:  lightyellow;\n",
       "            color:  #000000;\n",
       "            border-color:  red;\n",
       "            font-family:  Roboto;\n",
       "        }    #T_6bf747d0_41de_11ea_82c8_acde48001122row1_col14 {\n",
       "            background-color:  lightyellow;\n",
       "            color:  #000000;\n",
       "            border-color:  red;\n",
       "            font-family:  Roboto;\n",
       "        }    #T_6bf747d0_41de_11ea_82c8_acde48001122row1_col15 {\n",
       "            background-color:  lightyellow;\n",
       "            color:  #000000;\n",
       "            border-color:  red;\n",
       "            font-family:  Roboto;\n",
       "        }    #T_6bf747d0_41de_11ea_82c8_acde48001122row1_col16 {\n",
       "            background-color:  lightyellow;\n",
       "            color:  #000000;\n",
       "            border-color:  red;\n",
       "            font-family:  Roboto;\n",
       "        }    #T_6bf747d0_41de_11ea_82c8_acde48001122row1_col17 {\n",
       "            background-color:  lightyellow;\n",
       "            color:  #000000;\n",
       "            border-color:  red;\n",
       "            font-family:  Roboto;\n",
       "        }    #T_6bf747d0_41de_11ea_82c8_acde48001122row1_col18 {\n",
       "            background-color:  lightyellow;\n",
       "            color:  #000000;\n",
       "            border-color:  red;\n",
       "            font-family:  Roboto;\n",
       "        }    #T_6bf747d0_41de_11ea_82c8_acde48001122row1_col19 {\n",
       "            background-color:  lightyellow;\n",
       "            color:  #000000;\n",
       "            border-color:  red;\n",
       "            font-family:  Roboto;\n",
       "        }    #T_6bf747d0_41de_11ea_82c8_acde48001122row1_col20 {\n",
       "            background-color:  lightyellow;\n",
       "            color:  #000000;\n",
       "            border-color:  red;\n",
       "            font-family:  Roboto;\n",
       "        }    #T_6bf747d0_41de_11ea_82c8_acde48001122row1_col21 {\n",
       "            background-color:  lightyellow;\n",
       "            color:  #000000;\n",
       "            border-color:  red;\n",
       "            font-family:  Roboto;\n",
       "        }    #T_6bf747d0_41de_11ea_82c8_acde48001122row1_col22 {\n",
       "            background-color:  lightyellow;\n",
       "            color:  #000000;\n",
       "            border-color:  red;\n",
       "            font-family:  Roboto;\n",
       "        }    #T_6bf747d0_41de_11ea_82c8_acde48001122row1_col23 {\n",
       "            background-color:  lightyellow;\n",
       "            color:  #000000;\n",
       "            border-color:  red;\n",
       "            font-family:  Roboto;\n",
       "        }    #T_6bf747d0_41de_11ea_82c8_acde48001122row1_col24 {\n",
       "            background-color:  lightyellow;\n",
       "            color:  #000000;\n",
       "            border-color:  red;\n",
       "            font-family:  Roboto;\n",
       "        }    #T_6bf747d0_41de_11ea_82c8_acde48001122row1_col25 {\n",
       "            background-color:  lightyellow;\n",
       "            color:  #000000;\n",
       "            border-color:  red;\n",
       "            font-family:  Roboto;\n",
       "        }    #T_6bf747d0_41de_11ea_82c8_acde48001122row1_col26 {\n",
       "            background-color:  lightyellow;\n",
       "            color:  #000000;\n",
       "            border-color:  red;\n",
       "            font-family:  Roboto;\n",
       "        }    #T_6bf747d0_41de_11ea_82c8_acde48001122row1_col27 {\n",
       "            background-color:  lightyellow;\n",
       "            color:  #000000;\n",
       "            border-color:  red;\n",
       "            font-family:  Roboto;\n",
       "        }    #T_6bf747d0_41de_11ea_82c8_acde48001122row1_col28 {\n",
       "            background-color:  lightyellow;\n",
       "            color:  #000000;\n",
       "            border-color:  red;\n",
       "            font-family:  Roboto;\n",
       "        }    #T_6bf747d0_41de_11ea_82c8_acde48001122row1_col29 {\n",
       "            background-color:  lightyellow;\n",
       "            color:  #000000;\n",
       "            border-color:  red;\n",
       "            font-family:  Roboto;\n",
       "        }    #T_6bf747d0_41de_11ea_82c8_acde48001122row1_col30 {\n",
       "            background-color:  lightyellow;\n",
       "            color:  #000000;\n",
       "            border-color:  red;\n",
       "            font-family:  Roboto;\n",
       "        }    #T_6bf747d0_41de_11ea_82c8_acde48001122row1_col31 {\n",
       "            background-color:  lightyellow;\n",
       "            color:  #000000;\n",
       "            border-color:  red;\n",
       "            font-family:  Roboto;\n",
       "        }    #T_6bf747d0_41de_11ea_82c8_acde48001122row1_col32 {\n",
       "            background-color:  lightyellow;\n",
       "            color:  #000000;\n",
       "            border-color:  red;\n",
       "            font-family:  Roboto;\n",
       "        }    #T_6bf747d0_41de_11ea_82c8_acde48001122row1_col33 {\n",
       "            background-color:  lightyellow;\n",
       "            color:  #000000;\n",
       "            border-color:  red;\n",
       "            font-family:  Roboto;\n",
       "        }    #T_6bf747d0_41de_11ea_82c8_acde48001122row1_col34 {\n",
       "            background-color:  lightyellow;\n",
       "            color:  #000000;\n",
       "            border-color:  red;\n",
       "            font-family:  Roboto;\n",
       "        }    #T_6bf747d0_41de_11ea_82c8_acde48001122row1_col35 {\n",
       "            background-color:  lightyellow;\n",
       "            color:  #000000;\n",
       "            border-color:  red;\n",
       "            font-family:  Roboto;\n",
       "        }    #T_6bf747d0_41de_11ea_82c8_acde48001122row1_col36 {\n",
       "            background-color:  lightyellow;\n",
       "            color:  #000000;\n",
       "            border-color:  red;\n",
       "            font-family:  Roboto;\n",
       "        }    #T_6bf747d0_41de_11ea_82c8_acde48001122row1_col37 {\n",
       "            background-color:  lightyellow;\n",
       "            color:  #000000;\n",
       "            border-color:  red;\n",
       "            font-family:  Roboto;\n",
       "        }    #T_6bf747d0_41de_11ea_82c8_acde48001122row1_col38 {\n",
       "            background-color:  lightyellow;\n",
       "            color:  #000000;\n",
       "            border-color:  red;\n",
       "            font-family:  Roboto;\n",
       "        }    #T_6bf747d0_41de_11ea_82c8_acde48001122row1_col39 {\n",
       "            background-color:  lightyellow;\n",
       "            color:  #000000;\n",
       "            border-color:  red;\n",
       "            font-family:  Roboto;\n",
       "        }    #T_6bf747d0_41de_11ea_82c8_acde48001122row1_col40 {\n",
       "            background-color:  lightyellow;\n",
       "            color:  #000000;\n",
       "            border-color:  red;\n",
       "            font-family:  Roboto;\n",
       "        }    #T_6bf747d0_41de_11ea_82c8_acde48001122row1_col41 {\n",
       "            background-color:  lightyellow;\n",
       "            color:  #000000;\n",
       "            border-color:  red;\n",
       "            font-family:  Roboto;\n",
       "        }    #T_6bf747d0_41de_11ea_82c8_acde48001122row1_col42 {\n",
       "            background-color:  lightyellow;\n",
       "            color:  #000000;\n",
       "            border-color:  red;\n",
       "            font-family:  Roboto;\n",
       "        }    #T_6bf747d0_41de_11ea_82c8_acde48001122row1_col43 {\n",
       "            background-color:  lightyellow;\n",
       "            color:  #000000;\n",
       "            border-color:  red;\n",
       "            font-family:  Roboto;\n",
       "        }    #T_6bf747d0_41de_11ea_82c8_acde48001122row1_col44 {\n",
       "            background-color:  lightyellow;\n",
       "            color:  #000000;\n",
       "            border-color:  red;\n",
       "            font-family:  Roboto;\n",
       "        }    #T_6bf747d0_41de_11ea_82c8_acde48001122row1_col45 {\n",
       "            background-color:  lightyellow;\n",
       "            color:  #000000;\n",
       "            border-color:  red;\n",
       "            font-family:  Roboto;\n",
       "        }    #T_6bf747d0_41de_11ea_82c8_acde48001122row1_col46 {\n",
       "            background-color:  lightyellow;\n",
       "            color:  #000000;\n",
       "            border-color:  red;\n",
       "            font-family:  Roboto;\n",
       "        }    #T_6bf747d0_41de_11ea_82c8_acde48001122row1_col47 {\n",
       "            background-color:  lightyellow;\n",
       "            color:  #000000;\n",
       "            border-color:  red;\n",
       "            font-family:  Roboto;\n",
       "        }    #T_6bf747d0_41de_11ea_82c8_acde48001122row1_col48 {\n",
       "            background-color:  lightyellow;\n",
       "            color:  #000000;\n",
       "            border-color:  red;\n",
       "            font-family:  Roboto;\n",
       "        }    #T_6bf747d0_41de_11ea_82c8_acde48001122row1_col49 {\n",
       "            background-color:  lightyellow;\n",
       "            color:  #000000;\n",
       "            border-color:  red;\n",
       "            font-family:  Roboto;\n",
       "        }    #T_6bf747d0_41de_11ea_82c8_acde48001122row1_col50 {\n",
       "            background-color:  lightyellow;\n",
       "            color:  #000000;\n",
       "            border-color:  red;\n",
       "            font-family:  Roboto;\n",
       "        }    #T_6bf747d0_41de_11ea_82c8_acde48001122row1_col51 {\n",
       "            background-color:  lightyellow;\n",
       "            color:  #000000;\n",
       "            border-color:  red;\n",
       "            font-family:  Roboto;\n",
       "        }    #T_6bf747d0_41de_11ea_82c8_acde48001122row1_col52 {\n",
       "            background-color:  lightyellow;\n",
       "            color:  #000000;\n",
       "            border-color:  red;\n",
       "            font-family:  Roboto;\n",
       "        }    #T_6bf747d0_41de_11ea_82c8_acde48001122row1_col53 {\n",
       "            background-color:  lightyellow;\n",
       "            color:  #000000;\n",
       "            border-color:  red;\n",
       "            font-family:  Roboto;\n",
       "        }    #T_6bf747d0_41de_11ea_82c8_acde48001122row1_col54 {\n",
       "            background-color:  lightyellow;\n",
       "            color:  #000000;\n",
       "            border-color:  red;\n",
       "            font-family:  Roboto;\n",
       "        }    #T_6bf747d0_41de_11ea_82c8_acde48001122row1_col55 {\n",
       "            background-color:  lightyellow;\n",
       "            color:  #000000;\n",
       "            border-color:  red;\n",
       "            font-family:  Roboto;\n",
       "        }    #T_6bf747d0_41de_11ea_82c8_acde48001122row1_col56 {\n",
       "            background-color:  lightyellow;\n",
       "            color:  #000000;\n",
       "            border-color:  red;\n",
       "            font-family:  Roboto;\n",
       "        }    #T_6bf747d0_41de_11ea_82c8_acde48001122row1_col57 {\n",
       "            background-color:  lightyellow;\n",
       "            color:  #000000;\n",
       "            border-color:  red;\n",
       "            font-family:  Roboto;\n",
       "        }    #T_6bf747d0_41de_11ea_82c8_acde48001122row1_col58 {\n",
       "            background-color:  lightyellow;\n",
       "            color:  #000000;\n",
       "            border-color:  red;\n",
       "            font-family:  Roboto;\n",
       "        }    #T_6bf747d0_41de_11ea_82c8_acde48001122row1_col59 {\n",
       "            background-color:  lightyellow;\n",
       "            color:  #000000;\n",
       "            border-color:  red;\n",
       "            font-family:  Roboto;\n",
       "        }    #T_6bf747d0_41de_11ea_82c8_acde48001122row1_col60 {\n",
       "            background-color:  lightyellow;\n",
       "            color:  #000000;\n",
       "            border-color:  red;\n",
       "            font-family:  Roboto;\n",
       "        }    #T_6bf747d0_41de_11ea_82c8_acde48001122row1_col61 {\n",
       "            background-color:  lightyellow;\n",
       "            color:  #000000;\n",
       "            border-color:  red;\n",
       "            font-family:  Roboto;\n",
       "        }    #T_6bf747d0_41de_11ea_82c8_acde48001122row1_col62 {\n",
       "            background-color:  lightyellow;\n",
       "            color:  #000000;\n",
       "            border-color:  red;\n",
       "            font-family:  Roboto;\n",
       "        }    #T_6bf747d0_41de_11ea_82c8_acde48001122row1_col63 {\n",
       "            background-color:  lightyellow;\n",
       "            color:  #000000;\n",
       "            border-color:  red;\n",
       "            font-family:  Roboto;\n",
       "        }    #T_6bf747d0_41de_11ea_82c8_acde48001122row1_col64 {\n",
       "            background-color:  lightyellow;\n",
       "            color:  #000000;\n",
       "            border-color:  red;\n",
       "            font-family:  Roboto;\n",
       "        }</style><table id=\"T_6bf747d0_41de_11ea_82c8_acde48001122\" ><thead>    <tr>        <th class=\"blank level0\" ></th>        <th class=\"col_heading level0 col0\" >What Country or Region do you live in?</th>        <th class=\"col_heading level0 col1\" >Which US State or Territory do you live in?</th>        <th class=\"col_heading level0 col2\" >How old are you?</th>        <th class=\"col_heading level0 col3\" >How many years of IT/Programming experience do you have?</th>        <th class=\"col_heading level0 col4\" >How would you best describe the industry you work in?</th>        <th class=\"col_heading level0 col5\" >Which best describes the size of your company?</th>        <th class=\"col_heading level0 col6\" >Which of the following best describes your occupation?</th>        <th class=\"col_heading level0 col7\" >How likely is it that a recommendation you make will be acted upon?</th>        <th class=\"col_heading level0 col8\" >What is your involvement in purchasing? You can choose more than 1.</th>        <th class=\"col_heading level0 col9\" >Unnamed: 9</th>        <th class=\"col_heading level0 col10\" >Unnamed: 10</th>        <th class=\"col_heading level0 col11\" >Unnamed: 11</th>        <th class=\"col_heading level0 col12\" >Unnamed: 12</th>        <th class=\"col_heading level0 col13\" >Unnamed: 13</th>        <th class=\"col_heading level0 col14\" >Unnamed: 14</th>        <th class=\"col_heading level0 col15\" >What types of purchases are you involved in?</th>        <th class=\"col_heading level0 col16\" >Unnamed: 16</th>        <th class=\"col_heading level0 col17\" >Unnamed: 17</th>        <th class=\"col_heading level0 col18\" >Unnamed: 18</th>        <th class=\"col_heading level0 col19\" >Unnamed: 19</th>        <th class=\"col_heading level0 col20\" >Unnamed: 20</th>        <th class=\"col_heading level0 col21\" >What is your budget for outside expenditures (hardware, software, consulting, etc) for 2011?</th>        <th class=\"col_heading level0 col22\" >Unnamed: 22</th>        <th class=\"col_heading level0 col23\" >Unnamed: 23</th>        <th class=\"col_heading level0 col24\" >Unnamed: 24</th>        <th class=\"col_heading level0 col25\" >Unnamed: 25</th>        <th class=\"col_heading level0 col26\" >Unnamed: 26</th>        <th class=\"col_heading level0 col27\" >Unnamed: 27</th>        <th class=\"col_heading level0 col28\" >Unnamed: 28</th>        <th class=\"col_heading level0 col29\" >What type of project are you developing?</th>        <th class=\"col_heading level0 col30\" >Which languages are you proficient in?</th>        <th class=\"col_heading level0 col31\" >Unnamed: 31</th>        <th class=\"col_heading level0 col32\" >Unnamed: 32</th>        <th class=\"col_heading level0 col33\" >Unnamed: 33</th>        <th class=\"col_heading level0 col34\" >Unnamed: 34</th>        <th class=\"col_heading level0 col35\" >Unnamed: 35</th>        <th class=\"col_heading level0 col36\" >Unnamed: 36</th>        <th class=\"col_heading level0 col37\" >Unnamed: 37</th>        <th class=\"col_heading level0 col38\" >Unnamed: 38</th>        <th class=\"col_heading level0 col39\" >Unnamed: 39</th>        <th class=\"col_heading level0 col40\" >Unnamed: 40</th>        <th class=\"col_heading level0 col41\" >Unnamed: 41</th>        <th class=\"col_heading level0 col42\" >Unnamed: 42</th>        <th class=\"col_heading level0 col43\" >What operating system do you use the most?</th>        <th class=\"col_heading level0 col44\" >Please rate your job/career satisfaction</th>        <th class=\"col_heading level0 col45\" >Including bonus, what is your annual compensation in USD?</th>        <th class=\"col_heading level0 col46\" >Which technology products do you own? (You can choose more than one)</th>        <th class=\"col_heading level0 col47\" >Unnamed: 47</th>        <th class=\"col_heading level0 col48\" >Unnamed: 48</th>        <th class=\"col_heading level0 col49\" >Unnamed: 49</th>        <th class=\"col_heading level0 col50\" >Unnamed: 50</th>        <th class=\"col_heading level0 col51\" >Unnamed: 51</th>        <th class=\"col_heading level0 col52\" >Unnamed: 52</th>        <th class=\"col_heading level0 col53\" >Unnamed: 53</th>        <th class=\"col_heading level0 col54\" >Unnamed: 54</th>        <th class=\"col_heading level0 col55\" >Unnamed: 55</th>        <th class=\"col_heading level0 col56\" >Unnamed: 56</th>        <th class=\"col_heading level0 col57\" >Unnamed: 57</th>        <th class=\"col_heading level0 col58\" >Unnamed: 58</th>        <th class=\"col_heading level0 col59\" >Unnamed: 59</th>        <th class=\"col_heading level0 col60\" >Unnamed: 60</th>        <th class=\"col_heading level0 col61\" >Unnamed: 61</th>        <th class=\"col_heading level0 col62\" >Unnamed: 62</th>        <th class=\"col_heading level0 col63\" >In the last 12 months, how much money have you spent on personal technology-related purchases? </th>        <th class=\"col_heading level0 col64\" >Which of our sites do you frequent most?</th>    </tr></thead><tbody>\n",
       "                <tr>\n",
       "                        <th id=\"T_6bf747d0_41de_11ea_82c8_acde48001122level0_row0\" class=\"row_heading level0 row0\" >0</th>\n",
       "                        <td id=\"T_6bf747d0_41de_11ea_82c8_acde48001122row0_col0\" class=\"data row0 col0\" >Response</td>\n",
       "                        <td id=\"T_6bf747d0_41de_11ea_82c8_acde48001122row0_col1\" class=\"data row0 col1\" >Response</td>\n",
       "                        <td id=\"T_6bf747d0_41de_11ea_82c8_acde48001122row0_col2\" class=\"data row0 col2\" >Response</td>\n",
       "                        <td id=\"T_6bf747d0_41de_11ea_82c8_acde48001122row0_col3\" class=\"data row0 col3\" >Response</td>\n",
       "                        <td id=\"T_6bf747d0_41de_11ea_82c8_acde48001122row0_col4\" class=\"data row0 col4\" >Response</td>\n",
       "                        <td id=\"T_6bf747d0_41de_11ea_82c8_acde48001122row0_col5\" class=\"data row0 col5\" >Response</td>\n",
       "                        <td id=\"T_6bf747d0_41de_11ea_82c8_acde48001122row0_col6\" class=\"data row0 col6\" >Response</td>\n",
       "                        <td id=\"T_6bf747d0_41de_11ea_82c8_acde48001122row0_col7\" class=\"data row0 col7\" >Response</td>\n",
       "                        <td id=\"T_6bf747d0_41de_11ea_82c8_acde48001122row0_col8\" class=\"data row0 col8\" >Influencer</td>\n",
       "                        <td id=\"T_6bf747d0_41de_11ea_82c8_acde48001122row0_col9\" class=\"data row0 col9\" >Recommender</td>\n",
       "                        <td id=\"T_6bf747d0_41de_11ea_82c8_acde48001122row0_col10\" class=\"data row0 col10\" >Approver</td>\n",
       "                        <td id=\"T_6bf747d0_41de_11ea_82c8_acde48001122row0_col11\" class=\"data row0 col11\" >Purchaser</td>\n",
       "                        <td id=\"T_6bf747d0_41de_11ea_82c8_acde48001122row0_col12\" class=\"data row0 col12\" >Check Writer</td>\n",
       "                        <td id=\"T_6bf747d0_41de_11ea_82c8_acde48001122row0_col13\" class=\"data row0 col13\" >No Involvement</td>\n",
       "                        <td id=\"T_6bf747d0_41de_11ea_82c8_acde48001122row0_col14\" class=\"data row0 col14\" >I'm a Seller</td>\n",
       "                        <td id=\"T_6bf747d0_41de_11ea_82c8_acde48001122row0_col15\" class=\"data row0 col15\" >Hardware</td>\n",
       "                        <td id=\"T_6bf747d0_41de_11ea_82c8_acde48001122row0_col16\" class=\"data row0 col16\" >Servers</td>\n",
       "                        <td id=\"T_6bf747d0_41de_11ea_82c8_acde48001122row0_col17\" class=\"data row0 col17\" >Software</td>\n",
       "                        <td id=\"T_6bf747d0_41de_11ea_82c8_acde48001122row0_col18\" class=\"data row0 col18\" >User Equipment: Monitors, PCs, Laptops</td>\n",
       "                        <td id=\"T_6bf747d0_41de_11ea_82c8_acde48001122row0_col19\" class=\"data row0 col19\" >Consultants</td>\n",
       "                        <td id=\"T_6bf747d0_41de_11ea_82c8_acde48001122row0_col20\" class=\"data row0 col20\" >Other</td>\n",
       "                        <td id=\"T_6bf747d0_41de_11ea_82c8_acde48001122row0_col21\" class=\"data row0 col21\" ><$10,000</td>\n",
       "                        <td id=\"T_6bf747d0_41de_11ea_82c8_acde48001122row0_col22\" class=\"data row0 col22\" >$10,001 - $25,000</td>\n",
       "                        <td id=\"T_6bf747d0_41de_11ea_82c8_acde48001122row0_col23\" class=\"data row0 col23\" >$25,001 - $40,000</td>\n",
       "                        <td id=\"T_6bf747d0_41de_11ea_82c8_acde48001122row0_col24\" class=\"data row0 col24\" >$41,000 - $75,000</td>\n",
       "                        <td id=\"T_6bf747d0_41de_11ea_82c8_acde48001122row0_col25\" class=\"data row0 col25\" >$75,001 - $100,000</td>\n",
       "                        <td id=\"T_6bf747d0_41de_11ea_82c8_acde48001122row0_col26\" class=\"data row0 col26\" >$100,001 - $150,000</td>\n",
       "                        <td id=\"T_6bf747d0_41de_11ea_82c8_acde48001122row0_col27\" class=\"data row0 col27\" >>$150,000</td>\n",
       "                        <td id=\"T_6bf747d0_41de_11ea_82c8_acde48001122row0_col28\" class=\"data row0 col28\" >Don't know</td>\n",
       "                        <td id=\"T_6bf747d0_41de_11ea_82c8_acde48001122row0_col29\" class=\"data row0 col29\" >Response</td>\n",
       "                        <td id=\"T_6bf747d0_41de_11ea_82c8_acde48001122row0_col30\" class=\"data row0 col30\" >Java</td>\n",
       "                        <td id=\"T_6bf747d0_41de_11ea_82c8_acde48001122row0_col31\" class=\"data row0 col31\" >JavaScript</td>\n",
       "                        <td id=\"T_6bf747d0_41de_11ea_82c8_acde48001122row0_col32\" class=\"data row0 col32\" >CSS</td>\n",
       "                        <td id=\"T_6bf747d0_41de_11ea_82c8_acde48001122row0_col33\" class=\"data row0 col33\" >PHP</td>\n",
       "                        <td id=\"T_6bf747d0_41de_11ea_82c8_acde48001122row0_col34\" class=\"data row0 col34\" >Python</td>\n",
       "                        <td id=\"T_6bf747d0_41de_11ea_82c8_acde48001122row0_col35\" class=\"data row0 col35\" >Ruby</td>\n",
       "                        <td id=\"T_6bf747d0_41de_11ea_82c8_acde48001122row0_col36\" class=\"data row0 col36\" >SQL</td>\n",
       "                        <td id=\"T_6bf747d0_41de_11ea_82c8_acde48001122row0_col37\" class=\"data row0 col37\" >C#</td>\n",
       "                        <td id=\"T_6bf747d0_41de_11ea_82c8_acde48001122row0_col38\" class=\"data row0 col38\" >C++</td>\n",
       "                        <td id=\"T_6bf747d0_41de_11ea_82c8_acde48001122row0_col39\" class=\"data row0 col39\" >C</td>\n",
       "                        <td id=\"T_6bf747d0_41de_11ea_82c8_acde48001122row0_col40\" class=\"data row0 col40\" >Perl</td>\n",
       "                        <td id=\"T_6bf747d0_41de_11ea_82c8_acde48001122row0_col41\" class=\"data row0 col41\" >None</td>\n",
       "                        <td id=\"T_6bf747d0_41de_11ea_82c8_acde48001122row0_col42\" class=\"data row0 col42\" >other (please specify)</td>\n",
       "                        <td id=\"T_6bf747d0_41de_11ea_82c8_acde48001122row0_col43\" class=\"data row0 col43\" >Response</td>\n",
       "                        <td id=\"T_6bf747d0_41de_11ea_82c8_acde48001122row0_col44\" class=\"data row0 col44\" >Response</td>\n",
       "                        <td id=\"T_6bf747d0_41de_11ea_82c8_acde48001122row0_col45\" class=\"data row0 col45\" >Response</td>\n",
       "                        <td id=\"T_6bf747d0_41de_11ea_82c8_acde48001122row0_col46\" class=\"data row0 col46\" >iPhone</td>\n",
       "                        <td id=\"T_6bf747d0_41de_11ea_82c8_acde48001122row0_col47\" class=\"data row0 col47\" >Android</td>\n",
       "                        <td id=\"T_6bf747d0_41de_11ea_82c8_acde48001122row0_col48\" class=\"data row0 col48\" >Blackberry</td>\n",
       "                        <td id=\"T_6bf747d0_41de_11ea_82c8_acde48001122row0_col49\" class=\"data row0 col49\" >Other Smart Phone</td>\n",
       "                        <td id=\"T_6bf747d0_41de_11ea_82c8_acde48001122row0_col50\" class=\"data row0 col50\" >Regular Mobile Phone</td>\n",
       "                        <td id=\"T_6bf747d0_41de_11ea_82c8_acde48001122row0_col51\" class=\"data row0 col51\" >Kindle</td>\n",
       "                        <td id=\"T_6bf747d0_41de_11ea_82c8_acde48001122row0_col52\" class=\"data row0 col52\" >Nook</td>\n",
       "                        <td id=\"T_6bf747d0_41de_11ea_82c8_acde48001122row0_col53\" class=\"data row0 col53\" >Blu-Ray</td>\n",
       "                        <td id=\"T_6bf747d0_41de_11ea_82c8_acde48001122row0_col54\" class=\"data row0 col54\" >HDTV</td>\n",
       "                        <td id=\"T_6bf747d0_41de_11ea_82c8_acde48001122row0_col55\" class=\"data row0 col55\" >AppleTV</td>\n",
       "                        <td id=\"T_6bf747d0_41de_11ea_82c8_acde48001122row0_col56\" class=\"data row0 col56\" >iPad</td>\n",
       "                        <td id=\"T_6bf747d0_41de_11ea_82c8_acde48001122row0_col57\" class=\"data row0 col57\" >Other netbook</td>\n",
       "                        <td id=\"T_6bf747d0_41de_11ea_82c8_acde48001122row0_col58\" class=\"data row0 col58\" >PS3</td>\n",
       "                        <td id=\"T_6bf747d0_41de_11ea_82c8_acde48001122row0_col59\" class=\"data row0 col59\" >Xbox</td>\n",
       "                        <td id=\"T_6bf747d0_41de_11ea_82c8_acde48001122row0_col60\" class=\"data row0 col60\" >Wii</td>\n",
       "                        <td id=\"T_6bf747d0_41de_11ea_82c8_acde48001122row0_col61\" class=\"data row0 col61\" >Other gaming system</td>\n",
       "                        <td id=\"T_6bf747d0_41de_11ea_82c8_acde48001122row0_col62\" class=\"data row0 col62\" >other (please specify)</td>\n",
       "                        <td id=\"T_6bf747d0_41de_11ea_82c8_acde48001122row0_col63\" class=\"data row0 col63\" >Response</td>\n",
       "                        <td id=\"T_6bf747d0_41de_11ea_82c8_acde48001122row0_col64\" class=\"data row0 col64\" >Response</td>\n",
       "            </tr>\n",
       "            <tr>\n",
       "                        <th id=\"T_6bf747d0_41de_11ea_82c8_acde48001122level0_row1\" class=\"row_heading level0 row1\" >1</th>\n",
       "                        <td id=\"T_6bf747d0_41de_11ea_82c8_acde48001122row1_col0\" class=\"data row1 col0\" >Africa</td>\n",
       "                        <td id=\"T_6bf747d0_41de_11ea_82c8_acde48001122row1_col1\" class=\"data row1 col1\" >nan</td>\n",
       "                        <td id=\"T_6bf747d0_41de_11ea_82c8_acde48001122row1_col2\" class=\"data row1 col2\" >< 20</td>\n",
       "                        <td id=\"T_6bf747d0_41de_11ea_82c8_acde48001122row1_col3\" class=\"data row1 col3\" ><2</td>\n",
       "                        <td id=\"T_6bf747d0_41de_11ea_82c8_acde48001122row1_col4\" class=\"data row1 col4\" >Consulting</td>\n",
       "                        <td id=\"T_6bf747d0_41de_11ea_82c8_acde48001122row1_col5\" class=\"data row1 col5\" >Start Up (1-25)</td>\n",
       "                        <td id=\"T_6bf747d0_41de_11ea_82c8_acde48001122row1_col6\" class=\"data row1 col6\" >Web Application Developer</td>\n",
       "                        <td id=\"T_6bf747d0_41de_11ea_82c8_acde48001122row1_col7\" class=\"data row1 col7\" >Not in a million years</td>\n",
       "                        <td id=\"T_6bf747d0_41de_11ea_82c8_acde48001122row1_col8\" class=\"data row1 col8\" >nan</td>\n",
       "                        <td id=\"T_6bf747d0_41de_11ea_82c8_acde48001122row1_col9\" class=\"data row1 col9\" >nan</td>\n",
       "                        <td id=\"T_6bf747d0_41de_11ea_82c8_acde48001122row1_col10\" class=\"data row1 col10\" >Approver</td>\n",
       "                        <td id=\"T_6bf747d0_41de_11ea_82c8_acde48001122row1_col11\" class=\"data row1 col11\" >nan</td>\n",
       "                        <td id=\"T_6bf747d0_41de_11ea_82c8_acde48001122row1_col12\" class=\"data row1 col12\" >nan</td>\n",
       "                        <td id=\"T_6bf747d0_41de_11ea_82c8_acde48001122row1_col13\" class=\"data row1 col13\" >nan</td>\n",
       "                        <td id=\"T_6bf747d0_41de_11ea_82c8_acde48001122row1_col14\" class=\"data row1 col14\" >nan</td>\n",
       "                        <td id=\"T_6bf747d0_41de_11ea_82c8_acde48001122row1_col15\" class=\"data row1 col15\" >nan</td>\n",
       "                        <td id=\"T_6bf747d0_41de_11ea_82c8_acde48001122row1_col16\" class=\"data row1 col16\" >nan</td>\n",
       "                        <td id=\"T_6bf747d0_41de_11ea_82c8_acde48001122row1_col17\" class=\"data row1 col17\" >Software</td>\n",
       "                        <td id=\"T_6bf747d0_41de_11ea_82c8_acde48001122row1_col18\" class=\"data row1 col18\" >nan</td>\n",
       "                        <td id=\"T_6bf747d0_41de_11ea_82c8_acde48001122row1_col19\" class=\"data row1 col19\" >nan</td>\n",
       "                        <td id=\"T_6bf747d0_41de_11ea_82c8_acde48001122row1_col20\" class=\"data row1 col20\" >nan</td>\n",
       "                        <td id=\"T_6bf747d0_41de_11ea_82c8_acde48001122row1_col21\" class=\"data row1 col21\" >nan</td>\n",
       "                        <td id=\"T_6bf747d0_41de_11ea_82c8_acde48001122row1_col22\" class=\"data row1 col22\" >nan</td>\n",
       "                        <td id=\"T_6bf747d0_41de_11ea_82c8_acde48001122row1_col23\" class=\"data row1 col23\" >$25,001 - $40,000</td>\n",
       "                        <td id=\"T_6bf747d0_41de_11ea_82c8_acde48001122row1_col24\" class=\"data row1 col24\" >nan</td>\n",
       "                        <td id=\"T_6bf747d0_41de_11ea_82c8_acde48001122row1_col25\" class=\"data row1 col25\" >nan</td>\n",
       "                        <td id=\"T_6bf747d0_41de_11ea_82c8_acde48001122row1_col26\" class=\"data row1 col26\" >nan</td>\n",
       "                        <td id=\"T_6bf747d0_41de_11ea_82c8_acde48001122row1_col27\" class=\"data row1 col27\" >nan</td>\n",
       "                        <td id=\"T_6bf747d0_41de_11ea_82c8_acde48001122row1_col28\" class=\"data row1 col28\" >nan</td>\n",
       "                        <td id=\"T_6bf747d0_41de_11ea_82c8_acde48001122row1_col29\" class=\"data row1 col29\" >Mobile</td>\n",
       "                        <td id=\"T_6bf747d0_41de_11ea_82c8_acde48001122row1_col30\" class=\"data row1 col30\" >nan</td>\n",
       "                        <td id=\"T_6bf747d0_41de_11ea_82c8_acde48001122row1_col31\" class=\"data row1 col31\" >JavaScript</td>\n",
       "                        <td id=\"T_6bf747d0_41de_11ea_82c8_acde48001122row1_col32\" class=\"data row1 col32\" >nan</td>\n",
       "                        <td id=\"T_6bf747d0_41de_11ea_82c8_acde48001122row1_col33\" class=\"data row1 col33\" >nan</td>\n",
       "                        <td id=\"T_6bf747d0_41de_11ea_82c8_acde48001122row1_col34\" class=\"data row1 col34\" >nan</td>\n",
       "                        <td id=\"T_6bf747d0_41de_11ea_82c8_acde48001122row1_col35\" class=\"data row1 col35\" >nan</td>\n",
       "                        <td id=\"T_6bf747d0_41de_11ea_82c8_acde48001122row1_col36\" class=\"data row1 col36\" >nan</td>\n",
       "                        <td id=\"T_6bf747d0_41de_11ea_82c8_acde48001122row1_col37\" class=\"data row1 col37\" >nan</td>\n",
       "                        <td id=\"T_6bf747d0_41de_11ea_82c8_acde48001122row1_col38\" class=\"data row1 col38\" >nan</td>\n",
       "                        <td id=\"T_6bf747d0_41de_11ea_82c8_acde48001122row1_col39\" class=\"data row1 col39\" >nan</td>\n",
       "                        <td id=\"T_6bf747d0_41de_11ea_82c8_acde48001122row1_col40\" class=\"data row1 col40\" >nan</td>\n",
       "                        <td id=\"T_6bf747d0_41de_11ea_82c8_acde48001122row1_col41\" class=\"data row1 col41\" >nan</td>\n",
       "                        <td id=\"T_6bf747d0_41de_11ea_82c8_acde48001122row1_col42\" class=\"data row1 col42\" >nan</td>\n",
       "                        <td id=\"T_6bf747d0_41de_11ea_82c8_acde48001122row1_col43\" class=\"data row1 col43\" >Linux</td>\n",
       "                        <td id=\"T_6bf747d0_41de_11ea_82c8_acde48001122row1_col44\" class=\"data row1 col44\" >FML</td>\n",
       "                        <td id=\"T_6bf747d0_41de_11ea_82c8_acde48001122row1_col45\" class=\"data row1 col45\" >Student / Unemployed</td>\n",
       "                        <td id=\"T_6bf747d0_41de_11ea_82c8_acde48001122row1_col46\" class=\"data row1 col46\" >iPhone</td>\n",
       "                        <td id=\"T_6bf747d0_41de_11ea_82c8_acde48001122row1_col47\" class=\"data row1 col47\" >nan</td>\n",
       "                        <td id=\"T_6bf747d0_41de_11ea_82c8_acde48001122row1_col48\" class=\"data row1 col48\" >nan</td>\n",
       "                        <td id=\"T_6bf747d0_41de_11ea_82c8_acde48001122row1_col49\" class=\"data row1 col49\" >nan</td>\n",
       "                        <td id=\"T_6bf747d0_41de_11ea_82c8_acde48001122row1_col50\" class=\"data row1 col50\" >nan</td>\n",
       "                        <td id=\"T_6bf747d0_41de_11ea_82c8_acde48001122row1_col51\" class=\"data row1 col51\" >nan</td>\n",
       "                        <td id=\"T_6bf747d0_41de_11ea_82c8_acde48001122row1_col52\" class=\"data row1 col52\" >nan</td>\n",
       "                        <td id=\"T_6bf747d0_41de_11ea_82c8_acde48001122row1_col53\" class=\"data row1 col53\" >nan</td>\n",
       "                        <td id=\"T_6bf747d0_41de_11ea_82c8_acde48001122row1_col54\" class=\"data row1 col54\" >nan</td>\n",
       "                        <td id=\"T_6bf747d0_41de_11ea_82c8_acde48001122row1_col55\" class=\"data row1 col55\" >nan</td>\n",
       "                        <td id=\"T_6bf747d0_41de_11ea_82c8_acde48001122row1_col56\" class=\"data row1 col56\" >nan</td>\n",
       "                        <td id=\"T_6bf747d0_41de_11ea_82c8_acde48001122row1_col57\" class=\"data row1 col57\" >nan</td>\n",
       "                        <td id=\"T_6bf747d0_41de_11ea_82c8_acde48001122row1_col58\" class=\"data row1 col58\" >nan</td>\n",
       "                        <td id=\"T_6bf747d0_41de_11ea_82c8_acde48001122row1_col59\" class=\"data row1 col59\" >nan</td>\n",
       "                        <td id=\"T_6bf747d0_41de_11ea_82c8_acde48001122row1_col60\" class=\"data row1 col60\" >nan</td>\n",
       "                        <td id=\"T_6bf747d0_41de_11ea_82c8_acde48001122row1_col61\" class=\"data row1 col61\" >nan</td>\n",
       "                        <td id=\"T_6bf747d0_41de_11ea_82c8_acde48001122row1_col62\" class=\"data row1 col62\" >nan</td>\n",
       "                        <td id=\"T_6bf747d0_41de_11ea_82c8_acde48001122row1_col63\" class=\"data row1 col63\" ><$100</td>\n",
       "                        <td id=\"T_6bf747d0_41de_11ea_82c8_acde48001122row1_col64\" class=\"data row1 col64\" >nan</td>\n",
       "            </tr>\n",
       "    </tbody></table>"
      ],
      "text/plain": [
       "<pandas.io.formats.style.Styler at 0x1c56b198d0>"
      ]
     },
     "execution_count": 516,
     "metadata": {},
     "output_type": "execute_result"
    }
   ],
   "source": [
    "survey_2011 = pd.read_csv(\"survey_results_public_2011.csv\",sep = \",\",engine='python')\n",
    "survey_2011.head(2).style.set_properties(**style_dict)"
   ]
  },
  {
   "cell_type": "code",
   "execution_count": 517,
   "metadata": {
    "collapsed": true
   },
   "outputs": [
    {
     "data": {
      "text/html": [
       "<style  type=\"text/css\" >\n",
       "    #T_6c12279e_41de_11ea_82c8_acde48001122row0_col0 {\n",
       "            background-color:  lightyellow;\n",
       "            color:  #000000;\n",
       "            border-color:  red;\n",
       "            font-family:  Roboto;\n",
       "        }    #T_6c12279e_41de_11ea_82c8_acde48001122row0_col1 {\n",
       "            background-color:  lightyellow;\n",
       "            color:  #000000;\n",
       "            border-color:  red;\n",
       "            font-family:  Roboto;\n",
       "        }    #T_6c12279e_41de_11ea_82c8_acde48001122row0_col2 {\n",
       "            background-color:  lightyellow;\n",
       "            color:  #000000;\n",
       "            border-color:  red;\n",
       "            font-family:  Roboto;\n",
       "        }    #T_6c12279e_41de_11ea_82c8_acde48001122row0_col3 {\n",
       "            background-color:  lightyellow;\n",
       "            color:  #000000;\n",
       "            border-color:  red;\n",
       "            font-family:  Roboto;\n",
       "        }    #T_6c12279e_41de_11ea_82c8_acde48001122row0_col4 {\n",
       "            background-color:  lightyellow;\n",
       "            color:  #000000;\n",
       "            border-color:  red;\n",
       "            font-family:  Roboto;\n",
       "        }    #T_6c12279e_41de_11ea_82c8_acde48001122row0_col5 {\n",
       "            background-color:  lightyellow;\n",
       "            color:  #000000;\n",
       "            border-color:  red;\n",
       "            font-family:  Roboto;\n",
       "        }    #T_6c12279e_41de_11ea_82c8_acde48001122row0_col6 {\n",
       "            background-color:  lightyellow;\n",
       "            color:  #000000;\n",
       "            border-color:  red;\n",
       "            font-family:  Roboto;\n",
       "        }    #T_6c12279e_41de_11ea_82c8_acde48001122row0_col7 {\n",
       "            background-color:  lightyellow;\n",
       "            color:  #000000;\n",
       "            border-color:  red;\n",
       "            font-family:  Roboto;\n",
       "        }    #T_6c12279e_41de_11ea_82c8_acde48001122row0_col8 {\n",
       "            background-color:  lightyellow;\n",
       "            color:  #000000;\n",
       "            border-color:  red;\n",
       "            font-family:  Roboto;\n",
       "        }    #T_6c12279e_41de_11ea_82c8_acde48001122row0_col9 {\n",
       "            background-color:  lightyellow;\n",
       "            color:  #000000;\n",
       "            border-color:  red;\n",
       "            font-family:  Roboto;\n",
       "        }    #T_6c12279e_41de_11ea_82c8_acde48001122row0_col10 {\n",
       "            background-color:  lightyellow;\n",
       "            color:  #000000;\n",
       "            border-color:  red;\n",
       "            font-family:  Roboto;\n",
       "        }    #T_6c12279e_41de_11ea_82c8_acde48001122row0_col11 {\n",
       "            background-color:  lightyellow;\n",
       "            color:  #000000;\n",
       "            border-color:  red;\n",
       "            font-family:  Roboto;\n",
       "        }    #T_6c12279e_41de_11ea_82c8_acde48001122row0_col12 {\n",
       "            background-color:  lightyellow;\n",
       "            color:  #000000;\n",
       "            border-color:  red;\n",
       "            font-family:  Roboto;\n",
       "        }    #T_6c12279e_41de_11ea_82c8_acde48001122row0_col13 {\n",
       "            background-color:  lightyellow;\n",
       "            color:  #000000;\n",
       "            border-color:  red;\n",
       "            font-family:  Roboto;\n",
       "        }    #T_6c12279e_41de_11ea_82c8_acde48001122row0_col14 {\n",
       "            background-color:  lightyellow;\n",
       "            color:  #000000;\n",
       "            border-color:  red;\n",
       "            font-family:  Roboto;\n",
       "        }    #T_6c12279e_41de_11ea_82c8_acde48001122row0_col15 {\n",
       "            background-color:  lightyellow;\n",
       "            color:  #000000;\n",
       "            border-color:  red;\n",
       "            font-family:  Roboto;\n",
       "        }    #T_6c12279e_41de_11ea_82c8_acde48001122row0_col16 {\n",
       "            background-color:  lightyellow;\n",
       "            color:  #000000;\n",
       "            border-color:  red;\n",
       "            font-family:  Roboto;\n",
       "        }    #T_6c12279e_41de_11ea_82c8_acde48001122row0_col17 {\n",
       "            background-color:  lightyellow;\n",
       "            color:  #000000;\n",
       "            border-color:  red;\n",
       "            font-family:  Roboto;\n",
       "        }    #T_6c12279e_41de_11ea_82c8_acde48001122row0_col18 {\n",
       "            background-color:  lightyellow;\n",
       "            color:  #000000;\n",
       "            border-color:  red;\n",
       "            font-family:  Roboto;\n",
       "        }    #T_6c12279e_41de_11ea_82c8_acde48001122row0_col19 {\n",
       "            background-color:  lightyellow;\n",
       "            color:  #000000;\n",
       "            border-color:  red;\n",
       "            font-family:  Roboto;\n",
       "        }    #T_6c12279e_41de_11ea_82c8_acde48001122row0_col20 {\n",
       "            background-color:  lightyellow;\n",
       "            color:  #000000;\n",
       "            border-color:  red;\n",
       "            font-family:  Roboto;\n",
       "        }    #T_6c12279e_41de_11ea_82c8_acde48001122row0_col21 {\n",
       "            background-color:  lightyellow;\n",
       "            color:  #000000;\n",
       "            border-color:  red;\n",
       "            font-family:  Roboto;\n",
       "        }    #T_6c12279e_41de_11ea_82c8_acde48001122row0_col22 {\n",
       "            background-color:  lightyellow;\n",
       "            color:  #000000;\n",
       "            border-color:  red;\n",
       "            font-family:  Roboto;\n",
       "        }    #T_6c12279e_41de_11ea_82c8_acde48001122row0_col23 {\n",
       "            background-color:  lightyellow;\n",
       "            color:  #000000;\n",
       "            border-color:  red;\n",
       "            font-family:  Roboto;\n",
       "        }    #T_6c12279e_41de_11ea_82c8_acde48001122row0_col24 {\n",
       "            background-color:  lightyellow;\n",
       "            color:  #000000;\n",
       "            border-color:  red;\n",
       "            font-family:  Roboto;\n",
       "        }    #T_6c12279e_41de_11ea_82c8_acde48001122row0_col25 {\n",
       "            background-color:  lightyellow;\n",
       "            color:  #000000;\n",
       "            border-color:  red;\n",
       "            font-family:  Roboto;\n",
       "        }    #T_6c12279e_41de_11ea_82c8_acde48001122row0_col26 {\n",
       "            background-color:  lightyellow;\n",
       "            color:  #000000;\n",
       "            border-color:  red;\n",
       "            font-family:  Roboto;\n",
       "        }    #T_6c12279e_41de_11ea_82c8_acde48001122row0_col27 {\n",
       "            background-color:  lightyellow;\n",
       "            color:  #000000;\n",
       "            border-color:  red;\n",
       "            font-family:  Roboto;\n",
       "        }    #T_6c12279e_41de_11ea_82c8_acde48001122row0_col28 {\n",
       "            background-color:  lightyellow;\n",
       "            color:  #000000;\n",
       "            border-color:  red;\n",
       "            font-family:  Roboto;\n",
       "        }    #T_6c12279e_41de_11ea_82c8_acde48001122row0_col29 {\n",
       "            background-color:  lightyellow;\n",
       "            color:  #000000;\n",
       "            border-color:  red;\n",
       "            font-family:  Roboto;\n",
       "        }    #T_6c12279e_41de_11ea_82c8_acde48001122row0_col30 {\n",
       "            background-color:  lightyellow;\n",
       "            color:  #000000;\n",
       "            border-color:  red;\n",
       "            font-family:  Roboto;\n",
       "        }    #T_6c12279e_41de_11ea_82c8_acde48001122row0_col31 {\n",
       "            background-color:  lightyellow;\n",
       "            color:  #000000;\n",
       "            border-color:  red;\n",
       "            font-family:  Roboto;\n",
       "        }    #T_6c12279e_41de_11ea_82c8_acde48001122row0_col32 {\n",
       "            background-color:  lightyellow;\n",
       "            color:  #000000;\n",
       "            border-color:  red;\n",
       "            font-family:  Roboto;\n",
       "        }    #T_6c12279e_41de_11ea_82c8_acde48001122row0_col33 {\n",
       "            background-color:  lightyellow;\n",
       "            color:  #000000;\n",
       "            border-color:  red;\n",
       "            font-family:  Roboto;\n",
       "        }    #T_6c12279e_41de_11ea_82c8_acde48001122row0_col34 {\n",
       "            background-color:  lightyellow;\n",
       "            color:  #000000;\n",
       "            border-color:  red;\n",
       "            font-family:  Roboto;\n",
       "        }    #T_6c12279e_41de_11ea_82c8_acde48001122row0_col35 {\n",
       "            background-color:  lightyellow;\n",
       "            color:  #000000;\n",
       "            border-color:  red;\n",
       "            font-family:  Roboto;\n",
       "        }    #T_6c12279e_41de_11ea_82c8_acde48001122row0_col36 {\n",
       "            background-color:  lightyellow;\n",
       "            color:  #000000;\n",
       "            border-color:  red;\n",
       "            font-family:  Roboto;\n",
       "        }    #T_6c12279e_41de_11ea_82c8_acde48001122row0_col37 {\n",
       "            background-color:  lightyellow;\n",
       "            color:  #000000;\n",
       "            border-color:  red;\n",
       "            font-family:  Roboto;\n",
       "        }    #T_6c12279e_41de_11ea_82c8_acde48001122row0_col38 {\n",
       "            background-color:  lightyellow;\n",
       "            color:  #000000;\n",
       "            border-color:  red;\n",
       "            font-family:  Roboto;\n",
       "        }    #T_6c12279e_41de_11ea_82c8_acde48001122row0_col39 {\n",
       "            background-color:  lightyellow;\n",
       "            color:  #000000;\n",
       "            border-color:  red;\n",
       "            font-family:  Roboto;\n",
       "        }    #T_6c12279e_41de_11ea_82c8_acde48001122row0_col40 {\n",
       "            background-color:  lightyellow;\n",
       "            color:  #000000;\n",
       "            border-color:  red;\n",
       "            font-family:  Roboto;\n",
       "        }    #T_6c12279e_41de_11ea_82c8_acde48001122row0_col41 {\n",
       "            background-color:  lightyellow;\n",
       "            color:  #000000;\n",
       "            border-color:  red;\n",
       "            font-family:  Roboto;\n",
       "        }    #T_6c12279e_41de_11ea_82c8_acde48001122row0_col42 {\n",
       "            background-color:  lightyellow;\n",
       "            color:  #000000;\n",
       "            border-color:  red;\n",
       "            font-family:  Roboto;\n",
       "        }    #T_6c12279e_41de_11ea_82c8_acde48001122row0_col43 {\n",
       "            background-color:  lightyellow;\n",
       "            color:  #000000;\n",
       "            border-color:  red;\n",
       "            font-family:  Roboto;\n",
       "        }    #T_6c12279e_41de_11ea_82c8_acde48001122row0_col44 {\n",
       "            background-color:  lightyellow;\n",
       "            color:  #000000;\n",
       "            border-color:  red;\n",
       "            font-family:  Roboto;\n",
       "        }    #T_6c12279e_41de_11ea_82c8_acde48001122row0_col45 {\n",
       "            background-color:  lightyellow;\n",
       "            color:  #000000;\n",
       "            border-color:  red;\n",
       "            font-family:  Roboto;\n",
       "        }    #T_6c12279e_41de_11ea_82c8_acde48001122row0_col46 {\n",
       "            background-color:  lightyellow;\n",
       "            color:  #000000;\n",
       "            border-color:  red;\n",
       "            font-family:  Roboto;\n",
       "        }    #T_6c12279e_41de_11ea_82c8_acde48001122row0_col47 {\n",
       "            background-color:  lightyellow;\n",
       "            color:  #000000;\n",
       "            border-color:  red;\n",
       "            font-family:  Roboto;\n",
       "        }    #T_6c12279e_41de_11ea_82c8_acde48001122row0_col48 {\n",
       "            background-color:  lightyellow;\n",
       "            color:  #000000;\n",
       "            border-color:  red;\n",
       "            font-family:  Roboto;\n",
       "        }    #T_6c12279e_41de_11ea_82c8_acde48001122row0_col49 {\n",
       "            background-color:  lightyellow;\n",
       "            color:  #000000;\n",
       "            border-color:  red;\n",
       "            font-family:  Roboto;\n",
       "        }    #T_6c12279e_41de_11ea_82c8_acde48001122row0_col50 {\n",
       "            background-color:  lightyellow;\n",
       "            color:  #000000;\n",
       "            border-color:  red;\n",
       "            font-family:  Roboto;\n",
       "        }    #T_6c12279e_41de_11ea_82c8_acde48001122row0_col51 {\n",
       "            background-color:  lightyellow;\n",
       "            color:  #000000;\n",
       "            border-color:  red;\n",
       "            font-family:  Roboto;\n",
       "        }    #T_6c12279e_41de_11ea_82c8_acde48001122row0_col52 {\n",
       "            background-color:  lightyellow;\n",
       "            color:  #000000;\n",
       "            border-color:  red;\n",
       "            font-family:  Roboto;\n",
       "        }    #T_6c12279e_41de_11ea_82c8_acde48001122row0_col53 {\n",
       "            background-color:  lightyellow;\n",
       "            color:  #000000;\n",
       "            border-color:  red;\n",
       "            font-family:  Roboto;\n",
       "        }    #T_6c12279e_41de_11ea_82c8_acde48001122row0_col54 {\n",
       "            background-color:  lightyellow;\n",
       "            color:  #000000;\n",
       "            border-color:  red;\n",
       "            font-family:  Roboto;\n",
       "        }    #T_6c12279e_41de_11ea_82c8_acde48001122row0_col55 {\n",
       "            background-color:  lightyellow;\n",
       "            color:  #000000;\n",
       "            border-color:  red;\n",
       "            font-family:  Roboto;\n",
       "        }    #T_6c12279e_41de_11ea_82c8_acde48001122row0_col56 {\n",
       "            background-color:  lightyellow;\n",
       "            color:  #000000;\n",
       "            border-color:  red;\n",
       "            font-family:  Roboto;\n",
       "        }    #T_6c12279e_41de_11ea_82c8_acde48001122row0_col57 {\n",
       "            background-color:  lightyellow;\n",
       "            color:  #000000;\n",
       "            border-color:  red;\n",
       "            font-family:  Roboto;\n",
       "        }    #T_6c12279e_41de_11ea_82c8_acde48001122row0_col58 {\n",
       "            background-color:  lightyellow;\n",
       "            color:  #000000;\n",
       "            border-color:  red;\n",
       "            font-family:  Roboto;\n",
       "        }    #T_6c12279e_41de_11ea_82c8_acde48001122row0_col59 {\n",
       "            background-color:  lightyellow;\n",
       "            color:  #000000;\n",
       "            border-color:  red;\n",
       "            font-family:  Roboto;\n",
       "        }    #T_6c12279e_41de_11ea_82c8_acde48001122row0_col60 {\n",
       "            background-color:  lightyellow;\n",
       "            color:  #000000;\n",
       "            border-color:  red;\n",
       "            font-family:  Roboto;\n",
       "        }    #T_6c12279e_41de_11ea_82c8_acde48001122row0_col61 {\n",
       "            background-color:  lightyellow;\n",
       "            color:  #000000;\n",
       "            border-color:  red;\n",
       "            font-family:  Roboto;\n",
       "        }    #T_6c12279e_41de_11ea_82c8_acde48001122row0_col62 {\n",
       "            background-color:  lightyellow;\n",
       "            color:  #000000;\n",
       "            border-color:  red;\n",
       "            font-family:  Roboto;\n",
       "        }    #T_6c12279e_41de_11ea_82c8_acde48001122row0_col63 {\n",
       "            background-color:  lightyellow;\n",
       "            color:  #000000;\n",
       "            border-color:  red;\n",
       "            font-family:  Roboto;\n",
       "        }    #T_6c12279e_41de_11ea_82c8_acde48001122row0_col64 {\n",
       "            background-color:  lightyellow;\n",
       "            color:  #000000;\n",
       "            border-color:  red;\n",
       "            font-family:  Roboto;\n",
       "        }    #T_6c12279e_41de_11ea_82c8_acde48001122row0_col65 {\n",
       "            background-color:  lightyellow;\n",
       "            color:  #000000;\n",
       "            border-color:  red;\n",
       "            font-family:  Roboto;\n",
       "        }    #T_6c12279e_41de_11ea_82c8_acde48001122row0_col66 {\n",
       "            background-color:  lightyellow;\n",
       "            color:  #000000;\n",
       "            border-color:  red;\n",
       "            font-family:  Roboto;\n",
       "        }    #T_6c12279e_41de_11ea_82c8_acde48001122row0_col67 {\n",
       "            background-color:  lightyellow;\n",
       "            color:  #000000;\n",
       "            border-color:  red;\n",
       "            font-family:  Roboto;\n",
       "        }    #T_6c12279e_41de_11ea_82c8_acde48001122row0_col68 {\n",
       "            background-color:  lightyellow;\n",
       "            color:  #000000;\n",
       "            border-color:  red;\n",
       "            font-family:  Roboto;\n",
       "        }    #T_6c12279e_41de_11ea_82c8_acde48001122row0_col69 {\n",
       "            background-color:  lightyellow;\n",
       "            color:  #000000;\n",
       "            border-color:  red;\n",
       "            font-family:  Roboto;\n",
       "        }    #T_6c12279e_41de_11ea_82c8_acde48001122row0_col70 {\n",
       "            background-color:  lightyellow;\n",
       "            color:  #000000;\n",
       "            border-color:  red;\n",
       "            font-family:  Roboto;\n",
       "        }    #T_6c12279e_41de_11ea_82c8_acde48001122row0_col71 {\n",
       "            background-color:  lightyellow;\n",
       "            color:  #000000;\n",
       "            border-color:  red;\n",
       "            font-family:  Roboto;\n",
       "        }    #T_6c12279e_41de_11ea_82c8_acde48001122row0_col72 {\n",
       "            background-color:  lightyellow;\n",
       "            color:  #000000;\n",
       "            border-color:  red;\n",
       "            font-family:  Roboto;\n",
       "        }    #T_6c12279e_41de_11ea_82c8_acde48001122row0_col73 {\n",
       "            background-color:  lightyellow;\n",
       "            color:  #000000;\n",
       "            border-color:  red;\n",
       "            font-family:  Roboto;\n",
       "        }    #T_6c12279e_41de_11ea_82c8_acde48001122row0_col74 {\n",
       "            background-color:  lightyellow;\n",
       "            color:  #000000;\n",
       "            border-color:  red;\n",
       "            font-family:  Roboto;\n",
       "        }    #T_6c12279e_41de_11ea_82c8_acde48001122row1_col0 {\n",
       "            background-color:  lightyellow;\n",
       "            color:  #000000;\n",
       "            border-color:  red;\n",
       "            font-family:  Roboto;\n",
       "        }    #T_6c12279e_41de_11ea_82c8_acde48001122row1_col1 {\n",
       "            background-color:  lightyellow;\n",
       "            color:  #000000;\n",
       "            border-color:  red;\n",
       "            font-family:  Roboto;\n",
       "        }    #T_6c12279e_41de_11ea_82c8_acde48001122row1_col2 {\n",
       "            background-color:  lightyellow;\n",
       "            color:  #000000;\n",
       "            border-color:  red;\n",
       "            font-family:  Roboto;\n",
       "        }    #T_6c12279e_41de_11ea_82c8_acde48001122row1_col3 {\n",
       "            background-color:  lightyellow;\n",
       "            color:  #000000;\n",
       "            border-color:  red;\n",
       "            font-family:  Roboto;\n",
       "        }    #T_6c12279e_41de_11ea_82c8_acde48001122row1_col4 {\n",
       "            background-color:  lightyellow;\n",
       "            color:  #000000;\n",
       "            border-color:  red;\n",
       "            font-family:  Roboto;\n",
       "        }    #T_6c12279e_41de_11ea_82c8_acde48001122row1_col5 {\n",
       "            background-color:  lightyellow;\n",
       "            color:  #000000;\n",
       "            border-color:  red;\n",
       "            font-family:  Roboto;\n",
       "        }    #T_6c12279e_41de_11ea_82c8_acde48001122row1_col6 {\n",
       "            background-color:  lightyellow;\n",
       "            color:  #000000;\n",
       "            border-color:  red;\n",
       "            font-family:  Roboto;\n",
       "        }    #T_6c12279e_41de_11ea_82c8_acde48001122row1_col7 {\n",
       "            background-color:  lightyellow;\n",
       "            color:  #000000;\n",
       "            border-color:  red;\n",
       "            font-family:  Roboto;\n",
       "        }    #T_6c12279e_41de_11ea_82c8_acde48001122row1_col8 {\n",
       "            background-color:  lightyellow;\n",
       "            color:  #000000;\n",
       "            border-color:  red;\n",
       "            font-family:  Roboto;\n",
       "        }    #T_6c12279e_41de_11ea_82c8_acde48001122row1_col9 {\n",
       "            background-color:  lightyellow;\n",
       "            color:  #000000;\n",
       "            border-color:  red;\n",
       "            font-family:  Roboto;\n",
       "        }    #T_6c12279e_41de_11ea_82c8_acde48001122row1_col10 {\n",
       "            background-color:  lightyellow;\n",
       "            color:  #000000;\n",
       "            border-color:  red;\n",
       "            font-family:  Roboto;\n",
       "        }    #T_6c12279e_41de_11ea_82c8_acde48001122row1_col11 {\n",
       "            background-color:  lightyellow;\n",
       "            color:  #000000;\n",
       "            border-color:  red;\n",
       "            font-family:  Roboto;\n",
       "        }    #T_6c12279e_41de_11ea_82c8_acde48001122row1_col12 {\n",
       "            background-color:  lightyellow;\n",
       "            color:  #000000;\n",
       "            border-color:  red;\n",
       "            font-family:  Roboto;\n",
       "        }    #T_6c12279e_41de_11ea_82c8_acde48001122row1_col13 {\n",
       "            background-color:  lightyellow;\n",
       "            color:  #000000;\n",
       "            border-color:  red;\n",
       "            font-family:  Roboto;\n",
       "        }    #T_6c12279e_41de_11ea_82c8_acde48001122row1_col14 {\n",
       "            background-color:  lightyellow;\n",
       "            color:  #000000;\n",
       "            border-color:  red;\n",
       "            font-family:  Roboto;\n",
       "        }    #T_6c12279e_41de_11ea_82c8_acde48001122row1_col15 {\n",
       "            background-color:  lightyellow;\n",
       "            color:  #000000;\n",
       "            border-color:  red;\n",
       "            font-family:  Roboto;\n",
       "        }    #T_6c12279e_41de_11ea_82c8_acde48001122row1_col16 {\n",
       "            background-color:  lightyellow;\n",
       "            color:  #000000;\n",
       "            border-color:  red;\n",
       "            font-family:  Roboto;\n",
       "        }    #T_6c12279e_41de_11ea_82c8_acde48001122row1_col17 {\n",
       "            background-color:  lightyellow;\n",
       "            color:  #000000;\n",
       "            border-color:  red;\n",
       "            font-family:  Roboto;\n",
       "        }    #T_6c12279e_41de_11ea_82c8_acde48001122row1_col18 {\n",
       "            background-color:  lightyellow;\n",
       "            color:  #000000;\n",
       "            border-color:  red;\n",
       "            font-family:  Roboto;\n",
       "        }    #T_6c12279e_41de_11ea_82c8_acde48001122row1_col19 {\n",
       "            background-color:  lightyellow;\n",
       "            color:  #000000;\n",
       "            border-color:  red;\n",
       "            font-family:  Roboto;\n",
       "        }    #T_6c12279e_41de_11ea_82c8_acde48001122row1_col20 {\n",
       "            background-color:  lightyellow;\n",
       "            color:  #000000;\n",
       "            border-color:  red;\n",
       "            font-family:  Roboto;\n",
       "        }    #T_6c12279e_41de_11ea_82c8_acde48001122row1_col21 {\n",
       "            background-color:  lightyellow;\n",
       "            color:  #000000;\n",
       "            border-color:  red;\n",
       "            font-family:  Roboto;\n",
       "        }    #T_6c12279e_41de_11ea_82c8_acde48001122row1_col22 {\n",
       "            background-color:  lightyellow;\n",
       "            color:  #000000;\n",
       "            border-color:  red;\n",
       "            font-family:  Roboto;\n",
       "        }    #T_6c12279e_41de_11ea_82c8_acde48001122row1_col23 {\n",
       "            background-color:  lightyellow;\n",
       "            color:  #000000;\n",
       "            border-color:  red;\n",
       "            font-family:  Roboto;\n",
       "        }    #T_6c12279e_41de_11ea_82c8_acde48001122row1_col24 {\n",
       "            background-color:  lightyellow;\n",
       "            color:  #000000;\n",
       "            border-color:  red;\n",
       "            font-family:  Roboto;\n",
       "        }    #T_6c12279e_41de_11ea_82c8_acde48001122row1_col25 {\n",
       "            background-color:  lightyellow;\n",
       "            color:  #000000;\n",
       "            border-color:  red;\n",
       "            font-family:  Roboto;\n",
       "        }    #T_6c12279e_41de_11ea_82c8_acde48001122row1_col26 {\n",
       "            background-color:  lightyellow;\n",
       "            color:  #000000;\n",
       "            border-color:  red;\n",
       "            font-family:  Roboto;\n",
       "        }    #T_6c12279e_41de_11ea_82c8_acde48001122row1_col27 {\n",
       "            background-color:  lightyellow;\n",
       "            color:  #000000;\n",
       "            border-color:  red;\n",
       "            font-family:  Roboto;\n",
       "        }    #T_6c12279e_41de_11ea_82c8_acde48001122row1_col28 {\n",
       "            background-color:  lightyellow;\n",
       "            color:  #000000;\n",
       "            border-color:  red;\n",
       "            font-family:  Roboto;\n",
       "        }    #T_6c12279e_41de_11ea_82c8_acde48001122row1_col29 {\n",
       "            background-color:  lightyellow;\n",
       "            color:  #000000;\n",
       "            border-color:  red;\n",
       "            font-family:  Roboto;\n",
       "        }    #T_6c12279e_41de_11ea_82c8_acde48001122row1_col30 {\n",
       "            background-color:  lightyellow;\n",
       "            color:  #000000;\n",
       "            border-color:  red;\n",
       "            font-family:  Roboto;\n",
       "        }    #T_6c12279e_41de_11ea_82c8_acde48001122row1_col31 {\n",
       "            background-color:  lightyellow;\n",
       "            color:  #000000;\n",
       "            border-color:  red;\n",
       "            font-family:  Roboto;\n",
       "        }    #T_6c12279e_41de_11ea_82c8_acde48001122row1_col32 {\n",
       "            background-color:  lightyellow;\n",
       "            color:  #000000;\n",
       "            border-color:  red;\n",
       "            font-family:  Roboto;\n",
       "        }    #T_6c12279e_41de_11ea_82c8_acde48001122row1_col33 {\n",
       "            background-color:  lightyellow;\n",
       "            color:  #000000;\n",
       "            border-color:  red;\n",
       "            font-family:  Roboto;\n",
       "        }    #T_6c12279e_41de_11ea_82c8_acde48001122row1_col34 {\n",
       "            background-color:  lightyellow;\n",
       "            color:  #000000;\n",
       "            border-color:  red;\n",
       "            font-family:  Roboto;\n",
       "        }    #T_6c12279e_41de_11ea_82c8_acde48001122row1_col35 {\n",
       "            background-color:  lightyellow;\n",
       "            color:  #000000;\n",
       "            border-color:  red;\n",
       "            font-family:  Roboto;\n",
       "        }    #T_6c12279e_41de_11ea_82c8_acde48001122row1_col36 {\n",
       "            background-color:  lightyellow;\n",
       "            color:  #000000;\n",
       "            border-color:  red;\n",
       "            font-family:  Roboto;\n",
       "        }    #T_6c12279e_41de_11ea_82c8_acde48001122row1_col37 {\n",
       "            background-color:  lightyellow;\n",
       "            color:  #000000;\n",
       "            border-color:  red;\n",
       "            font-family:  Roboto;\n",
       "        }    #T_6c12279e_41de_11ea_82c8_acde48001122row1_col38 {\n",
       "            background-color:  lightyellow;\n",
       "            color:  #000000;\n",
       "            border-color:  red;\n",
       "            font-family:  Roboto;\n",
       "        }    #T_6c12279e_41de_11ea_82c8_acde48001122row1_col39 {\n",
       "            background-color:  lightyellow;\n",
       "            color:  #000000;\n",
       "            border-color:  red;\n",
       "            font-family:  Roboto;\n",
       "        }    #T_6c12279e_41de_11ea_82c8_acde48001122row1_col40 {\n",
       "            background-color:  lightyellow;\n",
       "            color:  #000000;\n",
       "            border-color:  red;\n",
       "            font-family:  Roboto;\n",
       "        }    #T_6c12279e_41de_11ea_82c8_acde48001122row1_col41 {\n",
       "            background-color:  lightyellow;\n",
       "            color:  #000000;\n",
       "            border-color:  red;\n",
       "            font-family:  Roboto;\n",
       "        }    #T_6c12279e_41de_11ea_82c8_acde48001122row1_col42 {\n",
       "            background-color:  lightyellow;\n",
       "            color:  #000000;\n",
       "            border-color:  red;\n",
       "            font-family:  Roboto;\n",
       "        }    #T_6c12279e_41de_11ea_82c8_acde48001122row1_col43 {\n",
       "            background-color:  lightyellow;\n",
       "            color:  #000000;\n",
       "            border-color:  red;\n",
       "            font-family:  Roboto;\n",
       "        }    #T_6c12279e_41de_11ea_82c8_acde48001122row1_col44 {\n",
       "            background-color:  lightyellow;\n",
       "            color:  #000000;\n",
       "            border-color:  red;\n",
       "            font-family:  Roboto;\n",
       "        }    #T_6c12279e_41de_11ea_82c8_acde48001122row1_col45 {\n",
       "            background-color:  lightyellow;\n",
       "            color:  #000000;\n",
       "            border-color:  red;\n",
       "            font-family:  Roboto;\n",
       "        }    #T_6c12279e_41de_11ea_82c8_acde48001122row1_col46 {\n",
       "            background-color:  lightyellow;\n",
       "            color:  #000000;\n",
       "            border-color:  red;\n",
       "            font-family:  Roboto;\n",
       "        }    #T_6c12279e_41de_11ea_82c8_acde48001122row1_col47 {\n",
       "            background-color:  lightyellow;\n",
       "            color:  #000000;\n",
       "            border-color:  red;\n",
       "            font-family:  Roboto;\n",
       "        }    #T_6c12279e_41de_11ea_82c8_acde48001122row1_col48 {\n",
       "            background-color:  lightyellow;\n",
       "            color:  #000000;\n",
       "            border-color:  red;\n",
       "            font-family:  Roboto;\n",
       "        }    #T_6c12279e_41de_11ea_82c8_acde48001122row1_col49 {\n",
       "            background-color:  lightyellow;\n",
       "            color:  #000000;\n",
       "            border-color:  red;\n",
       "            font-family:  Roboto;\n",
       "        }    #T_6c12279e_41de_11ea_82c8_acde48001122row1_col50 {\n",
       "            background-color:  lightyellow;\n",
       "            color:  #000000;\n",
       "            border-color:  red;\n",
       "            font-family:  Roboto;\n",
       "        }    #T_6c12279e_41de_11ea_82c8_acde48001122row1_col51 {\n",
       "            background-color:  lightyellow;\n",
       "            color:  #000000;\n",
       "            border-color:  red;\n",
       "            font-family:  Roboto;\n",
       "        }    #T_6c12279e_41de_11ea_82c8_acde48001122row1_col52 {\n",
       "            background-color:  lightyellow;\n",
       "            color:  #000000;\n",
       "            border-color:  red;\n",
       "            font-family:  Roboto;\n",
       "        }    #T_6c12279e_41de_11ea_82c8_acde48001122row1_col53 {\n",
       "            background-color:  lightyellow;\n",
       "            color:  #000000;\n",
       "            border-color:  red;\n",
       "            font-family:  Roboto;\n",
       "        }    #T_6c12279e_41de_11ea_82c8_acde48001122row1_col54 {\n",
       "            background-color:  lightyellow;\n",
       "            color:  #000000;\n",
       "            border-color:  red;\n",
       "            font-family:  Roboto;\n",
       "        }    #T_6c12279e_41de_11ea_82c8_acde48001122row1_col55 {\n",
       "            background-color:  lightyellow;\n",
       "            color:  #000000;\n",
       "            border-color:  red;\n",
       "            font-family:  Roboto;\n",
       "        }    #T_6c12279e_41de_11ea_82c8_acde48001122row1_col56 {\n",
       "            background-color:  lightyellow;\n",
       "            color:  #000000;\n",
       "            border-color:  red;\n",
       "            font-family:  Roboto;\n",
       "        }    #T_6c12279e_41de_11ea_82c8_acde48001122row1_col57 {\n",
       "            background-color:  lightyellow;\n",
       "            color:  #000000;\n",
       "            border-color:  red;\n",
       "            font-family:  Roboto;\n",
       "        }    #T_6c12279e_41de_11ea_82c8_acde48001122row1_col58 {\n",
       "            background-color:  lightyellow;\n",
       "            color:  #000000;\n",
       "            border-color:  red;\n",
       "            font-family:  Roboto;\n",
       "        }    #T_6c12279e_41de_11ea_82c8_acde48001122row1_col59 {\n",
       "            background-color:  lightyellow;\n",
       "            color:  #000000;\n",
       "            border-color:  red;\n",
       "            font-family:  Roboto;\n",
       "        }    #T_6c12279e_41de_11ea_82c8_acde48001122row1_col60 {\n",
       "            background-color:  lightyellow;\n",
       "            color:  #000000;\n",
       "            border-color:  red;\n",
       "            font-family:  Roboto;\n",
       "        }    #T_6c12279e_41de_11ea_82c8_acde48001122row1_col61 {\n",
       "            background-color:  lightyellow;\n",
       "            color:  #000000;\n",
       "            border-color:  red;\n",
       "            font-family:  Roboto;\n",
       "        }    #T_6c12279e_41de_11ea_82c8_acde48001122row1_col62 {\n",
       "            background-color:  lightyellow;\n",
       "            color:  #000000;\n",
       "            border-color:  red;\n",
       "            font-family:  Roboto;\n",
       "        }    #T_6c12279e_41de_11ea_82c8_acde48001122row1_col63 {\n",
       "            background-color:  lightyellow;\n",
       "            color:  #000000;\n",
       "            border-color:  red;\n",
       "            font-family:  Roboto;\n",
       "        }    #T_6c12279e_41de_11ea_82c8_acde48001122row1_col64 {\n",
       "            background-color:  lightyellow;\n",
       "            color:  #000000;\n",
       "            border-color:  red;\n",
       "            font-family:  Roboto;\n",
       "        }    #T_6c12279e_41de_11ea_82c8_acde48001122row1_col65 {\n",
       "            background-color:  lightyellow;\n",
       "            color:  #000000;\n",
       "            border-color:  red;\n",
       "            font-family:  Roboto;\n",
       "        }    #T_6c12279e_41de_11ea_82c8_acde48001122row1_col66 {\n",
       "            background-color:  lightyellow;\n",
       "            color:  #000000;\n",
       "            border-color:  red;\n",
       "            font-family:  Roboto;\n",
       "        }    #T_6c12279e_41de_11ea_82c8_acde48001122row1_col67 {\n",
       "            background-color:  lightyellow;\n",
       "            color:  #000000;\n",
       "            border-color:  red;\n",
       "            font-family:  Roboto;\n",
       "        }    #T_6c12279e_41de_11ea_82c8_acde48001122row1_col68 {\n",
       "            background-color:  lightyellow;\n",
       "            color:  #000000;\n",
       "            border-color:  red;\n",
       "            font-family:  Roboto;\n",
       "        }    #T_6c12279e_41de_11ea_82c8_acde48001122row1_col69 {\n",
       "            background-color:  lightyellow;\n",
       "            color:  #000000;\n",
       "            border-color:  red;\n",
       "            font-family:  Roboto;\n",
       "        }    #T_6c12279e_41de_11ea_82c8_acde48001122row1_col70 {\n",
       "            background-color:  lightyellow;\n",
       "            color:  #000000;\n",
       "            border-color:  red;\n",
       "            font-family:  Roboto;\n",
       "        }    #T_6c12279e_41de_11ea_82c8_acde48001122row1_col71 {\n",
       "            background-color:  lightyellow;\n",
       "            color:  #000000;\n",
       "            border-color:  red;\n",
       "            font-family:  Roboto;\n",
       "        }    #T_6c12279e_41de_11ea_82c8_acde48001122row1_col72 {\n",
       "            background-color:  lightyellow;\n",
       "            color:  #000000;\n",
       "            border-color:  red;\n",
       "            font-family:  Roboto;\n",
       "        }    #T_6c12279e_41de_11ea_82c8_acde48001122row1_col73 {\n",
       "            background-color:  lightyellow;\n",
       "            color:  #000000;\n",
       "            border-color:  red;\n",
       "            font-family:  Roboto;\n",
       "        }    #T_6c12279e_41de_11ea_82c8_acde48001122row1_col74 {\n",
       "            background-color:  lightyellow;\n",
       "            color:  #000000;\n",
       "            border-color:  red;\n",
       "            font-family:  Roboto;\n",
       "        }</style><table id=\"T_6c12279e_41de_11ea_82c8_acde48001122\" ><thead>    <tr>        <th class=\"blank level0\" ></th>        <th class=\"col_heading level0 col0\" >What Country or Region do you live in?</th>        <th class=\"col_heading level0 col1\" >Which US State or Territory do you live in?</th>        <th class=\"col_heading level0 col2\" >How old are you?</th>        <th class=\"col_heading level0 col3\" >How many years of IT/Programming experience do you have?</th>        <th class=\"col_heading level0 col4\" >How would you best describe the industry you currently work in?</th>        <th class=\"col_heading level0 col5\" >Which best describes the size of your company?</th>        <th class=\"col_heading level0 col6\" >Which of the following best describes your occupation?</th>        <th class=\"col_heading level0 col7\" >What is your involvement in purchasing products or services for the company you work for? (You can choose more than one)</th>        <th class=\"col_heading level0 col8\" >Unnamed: 8</th>        <th class=\"col_heading level0 col9\" >Unnamed: 9</th>        <th class=\"col_heading level0 col10\" >Unnamed: 10</th>        <th class=\"col_heading level0 col11\" >Unnamed: 11</th>        <th class=\"col_heading level0 col12\" >Unnamed: 12</th>        <th class=\"col_heading level0 col13\" >Unnamed: 13</th>        <th class=\"col_heading level0 col14\" >What types of purchases are you involved in?</th>        <th class=\"col_heading level0 col15\" >Unnamed: 15</th>        <th class=\"col_heading level0 col16\" >Unnamed: 16</th>        <th class=\"col_heading level0 col17\" >Unnamed: 17</th>        <th class=\"col_heading level0 col18\" >Unnamed: 18</th>        <th class=\"col_heading level0 col19\" >Unnamed: 19</th>        <th class=\"col_heading level0 col20\" >What is your budget for outside expenditures (hardware, software, consulting, etc) for 2011?</th>        <th class=\"col_heading level0 col21\" >What type of project are you developing?</th>        <th class=\"col_heading level0 col22\" >Which languages are you proficient in?</th>        <th class=\"col_heading level0 col23\" >Unnamed: 23</th>        <th class=\"col_heading level0 col24\" >Unnamed: 24</th>        <th class=\"col_heading level0 col25\" >Unnamed: 25</th>        <th class=\"col_heading level0 col26\" >Unnamed: 26</th>        <th class=\"col_heading level0 col27\" >Unnamed: 27</th>        <th class=\"col_heading level0 col28\" >Unnamed: 28</th>        <th class=\"col_heading level0 col29\" >Unnamed: 29</th>        <th class=\"col_heading level0 col30\" >Unnamed: 30</th>        <th class=\"col_heading level0 col31\" >Unnamed: 31</th>        <th class=\"col_heading level0 col32\" >Unnamed: 32</th>        <th class=\"col_heading level0 col33\" >Unnamed: 33</th>        <th class=\"col_heading level0 col34\" >Unnamed: 34</th>        <th class=\"col_heading level0 col35\" >Unnamed: 35</th>        <th class=\"col_heading level0 col36\" >Unnamed: 36</th>        <th class=\"col_heading level0 col37\" >Which desktop operating system do you use the most?</th>        <th class=\"col_heading level0 col38\" >What best describes your career / job satisfaction? </th>        <th class=\"col_heading level0 col39\" >Including bonus, what is your annual compensation in USD?</th>        <th class=\"col_heading level0 col40\" >Have you visited / Are you aware of Stack Overflow Careers?</th>        <th class=\"col_heading level0 col41\" >Do you have a Stack Overflow Careers Profile?</th>        <th class=\"col_heading level0 col42\" >You answered you don't have a Careers profile, can you elaborate why?</th>        <th class=\"col_heading level0 col43\" >Unnamed: 43</th>        <th class=\"col_heading level0 col44\" >Which technology products do you own? (You can choose more than one)</th>        <th class=\"col_heading level0 col45\" >Unnamed: 45</th>        <th class=\"col_heading level0 col46\" >Unnamed: 46</th>        <th class=\"col_heading level0 col47\" >Unnamed: 47</th>        <th class=\"col_heading level0 col48\" >Unnamed: 48</th>        <th class=\"col_heading level0 col49\" >Unnamed: 49</th>        <th class=\"col_heading level0 col50\" >Unnamed: 50</th>        <th class=\"col_heading level0 col51\" >Unnamed: 51</th>        <th class=\"col_heading level0 col52\" >Unnamed: 52</th>        <th class=\"col_heading level0 col53\" >Unnamed: 53</th>        <th class=\"col_heading level0 col54\" >Unnamed: 54</th>        <th class=\"col_heading level0 col55\" >Unnamed: 55</th>        <th class=\"col_heading level0 col56\" >Unnamed: 56</th>        <th class=\"col_heading level0 col57\" >Unnamed: 57</th>        <th class=\"col_heading level0 col58\" >Unnamed: 58</th>        <th class=\"col_heading level0 col59\" >Unnamed: 59</th>        <th class=\"col_heading level0 col60\" >Unnamed: 60</th>        <th class=\"col_heading level0 col61\" >Unnamed: 61</th>        <th class=\"col_heading level0 col62\" >Unnamed: 62</th>        <th class=\"col_heading level0 col63\" >Unnamed: 63</th>        <th class=\"col_heading level0 col64\" >In the last 12 months, how much money have you spent on personal technology-related purchases? </th>        <th class=\"col_heading level0 col65\" >Please rate the advertising you've seen on Stack Overflow</th>        <th class=\"col_heading level0 col66\" >Unnamed: 66</th>        <th class=\"col_heading level0 col67\" >Unnamed: 67</th>        <th class=\"col_heading level0 col68\" >Unnamed: 68</th>        <th class=\"col_heading level0 col69\" >Unnamed: 69</th>        <th class=\"col_heading level0 col70\" >Unnamed: 70</th>        <th class=\"col_heading level0 col71\" >What advertisers do you remember seeing on Stack Overflow?</th>        <th class=\"col_heading level0 col72\" >What is your current Stack Overflow reputation?</th>        <th class=\"col_heading level0 col73\" >Which of our sites do you frequent most?</th>        <th class=\"col_heading level0 col74\" >Unnamed: 74</th>    </tr></thead><tbody>\n",
       "                <tr>\n",
       "                        <th id=\"T_6c12279e_41de_11ea_82c8_acde48001122level0_row0\" class=\"row_heading level0 row0\" >0</th>\n",
       "                        <td id=\"T_6c12279e_41de_11ea_82c8_acde48001122row0_col0\" class=\"data row0 col0\" >Response</td>\n",
       "                        <td id=\"T_6c12279e_41de_11ea_82c8_acde48001122row0_col1\" class=\"data row0 col1\" >Response</td>\n",
       "                        <td id=\"T_6c12279e_41de_11ea_82c8_acde48001122row0_col2\" class=\"data row0 col2\" >Response</td>\n",
       "                        <td id=\"T_6c12279e_41de_11ea_82c8_acde48001122row0_col3\" class=\"data row0 col3\" >Response</td>\n",
       "                        <td id=\"T_6c12279e_41de_11ea_82c8_acde48001122row0_col4\" class=\"data row0 col4\" >Response</td>\n",
       "                        <td id=\"T_6c12279e_41de_11ea_82c8_acde48001122row0_col5\" class=\"data row0 col5\" >Response</td>\n",
       "                        <td id=\"T_6c12279e_41de_11ea_82c8_acde48001122row0_col6\" class=\"data row0 col6\" >Response</td>\n",
       "                        <td id=\"T_6c12279e_41de_11ea_82c8_acde48001122row0_col7\" class=\"data row0 col7\" >Influencer</td>\n",
       "                        <td id=\"T_6c12279e_41de_11ea_82c8_acde48001122row0_col8\" class=\"data row0 col8\" >Recommender</td>\n",
       "                        <td id=\"T_6c12279e_41de_11ea_82c8_acde48001122row0_col9\" class=\"data row0 col9\" >Approver</td>\n",
       "                        <td id=\"T_6c12279e_41de_11ea_82c8_acde48001122row0_col10\" class=\"data row0 col10\" >Purchaser</td>\n",
       "                        <td id=\"T_6c12279e_41de_11ea_82c8_acde48001122row0_col11\" class=\"data row0 col11\" >Check Writer</td>\n",
       "                        <td id=\"T_6c12279e_41de_11ea_82c8_acde48001122row0_col12\" class=\"data row0 col12\" >No Involvement</td>\n",
       "                        <td id=\"T_6c12279e_41de_11ea_82c8_acde48001122row0_col13\" class=\"data row0 col13\" >I'm a Seller</td>\n",
       "                        <td id=\"T_6c12279e_41de_11ea_82c8_acde48001122row0_col14\" class=\"data row0 col14\" >Hardware</td>\n",
       "                        <td id=\"T_6c12279e_41de_11ea_82c8_acde48001122row0_col15\" class=\"data row0 col15\" >Servers</td>\n",
       "                        <td id=\"T_6c12279e_41de_11ea_82c8_acde48001122row0_col16\" class=\"data row0 col16\" >Software</td>\n",
       "                        <td id=\"T_6c12279e_41de_11ea_82c8_acde48001122row0_col17\" class=\"data row0 col17\" >User Equipment: Monitors, PCs, Laptops</td>\n",
       "                        <td id=\"T_6c12279e_41de_11ea_82c8_acde48001122row0_col18\" class=\"data row0 col18\" >Consultants</td>\n",
       "                        <td id=\"T_6c12279e_41de_11ea_82c8_acde48001122row0_col19\" class=\"data row0 col19\" >Other</td>\n",
       "                        <td id=\"T_6c12279e_41de_11ea_82c8_acde48001122row0_col20\" class=\"data row0 col20\" >Response</td>\n",
       "                        <td id=\"T_6c12279e_41de_11ea_82c8_acde48001122row0_col21\" class=\"data row0 col21\" >Response</td>\n",
       "                        <td id=\"T_6c12279e_41de_11ea_82c8_acde48001122row0_col22\" class=\"data row0 col22\" >Java</td>\n",
       "                        <td id=\"T_6c12279e_41de_11ea_82c8_acde48001122row0_col23\" class=\"data row0 col23\" >JavaScript</td>\n",
       "                        <td id=\"T_6c12279e_41de_11ea_82c8_acde48001122row0_col24\" class=\"data row0 col24\" >CSS</td>\n",
       "                        <td id=\"T_6c12279e_41de_11ea_82c8_acde48001122row0_col25\" class=\"data row0 col25\" >PHP</td>\n",
       "                        <td id=\"T_6c12279e_41de_11ea_82c8_acde48001122row0_col26\" class=\"data row0 col26\" >Python</td>\n",
       "                        <td id=\"T_6c12279e_41de_11ea_82c8_acde48001122row0_col27\" class=\"data row0 col27\" >Objective-C</td>\n",
       "                        <td id=\"T_6c12279e_41de_11ea_82c8_acde48001122row0_col28\" class=\"data row0 col28\" >Ruby</td>\n",
       "                        <td id=\"T_6c12279e_41de_11ea_82c8_acde48001122row0_col29\" class=\"data row0 col29\" >SQL</td>\n",
       "                        <td id=\"T_6c12279e_41de_11ea_82c8_acde48001122row0_col30\" class=\"data row0 col30\" >C#</td>\n",
       "                        <td id=\"T_6c12279e_41de_11ea_82c8_acde48001122row0_col31\" class=\"data row0 col31\" >C++</td>\n",
       "                        <td id=\"T_6c12279e_41de_11ea_82c8_acde48001122row0_col32\" class=\"data row0 col32\" >C</td>\n",
       "                        <td id=\"T_6c12279e_41de_11ea_82c8_acde48001122row0_col33\" class=\"data row0 col33\" >Perl</td>\n",
       "                        <td id=\"T_6c12279e_41de_11ea_82c8_acde48001122row0_col34\" class=\"data row0 col34\" >HTML5</td>\n",
       "                        <td id=\"T_6c12279e_41de_11ea_82c8_acde48001122row0_col35\" class=\"data row0 col35\" >None</td>\n",
       "                        <td id=\"T_6c12279e_41de_11ea_82c8_acde48001122row0_col36\" class=\"data row0 col36\" >Other (please specify)</td>\n",
       "                        <td id=\"T_6c12279e_41de_11ea_82c8_acde48001122row0_col37\" class=\"data row0 col37\" >Response</td>\n",
       "                        <td id=\"T_6c12279e_41de_11ea_82c8_acde48001122row0_col38\" class=\"data row0 col38\" >Response</td>\n",
       "                        <td id=\"T_6c12279e_41de_11ea_82c8_acde48001122row0_col39\" class=\"data row0 col39\" >Response</td>\n",
       "                        <td id=\"T_6c12279e_41de_11ea_82c8_acde48001122row0_col40\" class=\"data row0 col40\" >Response</td>\n",
       "                        <td id=\"T_6c12279e_41de_11ea_82c8_acde48001122row0_col41\" class=\"data row0 col41\" >Response</td>\n",
       "                        <td id=\"T_6c12279e_41de_11ea_82c8_acde48001122row0_col42\" class=\"data row0 col42\" >Response</td>\n",
       "                        <td id=\"T_6c12279e_41de_11ea_82c8_acde48001122row0_col43\" class=\"data row0 col43\" >Other (please specify)</td>\n",
       "                        <td id=\"T_6c12279e_41de_11ea_82c8_acde48001122row0_col44\" class=\"data row0 col44\" >iPhone</td>\n",
       "                        <td id=\"T_6c12279e_41de_11ea_82c8_acde48001122row0_col45\" class=\"data row0 col45\" >Android</td>\n",
       "                        <td id=\"T_6c12279e_41de_11ea_82c8_acde48001122row0_col46\" class=\"data row0 col46\" >Blackberry</td>\n",
       "                        <td id=\"T_6c12279e_41de_11ea_82c8_acde48001122row0_col47\" class=\"data row0 col47\" >Windows Phone</td>\n",
       "                        <td id=\"T_6c12279e_41de_11ea_82c8_acde48001122row0_col48\" class=\"data row0 col48\" >Other Smart Phone</td>\n",
       "                        <td id=\"T_6c12279e_41de_11ea_82c8_acde48001122row0_col49\" class=\"data row0 col49\" >Regular Mobile Phone</td>\n",
       "                        <td id=\"T_6c12279e_41de_11ea_82c8_acde48001122row0_col50\" class=\"data row0 col50\" >Kindle</td>\n",
       "                        <td id=\"T_6c12279e_41de_11ea_82c8_acde48001122row0_col51\" class=\"data row0 col51\" >Nook</td>\n",
       "                        <td id=\"T_6c12279e_41de_11ea_82c8_acde48001122row0_col52\" class=\"data row0 col52\" >AppleTV</td>\n",
       "                        <td id=\"T_6c12279e_41de_11ea_82c8_acde48001122row0_col53\" class=\"data row0 col53\" >Boxee</td>\n",
       "                        <td id=\"T_6c12279e_41de_11ea_82c8_acde48001122row0_col54\" class=\"data row0 col54\" >Other media streaming device</td>\n",
       "                        <td id=\"T_6c12279e_41de_11ea_82c8_acde48001122row0_col55\" class=\"data row0 col55\" >Netbook</td>\n",
       "                        <td id=\"T_6c12279e_41de_11ea_82c8_acde48001122row0_col56\" class=\"data row0 col56\" >PS3</td>\n",
       "                        <td id=\"T_6c12279e_41de_11ea_82c8_acde48001122row0_col57\" class=\"data row0 col57\" >Xbox</td>\n",
       "                        <td id=\"T_6c12279e_41de_11ea_82c8_acde48001122row0_col58\" class=\"data row0 col58\" >Wii</td>\n",
       "                        <td id=\"T_6c12279e_41de_11ea_82c8_acde48001122row0_col59\" class=\"data row0 col59\" >Other gaming system</td>\n",
       "                        <td id=\"T_6c12279e_41de_11ea_82c8_acde48001122row0_col60\" class=\"data row0 col60\" >Kindle Fire</td>\n",
       "                        <td id=\"T_6c12279e_41de_11ea_82c8_acde48001122row0_col61\" class=\"data row0 col61\" >iPad</td>\n",
       "                        <td id=\"T_6c12279e_41de_11ea_82c8_acde48001122row0_col62\" class=\"data row0 col62\" >Other tablet</td>\n",
       "                        <td id=\"T_6c12279e_41de_11ea_82c8_acde48001122row0_col63\" class=\"data row0 col63\" >Other (please specify)</td>\n",
       "                        <td id=\"T_6c12279e_41de_11ea_82c8_acde48001122row0_col64\" class=\"data row0 col64\" >Response</td>\n",
       "                        <td id=\"T_6c12279e_41de_11ea_82c8_acde48001122row0_col65\" class=\"data row0 col65\" >The ads are relevant</td>\n",
       "                        <td id=\"T_6c12279e_41de_11ea_82c8_acde48001122row0_col66\" class=\"data row0 col66\" >The ads are entertaining</td>\n",
       "                        <td id=\"T_6c12279e_41de_11ea_82c8_acde48001122row0_col67\" class=\"data row0 col67\" >The ads are Informative</td>\n",
       "                        <td id=\"T_6c12279e_41de_11ea_82c8_acde48001122row0_col68\" class=\"data row0 col68\" >I click on ads that interest me</td>\n",
       "                        <td id=\"T_6c12279e_41de_11ea_82c8_acde48001122row0_col69\" class=\"data row0 col69\" >I've taken a trial/purchased a product from ads</td>\n",
       "                        <td id=\"T_6c12279e_41de_11ea_82c8_acde48001122row0_col70\" class=\"data row0 col70\" >What ads? I use an ad blocker</td>\n",
       "                        <td id=\"T_6c12279e_41de_11ea_82c8_acde48001122row0_col71\" class=\"data row0 col71\" >Open-Ended Response</td>\n",
       "                        <td id=\"T_6c12279e_41de_11ea_82c8_acde48001122row0_col72\" class=\"data row0 col72\" >Response</td>\n",
       "                        <td id=\"T_6c12279e_41de_11ea_82c8_acde48001122row0_col73\" class=\"data row0 col73\" >Response</td>\n",
       "                        <td id=\"T_6c12279e_41de_11ea_82c8_acde48001122row0_col74\" class=\"data row0 col74\" >Other Stack Exchange (please specify)</td>\n",
       "            </tr>\n",
       "            <tr>\n",
       "                        <th id=\"T_6c12279e_41de_11ea_82c8_acde48001122level0_row1\" class=\"row_heading level0 row1\" >1</th>\n",
       "                        <td id=\"T_6c12279e_41de_11ea_82c8_acde48001122row1_col0\" class=\"data row1 col0\" >India</td>\n",
       "                        <td id=\"T_6c12279e_41de_11ea_82c8_acde48001122row1_col1\" class=\"data row1 col1\" >nan</td>\n",
       "                        <td id=\"T_6c12279e_41de_11ea_82c8_acde48001122row1_col2\" class=\"data row1 col2\" >20-24</td>\n",
       "                        <td id=\"T_6c12279e_41de_11ea_82c8_acde48001122row1_col3\" class=\"data row1 col3\" ><2</td>\n",
       "                        <td id=\"T_6c12279e_41de_11ea_82c8_acde48001122row1_col4\" class=\"data row1 col4\" >Consulting</td>\n",
       "                        <td id=\"T_6c12279e_41de_11ea_82c8_acde48001122row1_col5\" class=\"data row1 col5\" >Fortune 1000 (1,000+)</td>\n",
       "                        <td id=\"T_6c12279e_41de_11ea_82c8_acde48001122row1_col6\" class=\"data row1 col6\" >Server Programmer</td>\n",
       "                        <td id=\"T_6c12279e_41de_11ea_82c8_acde48001122row1_col7\" class=\"data row1 col7\" >Influencer</td>\n",
       "                        <td id=\"T_6c12279e_41de_11ea_82c8_acde48001122row1_col8\" class=\"data row1 col8\" >Recommender</td>\n",
       "                        <td id=\"T_6c12279e_41de_11ea_82c8_acde48001122row1_col9\" class=\"data row1 col9\" >nan</td>\n",
       "                        <td id=\"T_6c12279e_41de_11ea_82c8_acde48001122row1_col10\" class=\"data row1 col10\" >nan</td>\n",
       "                        <td id=\"T_6c12279e_41de_11ea_82c8_acde48001122row1_col11\" class=\"data row1 col11\" >nan</td>\n",
       "                        <td id=\"T_6c12279e_41de_11ea_82c8_acde48001122row1_col12\" class=\"data row1 col12\" >nan</td>\n",
       "                        <td id=\"T_6c12279e_41de_11ea_82c8_acde48001122row1_col13\" class=\"data row1 col13\" >nan</td>\n",
       "                        <td id=\"T_6c12279e_41de_11ea_82c8_acde48001122row1_col14\" class=\"data row1 col14\" >Hardware</td>\n",
       "                        <td id=\"T_6c12279e_41de_11ea_82c8_acde48001122row1_col15\" class=\"data row1 col15\" >Servers</td>\n",
       "                        <td id=\"T_6c12279e_41de_11ea_82c8_acde48001122row1_col16\" class=\"data row1 col16\" >Software</td>\n",
       "                        <td id=\"T_6c12279e_41de_11ea_82c8_acde48001122row1_col17\" class=\"data row1 col17\" >User Equipment: Monitors, PCs, Laptops</td>\n",
       "                        <td id=\"T_6c12279e_41de_11ea_82c8_acde48001122row1_col18\" class=\"data row1 col18\" >Consultants</td>\n",
       "                        <td id=\"T_6c12279e_41de_11ea_82c8_acde48001122row1_col19\" class=\"data row1 col19\" >nan</td>\n",
       "                        <td id=\"T_6c12279e_41de_11ea_82c8_acde48001122row1_col20\" class=\"data row1 col20\" ><$10,000</td>\n",
       "                        <td id=\"T_6c12279e_41de_11ea_82c8_acde48001122row1_col21\" class=\"data row1 col21\" >SaaS</td>\n",
       "                        <td id=\"T_6c12279e_41de_11ea_82c8_acde48001122row1_col22\" class=\"data row1 col22\" >Java</td>\n",
       "                        <td id=\"T_6c12279e_41de_11ea_82c8_acde48001122row1_col23\" class=\"data row1 col23\" >JavaScript</td>\n",
       "                        <td id=\"T_6c12279e_41de_11ea_82c8_acde48001122row1_col24\" class=\"data row1 col24\" >nan</td>\n",
       "                        <td id=\"T_6c12279e_41de_11ea_82c8_acde48001122row1_col25\" class=\"data row1 col25\" >nan</td>\n",
       "                        <td id=\"T_6c12279e_41de_11ea_82c8_acde48001122row1_col26\" class=\"data row1 col26\" >nan</td>\n",
       "                        <td id=\"T_6c12279e_41de_11ea_82c8_acde48001122row1_col27\" class=\"data row1 col27\" >nan</td>\n",
       "                        <td id=\"T_6c12279e_41de_11ea_82c8_acde48001122row1_col28\" class=\"data row1 col28\" >nan</td>\n",
       "                        <td id=\"T_6c12279e_41de_11ea_82c8_acde48001122row1_col29\" class=\"data row1 col29\" >SQL</td>\n",
       "                        <td id=\"T_6c12279e_41de_11ea_82c8_acde48001122row1_col30\" class=\"data row1 col30\" >nan</td>\n",
       "                        <td id=\"T_6c12279e_41de_11ea_82c8_acde48001122row1_col31\" class=\"data row1 col31\" >C++</td>\n",
       "                        <td id=\"T_6c12279e_41de_11ea_82c8_acde48001122row1_col32\" class=\"data row1 col32\" >C</td>\n",
       "                        <td id=\"T_6c12279e_41de_11ea_82c8_acde48001122row1_col33\" class=\"data row1 col33\" >nan</td>\n",
       "                        <td id=\"T_6c12279e_41de_11ea_82c8_acde48001122row1_col34\" class=\"data row1 col34\" >nan</td>\n",
       "                        <td id=\"T_6c12279e_41de_11ea_82c8_acde48001122row1_col35\" class=\"data row1 col35\" >nan</td>\n",
       "                        <td id=\"T_6c12279e_41de_11ea_82c8_acde48001122row1_col36\" class=\"data row1 col36\" >nan</td>\n",
       "                        <td id=\"T_6c12279e_41de_11ea_82c8_acde48001122row1_col37\" class=\"data row1 col37\" >Linux</td>\n",
       "                        <td id=\"T_6c12279e_41de_11ea_82c8_acde48001122row1_col38\" class=\"data row1 col38\" >Love my job</td>\n",
       "                        <td id=\"T_6c12279e_41de_11ea_82c8_acde48001122row1_col39\" class=\"data row1 col39\" ><$20,000</td>\n",
       "                        <td id=\"T_6c12279e_41de_11ea_82c8_acde48001122row1_col40\" class=\"data row1 col40\" >Yes</td>\n",
       "                        <td id=\"T_6c12279e_41de_11ea_82c8_acde48001122row1_col41\" class=\"data row1 col41\" >No, but I want one! (Please provide email and we will invite you)</td>\n",
       "                        <td id=\"T_6c12279e_41de_11ea_82c8_acde48001122row1_col42\" class=\"data row1 col42\" >nan</td>\n",
       "                        <td id=\"T_6c12279e_41de_11ea_82c8_acde48001122row1_col43\" class=\"data row1 col43\" >nan</td>\n",
       "                        <td id=\"T_6c12279e_41de_11ea_82c8_acde48001122row1_col44\" class=\"data row1 col44\" >iPhone</td>\n",
       "                        <td id=\"T_6c12279e_41de_11ea_82c8_acde48001122row1_col45\" class=\"data row1 col45\" >Android</td>\n",
       "                        <td id=\"T_6c12279e_41de_11ea_82c8_acde48001122row1_col46\" class=\"data row1 col46\" >nan</td>\n",
       "                        <td id=\"T_6c12279e_41de_11ea_82c8_acde48001122row1_col47\" class=\"data row1 col47\" >nan</td>\n",
       "                        <td id=\"T_6c12279e_41de_11ea_82c8_acde48001122row1_col48\" class=\"data row1 col48\" >nan</td>\n",
       "                        <td id=\"T_6c12279e_41de_11ea_82c8_acde48001122row1_col49\" class=\"data row1 col49\" >nan</td>\n",
       "                        <td id=\"T_6c12279e_41de_11ea_82c8_acde48001122row1_col50\" class=\"data row1 col50\" >nan</td>\n",
       "                        <td id=\"T_6c12279e_41de_11ea_82c8_acde48001122row1_col51\" class=\"data row1 col51\" >nan</td>\n",
       "                        <td id=\"T_6c12279e_41de_11ea_82c8_acde48001122row1_col52\" class=\"data row1 col52\" >nan</td>\n",
       "                        <td id=\"T_6c12279e_41de_11ea_82c8_acde48001122row1_col53\" class=\"data row1 col53\" >nan</td>\n",
       "                        <td id=\"T_6c12279e_41de_11ea_82c8_acde48001122row1_col54\" class=\"data row1 col54\" >nan</td>\n",
       "                        <td id=\"T_6c12279e_41de_11ea_82c8_acde48001122row1_col55\" class=\"data row1 col55\" >Netbook</td>\n",
       "                        <td id=\"T_6c12279e_41de_11ea_82c8_acde48001122row1_col56\" class=\"data row1 col56\" >nan</td>\n",
       "                        <td id=\"T_6c12279e_41de_11ea_82c8_acde48001122row1_col57\" class=\"data row1 col57\" >nan</td>\n",
       "                        <td id=\"T_6c12279e_41de_11ea_82c8_acde48001122row1_col58\" class=\"data row1 col58\" >nan</td>\n",
       "                        <td id=\"T_6c12279e_41de_11ea_82c8_acde48001122row1_col59\" class=\"data row1 col59\" >nan</td>\n",
       "                        <td id=\"T_6c12279e_41de_11ea_82c8_acde48001122row1_col60\" class=\"data row1 col60\" >nan</td>\n",
       "                        <td id=\"T_6c12279e_41de_11ea_82c8_acde48001122row1_col61\" class=\"data row1 col61\" >nan</td>\n",
       "                        <td id=\"T_6c12279e_41de_11ea_82c8_acde48001122row1_col62\" class=\"data row1 col62\" >nan</td>\n",
       "                        <td id=\"T_6c12279e_41de_11ea_82c8_acde48001122row1_col63\" class=\"data row1 col63\" >nan</td>\n",
       "                        <td id=\"T_6c12279e_41de_11ea_82c8_acde48001122row1_col64\" class=\"data row1 col64\" >$501-$1,000</td>\n",
       "                        <td id=\"T_6c12279e_41de_11ea_82c8_acde48001122row1_col65\" class=\"data row1 col65\" >nan</td>\n",
       "                        <td id=\"T_6c12279e_41de_11ea_82c8_acde48001122row1_col66\" class=\"data row1 col66\" >nan</td>\n",
       "                        <td id=\"T_6c12279e_41de_11ea_82c8_acde48001122row1_col67\" class=\"data row1 col67\" >nan</td>\n",
       "                        <td id=\"T_6c12279e_41de_11ea_82c8_acde48001122row1_col68\" class=\"data row1 col68\" >nan</td>\n",
       "                        <td id=\"T_6c12279e_41de_11ea_82c8_acde48001122row1_col69\" class=\"data row1 col69\" >nan</td>\n",
       "                        <td id=\"T_6c12279e_41de_11ea_82c8_acde48001122row1_col70\" class=\"data row1 col70\" >nan</td>\n",
       "                        <td id=\"T_6c12279e_41de_11ea_82c8_acde48001122row1_col71\" class=\"data row1 col71\" >nan</td>\n",
       "                        <td id=\"T_6c12279e_41de_11ea_82c8_acde48001122row1_col72\" class=\"data row1 col72\" >nan</td>\n",
       "                        <td id=\"T_6c12279e_41de_11ea_82c8_acde48001122row1_col73\" class=\"data row1 col73\" >nan</td>\n",
       "                        <td id=\"T_6c12279e_41de_11ea_82c8_acde48001122row1_col74\" class=\"data row1 col74\" >nan</td>\n",
       "            </tr>\n",
       "    </tbody></table>"
      ],
      "text/plain": [
       "<pandas.io.formats.style.Styler at 0x1c56b12110>"
      ]
     },
     "execution_count": 517,
     "metadata": {},
     "output_type": "execute_result"
    }
   ],
   "source": [
    "survey_2012 = pd.read_csv(\"survey_results_public_2012.csv\",sep = \",\",engine='python')\n",
    "survey_2012.head(2).style.set_properties(**style_dict)"
   ]
  },
  {
   "cell_type": "code",
   "execution_count": 518,
   "metadata": {
    "collapsed": true
   },
   "outputs": [
    {
     "data": {
      "text/html": [
       "<style  type=\"text/css\" >\n",
       "    #T_6c67e3be_41de_11ea_82c8_acde48001122row0_col0 {\n",
       "            background-color:  lightyellow;\n",
       "            color:  #000000;\n",
       "            border-color:  red;\n",
       "            font-family:  Roboto;\n",
       "        }    #T_6c67e3be_41de_11ea_82c8_acde48001122row0_col1 {\n",
       "            background-color:  lightyellow;\n",
       "            color:  #000000;\n",
       "            border-color:  red;\n",
       "            font-family:  Roboto;\n",
       "        }    #T_6c67e3be_41de_11ea_82c8_acde48001122row0_col2 {\n",
       "            background-color:  lightyellow;\n",
       "            color:  #000000;\n",
       "            border-color:  red;\n",
       "            font-family:  Roboto;\n",
       "        }    #T_6c67e3be_41de_11ea_82c8_acde48001122row0_col3 {\n",
       "            background-color:  lightyellow;\n",
       "            color:  #000000;\n",
       "            border-color:  red;\n",
       "            font-family:  Roboto;\n",
       "        }    #T_6c67e3be_41de_11ea_82c8_acde48001122row0_col4 {\n",
       "            background-color:  lightyellow;\n",
       "            color:  #000000;\n",
       "            border-color:  red;\n",
       "            font-family:  Roboto;\n",
       "        }    #T_6c67e3be_41de_11ea_82c8_acde48001122row0_col5 {\n",
       "            background-color:  lightyellow;\n",
       "            color:  #000000;\n",
       "            border-color:  red;\n",
       "            font-family:  Roboto;\n",
       "        }    #T_6c67e3be_41de_11ea_82c8_acde48001122row0_col6 {\n",
       "            background-color:  lightyellow;\n",
       "            color:  #000000;\n",
       "            border-color:  red;\n",
       "            font-family:  Roboto;\n",
       "        }    #T_6c67e3be_41de_11ea_82c8_acde48001122row0_col7 {\n",
       "            background-color:  lightyellow;\n",
       "            color:  #000000;\n",
       "            border-color:  red;\n",
       "            font-family:  Roboto;\n",
       "        }    #T_6c67e3be_41de_11ea_82c8_acde48001122row0_col8 {\n",
       "            background-color:  lightyellow;\n",
       "            color:  #000000;\n",
       "            border-color:  red;\n",
       "            font-family:  Roboto;\n",
       "        }    #T_6c67e3be_41de_11ea_82c8_acde48001122row0_col9 {\n",
       "            background-color:  lightyellow;\n",
       "            color:  #000000;\n",
       "            border-color:  red;\n",
       "            font-family:  Roboto;\n",
       "        }    #T_6c67e3be_41de_11ea_82c8_acde48001122row0_col10 {\n",
       "            background-color:  lightyellow;\n",
       "            color:  #000000;\n",
       "            border-color:  red;\n",
       "            font-family:  Roboto;\n",
       "        }    #T_6c67e3be_41de_11ea_82c8_acde48001122row0_col11 {\n",
       "            background-color:  lightyellow;\n",
       "            color:  #000000;\n",
       "            border-color:  red;\n",
       "            font-family:  Roboto;\n",
       "        }    #T_6c67e3be_41de_11ea_82c8_acde48001122row0_col12 {\n",
       "            background-color:  lightyellow;\n",
       "            color:  #000000;\n",
       "            border-color:  red;\n",
       "            font-family:  Roboto;\n",
       "        }    #T_6c67e3be_41de_11ea_82c8_acde48001122row0_col13 {\n",
       "            background-color:  lightyellow;\n",
       "            color:  #000000;\n",
       "            border-color:  red;\n",
       "            font-family:  Roboto;\n",
       "        }    #T_6c67e3be_41de_11ea_82c8_acde48001122row0_col14 {\n",
       "            background-color:  lightyellow;\n",
       "            color:  #000000;\n",
       "            border-color:  red;\n",
       "            font-family:  Roboto;\n",
       "        }    #T_6c67e3be_41de_11ea_82c8_acde48001122row0_col15 {\n",
       "            background-color:  lightyellow;\n",
       "            color:  #000000;\n",
       "            border-color:  red;\n",
       "            font-family:  Roboto;\n",
       "        }    #T_6c67e3be_41de_11ea_82c8_acde48001122row0_col16 {\n",
       "            background-color:  lightyellow;\n",
       "            color:  #000000;\n",
       "            border-color:  red;\n",
       "            font-family:  Roboto;\n",
       "        }    #T_6c67e3be_41de_11ea_82c8_acde48001122row0_col17 {\n",
       "            background-color:  lightyellow;\n",
       "            color:  #000000;\n",
       "            border-color:  red;\n",
       "            font-family:  Roboto;\n",
       "        }    #T_6c67e3be_41de_11ea_82c8_acde48001122row0_col18 {\n",
       "            background-color:  lightyellow;\n",
       "            color:  #000000;\n",
       "            border-color:  red;\n",
       "            font-family:  Roboto;\n",
       "        }    #T_6c67e3be_41de_11ea_82c8_acde48001122row0_col19 {\n",
       "            background-color:  lightyellow;\n",
       "            color:  #000000;\n",
       "            border-color:  red;\n",
       "            font-family:  Roboto;\n",
       "        }    #T_6c67e3be_41de_11ea_82c8_acde48001122row0_col20 {\n",
       "            background-color:  lightyellow;\n",
       "            color:  #000000;\n",
       "            border-color:  red;\n",
       "            font-family:  Roboto;\n",
       "        }    #T_6c67e3be_41de_11ea_82c8_acde48001122row0_col21 {\n",
       "            background-color:  lightyellow;\n",
       "            color:  #000000;\n",
       "            border-color:  red;\n",
       "            font-family:  Roboto;\n",
       "        }    #T_6c67e3be_41de_11ea_82c8_acde48001122row0_col22 {\n",
       "            background-color:  lightyellow;\n",
       "            color:  #000000;\n",
       "            border-color:  red;\n",
       "            font-family:  Roboto;\n",
       "        }    #T_6c67e3be_41de_11ea_82c8_acde48001122row0_col23 {\n",
       "            background-color:  lightyellow;\n",
       "            color:  #000000;\n",
       "            border-color:  red;\n",
       "            font-family:  Roboto;\n",
       "        }    #T_6c67e3be_41de_11ea_82c8_acde48001122row0_col24 {\n",
       "            background-color:  lightyellow;\n",
       "            color:  #000000;\n",
       "            border-color:  red;\n",
       "            font-family:  Roboto;\n",
       "        }    #T_6c67e3be_41de_11ea_82c8_acde48001122row0_col25 {\n",
       "            background-color:  lightyellow;\n",
       "            color:  #000000;\n",
       "            border-color:  red;\n",
       "            font-family:  Roboto;\n",
       "        }    #T_6c67e3be_41de_11ea_82c8_acde48001122row0_col26 {\n",
       "            background-color:  lightyellow;\n",
       "            color:  #000000;\n",
       "            border-color:  red;\n",
       "            font-family:  Roboto;\n",
       "        }    #T_6c67e3be_41de_11ea_82c8_acde48001122row0_col27 {\n",
       "            background-color:  lightyellow;\n",
       "            color:  #000000;\n",
       "            border-color:  red;\n",
       "            font-family:  Roboto;\n",
       "        }    #T_6c67e3be_41de_11ea_82c8_acde48001122row0_col28 {\n",
       "            background-color:  lightyellow;\n",
       "            color:  #000000;\n",
       "            border-color:  red;\n",
       "            font-family:  Roboto;\n",
       "        }    #T_6c67e3be_41de_11ea_82c8_acde48001122row0_col29 {\n",
       "            background-color:  lightyellow;\n",
       "            color:  #000000;\n",
       "            border-color:  red;\n",
       "            font-family:  Roboto;\n",
       "        }    #T_6c67e3be_41de_11ea_82c8_acde48001122row0_col30 {\n",
       "            background-color:  lightyellow;\n",
       "            color:  #000000;\n",
       "            border-color:  red;\n",
       "            font-family:  Roboto;\n",
       "        }    #T_6c67e3be_41de_11ea_82c8_acde48001122row0_col31 {\n",
       "            background-color:  lightyellow;\n",
       "            color:  #000000;\n",
       "            border-color:  red;\n",
       "            font-family:  Roboto;\n",
       "        }    #T_6c67e3be_41de_11ea_82c8_acde48001122row0_col32 {\n",
       "            background-color:  lightyellow;\n",
       "            color:  #000000;\n",
       "            border-color:  red;\n",
       "            font-family:  Roboto;\n",
       "        }    #T_6c67e3be_41de_11ea_82c8_acde48001122row0_col33 {\n",
       "            background-color:  lightyellow;\n",
       "            color:  #000000;\n",
       "            border-color:  red;\n",
       "            font-family:  Roboto;\n",
       "        }    #T_6c67e3be_41de_11ea_82c8_acde48001122row0_col34 {\n",
       "            background-color:  lightyellow;\n",
       "            color:  #000000;\n",
       "            border-color:  red;\n",
       "            font-family:  Roboto;\n",
       "        }    #T_6c67e3be_41de_11ea_82c8_acde48001122row0_col35 {\n",
       "            background-color:  lightyellow;\n",
       "            color:  #000000;\n",
       "            border-color:  red;\n",
       "            font-family:  Roboto;\n",
       "        }    #T_6c67e3be_41de_11ea_82c8_acde48001122row0_col36 {\n",
       "            background-color:  lightyellow;\n",
       "            color:  #000000;\n",
       "            border-color:  red;\n",
       "            font-family:  Roboto;\n",
       "        }    #T_6c67e3be_41de_11ea_82c8_acde48001122row0_col37 {\n",
       "            background-color:  lightyellow;\n",
       "            color:  #000000;\n",
       "            border-color:  red;\n",
       "            font-family:  Roboto;\n",
       "        }    #T_6c67e3be_41de_11ea_82c8_acde48001122row0_col38 {\n",
       "            background-color:  lightyellow;\n",
       "            color:  #000000;\n",
       "            border-color:  red;\n",
       "            font-family:  Roboto;\n",
       "        }    #T_6c67e3be_41de_11ea_82c8_acde48001122row0_col39 {\n",
       "            background-color:  lightyellow;\n",
       "            color:  #000000;\n",
       "            border-color:  red;\n",
       "            font-family:  Roboto;\n",
       "        }    #T_6c67e3be_41de_11ea_82c8_acde48001122row0_col40 {\n",
       "            background-color:  lightyellow;\n",
       "            color:  #000000;\n",
       "            border-color:  red;\n",
       "            font-family:  Roboto;\n",
       "        }    #T_6c67e3be_41de_11ea_82c8_acde48001122row0_col41 {\n",
       "            background-color:  lightyellow;\n",
       "            color:  #000000;\n",
       "            border-color:  red;\n",
       "            font-family:  Roboto;\n",
       "        }    #T_6c67e3be_41de_11ea_82c8_acde48001122row0_col42 {\n",
       "            background-color:  lightyellow;\n",
       "            color:  #000000;\n",
       "            border-color:  red;\n",
       "            font-family:  Roboto;\n",
       "        }    #T_6c67e3be_41de_11ea_82c8_acde48001122row0_col43 {\n",
       "            background-color:  lightyellow;\n",
       "            color:  #000000;\n",
       "            border-color:  red;\n",
       "            font-family:  Roboto;\n",
       "        }    #T_6c67e3be_41de_11ea_82c8_acde48001122row0_col44 {\n",
       "            background-color:  lightyellow;\n",
       "            color:  #000000;\n",
       "            border-color:  red;\n",
       "            font-family:  Roboto;\n",
       "        }    #T_6c67e3be_41de_11ea_82c8_acde48001122row0_col45 {\n",
       "            background-color:  lightyellow;\n",
       "            color:  #000000;\n",
       "            border-color:  red;\n",
       "            font-family:  Roboto;\n",
       "        }    #T_6c67e3be_41de_11ea_82c8_acde48001122row0_col46 {\n",
       "            background-color:  lightyellow;\n",
       "            color:  #000000;\n",
       "            border-color:  red;\n",
       "            font-family:  Roboto;\n",
       "        }    #T_6c67e3be_41de_11ea_82c8_acde48001122row0_col47 {\n",
       "            background-color:  lightyellow;\n",
       "            color:  #000000;\n",
       "            border-color:  red;\n",
       "            font-family:  Roboto;\n",
       "        }    #T_6c67e3be_41de_11ea_82c8_acde48001122row0_col48 {\n",
       "            background-color:  lightyellow;\n",
       "            color:  #000000;\n",
       "            border-color:  red;\n",
       "            font-family:  Roboto;\n",
       "        }    #T_6c67e3be_41de_11ea_82c8_acde48001122row0_col49 {\n",
       "            background-color:  lightyellow;\n",
       "            color:  #000000;\n",
       "            border-color:  red;\n",
       "            font-family:  Roboto;\n",
       "        }    #T_6c67e3be_41de_11ea_82c8_acde48001122row0_col50 {\n",
       "            background-color:  lightyellow;\n",
       "            color:  #000000;\n",
       "            border-color:  red;\n",
       "            font-family:  Roboto;\n",
       "        }    #T_6c67e3be_41de_11ea_82c8_acde48001122row0_col51 {\n",
       "            background-color:  lightyellow;\n",
       "            color:  #000000;\n",
       "            border-color:  red;\n",
       "            font-family:  Roboto;\n",
       "        }    #T_6c67e3be_41de_11ea_82c8_acde48001122row0_col52 {\n",
       "            background-color:  lightyellow;\n",
       "            color:  #000000;\n",
       "            border-color:  red;\n",
       "            font-family:  Roboto;\n",
       "        }    #T_6c67e3be_41de_11ea_82c8_acde48001122row0_col53 {\n",
       "            background-color:  lightyellow;\n",
       "            color:  #000000;\n",
       "            border-color:  red;\n",
       "            font-family:  Roboto;\n",
       "        }    #T_6c67e3be_41de_11ea_82c8_acde48001122row0_col54 {\n",
       "            background-color:  lightyellow;\n",
       "            color:  #000000;\n",
       "            border-color:  red;\n",
       "            font-family:  Roboto;\n",
       "        }    #T_6c67e3be_41de_11ea_82c8_acde48001122row0_col55 {\n",
       "            background-color:  lightyellow;\n",
       "            color:  #000000;\n",
       "            border-color:  red;\n",
       "            font-family:  Roboto;\n",
       "        }    #T_6c67e3be_41de_11ea_82c8_acde48001122row0_col56 {\n",
       "            background-color:  lightyellow;\n",
       "            color:  #000000;\n",
       "            border-color:  red;\n",
       "            font-family:  Roboto;\n",
       "        }    #T_6c67e3be_41de_11ea_82c8_acde48001122row0_col57 {\n",
       "            background-color:  lightyellow;\n",
       "            color:  #000000;\n",
       "            border-color:  red;\n",
       "            font-family:  Roboto;\n",
       "        }    #T_6c67e3be_41de_11ea_82c8_acde48001122row0_col58 {\n",
       "            background-color:  lightyellow;\n",
       "            color:  #000000;\n",
       "            border-color:  red;\n",
       "            font-family:  Roboto;\n",
       "        }    #T_6c67e3be_41de_11ea_82c8_acde48001122row0_col59 {\n",
       "            background-color:  lightyellow;\n",
       "            color:  #000000;\n",
       "            border-color:  red;\n",
       "            font-family:  Roboto;\n",
       "        }    #T_6c67e3be_41de_11ea_82c8_acde48001122row0_col60 {\n",
       "            background-color:  lightyellow;\n",
       "            color:  #000000;\n",
       "            border-color:  red;\n",
       "            font-family:  Roboto;\n",
       "        }    #T_6c67e3be_41de_11ea_82c8_acde48001122row0_col61 {\n",
       "            background-color:  lightyellow;\n",
       "            color:  #000000;\n",
       "            border-color:  red;\n",
       "            font-family:  Roboto;\n",
       "        }    #T_6c67e3be_41de_11ea_82c8_acde48001122row0_col62 {\n",
       "            background-color:  lightyellow;\n",
       "            color:  #000000;\n",
       "            border-color:  red;\n",
       "            font-family:  Roboto;\n",
       "        }    #T_6c67e3be_41de_11ea_82c8_acde48001122row0_col63 {\n",
       "            background-color:  lightyellow;\n",
       "            color:  #000000;\n",
       "            border-color:  red;\n",
       "            font-family:  Roboto;\n",
       "        }    #T_6c67e3be_41de_11ea_82c8_acde48001122row0_col64 {\n",
       "            background-color:  lightyellow;\n",
       "            color:  #000000;\n",
       "            border-color:  red;\n",
       "            font-family:  Roboto;\n",
       "        }    #T_6c67e3be_41de_11ea_82c8_acde48001122row0_col65 {\n",
       "            background-color:  lightyellow;\n",
       "            color:  #000000;\n",
       "            border-color:  red;\n",
       "            font-family:  Roboto;\n",
       "        }    #T_6c67e3be_41de_11ea_82c8_acde48001122row0_col66 {\n",
       "            background-color:  lightyellow;\n",
       "            color:  #000000;\n",
       "            border-color:  red;\n",
       "            font-family:  Roboto;\n",
       "        }    #T_6c67e3be_41de_11ea_82c8_acde48001122row0_col67 {\n",
       "            background-color:  lightyellow;\n",
       "            color:  #000000;\n",
       "            border-color:  red;\n",
       "            font-family:  Roboto;\n",
       "        }    #T_6c67e3be_41de_11ea_82c8_acde48001122row0_col68 {\n",
       "            background-color:  lightyellow;\n",
       "            color:  #000000;\n",
       "            border-color:  red;\n",
       "            font-family:  Roboto;\n",
       "        }    #T_6c67e3be_41de_11ea_82c8_acde48001122row0_col69 {\n",
       "            background-color:  lightyellow;\n",
       "            color:  #000000;\n",
       "            border-color:  red;\n",
       "            font-family:  Roboto;\n",
       "        }    #T_6c67e3be_41de_11ea_82c8_acde48001122row0_col70 {\n",
       "            background-color:  lightyellow;\n",
       "            color:  #000000;\n",
       "            border-color:  red;\n",
       "            font-family:  Roboto;\n",
       "        }    #T_6c67e3be_41de_11ea_82c8_acde48001122row0_col71 {\n",
       "            background-color:  lightyellow;\n",
       "            color:  #000000;\n",
       "            border-color:  red;\n",
       "            font-family:  Roboto;\n",
       "        }    #T_6c67e3be_41de_11ea_82c8_acde48001122row0_col72 {\n",
       "            background-color:  lightyellow;\n",
       "            color:  #000000;\n",
       "            border-color:  red;\n",
       "            font-family:  Roboto;\n",
       "        }    #T_6c67e3be_41de_11ea_82c8_acde48001122row0_col73 {\n",
       "            background-color:  lightyellow;\n",
       "            color:  #000000;\n",
       "            border-color:  red;\n",
       "            font-family:  Roboto;\n",
       "        }    #T_6c67e3be_41de_11ea_82c8_acde48001122row0_col74 {\n",
       "            background-color:  lightyellow;\n",
       "            color:  #000000;\n",
       "            border-color:  red;\n",
       "            font-family:  Roboto;\n",
       "        }    #T_6c67e3be_41de_11ea_82c8_acde48001122row0_col75 {\n",
       "            background-color:  lightyellow;\n",
       "            color:  #000000;\n",
       "            border-color:  red;\n",
       "            font-family:  Roboto;\n",
       "        }    #T_6c67e3be_41de_11ea_82c8_acde48001122row0_col76 {\n",
       "            background-color:  lightyellow;\n",
       "            color:  #000000;\n",
       "            border-color:  red;\n",
       "            font-family:  Roboto;\n",
       "        }    #T_6c67e3be_41de_11ea_82c8_acde48001122row0_col77 {\n",
       "            background-color:  lightyellow;\n",
       "            color:  #000000;\n",
       "            border-color:  red;\n",
       "            font-family:  Roboto;\n",
       "        }    #T_6c67e3be_41de_11ea_82c8_acde48001122row0_col78 {\n",
       "            background-color:  lightyellow;\n",
       "            color:  #000000;\n",
       "            border-color:  red;\n",
       "            font-family:  Roboto;\n",
       "        }    #T_6c67e3be_41de_11ea_82c8_acde48001122row0_col79 {\n",
       "            background-color:  lightyellow;\n",
       "            color:  #000000;\n",
       "            border-color:  red;\n",
       "            font-family:  Roboto;\n",
       "        }    #T_6c67e3be_41de_11ea_82c8_acde48001122row0_col80 {\n",
       "            background-color:  lightyellow;\n",
       "            color:  #000000;\n",
       "            border-color:  red;\n",
       "            font-family:  Roboto;\n",
       "        }    #T_6c67e3be_41de_11ea_82c8_acde48001122row0_col81 {\n",
       "            background-color:  lightyellow;\n",
       "            color:  #000000;\n",
       "            border-color:  red;\n",
       "            font-family:  Roboto;\n",
       "        }    #T_6c67e3be_41de_11ea_82c8_acde48001122row0_col82 {\n",
       "            background-color:  lightyellow;\n",
       "            color:  #000000;\n",
       "            border-color:  red;\n",
       "            font-family:  Roboto;\n",
       "        }    #T_6c67e3be_41de_11ea_82c8_acde48001122row0_col83 {\n",
       "            background-color:  lightyellow;\n",
       "            color:  #000000;\n",
       "            border-color:  red;\n",
       "            font-family:  Roboto;\n",
       "        }    #T_6c67e3be_41de_11ea_82c8_acde48001122row0_col84 {\n",
       "            background-color:  lightyellow;\n",
       "            color:  #000000;\n",
       "            border-color:  red;\n",
       "            font-family:  Roboto;\n",
       "        }    #T_6c67e3be_41de_11ea_82c8_acde48001122row0_col85 {\n",
       "            background-color:  lightyellow;\n",
       "            color:  #000000;\n",
       "            border-color:  red;\n",
       "            font-family:  Roboto;\n",
       "        }    #T_6c67e3be_41de_11ea_82c8_acde48001122row0_col86 {\n",
       "            background-color:  lightyellow;\n",
       "            color:  #000000;\n",
       "            border-color:  red;\n",
       "            font-family:  Roboto;\n",
       "        }    #T_6c67e3be_41de_11ea_82c8_acde48001122row0_col87 {\n",
       "            background-color:  lightyellow;\n",
       "            color:  #000000;\n",
       "            border-color:  red;\n",
       "            font-family:  Roboto;\n",
       "        }    #T_6c67e3be_41de_11ea_82c8_acde48001122row0_col88 {\n",
       "            background-color:  lightyellow;\n",
       "            color:  #000000;\n",
       "            border-color:  red;\n",
       "            font-family:  Roboto;\n",
       "        }    #T_6c67e3be_41de_11ea_82c8_acde48001122row0_col89 {\n",
       "            background-color:  lightyellow;\n",
       "            color:  #000000;\n",
       "            border-color:  red;\n",
       "            font-family:  Roboto;\n",
       "        }    #T_6c67e3be_41de_11ea_82c8_acde48001122row0_col90 {\n",
       "            background-color:  lightyellow;\n",
       "            color:  #000000;\n",
       "            border-color:  red;\n",
       "            font-family:  Roboto;\n",
       "        }    #T_6c67e3be_41de_11ea_82c8_acde48001122row0_col91 {\n",
       "            background-color:  lightyellow;\n",
       "            color:  #000000;\n",
       "            border-color:  red;\n",
       "            font-family:  Roboto;\n",
       "        }    #T_6c67e3be_41de_11ea_82c8_acde48001122row0_col92 {\n",
       "            background-color:  lightyellow;\n",
       "            color:  #000000;\n",
       "            border-color:  red;\n",
       "            font-family:  Roboto;\n",
       "        }    #T_6c67e3be_41de_11ea_82c8_acde48001122row0_col93 {\n",
       "            background-color:  lightyellow;\n",
       "            color:  #000000;\n",
       "            border-color:  red;\n",
       "            font-family:  Roboto;\n",
       "        }    #T_6c67e3be_41de_11ea_82c8_acde48001122row0_col94 {\n",
       "            background-color:  lightyellow;\n",
       "            color:  #000000;\n",
       "            border-color:  red;\n",
       "            font-family:  Roboto;\n",
       "        }    #T_6c67e3be_41de_11ea_82c8_acde48001122row0_col95 {\n",
       "            background-color:  lightyellow;\n",
       "            color:  #000000;\n",
       "            border-color:  red;\n",
       "            font-family:  Roboto;\n",
       "        }    #T_6c67e3be_41de_11ea_82c8_acde48001122row0_col96 {\n",
       "            background-color:  lightyellow;\n",
       "            color:  #000000;\n",
       "            border-color:  red;\n",
       "            font-family:  Roboto;\n",
       "        }    #T_6c67e3be_41de_11ea_82c8_acde48001122row0_col97 {\n",
       "            background-color:  lightyellow;\n",
       "            color:  #000000;\n",
       "            border-color:  red;\n",
       "            font-family:  Roboto;\n",
       "        }    #T_6c67e3be_41de_11ea_82c8_acde48001122row0_col98 {\n",
       "            background-color:  lightyellow;\n",
       "            color:  #000000;\n",
       "            border-color:  red;\n",
       "            font-family:  Roboto;\n",
       "        }    #T_6c67e3be_41de_11ea_82c8_acde48001122row0_col99 {\n",
       "            background-color:  lightyellow;\n",
       "            color:  #000000;\n",
       "            border-color:  red;\n",
       "            font-family:  Roboto;\n",
       "        }    #T_6c67e3be_41de_11ea_82c8_acde48001122row0_col100 {\n",
       "            background-color:  lightyellow;\n",
       "            color:  #000000;\n",
       "            border-color:  red;\n",
       "            font-family:  Roboto;\n",
       "        }    #T_6c67e3be_41de_11ea_82c8_acde48001122row0_col101 {\n",
       "            background-color:  lightyellow;\n",
       "            color:  #000000;\n",
       "            border-color:  red;\n",
       "            font-family:  Roboto;\n",
       "        }    #T_6c67e3be_41de_11ea_82c8_acde48001122row0_col102 {\n",
       "            background-color:  lightyellow;\n",
       "            color:  #000000;\n",
       "            border-color:  red;\n",
       "            font-family:  Roboto;\n",
       "        }    #T_6c67e3be_41de_11ea_82c8_acde48001122row0_col103 {\n",
       "            background-color:  lightyellow;\n",
       "            color:  #000000;\n",
       "            border-color:  red;\n",
       "            font-family:  Roboto;\n",
       "        }    #T_6c67e3be_41de_11ea_82c8_acde48001122row0_col104 {\n",
       "            background-color:  lightyellow;\n",
       "            color:  #000000;\n",
       "            border-color:  red;\n",
       "            font-family:  Roboto;\n",
       "        }    #T_6c67e3be_41de_11ea_82c8_acde48001122row0_col105 {\n",
       "            background-color:  lightyellow;\n",
       "            color:  #000000;\n",
       "            border-color:  red;\n",
       "            font-family:  Roboto;\n",
       "        }    #T_6c67e3be_41de_11ea_82c8_acde48001122row0_col106 {\n",
       "            background-color:  lightyellow;\n",
       "            color:  #000000;\n",
       "            border-color:  red;\n",
       "            font-family:  Roboto;\n",
       "        }    #T_6c67e3be_41de_11ea_82c8_acde48001122row0_col107 {\n",
       "            background-color:  lightyellow;\n",
       "            color:  #000000;\n",
       "            border-color:  red;\n",
       "            font-family:  Roboto;\n",
       "        }    #T_6c67e3be_41de_11ea_82c8_acde48001122row0_col108 {\n",
       "            background-color:  lightyellow;\n",
       "            color:  #000000;\n",
       "            border-color:  red;\n",
       "            font-family:  Roboto;\n",
       "        }    #T_6c67e3be_41de_11ea_82c8_acde48001122row0_col109 {\n",
       "            background-color:  lightyellow;\n",
       "            color:  #000000;\n",
       "            border-color:  red;\n",
       "            font-family:  Roboto;\n",
       "        }    #T_6c67e3be_41de_11ea_82c8_acde48001122row0_col110 {\n",
       "            background-color:  lightyellow;\n",
       "            color:  #000000;\n",
       "            border-color:  red;\n",
       "            font-family:  Roboto;\n",
       "        }    #T_6c67e3be_41de_11ea_82c8_acde48001122row0_col111 {\n",
       "            background-color:  lightyellow;\n",
       "            color:  #000000;\n",
       "            border-color:  red;\n",
       "            font-family:  Roboto;\n",
       "        }    #T_6c67e3be_41de_11ea_82c8_acde48001122row0_col112 {\n",
       "            background-color:  lightyellow;\n",
       "            color:  #000000;\n",
       "            border-color:  red;\n",
       "            font-family:  Roboto;\n",
       "        }    #T_6c67e3be_41de_11ea_82c8_acde48001122row0_col113 {\n",
       "            background-color:  lightyellow;\n",
       "            color:  #000000;\n",
       "            border-color:  red;\n",
       "            font-family:  Roboto;\n",
       "        }    #T_6c67e3be_41de_11ea_82c8_acde48001122row0_col114 {\n",
       "            background-color:  lightyellow;\n",
       "            color:  #000000;\n",
       "            border-color:  red;\n",
       "            font-family:  Roboto;\n",
       "        }    #T_6c67e3be_41de_11ea_82c8_acde48001122row0_col115 {\n",
       "            background-color:  lightyellow;\n",
       "            color:  #000000;\n",
       "            border-color:  red;\n",
       "            font-family:  Roboto;\n",
       "        }    #T_6c67e3be_41de_11ea_82c8_acde48001122row0_col116 {\n",
       "            background-color:  lightyellow;\n",
       "            color:  #000000;\n",
       "            border-color:  red;\n",
       "            font-family:  Roboto;\n",
       "        }    #T_6c67e3be_41de_11ea_82c8_acde48001122row0_col117 {\n",
       "            background-color:  lightyellow;\n",
       "            color:  #000000;\n",
       "            border-color:  red;\n",
       "            font-family:  Roboto;\n",
       "        }    #T_6c67e3be_41de_11ea_82c8_acde48001122row0_col118 {\n",
       "            background-color:  lightyellow;\n",
       "            color:  #000000;\n",
       "            border-color:  red;\n",
       "            font-family:  Roboto;\n",
       "        }    #T_6c67e3be_41de_11ea_82c8_acde48001122row0_col119 {\n",
       "            background-color:  lightyellow;\n",
       "            color:  #000000;\n",
       "            border-color:  red;\n",
       "            font-family:  Roboto;\n",
       "        }    #T_6c67e3be_41de_11ea_82c8_acde48001122row0_col120 {\n",
       "            background-color:  lightyellow;\n",
       "            color:  #000000;\n",
       "            border-color:  red;\n",
       "            font-family:  Roboto;\n",
       "        }    #T_6c67e3be_41de_11ea_82c8_acde48001122row0_col121 {\n",
       "            background-color:  lightyellow;\n",
       "            color:  #000000;\n",
       "            border-color:  red;\n",
       "            font-family:  Roboto;\n",
       "        }    #T_6c67e3be_41de_11ea_82c8_acde48001122row0_col122 {\n",
       "            background-color:  lightyellow;\n",
       "            color:  #000000;\n",
       "            border-color:  red;\n",
       "            font-family:  Roboto;\n",
       "        }    #T_6c67e3be_41de_11ea_82c8_acde48001122row0_col123 {\n",
       "            background-color:  lightyellow;\n",
       "            color:  #000000;\n",
       "            border-color:  red;\n",
       "            font-family:  Roboto;\n",
       "        }    #T_6c67e3be_41de_11ea_82c8_acde48001122row0_col124 {\n",
       "            background-color:  lightyellow;\n",
       "            color:  #000000;\n",
       "            border-color:  red;\n",
       "            font-family:  Roboto;\n",
       "        }    #T_6c67e3be_41de_11ea_82c8_acde48001122row0_col125 {\n",
       "            background-color:  lightyellow;\n",
       "            color:  #000000;\n",
       "            border-color:  red;\n",
       "            font-family:  Roboto;\n",
       "        }    #T_6c67e3be_41de_11ea_82c8_acde48001122row0_col126 {\n",
       "            background-color:  lightyellow;\n",
       "            color:  #000000;\n",
       "            border-color:  red;\n",
       "            font-family:  Roboto;\n",
       "        }    #T_6c67e3be_41de_11ea_82c8_acde48001122row0_col127 {\n",
       "            background-color:  lightyellow;\n",
       "            color:  #000000;\n",
       "            border-color:  red;\n",
       "            font-family:  Roboto;\n",
       "        }    #T_6c67e3be_41de_11ea_82c8_acde48001122row1_col0 {\n",
       "            background-color:  lightyellow;\n",
       "            color:  #000000;\n",
       "            border-color:  red;\n",
       "            font-family:  Roboto;\n",
       "        }    #T_6c67e3be_41de_11ea_82c8_acde48001122row1_col1 {\n",
       "            background-color:  lightyellow;\n",
       "            color:  #000000;\n",
       "            border-color:  red;\n",
       "            font-family:  Roboto;\n",
       "        }    #T_6c67e3be_41de_11ea_82c8_acde48001122row1_col2 {\n",
       "            background-color:  lightyellow;\n",
       "            color:  #000000;\n",
       "            border-color:  red;\n",
       "            font-family:  Roboto;\n",
       "        }    #T_6c67e3be_41de_11ea_82c8_acde48001122row1_col3 {\n",
       "            background-color:  lightyellow;\n",
       "            color:  #000000;\n",
       "            border-color:  red;\n",
       "            font-family:  Roboto;\n",
       "        }    #T_6c67e3be_41de_11ea_82c8_acde48001122row1_col4 {\n",
       "            background-color:  lightyellow;\n",
       "            color:  #000000;\n",
       "            border-color:  red;\n",
       "            font-family:  Roboto;\n",
       "        }    #T_6c67e3be_41de_11ea_82c8_acde48001122row1_col5 {\n",
       "            background-color:  lightyellow;\n",
       "            color:  #000000;\n",
       "            border-color:  red;\n",
       "            font-family:  Roboto;\n",
       "        }    #T_6c67e3be_41de_11ea_82c8_acde48001122row1_col6 {\n",
       "            background-color:  lightyellow;\n",
       "            color:  #000000;\n",
       "            border-color:  red;\n",
       "            font-family:  Roboto;\n",
       "        }    #T_6c67e3be_41de_11ea_82c8_acde48001122row1_col7 {\n",
       "            background-color:  lightyellow;\n",
       "            color:  #000000;\n",
       "            border-color:  red;\n",
       "            font-family:  Roboto;\n",
       "        }    #T_6c67e3be_41de_11ea_82c8_acde48001122row1_col8 {\n",
       "            background-color:  lightyellow;\n",
       "            color:  #000000;\n",
       "            border-color:  red;\n",
       "            font-family:  Roboto;\n",
       "        }    #T_6c67e3be_41de_11ea_82c8_acde48001122row1_col9 {\n",
       "            background-color:  lightyellow;\n",
       "            color:  #000000;\n",
       "            border-color:  red;\n",
       "            font-family:  Roboto;\n",
       "        }    #T_6c67e3be_41de_11ea_82c8_acde48001122row1_col10 {\n",
       "            background-color:  lightyellow;\n",
       "            color:  #000000;\n",
       "            border-color:  red;\n",
       "            font-family:  Roboto;\n",
       "        }    #T_6c67e3be_41de_11ea_82c8_acde48001122row1_col11 {\n",
       "            background-color:  lightyellow;\n",
       "            color:  #000000;\n",
       "            border-color:  red;\n",
       "            font-family:  Roboto;\n",
       "        }    #T_6c67e3be_41de_11ea_82c8_acde48001122row1_col12 {\n",
       "            background-color:  lightyellow;\n",
       "            color:  #000000;\n",
       "            border-color:  red;\n",
       "            font-family:  Roboto;\n",
       "        }    #T_6c67e3be_41de_11ea_82c8_acde48001122row1_col13 {\n",
       "            background-color:  lightyellow;\n",
       "            color:  #000000;\n",
       "            border-color:  red;\n",
       "            font-family:  Roboto;\n",
       "        }    #T_6c67e3be_41de_11ea_82c8_acde48001122row1_col14 {\n",
       "            background-color:  lightyellow;\n",
       "            color:  #000000;\n",
       "            border-color:  red;\n",
       "            font-family:  Roboto;\n",
       "        }    #T_6c67e3be_41de_11ea_82c8_acde48001122row1_col15 {\n",
       "            background-color:  lightyellow;\n",
       "            color:  #000000;\n",
       "            border-color:  red;\n",
       "            font-family:  Roboto;\n",
       "        }    #T_6c67e3be_41de_11ea_82c8_acde48001122row1_col16 {\n",
       "            background-color:  lightyellow;\n",
       "            color:  #000000;\n",
       "            border-color:  red;\n",
       "            font-family:  Roboto;\n",
       "        }    #T_6c67e3be_41de_11ea_82c8_acde48001122row1_col17 {\n",
       "            background-color:  lightyellow;\n",
       "            color:  #000000;\n",
       "            border-color:  red;\n",
       "            font-family:  Roboto;\n",
       "        }    #T_6c67e3be_41de_11ea_82c8_acde48001122row1_col18 {\n",
       "            background-color:  lightyellow;\n",
       "            color:  #000000;\n",
       "            border-color:  red;\n",
       "            font-family:  Roboto;\n",
       "        }    #T_6c67e3be_41de_11ea_82c8_acde48001122row1_col19 {\n",
       "            background-color:  lightyellow;\n",
       "            color:  #000000;\n",
       "            border-color:  red;\n",
       "            font-family:  Roboto;\n",
       "        }    #T_6c67e3be_41de_11ea_82c8_acde48001122row1_col20 {\n",
       "            background-color:  lightyellow;\n",
       "            color:  #000000;\n",
       "            border-color:  red;\n",
       "            font-family:  Roboto;\n",
       "        }    #T_6c67e3be_41de_11ea_82c8_acde48001122row1_col21 {\n",
       "            background-color:  lightyellow;\n",
       "            color:  #000000;\n",
       "            border-color:  red;\n",
       "            font-family:  Roboto;\n",
       "        }    #T_6c67e3be_41de_11ea_82c8_acde48001122row1_col22 {\n",
       "            background-color:  lightyellow;\n",
       "            color:  #000000;\n",
       "            border-color:  red;\n",
       "            font-family:  Roboto;\n",
       "        }    #T_6c67e3be_41de_11ea_82c8_acde48001122row1_col23 {\n",
       "            background-color:  lightyellow;\n",
       "            color:  #000000;\n",
       "            border-color:  red;\n",
       "            font-family:  Roboto;\n",
       "        }    #T_6c67e3be_41de_11ea_82c8_acde48001122row1_col24 {\n",
       "            background-color:  lightyellow;\n",
       "            color:  #000000;\n",
       "            border-color:  red;\n",
       "            font-family:  Roboto;\n",
       "        }    #T_6c67e3be_41de_11ea_82c8_acde48001122row1_col25 {\n",
       "            background-color:  lightyellow;\n",
       "            color:  #000000;\n",
       "            border-color:  red;\n",
       "            font-family:  Roboto;\n",
       "        }    #T_6c67e3be_41de_11ea_82c8_acde48001122row1_col26 {\n",
       "            background-color:  lightyellow;\n",
       "            color:  #000000;\n",
       "            border-color:  red;\n",
       "            font-family:  Roboto;\n",
       "        }    #T_6c67e3be_41de_11ea_82c8_acde48001122row1_col27 {\n",
       "            background-color:  lightyellow;\n",
       "            color:  #000000;\n",
       "            border-color:  red;\n",
       "            font-family:  Roboto;\n",
       "        }    #T_6c67e3be_41de_11ea_82c8_acde48001122row1_col28 {\n",
       "            background-color:  lightyellow;\n",
       "            color:  #000000;\n",
       "            border-color:  red;\n",
       "            font-family:  Roboto;\n",
       "        }    #T_6c67e3be_41de_11ea_82c8_acde48001122row1_col29 {\n",
       "            background-color:  lightyellow;\n",
       "            color:  #000000;\n",
       "            border-color:  red;\n",
       "            font-family:  Roboto;\n",
       "        }    #T_6c67e3be_41de_11ea_82c8_acde48001122row1_col30 {\n",
       "            background-color:  lightyellow;\n",
       "            color:  #000000;\n",
       "            border-color:  red;\n",
       "            font-family:  Roboto;\n",
       "        }    #T_6c67e3be_41de_11ea_82c8_acde48001122row1_col31 {\n",
       "            background-color:  lightyellow;\n",
       "            color:  #000000;\n",
       "            border-color:  red;\n",
       "            font-family:  Roboto;\n",
       "        }    #T_6c67e3be_41de_11ea_82c8_acde48001122row1_col32 {\n",
       "            background-color:  lightyellow;\n",
       "            color:  #000000;\n",
       "            border-color:  red;\n",
       "            font-family:  Roboto;\n",
       "        }    #T_6c67e3be_41de_11ea_82c8_acde48001122row1_col33 {\n",
       "            background-color:  lightyellow;\n",
       "            color:  #000000;\n",
       "            border-color:  red;\n",
       "            font-family:  Roboto;\n",
       "        }    #T_6c67e3be_41de_11ea_82c8_acde48001122row1_col34 {\n",
       "            background-color:  lightyellow;\n",
       "            color:  #000000;\n",
       "            border-color:  red;\n",
       "            font-family:  Roboto;\n",
       "        }    #T_6c67e3be_41de_11ea_82c8_acde48001122row1_col35 {\n",
       "            background-color:  lightyellow;\n",
       "            color:  #000000;\n",
       "            border-color:  red;\n",
       "            font-family:  Roboto;\n",
       "        }    #T_6c67e3be_41de_11ea_82c8_acde48001122row1_col36 {\n",
       "            background-color:  lightyellow;\n",
       "            color:  #000000;\n",
       "            border-color:  red;\n",
       "            font-family:  Roboto;\n",
       "        }    #T_6c67e3be_41de_11ea_82c8_acde48001122row1_col37 {\n",
       "            background-color:  lightyellow;\n",
       "            color:  #000000;\n",
       "            border-color:  red;\n",
       "            font-family:  Roboto;\n",
       "        }    #T_6c67e3be_41de_11ea_82c8_acde48001122row1_col38 {\n",
       "            background-color:  lightyellow;\n",
       "            color:  #000000;\n",
       "            border-color:  red;\n",
       "            font-family:  Roboto;\n",
       "        }    #T_6c67e3be_41de_11ea_82c8_acde48001122row1_col39 {\n",
       "            background-color:  lightyellow;\n",
       "            color:  #000000;\n",
       "            border-color:  red;\n",
       "            font-family:  Roboto;\n",
       "        }    #T_6c67e3be_41de_11ea_82c8_acde48001122row1_col40 {\n",
       "            background-color:  lightyellow;\n",
       "            color:  #000000;\n",
       "            border-color:  red;\n",
       "            font-family:  Roboto;\n",
       "        }    #T_6c67e3be_41de_11ea_82c8_acde48001122row1_col41 {\n",
       "            background-color:  lightyellow;\n",
       "            color:  #000000;\n",
       "            border-color:  red;\n",
       "            font-family:  Roboto;\n",
       "        }    #T_6c67e3be_41de_11ea_82c8_acde48001122row1_col42 {\n",
       "            background-color:  lightyellow;\n",
       "            color:  #000000;\n",
       "            border-color:  red;\n",
       "            font-family:  Roboto;\n",
       "        }    #T_6c67e3be_41de_11ea_82c8_acde48001122row1_col43 {\n",
       "            background-color:  lightyellow;\n",
       "            color:  #000000;\n",
       "            border-color:  red;\n",
       "            font-family:  Roboto;\n",
       "        }    #T_6c67e3be_41de_11ea_82c8_acde48001122row1_col44 {\n",
       "            background-color:  lightyellow;\n",
       "            color:  #000000;\n",
       "            border-color:  red;\n",
       "            font-family:  Roboto;\n",
       "        }    #T_6c67e3be_41de_11ea_82c8_acde48001122row1_col45 {\n",
       "            background-color:  lightyellow;\n",
       "            color:  #000000;\n",
       "            border-color:  red;\n",
       "            font-family:  Roboto;\n",
       "        }    #T_6c67e3be_41de_11ea_82c8_acde48001122row1_col46 {\n",
       "            background-color:  lightyellow;\n",
       "            color:  #000000;\n",
       "            border-color:  red;\n",
       "            font-family:  Roboto;\n",
       "        }    #T_6c67e3be_41de_11ea_82c8_acde48001122row1_col47 {\n",
       "            background-color:  lightyellow;\n",
       "            color:  #000000;\n",
       "            border-color:  red;\n",
       "            font-family:  Roboto;\n",
       "        }    #T_6c67e3be_41de_11ea_82c8_acde48001122row1_col48 {\n",
       "            background-color:  lightyellow;\n",
       "            color:  #000000;\n",
       "            border-color:  red;\n",
       "            font-family:  Roboto;\n",
       "        }    #T_6c67e3be_41de_11ea_82c8_acde48001122row1_col49 {\n",
       "            background-color:  lightyellow;\n",
       "            color:  #000000;\n",
       "            border-color:  red;\n",
       "            font-family:  Roboto;\n",
       "        }    #T_6c67e3be_41de_11ea_82c8_acde48001122row1_col50 {\n",
       "            background-color:  lightyellow;\n",
       "            color:  #000000;\n",
       "            border-color:  red;\n",
       "            font-family:  Roboto;\n",
       "        }    #T_6c67e3be_41de_11ea_82c8_acde48001122row1_col51 {\n",
       "            background-color:  lightyellow;\n",
       "            color:  #000000;\n",
       "            border-color:  red;\n",
       "            font-family:  Roboto;\n",
       "        }    #T_6c67e3be_41de_11ea_82c8_acde48001122row1_col52 {\n",
       "            background-color:  lightyellow;\n",
       "            color:  #000000;\n",
       "            border-color:  red;\n",
       "            font-family:  Roboto;\n",
       "        }    #T_6c67e3be_41de_11ea_82c8_acde48001122row1_col53 {\n",
       "            background-color:  lightyellow;\n",
       "            color:  #000000;\n",
       "            border-color:  red;\n",
       "            font-family:  Roboto;\n",
       "        }    #T_6c67e3be_41de_11ea_82c8_acde48001122row1_col54 {\n",
       "            background-color:  lightyellow;\n",
       "            color:  #000000;\n",
       "            border-color:  red;\n",
       "            font-family:  Roboto;\n",
       "        }    #T_6c67e3be_41de_11ea_82c8_acde48001122row1_col55 {\n",
       "            background-color:  lightyellow;\n",
       "            color:  #000000;\n",
       "            border-color:  red;\n",
       "            font-family:  Roboto;\n",
       "        }    #T_6c67e3be_41de_11ea_82c8_acde48001122row1_col56 {\n",
       "            background-color:  lightyellow;\n",
       "            color:  #000000;\n",
       "            border-color:  red;\n",
       "            font-family:  Roboto;\n",
       "        }    #T_6c67e3be_41de_11ea_82c8_acde48001122row1_col57 {\n",
       "            background-color:  lightyellow;\n",
       "            color:  #000000;\n",
       "            border-color:  red;\n",
       "            font-family:  Roboto;\n",
       "        }    #T_6c67e3be_41de_11ea_82c8_acde48001122row1_col58 {\n",
       "            background-color:  lightyellow;\n",
       "            color:  #000000;\n",
       "            border-color:  red;\n",
       "            font-family:  Roboto;\n",
       "        }    #T_6c67e3be_41de_11ea_82c8_acde48001122row1_col59 {\n",
       "            background-color:  lightyellow;\n",
       "            color:  #000000;\n",
       "            border-color:  red;\n",
       "            font-family:  Roboto;\n",
       "        }    #T_6c67e3be_41de_11ea_82c8_acde48001122row1_col60 {\n",
       "            background-color:  lightyellow;\n",
       "            color:  #000000;\n",
       "            border-color:  red;\n",
       "            font-family:  Roboto;\n",
       "        }    #T_6c67e3be_41de_11ea_82c8_acde48001122row1_col61 {\n",
       "            background-color:  lightyellow;\n",
       "            color:  #000000;\n",
       "            border-color:  red;\n",
       "            font-family:  Roboto;\n",
       "        }    #T_6c67e3be_41de_11ea_82c8_acde48001122row1_col62 {\n",
       "            background-color:  lightyellow;\n",
       "            color:  #000000;\n",
       "            border-color:  red;\n",
       "            font-family:  Roboto;\n",
       "        }    #T_6c67e3be_41de_11ea_82c8_acde48001122row1_col63 {\n",
       "            background-color:  lightyellow;\n",
       "            color:  #000000;\n",
       "            border-color:  red;\n",
       "            font-family:  Roboto;\n",
       "        }    #T_6c67e3be_41de_11ea_82c8_acde48001122row1_col64 {\n",
       "            background-color:  lightyellow;\n",
       "            color:  #000000;\n",
       "            border-color:  red;\n",
       "            font-family:  Roboto;\n",
       "        }    #T_6c67e3be_41de_11ea_82c8_acde48001122row1_col65 {\n",
       "            background-color:  lightyellow;\n",
       "            color:  #000000;\n",
       "            border-color:  red;\n",
       "            font-family:  Roboto;\n",
       "        }    #T_6c67e3be_41de_11ea_82c8_acde48001122row1_col66 {\n",
       "            background-color:  lightyellow;\n",
       "            color:  #000000;\n",
       "            border-color:  red;\n",
       "            font-family:  Roboto;\n",
       "        }    #T_6c67e3be_41de_11ea_82c8_acde48001122row1_col67 {\n",
       "            background-color:  lightyellow;\n",
       "            color:  #000000;\n",
       "            border-color:  red;\n",
       "            font-family:  Roboto;\n",
       "        }    #T_6c67e3be_41de_11ea_82c8_acde48001122row1_col68 {\n",
       "            background-color:  lightyellow;\n",
       "            color:  #000000;\n",
       "            border-color:  red;\n",
       "            font-family:  Roboto;\n",
       "        }    #T_6c67e3be_41de_11ea_82c8_acde48001122row1_col69 {\n",
       "            background-color:  lightyellow;\n",
       "            color:  #000000;\n",
       "            border-color:  red;\n",
       "            font-family:  Roboto;\n",
       "        }    #T_6c67e3be_41de_11ea_82c8_acde48001122row1_col70 {\n",
       "            background-color:  lightyellow;\n",
       "            color:  #000000;\n",
       "            border-color:  red;\n",
       "            font-family:  Roboto;\n",
       "        }    #T_6c67e3be_41de_11ea_82c8_acde48001122row1_col71 {\n",
       "            background-color:  lightyellow;\n",
       "            color:  #000000;\n",
       "            border-color:  red;\n",
       "            font-family:  Roboto;\n",
       "        }    #T_6c67e3be_41de_11ea_82c8_acde48001122row1_col72 {\n",
       "            background-color:  lightyellow;\n",
       "            color:  #000000;\n",
       "            border-color:  red;\n",
       "            font-family:  Roboto;\n",
       "        }    #T_6c67e3be_41de_11ea_82c8_acde48001122row1_col73 {\n",
       "            background-color:  lightyellow;\n",
       "            color:  #000000;\n",
       "            border-color:  red;\n",
       "            font-family:  Roboto;\n",
       "        }    #T_6c67e3be_41de_11ea_82c8_acde48001122row1_col74 {\n",
       "            background-color:  lightyellow;\n",
       "            color:  #000000;\n",
       "            border-color:  red;\n",
       "            font-family:  Roboto;\n",
       "        }    #T_6c67e3be_41de_11ea_82c8_acde48001122row1_col75 {\n",
       "            background-color:  lightyellow;\n",
       "            color:  #000000;\n",
       "            border-color:  red;\n",
       "            font-family:  Roboto;\n",
       "        }    #T_6c67e3be_41de_11ea_82c8_acde48001122row1_col76 {\n",
       "            background-color:  lightyellow;\n",
       "            color:  #000000;\n",
       "            border-color:  red;\n",
       "            font-family:  Roboto;\n",
       "        }    #T_6c67e3be_41de_11ea_82c8_acde48001122row1_col77 {\n",
       "            background-color:  lightyellow;\n",
       "            color:  #000000;\n",
       "            border-color:  red;\n",
       "            font-family:  Roboto;\n",
       "        }    #T_6c67e3be_41de_11ea_82c8_acde48001122row1_col78 {\n",
       "            background-color:  lightyellow;\n",
       "            color:  #000000;\n",
       "            border-color:  red;\n",
       "            font-family:  Roboto;\n",
       "        }    #T_6c67e3be_41de_11ea_82c8_acde48001122row1_col79 {\n",
       "            background-color:  lightyellow;\n",
       "            color:  #000000;\n",
       "            border-color:  red;\n",
       "            font-family:  Roboto;\n",
       "        }    #T_6c67e3be_41de_11ea_82c8_acde48001122row1_col80 {\n",
       "            background-color:  lightyellow;\n",
       "            color:  #000000;\n",
       "            border-color:  red;\n",
       "            font-family:  Roboto;\n",
       "        }    #T_6c67e3be_41de_11ea_82c8_acde48001122row1_col81 {\n",
       "            background-color:  lightyellow;\n",
       "            color:  #000000;\n",
       "            border-color:  red;\n",
       "            font-family:  Roboto;\n",
       "        }    #T_6c67e3be_41de_11ea_82c8_acde48001122row1_col82 {\n",
       "            background-color:  lightyellow;\n",
       "            color:  #000000;\n",
       "            border-color:  red;\n",
       "            font-family:  Roboto;\n",
       "        }    #T_6c67e3be_41de_11ea_82c8_acde48001122row1_col83 {\n",
       "            background-color:  lightyellow;\n",
       "            color:  #000000;\n",
       "            border-color:  red;\n",
       "            font-family:  Roboto;\n",
       "        }    #T_6c67e3be_41de_11ea_82c8_acde48001122row1_col84 {\n",
       "            background-color:  lightyellow;\n",
       "            color:  #000000;\n",
       "            border-color:  red;\n",
       "            font-family:  Roboto;\n",
       "        }    #T_6c67e3be_41de_11ea_82c8_acde48001122row1_col85 {\n",
       "            background-color:  lightyellow;\n",
       "            color:  #000000;\n",
       "            border-color:  red;\n",
       "            font-family:  Roboto;\n",
       "        }    #T_6c67e3be_41de_11ea_82c8_acde48001122row1_col86 {\n",
       "            background-color:  lightyellow;\n",
       "            color:  #000000;\n",
       "            border-color:  red;\n",
       "            font-family:  Roboto;\n",
       "        }    #T_6c67e3be_41de_11ea_82c8_acde48001122row1_col87 {\n",
       "            background-color:  lightyellow;\n",
       "            color:  #000000;\n",
       "            border-color:  red;\n",
       "            font-family:  Roboto;\n",
       "        }    #T_6c67e3be_41de_11ea_82c8_acde48001122row1_col88 {\n",
       "            background-color:  lightyellow;\n",
       "            color:  #000000;\n",
       "            border-color:  red;\n",
       "            font-family:  Roboto;\n",
       "        }    #T_6c67e3be_41de_11ea_82c8_acde48001122row1_col89 {\n",
       "            background-color:  lightyellow;\n",
       "            color:  #000000;\n",
       "            border-color:  red;\n",
       "            font-family:  Roboto;\n",
       "        }    #T_6c67e3be_41de_11ea_82c8_acde48001122row1_col90 {\n",
       "            background-color:  lightyellow;\n",
       "            color:  #000000;\n",
       "            border-color:  red;\n",
       "            font-family:  Roboto;\n",
       "        }    #T_6c67e3be_41de_11ea_82c8_acde48001122row1_col91 {\n",
       "            background-color:  lightyellow;\n",
       "            color:  #000000;\n",
       "            border-color:  red;\n",
       "            font-family:  Roboto;\n",
       "        }    #T_6c67e3be_41de_11ea_82c8_acde48001122row1_col92 {\n",
       "            background-color:  lightyellow;\n",
       "            color:  #000000;\n",
       "            border-color:  red;\n",
       "            font-family:  Roboto;\n",
       "        }    #T_6c67e3be_41de_11ea_82c8_acde48001122row1_col93 {\n",
       "            background-color:  lightyellow;\n",
       "            color:  #000000;\n",
       "            border-color:  red;\n",
       "            font-family:  Roboto;\n",
       "        }    #T_6c67e3be_41de_11ea_82c8_acde48001122row1_col94 {\n",
       "            background-color:  lightyellow;\n",
       "            color:  #000000;\n",
       "            border-color:  red;\n",
       "            font-family:  Roboto;\n",
       "        }    #T_6c67e3be_41de_11ea_82c8_acde48001122row1_col95 {\n",
       "            background-color:  lightyellow;\n",
       "            color:  #000000;\n",
       "            border-color:  red;\n",
       "            font-family:  Roboto;\n",
       "        }    #T_6c67e3be_41de_11ea_82c8_acde48001122row1_col96 {\n",
       "            background-color:  lightyellow;\n",
       "            color:  #000000;\n",
       "            border-color:  red;\n",
       "            font-family:  Roboto;\n",
       "        }    #T_6c67e3be_41de_11ea_82c8_acde48001122row1_col97 {\n",
       "            background-color:  lightyellow;\n",
       "            color:  #000000;\n",
       "            border-color:  red;\n",
       "            font-family:  Roboto;\n",
       "        }    #T_6c67e3be_41de_11ea_82c8_acde48001122row1_col98 {\n",
       "            background-color:  lightyellow;\n",
       "            color:  #000000;\n",
       "            border-color:  red;\n",
       "            font-family:  Roboto;\n",
       "        }    #T_6c67e3be_41de_11ea_82c8_acde48001122row1_col99 {\n",
       "            background-color:  lightyellow;\n",
       "            color:  #000000;\n",
       "            border-color:  red;\n",
       "            font-family:  Roboto;\n",
       "        }    #T_6c67e3be_41de_11ea_82c8_acde48001122row1_col100 {\n",
       "            background-color:  lightyellow;\n",
       "            color:  #000000;\n",
       "            border-color:  red;\n",
       "            font-family:  Roboto;\n",
       "        }    #T_6c67e3be_41de_11ea_82c8_acde48001122row1_col101 {\n",
       "            background-color:  lightyellow;\n",
       "            color:  #000000;\n",
       "            border-color:  red;\n",
       "            font-family:  Roboto;\n",
       "        }    #T_6c67e3be_41de_11ea_82c8_acde48001122row1_col102 {\n",
       "            background-color:  lightyellow;\n",
       "            color:  #000000;\n",
       "            border-color:  red;\n",
       "            font-family:  Roboto;\n",
       "        }    #T_6c67e3be_41de_11ea_82c8_acde48001122row1_col103 {\n",
       "            background-color:  lightyellow;\n",
       "            color:  #000000;\n",
       "            border-color:  red;\n",
       "            font-family:  Roboto;\n",
       "        }    #T_6c67e3be_41de_11ea_82c8_acde48001122row1_col104 {\n",
       "            background-color:  lightyellow;\n",
       "            color:  #000000;\n",
       "            border-color:  red;\n",
       "            font-family:  Roboto;\n",
       "        }    #T_6c67e3be_41de_11ea_82c8_acde48001122row1_col105 {\n",
       "            background-color:  lightyellow;\n",
       "            color:  #000000;\n",
       "            border-color:  red;\n",
       "            font-family:  Roboto;\n",
       "        }    #T_6c67e3be_41de_11ea_82c8_acde48001122row1_col106 {\n",
       "            background-color:  lightyellow;\n",
       "            color:  #000000;\n",
       "            border-color:  red;\n",
       "            font-family:  Roboto;\n",
       "        }    #T_6c67e3be_41de_11ea_82c8_acde48001122row1_col107 {\n",
       "            background-color:  lightyellow;\n",
       "            color:  #000000;\n",
       "            border-color:  red;\n",
       "            font-family:  Roboto;\n",
       "        }    #T_6c67e3be_41de_11ea_82c8_acde48001122row1_col108 {\n",
       "            background-color:  lightyellow;\n",
       "            color:  #000000;\n",
       "            border-color:  red;\n",
       "            font-family:  Roboto;\n",
       "        }    #T_6c67e3be_41de_11ea_82c8_acde48001122row1_col109 {\n",
       "            background-color:  lightyellow;\n",
       "            color:  #000000;\n",
       "            border-color:  red;\n",
       "            font-family:  Roboto;\n",
       "        }    #T_6c67e3be_41de_11ea_82c8_acde48001122row1_col110 {\n",
       "            background-color:  lightyellow;\n",
       "            color:  #000000;\n",
       "            border-color:  red;\n",
       "            font-family:  Roboto;\n",
       "        }    #T_6c67e3be_41de_11ea_82c8_acde48001122row1_col111 {\n",
       "            background-color:  lightyellow;\n",
       "            color:  #000000;\n",
       "            border-color:  red;\n",
       "            font-family:  Roboto;\n",
       "        }    #T_6c67e3be_41de_11ea_82c8_acde48001122row1_col112 {\n",
       "            background-color:  lightyellow;\n",
       "            color:  #000000;\n",
       "            border-color:  red;\n",
       "            font-family:  Roboto;\n",
       "        }    #T_6c67e3be_41de_11ea_82c8_acde48001122row1_col113 {\n",
       "            background-color:  lightyellow;\n",
       "            color:  #000000;\n",
       "            border-color:  red;\n",
       "            font-family:  Roboto;\n",
       "        }    #T_6c67e3be_41de_11ea_82c8_acde48001122row1_col114 {\n",
       "            background-color:  lightyellow;\n",
       "            color:  #000000;\n",
       "            border-color:  red;\n",
       "            font-family:  Roboto;\n",
       "        }    #T_6c67e3be_41de_11ea_82c8_acde48001122row1_col115 {\n",
       "            background-color:  lightyellow;\n",
       "            color:  #000000;\n",
       "            border-color:  red;\n",
       "            font-family:  Roboto;\n",
       "        }    #T_6c67e3be_41de_11ea_82c8_acde48001122row1_col116 {\n",
       "            background-color:  lightyellow;\n",
       "            color:  #000000;\n",
       "            border-color:  red;\n",
       "            font-family:  Roboto;\n",
       "        }    #T_6c67e3be_41de_11ea_82c8_acde48001122row1_col117 {\n",
       "            background-color:  lightyellow;\n",
       "            color:  #000000;\n",
       "            border-color:  red;\n",
       "            font-family:  Roboto;\n",
       "        }    #T_6c67e3be_41de_11ea_82c8_acde48001122row1_col118 {\n",
       "            background-color:  lightyellow;\n",
       "            color:  #000000;\n",
       "            border-color:  red;\n",
       "            font-family:  Roboto;\n",
       "        }    #T_6c67e3be_41de_11ea_82c8_acde48001122row1_col119 {\n",
       "            background-color:  lightyellow;\n",
       "            color:  #000000;\n",
       "            border-color:  red;\n",
       "            font-family:  Roboto;\n",
       "        }    #T_6c67e3be_41de_11ea_82c8_acde48001122row1_col120 {\n",
       "            background-color:  lightyellow;\n",
       "            color:  #000000;\n",
       "            border-color:  red;\n",
       "            font-family:  Roboto;\n",
       "        }    #T_6c67e3be_41de_11ea_82c8_acde48001122row1_col121 {\n",
       "            background-color:  lightyellow;\n",
       "            color:  #000000;\n",
       "            border-color:  red;\n",
       "            font-family:  Roboto;\n",
       "        }    #T_6c67e3be_41de_11ea_82c8_acde48001122row1_col122 {\n",
       "            background-color:  lightyellow;\n",
       "            color:  #000000;\n",
       "            border-color:  red;\n",
       "            font-family:  Roboto;\n",
       "        }    #T_6c67e3be_41de_11ea_82c8_acde48001122row1_col123 {\n",
       "            background-color:  lightyellow;\n",
       "            color:  #000000;\n",
       "            border-color:  red;\n",
       "            font-family:  Roboto;\n",
       "        }    #T_6c67e3be_41de_11ea_82c8_acde48001122row1_col124 {\n",
       "            background-color:  lightyellow;\n",
       "            color:  #000000;\n",
       "            border-color:  red;\n",
       "            font-family:  Roboto;\n",
       "        }    #T_6c67e3be_41de_11ea_82c8_acde48001122row1_col125 {\n",
       "            background-color:  lightyellow;\n",
       "            color:  #000000;\n",
       "            border-color:  red;\n",
       "            font-family:  Roboto;\n",
       "        }    #T_6c67e3be_41de_11ea_82c8_acde48001122row1_col126 {\n",
       "            background-color:  lightyellow;\n",
       "            color:  #000000;\n",
       "            border-color:  red;\n",
       "            font-family:  Roboto;\n",
       "        }    #T_6c67e3be_41de_11ea_82c8_acde48001122row1_col127 {\n",
       "            background-color:  lightyellow;\n",
       "            color:  #000000;\n",
       "            border-color:  red;\n",
       "            font-family:  Roboto;\n",
       "        }</style><table id=\"T_6c67e3be_41de_11ea_82c8_acde48001122\" ><thead>    <tr>        <th class=\"blank level0\" ></th>        <th class=\"col_heading level0 col0\" >What Country or Region do you live in?</th>        <th class=\"col_heading level0 col1\" >Which US State or Territory do you live in?</th>        <th class=\"col_heading level0 col2\" >How old are you?</th>        <th class=\"col_heading level0 col3\" >How many years of IT/Programming experience do you have?</th>        <th class=\"col_heading level0 col4\" >How would you best describe the industry you currently work in?</th>        <th class=\"col_heading level0 col5\" >How many people work for your company?</th>        <th class=\"col_heading level0 col6\" >Which of the following best describes your occupation?</th>        <th class=\"col_heading level0 col7\" >Including yourself, how many developers are employed at your company?</th>        <th class=\"col_heading level0 col8\" >How large is the team that you work on?</th>        <th class=\"col_heading level0 col9\" >What other departments / roles do you interact with regularly?</th>        <th class=\"col_heading level0 col10\" >Unnamed: 10</th>        <th class=\"col_heading level0 col11\" >Unnamed: 11</th>        <th class=\"col_heading level0 col12\" >Unnamed: 12</th>        <th class=\"col_heading level0 col13\" >Unnamed: 13</th>        <th class=\"col_heading level0 col14\" >Unnamed: 14</th>        <th class=\"col_heading level0 col15\" >Unnamed: 15</th>        <th class=\"col_heading level0 col16\" >Unnamed: 16</th>        <th class=\"col_heading level0 col17\" >Unnamed: 17</th>        <th class=\"col_heading level0 col18\" >Unnamed: 18</th>        <th class=\"col_heading level0 col19\" >If your company has a native mobile app, what platforms do you support?</th>        <th class=\"col_heading level0 col20\" >Unnamed: 20</th>        <th class=\"col_heading level0 col21\" >Unnamed: 21</th>        <th class=\"col_heading level0 col22\" >Unnamed: 22</th>        <th class=\"col_heading level0 col23\" >Unnamed: 23</th>        <th class=\"col_heading level0 col24\" >Unnamed: 24</th>        <th class=\"col_heading level0 col25\" >Unnamed: 25</th>        <th class=\"col_heading level0 col26\" >If you make a software product, how does your company make money? (You can choose more than one)</th>        <th class=\"col_heading level0 col27\" >Unnamed: 27</th>        <th class=\"col_heading level0 col28\" >Unnamed: 28</th>        <th class=\"col_heading level0 col29\" >Unnamed: 29</th>        <th class=\"col_heading level0 col30\" >Unnamed: 30</th>        <th class=\"col_heading level0 col31\" >Unnamed: 31</th>        <th class=\"col_heading level0 col32\" >Unnamed: 32</th>        <th class=\"col_heading level0 col33\" >Unnamed: 33</th>        <th class=\"col_heading level0 col34\" >In an average week, how do you spend your time?</th>        <th class=\"col_heading level0 col35\" >Unnamed: 35</th>        <th class=\"col_heading level0 col36\" >Unnamed: 36</th>        <th class=\"col_heading level0 col37\" >Unnamed: 37</th>        <th class=\"col_heading level0 col38\" >Unnamed: 38</th>        <th class=\"col_heading level0 col39\" >Unnamed: 39</th>        <th class=\"col_heading level0 col40\" >Unnamed: 40</th>        <th class=\"col_heading level0 col41\" >Unnamed: 41</th>        <th class=\"col_heading level0 col42\" >What is your involvement in purchasing products or services for the company you work for? (You can choose more than one)</th>        <th class=\"col_heading level0 col43\" >Unnamed: 43</th>        <th class=\"col_heading level0 col44\" >Unnamed: 44</th>        <th class=\"col_heading level0 col45\" >Unnamed: 45</th>        <th class=\"col_heading level0 col46\" >Unnamed: 46</th>        <th class=\"col_heading level0 col47\" >Unnamed: 47</th>        <th class=\"col_heading level0 col48\" >Unnamed: 48</th>        <th class=\"col_heading level0 col49\" >What types of purchases are you involved in?</th>        <th class=\"col_heading level0 col50\" >Unnamed: 50</th>        <th class=\"col_heading level0 col51\" >Unnamed: 51</th>        <th class=\"col_heading level0 col52\" >Unnamed: 52</th>        <th class=\"col_heading level0 col53\" >Unnamed: 53</th>        <th class=\"col_heading level0 col54\" >Unnamed: 54</th>        <th class=\"col_heading level0 col55\" >What is your budget for outside expenditures (hardware, software, consulting, etc) for 2013?</th>        <th class=\"col_heading level0 col56\" >Which of the following languages or technologies have you used significantly in the past year?</th>        <th class=\"col_heading level0 col57\" >Unnamed: 57</th>        <th class=\"col_heading level0 col58\" >Unnamed: 58</th>        <th class=\"col_heading level0 col59\" >Unnamed: 59</th>        <th class=\"col_heading level0 col60\" >Unnamed: 60</th>        <th class=\"col_heading level0 col61\" >Unnamed: 61</th>        <th class=\"col_heading level0 col62\" >Unnamed: 62</th>        <th class=\"col_heading level0 col63\" >Unnamed: 63</th>        <th class=\"col_heading level0 col64\" >Unnamed: 64</th>        <th class=\"col_heading level0 col65\" >Unnamed: 65</th>        <th class=\"col_heading level0 col66\" >Unnamed: 66</th>        <th class=\"col_heading level0 col67\" >Unnamed: 67</th>        <th class=\"col_heading level0 col68\" >Unnamed: 68</th>        <th class=\"col_heading level0 col69\" >Unnamed: 69</th>        <th class=\"col_heading level0 col70\" >Which technologies are you excited about?</th>        <th class=\"col_heading level0 col71\" >Unnamed: 71</th>        <th class=\"col_heading level0 col72\" >Unnamed: 72</th>        <th class=\"col_heading level0 col73\" >Unnamed: 73</th>        <th class=\"col_heading level0 col74\" >Unnamed: 74</th>        <th class=\"col_heading level0 col75\" >Unnamed: 75</th>        <th class=\"col_heading level0 col76\" >Unnamed: 76</th>        <th class=\"col_heading level0 col77\" >Unnamed: 77</th>        <th class=\"col_heading level0 col78\" >Unnamed: 78</th>        <th class=\"col_heading level0 col79\" >Unnamed: 79</th>        <th class=\"col_heading level0 col80\" >Unnamed: 80</th>        <th class=\"col_heading level0 col81\" >Which desktop operating system do you use the most?</th>        <th class=\"col_heading level0 col82\" >Please rate how important each of the following characteristics of a company/job offer are to you.    Please select a MAXIMUM of 3 items as \"Non-Negotiables\" to help us identify the most important items, those where you would never consider a company if they didn't meet them.</th>        <th class=\"col_heading level0 col83\" >Unnamed: 83</th>        <th class=\"col_heading level0 col84\" >Unnamed: 84</th>        <th class=\"col_heading level0 col85\" >Unnamed: 85</th>        <th class=\"col_heading level0 col86\" >Unnamed: 86</th>        <th class=\"col_heading level0 col87\" >Unnamed: 87</th>        <th class=\"col_heading level0 col88\" >Unnamed: 88</th>        <th class=\"col_heading level0 col89\" >Unnamed: 89</th>        <th class=\"col_heading level0 col90\" >Unnamed: 90</th>        <th class=\"col_heading level0 col91\" >Unnamed: 91</th>        <th class=\"col_heading level0 col92\" >Unnamed: 92</th>        <th class=\"col_heading level0 col93\" >Unnamed: 93</th>        <th class=\"col_heading level0 col94\" >Unnamed: 94</th>        <th class=\"col_heading level0 col95\" >Unnamed: 95</th>        <th class=\"col_heading level0 col96\" >Unnamed: 96</th>        <th class=\"col_heading level0 col97\" >Unnamed: 97</th>        <th class=\"col_heading level0 col98\" >Have you changed jobs in the last 12 months?</th>        <th class=\"col_heading level0 col99\" >What best describes your career / job satisfaction?</th>        <th class=\"col_heading level0 col100\" >Including bonus, what is your annual compensation in USD?</th>        <th class=\"col_heading level0 col101\" >Which technology products do you own? (You can choose more than one)</th>        <th class=\"col_heading level0 col102\" >Unnamed: 102</th>        <th class=\"col_heading level0 col103\" >Unnamed: 103</th>        <th class=\"col_heading level0 col104\" >Unnamed: 104</th>        <th class=\"col_heading level0 col105\" >Unnamed: 105</th>        <th class=\"col_heading level0 col106\" >Unnamed: 106</th>        <th class=\"col_heading level0 col107\" >Unnamed: 107</th>        <th class=\"col_heading level0 col108\" >Unnamed: 108</th>        <th class=\"col_heading level0 col109\" >Unnamed: 109</th>        <th class=\"col_heading level0 col110\" >Unnamed: 110</th>        <th class=\"col_heading level0 col111\" >Unnamed: 111</th>        <th class=\"col_heading level0 col112\" >Unnamed: 112</th>        <th class=\"col_heading level0 col113\" >Unnamed: 113</th>        <th class=\"col_heading level0 col114\" >Unnamed: 114</th>        <th class=\"col_heading level0 col115\" >In the last 12 months, how much money have you spent on personal technology-related purchases?</th>        <th class=\"col_heading level0 col116\" >Please rate the advertising you've seen on Stack Overflow</th>        <th class=\"col_heading level0 col117\" >Unnamed: 117</th>        <th class=\"col_heading level0 col118\" >Unnamed: 118</th>        <th class=\"col_heading level0 col119\" >Unnamed: 119</th>        <th class=\"col_heading level0 col120\" >Unnamed: 120</th>        <th class=\"col_heading level0 col121\" >Unnamed: 121</th>        <th class=\"col_heading level0 col122\" >What advertisers do you remember seeing on Stack Overflow?</th>        <th class=\"col_heading level0 col123\" >What is your current Stack Overflow reputation?</th>        <th class=\"col_heading level0 col124\" >How do you use Stack Overflow?</th>        <th class=\"col_heading level0 col125\" >Unnamed: 125</th>        <th class=\"col_heading level0 col126\" >Unnamed: 126</th>        <th class=\"col_heading level0 col127\" >Unnamed: 127</th>    </tr></thead><tbody>\n",
       "                <tr>\n",
       "                        <th id=\"T_6c67e3be_41de_11ea_82c8_acde48001122level0_row0\" class=\"row_heading level0 row0\" >0</th>\n",
       "                        <td id=\"T_6c67e3be_41de_11ea_82c8_acde48001122row0_col0\" class=\"data row0 col0\" >Response</td>\n",
       "                        <td id=\"T_6c67e3be_41de_11ea_82c8_acde48001122row0_col1\" class=\"data row0 col1\" >Response</td>\n",
       "                        <td id=\"T_6c67e3be_41de_11ea_82c8_acde48001122row0_col2\" class=\"data row0 col2\" >Response</td>\n",
       "                        <td id=\"T_6c67e3be_41de_11ea_82c8_acde48001122row0_col3\" class=\"data row0 col3\" >Response</td>\n",
       "                        <td id=\"T_6c67e3be_41de_11ea_82c8_acde48001122row0_col4\" class=\"data row0 col4\" >Response</td>\n",
       "                        <td id=\"T_6c67e3be_41de_11ea_82c8_acde48001122row0_col5\" class=\"data row0 col5\" >Response</td>\n",
       "                        <td id=\"T_6c67e3be_41de_11ea_82c8_acde48001122row0_col6\" class=\"data row0 col6\" >Response</td>\n",
       "                        <td id=\"T_6c67e3be_41de_11ea_82c8_acde48001122row0_col7\" class=\"data row0 col7\" >Response</td>\n",
       "                        <td id=\"T_6c67e3be_41de_11ea_82c8_acde48001122row0_col8\" class=\"data row0 col8\" >Response</td>\n",
       "                        <td id=\"T_6c67e3be_41de_11ea_82c8_acde48001122row0_col9\" class=\"data row0 col9\" >System Administrators</td>\n",
       "                        <td id=\"T_6c67e3be_41de_11ea_82c8_acde48001122row0_col10\" class=\"data row0 col10\" >Designers</td>\n",
       "                        <td id=\"T_6c67e3be_41de_11ea_82c8_acde48001122row0_col11\" class=\"data row0 col11\" >Product Managers</td>\n",
       "                        <td id=\"T_6c67e3be_41de_11ea_82c8_acde48001122row0_col12\" class=\"data row0 col12\" >Testers / Quality Assurance</td>\n",
       "                        <td id=\"T_6c67e3be_41de_11ea_82c8_acde48001122row0_col13\" class=\"data row0 col13\" >Technical Support</td>\n",
       "                        <td id=\"T_6c67e3be_41de_11ea_82c8_acde48001122row0_col14\" class=\"data row0 col14\" >Sales / Marketing</td>\n",
       "                        <td id=\"T_6c67e3be_41de_11ea_82c8_acde48001122row0_col15\" class=\"data row0 col15\" >Consultants</td>\n",
       "                        <td id=\"T_6c67e3be_41de_11ea_82c8_acde48001122row0_col16\" class=\"data row0 col16\" >Customers</td>\n",
       "                        <td id=\"T_6c67e3be_41de_11ea_82c8_acde48001122row0_col17\" class=\"data row0 col17\" >Finance</td>\n",
       "                        <td id=\"T_6c67e3be_41de_11ea_82c8_acde48001122row0_col18\" class=\"data row0 col18\" >Human Resources</td>\n",
       "                        <td id=\"T_6c67e3be_41de_11ea_82c8_acde48001122row0_col19\" class=\"data row0 col19\" >iPhone</td>\n",
       "                        <td id=\"T_6c67e3be_41de_11ea_82c8_acde48001122row0_col20\" class=\"data row0 col20\" >iPad</td>\n",
       "                        <td id=\"T_6c67e3be_41de_11ea_82c8_acde48001122row0_col21\" class=\"data row0 col21\" >Android phone</td>\n",
       "                        <td id=\"T_6c67e3be_41de_11ea_82c8_acde48001122row0_col22\" class=\"data row0 col22\" >Android tablet</td>\n",
       "                        <td id=\"T_6c67e3be_41de_11ea_82c8_acde48001122row0_col23\" class=\"data row0 col23\" >Blackberry</td>\n",
       "                        <td id=\"T_6c67e3be_41de_11ea_82c8_acde48001122row0_col24\" class=\"data row0 col24\" >Other</td>\n",
       "                        <td id=\"T_6c67e3be_41de_11ea_82c8_acde48001122row0_col25\" class=\"data row0 col25\" >No mobile app</td>\n",
       "                        <td id=\"T_6c67e3be_41de_11ea_82c8_acde48001122row0_col26\" class=\"data row0 col26\" >Advertising</td>\n",
       "                        <td id=\"T_6c67e3be_41de_11ea_82c8_acde48001122row0_col27\" class=\"data row0 col27\" >Direct sales to consumers</td>\n",
       "                        <td id=\"T_6c67e3be_41de_11ea_82c8_acde48001122row0_col28\" class=\"data row0 col28\" >Direct sales to companies</td>\n",
       "                        <td id=\"T_6c67e3be_41de_11ea_82c8_acde48001122row0_col29\" class=\"data row0 col29\" >Software as a service / recurring billing</td>\n",
       "                        <td id=\"T_6c67e3be_41de_11ea_82c8_acde48001122row0_col30\" class=\"data row0 col30\" >Mobile app sales</td>\n",
       "                        <td id=\"T_6c67e3be_41de_11ea_82c8_acde48001122row0_col31\" class=\"data row0 col31\" >Consulting</td>\n",
       "                        <td id=\"T_6c67e3be_41de_11ea_82c8_acde48001122row0_col32\" class=\"data row0 col32\" >Grants / outside fund-raising</td>\n",
       "                        <td id=\"T_6c67e3be_41de_11ea_82c8_acde48001122row0_col33\" class=\"data row0 col33\" >Other</td>\n",
       "                        <td id=\"T_6c67e3be_41de_11ea_82c8_acde48001122row0_col34\" class=\"data row0 col34\" >Developing new features</td>\n",
       "                        <td id=\"T_6c67e3be_41de_11ea_82c8_acde48001122row0_col35\" class=\"data row0 col35\" >Refactoring / code quality</td>\n",
       "                        <td id=\"T_6c67e3be_41de_11ea_82c8_acde48001122row0_col36\" class=\"data row0 col36\" >Fixing bugs</td>\n",
       "                        <td id=\"T_6c67e3be_41de_11ea_82c8_acde48001122row0_col37\" class=\"data row0 col37\" >Technical support</td>\n",
       "                        <td id=\"T_6c67e3be_41de_11ea_82c8_acde48001122row0_col38\" class=\"data row0 col38\" >Meetings</td>\n",
       "                        <td id=\"T_6c67e3be_41de_11ea_82c8_acde48001122row0_col39\" class=\"data row0 col39\" >Learning new skills</td>\n",
       "                        <td id=\"T_6c67e3be_41de_11ea_82c8_acde48001122row0_col40\" class=\"data row0 col40\" >Surfing the Internet</td>\n",
       "                        <td id=\"T_6c67e3be_41de_11ea_82c8_acde48001122row0_col41\" class=\"data row0 col41\" >Commuting</td>\n",
       "                        <td id=\"T_6c67e3be_41de_11ea_82c8_acde48001122row0_col42\" class=\"data row0 col42\" >I can recommend or request products</td>\n",
       "                        <td id=\"T_6c67e3be_41de_11ea_82c8_acde48001122row0_col43\" class=\"data row0 col43\" >I influence purchasing decisions, but don't have final approval</td>\n",
       "                        <td id=\"T_6c67e3be_41de_11ea_82c8_acde48001122row0_col44\" class=\"data row0 col44\" >I have a discretionary budget at my disposal</td>\n",
       "                        <td id=\"T_6c67e3be_41de_11ea_82c8_acde48001122row0_col45\" class=\"data row0 col45\" >I can buy anything I want without asking anyone</td>\n",
       "                        <td id=\"T_6c67e3be_41de_11ea_82c8_acde48001122row0_col46\" class=\"data row0 col46\" >Check Writer</td>\n",
       "                        <td id=\"T_6c67e3be_41de_11ea_82c8_acde48001122row0_col47\" class=\"data row0 col47\" >No Involvement</td>\n",
       "                        <td id=\"T_6c67e3be_41de_11ea_82c8_acde48001122row0_col48\" class=\"data row0 col48\" >I'm a Seller</td>\n",
       "                        <td id=\"T_6c67e3be_41de_11ea_82c8_acde48001122row0_col49\" class=\"data row0 col49\" >Hardware</td>\n",
       "                        <td id=\"T_6c67e3be_41de_11ea_82c8_acde48001122row0_col50\" class=\"data row0 col50\" >Servers</td>\n",
       "                        <td id=\"T_6c67e3be_41de_11ea_82c8_acde48001122row0_col51\" class=\"data row0 col51\" >Software</td>\n",
       "                        <td id=\"T_6c67e3be_41de_11ea_82c8_acde48001122row0_col52\" class=\"data row0 col52\" >User Equipment: Monitors, PCs, Laptops</td>\n",
       "                        <td id=\"T_6c67e3be_41de_11ea_82c8_acde48001122row0_col53\" class=\"data row0 col53\" >Consultants</td>\n",
       "                        <td id=\"T_6c67e3be_41de_11ea_82c8_acde48001122row0_col54\" class=\"data row0 col54\" >Other</td>\n",
       "                        <td id=\"T_6c67e3be_41de_11ea_82c8_acde48001122row0_col55\" class=\"data row0 col55\" >Response</td>\n",
       "                        <td id=\"T_6c67e3be_41de_11ea_82c8_acde48001122row0_col56\" class=\"data row0 col56\" >C</td>\n",
       "                        <td id=\"T_6c67e3be_41de_11ea_82c8_acde48001122row0_col57\" class=\"data row0 col57\" >C++</td>\n",
       "                        <td id=\"T_6c67e3be_41de_11ea_82c8_acde48001122row0_col58\" class=\"data row0 col58\" >C#</td>\n",
       "                        <td id=\"T_6c67e3be_41de_11ea_82c8_acde48001122row0_col59\" class=\"data row0 col59\" >Java</td>\n",
       "                        <td id=\"T_6c67e3be_41de_11ea_82c8_acde48001122row0_col60\" class=\"data row0 col60\" >JavaScript</td>\n",
       "                        <td id=\"T_6c67e3be_41de_11ea_82c8_acde48001122row0_col61\" class=\"data row0 col61\" >jQuery</td>\n",
       "                        <td id=\"T_6c67e3be_41de_11ea_82c8_acde48001122row0_col62\" class=\"data row0 col62\" >JQuery</td>\n",
       "                        <td id=\"T_6c67e3be_41de_11ea_82c8_acde48001122row0_col63\" class=\"data row0 col63\" >Node.js</td>\n",
       "                        <td id=\"T_6c67e3be_41de_11ea_82c8_acde48001122row0_col64\" class=\"data row0 col64\" >Objective-C</td>\n",
       "                        <td id=\"T_6c67e3be_41de_11ea_82c8_acde48001122row0_col65\" class=\"data row0 col65\" >PHP</td>\n",
       "                        <td id=\"T_6c67e3be_41de_11ea_82c8_acde48001122row0_col66\" class=\"data row0 col66\" >Python</td>\n",
       "                        <td id=\"T_6c67e3be_41de_11ea_82c8_acde48001122row0_col67\" class=\"data row0 col67\" >Ruby</td>\n",
       "                        <td id=\"T_6c67e3be_41de_11ea_82c8_acde48001122row0_col68\" class=\"data row0 col68\" >SQL</td>\n",
       "                        <td id=\"T_6c67e3be_41de_11ea_82c8_acde48001122row0_col69\" class=\"data row0 col69\" >Other (please specify)</td>\n",
       "                        <td id=\"T_6c67e3be_41de_11ea_82c8_acde48001122row0_col70\" class=\"data row0 col70\" >Node.js</td>\n",
       "                        <td id=\"T_6c67e3be_41de_11ea_82c8_acde48001122row0_col71\" class=\"data row0 col71\" >Haskell</td>\n",
       "                        <td id=\"T_6c67e3be_41de_11ea_82c8_acde48001122row0_col72\" class=\"data row0 col72\" >CoffeeScript</td>\n",
       "                        <td id=\"T_6c67e3be_41de_11ea_82c8_acde48001122row0_col73\" class=\"data row0 col73\" >Dart</td>\n",
       "                        <td id=\"T_6c67e3be_41de_11ea_82c8_acde48001122row0_col74\" class=\"data row0 col74\" >TypeScript</td>\n",
       "                        <td id=\"T_6c67e3be_41de_11ea_82c8_acde48001122row0_col75\" class=\"data row0 col75\" >C++11</td>\n",
       "                        <td id=\"T_6c67e3be_41de_11ea_82c8_acde48001122row0_col76\" class=\"data row0 col76\" >WinRT</td>\n",
       "                        <td id=\"T_6c67e3be_41de_11ea_82c8_acde48001122row0_col77\" class=\"data row0 col77\" >Redis</td>\n",
       "                        <td id=\"T_6c67e3be_41de_11ea_82c8_acde48001122row0_col78\" class=\"data row0 col78\" >MongoDB</td>\n",
       "                        <td id=\"T_6c67e3be_41de_11ea_82c8_acde48001122row0_col79\" class=\"data row0 col79\" >F#</td>\n",
       "                        <td id=\"T_6c67e3be_41de_11ea_82c8_acde48001122row0_col80\" class=\"data row0 col80\" >PhoneGap</td>\n",
       "                        <td id=\"T_6c67e3be_41de_11ea_82c8_acde48001122row0_col81\" class=\"data row0 col81\" >Response</td>\n",
       "                        <td id=\"T_6c67e3be_41de_11ea_82c8_acde48001122row0_col82\" class=\"data row0 col82\" >High Base Compensation</td>\n",
       "                        <td id=\"T_6c67e3be_41de_11ea_82c8_acde48001122row0_col83\" class=\"data row0 col83\" >Stock Options/Profit Sharing Program</td>\n",
       "                        <td id=\"T_6c67e3be_41de_11ea_82c8_acde48001122row0_col84\" class=\"data row0 col84\" >Identification With the Company/Goals</td>\n",
       "                        <td id=\"T_6c67e3be_41de_11ea_82c8_acde48001122row0_col85\" class=\"data row0 col85\" >Excitement About the Company's Products</td>\n",
       "                        <td id=\"T_6c67e3be_41de_11ea_82c8_acde48001122row0_col86\" class=\"data row0 col86\" >Opportunity to Use/Learn New Technologies</td>\n",
       "                        <td id=\"T_6c67e3be_41de_11ea_82c8_acde48001122row0_col87\" class=\"data row0 col87\" >Room for Growth of Skills/Knowledge</td>\n",
       "                        <td id=\"T_6c67e3be_41de_11ea_82c8_acde48001122row0_col88\" class=\"data row0 col88\" >High Quality Office Space (amenities, lounge space, free food, etc)</td>\n",
       "                        <td id=\"T_6c67e3be_41de_11ea_82c8_acde48001122row0_col89\" class=\"data row0 col89\" >High Caliber Team (is everyone else smart/hardworking)</td>\n",
       "                        <td id=\"T_6c67e3be_41de_11ea_82c8_acde48001122row0_col90\" class=\"data row0 col90\" >Positive Organization Structure (not much bureaucracy, helpful management)</td>\n",
       "                        <td id=\"T_6c67e3be_41de_11ea_82c8_acde48001122row0_col91\" class=\"data row0 col91\" >Lots of Control Over Your Own Work</td>\n",
       "                        <td id=\"T_6c67e3be_41de_11ea_82c8_acde48001122row0_col92\" class=\"data row0 col92\" >Quality of Workstation (dream machine, 30inch monitors, etc)</td>\n",
       "                        <td id=\"T_6c67e3be_41de_11ea_82c8_acde48001122row0_col93\" class=\"data row0 col93\" >Autonomy Over Budget/Expenditures</td>\n",
       "                        <td id=\"T_6c67e3be_41de_11ea_82c8_acde48001122row0_col94\" class=\"data row0 col94\" >Office in a Desirable City/Area</td>\n",
       "                        <td id=\"T_6c67e3be_41de_11ea_82c8_acde48001122row0_col95\" class=\"data row0 col95\" >Convenient Commute or Telecommute Options</td>\n",
       "                        <td id=\"T_6c67e3be_41de_11ea_82c8_acde48001122row0_col96\" class=\"data row0 col96\" >40 hour work week</td>\n",
       "                        <td id=\"T_6c67e3be_41de_11ea_82c8_acde48001122row0_col97\" class=\"data row0 col97\" >Limited night / weekend work</td>\n",
       "                        <td id=\"T_6c67e3be_41de_11ea_82c8_acde48001122row0_col98\" class=\"data row0 col98\" >Response</td>\n",
       "                        <td id=\"T_6c67e3be_41de_11ea_82c8_acde48001122row0_col99\" class=\"data row0 col99\" >Response</td>\n",
       "                        <td id=\"T_6c67e3be_41de_11ea_82c8_acde48001122row0_col100\" class=\"data row0 col100\" >Response</td>\n",
       "                        <td id=\"T_6c67e3be_41de_11ea_82c8_acde48001122row0_col101\" class=\"data row0 col101\" >iPhone</td>\n",
       "                        <td id=\"T_6c67e3be_41de_11ea_82c8_acde48001122row0_col102\" class=\"data row0 col102\" >Android</td>\n",
       "                        <td id=\"T_6c67e3be_41de_11ea_82c8_acde48001122row0_col103\" class=\"data row0 col103\" >Blackberry</td>\n",
       "                        <td id=\"T_6c67e3be_41de_11ea_82c8_acde48001122row0_col104\" class=\"data row0 col104\" >Windows Phone</td>\n",
       "                        <td id=\"T_6c67e3be_41de_11ea_82c8_acde48001122row0_col105\" class=\"data row0 col105\" >iPad</td>\n",
       "                        <td id=\"T_6c67e3be_41de_11ea_82c8_acde48001122row0_col106\" class=\"data row0 col106\" >Android Tablet</td>\n",
       "                        <td id=\"T_6c67e3be_41de_11ea_82c8_acde48001122row0_col107\" class=\"data row0 col107\" >Kindle Fire</td>\n",
       "                        <td id=\"T_6c67e3be_41de_11ea_82c8_acde48001122row0_col108\" class=\"data row0 col108\" >Windows Tablet</td>\n",
       "                        <td id=\"T_6c67e3be_41de_11ea_82c8_acde48001122row0_col109\" class=\"data row0 col109\" >Kindle</td>\n",
       "                        <td id=\"T_6c67e3be_41de_11ea_82c8_acde48001122row0_col110\" class=\"data row0 col110\" >Nook</td>\n",
       "                        <td id=\"T_6c67e3be_41de_11ea_82c8_acde48001122row0_col111\" class=\"data row0 col111\" >PS3</td>\n",
       "                        <td id=\"T_6c67e3be_41de_11ea_82c8_acde48001122row0_col112\" class=\"data row0 col112\" >Xbox</td>\n",
       "                        <td id=\"T_6c67e3be_41de_11ea_82c8_acde48001122row0_col113\" class=\"data row0 col113\" >Wii</td>\n",
       "                        <td id=\"T_6c67e3be_41de_11ea_82c8_acde48001122row0_col114\" class=\"data row0 col114\" >Other (please specify)</td>\n",
       "                        <td id=\"T_6c67e3be_41de_11ea_82c8_acde48001122row0_col115\" class=\"data row0 col115\" >Response</td>\n",
       "                        <td id=\"T_6c67e3be_41de_11ea_82c8_acde48001122row0_col116\" class=\"data row0 col116\" >The ads are relevant</td>\n",
       "                        <td id=\"T_6c67e3be_41de_11ea_82c8_acde48001122row0_col117\" class=\"data row0 col117\" >The ads are entertaining</td>\n",
       "                        <td id=\"T_6c67e3be_41de_11ea_82c8_acde48001122row0_col118\" class=\"data row0 col118\" >The ads are Informative</td>\n",
       "                        <td id=\"T_6c67e3be_41de_11ea_82c8_acde48001122row0_col119\" class=\"data row0 col119\" >I click on ads that interest me</td>\n",
       "                        <td id=\"T_6c67e3be_41de_11ea_82c8_acde48001122row0_col120\" class=\"data row0 col120\" >I've taken a trial/purchased a product from ads</td>\n",
       "                        <td id=\"T_6c67e3be_41de_11ea_82c8_acde48001122row0_col121\" class=\"data row0 col121\" >What ads? I use an ad blocker</td>\n",
       "                        <td id=\"T_6c67e3be_41de_11ea_82c8_acde48001122row0_col122\" class=\"data row0 col122\" >Open-Ended Response</td>\n",
       "                        <td id=\"T_6c67e3be_41de_11ea_82c8_acde48001122row0_col123\" class=\"data row0 col123\" >Response</td>\n",
       "                        <td id=\"T_6c67e3be_41de_11ea_82c8_acde48001122row0_col124\" class=\"data row0 col124\" >Read other people's questions to solve my problems</td>\n",
       "                        <td id=\"T_6c67e3be_41de_11ea_82c8_acde48001122row0_col125\" class=\"data row0 col125\" >Ask questions to solve problems</td>\n",
       "                        <td id=\"T_6c67e3be_41de_11ea_82c8_acde48001122row0_col126\" class=\"data row0 col126\" >Answer questions I know the answer to</td>\n",
       "                        <td id=\"T_6c67e3be_41de_11ea_82c8_acde48001122row0_col127\" class=\"data row0 col127\" >Other (please specify)</td>\n",
       "            </tr>\n",
       "            <tr>\n",
       "                        <th id=\"T_6c67e3be_41de_11ea_82c8_acde48001122level0_row1\" class=\"row_heading level0 row1\" >1</th>\n",
       "                        <td id=\"T_6c67e3be_41de_11ea_82c8_acde48001122row1_col0\" class=\"data row1 col0\" >United Kingdom</td>\n",
       "                        <td id=\"T_6c67e3be_41de_11ea_82c8_acde48001122row1_col1\" class=\"data row1 col1\" >nan</td>\n",
       "                        <td id=\"T_6c67e3be_41de_11ea_82c8_acde48001122row1_col2\" class=\"data row1 col2\" >35-39</td>\n",
       "                        <td id=\"T_6c67e3be_41de_11ea_82c8_acde48001122row1_col3\" class=\"data row1 col3\" >6/10/2013</td>\n",
       "                        <td id=\"T_6c67e3be_41de_11ea_82c8_acde48001122row1_col4\" class=\"data row1 col4\" >Finance / Banking</td>\n",
       "                        <td id=\"T_6c67e3be_41de_11ea_82c8_acde48001122row1_col5\" class=\"data row1 col5\" >101-999</td>\n",
       "                        <td id=\"T_6c67e3be_41de_11ea_82c8_acde48001122row1_col6\" class=\"data row1 col6\" >Enterprise Level Services</td>\n",
       "                        <td id=\"T_6c67e3be_41de_11ea_82c8_acde48001122row1_col7\" class=\"data row1 col7\" >100</td>\n",
       "                        <td id=\"T_6c67e3be_41de_11ea_82c8_acde48001122row1_col8\" class=\"data row1 col8\" >4/8/2013</td>\n",
       "                        <td id=\"T_6c67e3be_41de_11ea_82c8_acde48001122row1_col9\" class=\"data row1 col9\" >System Administrators</td>\n",
       "                        <td id=\"T_6c67e3be_41de_11ea_82c8_acde48001122row1_col10\" class=\"data row1 col10\" >Designers</td>\n",
       "                        <td id=\"T_6c67e3be_41de_11ea_82c8_acde48001122row1_col11\" class=\"data row1 col11\" >Product Managers</td>\n",
       "                        <td id=\"T_6c67e3be_41de_11ea_82c8_acde48001122row1_col12\" class=\"data row1 col12\" >Testers / Quality Assurance</td>\n",
       "                        <td id=\"T_6c67e3be_41de_11ea_82c8_acde48001122row1_col13\" class=\"data row1 col13\" >nan</td>\n",
       "                        <td id=\"T_6c67e3be_41de_11ea_82c8_acde48001122row1_col14\" class=\"data row1 col14\" >nan</td>\n",
       "                        <td id=\"T_6c67e3be_41de_11ea_82c8_acde48001122row1_col15\" class=\"data row1 col15\" >nan</td>\n",
       "                        <td id=\"T_6c67e3be_41de_11ea_82c8_acde48001122row1_col16\" class=\"data row1 col16\" >nan</td>\n",
       "                        <td id=\"T_6c67e3be_41de_11ea_82c8_acde48001122row1_col17\" class=\"data row1 col17\" >nan</td>\n",
       "                        <td id=\"T_6c67e3be_41de_11ea_82c8_acde48001122row1_col18\" class=\"data row1 col18\" >nan</td>\n",
       "                        <td id=\"T_6c67e3be_41de_11ea_82c8_acde48001122row1_col19\" class=\"data row1 col19\" >iPhone</td>\n",
       "                        <td id=\"T_6c67e3be_41de_11ea_82c8_acde48001122row1_col20\" class=\"data row1 col20\" >iPad</td>\n",
       "                        <td id=\"T_6c67e3be_41de_11ea_82c8_acde48001122row1_col21\" class=\"data row1 col21\" >Android phone</td>\n",
       "                        <td id=\"T_6c67e3be_41de_11ea_82c8_acde48001122row1_col22\" class=\"data row1 col22\" >nan</td>\n",
       "                        <td id=\"T_6c67e3be_41de_11ea_82c8_acde48001122row1_col23\" class=\"data row1 col23\" >Blackberry</td>\n",
       "                        <td id=\"T_6c67e3be_41de_11ea_82c8_acde48001122row1_col24\" class=\"data row1 col24\" >Other</td>\n",
       "                        <td id=\"T_6c67e3be_41de_11ea_82c8_acde48001122row1_col25\" class=\"data row1 col25\" >nan</td>\n",
       "                        <td id=\"T_6c67e3be_41de_11ea_82c8_acde48001122row1_col26\" class=\"data row1 col26\" >nan</td>\n",
       "                        <td id=\"T_6c67e3be_41de_11ea_82c8_acde48001122row1_col27\" class=\"data row1 col27\" >nan</td>\n",
       "                        <td id=\"T_6c67e3be_41de_11ea_82c8_acde48001122row1_col28\" class=\"data row1 col28\" >Direct sales to companies</td>\n",
       "                        <td id=\"T_6c67e3be_41de_11ea_82c8_acde48001122row1_col29\" class=\"data row1 col29\" >nan</td>\n",
       "                        <td id=\"T_6c67e3be_41de_11ea_82c8_acde48001122row1_col30\" class=\"data row1 col30\" >nan</td>\n",
       "                        <td id=\"T_6c67e3be_41de_11ea_82c8_acde48001122row1_col31\" class=\"data row1 col31\" >Consulting</td>\n",
       "                        <td id=\"T_6c67e3be_41de_11ea_82c8_acde48001122row1_col32\" class=\"data row1 col32\" >nan</td>\n",
       "                        <td id=\"T_6c67e3be_41de_11ea_82c8_acde48001122row1_col33\" class=\"data row1 col33\" >nan</td>\n",
       "                        <td id=\"T_6c67e3be_41de_11ea_82c8_acde48001122row1_col34\" class=\"data row1 col34\" >10-20 hours</td>\n",
       "                        <td id=\"T_6c67e3be_41de_11ea_82c8_acde48001122row1_col35\" class=\"data row1 col35\" >5-10 hours</td>\n",
       "                        <td id=\"T_6c67e3be_41de_11ea_82c8_acde48001122row1_col36\" class=\"data row1 col36\" >10-20 hours</td>\n",
       "                        <td id=\"T_6c67e3be_41de_11ea_82c8_acde48001122row1_col37\" class=\"data row1 col37\" >5-10 hours</td>\n",
       "                        <td id=\"T_6c67e3be_41de_11ea_82c8_acde48001122row1_col38\" class=\"data row1 col38\" >5-10 hours</td>\n",
       "                        <td id=\"T_6c67e3be_41de_11ea_82c8_acde48001122row1_col39\" class=\"data row1 col39\" >2-5 hours</td>\n",
       "                        <td id=\"T_6c67e3be_41de_11ea_82c8_acde48001122row1_col40\" class=\"data row1 col40\" >nan</td>\n",
       "                        <td id=\"T_6c67e3be_41de_11ea_82c8_acde48001122row1_col41\" class=\"data row1 col41\" >1-2 hours</td>\n",
       "                        <td id=\"T_6c67e3be_41de_11ea_82c8_acde48001122row1_col42\" class=\"data row1 col42\" >nan</td>\n",
       "                        <td id=\"T_6c67e3be_41de_11ea_82c8_acde48001122row1_col43\" class=\"data row1 col43\" >nan</td>\n",
       "                        <td id=\"T_6c67e3be_41de_11ea_82c8_acde48001122row1_col44\" class=\"data row1 col44\" >nan</td>\n",
       "                        <td id=\"T_6c67e3be_41de_11ea_82c8_acde48001122row1_col45\" class=\"data row1 col45\" >nan</td>\n",
       "                        <td id=\"T_6c67e3be_41de_11ea_82c8_acde48001122row1_col46\" class=\"data row1 col46\" >nan</td>\n",
       "                        <td id=\"T_6c67e3be_41de_11ea_82c8_acde48001122row1_col47\" class=\"data row1 col47\" >No Involvement</td>\n",
       "                        <td id=\"T_6c67e3be_41de_11ea_82c8_acde48001122row1_col48\" class=\"data row1 col48\" >nan</td>\n",
       "                        <td id=\"T_6c67e3be_41de_11ea_82c8_acde48001122row1_col49\" class=\"data row1 col49\" >nan</td>\n",
       "                        <td id=\"T_6c67e3be_41de_11ea_82c8_acde48001122row1_col50\" class=\"data row1 col50\" >nan</td>\n",
       "                        <td id=\"T_6c67e3be_41de_11ea_82c8_acde48001122row1_col51\" class=\"data row1 col51\" >nan</td>\n",
       "                        <td id=\"T_6c67e3be_41de_11ea_82c8_acde48001122row1_col52\" class=\"data row1 col52\" >nan</td>\n",
       "                        <td id=\"T_6c67e3be_41de_11ea_82c8_acde48001122row1_col53\" class=\"data row1 col53\" >nan</td>\n",
       "                        <td id=\"T_6c67e3be_41de_11ea_82c8_acde48001122row1_col54\" class=\"data row1 col54\" >nan</td>\n",
       "                        <td id=\"T_6c67e3be_41de_11ea_82c8_acde48001122row1_col55\" class=\"data row1 col55\" >nan</td>\n",
       "                        <td id=\"T_6c67e3be_41de_11ea_82c8_acde48001122row1_col56\" class=\"data row1 col56\" >nan</td>\n",
       "                        <td id=\"T_6c67e3be_41de_11ea_82c8_acde48001122row1_col57\" class=\"data row1 col57\" >nan</td>\n",
       "                        <td id=\"T_6c67e3be_41de_11ea_82c8_acde48001122row1_col58\" class=\"data row1 col58\" >nan</td>\n",
       "                        <td id=\"T_6c67e3be_41de_11ea_82c8_acde48001122row1_col59\" class=\"data row1 col59\" >Java</td>\n",
       "                        <td id=\"T_6c67e3be_41de_11ea_82c8_acde48001122row1_col60\" class=\"data row1 col60\" >nan</td>\n",
       "                        <td id=\"T_6c67e3be_41de_11ea_82c8_acde48001122row1_col61\" class=\"data row1 col61\" >nan</td>\n",
       "                        <td id=\"T_6c67e3be_41de_11ea_82c8_acde48001122row1_col62\" class=\"data row1 col62\" >nan</td>\n",
       "                        <td id=\"T_6c67e3be_41de_11ea_82c8_acde48001122row1_col63\" class=\"data row1 col63\" >nan</td>\n",
       "                        <td id=\"T_6c67e3be_41de_11ea_82c8_acde48001122row1_col64\" class=\"data row1 col64\" >nan</td>\n",
       "                        <td id=\"T_6c67e3be_41de_11ea_82c8_acde48001122row1_col65\" class=\"data row1 col65\" >nan</td>\n",
       "                        <td id=\"T_6c67e3be_41de_11ea_82c8_acde48001122row1_col66\" class=\"data row1 col66\" >nan</td>\n",
       "                        <td id=\"T_6c67e3be_41de_11ea_82c8_acde48001122row1_col67\" class=\"data row1 col67\" >nan</td>\n",
       "                        <td id=\"T_6c67e3be_41de_11ea_82c8_acde48001122row1_col68\" class=\"data row1 col68\" >SQL</td>\n",
       "                        <td id=\"T_6c67e3be_41de_11ea_82c8_acde48001122row1_col69\" class=\"data row1 col69\" >nan</td>\n",
       "                        <td id=\"T_6c67e3be_41de_11ea_82c8_acde48001122row1_col70\" class=\"data row1 col70\" >nan</td>\n",
       "                        <td id=\"T_6c67e3be_41de_11ea_82c8_acde48001122row1_col71\" class=\"data row1 col71\" >nan</td>\n",
       "                        <td id=\"T_6c67e3be_41de_11ea_82c8_acde48001122row1_col72\" class=\"data row1 col72\" >nan</td>\n",
       "                        <td id=\"T_6c67e3be_41de_11ea_82c8_acde48001122row1_col73\" class=\"data row1 col73\" >nan</td>\n",
       "                        <td id=\"T_6c67e3be_41de_11ea_82c8_acde48001122row1_col74\" class=\"data row1 col74\" >nan</td>\n",
       "                        <td id=\"T_6c67e3be_41de_11ea_82c8_acde48001122row1_col75\" class=\"data row1 col75\" >nan</td>\n",
       "                        <td id=\"T_6c67e3be_41de_11ea_82c8_acde48001122row1_col76\" class=\"data row1 col76\" >nan</td>\n",
       "                        <td id=\"T_6c67e3be_41de_11ea_82c8_acde48001122row1_col77\" class=\"data row1 col77\" >nan</td>\n",
       "                        <td id=\"T_6c67e3be_41de_11ea_82c8_acde48001122row1_col78\" class=\"data row1 col78\" >nan</td>\n",
       "                        <td id=\"T_6c67e3be_41de_11ea_82c8_acde48001122row1_col79\" class=\"data row1 col79\" >nan</td>\n",
       "                        <td id=\"T_6c67e3be_41de_11ea_82c8_acde48001122row1_col80\" class=\"data row1 col80\" >nan</td>\n",
       "                        <td id=\"T_6c67e3be_41de_11ea_82c8_acde48001122row1_col81\" class=\"data row1 col81\" >Windows 7</td>\n",
       "                        <td id=\"T_6c67e3be_41de_11ea_82c8_acde48001122row1_col82\" class=\"data row1 col82\" >Non-Negotiable</td>\n",
       "                        <td id=\"T_6c67e3be_41de_11ea_82c8_acde48001122row1_col83\" class=\"data row1 col83\" >Somewhat Important</td>\n",
       "                        <td id=\"T_6c67e3be_41de_11ea_82c8_acde48001122row1_col84\" class=\"data row1 col84\" >Somewhat Important</td>\n",
       "                        <td id=\"T_6c67e3be_41de_11ea_82c8_acde48001122row1_col85\" class=\"data row1 col85\" >Somewhat Important</td>\n",
       "                        <td id=\"T_6c67e3be_41de_11ea_82c8_acde48001122row1_col86\" class=\"data row1 col86\" >Somewhat Important</td>\n",
       "                        <td id=\"T_6c67e3be_41de_11ea_82c8_acde48001122row1_col87\" class=\"data row1 col87\" >Somewhat Important</td>\n",
       "                        <td id=\"T_6c67e3be_41de_11ea_82c8_acde48001122row1_col88\" class=\"data row1 col88\" >Somewhat Important</td>\n",
       "                        <td id=\"T_6c67e3be_41de_11ea_82c8_acde48001122row1_col89\" class=\"data row1 col89\" >Somewhat Important</td>\n",
       "                        <td id=\"T_6c67e3be_41de_11ea_82c8_acde48001122row1_col90\" class=\"data row1 col90\" >Somewhat Important</td>\n",
       "                        <td id=\"T_6c67e3be_41de_11ea_82c8_acde48001122row1_col91\" class=\"data row1 col91\" >Somewhat Important</td>\n",
       "                        <td id=\"T_6c67e3be_41de_11ea_82c8_acde48001122row1_col92\" class=\"data row1 col92\" >Not Very Important</td>\n",
       "                        <td id=\"T_6c67e3be_41de_11ea_82c8_acde48001122row1_col93\" class=\"data row1 col93\" >Don't Care</td>\n",
       "                        <td id=\"T_6c67e3be_41de_11ea_82c8_acde48001122row1_col94\" class=\"data row1 col94\" >Very Important</td>\n",
       "                        <td id=\"T_6c67e3be_41de_11ea_82c8_acde48001122row1_col95\" class=\"data row1 col95\" >Very Important</td>\n",
       "                        <td id=\"T_6c67e3be_41de_11ea_82c8_acde48001122row1_col96\" class=\"data row1 col96\" >Non-Negotiable</td>\n",
       "                        <td id=\"T_6c67e3be_41de_11ea_82c8_acde48001122row1_col97\" class=\"data row1 col97\" >Very Important</td>\n",
       "                        <td id=\"T_6c67e3be_41de_11ea_82c8_acde48001122row1_col98\" class=\"data row1 col98\" >No</td>\n",
       "                        <td id=\"T_6c67e3be_41de_11ea_82c8_acde48001122row1_col99\" class=\"data row1 col99\" >It's a paycheck</td>\n",
       "                        <td id=\"T_6c67e3be_41de_11ea_82c8_acde48001122row1_col100\" class=\"data row1 col100\" >$80,000 - $100,000</td>\n",
       "                        <td id=\"T_6c67e3be_41de_11ea_82c8_acde48001122row1_col101\" class=\"data row1 col101\" >iPhone</td>\n",
       "                        <td id=\"T_6c67e3be_41de_11ea_82c8_acde48001122row1_col102\" class=\"data row1 col102\" >nan</td>\n",
       "                        <td id=\"T_6c67e3be_41de_11ea_82c8_acde48001122row1_col103\" class=\"data row1 col103\" >nan</td>\n",
       "                        <td id=\"T_6c67e3be_41de_11ea_82c8_acde48001122row1_col104\" class=\"data row1 col104\" >nan</td>\n",
       "                        <td id=\"T_6c67e3be_41de_11ea_82c8_acde48001122row1_col105\" class=\"data row1 col105\" >nan</td>\n",
       "                        <td id=\"T_6c67e3be_41de_11ea_82c8_acde48001122row1_col106\" class=\"data row1 col106\" >nan</td>\n",
       "                        <td id=\"T_6c67e3be_41de_11ea_82c8_acde48001122row1_col107\" class=\"data row1 col107\" >nan</td>\n",
       "                        <td id=\"T_6c67e3be_41de_11ea_82c8_acde48001122row1_col108\" class=\"data row1 col108\" >nan</td>\n",
       "                        <td id=\"T_6c67e3be_41de_11ea_82c8_acde48001122row1_col109\" class=\"data row1 col109\" >nan</td>\n",
       "                        <td id=\"T_6c67e3be_41de_11ea_82c8_acde48001122row1_col110\" class=\"data row1 col110\" >nan</td>\n",
       "                        <td id=\"T_6c67e3be_41de_11ea_82c8_acde48001122row1_col111\" class=\"data row1 col111\" >nan</td>\n",
       "                        <td id=\"T_6c67e3be_41de_11ea_82c8_acde48001122row1_col112\" class=\"data row1 col112\" >nan</td>\n",
       "                        <td id=\"T_6c67e3be_41de_11ea_82c8_acde48001122row1_col113\" class=\"data row1 col113\" >nan</td>\n",
       "                        <td id=\"T_6c67e3be_41de_11ea_82c8_acde48001122row1_col114\" class=\"data row1 col114\" >nan</td>\n",
       "                        <td id=\"T_6c67e3be_41de_11ea_82c8_acde48001122row1_col115\" class=\"data row1 col115\" >$100-$250</td>\n",
       "                        <td id=\"T_6c67e3be_41de_11ea_82c8_acde48001122row1_col116\" class=\"data row1 col116\" >Neutral</td>\n",
       "                        <td id=\"T_6c67e3be_41de_11ea_82c8_acde48001122row1_col117\" class=\"data row1 col117\" >Neutral</td>\n",
       "                        <td id=\"T_6c67e3be_41de_11ea_82c8_acde48001122row1_col118\" class=\"data row1 col118\" >Neutral</td>\n",
       "                        <td id=\"T_6c67e3be_41de_11ea_82c8_acde48001122row1_col119\" class=\"data row1 col119\" >Neutral</td>\n",
       "                        <td id=\"T_6c67e3be_41de_11ea_82c8_acde48001122row1_col120\" class=\"data row1 col120\" >Neutral</td>\n",
       "                        <td id=\"T_6c67e3be_41de_11ea_82c8_acde48001122row1_col121\" class=\"data row1 col121\" >Neutral</td>\n",
       "                        <td id=\"T_6c67e3be_41de_11ea_82c8_acde48001122row1_col122\" class=\"data row1 col122\" >nan</td>\n",
       "                        <td id=\"T_6c67e3be_41de_11ea_82c8_acde48001122row1_col123\" class=\"data row1 col123\" >Don't have an account</td>\n",
       "                        <td id=\"T_6c67e3be_41de_11ea_82c8_acde48001122row1_col124\" class=\"data row1 col124\" >Read other people's questions to solve my problems</td>\n",
       "                        <td id=\"T_6c67e3be_41de_11ea_82c8_acde48001122row1_col125\" class=\"data row1 col125\" >nan</td>\n",
       "                        <td id=\"T_6c67e3be_41de_11ea_82c8_acde48001122row1_col126\" class=\"data row1 col126\" >nan</td>\n",
       "                        <td id=\"T_6c67e3be_41de_11ea_82c8_acde48001122row1_col127\" class=\"data row1 col127\" >nan</td>\n",
       "            </tr>\n",
       "    </tbody></table>"
      ],
      "text/plain": [
       "<pandas.io.formats.style.Styler at 0x1c56af4b50>"
      ]
     },
     "execution_count": 518,
     "metadata": {},
     "output_type": "execute_result"
    }
   ],
   "source": [
    "survey_2013 = pd.read_csv(\"survey_results_public_2013.csv\",sep = \",\",engine='python')\n",
    "survey_2013.head(2).style.set_properties(**style_dict)"
   ]
  },
  {
   "cell_type": "code",
   "execution_count": 519,
   "metadata": {
    "collapsed": true
   },
   "outputs": [
    {
     "data": {
      "text/html": [
       "<style  type=\"text/css\" >\n",
       "    #T_6ca4d4cc_41de_11ea_82c8_acde48001122row0_col0 {\n",
       "            background-color:  lightyellow;\n",
       "            color:  #000000;\n",
       "            border-color:  red;\n",
       "            font-family:  Roboto;\n",
       "        }    #T_6ca4d4cc_41de_11ea_82c8_acde48001122row0_col1 {\n",
       "            background-color:  lightyellow;\n",
       "            color:  #000000;\n",
       "            border-color:  red;\n",
       "            font-family:  Roboto;\n",
       "        }    #T_6ca4d4cc_41de_11ea_82c8_acde48001122row0_col2 {\n",
       "            background-color:  lightyellow;\n",
       "            color:  #000000;\n",
       "            border-color:  red;\n",
       "            font-family:  Roboto;\n",
       "        }    #T_6ca4d4cc_41de_11ea_82c8_acde48001122row0_col3 {\n",
       "            background-color:  lightyellow;\n",
       "            color:  #000000;\n",
       "            border-color:  red;\n",
       "            font-family:  Roboto;\n",
       "        }    #T_6ca4d4cc_41de_11ea_82c8_acde48001122row0_col4 {\n",
       "            background-color:  lightyellow;\n",
       "            color:  #000000;\n",
       "            border-color:  red;\n",
       "            font-family:  Roboto;\n",
       "        }    #T_6ca4d4cc_41de_11ea_82c8_acde48001122row0_col5 {\n",
       "            background-color:  lightyellow;\n",
       "            color:  #000000;\n",
       "            border-color:  red;\n",
       "            font-family:  Roboto;\n",
       "        }    #T_6ca4d4cc_41de_11ea_82c8_acde48001122row0_col6 {\n",
       "            background-color:  lightyellow;\n",
       "            color:  #000000;\n",
       "            border-color:  red;\n",
       "            font-family:  Roboto;\n",
       "        }    #T_6ca4d4cc_41de_11ea_82c8_acde48001122row0_col7 {\n",
       "            background-color:  lightyellow;\n",
       "            color:  #000000;\n",
       "            border-color:  red;\n",
       "            font-family:  Roboto;\n",
       "        }    #T_6ca4d4cc_41de_11ea_82c8_acde48001122row0_col8 {\n",
       "            background-color:  lightyellow;\n",
       "            color:  #000000;\n",
       "            border-color:  red;\n",
       "            font-family:  Roboto;\n",
       "        }    #T_6ca4d4cc_41de_11ea_82c8_acde48001122row0_col9 {\n",
       "            background-color:  lightyellow;\n",
       "            color:  #000000;\n",
       "            border-color:  red;\n",
       "            font-family:  Roboto;\n",
       "        }    #T_6ca4d4cc_41de_11ea_82c8_acde48001122row0_col10 {\n",
       "            background-color:  lightyellow;\n",
       "            color:  #000000;\n",
       "            border-color:  red;\n",
       "            font-family:  Roboto;\n",
       "        }    #T_6ca4d4cc_41de_11ea_82c8_acde48001122row0_col11 {\n",
       "            background-color:  lightyellow;\n",
       "            color:  #000000;\n",
       "            border-color:  red;\n",
       "            font-family:  Roboto;\n",
       "        }    #T_6ca4d4cc_41de_11ea_82c8_acde48001122row0_col12 {\n",
       "            background-color:  lightyellow;\n",
       "            color:  #000000;\n",
       "            border-color:  red;\n",
       "            font-family:  Roboto;\n",
       "        }    #T_6ca4d4cc_41de_11ea_82c8_acde48001122row0_col13 {\n",
       "            background-color:  lightyellow;\n",
       "            color:  #000000;\n",
       "            border-color:  red;\n",
       "            font-family:  Roboto;\n",
       "        }    #T_6ca4d4cc_41de_11ea_82c8_acde48001122row0_col14 {\n",
       "            background-color:  lightyellow;\n",
       "            color:  #000000;\n",
       "            border-color:  red;\n",
       "            font-family:  Roboto;\n",
       "        }    #T_6ca4d4cc_41de_11ea_82c8_acde48001122row0_col15 {\n",
       "            background-color:  lightyellow;\n",
       "            color:  #000000;\n",
       "            border-color:  red;\n",
       "            font-family:  Roboto;\n",
       "        }    #T_6ca4d4cc_41de_11ea_82c8_acde48001122row0_col16 {\n",
       "            background-color:  lightyellow;\n",
       "            color:  #000000;\n",
       "            border-color:  red;\n",
       "            font-family:  Roboto;\n",
       "        }    #T_6ca4d4cc_41de_11ea_82c8_acde48001122row0_col17 {\n",
       "            background-color:  lightyellow;\n",
       "            color:  #000000;\n",
       "            border-color:  red;\n",
       "            font-family:  Roboto;\n",
       "        }    #T_6ca4d4cc_41de_11ea_82c8_acde48001122row0_col18 {\n",
       "            background-color:  lightyellow;\n",
       "            color:  #000000;\n",
       "            border-color:  red;\n",
       "            font-family:  Roboto;\n",
       "        }    #T_6ca4d4cc_41de_11ea_82c8_acde48001122row0_col19 {\n",
       "            background-color:  lightyellow;\n",
       "            color:  #000000;\n",
       "            border-color:  red;\n",
       "            font-family:  Roboto;\n",
       "        }    #T_6ca4d4cc_41de_11ea_82c8_acde48001122row0_col20 {\n",
       "            background-color:  lightyellow;\n",
       "            color:  #000000;\n",
       "            border-color:  red;\n",
       "            font-family:  Roboto;\n",
       "        }    #T_6ca4d4cc_41de_11ea_82c8_acde48001122row0_col21 {\n",
       "            background-color:  lightyellow;\n",
       "            color:  #000000;\n",
       "            border-color:  red;\n",
       "            font-family:  Roboto;\n",
       "        }    #T_6ca4d4cc_41de_11ea_82c8_acde48001122row0_col22 {\n",
       "            background-color:  lightyellow;\n",
       "            color:  #000000;\n",
       "            border-color:  red;\n",
       "            font-family:  Roboto;\n",
       "        }    #T_6ca4d4cc_41de_11ea_82c8_acde48001122row0_col23 {\n",
       "            background-color:  lightyellow;\n",
       "            color:  #000000;\n",
       "            border-color:  red;\n",
       "            font-family:  Roboto;\n",
       "        }    #T_6ca4d4cc_41de_11ea_82c8_acde48001122row0_col24 {\n",
       "            background-color:  lightyellow;\n",
       "            color:  #000000;\n",
       "            border-color:  red;\n",
       "            font-family:  Roboto;\n",
       "        }    #T_6ca4d4cc_41de_11ea_82c8_acde48001122row0_col25 {\n",
       "            background-color:  lightyellow;\n",
       "            color:  #000000;\n",
       "            border-color:  red;\n",
       "            font-family:  Roboto;\n",
       "        }    #T_6ca4d4cc_41de_11ea_82c8_acde48001122row0_col26 {\n",
       "            background-color:  lightyellow;\n",
       "            color:  #000000;\n",
       "            border-color:  red;\n",
       "            font-family:  Roboto;\n",
       "        }    #T_6ca4d4cc_41de_11ea_82c8_acde48001122row0_col27 {\n",
       "            background-color:  lightyellow;\n",
       "            color:  #000000;\n",
       "            border-color:  red;\n",
       "            font-family:  Roboto;\n",
       "        }    #T_6ca4d4cc_41de_11ea_82c8_acde48001122row0_col28 {\n",
       "            background-color:  lightyellow;\n",
       "            color:  #000000;\n",
       "            border-color:  red;\n",
       "            font-family:  Roboto;\n",
       "        }    #T_6ca4d4cc_41de_11ea_82c8_acde48001122row0_col29 {\n",
       "            background-color:  lightyellow;\n",
       "            color:  #000000;\n",
       "            border-color:  red;\n",
       "            font-family:  Roboto;\n",
       "        }    #T_6ca4d4cc_41de_11ea_82c8_acde48001122row0_col30 {\n",
       "            background-color:  lightyellow;\n",
       "            color:  #000000;\n",
       "            border-color:  red;\n",
       "            font-family:  Roboto;\n",
       "        }    #T_6ca4d4cc_41de_11ea_82c8_acde48001122row0_col31 {\n",
       "            background-color:  lightyellow;\n",
       "            color:  #000000;\n",
       "            border-color:  red;\n",
       "            font-family:  Roboto;\n",
       "        }    #T_6ca4d4cc_41de_11ea_82c8_acde48001122row0_col32 {\n",
       "            background-color:  lightyellow;\n",
       "            color:  #000000;\n",
       "            border-color:  red;\n",
       "            font-family:  Roboto;\n",
       "        }    #T_6ca4d4cc_41de_11ea_82c8_acde48001122row0_col33 {\n",
       "            background-color:  lightyellow;\n",
       "            color:  #000000;\n",
       "            border-color:  red;\n",
       "            font-family:  Roboto;\n",
       "        }    #T_6ca4d4cc_41de_11ea_82c8_acde48001122row0_col34 {\n",
       "            background-color:  lightyellow;\n",
       "            color:  #000000;\n",
       "            border-color:  red;\n",
       "            font-family:  Roboto;\n",
       "        }    #T_6ca4d4cc_41de_11ea_82c8_acde48001122row0_col35 {\n",
       "            background-color:  lightyellow;\n",
       "            color:  #000000;\n",
       "            border-color:  red;\n",
       "            font-family:  Roboto;\n",
       "        }    #T_6ca4d4cc_41de_11ea_82c8_acde48001122row0_col36 {\n",
       "            background-color:  lightyellow;\n",
       "            color:  #000000;\n",
       "            border-color:  red;\n",
       "            font-family:  Roboto;\n",
       "        }    #T_6ca4d4cc_41de_11ea_82c8_acde48001122row0_col37 {\n",
       "            background-color:  lightyellow;\n",
       "            color:  #000000;\n",
       "            border-color:  red;\n",
       "            font-family:  Roboto;\n",
       "        }    #T_6ca4d4cc_41de_11ea_82c8_acde48001122row0_col38 {\n",
       "            background-color:  lightyellow;\n",
       "            color:  #000000;\n",
       "            border-color:  red;\n",
       "            font-family:  Roboto;\n",
       "        }    #T_6ca4d4cc_41de_11ea_82c8_acde48001122row0_col39 {\n",
       "            background-color:  lightyellow;\n",
       "            color:  #000000;\n",
       "            border-color:  red;\n",
       "            font-family:  Roboto;\n",
       "        }    #T_6ca4d4cc_41de_11ea_82c8_acde48001122row0_col40 {\n",
       "            background-color:  lightyellow;\n",
       "            color:  #000000;\n",
       "            border-color:  red;\n",
       "            font-family:  Roboto;\n",
       "        }    #T_6ca4d4cc_41de_11ea_82c8_acde48001122row0_col41 {\n",
       "            background-color:  lightyellow;\n",
       "            color:  #000000;\n",
       "            border-color:  red;\n",
       "            font-family:  Roboto;\n",
       "        }    #T_6ca4d4cc_41de_11ea_82c8_acde48001122row0_col42 {\n",
       "            background-color:  lightyellow;\n",
       "            color:  #000000;\n",
       "            border-color:  red;\n",
       "            font-family:  Roboto;\n",
       "        }    #T_6ca4d4cc_41de_11ea_82c8_acde48001122row0_col43 {\n",
       "            background-color:  lightyellow;\n",
       "            color:  #000000;\n",
       "            border-color:  red;\n",
       "            font-family:  Roboto;\n",
       "        }    #T_6ca4d4cc_41de_11ea_82c8_acde48001122row0_col44 {\n",
       "            background-color:  lightyellow;\n",
       "            color:  #000000;\n",
       "            border-color:  red;\n",
       "            font-family:  Roboto;\n",
       "        }    #T_6ca4d4cc_41de_11ea_82c8_acde48001122row0_col45 {\n",
       "            background-color:  lightyellow;\n",
       "            color:  #000000;\n",
       "            border-color:  red;\n",
       "            font-family:  Roboto;\n",
       "        }    #T_6ca4d4cc_41de_11ea_82c8_acde48001122row0_col46 {\n",
       "            background-color:  lightyellow;\n",
       "            color:  #000000;\n",
       "            border-color:  red;\n",
       "            font-family:  Roboto;\n",
       "        }    #T_6ca4d4cc_41de_11ea_82c8_acde48001122row0_col47 {\n",
       "            background-color:  lightyellow;\n",
       "            color:  #000000;\n",
       "            border-color:  red;\n",
       "            font-family:  Roboto;\n",
       "        }    #T_6ca4d4cc_41de_11ea_82c8_acde48001122row0_col48 {\n",
       "            background-color:  lightyellow;\n",
       "            color:  #000000;\n",
       "            border-color:  red;\n",
       "            font-family:  Roboto;\n",
       "        }    #T_6ca4d4cc_41de_11ea_82c8_acde48001122row0_col49 {\n",
       "            background-color:  lightyellow;\n",
       "            color:  #000000;\n",
       "            border-color:  red;\n",
       "            font-family:  Roboto;\n",
       "        }    #T_6ca4d4cc_41de_11ea_82c8_acde48001122row0_col50 {\n",
       "            background-color:  lightyellow;\n",
       "            color:  #000000;\n",
       "            border-color:  red;\n",
       "            font-family:  Roboto;\n",
       "        }    #T_6ca4d4cc_41de_11ea_82c8_acde48001122row0_col51 {\n",
       "            background-color:  lightyellow;\n",
       "            color:  #000000;\n",
       "            border-color:  red;\n",
       "            font-family:  Roboto;\n",
       "        }    #T_6ca4d4cc_41de_11ea_82c8_acde48001122row0_col52 {\n",
       "            background-color:  lightyellow;\n",
       "            color:  #000000;\n",
       "            border-color:  red;\n",
       "            font-family:  Roboto;\n",
       "        }    #T_6ca4d4cc_41de_11ea_82c8_acde48001122row0_col53 {\n",
       "            background-color:  lightyellow;\n",
       "            color:  #000000;\n",
       "            border-color:  red;\n",
       "            font-family:  Roboto;\n",
       "        }    #T_6ca4d4cc_41de_11ea_82c8_acde48001122row0_col54 {\n",
       "            background-color:  lightyellow;\n",
       "            color:  #000000;\n",
       "            border-color:  red;\n",
       "            font-family:  Roboto;\n",
       "        }    #T_6ca4d4cc_41de_11ea_82c8_acde48001122row0_col55 {\n",
       "            background-color:  lightyellow;\n",
       "            color:  #000000;\n",
       "            border-color:  red;\n",
       "            font-family:  Roboto;\n",
       "        }    #T_6ca4d4cc_41de_11ea_82c8_acde48001122row0_col56 {\n",
       "            background-color:  lightyellow;\n",
       "            color:  #000000;\n",
       "            border-color:  red;\n",
       "            font-family:  Roboto;\n",
       "        }    #T_6ca4d4cc_41de_11ea_82c8_acde48001122row0_col57 {\n",
       "            background-color:  lightyellow;\n",
       "            color:  #000000;\n",
       "            border-color:  red;\n",
       "            font-family:  Roboto;\n",
       "        }    #T_6ca4d4cc_41de_11ea_82c8_acde48001122row0_col58 {\n",
       "            background-color:  lightyellow;\n",
       "            color:  #000000;\n",
       "            border-color:  red;\n",
       "            font-family:  Roboto;\n",
       "        }    #T_6ca4d4cc_41de_11ea_82c8_acde48001122row0_col59 {\n",
       "            background-color:  lightyellow;\n",
       "            color:  #000000;\n",
       "            border-color:  red;\n",
       "            font-family:  Roboto;\n",
       "        }    #T_6ca4d4cc_41de_11ea_82c8_acde48001122row0_col60 {\n",
       "            background-color:  lightyellow;\n",
       "            color:  #000000;\n",
       "            border-color:  red;\n",
       "            font-family:  Roboto;\n",
       "        }    #T_6ca4d4cc_41de_11ea_82c8_acde48001122row0_col61 {\n",
       "            background-color:  lightyellow;\n",
       "            color:  #000000;\n",
       "            border-color:  red;\n",
       "            font-family:  Roboto;\n",
       "        }    #T_6ca4d4cc_41de_11ea_82c8_acde48001122row0_col62 {\n",
       "            background-color:  lightyellow;\n",
       "            color:  #000000;\n",
       "            border-color:  red;\n",
       "            font-family:  Roboto;\n",
       "        }    #T_6ca4d4cc_41de_11ea_82c8_acde48001122row0_col63 {\n",
       "            background-color:  lightyellow;\n",
       "            color:  #000000;\n",
       "            border-color:  red;\n",
       "            font-family:  Roboto;\n",
       "        }    #T_6ca4d4cc_41de_11ea_82c8_acde48001122row0_col64 {\n",
       "            background-color:  lightyellow;\n",
       "            color:  #000000;\n",
       "            border-color:  red;\n",
       "            font-family:  Roboto;\n",
       "        }    #T_6ca4d4cc_41de_11ea_82c8_acde48001122row0_col65 {\n",
       "            background-color:  lightyellow;\n",
       "            color:  #000000;\n",
       "            border-color:  red;\n",
       "            font-family:  Roboto;\n",
       "        }    #T_6ca4d4cc_41de_11ea_82c8_acde48001122row0_col66 {\n",
       "            background-color:  lightyellow;\n",
       "            color:  #000000;\n",
       "            border-color:  red;\n",
       "            font-family:  Roboto;\n",
       "        }    #T_6ca4d4cc_41de_11ea_82c8_acde48001122row0_col67 {\n",
       "            background-color:  lightyellow;\n",
       "            color:  #000000;\n",
       "            border-color:  red;\n",
       "            font-family:  Roboto;\n",
       "        }    #T_6ca4d4cc_41de_11ea_82c8_acde48001122row0_col68 {\n",
       "            background-color:  lightyellow;\n",
       "            color:  #000000;\n",
       "            border-color:  red;\n",
       "            font-family:  Roboto;\n",
       "        }    #T_6ca4d4cc_41de_11ea_82c8_acde48001122row0_col69 {\n",
       "            background-color:  lightyellow;\n",
       "            color:  #000000;\n",
       "            border-color:  red;\n",
       "            font-family:  Roboto;\n",
       "        }    #T_6ca4d4cc_41de_11ea_82c8_acde48001122row0_col70 {\n",
       "            background-color:  lightyellow;\n",
       "            color:  #000000;\n",
       "            border-color:  red;\n",
       "            font-family:  Roboto;\n",
       "        }    #T_6ca4d4cc_41de_11ea_82c8_acde48001122row0_col71 {\n",
       "            background-color:  lightyellow;\n",
       "            color:  #000000;\n",
       "            border-color:  red;\n",
       "            font-family:  Roboto;\n",
       "        }    #T_6ca4d4cc_41de_11ea_82c8_acde48001122row0_col72 {\n",
       "            background-color:  lightyellow;\n",
       "            color:  #000000;\n",
       "            border-color:  red;\n",
       "            font-family:  Roboto;\n",
       "        }    #T_6ca4d4cc_41de_11ea_82c8_acde48001122row0_col73 {\n",
       "            background-color:  lightyellow;\n",
       "            color:  #000000;\n",
       "            border-color:  red;\n",
       "            font-family:  Roboto;\n",
       "        }    #T_6ca4d4cc_41de_11ea_82c8_acde48001122row0_col74 {\n",
       "            background-color:  lightyellow;\n",
       "            color:  #000000;\n",
       "            border-color:  red;\n",
       "            font-family:  Roboto;\n",
       "        }    #T_6ca4d4cc_41de_11ea_82c8_acde48001122row0_col75 {\n",
       "            background-color:  lightyellow;\n",
       "            color:  #000000;\n",
       "            border-color:  red;\n",
       "            font-family:  Roboto;\n",
       "        }    #T_6ca4d4cc_41de_11ea_82c8_acde48001122row0_col76 {\n",
       "            background-color:  lightyellow;\n",
       "            color:  #000000;\n",
       "            border-color:  red;\n",
       "            font-family:  Roboto;\n",
       "        }    #T_6ca4d4cc_41de_11ea_82c8_acde48001122row0_col77 {\n",
       "            background-color:  lightyellow;\n",
       "            color:  #000000;\n",
       "            border-color:  red;\n",
       "            font-family:  Roboto;\n",
       "        }    #T_6ca4d4cc_41de_11ea_82c8_acde48001122row0_col78 {\n",
       "            background-color:  lightyellow;\n",
       "            color:  #000000;\n",
       "            border-color:  red;\n",
       "            font-family:  Roboto;\n",
       "        }    #T_6ca4d4cc_41de_11ea_82c8_acde48001122row0_col79 {\n",
       "            background-color:  lightyellow;\n",
       "            color:  #000000;\n",
       "            border-color:  red;\n",
       "            font-family:  Roboto;\n",
       "        }    #T_6ca4d4cc_41de_11ea_82c8_acde48001122row0_col80 {\n",
       "            background-color:  lightyellow;\n",
       "            color:  #000000;\n",
       "            border-color:  red;\n",
       "            font-family:  Roboto;\n",
       "        }    #T_6ca4d4cc_41de_11ea_82c8_acde48001122row0_col81 {\n",
       "            background-color:  lightyellow;\n",
       "            color:  #000000;\n",
       "            border-color:  red;\n",
       "            font-family:  Roboto;\n",
       "        }    #T_6ca4d4cc_41de_11ea_82c8_acde48001122row0_col82 {\n",
       "            background-color:  lightyellow;\n",
       "            color:  #000000;\n",
       "            border-color:  red;\n",
       "            font-family:  Roboto;\n",
       "        }    #T_6ca4d4cc_41de_11ea_82c8_acde48001122row0_col83 {\n",
       "            background-color:  lightyellow;\n",
       "            color:  #000000;\n",
       "            border-color:  red;\n",
       "            font-family:  Roboto;\n",
       "        }    #T_6ca4d4cc_41de_11ea_82c8_acde48001122row0_col84 {\n",
       "            background-color:  lightyellow;\n",
       "            color:  #000000;\n",
       "            border-color:  red;\n",
       "            font-family:  Roboto;\n",
       "        }    #T_6ca4d4cc_41de_11ea_82c8_acde48001122row0_col85 {\n",
       "            background-color:  lightyellow;\n",
       "            color:  #000000;\n",
       "            border-color:  red;\n",
       "            font-family:  Roboto;\n",
       "        }    #T_6ca4d4cc_41de_11ea_82c8_acde48001122row0_col86 {\n",
       "            background-color:  lightyellow;\n",
       "            color:  #000000;\n",
       "            border-color:  red;\n",
       "            font-family:  Roboto;\n",
       "        }    #T_6ca4d4cc_41de_11ea_82c8_acde48001122row0_col87 {\n",
       "            background-color:  lightyellow;\n",
       "            color:  #000000;\n",
       "            border-color:  red;\n",
       "            font-family:  Roboto;\n",
       "        }    #T_6ca4d4cc_41de_11ea_82c8_acde48001122row0_col88 {\n",
       "            background-color:  lightyellow;\n",
       "            color:  #000000;\n",
       "            border-color:  red;\n",
       "            font-family:  Roboto;\n",
       "        }    #T_6ca4d4cc_41de_11ea_82c8_acde48001122row0_col89 {\n",
       "            background-color:  lightyellow;\n",
       "            color:  #000000;\n",
       "            border-color:  red;\n",
       "            font-family:  Roboto;\n",
       "        }    #T_6ca4d4cc_41de_11ea_82c8_acde48001122row0_col90 {\n",
       "            background-color:  lightyellow;\n",
       "            color:  #000000;\n",
       "            border-color:  red;\n",
       "            font-family:  Roboto;\n",
       "        }    #T_6ca4d4cc_41de_11ea_82c8_acde48001122row0_col91 {\n",
       "            background-color:  lightyellow;\n",
       "            color:  #000000;\n",
       "            border-color:  red;\n",
       "            font-family:  Roboto;\n",
       "        }    #T_6ca4d4cc_41de_11ea_82c8_acde48001122row0_col92 {\n",
       "            background-color:  lightyellow;\n",
       "            color:  #000000;\n",
       "            border-color:  red;\n",
       "            font-family:  Roboto;\n",
       "        }    #T_6ca4d4cc_41de_11ea_82c8_acde48001122row0_col93 {\n",
       "            background-color:  lightyellow;\n",
       "            color:  #000000;\n",
       "            border-color:  red;\n",
       "            font-family:  Roboto;\n",
       "        }    #T_6ca4d4cc_41de_11ea_82c8_acde48001122row0_col94 {\n",
       "            background-color:  lightyellow;\n",
       "            color:  #000000;\n",
       "            border-color:  red;\n",
       "            font-family:  Roboto;\n",
       "        }    #T_6ca4d4cc_41de_11ea_82c8_acde48001122row0_col95 {\n",
       "            background-color:  lightyellow;\n",
       "            color:  #000000;\n",
       "            border-color:  red;\n",
       "            font-family:  Roboto;\n",
       "        }    #T_6ca4d4cc_41de_11ea_82c8_acde48001122row0_col96 {\n",
       "            background-color:  lightyellow;\n",
       "            color:  #000000;\n",
       "            border-color:  red;\n",
       "            font-family:  Roboto;\n",
       "        }    #T_6ca4d4cc_41de_11ea_82c8_acde48001122row0_col97 {\n",
       "            background-color:  lightyellow;\n",
       "            color:  #000000;\n",
       "            border-color:  red;\n",
       "            font-family:  Roboto;\n",
       "        }    #T_6ca4d4cc_41de_11ea_82c8_acde48001122row0_col98 {\n",
       "            background-color:  lightyellow;\n",
       "            color:  #000000;\n",
       "            border-color:  red;\n",
       "            font-family:  Roboto;\n",
       "        }    #T_6ca4d4cc_41de_11ea_82c8_acde48001122row0_col99 {\n",
       "            background-color:  lightyellow;\n",
       "            color:  #000000;\n",
       "            border-color:  red;\n",
       "            font-family:  Roboto;\n",
       "        }    #T_6ca4d4cc_41de_11ea_82c8_acde48001122row0_col100 {\n",
       "            background-color:  lightyellow;\n",
       "            color:  #000000;\n",
       "            border-color:  red;\n",
       "            font-family:  Roboto;\n",
       "        }    #T_6ca4d4cc_41de_11ea_82c8_acde48001122row0_col101 {\n",
       "            background-color:  lightyellow;\n",
       "            color:  #000000;\n",
       "            border-color:  red;\n",
       "            font-family:  Roboto;\n",
       "        }    #T_6ca4d4cc_41de_11ea_82c8_acde48001122row0_col102 {\n",
       "            background-color:  lightyellow;\n",
       "            color:  #000000;\n",
       "            border-color:  red;\n",
       "            font-family:  Roboto;\n",
       "        }    #T_6ca4d4cc_41de_11ea_82c8_acde48001122row0_col103 {\n",
       "            background-color:  lightyellow;\n",
       "            color:  #000000;\n",
       "            border-color:  red;\n",
       "            font-family:  Roboto;\n",
       "        }    #T_6ca4d4cc_41de_11ea_82c8_acde48001122row0_col104 {\n",
       "            background-color:  lightyellow;\n",
       "            color:  #000000;\n",
       "            border-color:  red;\n",
       "            font-family:  Roboto;\n",
       "        }    #T_6ca4d4cc_41de_11ea_82c8_acde48001122row0_col105 {\n",
       "            background-color:  lightyellow;\n",
       "            color:  #000000;\n",
       "            border-color:  red;\n",
       "            font-family:  Roboto;\n",
       "        }    #T_6ca4d4cc_41de_11ea_82c8_acde48001122row0_col106 {\n",
       "            background-color:  lightyellow;\n",
       "            color:  #000000;\n",
       "            border-color:  red;\n",
       "            font-family:  Roboto;\n",
       "        }    #T_6ca4d4cc_41de_11ea_82c8_acde48001122row0_col107 {\n",
       "            background-color:  lightyellow;\n",
       "            color:  #000000;\n",
       "            border-color:  red;\n",
       "            font-family:  Roboto;\n",
       "        }    #T_6ca4d4cc_41de_11ea_82c8_acde48001122row0_col108 {\n",
       "            background-color:  lightyellow;\n",
       "            color:  #000000;\n",
       "            border-color:  red;\n",
       "            font-family:  Roboto;\n",
       "        }    #T_6ca4d4cc_41de_11ea_82c8_acde48001122row0_col109 {\n",
       "            background-color:  lightyellow;\n",
       "            color:  #000000;\n",
       "            border-color:  red;\n",
       "            font-family:  Roboto;\n",
       "        }    #T_6ca4d4cc_41de_11ea_82c8_acde48001122row0_col110 {\n",
       "            background-color:  lightyellow;\n",
       "            color:  #000000;\n",
       "            border-color:  red;\n",
       "            font-family:  Roboto;\n",
       "        }    #T_6ca4d4cc_41de_11ea_82c8_acde48001122row0_col111 {\n",
       "            background-color:  lightyellow;\n",
       "            color:  #000000;\n",
       "            border-color:  red;\n",
       "            font-family:  Roboto;\n",
       "        }    #T_6ca4d4cc_41de_11ea_82c8_acde48001122row0_col112 {\n",
       "            background-color:  lightyellow;\n",
       "            color:  #000000;\n",
       "            border-color:  red;\n",
       "            font-family:  Roboto;\n",
       "        }    #T_6ca4d4cc_41de_11ea_82c8_acde48001122row0_col113 {\n",
       "            background-color:  lightyellow;\n",
       "            color:  #000000;\n",
       "            border-color:  red;\n",
       "            font-family:  Roboto;\n",
       "        }    #T_6ca4d4cc_41de_11ea_82c8_acde48001122row0_col114 {\n",
       "            background-color:  lightyellow;\n",
       "            color:  #000000;\n",
       "            border-color:  red;\n",
       "            font-family:  Roboto;\n",
       "        }    #T_6ca4d4cc_41de_11ea_82c8_acde48001122row0_col115 {\n",
       "            background-color:  lightyellow;\n",
       "            color:  #000000;\n",
       "            border-color:  red;\n",
       "            font-family:  Roboto;\n",
       "        }    #T_6ca4d4cc_41de_11ea_82c8_acde48001122row0_col116 {\n",
       "            background-color:  lightyellow;\n",
       "            color:  #000000;\n",
       "            border-color:  red;\n",
       "            font-family:  Roboto;\n",
       "        }    #T_6ca4d4cc_41de_11ea_82c8_acde48001122row0_col117 {\n",
       "            background-color:  lightyellow;\n",
       "            color:  #000000;\n",
       "            border-color:  red;\n",
       "            font-family:  Roboto;\n",
       "        }    #T_6ca4d4cc_41de_11ea_82c8_acde48001122row0_col118 {\n",
       "            background-color:  lightyellow;\n",
       "            color:  #000000;\n",
       "            border-color:  red;\n",
       "            font-family:  Roboto;\n",
       "        }    #T_6ca4d4cc_41de_11ea_82c8_acde48001122row0_col119 {\n",
       "            background-color:  lightyellow;\n",
       "            color:  #000000;\n",
       "            border-color:  red;\n",
       "            font-family:  Roboto;\n",
       "        }    #T_6ca4d4cc_41de_11ea_82c8_acde48001122row1_col0 {\n",
       "            background-color:  lightyellow;\n",
       "            color:  #000000;\n",
       "            border-color:  red;\n",
       "            font-family:  Roboto;\n",
       "        }    #T_6ca4d4cc_41de_11ea_82c8_acde48001122row1_col1 {\n",
       "            background-color:  lightyellow;\n",
       "            color:  #000000;\n",
       "            border-color:  red;\n",
       "            font-family:  Roboto;\n",
       "        }    #T_6ca4d4cc_41de_11ea_82c8_acde48001122row1_col2 {\n",
       "            background-color:  lightyellow;\n",
       "            color:  #000000;\n",
       "            border-color:  red;\n",
       "            font-family:  Roboto;\n",
       "        }    #T_6ca4d4cc_41de_11ea_82c8_acde48001122row1_col3 {\n",
       "            background-color:  lightyellow;\n",
       "            color:  #000000;\n",
       "            border-color:  red;\n",
       "            font-family:  Roboto;\n",
       "        }    #T_6ca4d4cc_41de_11ea_82c8_acde48001122row1_col4 {\n",
       "            background-color:  lightyellow;\n",
       "            color:  #000000;\n",
       "            border-color:  red;\n",
       "            font-family:  Roboto;\n",
       "        }    #T_6ca4d4cc_41de_11ea_82c8_acde48001122row1_col5 {\n",
       "            background-color:  lightyellow;\n",
       "            color:  #000000;\n",
       "            border-color:  red;\n",
       "            font-family:  Roboto;\n",
       "        }    #T_6ca4d4cc_41de_11ea_82c8_acde48001122row1_col6 {\n",
       "            background-color:  lightyellow;\n",
       "            color:  #000000;\n",
       "            border-color:  red;\n",
       "            font-family:  Roboto;\n",
       "        }    #T_6ca4d4cc_41de_11ea_82c8_acde48001122row1_col7 {\n",
       "            background-color:  lightyellow;\n",
       "            color:  #000000;\n",
       "            border-color:  red;\n",
       "            font-family:  Roboto;\n",
       "        }    #T_6ca4d4cc_41de_11ea_82c8_acde48001122row1_col8 {\n",
       "            background-color:  lightyellow;\n",
       "            color:  #000000;\n",
       "            border-color:  red;\n",
       "            font-family:  Roboto;\n",
       "        }    #T_6ca4d4cc_41de_11ea_82c8_acde48001122row1_col9 {\n",
       "            background-color:  lightyellow;\n",
       "            color:  #000000;\n",
       "            border-color:  red;\n",
       "            font-family:  Roboto;\n",
       "        }    #T_6ca4d4cc_41de_11ea_82c8_acde48001122row1_col10 {\n",
       "            background-color:  lightyellow;\n",
       "            color:  #000000;\n",
       "            border-color:  red;\n",
       "            font-family:  Roboto;\n",
       "        }    #T_6ca4d4cc_41de_11ea_82c8_acde48001122row1_col11 {\n",
       "            background-color:  lightyellow;\n",
       "            color:  #000000;\n",
       "            border-color:  red;\n",
       "            font-family:  Roboto;\n",
       "        }    #T_6ca4d4cc_41de_11ea_82c8_acde48001122row1_col12 {\n",
       "            background-color:  lightyellow;\n",
       "            color:  #000000;\n",
       "            border-color:  red;\n",
       "            font-family:  Roboto;\n",
       "        }    #T_6ca4d4cc_41de_11ea_82c8_acde48001122row1_col13 {\n",
       "            background-color:  lightyellow;\n",
       "            color:  #000000;\n",
       "            border-color:  red;\n",
       "            font-family:  Roboto;\n",
       "        }    #T_6ca4d4cc_41de_11ea_82c8_acde48001122row1_col14 {\n",
       "            background-color:  lightyellow;\n",
       "            color:  #000000;\n",
       "            border-color:  red;\n",
       "            font-family:  Roboto;\n",
       "        }    #T_6ca4d4cc_41de_11ea_82c8_acde48001122row1_col15 {\n",
       "            background-color:  lightyellow;\n",
       "            color:  #000000;\n",
       "            border-color:  red;\n",
       "            font-family:  Roboto;\n",
       "        }    #T_6ca4d4cc_41de_11ea_82c8_acde48001122row1_col16 {\n",
       "            background-color:  lightyellow;\n",
       "            color:  #000000;\n",
       "            border-color:  red;\n",
       "            font-family:  Roboto;\n",
       "        }    #T_6ca4d4cc_41de_11ea_82c8_acde48001122row1_col17 {\n",
       "            background-color:  lightyellow;\n",
       "            color:  #000000;\n",
       "            border-color:  red;\n",
       "            font-family:  Roboto;\n",
       "        }    #T_6ca4d4cc_41de_11ea_82c8_acde48001122row1_col18 {\n",
       "            background-color:  lightyellow;\n",
       "            color:  #000000;\n",
       "            border-color:  red;\n",
       "            font-family:  Roboto;\n",
       "        }    #T_6ca4d4cc_41de_11ea_82c8_acde48001122row1_col19 {\n",
       "            background-color:  lightyellow;\n",
       "            color:  #000000;\n",
       "            border-color:  red;\n",
       "            font-family:  Roboto;\n",
       "        }    #T_6ca4d4cc_41de_11ea_82c8_acde48001122row1_col20 {\n",
       "            background-color:  lightyellow;\n",
       "            color:  #000000;\n",
       "            border-color:  red;\n",
       "            font-family:  Roboto;\n",
       "        }    #T_6ca4d4cc_41de_11ea_82c8_acde48001122row1_col21 {\n",
       "            background-color:  lightyellow;\n",
       "            color:  #000000;\n",
       "            border-color:  red;\n",
       "            font-family:  Roboto;\n",
       "        }    #T_6ca4d4cc_41de_11ea_82c8_acde48001122row1_col22 {\n",
       "            background-color:  lightyellow;\n",
       "            color:  #000000;\n",
       "            border-color:  red;\n",
       "            font-family:  Roboto;\n",
       "        }    #T_6ca4d4cc_41de_11ea_82c8_acde48001122row1_col23 {\n",
       "            background-color:  lightyellow;\n",
       "            color:  #000000;\n",
       "            border-color:  red;\n",
       "            font-family:  Roboto;\n",
       "        }    #T_6ca4d4cc_41de_11ea_82c8_acde48001122row1_col24 {\n",
       "            background-color:  lightyellow;\n",
       "            color:  #000000;\n",
       "            border-color:  red;\n",
       "            font-family:  Roboto;\n",
       "        }    #T_6ca4d4cc_41de_11ea_82c8_acde48001122row1_col25 {\n",
       "            background-color:  lightyellow;\n",
       "            color:  #000000;\n",
       "            border-color:  red;\n",
       "            font-family:  Roboto;\n",
       "        }    #T_6ca4d4cc_41de_11ea_82c8_acde48001122row1_col26 {\n",
       "            background-color:  lightyellow;\n",
       "            color:  #000000;\n",
       "            border-color:  red;\n",
       "            font-family:  Roboto;\n",
       "        }    #T_6ca4d4cc_41de_11ea_82c8_acde48001122row1_col27 {\n",
       "            background-color:  lightyellow;\n",
       "            color:  #000000;\n",
       "            border-color:  red;\n",
       "            font-family:  Roboto;\n",
       "        }    #T_6ca4d4cc_41de_11ea_82c8_acde48001122row1_col28 {\n",
       "            background-color:  lightyellow;\n",
       "            color:  #000000;\n",
       "            border-color:  red;\n",
       "            font-family:  Roboto;\n",
       "        }    #T_6ca4d4cc_41de_11ea_82c8_acde48001122row1_col29 {\n",
       "            background-color:  lightyellow;\n",
       "            color:  #000000;\n",
       "            border-color:  red;\n",
       "            font-family:  Roboto;\n",
       "        }    #T_6ca4d4cc_41de_11ea_82c8_acde48001122row1_col30 {\n",
       "            background-color:  lightyellow;\n",
       "            color:  #000000;\n",
       "            border-color:  red;\n",
       "            font-family:  Roboto;\n",
       "        }    #T_6ca4d4cc_41de_11ea_82c8_acde48001122row1_col31 {\n",
       "            background-color:  lightyellow;\n",
       "            color:  #000000;\n",
       "            border-color:  red;\n",
       "            font-family:  Roboto;\n",
       "        }    #T_6ca4d4cc_41de_11ea_82c8_acde48001122row1_col32 {\n",
       "            background-color:  lightyellow;\n",
       "            color:  #000000;\n",
       "            border-color:  red;\n",
       "            font-family:  Roboto;\n",
       "        }    #T_6ca4d4cc_41de_11ea_82c8_acde48001122row1_col33 {\n",
       "            background-color:  lightyellow;\n",
       "            color:  #000000;\n",
       "            border-color:  red;\n",
       "            font-family:  Roboto;\n",
       "        }    #T_6ca4d4cc_41de_11ea_82c8_acde48001122row1_col34 {\n",
       "            background-color:  lightyellow;\n",
       "            color:  #000000;\n",
       "            border-color:  red;\n",
       "            font-family:  Roboto;\n",
       "        }    #T_6ca4d4cc_41de_11ea_82c8_acde48001122row1_col35 {\n",
       "            background-color:  lightyellow;\n",
       "            color:  #000000;\n",
       "            border-color:  red;\n",
       "            font-family:  Roboto;\n",
       "        }    #T_6ca4d4cc_41de_11ea_82c8_acde48001122row1_col36 {\n",
       "            background-color:  lightyellow;\n",
       "            color:  #000000;\n",
       "            border-color:  red;\n",
       "            font-family:  Roboto;\n",
       "        }    #T_6ca4d4cc_41de_11ea_82c8_acde48001122row1_col37 {\n",
       "            background-color:  lightyellow;\n",
       "            color:  #000000;\n",
       "            border-color:  red;\n",
       "            font-family:  Roboto;\n",
       "        }    #T_6ca4d4cc_41de_11ea_82c8_acde48001122row1_col38 {\n",
       "            background-color:  lightyellow;\n",
       "            color:  #000000;\n",
       "            border-color:  red;\n",
       "            font-family:  Roboto;\n",
       "        }    #T_6ca4d4cc_41de_11ea_82c8_acde48001122row1_col39 {\n",
       "            background-color:  lightyellow;\n",
       "            color:  #000000;\n",
       "            border-color:  red;\n",
       "            font-family:  Roboto;\n",
       "        }    #T_6ca4d4cc_41de_11ea_82c8_acde48001122row1_col40 {\n",
       "            background-color:  lightyellow;\n",
       "            color:  #000000;\n",
       "            border-color:  red;\n",
       "            font-family:  Roboto;\n",
       "        }    #T_6ca4d4cc_41de_11ea_82c8_acde48001122row1_col41 {\n",
       "            background-color:  lightyellow;\n",
       "            color:  #000000;\n",
       "            border-color:  red;\n",
       "            font-family:  Roboto;\n",
       "        }    #T_6ca4d4cc_41de_11ea_82c8_acde48001122row1_col42 {\n",
       "            background-color:  lightyellow;\n",
       "            color:  #000000;\n",
       "            border-color:  red;\n",
       "            font-family:  Roboto;\n",
       "        }    #T_6ca4d4cc_41de_11ea_82c8_acde48001122row1_col43 {\n",
       "            background-color:  lightyellow;\n",
       "            color:  #000000;\n",
       "            border-color:  red;\n",
       "            font-family:  Roboto;\n",
       "        }    #T_6ca4d4cc_41de_11ea_82c8_acde48001122row1_col44 {\n",
       "            background-color:  lightyellow;\n",
       "            color:  #000000;\n",
       "            border-color:  red;\n",
       "            font-family:  Roboto;\n",
       "        }    #T_6ca4d4cc_41de_11ea_82c8_acde48001122row1_col45 {\n",
       "            background-color:  lightyellow;\n",
       "            color:  #000000;\n",
       "            border-color:  red;\n",
       "            font-family:  Roboto;\n",
       "        }    #T_6ca4d4cc_41de_11ea_82c8_acde48001122row1_col46 {\n",
       "            background-color:  lightyellow;\n",
       "            color:  #000000;\n",
       "            border-color:  red;\n",
       "            font-family:  Roboto;\n",
       "        }    #T_6ca4d4cc_41de_11ea_82c8_acde48001122row1_col47 {\n",
       "            background-color:  lightyellow;\n",
       "            color:  #000000;\n",
       "            border-color:  red;\n",
       "            font-family:  Roboto;\n",
       "        }    #T_6ca4d4cc_41de_11ea_82c8_acde48001122row1_col48 {\n",
       "            background-color:  lightyellow;\n",
       "            color:  #000000;\n",
       "            border-color:  red;\n",
       "            font-family:  Roboto;\n",
       "        }    #T_6ca4d4cc_41de_11ea_82c8_acde48001122row1_col49 {\n",
       "            background-color:  lightyellow;\n",
       "            color:  #000000;\n",
       "            border-color:  red;\n",
       "            font-family:  Roboto;\n",
       "        }    #T_6ca4d4cc_41de_11ea_82c8_acde48001122row1_col50 {\n",
       "            background-color:  lightyellow;\n",
       "            color:  #000000;\n",
       "            border-color:  red;\n",
       "            font-family:  Roboto;\n",
       "        }    #T_6ca4d4cc_41de_11ea_82c8_acde48001122row1_col51 {\n",
       "            background-color:  lightyellow;\n",
       "            color:  #000000;\n",
       "            border-color:  red;\n",
       "            font-family:  Roboto;\n",
       "        }    #T_6ca4d4cc_41de_11ea_82c8_acde48001122row1_col52 {\n",
       "            background-color:  lightyellow;\n",
       "            color:  #000000;\n",
       "            border-color:  red;\n",
       "            font-family:  Roboto;\n",
       "        }    #T_6ca4d4cc_41de_11ea_82c8_acde48001122row1_col53 {\n",
       "            background-color:  lightyellow;\n",
       "            color:  #000000;\n",
       "            border-color:  red;\n",
       "            font-family:  Roboto;\n",
       "        }    #T_6ca4d4cc_41de_11ea_82c8_acde48001122row1_col54 {\n",
       "            background-color:  lightyellow;\n",
       "            color:  #000000;\n",
       "            border-color:  red;\n",
       "            font-family:  Roboto;\n",
       "        }    #T_6ca4d4cc_41de_11ea_82c8_acde48001122row1_col55 {\n",
       "            background-color:  lightyellow;\n",
       "            color:  #000000;\n",
       "            border-color:  red;\n",
       "            font-family:  Roboto;\n",
       "        }    #T_6ca4d4cc_41de_11ea_82c8_acde48001122row1_col56 {\n",
       "            background-color:  lightyellow;\n",
       "            color:  #000000;\n",
       "            border-color:  red;\n",
       "            font-family:  Roboto;\n",
       "        }    #T_6ca4d4cc_41de_11ea_82c8_acde48001122row1_col57 {\n",
       "            background-color:  lightyellow;\n",
       "            color:  #000000;\n",
       "            border-color:  red;\n",
       "            font-family:  Roboto;\n",
       "        }    #T_6ca4d4cc_41de_11ea_82c8_acde48001122row1_col58 {\n",
       "            background-color:  lightyellow;\n",
       "            color:  #000000;\n",
       "            border-color:  red;\n",
       "            font-family:  Roboto;\n",
       "        }    #T_6ca4d4cc_41de_11ea_82c8_acde48001122row1_col59 {\n",
       "            background-color:  lightyellow;\n",
       "            color:  #000000;\n",
       "            border-color:  red;\n",
       "            font-family:  Roboto;\n",
       "        }    #T_6ca4d4cc_41de_11ea_82c8_acde48001122row1_col60 {\n",
       "            background-color:  lightyellow;\n",
       "            color:  #000000;\n",
       "            border-color:  red;\n",
       "            font-family:  Roboto;\n",
       "        }    #T_6ca4d4cc_41de_11ea_82c8_acde48001122row1_col61 {\n",
       "            background-color:  lightyellow;\n",
       "            color:  #000000;\n",
       "            border-color:  red;\n",
       "            font-family:  Roboto;\n",
       "        }    #T_6ca4d4cc_41de_11ea_82c8_acde48001122row1_col62 {\n",
       "            background-color:  lightyellow;\n",
       "            color:  #000000;\n",
       "            border-color:  red;\n",
       "            font-family:  Roboto;\n",
       "        }    #T_6ca4d4cc_41de_11ea_82c8_acde48001122row1_col63 {\n",
       "            background-color:  lightyellow;\n",
       "            color:  #000000;\n",
       "            border-color:  red;\n",
       "            font-family:  Roboto;\n",
       "        }    #T_6ca4d4cc_41de_11ea_82c8_acde48001122row1_col64 {\n",
       "            background-color:  lightyellow;\n",
       "            color:  #000000;\n",
       "            border-color:  red;\n",
       "            font-family:  Roboto;\n",
       "        }    #T_6ca4d4cc_41de_11ea_82c8_acde48001122row1_col65 {\n",
       "            background-color:  lightyellow;\n",
       "            color:  #000000;\n",
       "            border-color:  red;\n",
       "            font-family:  Roboto;\n",
       "        }    #T_6ca4d4cc_41de_11ea_82c8_acde48001122row1_col66 {\n",
       "            background-color:  lightyellow;\n",
       "            color:  #000000;\n",
       "            border-color:  red;\n",
       "            font-family:  Roboto;\n",
       "        }    #T_6ca4d4cc_41de_11ea_82c8_acde48001122row1_col67 {\n",
       "            background-color:  lightyellow;\n",
       "            color:  #000000;\n",
       "            border-color:  red;\n",
       "            font-family:  Roboto;\n",
       "        }    #T_6ca4d4cc_41de_11ea_82c8_acde48001122row1_col68 {\n",
       "            background-color:  lightyellow;\n",
       "            color:  #000000;\n",
       "            border-color:  red;\n",
       "            font-family:  Roboto;\n",
       "        }    #T_6ca4d4cc_41de_11ea_82c8_acde48001122row1_col69 {\n",
       "            background-color:  lightyellow;\n",
       "            color:  #000000;\n",
       "            border-color:  red;\n",
       "            font-family:  Roboto;\n",
       "        }    #T_6ca4d4cc_41de_11ea_82c8_acde48001122row1_col70 {\n",
       "            background-color:  lightyellow;\n",
       "            color:  #000000;\n",
       "            border-color:  red;\n",
       "            font-family:  Roboto;\n",
       "        }    #T_6ca4d4cc_41de_11ea_82c8_acde48001122row1_col71 {\n",
       "            background-color:  lightyellow;\n",
       "            color:  #000000;\n",
       "            border-color:  red;\n",
       "            font-family:  Roboto;\n",
       "        }    #T_6ca4d4cc_41de_11ea_82c8_acde48001122row1_col72 {\n",
       "            background-color:  lightyellow;\n",
       "            color:  #000000;\n",
       "            border-color:  red;\n",
       "            font-family:  Roboto;\n",
       "        }    #T_6ca4d4cc_41de_11ea_82c8_acde48001122row1_col73 {\n",
       "            background-color:  lightyellow;\n",
       "            color:  #000000;\n",
       "            border-color:  red;\n",
       "            font-family:  Roboto;\n",
       "        }    #T_6ca4d4cc_41de_11ea_82c8_acde48001122row1_col74 {\n",
       "            background-color:  lightyellow;\n",
       "            color:  #000000;\n",
       "            border-color:  red;\n",
       "            font-family:  Roboto;\n",
       "        }    #T_6ca4d4cc_41de_11ea_82c8_acde48001122row1_col75 {\n",
       "            background-color:  lightyellow;\n",
       "            color:  #000000;\n",
       "            border-color:  red;\n",
       "            font-family:  Roboto;\n",
       "        }    #T_6ca4d4cc_41de_11ea_82c8_acde48001122row1_col76 {\n",
       "            background-color:  lightyellow;\n",
       "            color:  #000000;\n",
       "            border-color:  red;\n",
       "            font-family:  Roboto;\n",
       "        }    #T_6ca4d4cc_41de_11ea_82c8_acde48001122row1_col77 {\n",
       "            background-color:  lightyellow;\n",
       "            color:  #000000;\n",
       "            border-color:  red;\n",
       "            font-family:  Roboto;\n",
       "        }    #T_6ca4d4cc_41de_11ea_82c8_acde48001122row1_col78 {\n",
       "            background-color:  lightyellow;\n",
       "            color:  #000000;\n",
       "            border-color:  red;\n",
       "            font-family:  Roboto;\n",
       "        }    #T_6ca4d4cc_41de_11ea_82c8_acde48001122row1_col79 {\n",
       "            background-color:  lightyellow;\n",
       "            color:  #000000;\n",
       "            border-color:  red;\n",
       "            font-family:  Roboto;\n",
       "        }    #T_6ca4d4cc_41de_11ea_82c8_acde48001122row1_col80 {\n",
       "            background-color:  lightyellow;\n",
       "            color:  #000000;\n",
       "            border-color:  red;\n",
       "            font-family:  Roboto;\n",
       "        }    #T_6ca4d4cc_41de_11ea_82c8_acde48001122row1_col81 {\n",
       "            background-color:  lightyellow;\n",
       "            color:  #000000;\n",
       "            border-color:  red;\n",
       "            font-family:  Roboto;\n",
       "        }    #T_6ca4d4cc_41de_11ea_82c8_acde48001122row1_col82 {\n",
       "            background-color:  lightyellow;\n",
       "            color:  #000000;\n",
       "            border-color:  red;\n",
       "            font-family:  Roboto;\n",
       "        }    #T_6ca4d4cc_41de_11ea_82c8_acde48001122row1_col83 {\n",
       "            background-color:  lightyellow;\n",
       "            color:  #000000;\n",
       "            border-color:  red;\n",
       "            font-family:  Roboto;\n",
       "        }    #T_6ca4d4cc_41de_11ea_82c8_acde48001122row1_col84 {\n",
       "            background-color:  lightyellow;\n",
       "            color:  #000000;\n",
       "            border-color:  red;\n",
       "            font-family:  Roboto;\n",
       "        }    #T_6ca4d4cc_41de_11ea_82c8_acde48001122row1_col85 {\n",
       "            background-color:  lightyellow;\n",
       "            color:  #000000;\n",
       "            border-color:  red;\n",
       "            font-family:  Roboto;\n",
       "        }    #T_6ca4d4cc_41de_11ea_82c8_acde48001122row1_col86 {\n",
       "            background-color:  lightyellow;\n",
       "            color:  #000000;\n",
       "            border-color:  red;\n",
       "            font-family:  Roboto;\n",
       "        }    #T_6ca4d4cc_41de_11ea_82c8_acde48001122row1_col87 {\n",
       "            background-color:  lightyellow;\n",
       "            color:  #000000;\n",
       "            border-color:  red;\n",
       "            font-family:  Roboto;\n",
       "        }    #T_6ca4d4cc_41de_11ea_82c8_acde48001122row1_col88 {\n",
       "            background-color:  lightyellow;\n",
       "            color:  #000000;\n",
       "            border-color:  red;\n",
       "            font-family:  Roboto;\n",
       "        }    #T_6ca4d4cc_41de_11ea_82c8_acde48001122row1_col89 {\n",
       "            background-color:  lightyellow;\n",
       "            color:  #000000;\n",
       "            border-color:  red;\n",
       "            font-family:  Roboto;\n",
       "        }    #T_6ca4d4cc_41de_11ea_82c8_acde48001122row1_col90 {\n",
       "            background-color:  lightyellow;\n",
       "            color:  #000000;\n",
       "            border-color:  red;\n",
       "            font-family:  Roboto;\n",
       "        }    #T_6ca4d4cc_41de_11ea_82c8_acde48001122row1_col91 {\n",
       "            background-color:  lightyellow;\n",
       "            color:  #000000;\n",
       "            border-color:  red;\n",
       "            font-family:  Roboto;\n",
       "        }    #T_6ca4d4cc_41de_11ea_82c8_acde48001122row1_col92 {\n",
       "            background-color:  lightyellow;\n",
       "            color:  #000000;\n",
       "            border-color:  red;\n",
       "            font-family:  Roboto;\n",
       "        }    #T_6ca4d4cc_41de_11ea_82c8_acde48001122row1_col93 {\n",
       "            background-color:  lightyellow;\n",
       "            color:  #000000;\n",
       "            border-color:  red;\n",
       "            font-family:  Roboto;\n",
       "        }    #T_6ca4d4cc_41de_11ea_82c8_acde48001122row1_col94 {\n",
       "            background-color:  lightyellow;\n",
       "            color:  #000000;\n",
       "            border-color:  red;\n",
       "            font-family:  Roboto;\n",
       "        }    #T_6ca4d4cc_41de_11ea_82c8_acde48001122row1_col95 {\n",
       "            background-color:  lightyellow;\n",
       "            color:  #000000;\n",
       "            border-color:  red;\n",
       "            font-family:  Roboto;\n",
       "        }    #T_6ca4d4cc_41de_11ea_82c8_acde48001122row1_col96 {\n",
       "            background-color:  lightyellow;\n",
       "            color:  #000000;\n",
       "            border-color:  red;\n",
       "            font-family:  Roboto;\n",
       "        }    #T_6ca4d4cc_41de_11ea_82c8_acde48001122row1_col97 {\n",
       "            background-color:  lightyellow;\n",
       "            color:  #000000;\n",
       "            border-color:  red;\n",
       "            font-family:  Roboto;\n",
       "        }    #T_6ca4d4cc_41de_11ea_82c8_acde48001122row1_col98 {\n",
       "            background-color:  lightyellow;\n",
       "            color:  #000000;\n",
       "            border-color:  red;\n",
       "            font-family:  Roboto;\n",
       "        }    #T_6ca4d4cc_41de_11ea_82c8_acde48001122row1_col99 {\n",
       "            background-color:  lightyellow;\n",
       "            color:  #000000;\n",
       "            border-color:  red;\n",
       "            font-family:  Roboto;\n",
       "        }    #T_6ca4d4cc_41de_11ea_82c8_acde48001122row1_col100 {\n",
       "            background-color:  lightyellow;\n",
       "            color:  #000000;\n",
       "            border-color:  red;\n",
       "            font-family:  Roboto;\n",
       "        }    #T_6ca4d4cc_41de_11ea_82c8_acde48001122row1_col101 {\n",
       "            background-color:  lightyellow;\n",
       "            color:  #000000;\n",
       "            border-color:  red;\n",
       "            font-family:  Roboto;\n",
       "        }    #T_6ca4d4cc_41de_11ea_82c8_acde48001122row1_col102 {\n",
       "            background-color:  lightyellow;\n",
       "            color:  #000000;\n",
       "            border-color:  red;\n",
       "            font-family:  Roboto;\n",
       "        }    #T_6ca4d4cc_41de_11ea_82c8_acde48001122row1_col103 {\n",
       "            background-color:  lightyellow;\n",
       "            color:  #000000;\n",
       "            border-color:  red;\n",
       "            font-family:  Roboto;\n",
       "        }    #T_6ca4d4cc_41de_11ea_82c8_acde48001122row1_col104 {\n",
       "            background-color:  lightyellow;\n",
       "            color:  #000000;\n",
       "            border-color:  red;\n",
       "            font-family:  Roboto;\n",
       "        }    #T_6ca4d4cc_41de_11ea_82c8_acde48001122row1_col105 {\n",
       "            background-color:  lightyellow;\n",
       "            color:  #000000;\n",
       "            border-color:  red;\n",
       "            font-family:  Roboto;\n",
       "        }    #T_6ca4d4cc_41de_11ea_82c8_acde48001122row1_col106 {\n",
       "            background-color:  lightyellow;\n",
       "            color:  #000000;\n",
       "            border-color:  red;\n",
       "            font-family:  Roboto;\n",
       "        }    #T_6ca4d4cc_41de_11ea_82c8_acde48001122row1_col107 {\n",
       "            background-color:  lightyellow;\n",
       "            color:  #000000;\n",
       "            border-color:  red;\n",
       "            font-family:  Roboto;\n",
       "        }    #T_6ca4d4cc_41de_11ea_82c8_acde48001122row1_col108 {\n",
       "            background-color:  lightyellow;\n",
       "            color:  #000000;\n",
       "            border-color:  red;\n",
       "            font-family:  Roboto;\n",
       "        }    #T_6ca4d4cc_41de_11ea_82c8_acde48001122row1_col109 {\n",
       "            background-color:  lightyellow;\n",
       "            color:  #000000;\n",
       "            border-color:  red;\n",
       "            font-family:  Roboto;\n",
       "        }    #T_6ca4d4cc_41de_11ea_82c8_acde48001122row1_col110 {\n",
       "            background-color:  lightyellow;\n",
       "            color:  #000000;\n",
       "            border-color:  red;\n",
       "            font-family:  Roboto;\n",
       "        }    #T_6ca4d4cc_41de_11ea_82c8_acde48001122row1_col111 {\n",
       "            background-color:  lightyellow;\n",
       "            color:  #000000;\n",
       "            border-color:  red;\n",
       "            font-family:  Roboto;\n",
       "        }    #T_6ca4d4cc_41de_11ea_82c8_acde48001122row1_col112 {\n",
       "            background-color:  lightyellow;\n",
       "            color:  #000000;\n",
       "            border-color:  red;\n",
       "            font-family:  Roboto;\n",
       "        }    #T_6ca4d4cc_41de_11ea_82c8_acde48001122row1_col113 {\n",
       "            background-color:  lightyellow;\n",
       "            color:  #000000;\n",
       "            border-color:  red;\n",
       "            font-family:  Roboto;\n",
       "        }    #T_6ca4d4cc_41de_11ea_82c8_acde48001122row1_col114 {\n",
       "            background-color:  lightyellow;\n",
       "            color:  #000000;\n",
       "            border-color:  red;\n",
       "            font-family:  Roboto;\n",
       "        }    #T_6ca4d4cc_41de_11ea_82c8_acde48001122row1_col115 {\n",
       "            background-color:  lightyellow;\n",
       "            color:  #000000;\n",
       "            border-color:  red;\n",
       "            font-family:  Roboto;\n",
       "        }    #T_6ca4d4cc_41de_11ea_82c8_acde48001122row1_col116 {\n",
       "            background-color:  lightyellow;\n",
       "            color:  #000000;\n",
       "            border-color:  red;\n",
       "            font-family:  Roboto;\n",
       "        }    #T_6ca4d4cc_41de_11ea_82c8_acde48001122row1_col117 {\n",
       "            background-color:  lightyellow;\n",
       "            color:  #000000;\n",
       "            border-color:  red;\n",
       "            font-family:  Roboto;\n",
       "        }    #T_6ca4d4cc_41de_11ea_82c8_acde48001122row1_col118 {\n",
       "            background-color:  lightyellow;\n",
       "            color:  #000000;\n",
       "            border-color:  red;\n",
       "            font-family:  Roboto;\n",
       "        }    #T_6ca4d4cc_41de_11ea_82c8_acde48001122row1_col119 {\n",
       "            background-color:  lightyellow;\n",
       "            color:  #000000;\n",
       "            border-color:  red;\n",
       "            font-family:  Roboto;\n",
       "        }</style><table id=\"T_6ca4d4cc_41de_11ea_82c8_acde48001122\" ><thead>    <tr>        <th class=\"blank level0\" ></th>        <th class=\"col_heading level0 col0\" >What Country do you live in?</th>        <th class=\"col_heading level0 col1\" >Unnamed: 1</th>        <th class=\"col_heading level0 col2\" >Which US State or Territory do you live in?</th>        <th class=\"col_heading level0 col3\" >How old are you?</th>        <th class=\"col_heading level0 col4\" >What is your gender?</th>        <th class=\"col_heading level0 col5\" >How many years of IT/Programming experience do you have?</th>        <th class=\"col_heading level0 col6\" >Which of the following best describes your occupation?</th>        <th class=\"col_heading level0 col7\" >Including bonus, what is your annual compensation in USD?</th>        <th class=\"col_heading level0 col8\" >How would you best describe the industry you currently work in?</th>        <th class=\"col_heading level0 col9\" >How many developers are employed at your company?</th>        <th class=\"col_heading level0 col10\" >Do you work remotely?</th>        <th class=\"col_heading level0 col11\" >Do you enjoy working remotely?</th>        <th class=\"col_heading level0 col12\" >Where do you work remotely most of the time?</th>        <th class=\"col_heading level0 col13\" >If your company has a native mobile app, what platforms do you support?</th>        <th class=\"col_heading level0 col14\" >Unnamed: 14</th>        <th class=\"col_heading level0 col15\" >Unnamed: 15</th>        <th class=\"col_heading level0 col16\" >Unnamed: 16</th>        <th class=\"col_heading level0 col17\" >Unnamed: 17</th>        <th class=\"col_heading level0 col18\" >Unnamed: 18</th>        <th class=\"col_heading level0 col19\" >Unnamed: 19</th>        <th class=\"col_heading level0 col20\" >In an average week, how do you spend your time at work?</th>        <th class=\"col_heading level0 col21\" >Unnamed: 21</th>        <th class=\"col_heading level0 col22\" >Unnamed: 22</th>        <th class=\"col_heading level0 col23\" >Unnamed: 23</th>        <th class=\"col_heading level0 col24\" >Unnamed: 24</th>        <th class=\"col_heading level0 col25\" >Unnamed: 25</th>        <th class=\"col_heading level0 col26\" >Unnamed: 26</th>        <th class=\"col_heading level0 col27\" >Unnamed: 27</th>        <th class=\"col_heading level0 col28\" >Unnamed: 28</th>        <th class=\"col_heading level0 col29\" >What is your involvement in purchasing products or services for the company you work for? (You can choose more than one)</th>        <th class=\"col_heading level0 col30\" >Unnamed: 30</th>        <th class=\"col_heading level0 col31\" >Unnamed: 31</th>        <th class=\"col_heading level0 col32\" >Unnamed: 32</th>        <th class=\"col_heading level0 col33\" >Unnamed: 33</th>        <th class=\"col_heading level0 col34\" >What types of purchases are you involved in?</th>        <th class=\"col_heading level0 col35\" >Unnamed: 35</th>        <th class=\"col_heading level0 col36\" >Unnamed: 36</th>        <th class=\"col_heading level0 col37\" >Unnamed: 37</th>        <th class=\"col_heading level0 col38\" >Unnamed: 38</th>        <th class=\"col_heading level0 col39\" >Unnamed: 39</th>        <th class=\"col_heading level0 col40\" >Unnamed: 40</th>        <th class=\"col_heading level0 col41\" >What is your budget for outside expenditures (hardware, software, consulting, etc) for 2014?</th>        <th class=\"col_heading level0 col42\" >Which of the following languages or technologies have you used significantly in the past year?</th>        <th class=\"col_heading level0 col43\" >Unnamed: 43</th>        <th class=\"col_heading level0 col44\" >Unnamed: 44</th>        <th class=\"col_heading level0 col45\" >Unnamed: 45</th>        <th class=\"col_heading level0 col46\" >Unnamed: 46</th>        <th class=\"col_heading level0 col47\" >Unnamed: 47</th>        <th class=\"col_heading level0 col48\" >Unnamed: 48</th>        <th class=\"col_heading level0 col49\" >Unnamed: 49</th>        <th class=\"col_heading level0 col50\" >Unnamed: 50</th>        <th class=\"col_heading level0 col51\" >Unnamed: 51</th>        <th class=\"col_heading level0 col52\" >Unnamed: 52</th>        <th class=\"col_heading level0 col53\" >Unnamed: 53</th>        <th class=\"col_heading level0 col54\" >Which technologies are you excited about?</th>        <th class=\"col_heading level0 col55\" >Unnamed: 55</th>        <th class=\"col_heading level0 col56\" >Unnamed: 56</th>        <th class=\"col_heading level0 col57\" >Unnamed: 57</th>        <th class=\"col_heading level0 col58\" >Unnamed: 58</th>        <th class=\"col_heading level0 col59\" >Unnamed: 59</th>        <th class=\"col_heading level0 col60\" >Unnamed: 60</th>        <th class=\"col_heading level0 col61\" >Unnamed: 61</th>        <th class=\"col_heading level0 col62\" >Unnamed: 62</th>        <th class=\"col_heading level0 col63\" >Unnamed: 63</th>        <th class=\"col_heading level0 col64\" >Unnamed: 64</th>        <th class=\"col_heading level0 col65\" >Unnamed: 65</th>        <th class=\"col_heading level0 col66\" >Unnamed: 66</th>        <th class=\"col_heading level0 col67\" >Which desktop operating system do you use the most?</th>        <th class=\"col_heading level0 col68\" >Which technology products do you own? (You can choose more than one)</th>        <th class=\"col_heading level0 col69\" >Unnamed: 69</th>        <th class=\"col_heading level0 col70\" >Unnamed: 70</th>        <th class=\"col_heading level0 col71\" >Unnamed: 71</th>        <th class=\"col_heading level0 col72\" >Unnamed: 72</th>        <th class=\"col_heading level0 col73\" >Unnamed: 73</th>        <th class=\"col_heading level0 col74\" >Unnamed: 74</th>        <th class=\"col_heading level0 col75\" >Unnamed: 75</th>        <th class=\"col_heading level0 col76\" >Unnamed: 76</th>        <th class=\"col_heading level0 col77\" >Unnamed: 77</th>        <th class=\"col_heading level0 col78\" >Unnamed: 78</th>        <th class=\"col_heading level0 col79\" >Unnamed: 79</th>        <th class=\"col_heading level0 col80\" >Unnamed: 80</th>        <th class=\"col_heading level0 col81\" >Unnamed: 81</th>        <th class=\"col_heading level0 col82\" >Have you changed jobs in the last 12 months?</th>        <th class=\"col_heading level0 col83\" >How did you find out about your current job?</th>        <th class=\"col_heading level0 col84\" >Unnamed: 84</th>        <th class=\"col_heading level0 col85\" >Are you currently looking for a job or open to new opportunities?</th>        <th class=\"col_heading level0 col86\" >How often are you contacted by recruiters?</th>        <th class=\"col_heading level0 col87\" >How do you prefer to be contacted about job opportunities?</th>        <th class=\"col_heading level0 col88\" >Unnamed: 88</th>        <th class=\"col_heading level0 col89\" >Unnamed: 89</th>        <th class=\"col_heading level0 col90\" >Unnamed: 90</th>        <th class=\"col_heading level0 col91\" >Unnamed: 91</th>        <th class=\"col_heading level0 col92\" >In receiving an email about a job opportunity, what attributes of the message would make you more likely to respond?</th>        <th class=\"col_heading level0 col93\" >Unnamed: 93</th>        <th class=\"col_heading level0 col94\" >Unnamed: 94</th>        <th class=\"col_heading level0 col95\" >Unnamed: 95</th>        <th class=\"col_heading level0 col96\" >Unnamed: 96</th>        <th class=\"col_heading level0 col97\" >Unnamed: 97</th>        <th class=\"col_heading level0 col98\" >Unnamed: 98</th>        <th class=\"col_heading level0 col99\" >How often do you visit job boards?</th>        <th class=\"col_heading level0 col100\" >Have you visited / Are you aware of Stack Overflow Careers 2.0?</th>        <th class=\"col_heading level0 col101\" >Do you have a Stack Overflow Careers 2.0 Profile?</th>        <th class=\"col_heading level0 col102\" >Please rate the advertising you've seen on Stack Overflow</th>        <th class=\"col_heading level0 col103\" >Unnamed: 103</th>        <th class=\"col_heading level0 col104\" >Unnamed: 104</th>        <th class=\"col_heading level0 col105\" >Unnamed: 105</th>        <th class=\"col_heading level0 col106\" >Unnamed: 106</th>        <th class=\"col_heading level0 col107\" >Unnamed: 107</th>        <th class=\"col_heading level0 col108\" >Unnamed: 108</th>        <th class=\"col_heading level0 col109\" >Were you aware of the Apptivate contest?</th>        <th class=\"col_heading level0 col110\" >Did you participate in the Apptivate contest?</th>        <th class=\"col_heading level0 col111\" >What advertisers do you remember seeing on Stack Overflow?</th>        <th class=\"col_heading level0 col112\" >What is your current Stack Overflow reputation?</th>        <th class=\"col_heading level0 col113\" >How do you use Stack Overflow?</th>        <th class=\"col_heading level0 col114\" >Unnamed: 114</th>        <th class=\"col_heading level0 col115\" >Unnamed: 115</th>        <th class=\"col_heading level0 col116\" >Unnamed: 116</th>        <th class=\"col_heading level0 col117\" >Unnamed: 117</th>        <th class=\"col_heading level0 col118\" >Unnamed: 118</th>        <th class=\"col_heading level0 col119\" >How often do you find solutions to your programming problems on Stack Overflow without asking a new question?</th>    </tr></thead><tbody>\n",
       "                <tr>\n",
       "                        <th id=\"T_6ca4d4cc_41de_11ea_82c8_acde48001122level0_row0\" class=\"row_heading level0 row0\" >0</th>\n",
       "                        <td id=\"T_6ca4d4cc_41de_11ea_82c8_acde48001122row0_col0\" class=\"data row0 col0\" >Response</td>\n",
       "                        <td id=\"T_6ca4d4cc_41de_11ea_82c8_acde48001122row0_col1\" class=\"data row0 col1\" >Other (please specify)</td>\n",
       "                        <td id=\"T_6ca4d4cc_41de_11ea_82c8_acde48001122row0_col2\" class=\"data row0 col2\" >Response</td>\n",
       "                        <td id=\"T_6ca4d4cc_41de_11ea_82c8_acde48001122row0_col3\" class=\"data row0 col3\" >Response</td>\n",
       "                        <td id=\"T_6ca4d4cc_41de_11ea_82c8_acde48001122row0_col4\" class=\"data row0 col4\" >Response</td>\n",
       "                        <td id=\"T_6ca4d4cc_41de_11ea_82c8_acde48001122row0_col5\" class=\"data row0 col5\" >Response</td>\n",
       "                        <td id=\"T_6ca4d4cc_41de_11ea_82c8_acde48001122row0_col6\" class=\"data row0 col6\" >Response</td>\n",
       "                        <td id=\"T_6ca4d4cc_41de_11ea_82c8_acde48001122row0_col7\" class=\"data row0 col7\" >Response</td>\n",
       "                        <td id=\"T_6ca4d4cc_41de_11ea_82c8_acde48001122row0_col8\" class=\"data row0 col8\" >Response</td>\n",
       "                        <td id=\"T_6ca4d4cc_41de_11ea_82c8_acde48001122row0_col9\" class=\"data row0 col9\" >Response</td>\n",
       "                        <td id=\"T_6ca4d4cc_41de_11ea_82c8_acde48001122row0_col10\" class=\"data row0 col10\" >Response</td>\n",
       "                        <td id=\"T_6ca4d4cc_41de_11ea_82c8_acde48001122row0_col11\" class=\"data row0 col11\" >Response</td>\n",
       "                        <td id=\"T_6ca4d4cc_41de_11ea_82c8_acde48001122row0_col12\" class=\"data row0 col12\" >Response</td>\n",
       "                        <td id=\"T_6ca4d4cc_41de_11ea_82c8_acde48001122row0_col13\" class=\"data row0 col13\" >iPhone</td>\n",
       "                        <td id=\"T_6ca4d4cc_41de_11ea_82c8_acde48001122row0_col14\" class=\"data row0 col14\" >iPad</td>\n",
       "                        <td id=\"T_6ca4d4cc_41de_11ea_82c8_acde48001122row0_col15\" class=\"data row0 col15\" >Android Phone</td>\n",
       "                        <td id=\"T_6ca4d4cc_41de_11ea_82c8_acde48001122row0_col16\" class=\"data row0 col16\" >Android Tablet</td>\n",
       "                        <td id=\"T_6ca4d4cc_41de_11ea_82c8_acde48001122row0_col17\" class=\"data row0 col17\" >Windows Phone</td>\n",
       "                        <td id=\"T_6ca4d4cc_41de_11ea_82c8_acde48001122row0_col18\" class=\"data row0 col18\" >Other</td>\n",
       "                        <td id=\"T_6ca4d4cc_41de_11ea_82c8_acde48001122row0_col19\" class=\"data row0 col19\" >No mobile app</td>\n",
       "                        <td id=\"T_6ca4d4cc_41de_11ea_82c8_acde48001122row0_col20\" class=\"data row0 col20\" >Developing new features</td>\n",
       "                        <td id=\"T_6ca4d4cc_41de_11ea_82c8_acde48001122row0_col21\" class=\"data row0 col21\" >Refactoring / code quality</td>\n",
       "                        <td id=\"T_6ca4d4cc_41de_11ea_82c8_acde48001122row0_col22\" class=\"data row0 col22\" >Fixing bugs</td>\n",
       "                        <td id=\"T_6ca4d4cc_41de_11ea_82c8_acde48001122row0_col23\" class=\"data row0 col23\" >Technical support</td>\n",
       "                        <td id=\"T_6ca4d4cc_41de_11ea_82c8_acde48001122row0_col24\" class=\"data row0 col24\" >Meetings</td>\n",
       "                        <td id=\"T_6ca4d4cc_41de_11ea_82c8_acde48001122row0_col25\" class=\"data row0 col25\" >Learning new skills</td>\n",
       "                        <td id=\"T_6ca4d4cc_41de_11ea_82c8_acde48001122row0_col26\" class=\"data row0 col26\" >Surfing the Internet</td>\n",
       "                        <td id=\"T_6ca4d4cc_41de_11ea_82c8_acde48001122row0_col27\" class=\"data row0 col27\" >Looking for a new job</td>\n",
       "                        <td id=\"T_6ca4d4cc_41de_11ea_82c8_acde48001122row0_col28\" class=\"data row0 col28\" >Using Stack Exchange</td>\n",
       "                        <td id=\"T_6ca4d4cc_41de_11ea_82c8_acde48001122row0_col29\" class=\"data row0 col29\" >I can recommend or request products</td>\n",
       "                        <td id=\"T_6ca4d4cc_41de_11ea_82c8_acde48001122row0_col30\" class=\"data row0 col30\" >I influence purchasing decisions, but don't have final approval</td>\n",
       "                        <td id=\"T_6ca4d4cc_41de_11ea_82c8_acde48001122row0_col31\" class=\"data row0 col31\" >I have a discretionary budget at my disposal</td>\n",
       "                        <td id=\"T_6ca4d4cc_41de_11ea_82c8_acde48001122row0_col32\" class=\"data row0 col32\" >I can buy anything I want without asking anyone</td>\n",
       "                        <td id=\"T_6ca4d4cc_41de_11ea_82c8_acde48001122row0_col33\" class=\"data row0 col33\" >No Involvement</td>\n",
       "                        <td id=\"T_6ca4d4cc_41de_11ea_82c8_acde48001122row0_col34\" class=\"data row0 col34\" >Hardware</td>\n",
       "                        <td id=\"T_6ca4d4cc_41de_11ea_82c8_acde48001122row0_col35\" class=\"data row0 col35\" >Servers</td>\n",
       "                        <td id=\"T_6ca4d4cc_41de_11ea_82c8_acde48001122row0_col36\" class=\"data row0 col36\" >Software</td>\n",
       "                        <td id=\"T_6ca4d4cc_41de_11ea_82c8_acde48001122row0_col37\" class=\"data row0 col37\" >User Equipment: Monitors, PCs, Laptops</td>\n",
       "                        <td id=\"T_6ca4d4cc_41de_11ea_82c8_acde48001122row0_col38\" class=\"data row0 col38\" >Consultants</td>\n",
       "                        <td id=\"T_6ca4d4cc_41de_11ea_82c8_acde48001122row0_col39\" class=\"data row0 col39\" >Recruitment Tools & Services</td>\n",
       "                        <td id=\"T_6ca4d4cc_41de_11ea_82c8_acde48001122row0_col40\" class=\"data row0 col40\" >Other</td>\n",
       "                        <td id=\"T_6ca4d4cc_41de_11ea_82c8_acde48001122row0_col41\" class=\"data row0 col41\" >Response</td>\n",
       "                        <td id=\"T_6ca4d4cc_41de_11ea_82c8_acde48001122row0_col42\" class=\"data row0 col42\" >C</td>\n",
       "                        <td id=\"T_6ca4d4cc_41de_11ea_82c8_acde48001122row0_col43\" class=\"data row0 col43\" >C++</td>\n",
       "                        <td id=\"T_6ca4d4cc_41de_11ea_82c8_acde48001122row0_col44\" class=\"data row0 col44\" >C#</td>\n",
       "                        <td id=\"T_6ca4d4cc_41de_11ea_82c8_acde48001122row0_col45\" class=\"data row0 col45\" >Java</td>\n",
       "                        <td id=\"T_6ca4d4cc_41de_11ea_82c8_acde48001122row0_col46\" class=\"data row0 col46\" >JavaScript</td>\n",
       "                        <td id=\"T_6ca4d4cc_41de_11ea_82c8_acde48001122row0_col47\" class=\"data row0 col47\" >Node.js</td>\n",
       "                        <td id=\"T_6ca4d4cc_41de_11ea_82c8_acde48001122row0_col48\" class=\"data row0 col48\" >Objective-C</td>\n",
       "                        <td id=\"T_6ca4d4cc_41de_11ea_82c8_acde48001122row0_col49\" class=\"data row0 col49\" >PHP</td>\n",
       "                        <td id=\"T_6ca4d4cc_41de_11ea_82c8_acde48001122row0_col50\" class=\"data row0 col50\" >Python</td>\n",
       "                        <td id=\"T_6ca4d4cc_41de_11ea_82c8_acde48001122row0_col51\" class=\"data row0 col51\" >Ruby</td>\n",
       "                        <td id=\"T_6ca4d4cc_41de_11ea_82c8_acde48001122row0_col52\" class=\"data row0 col52\" >SQL</td>\n",
       "                        <td id=\"T_6ca4d4cc_41de_11ea_82c8_acde48001122row0_col53\" class=\"data row0 col53\" >Other (please specify)</td>\n",
       "                        <td id=\"T_6ca4d4cc_41de_11ea_82c8_acde48001122row0_col54\" class=\"data row0 col54\" >Node.js</td>\n",
       "                        <td id=\"T_6ca4d4cc_41de_11ea_82c8_acde48001122row0_col55\" class=\"data row0 col55\" >Haskell</td>\n",
       "                        <td id=\"T_6ca4d4cc_41de_11ea_82c8_acde48001122row0_col56\" class=\"data row0 col56\" >CoffeeScript</td>\n",
       "                        <td id=\"T_6ca4d4cc_41de_11ea_82c8_acde48001122row0_col57\" class=\"data row0 col57\" >Dart</td>\n",
       "                        <td id=\"T_6ca4d4cc_41de_11ea_82c8_acde48001122row0_col58\" class=\"data row0 col58\" >C++11</td>\n",
       "                        <td id=\"T_6ca4d4cc_41de_11ea_82c8_acde48001122row0_col59\" class=\"data row0 col59\" >Redis</td>\n",
       "                        <td id=\"T_6ca4d4cc_41de_11ea_82c8_acde48001122row0_col60\" class=\"data row0 col60\" >MongoDB</td>\n",
       "                        <td id=\"T_6ca4d4cc_41de_11ea_82c8_acde48001122row0_col61\" class=\"data row0 col61\" >F#</td>\n",
       "                        <td id=\"T_6ca4d4cc_41de_11ea_82c8_acde48001122row0_col62\" class=\"data row0 col62\" >Go</td>\n",
       "                        <td id=\"T_6ca4d4cc_41de_11ea_82c8_acde48001122row0_col63\" class=\"data row0 col63\" >Hadoop</td>\n",
       "                        <td id=\"T_6ca4d4cc_41de_11ea_82c8_acde48001122row0_col64\" class=\"data row0 col64\" >AngularJS</td>\n",
       "                        <td id=\"T_6ca4d4cc_41de_11ea_82c8_acde48001122row0_col65\" class=\"data row0 col65\" >Cordova</td>\n",
       "                        <td id=\"T_6ca4d4cc_41de_11ea_82c8_acde48001122row0_col66\" class=\"data row0 col66\" >Arduino / Raspberry Pi</td>\n",
       "                        <td id=\"T_6ca4d4cc_41de_11ea_82c8_acde48001122row0_col67\" class=\"data row0 col67\" >Response</td>\n",
       "                        <td id=\"T_6ca4d4cc_41de_11ea_82c8_acde48001122row0_col68\" class=\"data row0 col68\" >iPhone</td>\n",
       "                        <td id=\"T_6ca4d4cc_41de_11ea_82c8_acde48001122row0_col69\" class=\"data row0 col69\" >Android Phone</td>\n",
       "                        <td id=\"T_6ca4d4cc_41de_11ea_82c8_acde48001122row0_col70\" class=\"data row0 col70\" >Windows Phone</td>\n",
       "                        <td id=\"T_6ca4d4cc_41de_11ea_82c8_acde48001122row0_col71\" class=\"data row0 col71\" >iPad</td>\n",
       "                        <td id=\"T_6ca4d4cc_41de_11ea_82c8_acde48001122row0_col72\" class=\"data row0 col72\" >Android Tablet</td>\n",
       "                        <td id=\"T_6ca4d4cc_41de_11ea_82c8_acde48001122row0_col73\" class=\"data row0 col73\" >Kindle Fire</td>\n",
       "                        <td id=\"T_6ca4d4cc_41de_11ea_82c8_acde48001122row0_col74\" class=\"data row0 col74\" >Windows Tablet</td>\n",
       "                        <td id=\"T_6ca4d4cc_41de_11ea_82c8_acde48001122row0_col75\" class=\"data row0 col75\" >PS3</td>\n",
       "                        <td id=\"T_6ca4d4cc_41de_11ea_82c8_acde48001122row0_col76\" class=\"data row0 col76\" >PS4</td>\n",
       "                        <td id=\"T_6ca4d4cc_41de_11ea_82c8_acde48001122row0_col77\" class=\"data row0 col77\" >Xbox 360</td>\n",
       "                        <td id=\"T_6ca4d4cc_41de_11ea_82c8_acde48001122row0_col78\" class=\"data row0 col78\" >Xbox One</td>\n",
       "                        <td id=\"T_6ca4d4cc_41de_11ea_82c8_acde48001122row0_col79\" class=\"data row0 col79\" >Wii</td>\n",
       "                        <td id=\"T_6ca4d4cc_41de_11ea_82c8_acde48001122row0_col80\" class=\"data row0 col80\" >Wii U</td>\n",
       "                        <td id=\"T_6ca4d4cc_41de_11ea_82c8_acde48001122row0_col81\" class=\"data row0 col81\" >Other (please specify)</td>\n",
       "                        <td id=\"T_6ca4d4cc_41de_11ea_82c8_acde48001122row0_col82\" class=\"data row0 col82\" >Response</td>\n",
       "                        <td id=\"T_6ca4d4cc_41de_11ea_82c8_acde48001122row0_col83\" class=\"data row0 col83\" >Response</td>\n",
       "                        <td id=\"T_6ca4d4cc_41de_11ea_82c8_acde48001122row0_col84\" class=\"data row0 col84\" >Other (please specify)</td>\n",
       "                        <td id=\"T_6ca4d4cc_41de_11ea_82c8_acde48001122row0_col85\" class=\"data row0 col85\" >Response</td>\n",
       "                        <td id=\"T_6ca4d4cc_41de_11ea_82c8_acde48001122row0_col86\" class=\"data row0 col86\" >Response</td>\n",
       "                        <td id=\"T_6ca4d4cc_41de_11ea_82c8_acde48001122row0_col87\" class=\"data row0 col87\" >Email</td>\n",
       "                        <td id=\"T_6ca4d4cc_41de_11ea_82c8_acde48001122row0_col88\" class=\"data row0 col88\" >LinkedIn Inmail</td>\n",
       "                        <td id=\"T_6ca4d4cc_41de_11ea_82c8_acde48001122row0_col89\" class=\"data row0 col89\" >Phone</td>\n",
       "                        <td id=\"T_6ca4d4cc_41de_11ea_82c8_acde48001122row0_col90\" class=\"data row0 col90\" >Stack Overflow Careers Message</td>\n",
       "                        <td id=\"T_6ca4d4cc_41de_11ea_82c8_acde48001122row0_col91\" class=\"data row0 col91\" >Twitter</td>\n",
       "                        <td id=\"T_6ca4d4cc_41de_11ea_82c8_acde48001122row0_col92\" class=\"data row0 col92\" >Message is personalized to me</td>\n",
       "                        <td id=\"T_6ca4d4cc_41de_11ea_82c8_acde48001122row0_col93\" class=\"data row0 col93\" >Mentions my code or Stack Overflow activity</td>\n",
       "                        <td id=\"T_6ca4d4cc_41de_11ea_82c8_acde48001122row0_col94\" class=\"data row0 col94\" >Includes salary information</td>\n",
       "                        <td id=\"T_6ca4d4cc_41de_11ea_82c8_acde48001122row0_col95\" class=\"data row0 col95\" >Describes the team I will work on</td>\n",
       "                        <td id=\"T_6ca4d4cc_41de_11ea_82c8_acde48001122row0_col96\" class=\"data row0 col96\" >Describes company culture</td>\n",
       "                        <td id=\"T_6ca4d4cc_41de_11ea_82c8_acde48001122row0_col97\" class=\"data row0 col97\" >Describes benefits / perks of the work environment</td>\n",
       "                        <td id=\"T_6ca4d4cc_41de_11ea_82c8_acde48001122row0_col98\" class=\"data row0 col98\" >Link to a Stack Overflow Careers Company Page or other source of more information about the company (videos, articles, etc)</td>\n",
       "                        <td id=\"T_6ca4d4cc_41de_11ea_82c8_acde48001122row0_col99\" class=\"data row0 col99\" >Response</td>\n",
       "                        <td id=\"T_6ca4d4cc_41de_11ea_82c8_acde48001122row0_col100\" class=\"data row0 col100\" >Response</td>\n",
       "                        <td id=\"T_6ca4d4cc_41de_11ea_82c8_acde48001122row0_col101\" class=\"data row0 col101\" >Response</td>\n",
       "                        <td id=\"T_6ca4d4cc_41de_11ea_82c8_acde48001122row0_col102\" class=\"data row0 col102\" >The ads are relevant</td>\n",
       "                        <td id=\"T_6ca4d4cc_41de_11ea_82c8_acde48001122row0_col103\" class=\"data row0 col103\" >The ads are entertaining</td>\n",
       "                        <td id=\"T_6ca4d4cc_41de_11ea_82c8_acde48001122row0_col104\" class=\"data row0 col104\" >The ads are Informative</td>\n",
       "                        <td id=\"T_6ca4d4cc_41de_11ea_82c8_acde48001122row0_col105\" class=\"data row0 col105\" >I click on ads that interest me</td>\n",
       "                        <td id=\"T_6ca4d4cc_41de_11ea_82c8_acde48001122row0_col106\" class=\"data row0 col106\" >I've taken a trial/purchased a product from ads</td>\n",
       "                        <td id=\"T_6ca4d4cc_41de_11ea_82c8_acde48001122row0_col107\" class=\"data row0 col107\" >I like that I can indicate ads I want to see less of</td>\n",
       "                        <td id=\"T_6ca4d4cc_41de_11ea_82c8_acde48001122row0_col108\" class=\"data row0 col108\" >What ads? I use an ad blocker</td>\n",
       "                        <td id=\"T_6ca4d4cc_41de_11ea_82c8_acde48001122row0_col109\" class=\"data row0 col109\" >Response</td>\n",
       "                        <td id=\"T_6ca4d4cc_41de_11ea_82c8_acde48001122row0_col110\" class=\"data row0 col110\" >Response</td>\n",
       "                        <td id=\"T_6ca4d4cc_41de_11ea_82c8_acde48001122row0_col111\" class=\"data row0 col111\" >Open-Ended Response</td>\n",
       "                        <td id=\"T_6ca4d4cc_41de_11ea_82c8_acde48001122row0_col112\" class=\"data row0 col112\" >Response</td>\n",
       "                        <td id=\"T_6ca4d4cc_41de_11ea_82c8_acde48001122row0_col113\" class=\"data row0 col113\" >Read other people's questions to solve my problems</td>\n",
       "                        <td id=\"T_6ca4d4cc_41de_11ea_82c8_acde48001122row0_col114\" class=\"data row0 col114\" >Ask questions to solve problems</td>\n",
       "                        <td id=\"T_6ca4d4cc_41de_11ea_82c8_acde48001122row0_col115\" class=\"data row0 col115\" >Answer questions I know the answer to</td>\n",
       "                        <td id=\"T_6ca4d4cc_41de_11ea_82c8_acde48001122row0_col116\" class=\"data row0 col116\" >Looking for a job</td>\n",
       "                        <td id=\"T_6ca4d4cc_41de_11ea_82c8_acde48001122row0_col117\" class=\"data row0 col117\" >Build my online reputation</td>\n",
       "                        <td id=\"T_6ca4d4cc_41de_11ea_82c8_acde48001122row0_col118\" class=\"data row0 col118\" >Other (please specify)</td>\n",
       "                        <td id=\"T_6ca4d4cc_41de_11ea_82c8_acde48001122row0_col119\" class=\"data row0 col119\" >Response</td>\n",
       "            </tr>\n",
       "            <tr>\n",
       "                        <th id=\"T_6ca4d4cc_41de_11ea_82c8_acde48001122level0_row1\" class=\"row_heading level0 row1\" >1</th>\n",
       "                        <td id=\"T_6ca4d4cc_41de_11ea_82c8_acde48001122row1_col0\" class=\"data row1 col0\" >India</td>\n",
       "                        <td id=\"T_6ca4d4cc_41de_11ea_82c8_acde48001122row1_col1\" class=\"data row1 col1\" >nan</td>\n",
       "                        <td id=\"T_6ca4d4cc_41de_11ea_82c8_acde48001122row1_col2\" class=\"data row1 col2\" >nan</td>\n",
       "                        <td id=\"T_6ca4d4cc_41de_11ea_82c8_acde48001122row1_col3\" class=\"data row1 col3\" >30-34</td>\n",
       "                        <td id=\"T_6ca4d4cc_41de_11ea_82c8_acde48001122row1_col4\" class=\"data row1 col4\" >Female</td>\n",
       "                        <td id=\"T_6ca4d4cc_41de_11ea_82c8_acde48001122row1_col5\" class=\"data row1 col5\" >6/10/2014</td>\n",
       "                        <td id=\"T_6ca4d4cc_41de_11ea_82c8_acde48001122row1_col6\" class=\"data row1 col6\" >Back-End Web Developer</td>\n",
       "                        <td id=\"T_6ca4d4cc_41de_11ea_82c8_acde48001122row1_col7\" class=\"data row1 col7\" >$20,000 - $40,000</td>\n",
       "                        <td id=\"T_6ca4d4cc_41de_11ea_82c8_acde48001122row1_col8\" class=\"data row1 col8\" >Finance / Banking</td>\n",
       "                        <td id=\"T_6ca4d4cc_41de_11ea_82c8_acde48001122row1_col9\" class=\"data row1 col9\" >100</td>\n",
       "                        <td id=\"T_6ca4d4cc_41de_11ea_82c8_acde48001122row1_col10\" class=\"data row1 col10\" >Occasionally</td>\n",
       "                        <td id=\"T_6ca4d4cc_41de_11ea_82c8_acde48001122row1_col11\" class=\"data row1 col11\" >It's not my preference. I'd prefer to be in an office</td>\n",
       "                        <td id=\"T_6ca4d4cc_41de_11ea_82c8_acde48001122row1_col12\" class=\"data row1 col12\" >A home office</td>\n",
       "                        <td id=\"T_6ca4d4cc_41de_11ea_82c8_acde48001122row1_col13\" class=\"data row1 col13\" >iPhone</td>\n",
       "                        <td id=\"T_6ca4d4cc_41de_11ea_82c8_acde48001122row1_col14\" class=\"data row1 col14\" >nan</td>\n",
       "                        <td id=\"T_6ca4d4cc_41de_11ea_82c8_acde48001122row1_col15\" class=\"data row1 col15\" >Android Phone</td>\n",
       "                        <td id=\"T_6ca4d4cc_41de_11ea_82c8_acde48001122row1_col16\" class=\"data row1 col16\" >nan</td>\n",
       "                        <td id=\"T_6ca4d4cc_41de_11ea_82c8_acde48001122row1_col17\" class=\"data row1 col17\" >nan</td>\n",
       "                        <td id=\"T_6ca4d4cc_41de_11ea_82c8_acde48001122row1_col18\" class=\"data row1 col18\" >nan</td>\n",
       "                        <td id=\"T_6ca4d4cc_41de_11ea_82c8_acde48001122row1_col19\" class=\"data row1 col19\" >nan</td>\n",
       "                        <td id=\"T_6ca4d4cc_41de_11ea_82c8_acde48001122row1_col20\" class=\"data row1 col20\" >5-10 hours</td>\n",
       "                        <td id=\"T_6ca4d4cc_41de_11ea_82c8_acde48001122row1_col21\" class=\"data row1 col21\" >5-10 hours</td>\n",
       "                        <td id=\"T_6ca4d4cc_41de_11ea_82c8_acde48001122row1_col22\" class=\"data row1 col22\" >10-20 hours</td>\n",
       "                        <td id=\"T_6ca4d4cc_41de_11ea_82c8_acde48001122row1_col23\" class=\"data row1 col23\" >None</td>\n",
       "                        <td id=\"T_6ca4d4cc_41de_11ea_82c8_acde48001122row1_col24\" class=\"data row1 col24\" >2-5 hours</td>\n",
       "                        <td id=\"T_6ca4d4cc_41de_11ea_82c8_acde48001122row1_col25\" class=\"data row1 col25\" >2-5 hours</td>\n",
       "                        <td id=\"T_6ca4d4cc_41de_11ea_82c8_acde48001122row1_col26\" class=\"data row1 col26\" >1-2 hours</td>\n",
       "                        <td id=\"T_6ca4d4cc_41de_11ea_82c8_acde48001122row1_col27\" class=\"data row1 col27\" >None</td>\n",
       "                        <td id=\"T_6ca4d4cc_41de_11ea_82c8_acde48001122row1_col28\" class=\"data row1 col28\" >2-5 hours</td>\n",
       "                        <td id=\"T_6ca4d4cc_41de_11ea_82c8_acde48001122row1_col29\" class=\"data row1 col29\" >I can recommend or request products</td>\n",
       "                        <td id=\"T_6ca4d4cc_41de_11ea_82c8_acde48001122row1_col30\" class=\"data row1 col30\" >nan</td>\n",
       "                        <td id=\"T_6ca4d4cc_41de_11ea_82c8_acde48001122row1_col31\" class=\"data row1 col31\" >nan</td>\n",
       "                        <td id=\"T_6ca4d4cc_41de_11ea_82c8_acde48001122row1_col32\" class=\"data row1 col32\" >nan</td>\n",
       "                        <td id=\"T_6ca4d4cc_41de_11ea_82c8_acde48001122row1_col33\" class=\"data row1 col33\" >nan</td>\n",
       "                        <td id=\"T_6ca4d4cc_41de_11ea_82c8_acde48001122row1_col34\" class=\"data row1 col34\" >nan</td>\n",
       "                        <td id=\"T_6ca4d4cc_41de_11ea_82c8_acde48001122row1_col35\" class=\"data row1 col35\" >nan</td>\n",
       "                        <td id=\"T_6ca4d4cc_41de_11ea_82c8_acde48001122row1_col36\" class=\"data row1 col36\" >Software</td>\n",
       "                        <td id=\"T_6ca4d4cc_41de_11ea_82c8_acde48001122row1_col37\" class=\"data row1 col37\" >User Equipment: Monitors, PCs, Laptops</td>\n",
       "                        <td id=\"T_6ca4d4cc_41de_11ea_82c8_acde48001122row1_col38\" class=\"data row1 col38\" >nan</td>\n",
       "                        <td id=\"T_6ca4d4cc_41de_11ea_82c8_acde48001122row1_col39\" class=\"data row1 col39\" >nan</td>\n",
       "                        <td id=\"T_6ca4d4cc_41de_11ea_82c8_acde48001122row1_col40\" class=\"data row1 col40\" >nan</td>\n",
       "                        <td id=\"T_6ca4d4cc_41de_11ea_82c8_acde48001122row1_col41\" class=\"data row1 col41\" >$1,000 - $5,000</td>\n",
       "                        <td id=\"T_6ca4d4cc_41de_11ea_82c8_acde48001122row1_col42\" class=\"data row1 col42\" >nan</td>\n",
       "                        <td id=\"T_6ca4d4cc_41de_11ea_82c8_acde48001122row1_col43\" class=\"data row1 col43\" >nan</td>\n",
       "                        <td id=\"T_6ca4d4cc_41de_11ea_82c8_acde48001122row1_col44\" class=\"data row1 col44\" >nan</td>\n",
       "                        <td id=\"T_6ca4d4cc_41de_11ea_82c8_acde48001122row1_col45\" class=\"data row1 col45\" >Java</td>\n",
       "                        <td id=\"T_6ca4d4cc_41de_11ea_82c8_acde48001122row1_col46\" class=\"data row1 col46\" >JavaScript</td>\n",
       "                        <td id=\"T_6ca4d4cc_41de_11ea_82c8_acde48001122row1_col47\" class=\"data row1 col47\" >nan</td>\n",
       "                        <td id=\"T_6ca4d4cc_41de_11ea_82c8_acde48001122row1_col48\" class=\"data row1 col48\" >nan</td>\n",
       "                        <td id=\"T_6ca4d4cc_41de_11ea_82c8_acde48001122row1_col49\" class=\"data row1 col49\" >PHP</td>\n",
       "                        <td id=\"T_6ca4d4cc_41de_11ea_82c8_acde48001122row1_col50\" class=\"data row1 col50\" >Python</td>\n",
       "                        <td id=\"T_6ca4d4cc_41de_11ea_82c8_acde48001122row1_col51\" class=\"data row1 col51\" >nan</td>\n",
       "                        <td id=\"T_6ca4d4cc_41de_11ea_82c8_acde48001122row1_col52\" class=\"data row1 col52\" >nan</td>\n",
       "                        <td id=\"T_6ca4d4cc_41de_11ea_82c8_acde48001122row1_col53\" class=\"data row1 col53\" >nan</td>\n",
       "                        <td id=\"T_6ca4d4cc_41de_11ea_82c8_acde48001122row1_col54\" class=\"data row1 col54\" >Node.js</td>\n",
       "                        <td id=\"T_6ca4d4cc_41de_11ea_82c8_acde48001122row1_col55\" class=\"data row1 col55\" >nan</td>\n",
       "                        <td id=\"T_6ca4d4cc_41de_11ea_82c8_acde48001122row1_col56\" class=\"data row1 col56\" >nan</td>\n",
       "                        <td id=\"T_6ca4d4cc_41de_11ea_82c8_acde48001122row1_col57\" class=\"data row1 col57\" >nan</td>\n",
       "                        <td id=\"T_6ca4d4cc_41de_11ea_82c8_acde48001122row1_col58\" class=\"data row1 col58\" >nan</td>\n",
       "                        <td id=\"T_6ca4d4cc_41de_11ea_82c8_acde48001122row1_col59\" class=\"data row1 col59\" >nan</td>\n",
       "                        <td id=\"T_6ca4d4cc_41de_11ea_82c8_acde48001122row1_col60\" class=\"data row1 col60\" >MongoDB</td>\n",
       "                        <td id=\"T_6ca4d4cc_41de_11ea_82c8_acde48001122row1_col61\" class=\"data row1 col61\" >nan</td>\n",
       "                        <td id=\"T_6ca4d4cc_41de_11ea_82c8_acde48001122row1_col62\" class=\"data row1 col62\" >Go</td>\n",
       "                        <td id=\"T_6ca4d4cc_41de_11ea_82c8_acde48001122row1_col63\" class=\"data row1 col63\" >Hadoop</td>\n",
       "                        <td id=\"T_6ca4d4cc_41de_11ea_82c8_acde48001122row1_col64\" class=\"data row1 col64\" >AngularJS</td>\n",
       "                        <td id=\"T_6ca4d4cc_41de_11ea_82c8_acde48001122row1_col65\" class=\"data row1 col65\" >nan</td>\n",
       "                        <td id=\"T_6ca4d4cc_41de_11ea_82c8_acde48001122row1_col66\" class=\"data row1 col66\" >nan</td>\n",
       "                        <td id=\"T_6ca4d4cc_41de_11ea_82c8_acde48001122row1_col67\" class=\"data row1 col67\" >Linux</td>\n",
       "                        <td id=\"T_6ca4d4cc_41de_11ea_82c8_acde48001122row1_col68\" class=\"data row1 col68\" >nan</td>\n",
       "                        <td id=\"T_6ca4d4cc_41de_11ea_82c8_acde48001122row1_col69\" class=\"data row1 col69\" >nan</td>\n",
       "                        <td id=\"T_6ca4d4cc_41de_11ea_82c8_acde48001122row1_col70\" class=\"data row1 col70\" >nan</td>\n",
       "                        <td id=\"T_6ca4d4cc_41de_11ea_82c8_acde48001122row1_col71\" class=\"data row1 col71\" >nan</td>\n",
       "                        <td id=\"T_6ca4d4cc_41de_11ea_82c8_acde48001122row1_col72\" class=\"data row1 col72\" >Android Tablet</td>\n",
       "                        <td id=\"T_6ca4d4cc_41de_11ea_82c8_acde48001122row1_col73\" class=\"data row1 col73\" >Kindle Fire</td>\n",
       "                        <td id=\"T_6ca4d4cc_41de_11ea_82c8_acde48001122row1_col74\" class=\"data row1 col74\" >nan</td>\n",
       "                        <td id=\"T_6ca4d4cc_41de_11ea_82c8_acde48001122row1_col75\" class=\"data row1 col75\" >nan</td>\n",
       "                        <td id=\"T_6ca4d4cc_41de_11ea_82c8_acde48001122row1_col76\" class=\"data row1 col76\" >nan</td>\n",
       "                        <td id=\"T_6ca4d4cc_41de_11ea_82c8_acde48001122row1_col77\" class=\"data row1 col77\" >nan</td>\n",
       "                        <td id=\"T_6ca4d4cc_41de_11ea_82c8_acde48001122row1_col78\" class=\"data row1 col78\" >nan</td>\n",
       "                        <td id=\"T_6ca4d4cc_41de_11ea_82c8_acde48001122row1_col79\" class=\"data row1 col79\" >nan</td>\n",
       "                        <td id=\"T_6ca4d4cc_41de_11ea_82c8_acde48001122row1_col80\" class=\"data row1 col80\" >nan</td>\n",
       "                        <td id=\"T_6ca4d4cc_41de_11ea_82c8_acde48001122row1_col81\" class=\"data row1 col81\" >nan</td>\n",
       "                        <td id=\"T_6ca4d4cc_41de_11ea_82c8_acde48001122row1_col82\" class=\"data row1 col82\" >No</td>\n",
       "                        <td id=\"T_6ca4d4cc_41de_11ea_82c8_acde48001122row1_col83\" class=\"data row1 col83\" >Recruiter/Headhunter</td>\n",
       "                        <td id=\"T_6ca4d4cc_41de_11ea_82c8_acde48001122row1_col84\" class=\"data row1 col84\" >nan</td>\n",
       "                        <td id=\"T_6ca4d4cc_41de_11ea_82c8_acde48001122row1_col85\" class=\"data row1 col85\" >No</td>\n",
       "                        <td id=\"T_6ca4d4cc_41de_11ea_82c8_acde48001122row1_col86\" class=\"data row1 col86\" >A slightly less than insane amount</td>\n",
       "                        <td id=\"T_6ca4d4cc_41de_11ea_82c8_acde48001122row1_col87\" class=\"data row1 col87\" >Most Preferred</td>\n",
       "                        <td id=\"T_6ca4d4cc_41de_11ea_82c8_acde48001122row1_col88\" class=\"data row1 col88\" >Most Preferred</td>\n",
       "                        <td id=\"T_6ca4d4cc_41de_11ea_82c8_acde48001122row1_col89\" class=\"data row1 col89\" >Dislike</td>\n",
       "                        <td id=\"T_6ca4d4cc_41de_11ea_82c8_acde48001122row1_col90\" class=\"data row1 col90\" >Most Preferred</td>\n",
       "                        <td id=\"T_6ca4d4cc_41de_11ea_82c8_acde48001122row1_col91\" class=\"data row1 col91\" >Neither Like nor Dislike</td>\n",
       "                        <td id=\"T_6ca4d4cc_41de_11ea_82c8_acde48001122row1_col92\" class=\"data row1 col92\" >To a large extent</td>\n",
       "                        <td id=\"T_6ca4d4cc_41de_11ea_82c8_acde48001122row1_col93\" class=\"data row1 col93\" >To a moderate extent</td>\n",
       "                        <td id=\"T_6ca4d4cc_41de_11ea_82c8_acde48001122row1_col94\" class=\"data row1 col94\" >To a large extent</td>\n",
       "                        <td id=\"T_6ca4d4cc_41de_11ea_82c8_acde48001122row1_col95\" class=\"data row1 col95\" >To a large extent</td>\n",
       "                        <td id=\"T_6ca4d4cc_41de_11ea_82c8_acde48001122row1_col96\" class=\"data row1 col96\" >To a moderate extent</td>\n",
       "                        <td id=\"T_6ca4d4cc_41de_11ea_82c8_acde48001122row1_col97\" class=\"data row1 col97\" >To a moderate extent</td>\n",
       "                        <td id=\"T_6ca4d4cc_41de_11ea_82c8_acde48001122row1_col98\" class=\"data row1 col98\" >To a moderate extent</td>\n",
       "                        <td id=\"T_6ca4d4cc_41de_11ea_82c8_acde48001122row1_col99\" class=\"data row1 col99\" >nan</td>\n",
       "                        <td id=\"T_6ca4d4cc_41de_11ea_82c8_acde48001122row1_col100\" class=\"data row1 col100\" >No</td>\n",
       "                        <td id=\"T_6ca4d4cc_41de_11ea_82c8_acde48001122row1_col101\" class=\"data row1 col101\" >Yes</td>\n",
       "                        <td id=\"T_6ca4d4cc_41de_11ea_82c8_acde48001122row1_col102\" class=\"data row1 col102\" >Strongly Agree</td>\n",
       "                        <td id=\"T_6ca4d4cc_41de_11ea_82c8_acde48001122row1_col103\" class=\"data row1 col103\" >Neutral</td>\n",
       "                        <td id=\"T_6ca4d4cc_41de_11ea_82c8_acde48001122row1_col104\" class=\"data row1 col104\" >Agree</td>\n",
       "                        <td id=\"T_6ca4d4cc_41de_11ea_82c8_acde48001122row1_col105\" class=\"data row1 col105\" >Agree</td>\n",
       "                        <td id=\"T_6ca4d4cc_41de_11ea_82c8_acde48001122row1_col106\" class=\"data row1 col106\" >Strongly Agree</td>\n",
       "                        <td id=\"T_6ca4d4cc_41de_11ea_82c8_acde48001122row1_col107\" class=\"data row1 col107\" >Agree</td>\n",
       "                        <td id=\"T_6ca4d4cc_41de_11ea_82c8_acde48001122row1_col108\" class=\"data row1 col108\" >Strongly Disagree</td>\n",
       "                        <td id=\"T_6ca4d4cc_41de_11ea_82c8_acde48001122row1_col109\" class=\"data row1 col109\" >No</td>\n",
       "                        <td id=\"T_6ca4d4cc_41de_11ea_82c8_acde48001122row1_col110\" class=\"data row1 col110\" >No</td>\n",
       "                        <td id=\"T_6ca4d4cc_41de_11ea_82c8_acde48001122row1_col111\" class=\"data row1 col111\" >nan</td>\n",
       "                        <td id=\"T_6ca4d4cc_41de_11ea_82c8_acde48001122row1_col112\" class=\"data row1 col112\" >500</td>\n",
       "                        <td id=\"T_6ca4d4cc_41de_11ea_82c8_acde48001122row1_col113\" class=\"data row1 col113\" >Read other people's questions to solve my problems</td>\n",
       "                        <td id=\"T_6ca4d4cc_41de_11ea_82c8_acde48001122row1_col114\" class=\"data row1 col114\" >Ask questions to solve problems</td>\n",
       "                        <td id=\"T_6ca4d4cc_41de_11ea_82c8_acde48001122row1_col115\" class=\"data row1 col115\" >nan</td>\n",
       "                        <td id=\"T_6ca4d4cc_41de_11ea_82c8_acde48001122row1_col116\" class=\"data row1 col116\" >nan</td>\n",
       "                        <td id=\"T_6ca4d4cc_41de_11ea_82c8_acde48001122row1_col117\" class=\"data row1 col117\" >nan</td>\n",
       "                        <td id=\"T_6ca4d4cc_41de_11ea_82c8_acde48001122row1_col118\" class=\"data row1 col118\" >nan</td>\n",
       "                        <td id=\"T_6ca4d4cc_41de_11ea_82c8_acde48001122row1_col119\" class=\"data row1 col119\" >Almost Always</td>\n",
       "            </tr>\n",
       "    </tbody></table>"
      ],
      "text/plain": [
       "<pandas.io.formats.style.Styler at 0x1c56b20d10>"
      ]
     },
     "execution_count": 519,
     "metadata": {},
     "output_type": "execute_result"
    }
   ],
   "source": [
    "survey_2014 = pd.read_csv(\"survey_results_public_2014.csv\",sep = \",\",engine='python')\n",
    "survey_2014.head(2).style.set_properties(**style_dict)"
   ]
  },
  {
   "cell_type": "code",
   "execution_count": 520,
   "metadata": {
    "collapsed": true
   },
   "outputs": [
    {
     "data": {
      "text/html": [
       "<style  type=\"text/css\" >\n",
       "    #T_6e1aed6e_41de_11ea_82c8_acde48001122row0_col0 {\n",
       "            background-color:  lightyellow;\n",
       "            color:  #000000;\n",
       "            border-color:  red;\n",
       "            font-family:  Roboto;\n",
       "        }    #T_6e1aed6e_41de_11ea_82c8_acde48001122row0_col1 {\n",
       "            background-color:  lightyellow;\n",
       "            color:  #000000;\n",
       "            border-color:  red;\n",
       "            font-family:  Roboto;\n",
       "        }    #T_6e1aed6e_41de_11ea_82c8_acde48001122row0_col2 {\n",
       "            background-color:  lightyellow;\n",
       "            color:  #000000;\n",
       "            border-color:  red;\n",
       "            font-family:  Roboto;\n",
       "        }    #T_6e1aed6e_41de_11ea_82c8_acde48001122row0_col3 {\n",
       "            background-color:  lightyellow;\n",
       "            color:  #000000;\n",
       "            border-color:  red;\n",
       "            font-family:  Roboto;\n",
       "        }    #T_6e1aed6e_41de_11ea_82c8_acde48001122row0_col4 {\n",
       "            background-color:  lightyellow;\n",
       "            color:  #000000;\n",
       "            border-color:  red;\n",
       "            font-family:  Roboto;\n",
       "        }    #T_6e1aed6e_41de_11ea_82c8_acde48001122row0_col5 {\n",
       "            background-color:  lightyellow;\n",
       "            color:  #000000;\n",
       "            border-color:  red;\n",
       "            font-family:  Roboto;\n",
       "        }    #T_6e1aed6e_41de_11ea_82c8_acde48001122row0_col6 {\n",
       "            background-color:  lightyellow;\n",
       "            color:  #000000;\n",
       "            border-color:  red;\n",
       "            font-family:  Roboto;\n",
       "        }    #T_6e1aed6e_41de_11ea_82c8_acde48001122row0_col7 {\n",
       "            background-color:  lightyellow;\n",
       "            color:  #000000;\n",
       "            border-color:  red;\n",
       "            font-family:  Roboto;\n",
       "        }    #T_6e1aed6e_41de_11ea_82c8_acde48001122row0_col8 {\n",
       "            background-color:  lightyellow;\n",
       "            color:  #000000;\n",
       "            border-color:  red;\n",
       "            font-family:  Roboto;\n",
       "        }    #T_6e1aed6e_41de_11ea_82c8_acde48001122row0_col9 {\n",
       "            background-color:  lightyellow;\n",
       "            color:  #000000;\n",
       "            border-color:  red;\n",
       "            font-family:  Roboto;\n",
       "        }    #T_6e1aed6e_41de_11ea_82c8_acde48001122row0_col10 {\n",
       "            background-color:  lightyellow;\n",
       "            color:  #000000;\n",
       "            border-color:  red;\n",
       "            font-family:  Roboto;\n",
       "        }    #T_6e1aed6e_41de_11ea_82c8_acde48001122row0_col11 {\n",
       "            background-color:  lightyellow;\n",
       "            color:  #000000;\n",
       "            border-color:  red;\n",
       "            font-family:  Roboto;\n",
       "        }    #T_6e1aed6e_41de_11ea_82c8_acde48001122row0_col12 {\n",
       "            background-color:  lightyellow;\n",
       "            color:  #000000;\n",
       "            border-color:  red;\n",
       "            font-family:  Roboto;\n",
       "        }    #T_6e1aed6e_41de_11ea_82c8_acde48001122row0_col13 {\n",
       "            background-color:  lightyellow;\n",
       "            color:  #000000;\n",
       "            border-color:  red;\n",
       "            font-family:  Roboto;\n",
       "        }    #T_6e1aed6e_41de_11ea_82c8_acde48001122row0_col14 {\n",
       "            background-color:  lightyellow;\n",
       "            color:  #000000;\n",
       "            border-color:  red;\n",
       "            font-family:  Roboto;\n",
       "        }    #T_6e1aed6e_41de_11ea_82c8_acde48001122row0_col15 {\n",
       "            background-color:  lightyellow;\n",
       "            color:  #000000;\n",
       "            border-color:  red;\n",
       "            font-family:  Roboto;\n",
       "        }    #T_6e1aed6e_41de_11ea_82c8_acde48001122row0_col16 {\n",
       "            background-color:  lightyellow;\n",
       "            color:  #000000;\n",
       "            border-color:  red;\n",
       "            font-family:  Roboto;\n",
       "        }    #T_6e1aed6e_41de_11ea_82c8_acde48001122row0_col17 {\n",
       "            background-color:  lightyellow;\n",
       "            color:  #000000;\n",
       "            border-color:  red;\n",
       "            font-family:  Roboto;\n",
       "        }    #T_6e1aed6e_41de_11ea_82c8_acde48001122row0_col18 {\n",
       "            background-color:  lightyellow;\n",
       "            color:  #000000;\n",
       "            border-color:  red;\n",
       "            font-family:  Roboto;\n",
       "        }    #T_6e1aed6e_41de_11ea_82c8_acde48001122row0_col19 {\n",
       "            background-color:  lightyellow;\n",
       "            color:  #000000;\n",
       "            border-color:  red;\n",
       "            font-family:  Roboto;\n",
       "        }    #T_6e1aed6e_41de_11ea_82c8_acde48001122row0_col20 {\n",
       "            background-color:  lightyellow;\n",
       "            color:  #000000;\n",
       "            border-color:  red;\n",
       "            font-family:  Roboto;\n",
       "        }    #T_6e1aed6e_41de_11ea_82c8_acde48001122row0_col21 {\n",
       "            background-color:  lightyellow;\n",
       "            color:  #000000;\n",
       "            border-color:  red;\n",
       "            font-family:  Roboto;\n",
       "        }    #T_6e1aed6e_41de_11ea_82c8_acde48001122row0_col22 {\n",
       "            background-color:  lightyellow;\n",
       "            color:  #000000;\n",
       "            border-color:  red;\n",
       "            font-family:  Roboto;\n",
       "        }    #T_6e1aed6e_41de_11ea_82c8_acde48001122row0_col23 {\n",
       "            background-color:  lightyellow;\n",
       "            color:  #000000;\n",
       "            border-color:  red;\n",
       "            font-family:  Roboto;\n",
       "        }    #T_6e1aed6e_41de_11ea_82c8_acde48001122row0_col24 {\n",
       "            background-color:  lightyellow;\n",
       "            color:  #000000;\n",
       "            border-color:  red;\n",
       "            font-family:  Roboto;\n",
       "        }    #T_6e1aed6e_41de_11ea_82c8_acde48001122row0_col25 {\n",
       "            background-color:  lightyellow;\n",
       "            color:  #000000;\n",
       "            border-color:  red;\n",
       "            font-family:  Roboto;\n",
       "        }    #T_6e1aed6e_41de_11ea_82c8_acde48001122row0_col26 {\n",
       "            background-color:  lightyellow;\n",
       "            color:  #000000;\n",
       "            border-color:  red;\n",
       "            font-family:  Roboto;\n",
       "        }    #T_6e1aed6e_41de_11ea_82c8_acde48001122row0_col27 {\n",
       "            background-color:  lightyellow;\n",
       "            color:  #000000;\n",
       "            border-color:  red;\n",
       "            font-family:  Roboto;\n",
       "        }    #T_6e1aed6e_41de_11ea_82c8_acde48001122row0_col28 {\n",
       "            background-color:  lightyellow;\n",
       "            color:  #000000;\n",
       "            border-color:  red;\n",
       "            font-family:  Roboto;\n",
       "        }    #T_6e1aed6e_41de_11ea_82c8_acde48001122row0_col29 {\n",
       "            background-color:  lightyellow;\n",
       "            color:  #000000;\n",
       "            border-color:  red;\n",
       "            font-family:  Roboto;\n",
       "        }    #T_6e1aed6e_41de_11ea_82c8_acde48001122row0_col30 {\n",
       "            background-color:  lightyellow;\n",
       "            color:  #000000;\n",
       "            border-color:  red;\n",
       "            font-family:  Roboto;\n",
       "        }    #T_6e1aed6e_41de_11ea_82c8_acde48001122row0_col31 {\n",
       "            background-color:  lightyellow;\n",
       "            color:  #000000;\n",
       "            border-color:  red;\n",
       "            font-family:  Roboto;\n",
       "        }    #T_6e1aed6e_41de_11ea_82c8_acde48001122row0_col32 {\n",
       "            background-color:  lightyellow;\n",
       "            color:  #000000;\n",
       "            border-color:  red;\n",
       "            font-family:  Roboto;\n",
       "        }    #T_6e1aed6e_41de_11ea_82c8_acde48001122row0_col33 {\n",
       "            background-color:  lightyellow;\n",
       "            color:  #000000;\n",
       "            border-color:  red;\n",
       "            font-family:  Roboto;\n",
       "        }    #T_6e1aed6e_41de_11ea_82c8_acde48001122row0_col34 {\n",
       "            background-color:  lightyellow;\n",
       "            color:  #000000;\n",
       "            border-color:  red;\n",
       "            font-family:  Roboto;\n",
       "        }    #T_6e1aed6e_41de_11ea_82c8_acde48001122row0_col35 {\n",
       "            background-color:  lightyellow;\n",
       "            color:  #000000;\n",
       "            border-color:  red;\n",
       "            font-family:  Roboto;\n",
       "        }    #T_6e1aed6e_41de_11ea_82c8_acde48001122row0_col36 {\n",
       "            background-color:  lightyellow;\n",
       "            color:  #000000;\n",
       "            border-color:  red;\n",
       "            font-family:  Roboto;\n",
       "        }    #T_6e1aed6e_41de_11ea_82c8_acde48001122row0_col37 {\n",
       "            background-color:  lightyellow;\n",
       "            color:  #000000;\n",
       "            border-color:  red;\n",
       "            font-family:  Roboto;\n",
       "        }    #T_6e1aed6e_41de_11ea_82c8_acde48001122row0_col38 {\n",
       "            background-color:  lightyellow;\n",
       "            color:  #000000;\n",
       "            border-color:  red;\n",
       "            font-family:  Roboto;\n",
       "        }    #T_6e1aed6e_41de_11ea_82c8_acde48001122row0_col39 {\n",
       "            background-color:  lightyellow;\n",
       "            color:  #000000;\n",
       "            border-color:  red;\n",
       "            font-family:  Roboto;\n",
       "        }    #T_6e1aed6e_41de_11ea_82c8_acde48001122row0_col40 {\n",
       "            background-color:  lightyellow;\n",
       "            color:  #000000;\n",
       "            border-color:  red;\n",
       "            font-family:  Roboto;\n",
       "        }    #T_6e1aed6e_41de_11ea_82c8_acde48001122row0_col41 {\n",
       "            background-color:  lightyellow;\n",
       "            color:  #000000;\n",
       "            border-color:  red;\n",
       "            font-family:  Roboto;\n",
       "        }    #T_6e1aed6e_41de_11ea_82c8_acde48001122row0_col42 {\n",
       "            background-color:  lightyellow;\n",
       "            color:  #000000;\n",
       "            border-color:  red;\n",
       "            font-family:  Roboto;\n",
       "        }    #T_6e1aed6e_41de_11ea_82c8_acde48001122row0_col43 {\n",
       "            background-color:  lightyellow;\n",
       "            color:  #000000;\n",
       "            border-color:  red;\n",
       "            font-family:  Roboto;\n",
       "        }    #T_6e1aed6e_41de_11ea_82c8_acde48001122row0_col44 {\n",
       "            background-color:  lightyellow;\n",
       "            color:  #000000;\n",
       "            border-color:  red;\n",
       "            font-family:  Roboto;\n",
       "        }    #T_6e1aed6e_41de_11ea_82c8_acde48001122row0_col45 {\n",
       "            background-color:  lightyellow;\n",
       "            color:  #000000;\n",
       "            border-color:  red;\n",
       "            font-family:  Roboto;\n",
       "        }    #T_6e1aed6e_41de_11ea_82c8_acde48001122row0_col46 {\n",
       "            background-color:  lightyellow;\n",
       "            color:  #000000;\n",
       "            border-color:  red;\n",
       "            font-family:  Roboto;\n",
       "        }    #T_6e1aed6e_41de_11ea_82c8_acde48001122row0_col47 {\n",
       "            background-color:  lightyellow;\n",
       "            color:  #000000;\n",
       "            border-color:  red;\n",
       "            font-family:  Roboto;\n",
       "        }    #T_6e1aed6e_41de_11ea_82c8_acde48001122row0_col48 {\n",
       "            background-color:  lightyellow;\n",
       "            color:  #000000;\n",
       "            border-color:  red;\n",
       "            font-family:  Roboto;\n",
       "        }    #T_6e1aed6e_41de_11ea_82c8_acde48001122row0_col49 {\n",
       "            background-color:  lightyellow;\n",
       "            color:  #000000;\n",
       "            border-color:  red;\n",
       "            font-family:  Roboto;\n",
       "        }    #T_6e1aed6e_41de_11ea_82c8_acde48001122row0_col50 {\n",
       "            background-color:  lightyellow;\n",
       "            color:  #000000;\n",
       "            border-color:  red;\n",
       "            font-family:  Roboto;\n",
       "        }    #T_6e1aed6e_41de_11ea_82c8_acde48001122row0_col51 {\n",
       "            background-color:  lightyellow;\n",
       "            color:  #000000;\n",
       "            border-color:  red;\n",
       "            font-family:  Roboto;\n",
       "        }    #T_6e1aed6e_41de_11ea_82c8_acde48001122row0_col52 {\n",
       "            background-color:  lightyellow;\n",
       "            color:  #000000;\n",
       "            border-color:  red;\n",
       "            font-family:  Roboto;\n",
       "        }    #T_6e1aed6e_41de_11ea_82c8_acde48001122row0_col53 {\n",
       "            background-color:  lightyellow;\n",
       "            color:  #000000;\n",
       "            border-color:  red;\n",
       "            font-family:  Roboto;\n",
       "        }    #T_6e1aed6e_41de_11ea_82c8_acde48001122row0_col54 {\n",
       "            background-color:  lightyellow;\n",
       "            color:  #000000;\n",
       "            border-color:  red;\n",
       "            font-family:  Roboto;\n",
       "        }    #T_6e1aed6e_41de_11ea_82c8_acde48001122row0_col55 {\n",
       "            background-color:  lightyellow;\n",
       "            color:  #000000;\n",
       "            border-color:  red;\n",
       "            font-family:  Roboto;\n",
       "        }    #T_6e1aed6e_41de_11ea_82c8_acde48001122row0_col56 {\n",
       "            background-color:  lightyellow;\n",
       "            color:  #000000;\n",
       "            border-color:  red;\n",
       "            font-family:  Roboto;\n",
       "        }    #T_6e1aed6e_41de_11ea_82c8_acde48001122row0_col57 {\n",
       "            background-color:  lightyellow;\n",
       "            color:  #000000;\n",
       "            border-color:  red;\n",
       "            font-family:  Roboto;\n",
       "        }    #T_6e1aed6e_41de_11ea_82c8_acde48001122row0_col58 {\n",
       "            background-color:  lightyellow;\n",
       "            color:  #000000;\n",
       "            border-color:  red;\n",
       "            font-family:  Roboto;\n",
       "        }    #T_6e1aed6e_41de_11ea_82c8_acde48001122row0_col59 {\n",
       "            background-color:  lightyellow;\n",
       "            color:  #000000;\n",
       "            border-color:  red;\n",
       "            font-family:  Roboto;\n",
       "        }    #T_6e1aed6e_41de_11ea_82c8_acde48001122row0_col60 {\n",
       "            background-color:  lightyellow;\n",
       "            color:  #000000;\n",
       "            border-color:  red;\n",
       "            font-family:  Roboto;\n",
       "        }    #T_6e1aed6e_41de_11ea_82c8_acde48001122row0_col61 {\n",
       "            background-color:  lightyellow;\n",
       "            color:  #000000;\n",
       "            border-color:  red;\n",
       "            font-family:  Roboto;\n",
       "        }    #T_6e1aed6e_41de_11ea_82c8_acde48001122row0_col62 {\n",
       "            background-color:  lightyellow;\n",
       "            color:  #000000;\n",
       "            border-color:  red;\n",
       "            font-family:  Roboto;\n",
       "        }    #T_6e1aed6e_41de_11ea_82c8_acde48001122row0_col63 {\n",
       "            background-color:  lightyellow;\n",
       "            color:  #000000;\n",
       "            border-color:  red;\n",
       "            font-family:  Roboto;\n",
       "        }    #T_6e1aed6e_41de_11ea_82c8_acde48001122row0_col64 {\n",
       "            background-color:  lightyellow;\n",
       "            color:  #000000;\n",
       "            border-color:  red;\n",
       "            font-family:  Roboto;\n",
       "        }    #T_6e1aed6e_41de_11ea_82c8_acde48001122row0_col65 {\n",
       "            background-color:  lightyellow;\n",
       "            color:  #000000;\n",
       "            border-color:  red;\n",
       "            font-family:  Roboto;\n",
       "        }    #T_6e1aed6e_41de_11ea_82c8_acde48001122row0_col66 {\n",
       "            background-color:  lightyellow;\n",
       "            color:  #000000;\n",
       "            border-color:  red;\n",
       "            font-family:  Roboto;\n",
       "        }    #T_6e1aed6e_41de_11ea_82c8_acde48001122row0_col67 {\n",
       "            background-color:  lightyellow;\n",
       "            color:  #000000;\n",
       "            border-color:  red;\n",
       "            font-family:  Roboto;\n",
       "        }    #T_6e1aed6e_41de_11ea_82c8_acde48001122row0_col68 {\n",
       "            background-color:  lightyellow;\n",
       "            color:  #000000;\n",
       "            border-color:  red;\n",
       "            font-family:  Roboto;\n",
       "        }    #T_6e1aed6e_41de_11ea_82c8_acde48001122row0_col69 {\n",
       "            background-color:  lightyellow;\n",
       "            color:  #000000;\n",
       "            border-color:  red;\n",
       "            font-family:  Roboto;\n",
       "        }    #T_6e1aed6e_41de_11ea_82c8_acde48001122row0_col70 {\n",
       "            background-color:  lightyellow;\n",
       "            color:  #000000;\n",
       "            border-color:  red;\n",
       "            font-family:  Roboto;\n",
       "        }    #T_6e1aed6e_41de_11ea_82c8_acde48001122row0_col71 {\n",
       "            background-color:  lightyellow;\n",
       "            color:  #000000;\n",
       "            border-color:  red;\n",
       "            font-family:  Roboto;\n",
       "        }    #T_6e1aed6e_41de_11ea_82c8_acde48001122row0_col72 {\n",
       "            background-color:  lightyellow;\n",
       "            color:  #000000;\n",
       "            border-color:  red;\n",
       "            font-family:  Roboto;\n",
       "        }    #T_6e1aed6e_41de_11ea_82c8_acde48001122row0_col73 {\n",
       "            background-color:  lightyellow;\n",
       "            color:  #000000;\n",
       "            border-color:  red;\n",
       "            font-family:  Roboto;\n",
       "        }    #T_6e1aed6e_41de_11ea_82c8_acde48001122row0_col74 {\n",
       "            background-color:  lightyellow;\n",
       "            color:  #000000;\n",
       "            border-color:  red;\n",
       "            font-family:  Roboto;\n",
       "        }    #T_6e1aed6e_41de_11ea_82c8_acde48001122row0_col75 {\n",
       "            background-color:  lightyellow;\n",
       "            color:  #000000;\n",
       "            border-color:  red;\n",
       "            font-family:  Roboto;\n",
       "        }    #T_6e1aed6e_41de_11ea_82c8_acde48001122row0_col76 {\n",
       "            background-color:  lightyellow;\n",
       "            color:  #000000;\n",
       "            border-color:  red;\n",
       "            font-family:  Roboto;\n",
       "        }    #T_6e1aed6e_41de_11ea_82c8_acde48001122row0_col77 {\n",
       "            background-color:  lightyellow;\n",
       "            color:  #000000;\n",
       "            border-color:  red;\n",
       "            font-family:  Roboto;\n",
       "        }    #T_6e1aed6e_41de_11ea_82c8_acde48001122row0_col78 {\n",
       "            background-color:  lightyellow;\n",
       "            color:  #000000;\n",
       "            border-color:  red;\n",
       "            font-family:  Roboto;\n",
       "        }    #T_6e1aed6e_41de_11ea_82c8_acde48001122row0_col79 {\n",
       "            background-color:  lightyellow;\n",
       "            color:  #000000;\n",
       "            border-color:  red;\n",
       "            font-family:  Roboto;\n",
       "        }    #T_6e1aed6e_41de_11ea_82c8_acde48001122row0_col80 {\n",
       "            background-color:  lightyellow;\n",
       "            color:  #000000;\n",
       "            border-color:  red;\n",
       "            font-family:  Roboto;\n",
       "        }    #T_6e1aed6e_41de_11ea_82c8_acde48001122row0_col81 {\n",
       "            background-color:  lightyellow;\n",
       "            color:  #000000;\n",
       "            border-color:  red;\n",
       "            font-family:  Roboto;\n",
       "        }    #T_6e1aed6e_41de_11ea_82c8_acde48001122row0_col82 {\n",
       "            background-color:  lightyellow;\n",
       "            color:  #000000;\n",
       "            border-color:  red;\n",
       "            font-family:  Roboto;\n",
       "        }    #T_6e1aed6e_41de_11ea_82c8_acde48001122row0_col83 {\n",
       "            background-color:  lightyellow;\n",
       "            color:  #000000;\n",
       "            border-color:  red;\n",
       "            font-family:  Roboto;\n",
       "        }    #T_6e1aed6e_41de_11ea_82c8_acde48001122row0_col84 {\n",
       "            background-color:  lightyellow;\n",
       "            color:  #000000;\n",
       "            border-color:  red;\n",
       "            font-family:  Roboto;\n",
       "        }    #T_6e1aed6e_41de_11ea_82c8_acde48001122row0_col85 {\n",
       "            background-color:  lightyellow;\n",
       "            color:  #000000;\n",
       "            border-color:  red;\n",
       "            font-family:  Roboto;\n",
       "        }    #T_6e1aed6e_41de_11ea_82c8_acde48001122row0_col86 {\n",
       "            background-color:  lightyellow;\n",
       "            color:  #000000;\n",
       "            border-color:  red;\n",
       "            font-family:  Roboto;\n",
       "        }    #T_6e1aed6e_41de_11ea_82c8_acde48001122row0_col87 {\n",
       "            background-color:  lightyellow;\n",
       "            color:  #000000;\n",
       "            border-color:  red;\n",
       "            font-family:  Roboto;\n",
       "        }    #T_6e1aed6e_41de_11ea_82c8_acde48001122row0_col88 {\n",
       "            background-color:  lightyellow;\n",
       "            color:  #000000;\n",
       "            border-color:  red;\n",
       "            font-family:  Roboto;\n",
       "        }    #T_6e1aed6e_41de_11ea_82c8_acde48001122row0_col89 {\n",
       "            background-color:  lightyellow;\n",
       "            color:  #000000;\n",
       "            border-color:  red;\n",
       "            font-family:  Roboto;\n",
       "        }    #T_6e1aed6e_41de_11ea_82c8_acde48001122row0_col90 {\n",
       "            background-color:  lightyellow;\n",
       "            color:  #000000;\n",
       "            border-color:  red;\n",
       "            font-family:  Roboto;\n",
       "        }    #T_6e1aed6e_41de_11ea_82c8_acde48001122row0_col91 {\n",
       "            background-color:  lightyellow;\n",
       "            color:  #000000;\n",
       "            border-color:  red;\n",
       "            font-family:  Roboto;\n",
       "        }    #T_6e1aed6e_41de_11ea_82c8_acde48001122row0_col92 {\n",
       "            background-color:  lightyellow;\n",
       "            color:  #000000;\n",
       "            border-color:  red;\n",
       "            font-family:  Roboto;\n",
       "        }    #T_6e1aed6e_41de_11ea_82c8_acde48001122row0_col93 {\n",
       "            background-color:  lightyellow;\n",
       "            color:  #000000;\n",
       "            border-color:  red;\n",
       "            font-family:  Roboto;\n",
       "        }    #T_6e1aed6e_41de_11ea_82c8_acde48001122row0_col94 {\n",
       "            background-color:  lightyellow;\n",
       "            color:  #000000;\n",
       "            border-color:  red;\n",
       "            font-family:  Roboto;\n",
       "        }    #T_6e1aed6e_41de_11ea_82c8_acde48001122row0_col95 {\n",
       "            background-color:  lightyellow;\n",
       "            color:  #000000;\n",
       "            border-color:  red;\n",
       "            font-family:  Roboto;\n",
       "        }    #T_6e1aed6e_41de_11ea_82c8_acde48001122row0_col96 {\n",
       "            background-color:  lightyellow;\n",
       "            color:  #000000;\n",
       "            border-color:  red;\n",
       "            font-family:  Roboto;\n",
       "        }    #T_6e1aed6e_41de_11ea_82c8_acde48001122row0_col97 {\n",
       "            background-color:  lightyellow;\n",
       "            color:  #000000;\n",
       "            border-color:  red;\n",
       "            font-family:  Roboto;\n",
       "        }    #T_6e1aed6e_41de_11ea_82c8_acde48001122row0_col98 {\n",
       "            background-color:  lightyellow;\n",
       "            color:  #000000;\n",
       "            border-color:  red;\n",
       "            font-family:  Roboto;\n",
       "        }    #T_6e1aed6e_41de_11ea_82c8_acde48001122row0_col99 {\n",
       "            background-color:  lightyellow;\n",
       "            color:  #000000;\n",
       "            border-color:  red;\n",
       "            font-family:  Roboto;\n",
       "        }    #T_6e1aed6e_41de_11ea_82c8_acde48001122row0_col100 {\n",
       "            background-color:  lightyellow;\n",
       "            color:  #000000;\n",
       "            border-color:  red;\n",
       "            font-family:  Roboto;\n",
       "        }    #T_6e1aed6e_41de_11ea_82c8_acde48001122row0_col101 {\n",
       "            background-color:  lightyellow;\n",
       "            color:  #000000;\n",
       "            border-color:  red;\n",
       "            font-family:  Roboto;\n",
       "        }    #T_6e1aed6e_41de_11ea_82c8_acde48001122row0_col102 {\n",
       "            background-color:  lightyellow;\n",
       "            color:  #000000;\n",
       "            border-color:  red;\n",
       "            font-family:  Roboto;\n",
       "        }    #T_6e1aed6e_41de_11ea_82c8_acde48001122row0_col103 {\n",
       "            background-color:  lightyellow;\n",
       "            color:  #000000;\n",
       "            border-color:  red;\n",
       "            font-family:  Roboto;\n",
       "        }    #T_6e1aed6e_41de_11ea_82c8_acde48001122row0_col104 {\n",
       "            background-color:  lightyellow;\n",
       "            color:  #000000;\n",
       "            border-color:  red;\n",
       "            font-family:  Roboto;\n",
       "        }    #T_6e1aed6e_41de_11ea_82c8_acde48001122row0_col105 {\n",
       "            background-color:  lightyellow;\n",
       "            color:  #000000;\n",
       "            border-color:  red;\n",
       "            font-family:  Roboto;\n",
       "        }    #T_6e1aed6e_41de_11ea_82c8_acde48001122row0_col106 {\n",
       "            background-color:  lightyellow;\n",
       "            color:  #000000;\n",
       "            border-color:  red;\n",
       "            font-family:  Roboto;\n",
       "        }    #T_6e1aed6e_41de_11ea_82c8_acde48001122row0_col107 {\n",
       "            background-color:  lightyellow;\n",
       "            color:  #000000;\n",
       "            border-color:  red;\n",
       "            font-family:  Roboto;\n",
       "        }    #T_6e1aed6e_41de_11ea_82c8_acde48001122row0_col108 {\n",
       "            background-color:  lightyellow;\n",
       "            color:  #000000;\n",
       "            border-color:  red;\n",
       "            font-family:  Roboto;\n",
       "        }    #T_6e1aed6e_41de_11ea_82c8_acde48001122row0_col109 {\n",
       "            background-color:  lightyellow;\n",
       "            color:  #000000;\n",
       "            border-color:  red;\n",
       "            font-family:  Roboto;\n",
       "        }    #T_6e1aed6e_41de_11ea_82c8_acde48001122row0_col110 {\n",
       "            background-color:  lightyellow;\n",
       "            color:  #000000;\n",
       "            border-color:  red;\n",
       "            font-family:  Roboto;\n",
       "        }    #T_6e1aed6e_41de_11ea_82c8_acde48001122row0_col111 {\n",
       "            background-color:  lightyellow;\n",
       "            color:  #000000;\n",
       "            border-color:  red;\n",
       "            font-family:  Roboto;\n",
       "        }    #T_6e1aed6e_41de_11ea_82c8_acde48001122row0_col112 {\n",
       "            background-color:  lightyellow;\n",
       "            color:  #000000;\n",
       "            border-color:  red;\n",
       "            font-family:  Roboto;\n",
       "        }    #T_6e1aed6e_41de_11ea_82c8_acde48001122row0_col113 {\n",
       "            background-color:  lightyellow;\n",
       "            color:  #000000;\n",
       "            border-color:  red;\n",
       "            font-family:  Roboto;\n",
       "        }    #T_6e1aed6e_41de_11ea_82c8_acde48001122row0_col114 {\n",
       "            background-color:  lightyellow;\n",
       "            color:  #000000;\n",
       "            border-color:  red;\n",
       "            font-family:  Roboto;\n",
       "        }    #T_6e1aed6e_41de_11ea_82c8_acde48001122row0_col115 {\n",
       "            background-color:  lightyellow;\n",
       "            color:  #000000;\n",
       "            border-color:  red;\n",
       "            font-family:  Roboto;\n",
       "        }    #T_6e1aed6e_41de_11ea_82c8_acde48001122row0_col116 {\n",
       "            background-color:  lightyellow;\n",
       "            color:  #000000;\n",
       "            border-color:  red;\n",
       "            font-family:  Roboto;\n",
       "        }    #T_6e1aed6e_41de_11ea_82c8_acde48001122row0_col117 {\n",
       "            background-color:  lightyellow;\n",
       "            color:  #000000;\n",
       "            border-color:  red;\n",
       "            font-family:  Roboto;\n",
       "        }    #T_6e1aed6e_41de_11ea_82c8_acde48001122row0_col118 {\n",
       "            background-color:  lightyellow;\n",
       "            color:  #000000;\n",
       "            border-color:  red;\n",
       "            font-family:  Roboto;\n",
       "        }    #T_6e1aed6e_41de_11ea_82c8_acde48001122row0_col119 {\n",
       "            background-color:  lightyellow;\n",
       "            color:  #000000;\n",
       "            border-color:  red;\n",
       "            font-family:  Roboto;\n",
       "        }    #T_6e1aed6e_41de_11ea_82c8_acde48001122row0_col120 {\n",
       "            background-color:  lightyellow;\n",
       "            color:  #000000;\n",
       "            border-color:  red;\n",
       "            font-family:  Roboto;\n",
       "        }    #T_6e1aed6e_41de_11ea_82c8_acde48001122row0_col121 {\n",
       "            background-color:  lightyellow;\n",
       "            color:  #000000;\n",
       "            border-color:  red;\n",
       "            font-family:  Roboto;\n",
       "        }    #T_6e1aed6e_41de_11ea_82c8_acde48001122row0_col122 {\n",
       "            background-color:  lightyellow;\n",
       "            color:  #000000;\n",
       "            border-color:  red;\n",
       "            font-family:  Roboto;\n",
       "        }    #T_6e1aed6e_41de_11ea_82c8_acde48001122row0_col123 {\n",
       "            background-color:  lightyellow;\n",
       "            color:  #000000;\n",
       "            border-color:  red;\n",
       "            font-family:  Roboto;\n",
       "        }    #T_6e1aed6e_41de_11ea_82c8_acde48001122row0_col124 {\n",
       "            background-color:  lightyellow;\n",
       "            color:  #000000;\n",
       "            border-color:  red;\n",
       "            font-family:  Roboto;\n",
       "        }    #T_6e1aed6e_41de_11ea_82c8_acde48001122row0_col125 {\n",
       "            background-color:  lightyellow;\n",
       "            color:  #000000;\n",
       "            border-color:  red;\n",
       "            font-family:  Roboto;\n",
       "        }    #T_6e1aed6e_41de_11ea_82c8_acde48001122row0_col126 {\n",
       "            background-color:  lightyellow;\n",
       "            color:  #000000;\n",
       "            border-color:  red;\n",
       "            font-family:  Roboto;\n",
       "        }    #T_6e1aed6e_41de_11ea_82c8_acde48001122row0_col127 {\n",
       "            background-color:  lightyellow;\n",
       "            color:  #000000;\n",
       "            border-color:  red;\n",
       "            font-family:  Roboto;\n",
       "        }    #T_6e1aed6e_41de_11ea_82c8_acde48001122row0_col128 {\n",
       "            background-color:  lightyellow;\n",
       "            color:  #000000;\n",
       "            border-color:  red;\n",
       "            font-family:  Roboto;\n",
       "        }    #T_6e1aed6e_41de_11ea_82c8_acde48001122row0_col129 {\n",
       "            background-color:  lightyellow;\n",
       "            color:  #000000;\n",
       "            border-color:  red;\n",
       "            font-family:  Roboto;\n",
       "        }    #T_6e1aed6e_41de_11ea_82c8_acde48001122row0_col130 {\n",
       "            background-color:  lightyellow;\n",
       "            color:  #000000;\n",
       "            border-color:  red;\n",
       "            font-family:  Roboto;\n",
       "        }    #T_6e1aed6e_41de_11ea_82c8_acde48001122row0_col131 {\n",
       "            background-color:  lightyellow;\n",
       "            color:  #000000;\n",
       "            border-color:  red;\n",
       "            font-family:  Roboto;\n",
       "        }    #T_6e1aed6e_41de_11ea_82c8_acde48001122row0_col132 {\n",
       "            background-color:  lightyellow;\n",
       "            color:  #000000;\n",
       "            border-color:  red;\n",
       "            font-family:  Roboto;\n",
       "        }    #T_6e1aed6e_41de_11ea_82c8_acde48001122row0_col133 {\n",
       "            background-color:  lightyellow;\n",
       "            color:  #000000;\n",
       "            border-color:  red;\n",
       "            font-family:  Roboto;\n",
       "        }    #T_6e1aed6e_41de_11ea_82c8_acde48001122row0_col134 {\n",
       "            background-color:  lightyellow;\n",
       "            color:  #000000;\n",
       "            border-color:  red;\n",
       "            font-family:  Roboto;\n",
       "        }    #T_6e1aed6e_41de_11ea_82c8_acde48001122row0_col135 {\n",
       "            background-color:  lightyellow;\n",
       "            color:  #000000;\n",
       "            border-color:  red;\n",
       "            font-family:  Roboto;\n",
       "        }    #T_6e1aed6e_41de_11ea_82c8_acde48001122row0_col136 {\n",
       "            background-color:  lightyellow;\n",
       "            color:  #000000;\n",
       "            border-color:  red;\n",
       "            font-family:  Roboto;\n",
       "        }    #T_6e1aed6e_41de_11ea_82c8_acde48001122row0_col137 {\n",
       "            background-color:  lightyellow;\n",
       "            color:  #000000;\n",
       "            border-color:  red;\n",
       "            font-family:  Roboto;\n",
       "        }    #T_6e1aed6e_41de_11ea_82c8_acde48001122row0_col138 {\n",
       "            background-color:  lightyellow;\n",
       "            color:  #000000;\n",
       "            border-color:  red;\n",
       "            font-family:  Roboto;\n",
       "        }    #T_6e1aed6e_41de_11ea_82c8_acde48001122row0_col139 {\n",
       "            background-color:  lightyellow;\n",
       "            color:  #000000;\n",
       "            border-color:  red;\n",
       "            font-family:  Roboto;\n",
       "        }    #T_6e1aed6e_41de_11ea_82c8_acde48001122row0_col140 {\n",
       "            background-color:  lightyellow;\n",
       "            color:  #000000;\n",
       "            border-color:  red;\n",
       "            font-family:  Roboto;\n",
       "        }    #T_6e1aed6e_41de_11ea_82c8_acde48001122row0_col141 {\n",
       "            background-color:  lightyellow;\n",
       "            color:  #000000;\n",
       "            border-color:  red;\n",
       "            font-family:  Roboto;\n",
       "        }    #T_6e1aed6e_41de_11ea_82c8_acde48001122row0_col142 {\n",
       "            background-color:  lightyellow;\n",
       "            color:  #000000;\n",
       "            border-color:  red;\n",
       "            font-family:  Roboto;\n",
       "        }    #T_6e1aed6e_41de_11ea_82c8_acde48001122row0_col143 {\n",
       "            background-color:  lightyellow;\n",
       "            color:  #000000;\n",
       "            border-color:  red;\n",
       "            font-family:  Roboto;\n",
       "        }    #T_6e1aed6e_41de_11ea_82c8_acde48001122row0_col144 {\n",
       "            background-color:  lightyellow;\n",
       "            color:  #000000;\n",
       "            border-color:  red;\n",
       "            font-family:  Roboto;\n",
       "        }    #T_6e1aed6e_41de_11ea_82c8_acde48001122row0_col145 {\n",
       "            background-color:  lightyellow;\n",
       "            color:  #000000;\n",
       "            border-color:  red;\n",
       "            font-family:  Roboto;\n",
       "        }    #T_6e1aed6e_41de_11ea_82c8_acde48001122row0_col146 {\n",
       "            background-color:  lightyellow;\n",
       "            color:  #000000;\n",
       "            border-color:  red;\n",
       "            font-family:  Roboto;\n",
       "        }    #T_6e1aed6e_41de_11ea_82c8_acde48001122row0_col147 {\n",
       "            background-color:  lightyellow;\n",
       "            color:  #000000;\n",
       "            border-color:  red;\n",
       "            font-family:  Roboto;\n",
       "        }    #T_6e1aed6e_41de_11ea_82c8_acde48001122row0_col148 {\n",
       "            background-color:  lightyellow;\n",
       "            color:  #000000;\n",
       "            border-color:  red;\n",
       "            font-family:  Roboto;\n",
       "        }    #T_6e1aed6e_41de_11ea_82c8_acde48001122row0_col149 {\n",
       "            background-color:  lightyellow;\n",
       "            color:  #000000;\n",
       "            border-color:  red;\n",
       "            font-family:  Roboto;\n",
       "        }    #T_6e1aed6e_41de_11ea_82c8_acde48001122row0_col150 {\n",
       "            background-color:  lightyellow;\n",
       "            color:  #000000;\n",
       "            border-color:  red;\n",
       "            font-family:  Roboto;\n",
       "        }    #T_6e1aed6e_41de_11ea_82c8_acde48001122row0_col151 {\n",
       "            background-color:  lightyellow;\n",
       "            color:  #000000;\n",
       "            border-color:  red;\n",
       "            font-family:  Roboto;\n",
       "        }    #T_6e1aed6e_41de_11ea_82c8_acde48001122row0_col152 {\n",
       "            background-color:  lightyellow;\n",
       "            color:  #000000;\n",
       "            border-color:  red;\n",
       "            font-family:  Roboto;\n",
       "        }    #T_6e1aed6e_41de_11ea_82c8_acde48001122row0_col153 {\n",
       "            background-color:  lightyellow;\n",
       "            color:  #000000;\n",
       "            border-color:  red;\n",
       "            font-family:  Roboto;\n",
       "        }    #T_6e1aed6e_41de_11ea_82c8_acde48001122row0_col154 {\n",
       "            background-color:  lightyellow;\n",
       "            color:  #000000;\n",
       "            border-color:  red;\n",
       "            font-family:  Roboto;\n",
       "        }    #T_6e1aed6e_41de_11ea_82c8_acde48001122row0_col155 {\n",
       "            background-color:  lightyellow;\n",
       "            color:  #000000;\n",
       "            border-color:  red;\n",
       "            font-family:  Roboto;\n",
       "        }    #T_6e1aed6e_41de_11ea_82c8_acde48001122row0_col156 {\n",
       "            background-color:  lightyellow;\n",
       "            color:  #000000;\n",
       "            border-color:  red;\n",
       "            font-family:  Roboto;\n",
       "        }    #T_6e1aed6e_41de_11ea_82c8_acde48001122row0_col157 {\n",
       "            background-color:  lightyellow;\n",
       "            color:  #000000;\n",
       "            border-color:  red;\n",
       "            font-family:  Roboto;\n",
       "        }    #T_6e1aed6e_41de_11ea_82c8_acde48001122row0_col158 {\n",
       "            background-color:  lightyellow;\n",
       "            color:  #000000;\n",
       "            border-color:  red;\n",
       "            font-family:  Roboto;\n",
       "        }    #T_6e1aed6e_41de_11ea_82c8_acde48001122row0_col159 {\n",
       "            background-color:  lightyellow;\n",
       "            color:  #000000;\n",
       "            border-color:  red;\n",
       "            font-family:  Roboto;\n",
       "        }    #T_6e1aed6e_41de_11ea_82c8_acde48001122row0_col160 {\n",
       "            background-color:  lightyellow;\n",
       "            color:  #000000;\n",
       "            border-color:  red;\n",
       "            font-family:  Roboto;\n",
       "        }    #T_6e1aed6e_41de_11ea_82c8_acde48001122row0_col161 {\n",
       "            background-color:  lightyellow;\n",
       "            color:  #000000;\n",
       "            border-color:  red;\n",
       "            font-family:  Roboto;\n",
       "        }    #T_6e1aed6e_41de_11ea_82c8_acde48001122row0_col162 {\n",
       "            background-color:  lightyellow;\n",
       "            color:  #000000;\n",
       "            border-color:  red;\n",
       "            font-family:  Roboto;\n",
       "        }    #T_6e1aed6e_41de_11ea_82c8_acde48001122row0_col163 {\n",
       "            background-color:  lightyellow;\n",
       "            color:  #000000;\n",
       "            border-color:  red;\n",
       "            font-family:  Roboto;\n",
       "        }    #T_6e1aed6e_41de_11ea_82c8_acde48001122row0_col164 {\n",
       "            background-color:  lightyellow;\n",
       "            color:  #000000;\n",
       "            border-color:  red;\n",
       "            font-family:  Roboto;\n",
       "        }    #T_6e1aed6e_41de_11ea_82c8_acde48001122row0_col165 {\n",
       "            background-color:  lightyellow;\n",
       "            color:  #000000;\n",
       "            border-color:  red;\n",
       "            font-family:  Roboto;\n",
       "        }    #T_6e1aed6e_41de_11ea_82c8_acde48001122row0_col166 {\n",
       "            background-color:  lightyellow;\n",
       "            color:  #000000;\n",
       "            border-color:  red;\n",
       "            font-family:  Roboto;\n",
       "        }    #T_6e1aed6e_41de_11ea_82c8_acde48001122row0_col167 {\n",
       "            background-color:  lightyellow;\n",
       "            color:  #000000;\n",
       "            border-color:  red;\n",
       "            font-family:  Roboto;\n",
       "        }    #T_6e1aed6e_41de_11ea_82c8_acde48001122row0_col168 {\n",
       "            background-color:  lightyellow;\n",
       "            color:  #000000;\n",
       "            border-color:  red;\n",
       "            font-family:  Roboto;\n",
       "        }    #T_6e1aed6e_41de_11ea_82c8_acde48001122row0_col169 {\n",
       "            background-color:  lightyellow;\n",
       "            color:  #000000;\n",
       "            border-color:  red;\n",
       "            font-family:  Roboto;\n",
       "        }    #T_6e1aed6e_41de_11ea_82c8_acde48001122row0_col170 {\n",
       "            background-color:  lightyellow;\n",
       "            color:  #000000;\n",
       "            border-color:  red;\n",
       "            font-family:  Roboto;\n",
       "        }    #T_6e1aed6e_41de_11ea_82c8_acde48001122row0_col171 {\n",
       "            background-color:  lightyellow;\n",
       "            color:  #000000;\n",
       "            border-color:  red;\n",
       "            font-family:  Roboto;\n",
       "        }    #T_6e1aed6e_41de_11ea_82c8_acde48001122row0_col172 {\n",
       "            background-color:  lightyellow;\n",
       "            color:  #000000;\n",
       "            border-color:  red;\n",
       "            font-family:  Roboto;\n",
       "        }    #T_6e1aed6e_41de_11ea_82c8_acde48001122row0_col173 {\n",
       "            background-color:  lightyellow;\n",
       "            color:  #000000;\n",
       "            border-color:  red;\n",
       "            font-family:  Roboto;\n",
       "        }    #T_6e1aed6e_41de_11ea_82c8_acde48001122row0_col174 {\n",
       "            background-color:  lightyellow;\n",
       "            color:  #000000;\n",
       "            border-color:  red;\n",
       "            font-family:  Roboto;\n",
       "        }    #T_6e1aed6e_41de_11ea_82c8_acde48001122row0_col175 {\n",
       "            background-color:  lightyellow;\n",
       "            color:  #000000;\n",
       "            border-color:  red;\n",
       "            font-family:  Roboto;\n",
       "        }    #T_6e1aed6e_41de_11ea_82c8_acde48001122row0_col176 {\n",
       "            background-color:  lightyellow;\n",
       "            color:  #000000;\n",
       "            border-color:  red;\n",
       "            font-family:  Roboto;\n",
       "        }    #T_6e1aed6e_41de_11ea_82c8_acde48001122row0_col177 {\n",
       "            background-color:  lightyellow;\n",
       "            color:  #000000;\n",
       "            border-color:  red;\n",
       "            font-family:  Roboto;\n",
       "        }    #T_6e1aed6e_41de_11ea_82c8_acde48001122row0_col178 {\n",
       "            background-color:  lightyellow;\n",
       "            color:  #000000;\n",
       "            border-color:  red;\n",
       "            font-family:  Roboto;\n",
       "        }    #T_6e1aed6e_41de_11ea_82c8_acde48001122row0_col179 {\n",
       "            background-color:  lightyellow;\n",
       "            color:  #000000;\n",
       "            border-color:  red;\n",
       "            font-family:  Roboto;\n",
       "        }    #T_6e1aed6e_41de_11ea_82c8_acde48001122row0_col180 {\n",
       "            background-color:  lightyellow;\n",
       "            color:  #000000;\n",
       "            border-color:  red;\n",
       "            font-family:  Roboto;\n",
       "        }    #T_6e1aed6e_41de_11ea_82c8_acde48001122row0_col181 {\n",
       "            background-color:  lightyellow;\n",
       "            color:  #000000;\n",
       "            border-color:  red;\n",
       "            font-family:  Roboto;\n",
       "        }    #T_6e1aed6e_41de_11ea_82c8_acde48001122row0_col182 {\n",
       "            background-color:  lightyellow;\n",
       "            color:  #000000;\n",
       "            border-color:  red;\n",
       "            font-family:  Roboto;\n",
       "        }    #T_6e1aed6e_41de_11ea_82c8_acde48001122row0_col183 {\n",
       "            background-color:  lightyellow;\n",
       "            color:  #000000;\n",
       "            border-color:  red;\n",
       "            font-family:  Roboto;\n",
       "        }    #T_6e1aed6e_41de_11ea_82c8_acde48001122row0_col184 {\n",
       "            background-color:  lightyellow;\n",
       "            color:  #000000;\n",
       "            border-color:  red;\n",
       "            font-family:  Roboto;\n",
       "        }    #T_6e1aed6e_41de_11ea_82c8_acde48001122row0_col185 {\n",
       "            background-color:  lightyellow;\n",
       "            color:  #000000;\n",
       "            border-color:  red;\n",
       "            font-family:  Roboto;\n",
       "        }    #T_6e1aed6e_41de_11ea_82c8_acde48001122row0_col186 {\n",
       "            background-color:  lightyellow;\n",
       "            color:  #000000;\n",
       "            border-color:  red;\n",
       "            font-family:  Roboto;\n",
       "        }    #T_6e1aed6e_41de_11ea_82c8_acde48001122row0_col187 {\n",
       "            background-color:  lightyellow;\n",
       "            color:  #000000;\n",
       "            border-color:  red;\n",
       "            font-family:  Roboto;\n",
       "        }    #T_6e1aed6e_41de_11ea_82c8_acde48001122row0_col188 {\n",
       "            background-color:  lightyellow;\n",
       "            color:  #000000;\n",
       "            border-color:  red;\n",
       "            font-family:  Roboto;\n",
       "        }    #T_6e1aed6e_41de_11ea_82c8_acde48001122row0_col189 {\n",
       "            background-color:  lightyellow;\n",
       "            color:  #000000;\n",
       "            border-color:  red;\n",
       "            font-family:  Roboto;\n",
       "        }    #T_6e1aed6e_41de_11ea_82c8_acde48001122row0_col190 {\n",
       "            background-color:  lightyellow;\n",
       "            color:  #000000;\n",
       "            border-color:  red;\n",
       "            font-family:  Roboto;\n",
       "        }    #T_6e1aed6e_41de_11ea_82c8_acde48001122row0_col191 {\n",
       "            background-color:  lightyellow;\n",
       "            color:  #000000;\n",
       "            border-color:  red;\n",
       "            font-family:  Roboto;\n",
       "        }    #T_6e1aed6e_41de_11ea_82c8_acde48001122row0_col192 {\n",
       "            background-color:  lightyellow;\n",
       "            color:  #000000;\n",
       "            border-color:  red;\n",
       "            font-family:  Roboto;\n",
       "        }    #T_6e1aed6e_41de_11ea_82c8_acde48001122row0_col193 {\n",
       "            background-color:  lightyellow;\n",
       "            color:  #000000;\n",
       "            border-color:  red;\n",
       "            font-family:  Roboto;\n",
       "        }    #T_6e1aed6e_41de_11ea_82c8_acde48001122row0_col194 {\n",
       "            background-color:  lightyellow;\n",
       "            color:  #000000;\n",
       "            border-color:  red;\n",
       "            font-family:  Roboto;\n",
       "        }    #T_6e1aed6e_41de_11ea_82c8_acde48001122row0_col195 {\n",
       "            background-color:  lightyellow;\n",
       "            color:  #000000;\n",
       "            border-color:  red;\n",
       "            font-family:  Roboto;\n",
       "        }    #T_6e1aed6e_41de_11ea_82c8_acde48001122row0_col196 {\n",
       "            background-color:  lightyellow;\n",
       "            color:  #000000;\n",
       "            border-color:  red;\n",
       "            font-family:  Roboto;\n",
       "        }    #T_6e1aed6e_41de_11ea_82c8_acde48001122row0_col197 {\n",
       "            background-color:  lightyellow;\n",
       "            color:  #000000;\n",
       "            border-color:  red;\n",
       "            font-family:  Roboto;\n",
       "        }    #T_6e1aed6e_41de_11ea_82c8_acde48001122row0_col198 {\n",
       "            background-color:  lightyellow;\n",
       "            color:  #000000;\n",
       "            border-color:  red;\n",
       "            font-family:  Roboto;\n",
       "        }    #T_6e1aed6e_41de_11ea_82c8_acde48001122row0_col199 {\n",
       "            background-color:  lightyellow;\n",
       "            color:  #000000;\n",
       "            border-color:  red;\n",
       "            font-family:  Roboto;\n",
       "        }    #T_6e1aed6e_41de_11ea_82c8_acde48001122row0_col200 {\n",
       "            background-color:  lightyellow;\n",
       "            color:  #000000;\n",
       "            border-color:  red;\n",
       "            font-family:  Roboto;\n",
       "        }    #T_6e1aed6e_41de_11ea_82c8_acde48001122row0_col201 {\n",
       "            background-color:  lightyellow;\n",
       "            color:  #000000;\n",
       "            border-color:  red;\n",
       "            font-family:  Roboto;\n",
       "        }    #T_6e1aed6e_41de_11ea_82c8_acde48001122row0_col202 {\n",
       "            background-color:  lightyellow;\n",
       "            color:  #000000;\n",
       "            border-color:  red;\n",
       "            font-family:  Roboto;\n",
       "        }    #T_6e1aed6e_41de_11ea_82c8_acde48001122row0_col203 {\n",
       "            background-color:  lightyellow;\n",
       "            color:  #000000;\n",
       "            border-color:  red;\n",
       "            font-family:  Roboto;\n",
       "        }    #T_6e1aed6e_41de_11ea_82c8_acde48001122row0_col204 {\n",
       "            background-color:  lightyellow;\n",
       "            color:  #000000;\n",
       "            border-color:  red;\n",
       "            font-family:  Roboto;\n",
       "        }    #T_6e1aed6e_41de_11ea_82c8_acde48001122row0_col205 {\n",
       "            background-color:  lightyellow;\n",
       "            color:  #000000;\n",
       "            border-color:  red;\n",
       "            font-family:  Roboto;\n",
       "        }    #T_6e1aed6e_41de_11ea_82c8_acde48001122row0_col206 {\n",
       "            background-color:  lightyellow;\n",
       "            color:  #000000;\n",
       "            border-color:  red;\n",
       "            font-family:  Roboto;\n",
       "        }    #T_6e1aed6e_41de_11ea_82c8_acde48001122row0_col207 {\n",
       "            background-color:  lightyellow;\n",
       "            color:  #000000;\n",
       "            border-color:  red;\n",
       "            font-family:  Roboto;\n",
       "        }    #T_6e1aed6e_41de_11ea_82c8_acde48001122row0_col208 {\n",
       "            background-color:  lightyellow;\n",
       "            color:  #000000;\n",
       "            border-color:  red;\n",
       "            font-family:  Roboto;\n",
       "        }    #T_6e1aed6e_41de_11ea_82c8_acde48001122row0_col209 {\n",
       "            background-color:  lightyellow;\n",
       "            color:  #000000;\n",
       "            border-color:  red;\n",
       "            font-family:  Roboto;\n",
       "        }    #T_6e1aed6e_41de_11ea_82c8_acde48001122row0_col210 {\n",
       "            background-color:  lightyellow;\n",
       "            color:  #000000;\n",
       "            border-color:  red;\n",
       "            font-family:  Roboto;\n",
       "        }    #T_6e1aed6e_41de_11ea_82c8_acde48001122row0_col211 {\n",
       "            background-color:  lightyellow;\n",
       "            color:  #000000;\n",
       "            border-color:  red;\n",
       "            font-family:  Roboto;\n",
       "        }    #T_6e1aed6e_41de_11ea_82c8_acde48001122row0_col212 {\n",
       "            background-color:  lightyellow;\n",
       "            color:  #000000;\n",
       "            border-color:  red;\n",
       "            font-family:  Roboto;\n",
       "        }    #T_6e1aed6e_41de_11ea_82c8_acde48001122row0_col213 {\n",
       "            background-color:  lightyellow;\n",
       "            color:  #000000;\n",
       "            border-color:  red;\n",
       "            font-family:  Roboto;\n",
       "        }    #T_6e1aed6e_41de_11ea_82c8_acde48001122row0_col214 {\n",
       "            background-color:  lightyellow;\n",
       "            color:  #000000;\n",
       "            border-color:  red;\n",
       "            font-family:  Roboto;\n",
       "        }    #T_6e1aed6e_41de_11ea_82c8_acde48001122row0_col215 {\n",
       "            background-color:  lightyellow;\n",
       "            color:  #000000;\n",
       "            border-color:  red;\n",
       "            font-family:  Roboto;\n",
       "        }    #T_6e1aed6e_41de_11ea_82c8_acde48001122row0_col216 {\n",
       "            background-color:  lightyellow;\n",
       "            color:  #000000;\n",
       "            border-color:  red;\n",
       "            font-family:  Roboto;\n",
       "        }    #T_6e1aed6e_41de_11ea_82c8_acde48001122row0_col217 {\n",
       "            background-color:  lightyellow;\n",
       "            color:  #000000;\n",
       "            border-color:  red;\n",
       "            font-family:  Roboto;\n",
       "        }    #T_6e1aed6e_41de_11ea_82c8_acde48001122row0_col218 {\n",
       "            background-color:  lightyellow;\n",
       "            color:  #000000;\n",
       "            border-color:  red;\n",
       "            font-family:  Roboto;\n",
       "        }    #T_6e1aed6e_41de_11ea_82c8_acde48001122row0_col219 {\n",
       "            background-color:  lightyellow;\n",
       "            color:  #000000;\n",
       "            border-color:  red;\n",
       "            font-family:  Roboto;\n",
       "        }    #T_6e1aed6e_41de_11ea_82c8_acde48001122row0_col220 {\n",
       "            background-color:  lightyellow;\n",
       "            color:  #000000;\n",
       "            border-color:  red;\n",
       "            font-family:  Roboto;\n",
       "        }    #T_6e1aed6e_41de_11ea_82c8_acde48001122row0_col221 {\n",
       "            background-color:  lightyellow;\n",
       "            color:  #000000;\n",
       "            border-color:  red;\n",
       "            font-family:  Roboto;\n",
       "        }    #T_6e1aed6e_41de_11ea_82c8_acde48001122row1_col0 {\n",
       "            background-color:  lightyellow;\n",
       "            color:  #000000;\n",
       "            border-color:  red;\n",
       "            font-family:  Roboto;\n",
       "        }    #T_6e1aed6e_41de_11ea_82c8_acde48001122row1_col1 {\n",
       "            background-color:  lightyellow;\n",
       "            color:  #000000;\n",
       "            border-color:  red;\n",
       "            font-family:  Roboto;\n",
       "        }    #T_6e1aed6e_41de_11ea_82c8_acde48001122row1_col2 {\n",
       "            background-color:  lightyellow;\n",
       "            color:  #000000;\n",
       "            border-color:  red;\n",
       "            font-family:  Roboto;\n",
       "        }    #T_6e1aed6e_41de_11ea_82c8_acde48001122row1_col3 {\n",
       "            background-color:  lightyellow;\n",
       "            color:  #000000;\n",
       "            border-color:  red;\n",
       "            font-family:  Roboto;\n",
       "        }    #T_6e1aed6e_41de_11ea_82c8_acde48001122row1_col4 {\n",
       "            background-color:  lightyellow;\n",
       "            color:  #000000;\n",
       "            border-color:  red;\n",
       "            font-family:  Roboto;\n",
       "        }    #T_6e1aed6e_41de_11ea_82c8_acde48001122row1_col5 {\n",
       "            background-color:  lightyellow;\n",
       "            color:  #000000;\n",
       "            border-color:  red;\n",
       "            font-family:  Roboto;\n",
       "        }    #T_6e1aed6e_41de_11ea_82c8_acde48001122row1_col6 {\n",
       "            background-color:  lightyellow;\n",
       "            color:  #000000;\n",
       "            border-color:  red;\n",
       "            font-family:  Roboto;\n",
       "        }    #T_6e1aed6e_41de_11ea_82c8_acde48001122row1_col7 {\n",
       "            background-color:  lightyellow;\n",
       "            color:  #000000;\n",
       "            border-color:  red;\n",
       "            font-family:  Roboto;\n",
       "        }    #T_6e1aed6e_41de_11ea_82c8_acde48001122row1_col8 {\n",
       "            background-color:  lightyellow;\n",
       "            color:  #000000;\n",
       "            border-color:  red;\n",
       "            font-family:  Roboto;\n",
       "        }    #T_6e1aed6e_41de_11ea_82c8_acde48001122row1_col9 {\n",
       "            background-color:  lightyellow;\n",
       "            color:  #000000;\n",
       "            border-color:  red;\n",
       "            font-family:  Roboto;\n",
       "        }    #T_6e1aed6e_41de_11ea_82c8_acde48001122row1_col10 {\n",
       "            background-color:  lightyellow;\n",
       "            color:  #000000;\n",
       "            border-color:  red;\n",
       "            font-family:  Roboto;\n",
       "        }    #T_6e1aed6e_41de_11ea_82c8_acde48001122row1_col11 {\n",
       "            background-color:  lightyellow;\n",
       "            color:  #000000;\n",
       "            border-color:  red;\n",
       "            font-family:  Roboto;\n",
       "        }    #T_6e1aed6e_41de_11ea_82c8_acde48001122row1_col12 {\n",
       "            background-color:  lightyellow;\n",
       "            color:  #000000;\n",
       "            border-color:  red;\n",
       "            font-family:  Roboto;\n",
       "        }    #T_6e1aed6e_41de_11ea_82c8_acde48001122row1_col13 {\n",
       "            background-color:  lightyellow;\n",
       "            color:  #000000;\n",
       "            border-color:  red;\n",
       "            font-family:  Roboto;\n",
       "        }    #T_6e1aed6e_41de_11ea_82c8_acde48001122row1_col14 {\n",
       "            background-color:  lightyellow;\n",
       "            color:  #000000;\n",
       "            border-color:  red;\n",
       "            font-family:  Roboto;\n",
       "        }    #T_6e1aed6e_41de_11ea_82c8_acde48001122row1_col15 {\n",
       "            background-color:  lightyellow;\n",
       "            color:  #000000;\n",
       "            border-color:  red;\n",
       "            font-family:  Roboto;\n",
       "        }    #T_6e1aed6e_41de_11ea_82c8_acde48001122row1_col16 {\n",
       "            background-color:  lightyellow;\n",
       "            color:  #000000;\n",
       "            border-color:  red;\n",
       "            font-family:  Roboto;\n",
       "        }    #T_6e1aed6e_41de_11ea_82c8_acde48001122row1_col17 {\n",
       "            background-color:  lightyellow;\n",
       "            color:  #000000;\n",
       "            border-color:  red;\n",
       "            font-family:  Roboto;\n",
       "        }    #T_6e1aed6e_41de_11ea_82c8_acde48001122row1_col18 {\n",
       "            background-color:  lightyellow;\n",
       "            color:  #000000;\n",
       "            border-color:  red;\n",
       "            font-family:  Roboto;\n",
       "        }    #T_6e1aed6e_41de_11ea_82c8_acde48001122row1_col19 {\n",
       "            background-color:  lightyellow;\n",
       "            color:  #000000;\n",
       "            border-color:  red;\n",
       "            font-family:  Roboto;\n",
       "        }    #T_6e1aed6e_41de_11ea_82c8_acde48001122row1_col20 {\n",
       "            background-color:  lightyellow;\n",
       "            color:  #000000;\n",
       "            border-color:  red;\n",
       "            font-family:  Roboto;\n",
       "        }    #T_6e1aed6e_41de_11ea_82c8_acde48001122row1_col21 {\n",
       "            background-color:  lightyellow;\n",
       "            color:  #000000;\n",
       "            border-color:  red;\n",
       "            font-family:  Roboto;\n",
       "        }    #T_6e1aed6e_41de_11ea_82c8_acde48001122row1_col22 {\n",
       "            background-color:  lightyellow;\n",
       "            color:  #000000;\n",
       "            border-color:  red;\n",
       "            font-family:  Roboto;\n",
       "        }    #T_6e1aed6e_41de_11ea_82c8_acde48001122row1_col23 {\n",
       "            background-color:  lightyellow;\n",
       "            color:  #000000;\n",
       "            border-color:  red;\n",
       "            font-family:  Roboto;\n",
       "        }    #T_6e1aed6e_41de_11ea_82c8_acde48001122row1_col24 {\n",
       "            background-color:  lightyellow;\n",
       "            color:  #000000;\n",
       "            border-color:  red;\n",
       "            font-family:  Roboto;\n",
       "        }    #T_6e1aed6e_41de_11ea_82c8_acde48001122row1_col25 {\n",
       "            background-color:  lightyellow;\n",
       "            color:  #000000;\n",
       "            border-color:  red;\n",
       "            font-family:  Roboto;\n",
       "        }    #T_6e1aed6e_41de_11ea_82c8_acde48001122row1_col26 {\n",
       "            background-color:  lightyellow;\n",
       "            color:  #000000;\n",
       "            border-color:  red;\n",
       "            font-family:  Roboto;\n",
       "        }    #T_6e1aed6e_41de_11ea_82c8_acde48001122row1_col27 {\n",
       "            background-color:  lightyellow;\n",
       "            color:  #000000;\n",
       "            border-color:  red;\n",
       "            font-family:  Roboto;\n",
       "        }    #T_6e1aed6e_41de_11ea_82c8_acde48001122row1_col28 {\n",
       "            background-color:  lightyellow;\n",
       "            color:  #000000;\n",
       "            border-color:  red;\n",
       "            font-family:  Roboto;\n",
       "        }    #T_6e1aed6e_41de_11ea_82c8_acde48001122row1_col29 {\n",
       "            background-color:  lightyellow;\n",
       "            color:  #000000;\n",
       "            border-color:  red;\n",
       "            font-family:  Roboto;\n",
       "        }    #T_6e1aed6e_41de_11ea_82c8_acde48001122row1_col30 {\n",
       "            background-color:  lightyellow;\n",
       "            color:  #000000;\n",
       "            border-color:  red;\n",
       "            font-family:  Roboto;\n",
       "        }    #T_6e1aed6e_41de_11ea_82c8_acde48001122row1_col31 {\n",
       "            background-color:  lightyellow;\n",
       "            color:  #000000;\n",
       "            border-color:  red;\n",
       "            font-family:  Roboto;\n",
       "        }    #T_6e1aed6e_41de_11ea_82c8_acde48001122row1_col32 {\n",
       "            background-color:  lightyellow;\n",
       "            color:  #000000;\n",
       "            border-color:  red;\n",
       "            font-family:  Roboto;\n",
       "        }    #T_6e1aed6e_41de_11ea_82c8_acde48001122row1_col33 {\n",
       "            background-color:  lightyellow;\n",
       "            color:  #000000;\n",
       "            border-color:  red;\n",
       "            font-family:  Roboto;\n",
       "        }    #T_6e1aed6e_41de_11ea_82c8_acde48001122row1_col34 {\n",
       "            background-color:  lightyellow;\n",
       "            color:  #000000;\n",
       "            border-color:  red;\n",
       "            font-family:  Roboto;\n",
       "        }    #T_6e1aed6e_41de_11ea_82c8_acde48001122row1_col35 {\n",
       "            background-color:  lightyellow;\n",
       "            color:  #000000;\n",
       "            border-color:  red;\n",
       "            font-family:  Roboto;\n",
       "        }    #T_6e1aed6e_41de_11ea_82c8_acde48001122row1_col36 {\n",
       "            background-color:  lightyellow;\n",
       "            color:  #000000;\n",
       "            border-color:  red;\n",
       "            font-family:  Roboto;\n",
       "        }    #T_6e1aed6e_41de_11ea_82c8_acde48001122row1_col37 {\n",
       "            background-color:  lightyellow;\n",
       "            color:  #000000;\n",
       "            border-color:  red;\n",
       "            font-family:  Roboto;\n",
       "        }    #T_6e1aed6e_41de_11ea_82c8_acde48001122row1_col38 {\n",
       "            background-color:  lightyellow;\n",
       "            color:  #000000;\n",
       "            border-color:  red;\n",
       "            font-family:  Roboto;\n",
       "        }    #T_6e1aed6e_41de_11ea_82c8_acde48001122row1_col39 {\n",
       "            background-color:  lightyellow;\n",
       "            color:  #000000;\n",
       "            border-color:  red;\n",
       "            font-family:  Roboto;\n",
       "        }    #T_6e1aed6e_41de_11ea_82c8_acde48001122row1_col40 {\n",
       "            background-color:  lightyellow;\n",
       "            color:  #000000;\n",
       "            border-color:  red;\n",
       "            font-family:  Roboto;\n",
       "        }    #T_6e1aed6e_41de_11ea_82c8_acde48001122row1_col41 {\n",
       "            background-color:  lightyellow;\n",
       "            color:  #000000;\n",
       "            border-color:  red;\n",
       "            font-family:  Roboto;\n",
       "        }    #T_6e1aed6e_41de_11ea_82c8_acde48001122row1_col42 {\n",
       "            background-color:  lightyellow;\n",
       "            color:  #000000;\n",
       "            border-color:  red;\n",
       "            font-family:  Roboto;\n",
       "        }    #T_6e1aed6e_41de_11ea_82c8_acde48001122row1_col43 {\n",
       "            background-color:  lightyellow;\n",
       "            color:  #000000;\n",
       "            border-color:  red;\n",
       "            font-family:  Roboto;\n",
       "        }    #T_6e1aed6e_41de_11ea_82c8_acde48001122row1_col44 {\n",
       "            background-color:  lightyellow;\n",
       "            color:  #000000;\n",
       "            border-color:  red;\n",
       "            font-family:  Roboto;\n",
       "        }    #T_6e1aed6e_41de_11ea_82c8_acde48001122row1_col45 {\n",
       "            background-color:  lightyellow;\n",
       "            color:  #000000;\n",
       "            border-color:  red;\n",
       "            font-family:  Roboto;\n",
       "        }    #T_6e1aed6e_41de_11ea_82c8_acde48001122row1_col46 {\n",
       "            background-color:  lightyellow;\n",
       "            color:  #000000;\n",
       "            border-color:  red;\n",
       "            font-family:  Roboto;\n",
       "        }    #T_6e1aed6e_41de_11ea_82c8_acde48001122row1_col47 {\n",
       "            background-color:  lightyellow;\n",
       "            color:  #000000;\n",
       "            border-color:  red;\n",
       "            font-family:  Roboto;\n",
       "        }    #T_6e1aed6e_41de_11ea_82c8_acde48001122row1_col48 {\n",
       "            background-color:  lightyellow;\n",
       "            color:  #000000;\n",
       "            border-color:  red;\n",
       "            font-family:  Roboto;\n",
       "        }    #T_6e1aed6e_41de_11ea_82c8_acde48001122row1_col49 {\n",
       "            background-color:  lightyellow;\n",
       "            color:  #000000;\n",
       "            border-color:  red;\n",
       "            font-family:  Roboto;\n",
       "        }    #T_6e1aed6e_41de_11ea_82c8_acde48001122row1_col50 {\n",
       "            background-color:  lightyellow;\n",
       "            color:  #000000;\n",
       "            border-color:  red;\n",
       "            font-family:  Roboto;\n",
       "        }    #T_6e1aed6e_41de_11ea_82c8_acde48001122row1_col51 {\n",
       "            background-color:  lightyellow;\n",
       "            color:  #000000;\n",
       "            border-color:  red;\n",
       "            font-family:  Roboto;\n",
       "        }    #T_6e1aed6e_41de_11ea_82c8_acde48001122row1_col52 {\n",
       "            background-color:  lightyellow;\n",
       "            color:  #000000;\n",
       "            border-color:  red;\n",
       "            font-family:  Roboto;\n",
       "        }    #T_6e1aed6e_41de_11ea_82c8_acde48001122row1_col53 {\n",
       "            background-color:  lightyellow;\n",
       "            color:  #000000;\n",
       "            border-color:  red;\n",
       "            font-family:  Roboto;\n",
       "        }    #T_6e1aed6e_41de_11ea_82c8_acde48001122row1_col54 {\n",
       "            background-color:  lightyellow;\n",
       "            color:  #000000;\n",
       "            border-color:  red;\n",
       "            font-family:  Roboto;\n",
       "        }    #T_6e1aed6e_41de_11ea_82c8_acde48001122row1_col55 {\n",
       "            background-color:  lightyellow;\n",
       "            color:  #000000;\n",
       "            border-color:  red;\n",
       "            font-family:  Roboto;\n",
       "        }    #T_6e1aed6e_41de_11ea_82c8_acde48001122row1_col56 {\n",
       "            background-color:  lightyellow;\n",
       "            color:  #000000;\n",
       "            border-color:  red;\n",
       "            font-family:  Roboto;\n",
       "        }    #T_6e1aed6e_41de_11ea_82c8_acde48001122row1_col57 {\n",
       "            background-color:  lightyellow;\n",
       "            color:  #000000;\n",
       "            border-color:  red;\n",
       "            font-family:  Roboto;\n",
       "        }    #T_6e1aed6e_41de_11ea_82c8_acde48001122row1_col58 {\n",
       "            background-color:  lightyellow;\n",
       "            color:  #000000;\n",
       "            border-color:  red;\n",
       "            font-family:  Roboto;\n",
       "        }    #T_6e1aed6e_41de_11ea_82c8_acde48001122row1_col59 {\n",
       "            background-color:  lightyellow;\n",
       "            color:  #000000;\n",
       "            border-color:  red;\n",
       "            font-family:  Roboto;\n",
       "        }    #T_6e1aed6e_41de_11ea_82c8_acde48001122row1_col60 {\n",
       "            background-color:  lightyellow;\n",
       "            color:  #000000;\n",
       "            border-color:  red;\n",
       "            font-family:  Roboto;\n",
       "        }    #T_6e1aed6e_41de_11ea_82c8_acde48001122row1_col61 {\n",
       "            background-color:  lightyellow;\n",
       "            color:  #000000;\n",
       "            border-color:  red;\n",
       "            font-family:  Roboto;\n",
       "        }    #T_6e1aed6e_41de_11ea_82c8_acde48001122row1_col62 {\n",
       "            background-color:  lightyellow;\n",
       "            color:  #000000;\n",
       "            border-color:  red;\n",
       "            font-family:  Roboto;\n",
       "        }    #T_6e1aed6e_41de_11ea_82c8_acde48001122row1_col63 {\n",
       "            background-color:  lightyellow;\n",
       "            color:  #000000;\n",
       "            border-color:  red;\n",
       "            font-family:  Roboto;\n",
       "        }    #T_6e1aed6e_41de_11ea_82c8_acde48001122row1_col64 {\n",
       "            background-color:  lightyellow;\n",
       "            color:  #000000;\n",
       "            border-color:  red;\n",
       "            font-family:  Roboto;\n",
       "        }    #T_6e1aed6e_41de_11ea_82c8_acde48001122row1_col65 {\n",
       "            background-color:  lightyellow;\n",
       "            color:  #000000;\n",
       "            border-color:  red;\n",
       "            font-family:  Roboto;\n",
       "        }    #T_6e1aed6e_41de_11ea_82c8_acde48001122row1_col66 {\n",
       "            background-color:  lightyellow;\n",
       "            color:  #000000;\n",
       "            border-color:  red;\n",
       "            font-family:  Roboto;\n",
       "        }    #T_6e1aed6e_41de_11ea_82c8_acde48001122row1_col67 {\n",
       "            background-color:  lightyellow;\n",
       "            color:  #000000;\n",
       "            border-color:  red;\n",
       "            font-family:  Roboto;\n",
       "        }    #T_6e1aed6e_41de_11ea_82c8_acde48001122row1_col68 {\n",
       "            background-color:  lightyellow;\n",
       "            color:  #000000;\n",
       "            border-color:  red;\n",
       "            font-family:  Roboto;\n",
       "        }    #T_6e1aed6e_41de_11ea_82c8_acde48001122row1_col69 {\n",
       "            background-color:  lightyellow;\n",
       "            color:  #000000;\n",
       "            border-color:  red;\n",
       "            font-family:  Roboto;\n",
       "        }    #T_6e1aed6e_41de_11ea_82c8_acde48001122row1_col70 {\n",
       "            background-color:  lightyellow;\n",
       "            color:  #000000;\n",
       "            border-color:  red;\n",
       "            font-family:  Roboto;\n",
       "        }    #T_6e1aed6e_41de_11ea_82c8_acde48001122row1_col71 {\n",
       "            background-color:  lightyellow;\n",
       "            color:  #000000;\n",
       "            border-color:  red;\n",
       "            font-family:  Roboto;\n",
       "        }    #T_6e1aed6e_41de_11ea_82c8_acde48001122row1_col72 {\n",
       "            background-color:  lightyellow;\n",
       "            color:  #000000;\n",
       "            border-color:  red;\n",
       "            font-family:  Roboto;\n",
       "        }    #T_6e1aed6e_41de_11ea_82c8_acde48001122row1_col73 {\n",
       "            background-color:  lightyellow;\n",
       "            color:  #000000;\n",
       "            border-color:  red;\n",
       "            font-family:  Roboto;\n",
       "        }    #T_6e1aed6e_41de_11ea_82c8_acde48001122row1_col74 {\n",
       "            background-color:  lightyellow;\n",
       "            color:  #000000;\n",
       "            border-color:  red;\n",
       "            font-family:  Roboto;\n",
       "        }    #T_6e1aed6e_41de_11ea_82c8_acde48001122row1_col75 {\n",
       "            background-color:  lightyellow;\n",
       "            color:  #000000;\n",
       "            border-color:  red;\n",
       "            font-family:  Roboto;\n",
       "        }    #T_6e1aed6e_41de_11ea_82c8_acde48001122row1_col76 {\n",
       "            background-color:  lightyellow;\n",
       "            color:  #000000;\n",
       "            border-color:  red;\n",
       "            font-family:  Roboto;\n",
       "        }    #T_6e1aed6e_41de_11ea_82c8_acde48001122row1_col77 {\n",
       "            background-color:  lightyellow;\n",
       "            color:  #000000;\n",
       "            border-color:  red;\n",
       "            font-family:  Roboto;\n",
       "        }    #T_6e1aed6e_41de_11ea_82c8_acde48001122row1_col78 {\n",
       "            background-color:  lightyellow;\n",
       "            color:  #000000;\n",
       "            border-color:  red;\n",
       "            font-family:  Roboto;\n",
       "        }    #T_6e1aed6e_41de_11ea_82c8_acde48001122row1_col79 {\n",
       "            background-color:  lightyellow;\n",
       "            color:  #000000;\n",
       "            border-color:  red;\n",
       "            font-family:  Roboto;\n",
       "        }    #T_6e1aed6e_41de_11ea_82c8_acde48001122row1_col80 {\n",
       "            background-color:  lightyellow;\n",
       "            color:  #000000;\n",
       "            border-color:  red;\n",
       "            font-family:  Roboto;\n",
       "        }    #T_6e1aed6e_41de_11ea_82c8_acde48001122row1_col81 {\n",
       "            background-color:  lightyellow;\n",
       "            color:  #000000;\n",
       "            border-color:  red;\n",
       "            font-family:  Roboto;\n",
       "        }    #T_6e1aed6e_41de_11ea_82c8_acde48001122row1_col82 {\n",
       "            background-color:  lightyellow;\n",
       "            color:  #000000;\n",
       "            border-color:  red;\n",
       "            font-family:  Roboto;\n",
       "        }    #T_6e1aed6e_41de_11ea_82c8_acde48001122row1_col83 {\n",
       "            background-color:  lightyellow;\n",
       "            color:  #000000;\n",
       "            border-color:  red;\n",
       "            font-family:  Roboto;\n",
       "        }    #T_6e1aed6e_41de_11ea_82c8_acde48001122row1_col84 {\n",
       "            background-color:  lightyellow;\n",
       "            color:  #000000;\n",
       "            border-color:  red;\n",
       "            font-family:  Roboto;\n",
       "        }    #T_6e1aed6e_41de_11ea_82c8_acde48001122row1_col85 {\n",
       "            background-color:  lightyellow;\n",
       "            color:  #000000;\n",
       "            border-color:  red;\n",
       "            font-family:  Roboto;\n",
       "        }    #T_6e1aed6e_41de_11ea_82c8_acde48001122row1_col86 {\n",
       "            background-color:  lightyellow;\n",
       "            color:  #000000;\n",
       "            border-color:  red;\n",
       "            font-family:  Roboto;\n",
       "        }    #T_6e1aed6e_41de_11ea_82c8_acde48001122row1_col87 {\n",
       "            background-color:  lightyellow;\n",
       "            color:  #000000;\n",
       "            border-color:  red;\n",
       "            font-family:  Roboto;\n",
       "        }    #T_6e1aed6e_41de_11ea_82c8_acde48001122row1_col88 {\n",
       "            background-color:  lightyellow;\n",
       "            color:  #000000;\n",
       "            border-color:  red;\n",
       "            font-family:  Roboto;\n",
       "        }    #T_6e1aed6e_41de_11ea_82c8_acde48001122row1_col89 {\n",
       "            background-color:  lightyellow;\n",
       "            color:  #000000;\n",
       "            border-color:  red;\n",
       "            font-family:  Roboto;\n",
       "        }    #T_6e1aed6e_41de_11ea_82c8_acde48001122row1_col90 {\n",
       "            background-color:  lightyellow;\n",
       "            color:  #000000;\n",
       "            border-color:  red;\n",
       "            font-family:  Roboto;\n",
       "        }    #T_6e1aed6e_41de_11ea_82c8_acde48001122row1_col91 {\n",
       "            background-color:  lightyellow;\n",
       "            color:  #000000;\n",
       "            border-color:  red;\n",
       "            font-family:  Roboto;\n",
       "        }    #T_6e1aed6e_41de_11ea_82c8_acde48001122row1_col92 {\n",
       "            background-color:  lightyellow;\n",
       "            color:  #000000;\n",
       "            border-color:  red;\n",
       "            font-family:  Roboto;\n",
       "        }    #T_6e1aed6e_41de_11ea_82c8_acde48001122row1_col93 {\n",
       "            background-color:  lightyellow;\n",
       "            color:  #000000;\n",
       "            border-color:  red;\n",
       "            font-family:  Roboto;\n",
       "        }    #T_6e1aed6e_41de_11ea_82c8_acde48001122row1_col94 {\n",
       "            background-color:  lightyellow;\n",
       "            color:  #000000;\n",
       "            border-color:  red;\n",
       "            font-family:  Roboto;\n",
       "        }    #T_6e1aed6e_41de_11ea_82c8_acde48001122row1_col95 {\n",
       "            background-color:  lightyellow;\n",
       "            color:  #000000;\n",
       "            border-color:  red;\n",
       "            font-family:  Roboto;\n",
       "        }    #T_6e1aed6e_41de_11ea_82c8_acde48001122row1_col96 {\n",
       "            background-color:  lightyellow;\n",
       "            color:  #000000;\n",
       "            border-color:  red;\n",
       "            font-family:  Roboto;\n",
       "        }    #T_6e1aed6e_41de_11ea_82c8_acde48001122row1_col97 {\n",
       "            background-color:  lightyellow;\n",
       "            color:  #000000;\n",
       "            border-color:  red;\n",
       "            font-family:  Roboto;\n",
       "        }    #T_6e1aed6e_41de_11ea_82c8_acde48001122row1_col98 {\n",
       "            background-color:  lightyellow;\n",
       "            color:  #000000;\n",
       "            border-color:  red;\n",
       "            font-family:  Roboto;\n",
       "        }    #T_6e1aed6e_41de_11ea_82c8_acde48001122row1_col99 {\n",
       "            background-color:  lightyellow;\n",
       "            color:  #000000;\n",
       "            border-color:  red;\n",
       "            font-family:  Roboto;\n",
       "        }    #T_6e1aed6e_41de_11ea_82c8_acde48001122row1_col100 {\n",
       "            background-color:  lightyellow;\n",
       "            color:  #000000;\n",
       "            border-color:  red;\n",
       "            font-family:  Roboto;\n",
       "        }    #T_6e1aed6e_41de_11ea_82c8_acde48001122row1_col101 {\n",
       "            background-color:  lightyellow;\n",
       "            color:  #000000;\n",
       "            border-color:  red;\n",
       "            font-family:  Roboto;\n",
       "        }    #T_6e1aed6e_41de_11ea_82c8_acde48001122row1_col102 {\n",
       "            background-color:  lightyellow;\n",
       "            color:  #000000;\n",
       "            border-color:  red;\n",
       "            font-family:  Roboto;\n",
       "        }    #T_6e1aed6e_41de_11ea_82c8_acde48001122row1_col103 {\n",
       "            background-color:  lightyellow;\n",
       "            color:  #000000;\n",
       "            border-color:  red;\n",
       "            font-family:  Roboto;\n",
       "        }    #T_6e1aed6e_41de_11ea_82c8_acde48001122row1_col104 {\n",
       "            background-color:  lightyellow;\n",
       "            color:  #000000;\n",
       "            border-color:  red;\n",
       "            font-family:  Roboto;\n",
       "        }    #T_6e1aed6e_41de_11ea_82c8_acde48001122row1_col105 {\n",
       "            background-color:  lightyellow;\n",
       "            color:  #000000;\n",
       "            border-color:  red;\n",
       "            font-family:  Roboto;\n",
       "        }    #T_6e1aed6e_41de_11ea_82c8_acde48001122row1_col106 {\n",
       "            background-color:  lightyellow;\n",
       "            color:  #000000;\n",
       "            border-color:  red;\n",
       "            font-family:  Roboto;\n",
       "        }    #T_6e1aed6e_41de_11ea_82c8_acde48001122row1_col107 {\n",
       "            background-color:  lightyellow;\n",
       "            color:  #000000;\n",
       "            border-color:  red;\n",
       "            font-family:  Roboto;\n",
       "        }    #T_6e1aed6e_41de_11ea_82c8_acde48001122row1_col108 {\n",
       "            background-color:  lightyellow;\n",
       "            color:  #000000;\n",
       "            border-color:  red;\n",
       "            font-family:  Roboto;\n",
       "        }    #T_6e1aed6e_41de_11ea_82c8_acde48001122row1_col109 {\n",
       "            background-color:  lightyellow;\n",
       "            color:  #000000;\n",
       "            border-color:  red;\n",
       "            font-family:  Roboto;\n",
       "        }    #T_6e1aed6e_41de_11ea_82c8_acde48001122row1_col110 {\n",
       "            background-color:  lightyellow;\n",
       "            color:  #000000;\n",
       "            border-color:  red;\n",
       "            font-family:  Roboto;\n",
       "        }    #T_6e1aed6e_41de_11ea_82c8_acde48001122row1_col111 {\n",
       "            background-color:  lightyellow;\n",
       "            color:  #000000;\n",
       "            border-color:  red;\n",
       "            font-family:  Roboto;\n",
       "        }    #T_6e1aed6e_41de_11ea_82c8_acde48001122row1_col112 {\n",
       "            background-color:  lightyellow;\n",
       "            color:  #000000;\n",
       "            border-color:  red;\n",
       "            font-family:  Roboto;\n",
       "        }    #T_6e1aed6e_41de_11ea_82c8_acde48001122row1_col113 {\n",
       "            background-color:  lightyellow;\n",
       "            color:  #000000;\n",
       "            border-color:  red;\n",
       "            font-family:  Roboto;\n",
       "        }    #T_6e1aed6e_41de_11ea_82c8_acde48001122row1_col114 {\n",
       "            background-color:  lightyellow;\n",
       "            color:  #000000;\n",
       "            border-color:  red;\n",
       "            font-family:  Roboto;\n",
       "        }    #T_6e1aed6e_41de_11ea_82c8_acde48001122row1_col115 {\n",
       "            background-color:  lightyellow;\n",
       "            color:  #000000;\n",
       "            border-color:  red;\n",
       "            font-family:  Roboto;\n",
       "        }    #T_6e1aed6e_41de_11ea_82c8_acde48001122row1_col116 {\n",
       "            background-color:  lightyellow;\n",
       "            color:  #000000;\n",
       "            border-color:  red;\n",
       "            font-family:  Roboto;\n",
       "        }    #T_6e1aed6e_41de_11ea_82c8_acde48001122row1_col117 {\n",
       "            background-color:  lightyellow;\n",
       "            color:  #000000;\n",
       "            border-color:  red;\n",
       "            font-family:  Roboto;\n",
       "        }    #T_6e1aed6e_41de_11ea_82c8_acde48001122row1_col118 {\n",
       "            background-color:  lightyellow;\n",
       "            color:  #000000;\n",
       "            border-color:  red;\n",
       "            font-family:  Roboto;\n",
       "        }    #T_6e1aed6e_41de_11ea_82c8_acde48001122row1_col119 {\n",
       "            background-color:  lightyellow;\n",
       "            color:  #000000;\n",
       "            border-color:  red;\n",
       "            font-family:  Roboto;\n",
       "        }    #T_6e1aed6e_41de_11ea_82c8_acde48001122row1_col120 {\n",
       "            background-color:  lightyellow;\n",
       "            color:  #000000;\n",
       "            border-color:  red;\n",
       "            font-family:  Roboto;\n",
       "        }    #T_6e1aed6e_41de_11ea_82c8_acde48001122row1_col121 {\n",
       "            background-color:  lightyellow;\n",
       "            color:  #000000;\n",
       "            border-color:  red;\n",
       "            font-family:  Roboto;\n",
       "        }    #T_6e1aed6e_41de_11ea_82c8_acde48001122row1_col122 {\n",
       "            background-color:  lightyellow;\n",
       "            color:  #000000;\n",
       "            border-color:  red;\n",
       "            font-family:  Roboto;\n",
       "        }    #T_6e1aed6e_41de_11ea_82c8_acde48001122row1_col123 {\n",
       "            background-color:  lightyellow;\n",
       "            color:  #000000;\n",
       "            border-color:  red;\n",
       "            font-family:  Roboto;\n",
       "        }    #T_6e1aed6e_41de_11ea_82c8_acde48001122row1_col124 {\n",
       "            background-color:  lightyellow;\n",
       "            color:  #000000;\n",
       "            border-color:  red;\n",
       "            font-family:  Roboto;\n",
       "        }    #T_6e1aed6e_41de_11ea_82c8_acde48001122row1_col125 {\n",
       "            background-color:  lightyellow;\n",
       "            color:  #000000;\n",
       "            border-color:  red;\n",
       "            font-family:  Roboto;\n",
       "        }    #T_6e1aed6e_41de_11ea_82c8_acde48001122row1_col126 {\n",
       "            background-color:  lightyellow;\n",
       "            color:  #000000;\n",
       "            border-color:  red;\n",
       "            font-family:  Roboto;\n",
       "        }    #T_6e1aed6e_41de_11ea_82c8_acde48001122row1_col127 {\n",
       "            background-color:  lightyellow;\n",
       "            color:  #000000;\n",
       "            border-color:  red;\n",
       "            font-family:  Roboto;\n",
       "        }    #T_6e1aed6e_41de_11ea_82c8_acde48001122row1_col128 {\n",
       "            background-color:  lightyellow;\n",
       "            color:  #000000;\n",
       "            border-color:  red;\n",
       "            font-family:  Roboto;\n",
       "        }    #T_6e1aed6e_41de_11ea_82c8_acde48001122row1_col129 {\n",
       "            background-color:  lightyellow;\n",
       "            color:  #000000;\n",
       "            border-color:  red;\n",
       "            font-family:  Roboto;\n",
       "        }    #T_6e1aed6e_41de_11ea_82c8_acde48001122row1_col130 {\n",
       "            background-color:  lightyellow;\n",
       "            color:  #000000;\n",
       "            border-color:  red;\n",
       "            font-family:  Roboto;\n",
       "        }    #T_6e1aed6e_41de_11ea_82c8_acde48001122row1_col131 {\n",
       "            background-color:  lightyellow;\n",
       "            color:  #000000;\n",
       "            border-color:  red;\n",
       "            font-family:  Roboto;\n",
       "        }    #T_6e1aed6e_41de_11ea_82c8_acde48001122row1_col132 {\n",
       "            background-color:  lightyellow;\n",
       "            color:  #000000;\n",
       "            border-color:  red;\n",
       "            font-family:  Roboto;\n",
       "        }    #T_6e1aed6e_41de_11ea_82c8_acde48001122row1_col133 {\n",
       "            background-color:  lightyellow;\n",
       "            color:  #000000;\n",
       "            border-color:  red;\n",
       "            font-family:  Roboto;\n",
       "        }    #T_6e1aed6e_41de_11ea_82c8_acde48001122row1_col134 {\n",
       "            background-color:  lightyellow;\n",
       "            color:  #000000;\n",
       "            border-color:  red;\n",
       "            font-family:  Roboto;\n",
       "        }    #T_6e1aed6e_41de_11ea_82c8_acde48001122row1_col135 {\n",
       "            background-color:  lightyellow;\n",
       "            color:  #000000;\n",
       "            border-color:  red;\n",
       "            font-family:  Roboto;\n",
       "        }    #T_6e1aed6e_41de_11ea_82c8_acde48001122row1_col136 {\n",
       "            background-color:  lightyellow;\n",
       "            color:  #000000;\n",
       "            border-color:  red;\n",
       "            font-family:  Roboto;\n",
       "        }    #T_6e1aed6e_41de_11ea_82c8_acde48001122row1_col137 {\n",
       "            background-color:  lightyellow;\n",
       "            color:  #000000;\n",
       "            border-color:  red;\n",
       "            font-family:  Roboto;\n",
       "        }    #T_6e1aed6e_41de_11ea_82c8_acde48001122row1_col138 {\n",
       "            background-color:  lightyellow;\n",
       "            color:  #000000;\n",
       "            border-color:  red;\n",
       "            font-family:  Roboto;\n",
       "        }    #T_6e1aed6e_41de_11ea_82c8_acde48001122row1_col139 {\n",
       "            background-color:  lightyellow;\n",
       "            color:  #000000;\n",
       "            border-color:  red;\n",
       "            font-family:  Roboto;\n",
       "        }    #T_6e1aed6e_41de_11ea_82c8_acde48001122row1_col140 {\n",
       "            background-color:  lightyellow;\n",
       "            color:  #000000;\n",
       "            border-color:  red;\n",
       "            font-family:  Roboto;\n",
       "        }    #T_6e1aed6e_41de_11ea_82c8_acde48001122row1_col141 {\n",
       "            background-color:  lightyellow;\n",
       "            color:  #000000;\n",
       "            border-color:  red;\n",
       "            font-family:  Roboto;\n",
       "        }    #T_6e1aed6e_41de_11ea_82c8_acde48001122row1_col142 {\n",
       "            background-color:  lightyellow;\n",
       "            color:  #000000;\n",
       "            border-color:  red;\n",
       "            font-family:  Roboto;\n",
       "        }    #T_6e1aed6e_41de_11ea_82c8_acde48001122row1_col143 {\n",
       "            background-color:  lightyellow;\n",
       "            color:  #000000;\n",
       "            border-color:  red;\n",
       "            font-family:  Roboto;\n",
       "        }    #T_6e1aed6e_41de_11ea_82c8_acde48001122row1_col144 {\n",
       "            background-color:  lightyellow;\n",
       "            color:  #000000;\n",
       "            border-color:  red;\n",
       "            font-family:  Roboto;\n",
       "        }    #T_6e1aed6e_41de_11ea_82c8_acde48001122row1_col145 {\n",
       "            background-color:  lightyellow;\n",
       "            color:  #000000;\n",
       "            border-color:  red;\n",
       "            font-family:  Roboto;\n",
       "        }    #T_6e1aed6e_41de_11ea_82c8_acde48001122row1_col146 {\n",
       "            background-color:  lightyellow;\n",
       "            color:  #000000;\n",
       "            border-color:  red;\n",
       "            font-family:  Roboto;\n",
       "        }    #T_6e1aed6e_41de_11ea_82c8_acde48001122row1_col147 {\n",
       "            background-color:  lightyellow;\n",
       "            color:  #000000;\n",
       "            border-color:  red;\n",
       "            font-family:  Roboto;\n",
       "        }    #T_6e1aed6e_41de_11ea_82c8_acde48001122row1_col148 {\n",
       "            background-color:  lightyellow;\n",
       "            color:  #000000;\n",
       "            border-color:  red;\n",
       "            font-family:  Roboto;\n",
       "        }    #T_6e1aed6e_41de_11ea_82c8_acde48001122row1_col149 {\n",
       "            background-color:  lightyellow;\n",
       "            color:  #000000;\n",
       "            border-color:  red;\n",
       "            font-family:  Roboto;\n",
       "        }    #T_6e1aed6e_41de_11ea_82c8_acde48001122row1_col150 {\n",
       "            background-color:  lightyellow;\n",
       "            color:  #000000;\n",
       "            border-color:  red;\n",
       "            font-family:  Roboto;\n",
       "        }    #T_6e1aed6e_41de_11ea_82c8_acde48001122row1_col151 {\n",
       "            background-color:  lightyellow;\n",
       "            color:  #000000;\n",
       "            border-color:  red;\n",
       "            font-family:  Roboto;\n",
       "        }    #T_6e1aed6e_41de_11ea_82c8_acde48001122row1_col152 {\n",
       "            background-color:  lightyellow;\n",
       "            color:  #000000;\n",
       "            border-color:  red;\n",
       "            font-family:  Roboto;\n",
       "        }    #T_6e1aed6e_41de_11ea_82c8_acde48001122row1_col153 {\n",
       "            background-color:  lightyellow;\n",
       "            color:  #000000;\n",
       "            border-color:  red;\n",
       "            font-family:  Roboto;\n",
       "        }    #T_6e1aed6e_41de_11ea_82c8_acde48001122row1_col154 {\n",
       "            background-color:  lightyellow;\n",
       "            color:  #000000;\n",
       "            border-color:  red;\n",
       "            font-family:  Roboto;\n",
       "        }    #T_6e1aed6e_41de_11ea_82c8_acde48001122row1_col155 {\n",
       "            background-color:  lightyellow;\n",
       "            color:  #000000;\n",
       "            border-color:  red;\n",
       "            font-family:  Roboto;\n",
       "        }    #T_6e1aed6e_41de_11ea_82c8_acde48001122row1_col156 {\n",
       "            background-color:  lightyellow;\n",
       "            color:  #000000;\n",
       "            border-color:  red;\n",
       "            font-family:  Roboto;\n",
       "        }    #T_6e1aed6e_41de_11ea_82c8_acde48001122row1_col157 {\n",
       "            background-color:  lightyellow;\n",
       "            color:  #000000;\n",
       "            border-color:  red;\n",
       "            font-family:  Roboto;\n",
       "        }    #T_6e1aed6e_41de_11ea_82c8_acde48001122row1_col158 {\n",
       "            background-color:  lightyellow;\n",
       "            color:  #000000;\n",
       "            border-color:  red;\n",
       "            font-family:  Roboto;\n",
       "        }    #T_6e1aed6e_41de_11ea_82c8_acde48001122row1_col159 {\n",
       "            background-color:  lightyellow;\n",
       "            color:  #000000;\n",
       "            border-color:  red;\n",
       "            font-family:  Roboto;\n",
       "        }    #T_6e1aed6e_41de_11ea_82c8_acde48001122row1_col160 {\n",
       "            background-color:  lightyellow;\n",
       "            color:  #000000;\n",
       "            border-color:  red;\n",
       "            font-family:  Roboto;\n",
       "        }    #T_6e1aed6e_41de_11ea_82c8_acde48001122row1_col161 {\n",
       "            background-color:  lightyellow;\n",
       "            color:  #000000;\n",
       "            border-color:  red;\n",
       "            font-family:  Roboto;\n",
       "        }    #T_6e1aed6e_41de_11ea_82c8_acde48001122row1_col162 {\n",
       "            background-color:  lightyellow;\n",
       "            color:  #000000;\n",
       "            border-color:  red;\n",
       "            font-family:  Roboto;\n",
       "        }    #T_6e1aed6e_41de_11ea_82c8_acde48001122row1_col163 {\n",
       "            background-color:  lightyellow;\n",
       "            color:  #000000;\n",
       "            border-color:  red;\n",
       "            font-family:  Roboto;\n",
       "        }    #T_6e1aed6e_41de_11ea_82c8_acde48001122row1_col164 {\n",
       "            background-color:  lightyellow;\n",
       "            color:  #000000;\n",
       "            border-color:  red;\n",
       "            font-family:  Roboto;\n",
       "        }    #T_6e1aed6e_41de_11ea_82c8_acde48001122row1_col165 {\n",
       "            background-color:  lightyellow;\n",
       "            color:  #000000;\n",
       "            border-color:  red;\n",
       "            font-family:  Roboto;\n",
       "        }    #T_6e1aed6e_41de_11ea_82c8_acde48001122row1_col166 {\n",
       "            background-color:  lightyellow;\n",
       "            color:  #000000;\n",
       "            border-color:  red;\n",
       "            font-family:  Roboto;\n",
       "        }    #T_6e1aed6e_41de_11ea_82c8_acde48001122row1_col167 {\n",
       "            background-color:  lightyellow;\n",
       "            color:  #000000;\n",
       "            border-color:  red;\n",
       "            font-family:  Roboto;\n",
       "        }    #T_6e1aed6e_41de_11ea_82c8_acde48001122row1_col168 {\n",
       "            background-color:  lightyellow;\n",
       "            color:  #000000;\n",
       "            border-color:  red;\n",
       "            font-family:  Roboto;\n",
       "        }    #T_6e1aed6e_41de_11ea_82c8_acde48001122row1_col169 {\n",
       "            background-color:  lightyellow;\n",
       "            color:  #000000;\n",
       "            border-color:  red;\n",
       "            font-family:  Roboto;\n",
       "        }    #T_6e1aed6e_41de_11ea_82c8_acde48001122row1_col170 {\n",
       "            background-color:  lightyellow;\n",
       "            color:  #000000;\n",
       "            border-color:  red;\n",
       "            font-family:  Roboto;\n",
       "        }    #T_6e1aed6e_41de_11ea_82c8_acde48001122row1_col171 {\n",
       "            background-color:  lightyellow;\n",
       "            color:  #000000;\n",
       "            border-color:  red;\n",
       "            font-family:  Roboto;\n",
       "        }    #T_6e1aed6e_41de_11ea_82c8_acde48001122row1_col172 {\n",
       "            background-color:  lightyellow;\n",
       "            color:  #000000;\n",
       "            border-color:  red;\n",
       "            font-family:  Roboto;\n",
       "        }    #T_6e1aed6e_41de_11ea_82c8_acde48001122row1_col173 {\n",
       "            background-color:  lightyellow;\n",
       "            color:  #000000;\n",
       "            border-color:  red;\n",
       "            font-family:  Roboto;\n",
       "        }    #T_6e1aed6e_41de_11ea_82c8_acde48001122row1_col174 {\n",
       "            background-color:  lightyellow;\n",
       "            color:  #000000;\n",
       "            border-color:  red;\n",
       "            font-family:  Roboto;\n",
       "        }    #T_6e1aed6e_41de_11ea_82c8_acde48001122row1_col175 {\n",
       "            background-color:  lightyellow;\n",
       "            color:  #000000;\n",
       "            border-color:  red;\n",
       "            font-family:  Roboto;\n",
       "        }    #T_6e1aed6e_41de_11ea_82c8_acde48001122row1_col176 {\n",
       "            background-color:  lightyellow;\n",
       "            color:  #000000;\n",
       "            border-color:  red;\n",
       "            font-family:  Roboto;\n",
       "        }    #T_6e1aed6e_41de_11ea_82c8_acde48001122row1_col177 {\n",
       "            background-color:  lightyellow;\n",
       "            color:  #000000;\n",
       "            border-color:  red;\n",
       "            font-family:  Roboto;\n",
       "        }    #T_6e1aed6e_41de_11ea_82c8_acde48001122row1_col178 {\n",
       "            background-color:  lightyellow;\n",
       "            color:  #000000;\n",
       "            border-color:  red;\n",
       "            font-family:  Roboto;\n",
       "        }    #T_6e1aed6e_41de_11ea_82c8_acde48001122row1_col179 {\n",
       "            background-color:  lightyellow;\n",
       "            color:  #000000;\n",
       "            border-color:  red;\n",
       "            font-family:  Roboto;\n",
       "        }    #T_6e1aed6e_41de_11ea_82c8_acde48001122row1_col180 {\n",
       "            background-color:  lightyellow;\n",
       "            color:  #000000;\n",
       "            border-color:  red;\n",
       "            font-family:  Roboto;\n",
       "        }    #T_6e1aed6e_41de_11ea_82c8_acde48001122row1_col181 {\n",
       "            background-color:  lightyellow;\n",
       "            color:  #000000;\n",
       "            border-color:  red;\n",
       "            font-family:  Roboto;\n",
       "        }    #T_6e1aed6e_41de_11ea_82c8_acde48001122row1_col182 {\n",
       "            background-color:  lightyellow;\n",
       "            color:  #000000;\n",
       "            border-color:  red;\n",
       "            font-family:  Roboto;\n",
       "        }    #T_6e1aed6e_41de_11ea_82c8_acde48001122row1_col183 {\n",
       "            background-color:  lightyellow;\n",
       "            color:  #000000;\n",
       "            border-color:  red;\n",
       "            font-family:  Roboto;\n",
       "        }    #T_6e1aed6e_41de_11ea_82c8_acde48001122row1_col184 {\n",
       "            background-color:  lightyellow;\n",
       "            color:  #000000;\n",
       "            border-color:  red;\n",
       "            font-family:  Roboto;\n",
       "        }    #T_6e1aed6e_41de_11ea_82c8_acde48001122row1_col185 {\n",
       "            background-color:  lightyellow;\n",
       "            color:  #000000;\n",
       "            border-color:  red;\n",
       "            font-family:  Roboto;\n",
       "        }    #T_6e1aed6e_41de_11ea_82c8_acde48001122row1_col186 {\n",
       "            background-color:  lightyellow;\n",
       "            color:  #000000;\n",
       "            border-color:  red;\n",
       "            font-family:  Roboto;\n",
       "        }    #T_6e1aed6e_41de_11ea_82c8_acde48001122row1_col187 {\n",
       "            background-color:  lightyellow;\n",
       "            color:  #000000;\n",
       "            border-color:  red;\n",
       "            font-family:  Roboto;\n",
       "        }    #T_6e1aed6e_41de_11ea_82c8_acde48001122row1_col188 {\n",
       "            background-color:  lightyellow;\n",
       "            color:  #000000;\n",
       "            border-color:  red;\n",
       "            font-family:  Roboto;\n",
       "        }    #T_6e1aed6e_41de_11ea_82c8_acde48001122row1_col189 {\n",
       "            background-color:  lightyellow;\n",
       "            color:  #000000;\n",
       "            border-color:  red;\n",
       "            font-family:  Roboto;\n",
       "        }    #T_6e1aed6e_41de_11ea_82c8_acde48001122row1_col190 {\n",
       "            background-color:  lightyellow;\n",
       "            color:  #000000;\n",
       "            border-color:  red;\n",
       "            font-family:  Roboto;\n",
       "        }    #T_6e1aed6e_41de_11ea_82c8_acde48001122row1_col191 {\n",
       "            background-color:  lightyellow;\n",
       "            color:  #000000;\n",
       "            border-color:  red;\n",
       "            font-family:  Roboto;\n",
       "        }    #T_6e1aed6e_41de_11ea_82c8_acde48001122row1_col192 {\n",
       "            background-color:  lightyellow;\n",
       "            color:  #000000;\n",
       "            border-color:  red;\n",
       "            font-family:  Roboto;\n",
       "        }    #T_6e1aed6e_41de_11ea_82c8_acde48001122row1_col193 {\n",
       "            background-color:  lightyellow;\n",
       "            color:  #000000;\n",
       "            border-color:  red;\n",
       "            font-family:  Roboto;\n",
       "        }    #T_6e1aed6e_41de_11ea_82c8_acde48001122row1_col194 {\n",
       "            background-color:  lightyellow;\n",
       "            color:  #000000;\n",
       "            border-color:  red;\n",
       "            font-family:  Roboto;\n",
       "        }    #T_6e1aed6e_41de_11ea_82c8_acde48001122row1_col195 {\n",
       "            background-color:  lightyellow;\n",
       "            color:  #000000;\n",
       "            border-color:  red;\n",
       "            font-family:  Roboto;\n",
       "        }    #T_6e1aed6e_41de_11ea_82c8_acde48001122row1_col196 {\n",
       "            background-color:  lightyellow;\n",
       "            color:  #000000;\n",
       "            border-color:  red;\n",
       "            font-family:  Roboto;\n",
       "        }    #T_6e1aed6e_41de_11ea_82c8_acde48001122row1_col197 {\n",
       "            background-color:  lightyellow;\n",
       "            color:  #000000;\n",
       "            border-color:  red;\n",
       "            font-family:  Roboto;\n",
       "        }    #T_6e1aed6e_41de_11ea_82c8_acde48001122row1_col198 {\n",
       "            background-color:  lightyellow;\n",
       "            color:  #000000;\n",
       "            border-color:  red;\n",
       "            font-family:  Roboto;\n",
       "        }    #T_6e1aed6e_41de_11ea_82c8_acde48001122row1_col199 {\n",
       "            background-color:  lightyellow;\n",
       "            color:  #000000;\n",
       "            border-color:  red;\n",
       "            font-family:  Roboto;\n",
       "        }    #T_6e1aed6e_41de_11ea_82c8_acde48001122row1_col200 {\n",
       "            background-color:  lightyellow;\n",
       "            color:  #000000;\n",
       "            border-color:  red;\n",
       "            font-family:  Roboto;\n",
       "        }    #T_6e1aed6e_41de_11ea_82c8_acde48001122row1_col201 {\n",
       "            background-color:  lightyellow;\n",
       "            color:  #000000;\n",
       "            border-color:  red;\n",
       "            font-family:  Roboto;\n",
       "        }    #T_6e1aed6e_41de_11ea_82c8_acde48001122row1_col202 {\n",
       "            background-color:  lightyellow;\n",
       "            color:  #000000;\n",
       "            border-color:  red;\n",
       "            font-family:  Roboto;\n",
       "        }    #T_6e1aed6e_41de_11ea_82c8_acde48001122row1_col203 {\n",
       "            background-color:  lightyellow;\n",
       "            color:  #000000;\n",
       "            border-color:  red;\n",
       "            font-family:  Roboto;\n",
       "        }    #T_6e1aed6e_41de_11ea_82c8_acde48001122row1_col204 {\n",
       "            background-color:  lightyellow;\n",
       "            color:  #000000;\n",
       "            border-color:  red;\n",
       "            font-family:  Roboto;\n",
       "        }    #T_6e1aed6e_41de_11ea_82c8_acde48001122row1_col205 {\n",
       "            background-color:  lightyellow;\n",
       "            color:  #000000;\n",
       "            border-color:  red;\n",
       "            font-family:  Roboto;\n",
       "        }    #T_6e1aed6e_41de_11ea_82c8_acde48001122row1_col206 {\n",
       "            background-color:  lightyellow;\n",
       "            color:  #000000;\n",
       "            border-color:  red;\n",
       "            font-family:  Roboto;\n",
       "        }    #T_6e1aed6e_41de_11ea_82c8_acde48001122row1_col207 {\n",
       "            background-color:  lightyellow;\n",
       "            color:  #000000;\n",
       "            border-color:  red;\n",
       "            font-family:  Roboto;\n",
       "        }    #T_6e1aed6e_41de_11ea_82c8_acde48001122row1_col208 {\n",
       "            background-color:  lightyellow;\n",
       "            color:  #000000;\n",
       "            border-color:  red;\n",
       "            font-family:  Roboto;\n",
       "        }    #T_6e1aed6e_41de_11ea_82c8_acde48001122row1_col209 {\n",
       "            background-color:  lightyellow;\n",
       "            color:  #000000;\n",
       "            border-color:  red;\n",
       "            font-family:  Roboto;\n",
       "        }    #T_6e1aed6e_41de_11ea_82c8_acde48001122row1_col210 {\n",
       "            background-color:  lightyellow;\n",
       "            color:  #000000;\n",
       "            border-color:  red;\n",
       "            font-family:  Roboto;\n",
       "        }    #T_6e1aed6e_41de_11ea_82c8_acde48001122row1_col211 {\n",
       "            background-color:  lightyellow;\n",
       "            color:  #000000;\n",
       "            border-color:  red;\n",
       "            font-family:  Roboto;\n",
       "        }    #T_6e1aed6e_41de_11ea_82c8_acde48001122row1_col212 {\n",
       "            background-color:  lightyellow;\n",
       "            color:  #000000;\n",
       "            border-color:  red;\n",
       "            font-family:  Roboto;\n",
       "        }    #T_6e1aed6e_41de_11ea_82c8_acde48001122row1_col213 {\n",
       "            background-color:  lightyellow;\n",
       "            color:  #000000;\n",
       "            border-color:  red;\n",
       "            font-family:  Roboto;\n",
       "        }    #T_6e1aed6e_41de_11ea_82c8_acde48001122row1_col214 {\n",
       "            background-color:  lightyellow;\n",
       "            color:  #000000;\n",
       "            border-color:  red;\n",
       "            font-family:  Roboto;\n",
       "        }    #T_6e1aed6e_41de_11ea_82c8_acde48001122row1_col215 {\n",
       "            background-color:  lightyellow;\n",
       "            color:  #000000;\n",
       "            border-color:  red;\n",
       "            font-family:  Roboto;\n",
       "        }    #T_6e1aed6e_41de_11ea_82c8_acde48001122row1_col216 {\n",
       "            background-color:  lightyellow;\n",
       "            color:  #000000;\n",
       "            border-color:  red;\n",
       "            font-family:  Roboto;\n",
       "        }    #T_6e1aed6e_41de_11ea_82c8_acde48001122row1_col217 {\n",
       "            background-color:  lightyellow;\n",
       "            color:  #000000;\n",
       "            border-color:  red;\n",
       "            font-family:  Roboto;\n",
       "        }    #T_6e1aed6e_41de_11ea_82c8_acde48001122row1_col218 {\n",
       "            background-color:  lightyellow;\n",
       "            color:  #000000;\n",
       "            border-color:  red;\n",
       "            font-family:  Roboto;\n",
       "        }    #T_6e1aed6e_41de_11ea_82c8_acde48001122row1_col219 {\n",
       "            background-color:  lightyellow;\n",
       "            color:  #000000;\n",
       "            border-color:  red;\n",
       "            font-family:  Roboto;\n",
       "        }    #T_6e1aed6e_41de_11ea_82c8_acde48001122row1_col220 {\n",
       "            background-color:  lightyellow;\n",
       "            color:  #000000;\n",
       "            border-color:  red;\n",
       "            font-family:  Roboto;\n",
       "        }    #T_6e1aed6e_41de_11ea_82c8_acde48001122row1_col221 {\n",
       "            background-color:  lightyellow;\n",
       "            color:  #000000;\n",
       "            border-color:  red;\n",
       "            font-family:  Roboto;\n",
       "        }</style><table id=\"T_6e1aed6e_41de_11ea_82c8_acde48001122\" ><thead>    <tr>        <th class=\"index_name level0\" >0</th>        <th class=\"col_heading level0 col0\" >Country</th>        <th class=\"col_heading level0 col1\" >Age</th>        <th class=\"col_heading level0 col2\" >Gender</th>        <th class=\"col_heading level0 col3\" >Tabs or Spaces</th>        <th class=\"col_heading level0 col4\" >Years IT / Programming Experience</th>        <th class=\"col_heading level0 col5\" >Occupation</th>        <th class=\"col_heading level0 col6\" >Desktop Operating System</th>        <th class=\"col_heading level0 col7\" >Desktop Operating System: write-in</th>        <th class=\"col_heading level0 col8\" >Current Lang & Tech: Android</th>        <th class=\"col_heading level0 col9\" >Current Lang & Tech: Arduino</th>        <th class=\"col_heading level0 col10\" >Current Lang & Tech: AngularJS</th>        <th class=\"col_heading level0 col11\" >Current Lang & Tech: C</th>        <th class=\"col_heading level0 col12\" >Current Lang & Tech: C++</th>        <th class=\"col_heading level0 col13\" >Current Lang & Tech: C++11</th>        <th class=\"col_heading level0 col14\" >Current Lang & Tech: C#</th>        <th class=\"col_heading level0 col15\" >Current Lang & Tech: Cassandra</th>        <th class=\"col_heading level0 col16\" >Current Lang & Tech: CoffeeScript</th>        <th class=\"col_heading level0 col17\" >Current Lang & Tech: Cordova</th>        <th class=\"col_heading level0 col18\" >Current Lang & Tech: Clojure</th>        <th class=\"col_heading level0 col19\" >Current Lang & Tech: Cloud</th>        <th class=\"col_heading level0 col20\" >Current Lang & Tech: Dart</th>        <th class=\"col_heading level0 col21\" >Current Lang & Tech: F#</th>        <th class=\"col_heading level0 col22\" >Current Lang & Tech: Go</th>        <th class=\"col_heading level0 col23\" >Current Lang & Tech: Hadoop</th>        <th class=\"col_heading level0 col24\" >Current Lang & Tech: Haskell</th>        <th class=\"col_heading level0 col25\" >Current Lang & Tech: iOS</th>        <th class=\"col_heading level0 col26\" >Current Lang & Tech: Java</th>        <th class=\"col_heading level0 col27\" >Current Lang & Tech: JavaScript</th>        <th class=\"col_heading level0 col28\" >Current Lang & Tech: LAMP</th>        <th class=\"col_heading level0 col29\" >Current Lang & Tech: Matlab</th>        <th class=\"col_heading level0 col30\" >Current Lang & Tech: MongoDB</th>        <th class=\"col_heading level0 col31\" >Current Lang & Tech: Node.js</th>        <th class=\"col_heading level0 col32\" >Current Lang & Tech: Objective-C</th>        <th class=\"col_heading level0 col33\" >Current Lang & Tech: Perl</th>        <th class=\"col_heading level0 col34\" >Current Lang & Tech: PHP</th>        <th class=\"col_heading level0 col35\" >Current Lang & Tech: Python</th>        <th class=\"col_heading level0 col36\" >Current Lang & Tech: R</th>        <th class=\"col_heading level0 col37\" >Current Lang & Tech: Redis</th>        <th class=\"col_heading level0 col38\" >Current Lang & Tech: Ruby</th>        <th class=\"col_heading level0 col39\" >Current Lang & Tech: Rust</th>        <th class=\"col_heading level0 col40\" >Current Lang & Tech: Salesforce</th>        <th class=\"col_heading level0 col41\" >Current Lang & Tech: Scala</th>        <th class=\"col_heading level0 col42\" >Current Lang & Tech: Sharepoint</th>        <th class=\"col_heading level0 col43\" >Current Lang & Tech: Spark</th>        <th class=\"col_heading level0 col44\" >Current Lang & Tech: SQL</th>        <th class=\"col_heading level0 col45\" >Current Lang & Tech: SQL Server</th>        <th class=\"col_heading level0 col46\" >Current Lang & Tech: Swift</th>        <th class=\"col_heading level0 col47\" >Current Lang & Tech: Visual Basic</th>        <th class=\"col_heading level0 col48\" >Current Lang & Tech: Windows Phone</th>        <th class=\"col_heading level0 col49\" >Current Lang & Tech: Wordpress</th>        <th class=\"col_heading level0 col50\" >Current Lang & Tech: Write-In</th>        <th class=\"col_heading level0 col51\" >Future Lang & Tech: Android</th>        <th class=\"col_heading level0 col52\" >Future Lang & Tech: Arduino</th>        <th class=\"col_heading level0 col53\" >Future Lang & Tech: AngularJS</th>        <th class=\"col_heading level0 col54\" >Future Lang & Tech: C</th>        <th class=\"col_heading level0 col55\" >Future Lang & Tech: C++</th>        <th class=\"col_heading level0 col56\" >Future Lang & Tech: C++11</th>        <th class=\"col_heading level0 col57\" >Future Lang & Tech: C#</th>        <th class=\"col_heading level0 col58\" >Future Lang & Tech: Cassandra</th>        <th class=\"col_heading level0 col59\" >Future Lang & Tech: CoffeeScript</th>        <th class=\"col_heading level0 col60\" >Future Lang & Tech: Cordova</th>        <th class=\"col_heading level0 col61\" >Future Lang & Tech: Clojure</th>        <th class=\"col_heading level0 col62\" >Future Lang & Tech: Cloud</th>        <th class=\"col_heading level0 col63\" >Future Lang & Tech: Dart</th>        <th class=\"col_heading level0 col64\" >Future Lang & Tech: F#</th>        <th class=\"col_heading level0 col65\" >Future Lang & Tech: Go</th>        <th class=\"col_heading level0 col66\" >Future Lang & Tech: Hadoop</th>        <th class=\"col_heading level0 col67\" >Future Lang & Tech: Haskell</th>        <th class=\"col_heading level0 col68\" >Future Lang & Tech: iOS</th>        <th class=\"col_heading level0 col69\" >Future Lang & Tech: Java</th>        <th class=\"col_heading level0 col70\" >Future Lang & Tech: JavaScript</th>        <th class=\"col_heading level0 col71\" >Future Lang & Tech: LAMP</th>        <th class=\"col_heading level0 col72\" >Future Lang & Tech: Matlab</th>        <th class=\"col_heading level0 col73\" >Future Lang & Tech: MongoDB</th>        <th class=\"col_heading level0 col74\" >Future Lang & Tech: Node.js</th>        <th class=\"col_heading level0 col75\" >Future Lang & Tech: Objective-C</th>        <th class=\"col_heading level0 col76\" >Future Lang & Tech: Perl</th>        <th class=\"col_heading level0 col77\" >Future Lang & Tech: PHP</th>        <th class=\"col_heading level0 col78\" >Future Lang & Tech: Python</th>        <th class=\"col_heading level0 col79\" >Future Lang & Tech: R</th>        <th class=\"col_heading level0 col80\" >Future Lang & Tech: Redis</th>        <th class=\"col_heading level0 col81\" >Future Lang & Tech: Ruby</th>        <th class=\"col_heading level0 col82\" >Future Lang & Tech: Rust</th>        <th class=\"col_heading level0 col83\" >Future Lang & Tech: Salesforce</th>        <th class=\"col_heading level0 col84\" >Future Lang & Tech: Scala</th>        <th class=\"col_heading level0 col85\" >Future Lang & Tech: Sharepoint</th>        <th class=\"col_heading level0 col86\" >Future Lang & Tech: Spark</th>        <th class=\"col_heading level0 col87\" >Future Lang & Tech: SQL</th>        <th class=\"col_heading level0 col88\" >Future Lang & Tech: SQL Server</th>        <th class=\"col_heading level0 col89\" >Future Lang & Tech: Swift</th>        <th class=\"col_heading level0 col90\" >Future Lang & Tech: Visual Basic</th>        <th class=\"col_heading level0 col91\" >Future Lang & Tech: Windows Phone</th>        <th class=\"col_heading level0 col92\" >Future Lang & Tech: Wordpress</th>        <th class=\"col_heading level0 col93\" >Future Lang & Tech: Write-In</th>        <th class=\"col_heading level0 col94\" >Training & Education: No formal training</th>        <th class=\"col_heading level0 col95\" >Training & Education: On the job</th>        <th class=\"col_heading level0 col96\" >Training & Education: Boot camp or night school</th>        <th class=\"col_heading level0 col97\" >Training & Education: Online Class</th>        <th class=\"col_heading level0 col98\" >Training & Education: Mentorship</th>        <th class=\"col_heading level0 col99\" >Training & Education: Industry certification</th>        <th class=\"col_heading level0 col100\" >Training & Education: Some college, but no CS degree</th>        <th class=\"col_heading level0 col101\" >Training & Education: BS in CS</th>        <th class=\"col_heading level0 col102\" >Training & Education: Masters in CS</th>        <th class=\"col_heading level0 col103\" >Training & Education: PhD in CS</th>        <th class=\"col_heading level0 col104\" >Training & Education: Other</th>        <th class=\"col_heading level0 col105\" >Compensation</th>        <th class=\"col_heading level0 col106\" >Compensation: midpoint</th>        <th class=\"col_heading level0 col107\" >Employment Status</th>        <th class=\"col_heading level0 col108\" >Industry</th>        <th class=\"col_heading level0 col109\" >Job Satisfaction</th>        <th class=\"col_heading level0 col110\" >Purchasing Power</th>        <th class=\"col_heading level0 col111\" >Remote Status</th>        <th class=\"col_heading level0 col112\" >Changed Jobs in last 12 Months</th>        <th class=\"col_heading level0 col113\" >Open to new job opportunities</th>        <th class=\"col_heading level0 col114\" >Most important aspect of new job opportunity: Salary</th>        <th class=\"col_heading level0 col115\" >Most important aspect of new job opportunity: Equity</th>        <th class=\"col_heading level0 col116\" >Most important aspect of new job opportunity: Important decisions</th>        <th class=\"col_heading level0 col117\" >Most important aspect of new job opportunity: Health insurance</th>        <th class=\"col_heading level0 col118\" >Most important aspect of new job opportunity: Industry</th>        <th class=\"col_heading level0 col119\" >Most important aspect of new job opportunity: Tech stack</th>        <th class=\"col_heading level0 col120\" >Most important aspect of new job opportunity: Company size</th>        <th class=\"col_heading level0 col121\" >Most important aspect of new job opportunity: Company stage</th>        <th class=\"col_heading level0 col122\" >Most important aspect of new job opportunity: Work - Life balance</th>        <th class=\"col_heading level0 col123\" >Most important aspect of new job opportunity: Advancement</th>        <th class=\"col_heading level0 col124\" >Most important aspect of new job opportunity: Job title</th>        <th class=\"col_heading level0 col125\" >Most important aspect of new job opportunity: Office location</th>        <th class=\"col_heading level0 col126\" >Most important aspect of new job opportunity: Quality of colleagues</th>        <th class=\"col_heading level0 col127\" >Most important aspect of new job opportunity: Company culture</th>        <th class=\"col_heading level0 col128\" >Most important aspect of new job opportunity: Company reputation</th>        <th class=\"col_heading level0 col129\" >Most important aspect of new job opportunity: Building something that matters</th>        <th class=\"col_heading level0 col130\" >Most important aspect of new job opportunity: Remote working</th>        <th class=\"col_heading level0 col131\" >Most important aspect of new job opportunity: Flexible work options</th>        <th class=\"col_heading level0 col132\" >How important is remote when evaluating new job opportunity?</th>        <th class=\"col_heading level0 col133\" >Most annoying about job search: Finding time</th>        <th class=\"col_heading level0 col134\" >Most annoying about job search: Finding job I'm qualified for</th>        <th class=\"col_heading level0 col135\" >Most annoying about job search: Finding interesting job</th>        <th class=\"col_heading level0 col136\" >Most annoying about job search: Interesting companies rarely respond</th>        <th class=\"col_heading level0 col137\" >Most annoying about job search: Writing and updating CV</th>        <th class=\"col_heading level0 col138\" >Most annoying about job search: Taking time off work to interview</th>        <th class=\"col_heading level0 col139\" >Most annoying about job search: The Interview</th>        <th class=\"col_heading level0 col140\" >How often contacted by recruiters</th>        <th class=\"col_heading level0 col141\" >Perception of recruiter contact</th>        <th class=\"col_heading level0 col142\" >Perception of contact form: Email</th>        <th class=\"col_heading level0 col143\" >Perception of contact form: LinkedIn</th>        <th class=\"col_heading level0 col144\" >Perception of contact form: Xing</th>        <th class=\"col_heading level0 col145\" >Perception of contact form: Phone</th>        <th class=\"col_heading level0 col146\" >Perception of contact form: Stack Overflow Careers</th>        <th class=\"col_heading level0 col147\" >Perception of contact form: Twitter</th>        <th class=\"col_heading level0 col148\" >Perception of contact form: Facebook</th>        <th class=\"col_heading level0 col149\" >Appealing message traits: Message is personalized</th>        <th class=\"col_heading level0 col150\" >Appealing message traits: Code or projects mentioned</th>        <th class=\"col_heading level0 col151\" >Appealing message traits: Stack Overflow activity mentioned</th>        <th class=\"col_heading level0 col152\" >Appealing message traits: Team described</th>        <th class=\"col_heading level0 col153\" >Appealing message traits: Company culture described</th>        <th class=\"col_heading level0 col154\" >Appealing message traits: Salary information</th>        <th class=\"col_heading level0 col155\" >Appealing message traits: Benefits & Perks</th>        <th class=\"col_heading level0 col156\" >Appealing message traits: Stack Overflow Company Page</th>        <th class=\"col_heading level0 col157\" >Most urgent info about job opportunity: Salary</th>        <th class=\"col_heading level0 col158\" >Most urgent info about job opportunity: Benefits</th>        <th class=\"col_heading level0 col159\" >Most urgent info about job opportunity: Company name</th>        <th class=\"col_heading level0 col160\" >Most urgent info about job opportunity: Tech stack</th>        <th class=\"col_heading level0 col161\" >Most urgent info about job opportunity: Office location</th>        <th class=\"col_heading level0 col162\" >Most urgent info about job opportunity: Job title</th>        <th class=\"col_heading level0 col163\" >Most urgent info about job opportunity: Colleagues</th>        <th class=\"col_heading level0 col164\" >Most urgent info about job opportunity: Product details</th>        <th class=\"col_heading level0 col165\" >Who do you want to communicate with about a new job opportunity: Headhunter</th>        <th class=\"col_heading level0 col166\" >Who do you want to communicate with about a new job opportunity: In-house recruiter</th>        <th class=\"col_heading level0 col167\" >Who do you want to communicate with about a new job opportunity: In-house tech recruiter</th>        <th class=\"col_heading level0 col168\" >Who do you want to communicate with about a new job opportunity: Manager</th>        <th class=\"col_heading level0 col169\" >Who do you want to communicate with about a new job opportunity: Developer</th>        <th class=\"col_heading level0 col170\" >How can companies improve interview process: More live code</th>        <th class=\"col_heading level0 col171\" >How can companies improve interview process: Flexible interview schedule</th>        <th class=\"col_heading level0 col172\" >How can companies improve interview process: Remote interviews</th>        <th class=\"col_heading level0 col173\" >How can companies improve interview process: Introduce me to boss</th>        <th class=\"col_heading level0 col174\" >How can companies improve interview process: Introduce me to team</th>        <th class=\"col_heading level0 col175\" >How can companies improve interview process: Gimme coffee</th>        <th class=\"col_heading level0 col176\" >How can companies improve interview process: Show me workplace</th>        <th class=\"col_heading level0 col177\" >How can companies improve interview process: Fewer brainteasers</th>        <th class=\"col_heading level0 col178\" >How can companies improve interview process: Better preparation</th>        <th class=\"col_heading level0 col179\" >Why try Stack Overflow Careers: No spam</th>        <th class=\"col_heading level0 col180\" >Why try Stack Overflow Careers: Jobs site for programmers</th>        <th class=\"col_heading level0 col181\" >Why try Stack Overflow Careers: Selection of revelant jobs</th>        <th class=\"col_heading level0 col182\" >Why try Stack Overflow Careers: Showcase Stack Overflow activity</th>        <th class=\"col_heading level0 col183\" >Why try Stack Overflow Careers: Jobs are on Stack Overflow</th>        <th class=\"col_heading level0 col184\" >Why try Stack Overflow Careers: Other</th>        <th class=\"col_heading level0 col185\" >How many caffeinated beverages per day?</th>        <th class=\"col_heading level0 col186\" >How many hours programming as hobby per week?</th>        <th class=\"col_heading level0 col187\" >How frequently land on or read Stack Overflow</th>        <th class=\"col_heading level0 col188\" >Preferred text editor</th>        <th class=\"col_heading level0 col189\" >Preferred text editor: write-in</th>        <th class=\"col_heading level0 col190\" >Prefered IDE theme</th>        <th class=\"col_heading level0 col191\" >Source control used: Git</th>        <th class=\"col_heading level0 col192\" >Source control used: Mercurial</th>        <th class=\"col_heading level0 col193\" >Source control used: SVN</th>        <th class=\"col_heading level0 col194\" >Source control used: CVS</th>        <th class=\"col_heading level0 col195\" >Source control used: Perforce</th>        <th class=\"col_heading level0 col196\" >Source control used: TFS</th>        <th class=\"col_heading level0 col197\" >Source control used: DCVS</th>        <th class=\"col_heading level0 col198\" >Source control used: Bitkeeper</th>        <th class=\"col_heading level0 col199\" >Source control used: Legacy / Custom</th>        <th class=\"col_heading level0 col200\" >Source control used: I don't use source control</th>        <th class=\"col_heading level0 col201\" >Source control used: write-in</th>        <th class=\"col_heading level0 col202\" >Prefered Source Control</th>        <th class=\"col_heading level0 col203\" >Prefered Source Control: write-in</th>        <th class=\"col_heading level0 col204\" >Why use Stack Overflow: Help for job</th>        <th class=\"col_heading level0 col205\" >Why use Stack Overflow: To give help</th>        <th class=\"col_heading level0 col206\" >Why use Stack Overflow: Can't do job without it</th>        <th class=\"col_heading level0 col207\" >Why use Stack Overflow: Maintain online presence</th>        <th class=\"col_heading level0 col208\" >Why use Stack Overflow: Demonstrate expertise</th>        <th class=\"col_heading level0 col209\" >Why use Stack Overflow: Communicate with others</th>        <th class=\"col_heading level0 col210\" >Why use Stack Overflow: Receive help on personal projects</th>        <th class=\"col_heading level0 col211\" >Why use Stack Overflow: Love to learn</th>        <th class=\"col_heading level0 col212\" >Why use Stack Overflow: I don't use Stack Overflow</th>        <th class=\"col_heading level0 col213\" >How often are Stack Overflow's answers helpful</th>        <th class=\"col_heading level0 col214\" >Why answer: Help a programmer in need</th>        <th class=\"col_heading level0 col215\" >Why answer: Help future programmers</th>        <th class=\"col_heading level0 col216\" >Why answer: Demonstrate expertise</th>        <th class=\"col_heading level0 col217\" >Why answer: Self promotion</th>        <th class=\"col_heading level0 col218\" >Why answer: Sense of responsibility to developers</th>        <th class=\"col_heading level0 col219\" >Why answer: No idea</th>        <th class=\"col_heading level0 col220\" >Why answer: I don't answer and I don't want to</th>        <th class=\"col_heading level0 col221\" >Why answer: I don't answer but I want to</th>    </tr></thead><tbody>\n",
       "                <tr>\n",
       "                        <th id=\"T_6e1aed6e_41de_11ea_82c8_acde48001122level0_row0\" class=\"row_heading level0 row0\" >1</th>\n",
       "                        <td id=\"T_6e1aed6e_41de_11ea_82c8_acde48001122row0_col0\" class=\"data row0 col0\" >Croatia</td>\n",
       "                        <td id=\"T_6e1aed6e_41de_11ea_82c8_acde48001122row0_col1\" class=\"data row0 col1\" >25-29</td>\n",
       "                        <td id=\"T_6e1aed6e_41de_11ea_82c8_acde48001122row0_col2\" class=\"data row0 col2\" >Male</td>\n",
       "                        <td id=\"T_6e1aed6e_41de_11ea_82c8_acde48001122row0_col3\" class=\"data row0 col3\" >Tabs</td>\n",
       "                        <td id=\"T_6e1aed6e_41de_11ea_82c8_acde48001122row0_col4\" class=\"data row0 col4\" >2 - 5 years</td>\n",
       "                        <td id=\"T_6e1aed6e_41de_11ea_82c8_acde48001122row0_col5\" class=\"data row0 col5\" >Back-end web developer</td>\n",
       "                        <td id=\"T_6e1aed6e_41de_11ea_82c8_acde48001122row0_col6\" class=\"data row0 col6\" >Ubuntu</td>\n",
       "                        <td id=\"T_6e1aed6e_41de_11ea_82c8_acde48001122row0_col7\" class=\"data row0 col7\" >nan</td>\n",
       "                        <td id=\"T_6e1aed6e_41de_11ea_82c8_acde48001122row0_col8\" class=\"data row0 col8\" >nan</td>\n",
       "                        <td id=\"T_6e1aed6e_41de_11ea_82c8_acde48001122row0_col9\" class=\"data row0 col9\" >nan</td>\n",
       "                        <td id=\"T_6e1aed6e_41de_11ea_82c8_acde48001122row0_col10\" class=\"data row0 col10\" >nan</td>\n",
       "                        <td id=\"T_6e1aed6e_41de_11ea_82c8_acde48001122row0_col11\" class=\"data row0 col11\" >nan</td>\n",
       "                        <td id=\"T_6e1aed6e_41de_11ea_82c8_acde48001122row0_col12\" class=\"data row0 col12\" >nan</td>\n",
       "                        <td id=\"T_6e1aed6e_41de_11ea_82c8_acde48001122row0_col13\" class=\"data row0 col13\" >nan</td>\n",
       "                        <td id=\"T_6e1aed6e_41de_11ea_82c8_acde48001122row0_col14\" class=\"data row0 col14\" >nan</td>\n",
       "                        <td id=\"T_6e1aed6e_41de_11ea_82c8_acde48001122row0_col15\" class=\"data row0 col15\" >nan</td>\n",
       "                        <td id=\"T_6e1aed6e_41de_11ea_82c8_acde48001122row0_col16\" class=\"data row0 col16\" >nan</td>\n",
       "                        <td id=\"T_6e1aed6e_41de_11ea_82c8_acde48001122row0_col17\" class=\"data row0 col17\" >nan</td>\n",
       "                        <td id=\"T_6e1aed6e_41de_11ea_82c8_acde48001122row0_col18\" class=\"data row0 col18\" >nan</td>\n",
       "                        <td id=\"T_6e1aed6e_41de_11ea_82c8_acde48001122row0_col19\" class=\"data row0 col19\" >nan</td>\n",
       "                        <td id=\"T_6e1aed6e_41de_11ea_82c8_acde48001122row0_col20\" class=\"data row0 col20\" >nan</td>\n",
       "                        <td id=\"T_6e1aed6e_41de_11ea_82c8_acde48001122row0_col21\" class=\"data row0 col21\" >nan</td>\n",
       "                        <td id=\"T_6e1aed6e_41de_11ea_82c8_acde48001122row0_col22\" class=\"data row0 col22\" >nan</td>\n",
       "                        <td id=\"T_6e1aed6e_41de_11ea_82c8_acde48001122row0_col23\" class=\"data row0 col23\" >nan</td>\n",
       "                        <td id=\"T_6e1aed6e_41de_11ea_82c8_acde48001122row0_col24\" class=\"data row0 col24\" >nan</td>\n",
       "                        <td id=\"T_6e1aed6e_41de_11ea_82c8_acde48001122row0_col25\" class=\"data row0 col25\" >nan</td>\n",
       "                        <td id=\"T_6e1aed6e_41de_11ea_82c8_acde48001122row0_col26\" class=\"data row0 col26\" >Java</td>\n",
       "                        <td id=\"T_6e1aed6e_41de_11ea_82c8_acde48001122row0_col27\" class=\"data row0 col27\" >nan</td>\n",
       "                        <td id=\"T_6e1aed6e_41de_11ea_82c8_acde48001122row0_col28\" class=\"data row0 col28\" >nan</td>\n",
       "                        <td id=\"T_6e1aed6e_41de_11ea_82c8_acde48001122row0_col29\" class=\"data row0 col29\" >nan</td>\n",
       "                        <td id=\"T_6e1aed6e_41de_11ea_82c8_acde48001122row0_col30\" class=\"data row0 col30\" >nan</td>\n",
       "                        <td id=\"T_6e1aed6e_41de_11ea_82c8_acde48001122row0_col31\" class=\"data row0 col31\" >nan</td>\n",
       "                        <td id=\"T_6e1aed6e_41de_11ea_82c8_acde48001122row0_col32\" class=\"data row0 col32\" >nan</td>\n",
       "                        <td id=\"T_6e1aed6e_41de_11ea_82c8_acde48001122row0_col33\" class=\"data row0 col33\" >nan</td>\n",
       "                        <td id=\"T_6e1aed6e_41de_11ea_82c8_acde48001122row0_col34\" class=\"data row0 col34\" >nan</td>\n",
       "                        <td id=\"T_6e1aed6e_41de_11ea_82c8_acde48001122row0_col35\" class=\"data row0 col35\" >nan</td>\n",
       "                        <td id=\"T_6e1aed6e_41de_11ea_82c8_acde48001122row0_col36\" class=\"data row0 col36\" >nan</td>\n",
       "                        <td id=\"T_6e1aed6e_41de_11ea_82c8_acde48001122row0_col37\" class=\"data row0 col37\" >nan</td>\n",
       "                        <td id=\"T_6e1aed6e_41de_11ea_82c8_acde48001122row0_col38\" class=\"data row0 col38\" >nan</td>\n",
       "                        <td id=\"T_6e1aed6e_41de_11ea_82c8_acde48001122row0_col39\" class=\"data row0 col39\" >nan</td>\n",
       "                        <td id=\"T_6e1aed6e_41de_11ea_82c8_acde48001122row0_col40\" class=\"data row0 col40\" >nan</td>\n",
       "                        <td id=\"T_6e1aed6e_41de_11ea_82c8_acde48001122row0_col41\" class=\"data row0 col41\" >Scala</td>\n",
       "                        <td id=\"T_6e1aed6e_41de_11ea_82c8_acde48001122row0_col42\" class=\"data row0 col42\" >nan</td>\n",
       "                        <td id=\"T_6e1aed6e_41de_11ea_82c8_acde48001122row0_col43\" class=\"data row0 col43\" >nan</td>\n",
       "                        <td id=\"T_6e1aed6e_41de_11ea_82c8_acde48001122row0_col44\" class=\"data row0 col44\" >nan</td>\n",
       "                        <td id=\"T_6e1aed6e_41de_11ea_82c8_acde48001122row0_col45\" class=\"data row0 col45\" >nan</td>\n",
       "                        <td id=\"T_6e1aed6e_41de_11ea_82c8_acde48001122row0_col46\" class=\"data row0 col46\" >nan</td>\n",
       "                        <td id=\"T_6e1aed6e_41de_11ea_82c8_acde48001122row0_col47\" class=\"data row0 col47\" >nan</td>\n",
       "                        <td id=\"T_6e1aed6e_41de_11ea_82c8_acde48001122row0_col48\" class=\"data row0 col48\" >nan</td>\n",
       "                        <td id=\"T_6e1aed6e_41de_11ea_82c8_acde48001122row0_col49\" class=\"data row0 col49\" >nan</td>\n",
       "                        <td id=\"T_6e1aed6e_41de_11ea_82c8_acde48001122row0_col50\" class=\"data row0 col50\" >nan</td>\n",
       "                        <td id=\"T_6e1aed6e_41de_11ea_82c8_acde48001122row0_col51\" class=\"data row0 col51\" >nan</td>\n",
       "                        <td id=\"T_6e1aed6e_41de_11ea_82c8_acde48001122row0_col52\" class=\"data row0 col52\" >nan</td>\n",
       "                        <td id=\"T_6e1aed6e_41de_11ea_82c8_acde48001122row0_col53\" class=\"data row0 col53\" >nan</td>\n",
       "                        <td id=\"T_6e1aed6e_41de_11ea_82c8_acde48001122row0_col54\" class=\"data row0 col54\" >nan</td>\n",
       "                        <td id=\"T_6e1aed6e_41de_11ea_82c8_acde48001122row0_col55\" class=\"data row0 col55\" >nan</td>\n",
       "                        <td id=\"T_6e1aed6e_41de_11ea_82c8_acde48001122row0_col56\" class=\"data row0 col56\" >nan</td>\n",
       "                        <td id=\"T_6e1aed6e_41de_11ea_82c8_acde48001122row0_col57\" class=\"data row0 col57\" >nan</td>\n",
       "                        <td id=\"T_6e1aed6e_41de_11ea_82c8_acde48001122row0_col58\" class=\"data row0 col58\" >nan</td>\n",
       "                        <td id=\"T_6e1aed6e_41de_11ea_82c8_acde48001122row0_col59\" class=\"data row0 col59\" >nan</td>\n",
       "                        <td id=\"T_6e1aed6e_41de_11ea_82c8_acde48001122row0_col60\" class=\"data row0 col60\" >nan</td>\n",
       "                        <td id=\"T_6e1aed6e_41de_11ea_82c8_acde48001122row0_col61\" class=\"data row0 col61\" >nan</td>\n",
       "                        <td id=\"T_6e1aed6e_41de_11ea_82c8_acde48001122row0_col62\" class=\"data row0 col62\" >nan</td>\n",
       "                        <td id=\"T_6e1aed6e_41de_11ea_82c8_acde48001122row0_col63\" class=\"data row0 col63\" >nan</td>\n",
       "                        <td id=\"T_6e1aed6e_41de_11ea_82c8_acde48001122row0_col64\" class=\"data row0 col64\" >nan</td>\n",
       "                        <td id=\"T_6e1aed6e_41de_11ea_82c8_acde48001122row0_col65\" class=\"data row0 col65\" >nan</td>\n",
       "                        <td id=\"T_6e1aed6e_41de_11ea_82c8_acde48001122row0_col66\" class=\"data row0 col66\" >Hadoop</td>\n",
       "                        <td id=\"T_6e1aed6e_41de_11ea_82c8_acde48001122row0_col67\" class=\"data row0 col67\" >nan</td>\n",
       "                        <td id=\"T_6e1aed6e_41de_11ea_82c8_acde48001122row0_col68\" class=\"data row0 col68\" >nan</td>\n",
       "                        <td id=\"T_6e1aed6e_41de_11ea_82c8_acde48001122row0_col69\" class=\"data row0 col69\" >nan</td>\n",
       "                        <td id=\"T_6e1aed6e_41de_11ea_82c8_acde48001122row0_col70\" class=\"data row0 col70\" >JavaScript</td>\n",
       "                        <td id=\"T_6e1aed6e_41de_11ea_82c8_acde48001122row0_col71\" class=\"data row0 col71\" >nan</td>\n",
       "                        <td id=\"T_6e1aed6e_41de_11ea_82c8_acde48001122row0_col72\" class=\"data row0 col72\" >nan</td>\n",
       "                        <td id=\"T_6e1aed6e_41de_11ea_82c8_acde48001122row0_col73\" class=\"data row0 col73\" >MongoDB</td>\n",
       "                        <td id=\"T_6e1aed6e_41de_11ea_82c8_acde48001122row0_col74\" class=\"data row0 col74\" >nan</td>\n",
       "                        <td id=\"T_6e1aed6e_41de_11ea_82c8_acde48001122row0_col75\" class=\"data row0 col75\" >nan</td>\n",
       "                        <td id=\"T_6e1aed6e_41de_11ea_82c8_acde48001122row0_col76\" class=\"data row0 col76\" >nan</td>\n",
       "                        <td id=\"T_6e1aed6e_41de_11ea_82c8_acde48001122row0_col77\" class=\"data row0 col77\" >nan</td>\n",
       "                        <td id=\"T_6e1aed6e_41de_11ea_82c8_acde48001122row0_col78\" class=\"data row0 col78\" >nan</td>\n",
       "                        <td id=\"T_6e1aed6e_41de_11ea_82c8_acde48001122row0_col79\" class=\"data row0 col79\" >nan</td>\n",
       "                        <td id=\"T_6e1aed6e_41de_11ea_82c8_acde48001122row0_col80\" class=\"data row0 col80\" >Redis</td>\n",
       "                        <td id=\"T_6e1aed6e_41de_11ea_82c8_acde48001122row0_col81\" class=\"data row0 col81\" >nan</td>\n",
       "                        <td id=\"T_6e1aed6e_41de_11ea_82c8_acde48001122row0_col82\" class=\"data row0 col82\" >nan</td>\n",
       "                        <td id=\"T_6e1aed6e_41de_11ea_82c8_acde48001122row0_col83\" class=\"data row0 col83\" >nan</td>\n",
       "                        <td id=\"T_6e1aed6e_41de_11ea_82c8_acde48001122row0_col84\" class=\"data row0 col84\" >Scala</td>\n",
       "                        <td id=\"T_6e1aed6e_41de_11ea_82c8_acde48001122row0_col85\" class=\"data row0 col85\" >nan</td>\n",
       "                        <td id=\"T_6e1aed6e_41de_11ea_82c8_acde48001122row0_col86\" class=\"data row0 col86\" >Spark</td>\n",
       "                        <td id=\"T_6e1aed6e_41de_11ea_82c8_acde48001122row0_col87\" class=\"data row0 col87\" >nan</td>\n",
       "                        <td id=\"T_6e1aed6e_41de_11ea_82c8_acde48001122row0_col88\" class=\"data row0 col88\" >nan</td>\n",
       "                        <td id=\"T_6e1aed6e_41de_11ea_82c8_acde48001122row0_col89\" class=\"data row0 col89\" >nan</td>\n",
       "                        <td id=\"T_6e1aed6e_41de_11ea_82c8_acde48001122row0_col90\" class=\"data row0 col90\" >nan</td>\n",
       "                        <td id=\"T_6e1aed6e_41de_11ea_82c8_acde48001122row0_col91\" class=\"data row0 col91\" >nan</td>\n",
       "                        <td id=\"T_6e1aed6e_41de_11ea_82c8_acde48001122row0_col92\" class=\"data row0 col92\" >nan</td>\n",
       "                        <td id=\"T_6e1aed6e_41de_11ea_82c8_acde48001122row0_col93\" class=\"data row0 col93\" >nan</td>\n",
       "                        <td id=\"T_6e1aed6e_41de_11ea_82c8_acde48001122row0_col94\" class=\"data row0 col94\" >nan</td>\n",
       "                        <td id=\"T_6e1aed6e_41de_11ea_82c8_acde48001122row0_col95\" class=\"data row0 col95\" >On-the-job training</td>\n",
       "                        <td id=\"T_6e1aed6e_41de_11ea_82c8_acde48001122row0_col96\" class=\"data row0 col96\" >nan</td>\n",
       "                        <td id=\"T_6e1aed6e_41de_11ea_82c8_acde48001122row0_col97\" class=\"data row0 col97\" >Online class (ie. Coursera, Codecademy, Khan Academy, etc.)</td>\n",
       "                        <td id=\"T_6e1aed6e_41de_11ea_82c8_acde48001122row0_col98\" class=\"data row0 col98\" >nan</td>\n",
       "                        <td id=\"T_6e1aed6e_41de_11ea_82c8_acde48001122row0_col99\" class=\"data row0 col99\" >nan</td>\n",
       "                        <td id=\"T_6e1aed6e_41de_11ea_82c8_acde48001122row0_col100\" class=\"data row0 col100\" >nan</td>\n",
       "                        <td id=\"T_6e1aed6e_41de_11ea_82c8_acde48001122row0_col101\" class=\"data row0 col101\" >nan</td>\n",
       "                        <td id=\"T_6e1aed6e_41de_11ea_82c8_acde48001122row0_col102\" class=\"data row0 col102\" >Masters Degree in Computer Science (or related field)</td>\n",
       "                        <td id=\"T_6e1aed6e_41de_11ea_82c8_acde48001122row0_col103\" class=\"data row0 col103\" >nan</td>\n",
       "                        <td id=\"T_6e1aed6e_41de_11ea_82c8_acde48001122row0_col104\" class=\"data row0 col104\" >nan</td>\n",
       "                        <td id=\"T_6e1aed6e_41de_11ea_82c8_acde48001122row0_col105\" class=\"data row0 col105\" >$20,000 - $40,000</td>\n",
       "                        <td id=\"T_6e1aed6e_41de_11ea_82c8_acde48001122row0_col106\" class=\"data row0 col106\" >30000</td>\n",
       "                        <td id=\"T_6e1aed6e_41de_11ea_82c8_acde48001122row0_col107\" class=\"data row0 col107\" >Employed full-time</td>\n",
       "                        <td id=\"T_6e1aed6e_41de_11ea_82c8_acde48001122row0_col108\" class=\"data row0 col108\" >Aerospace</td>\n",
       "                        <td id=\"T_6e1aed6e_41de_11ea_82c8_acde48001122row0_col109\" class=\"data row0 col109\" >I'm somewhat satisfied with my job</td>\n",
       "                        <td id=\"T_6e1aed6e_41de_11ea_82c8_acde48001122row0_col110\" class=\"data row0 col110\" >I can recommend or request products</td>\n",
       "                        <td id=\"T_6e1aed6e_41de_11ea_82c8_acde48001122row0_col111\" class=\"data row0 col111\" >Never</td>\n",
       "                        <td id=\"T_6e1aed6e_41de_11ea_82c8_acde48001122row0_col112\" class=\"data row0 col112\" >No</td>\n",
       "                        <td id=\"T_6e1aed6e_41de_11ea_82c8_acde48001122row0_col113\" class=\"data row0 col113\" >I am actively looking for a new job</td>\n",
       "                        <td id=\"T_6e1aed6e_41de_11ea_82c8_acde48001122row0_col114\" class=\"data row0 col114\" >nan</td>\n",
       "                        <td id=\"T_6e1aed6e_41de_11ea_82c8_acde48001122row0_col115\" class=\"data row0 col115\" >nan</td>\n",
       "                        <td id=\"T_6e1aed6e_41de_11ea_82c8_acde48001122row0_col116\" class=\"data row0 col116\" >nan</td>\n",
       "                        <td id=\"T_6e1aed6e_41de_11ea_82c8_acde48001122row0_col117\" class=\"data row0 col117\" >nan</td>\n",
       "                        <td id=\"T_6e1aed6e_41de_11ea_82c8_acde48001122row0_col118\" class=\"data row0 col118\" >nan</td>\n",
       "                        <td id=\"T_6e1aed6e_41de_11ea_82c8_acde48001122row0_col119\" class=\"data row0 col119\" >Tech stack</td>\n",
       "                        <td id=\"T_6e1aed6e_41de_11ea_82c8_acde48001122row0_col120\" class=\"data row0 col120\" >Company size</td>\n",
       "                        <td id=\"T_6e1aed6e_41de_11ea_82c8_acde48001122row0_col121\" class=\"data row0 col121\" >nan</td>\n",
       "                        <td id=\"T_6e1aed6e_41de_11ea_82c8_acde48001122row0_col122\" class=\"data row0 col122\" >nan</td>\n",
       "                        <td id=\"T_6e1aed6e_41de_11ea_82c8_acde48001122row0_col123\" class=\"data row0 col123\" >nan</td>\n",
       "                        <td id=\"T_6e1aed6e_41de_11ea_82c8_acde48001122row0_col124\" class=\"data row0 col124\" >nan</td>\n",
       "                        <td id=\"T_6e1aed6e_41de_11ea_82c8_acde48001122row0_col125\" class=\"data row0 col125\" >nan</td>\n",
       "                        <td id=\"T_6e1aed6e_41de_11ea_82c8_acde48001122row0_col126\" class=\"data row0 col126\" >Quality of colleagues</td>\n",
       "                        <td id=\"T_6e1aed6e_41de_11ea_82c8_acde48001122row0_col127\" class=\"data row0 col127\" >nan</td>\n",
       "                        <td id=\"T_6e1aed6e_41de_11ea_82c8_acde48001122row0_col128\" class=\"data row0 col128\" >nan</td>\n",
       "                        <td id=\"T_6e1aed6e_41de_11ea_82c8_acde48001122row0_col129\" class=\"data row0 col129\" >nan</td>\n",
       "                        <td id=\"T_6e1aed6e_41de_11ea_82c8_acde48001122row0_col130\" class=\"data row0 col130\" >nan</td>\n",
       "                        <td id=\"T_6e1aed6e_41de_11ea_82c8_acde48001122row0_col131\" class=\"data row0 col131\" >nan</td>\n",
       "                        <td id=\"T_6e1aed6e_41de_11ea_82c8_acde48001122row0_col132\" class=\"data row0 col132\" >Somewhat important</td>\n",
       "                        <td id=\"T_6e1aed6e_41de_11ea_82c8_acde48001122row0_col133\" class=\"data row0 col133\" >Finding time to job search</td>\n",
       "                        <td id=\"T_6e1aed6e_41de_11ea_82c8_acde48001122row0_col134\" class=\"data row0 col134\" >nan</td>\n",
       "                        <td id=\"T_6e1aed6e_41de_11ea_82c8_acde48001122row0_col135\" class=\"data row0 col135\" >Searching for a job that seems interesting</td>\n",
       "                        <td id=\"T_6e1aed6e_41de_11ea_82c8_acde48001122row0_col136\" class=\"data row0 col136\" >Interesting companies rarely respond</td>\n",
       "                        <td id=\"T_6e1aed6e_41de_11ea_82c8_acde48001122row0_col137\" class=\"data row0 col137\" >nan</td>\n",
       "                        <td id=\"T_6e1aed6e_41de_11ea_82c8_acde48001122row0_col138\" class=\"data row0 col138\" >nan</td>\n",
       "                        <td id=\"T_6e1aed6e_41de_11ea_82c8_acde48001122row0_col139\" class=\"data row0 col139\" >nan</td>\n",
       "                        <td id=\"T_6e1aed6e_41de_11ea_82c8_acde48001122row0_col140\" class=\"data row0 col140\" >Rarely</td>\n",
       "                        <td id=\"T_6e1aed6e_41de_11ea_82c8_acde48001122row0_col141\" class=\"data row0 col141\" >I wish more recruiters contacted me!</td>\n",
       "                        <td id=\"T_6e1aed6e_41de_11ea_82c8_acde48001122row0_col142\" class=\"data row0 col142\" >Great</td>\n",
       "                        <td id=\"T_6e1aed6e_41de_11ea_82c8_acde48001122row0_col143\" class=\"data row0 col143\" >Great</td>\n",
       "                        <td id=\"T_6e1aed6e_41de_11ea_82c8_acde48001122row0_col144\" class=\"data row0 col144\" >I don't have an account</td>\n",
       "                        <td id=\"T_6e1aed6e_41de_11ea_82c8_acde48001122row0_col145\" class=\"data row0 col145\" >Hate</td>\n",
       "                        <td id=\"T_6e1aed6e_41de_11ea_82c8_acde48001122row0_col146\" class=\"data row0 col146\" >Great</td>\n",
       "                        <td id=\"T_6e1aed6e_41de_11ea_82c8_acde48001122row0_col147\" class=\"data row0 col147\" >Hate</td>\n",
       "                        <td id=\"T_6e1aed6e_41de_11ea_82c8_acde48001122row0_col148\" class=\"data row0 col148\" >Tolerate</td>\n",
       "                        <td id=\"T_6e1aed6e_41de_11ea_82c8_acde48001122row0_col149\" class=\"data row0 col149\" >Message is personalized</td>\n",
       "                        <td id=\"T_6e1aed6e_41de_11ea_82c8_acde48001122row0_col150\" class=\"data row0 col150\" >nan</td>\n",
       "                        <td id=\"T_6e1aed6e_41de_11ea_82c8_acde48001122row0_col151\" class=\"data row0 col151\" >Stack Overflow activity is mentioned</td>\n",
       "                        <td id=\"T_6e1aed6e_41de_11ea_82c8_acde48001122row0_col152\" class=\"data row0 col152\" >nan</td>\n",
       "                        <td id=\"T_6e1aed6e_41de_11ea_82c8_acde48001122row0_col153\" class=\"data row0 col153\" >nan</td>\n",
       "                        <td id=\"T_6e1aed6e_41de_11ea_82c8_acde48001122row0_col154\" class=\"data row0 col154\" >Salary information is provided</td>\n",
       "                        <td id=\"T_6e1aed6e_41de_11ea_82c8_acde48001122row0_col155\" class=\"data row0 col155\" >nan</td>\n",
       "                        <td id=\"T_6e1aed6e_41de_11ea_82c8_acde48001122row0_col156\" class=\"data row0 col156\" >nan</td>\n",
       "                        <td id=\"T_6e1aed6e_41de_11ea_82c8_acde48001122row0_col157\" class=\"data row0 col157\" >Salary</td>\n",
       "                        <td id=\"T_6e1aed6e_41de_11ea_82c8_acde48001122row0_col158\" class=\"data row0 col158\" >Benefits</td>\n",
       "                        <td id=\"T_6e1aed6e_41de_11ea_82c8_acde48001122row0_col159\" class=\"data row0 col159\" >Company name</td>\n",
       "                        <td id=\"T_6e1aed6e_41de_11ea_82c8_acde48001122row0_col160\" class=\"data row0 col160\" >Tech stack</td>\n",
       "                        <td id=\"T_6e1aed6e_41de_11ea_82c8_acde48001122row0_col161\" class=\"data row0 col161\" >Office location</td>\n",
       "                        <td id=\"T_6e1aed6e_41de_11ea_82c8_acde48001122row0_col162\" class=\"data row0 col162\" >Job title</td>\n",
       "                        <td id=\"T_6e1aed6e_41de_11ea_82c8_acde48001122row0_col163\" class=\"data row0 col163\" >People I would be working with</td>\n",
       "                        <td id=\"T_6e1aed6e_41de_11ea_82c8_acde48001122row0_col164\" class=\"data row0 col164\" >Details about the product or project I'd be working on</td>\n",
       "                        <td id=\"T_6e1aed6e_41de_11ea_82c8_acde48001122row0_col165\" class=\"data row0 col165\" >Tolerate</td>\n",
       "                        <td id=\"T_6e1aed6e_41de_11ea_82c8_acde48001122row0_col166\" class=\"data row0 col166\" >Tolerate</td>\n",
       "                        <td id=\"T_6e1aed6e_41de_11ea_82c8_acde48001122row0_col167\" class=\"data row0 col167\" >Great</td>\n",
       "                        <td id=\"T_6e1aed6e_41de_11ea_82c8_acde48001122row0_col168\" class=\"data row0 col168\" >Great</td>\n",
       "                        <td id=\"T_6e1aed6e_41de_11ea_82c8_acde48001122row0_col169\" class=\"data row0 col169\" >Great</td>\n",
       "                        <td id=\"T_6e1aed6e_41de_11ea_82c8_acde48001122row0_col170\" class=\"data row0 col170\" >Show meæmore live code</td>\n",
       "                        <td id=\"T_6e1aed6e_41de_11ea_82c8_acde48001122row0_col171\" class=\"data row0 col171\" >nan</td>\n",
       "                        <td id=\"T_6e1aed6e_41de_11ea_82c8_acde48001122row0_col172\" class=\"data row0 col172\" >Offer remote interviews (ie. via video conference)</td>\n",
       "                        <td id=\"T_6e1aed6e_41de_11ea_82c8_acde48001122row0_col173\" class=\"data row0 col173\" >Introduce me to the boss</td>\n",
       "                        <td id=\"T_6e1aed6e_41de_11ea_82c8_acde48001122row0_col174\" class=\"data row0 col174\" >nan</td>\n",
       "                        <td id=\"T_6e1aed6e_41de_11ea_82c8_acde48001122row0_col175\" class=\"data row0 col175\" >nan</td>\n",
       "                        <td id=\"T_6e1aed6e_41de_11ea_82c8_acde48001122row0_col176\" class=\"data row0 col176\" >nan</td>\n",
       "                        <td id=\"T_6e1aed6e_41de_11ea_82c8_acde48001122row0_col177\" class=\"data row0 col177\" >nan</td>\n",
       "                        <td id=\"T_6e1aed6e_41de_11ea_82c8_acde48001122row0_col178\" class=\"data row0 col178\" >nan</td>\n",
       "                        <td id=\"T_6e1aed6e_41de_11ea_82c8_acde48001122row0_col179\" class=\"data row0 col179\" >nan</td>\n",
       "                        <td id=\"T_6e1aed6e_41de_11ea_82c8_acde48001122row0_col180\" class=\"data row0 col180\" >It's a jobs site specificallyæfor programmers</td>\n",
       "                        <td id=\"T_6e1aed6e_41de_11ea_82c8_acde48001122row0_col181\" class=\"data row0 col181\" >Goodæselection of relevant jobs</td>\n",
       "                        <td id=\"T_6e1aed6e_41de_11ea_82c8_acde48001122row0_col182\" class=\"data row0 col182\" >To showcase my Stack Overflow activity</td>\n",
       "                        <td id=\"T_6e1aed6e_41de_11ea_82c8_acde48001122row0_col183\" class=\"data row0 col183\" >Because the jobs ads are right there on Stack Overflow</td>\n",
       "                        <td id=\"T_6e1aed6e_41de_11ea_82c8_acde48001122row0_col184\" class=\"data row0 col184\" >nan</td>\n",
       "                        <td id=\"T_6e1aed6e_41de_11ea_82c8_acde48001122row0_col185\" class=\"data row0 col185\" >0</td>\n",
       "                        <td id=\"T_6e1aed6e_41de_11ea_82c8_acde48001122row0_col186\" class=\"data row0 col186\" >5-10 hours per week</td>\n",
       "                        <td id=\"T_6e1aed6e_41de_11ea_82c8_acde48001122row0_col187\" class=\"data row0 col187\" >Multipleætimes a day</td>\n",
       "                        <td id=\"T_6e1aed6e_41de_11ea_82c8_acde48001122row0_col188\" class=\"data row0 col188\" >Sublime Text</td>\n",
       "                        <td id=\"T_6e1aed6e_41de_11ea_82c8_acde48001122row0_col189\" class=\"data row0 col189\" >nan</td>\n",
       "                        <td id=\"T_6e1aed6e_41de_11ea_82c8_acde48001122row0_col190\" class=\"data row0 col190\" >Dark</td>\n",
       "                        <td id=\"T_6e1aed6e_41de_11ea_82c8_acde48001122row0_col191\" class=\"data row0 col191\" >nan</td>\n",
       "                        <td id=\"T_6e1aed6e_41de_11ea_82c8_acde48001122row0_col192\" class=\"data row0 col192\" >Mercurial</td>\n",
       "                        <td id=\"T_6e1aed6e_41de_11ea_82c8_acde48001122row0_col193\" class=\"data row0 col193\" >nan</td>\n",
       "                        <td id=\"T_6e1aed6e_41de_11ea_82c8_acde48001122row0_col194\" class=\"data row0 col194\" >nan</td>\n",
       "                        <td id=\"T_6e1aed6e_41de_11ea_82c8_acde48001122row0_col195\" class=\"data row0 col195\" >nan</td>\n",
       "                        <td id=\"T_6e1aed6e_41de_11ea_82c8_acde48001122row0_col196\" class=\"data row0 col196\" >nan</td>\n",
       "                        <td id=\"T_6e1aed6e_41de_11ea_82c8_acde48001122row0_col197\" class=\"data row0 col197\" >nan</td>\n",
       "                        <td id=\"T_6e1aed6e_41de_11ea_82c8_acde48001122row0_col198\" class=\"data row0 col198\" >nan</td>\n",
       "                        <td id=\"T_6e1aed6e_41de_11ea_82c8_acde48001122row0_col199\" class=\"data row0 col199\" >nan</td>\n",
       "                        <td id=\"T_6e1aed6e_41de_11ea_82c8_acde48001122row0_col200\" class=\"data row0 col200\" >nan</td>\n",
       "                        <td id=\"T_6e1aed6e_41de_11ea_82c8_acde48001122row0_col201\" class=\"data row0 col201\" >nan</td>\n",
       "                        <td id=\"T_6e1aed6e_41de_11ea_82c8_acde48001122row0_col202\" class=\"data row0 col202\" >Mercurial</td>\n",
       "                        <td id=\"T_6e1aed6e_41de_11ea_82c8_acde48001122row0_col203\" class=\"data row0 col203\" >nan</td>\n",
       "                        <td id=\"T_6e1aed6e_41de_11ea_82c8_acde48001122row0_col204\" class=\"data row0 col204\" >To get help for my job</td>\n",
       "                        <td id=\"T_6e1aed6e_41de_11ea_82c8_acde48001122row0_col205\" class=\"data row0 col205\" >To give help to others</td>\n",
       "                        <td id=\"T_6e1aed6e_41de_11ea_82c8_acde48001122row0_col206\" class=\"data row0 col206\" >Because I can't do my job without it</td>\n",
       "                        <td id=\"T_6e1aed6e_41de_11ea_82c8_acde48001122row0_col207\" class=\"data row0 col207\" >nan</td>\n",
       "                        <td id=\"T_6e1aed6e_41de_11ea_82c8_acde48001122row0_col208\" class=\"data row0 col208\" >To demonstrate that I'm good at what I do</td>\n",
       "                        <td id=\"T_6e1aed6e_41de_11ea_82c8_acde48001122row0_col209\" class=\"data row0 col209\" >nan</td>\n",
       "                        <td id=\"T_6e1aed6e_41de_11ea_82c8_acde48001122row0_col210\" class=\"data row0 col210\" >To receive help onæmy personal projects</td>\n",
       "                        <td id=\"T_6e1aed6e_41de_11ea_82c8_acde48001122row0_col211\" class=\"data row0 col211\" >Because I love to learn</td>\n",
       "                        <td id=\"T_6e1aed6e_41de_11ea_82c8_acde48001122row0_col212\" class=\"data row0 col212\" >nan</td>\n",
       "                        <td id=\"T_6e1aed6e_41de_11ea_82c8_acde48001122row0_col213\" class=\"data row0 col213\" >Usually</td>\n",
       "                        <td id=\"T_6e1aed6e_41de_11ea_82c8_acde48001122row0_col214\" class=\"data row0 col214\" >nan</td>\n",
       "                        <td id=\"T_6e1aed6e_41de_11ea_82c8_acde48001122row0_col215\" class=\"data row0 col215\" >nan</td>\n",
       "                        <td id=\"T_6e1aed6e_41de_11ea_82c8_acde48001122row0_col216\" class=\"data row0 col216\" >It feels good to demonstrate my expertise.</td>\n",
       "                        <td id=\"T_6e1aed6e_41de_11ea_82c8_acde48001122row0_col217\" class=\"data row0 col217\" >Demonstrating my expertise will benefit me</td>\n",
       "                        <td id=\"T_6e1aed6e_41de_11ea_82c8_acde48001122row0_col218\" class=\"data row0 col218\" >I feel a sense of responsibility to the developer community</td>\n",
       "                        <td id=\"T_6e1aed6e_41de_11ea_82c8_acde48001122row0_col219\" class=\"data row0 col219\" >nan</td>\n",
       "                        <td id=\"T_6e1aed6e_41de_11ea_82c8_acde48001122row0_col220\" class=\"data row0 col220\" >nan</td>\n",
       "                        <td id=\"T_6e1aed6e_41de_11ea_82c8_acde48001122row0_col221\" class=\"data row0 col221\" >nan</td>\n",
       "            </tr>\n",
       "            <tr>\n",
       "                        <th id=\"T_6e1aed6e_41de_11ea_82c8_acde48001122level0_row1\" class=\"row_heading level0 row1\" >2</th>\n",
       "                        <td id=\"T_6e1aed6e_41de_11ea_82c8_acde48001122row1_col0\" class=\"data row1 col0\" >France</td>\n",
       "                        <td id=\"T_6e1aed6e_41de_11ea_82c8_acde48001122row1_col1\" class=\"data row1 col1\" >20-24</td>\n",
       "                        <td id=\"T_6e1aed6e_41de_11ea_82c8_acde48001122row1_col2\" class=\"data row1 col2\" >Male</td>\n",
       "                        <td id=\"T_6e1aed6e_41de_11ea_82c8_acde48001122row1_col3\" class=\"data row1 col3\" >Spaces</td>\n",
       "                        <td id=\"T_6e1aed6e_41de_11ea_82c8_acde48001122row1_col4\" class=\"data row1 col4\" >1 - 2 years</td>\n",
       "                        <td id=\"T_6e1aed6e_41de_11ea_82c8_acde48001122row1_col5\" class=\"data row1 col5\" >Back-end web developer</td>\n",
       "                        <td id=\"T_6e1aed6e_41de_11ea_82c8_acde48001122row1_col6\" class=\"data row1 col6\" >Windows 7</td>\n",
       "                        <td id=\"T_6e1aed6e_41de_11ea_82c8_acde48001122row1_col7\" class=\"data row1 col7\" >nan</td>\n",
       "                        <td id=\"T_6e1aed6e_41de_11ea_82c8_acde48001122row1_col8\" class=\"data row1 col8\" >nan</td>\n",
       "                        <td id=\"T_6e1aed6e_41de_11ea_82c8_acde48001122row1_col9\" class=\"data row1 col9\" >nan</td>\n",
       "                        <td id=\"T_6e1aed6e_41de_11ea_82c8_acde48001122row1_col10\" class=\"data row1 col10\" >nan</td>\n",
       "                        <td id=\"T_6e1aed6e_41de_11ea_82c8_acde48001122row1_col11\" class=\"data row1 col11\" >nan</td>\n",
       "                        <td id=\"T_6e1aed6e_41de_11ea_82c8_acde48001122row1_col12\" class=\"data row1 col12\" >nan</td>\n",
       "                        <td id=\"T_6e1aed6e_41de_11ea_82c8_acde48001122row1_col13\" class=\"data row1 col13\" >nan</td>\n",
       "                        <td id=\"T_6e1aed6e_41de_11ea_82c8_acde48001122row1_col14\" class=\"data row1 col14\" >C#</td>\n",
       "                        <td id=\"T_6e1aed6e_41de_11ea_82c8_acde48001122row1_col15\" class=\"data row1 col15\" >nan</td>\n",
       "                        <td id=\"T_6e1aed6e_41de_11ea_82c8_acde48001122row1_col16\" class=\"data row1 col16\" >nan</td>\n",
       "                        <td id=\"T_6e1aed6e_41de_11ea_82c8_acde48001122row1_col17\" class=\"data row1 col17\" >nan</td>\n",
       "                        <td id=\"T_6e1aed6e_41de_11ea_82c8_acde48001122row1_col18\" class=\"data row1 col18\" >nan</td>\n",
       "                        <td id=\"T_6e1aed6e_41de_11ea_82c8_acde48001122row1_col19\" class=\"data row1 col19\" >nan</td>\n",
       "                        <td id=\"T_6e1aed6e_41de_11ea_82c8_acde48001122row1_col20\" class=\"data row1 col20\" >nan</td>\n",
       "                        <td id=\"T_6e1aed6e_41de_11ea_82c8_acde48001122row1_col21\" class=\"data row1 col21\" >nan</td>\n",
       "                        <td id=\"T_6e1aed6e_41de_11ea_82c8_acde48001122row1_col22\" class=\"data row1 col22\" >nan</td>\n",
       "                        <td id=\"T_6e1aed6e_41de_11ea_82c8_acde48001122row1_col23\" class=\"data row1 col23\" >nan</td>\n",
       "                        <td id=\"T_6e1aed6e_41de_11ea_82c8_acde48001122row1_col24\" class=\"data row1 col24\" >nan</td>\n",
       "                        <td id=\"T_6e1aed6e_41de_11ea_82c8_acde48001122row1_col25\" class=\"data row1 col25\" >nan</td>\n",
       "                        <td id=\"T_6e1aed6e_41de_11ea_82c8_acde48001122row1_col26\" class=\"data row1 col26\" >nan</td>\n",
       "                        <td id=\"T_6e1aed6e_41de_11ea_82c8_acde48001122row1_col27\" class=\"data row1 col27\" >nan</td>\n",
       "                        <td id=\"T_6e1aed6e_41de_11ea_82c8_acde48001122row1_col28\" class=\"data row1 col28\" >nan</td>\n",
       "                        <td id=\"T_6e1aed6e_41de_11ea_82c8_acde48001122row1_col29\" class=\"data row1 col29\" >nan</td>\n",
       "                        <td id=\"T_6e1aed6e_41de_11ea_82c8_acde48001122row1_col30\" class=\"data row1 col30\" >nan</td>\n",
       "                        <td id=\"T_6e1aed6e_41de_11ea_82c8_acde48001122row1_col31\" class=\"data row1 col31\" >nan</td>\n",
       "                        <td id=\"T_6e1aed6e_41de_11ea_82c8_acde48001122row1_col32\" class=\"data row1 col32\" >nan</td>\n",
       "                        <td id=\"T_6e1aed6e_41de_11ea_82c8_acde48001122row1_col33\" class=\"data row1 col33\" >nan</td>\n",
       "                        <td id=\"T_6e1aed6e_41de_11ea_82c8_acde48001122row1_col34\" class=\"data row1 col34\" >nan</td>\n",
       "                        <td id=\"T_6e1aed6e_41de_11ea_82c8_acde48001122row1_col35\" class=\"data row1 col35\" >nan</td>\n",
       "                        <td id=\"T_6e1aed6e_41de_11ea_82c8_acde48001122row1_col36\" class=\"data row1 col36\" >nan</td>\n",
       "                        <td id=\"T_6e1aed6e_41de_11ea_82c8_acde48001122row1_col37\" class=\"data row1 col37\" >nan</td>\n",
       "                        <td id=\"T_6e1aed6e_41de_11ea_82c8_acde48001122row1_col38\" class=\"data row1 col38\" >nan</td>\n",
       "                        <td id=\"T_6e1aed6e_41de_11ea_82c8_acde48001122row1_col39\" class=\"data row1 col39\" >nan</td>\n",
       "                        <td id=\"T_6e1aed6e_41de_11ea_82c8_acde48001122row1_col40\" class=\"data row1 col40\" >nan</td>\n",
       "                        <td id=\"T_6e1aed6e_41de_11ea_82c8_acde48001122row1_col41\" class=\"data row1 col41\" >nan</td>\n",
       "                        <td id=\"T_6e1aed6e_41de_11ea_82c8_acde48001122row1_col42\" class=\"data row1 col42\" >nan</td>\n",
       "                        <td id=\"T_6e1aed6e_41de_11ea_82c8_acde48001122row1_col43\" class=\"data row1 col43\" >nan</td>\n",
       "                        <td id=\"T_6e1aed6e_41de_11ea_82c8_acde48001122row1_col44\" class=\"data row1 col44\" >nan</td>\n",
       "                        <td id=\"T_6e1aed6e_41de_11ea_82c8_acde48001122row1_col45\" class=\"data row1 col45\" >nan</td>\n",
       "                        <td id=\"T_6e1aed6e_41de_11ea_82c8_acde48001122row1_col46\" class=\"data row1 col46\" >nan</td>\n",
       "                        <td id=\"T_6e1aed6e_41de_11ea_82c8_acde48001122row1_col47\" class=\"data row1 col47\" >nan</td>\n",
       "                        <td id=\"T_6e1aed6e_41de_11ea_82c8_acde48001122row1_col48\" class=\"data row1 col48\" >nan</td>\n",
       "                        <td id=\"T_6e1aed6e_41de_11ea_82c8_acde48001122row1_col49\" class=\"data row1 col49\" >nan</td>\n",
       "                        <td id=\"T_6e1aed6e_41de_11ea_82c8_acde48001122row1_col50\" class=\"data row1 col50\" >nan</td>\n",
       "                        <td id=\"T_6e1aed6e_41de_11ea_82c8_acde48001122row1_col51\" class=\"data row1 col51\" >nan</td>\n",
       "                        <td id=\"T_6e1aed6e_41de_11ea_82c8_acde48001122row1_col52\" class=\"data row1 col52\" >nan</td>\n",
       "                        <td id=\"T_6e1aed6e_41de_11ea_82c8_acde48001122row1_col53\" class=\"data row1 col53\" >nan</td>\n",
       "                        <td id=\"T_6e1aed6e_41de_11ea_82c8_acde48001122row1_col54\" class=\"data row1 col54\" >nan</td>\n",
       "                        <td id=\"T_6e1aed6e_41de_11ea_82c8_acde48001122row1_col55\" class=\"data row1 col55\" >nan</td>\n",
       "                        <td id=\"T_6e1aed6e_41de_11ea_82c8_acde48001122row1_col56\" class=\"data row1 col56\" >nan</td>\n",
       "                        <td id=\"T_6e1aed6e_41de_11ea_82c8_acde48001122row1_col57\" class=\"data row1 col57\" >nan</td>\n",
       "                        <td id=\"T_6e1aed6e_41de_11ea_82c8_acde48001122row1_col58\" class=\"data row1 col58\" >nan</td>\n",
       "                        <td id=\"T_6e1aed6e_41de_11ea_82c8_acde48001122row1_col59\" class=\"data row1 col59\" >nan</td>\n",
       "                        <td id=\"T_6e1aed6e_41de_11ea_82c8_acde48001122row1_col60\" class=\"data row1 col60\" >nan</td>\n",
       "                        <td id=\"T_6e1aed6e_41de_11ea_82c8_acde48001122row1_col61\" class=\"data row1 col61\" >nan</td>\n",
       "                        <td id=\"T_6e1aed6e_41de_11ea_82c8_acde48001122row1_col62\" class=\"data row1 col62\" >nan</td>\n",
       "                        <td id=\"T_6e1aed6e_41de_11ea_82c8_acde48001122row1_col63\" class=\"data row1 col63\" >nan</td>\n",
       "                        <td id=\"T_6e1aed6e_41de_11ea_82c8_acde48001122row1_col64\" class=\"data row1 col64\" >nan</td>\n",
       "                        <td id=\"T_6e1aed6e_41de_11ea_82c8_acde48001122row1_col65\" class=\"data row1 col65\" >nan</td>\n",
       "                        <td id=\"T_6e1aed6e_41de_11ea_82c8_acde48001122row1_col66\" class=\"data row1 col66\" >nan</td>\n",
       "                        <td id=\"T_6e1aed6e_41de_11ea_82c8_acde48001122row1_col67\" class=\"data row1 col67\" >nan</td>\n",
       "                        <td id=\"T_6e1aed6e_41de_11ea_82c8_acde48001122row1_col68\" class=\"data row1 col68\" >nan</td>\n",
       "                        <td id=\"T_6e1aed6e_41de_11ea_82c8_acde48001122row1_col69\" class=\"data row1 col69\" >nan</td>\n",
       "                        <td id=\"T_6e1aed6e_41de_11ea_82c8_acde48001122row1_col70\" class=\"data row1 col70\" >nan</td>\n",
       "                        <td id=\"T_6e1aed6e_41de_11ea_82c8_acde48001122row1_col71\" class=\"data row1 col71\" >nan</td>\n",
       "                        <td id=\"T_6e1aed6e_41de_11ea_82c8_acde48001122row1_col72\" class=\"data row1 col72\" >nan</td>\n",
       "                        <td id=\"T_6e1aed6e_41de_11ea_82c8_acde48001122row1_col73\" class=\"data row1 col73\" >nan</td>\n",
       "                        <td id=\"T_6e1aed6e_41de_11ea_82c8_acde48001122row1_col74\" class=\"data row1 col74\" >nan</td>\n",
       "                        <td id=\"T_6e1aed6e_41de_11ea_82c8_acde48001122row1_col75\" class=\"data row1 col75\" >nan</td>\n",
       "                        <td id=\"T_6e1aed6e_41de_11ea_82c8_acde48001122row1_col76\" class=\"data row1 col76\" >nan</td>\n",
       "                        <td id=\"T_6e1aed6e_41de_11ea_82c8_acde48001122row1_col77\" class=\"data row1 col77\" >nan</td>\n",
       "                        <td id=\"T_6e1aed6e_41de_11ea_82c8_acde48001122row1_col78\" class=\"data row1 col78\" >nan</td>\n",
       "                        <td id=\"T_6e1aed6e_41de_11ea_82c8_acde48001122row1_col79\" class=\"data row1 col79\" >nan</td>\n",
       "                        <td id=\"T_6e1aed6e_41de_11ea_82c8_acde48001122row1_col80\" class=\"data row1 col80\" >nan</td>\n",
       "                        <td id=\"T_6e1aed6e_41de_11ea_82c8_acde48001122row1_col81\" class=\"data row1 col81\" >Ruby</td>\n",
       "                        <td id=\"T_6e1aed6e_41de_11ea_82c8_acde48001122row1_col82\" class=\"data row1 col82\" >nan</td>\n",
       "                        <td id=\"T_6e1aed6e_41de_11ea_82c8_acde48001122row1_col83\" class=\"data row1 col83\" >nan</td>\n",
       "                        <td id=\"T_6e1aed6e_41de_11ea_82c8_acde48001122row1_col84\" class=\"data row1 col84\" >nan</td>\n",
       "                        <td id=\"T_6e1aed6e_41de_11ea_82c8_acde48001122row1_col85\" class=\"data row1 col85\" >nan</td>\n",
       "                        <td id=\"T_6e1aed6e_41de_11ea_82c8_acde48001122row1_col86\" class=\"data row1 col86\" >nan</td>\n",
       "                        <td id=\"T_6e1aed6e_41de_11ea_82c8_acde48001122row1_col87\" class=\"data row1 col87\" >nan</td>\n",
       "                        <td id=\"T_6e1aed6e_41de_11ea_82c8_acde48001122row1_col88\" class=\"data row1 col88\" >nan</td>\n",
       "                        <td id=\"T_6e1aed6e_41de_11ea_82c8_acde48001122row1_col89\" class=\"data row1 col89\" >nan</td>\n",
       "                        <td id=\"T_6e1aed6e_41de_11ea_82c8_acde48001122row1_col90\" class=\"data row1 col90\" >nan</td>\n",
       "                        <td id=\"T_6e1aed6e_41de_11ea_82c8_acde48001122row1_col91\" class=\"data row1 col91\" >nan</td>\n",
       "                        <td id=\"T_6e1aed6e_41de_11ea_82c8_acde48001122row1_col92\" class=\"data row1 col92\" >nan</td>\n",
       "                        <td id=\"T_6e1aed6e_41de_11ea_82c8_acde48001122row1_col93\" class=\"data row1 col93\" >nan</td>\n",
       "                        <td id=\"T_6e1aed6e_41de_11ea_82c8_acde48001122row1_col94\" class=\"data row1 col94\" >nan</td>\n",
       "                        <td id=\"T_6e1aed6e_41de_11ea_82c8_acde48001122row1_col95\" class=\"data row1 col95\" >nan</td>\n",
       "                        <td id=\"T_6e1aed6e_41de_11ea_82c8_acde48001122row1_col96\" class=\"data row1 col96\" >nan</td>\n",
       "                        <td id=\"T_6e1aed6e_41de_11ea_82c8_acde48001122row1_col97\" class=\"data row1 col97\" >Online class (ie. Coursera, Codecademy, Khan Academy, etc.)</td>\n",
       "                        <td id=\"T_6e1aed6e_41de_11ea_82c8_acde48001122row1_col98\" class=\"data row1 col98\" >nan</td>\n",
       "                        <td id=\"T_6e1aed6e_41de_11ea_82c8_acde48001122row1_col99\" class=\"data row1 col99\" >Industry certification program</td>\n",
       "                        <td id=\"T_6e1aed6e_41de_11ea_82c8_acde48001122row1_col100\" class=\"data row1 col100\" >nan</td>\n",
       "                        <td id=\"T_6e1aed6e_41de_11ea_82c8_acde48001122row1_col101\" class=\"data row1 col101\" >nan</td>\n",
       "                        <td id=\"T_6e1aed6e_41de_11ea_82c8_acde48001122row1_col102\" class=\"data row1 col102\" >Masters Degree in Computer Science (or related field)</td>\n",
       "                        <td id=\"T_6e1aed6e_41de_11ea_82c8_acde48001122row1_col103\" class=\"data row1 col103\" >nan</td>\n",
       "                        <td id=\"T_6e1aed6e_41de_11ea_82c8_acde48001122row1_col104\" class=\"data row1 col104\" >nan</td>\n",
       "                        <td id=\"T_6e1aed6e_41de_11ea_82c8_acde48001122row1_col105\" class=\"data row1 col105\" >$20,000 - $40,000</td>\n",
       "                        <td id=\"T_6e1aed6e_41de_11ea_82c8_acde48001122row1_col106\" class=\"data row1 col106\" >30000</td>\n",
       "                        <td id=\"T_6e1aed6e_41de_11ea_82c8_acde48001122row1_col107\" class=\"data row1 col107\" >Employed full-time</td>\n",
       "                        <td id=\"T_6e1aed6e_41de_11ea_82c8_acde48001122row1_col108\" class=\"data row1 col108\" >Aerospace</td>\n",
       "                        <td id=\"T_6e1aed6e_41de_11ea_82c8_acde48001122row1_col109\" class=\"data row1 col109\" >I'm neither satisfied nor dissatisfied with my job</td>\n",
       "                        <td id=\"T_6e1aed6e_41de_11ea_82c8_acde48001122row1_col110\" class=\"data row1 col110\" >I have no say in purchasing what I need or want at work</td>\n",
       "                        <td id=\"T_6e1aed6e_41de_11ea_82c8_acde48001122row1_col111\" class=\"data row1 col111\" >Never</td>\n",
       "                        <td id=\"T_6e1aed6e_41de_11ea_82c8_acde48001122row1_col112\" class=\"data row1 col112\" >Yes</td>\n",
       "                        <td id=\"T_6e1aed6e_41de_11ea_82c8_acde48001122row1_col113\" class=\"data row1 col113\" >I am open to new job opportunities</td>\n",
       "                        <td id=\"T_6e1aed6e_41de_11ea_82c8_acde48001122row1_col114\" class=\"data row1 col114\" >Salary</td>\n",
       "                        <td id=\"T_6e1aed6e_41de_11ea_82c8_acde48001122row1_col115\" class=\"data row1 col115\" >nan</td>\n",
       "                        <td id=\"T_6e1aed6e_41de_11ea_82c8_acde48001122row1_col116\" class=\"data row1 col116\" >nan</td>\n",
       "                        <td id=\"T_6e1aed6e_41de_11ea_82c8_acde48001122row1_col117\" class=\"data row1 col117\" >nan</td>\n",
       "                        <td id=\"T_6e1aed6e_41de_11ea_82c8_acde48001122row1_col118\" class=\"data row1 col118\" >nan</td>\n",
       "                        <td id=\"T_6e1aed6e_41de_11ea_82c8_acde48001122row1_col119\" class=\"data row1 col119\" >nan</td>\n",
       "                        <td id=\"T_6e1aed6e_41de_11ea_82c8_acde48001122row1_col120\" class=\"data row1 col120\" >nan</td>\n",
       "                        <td id=\"T_6e1aed6e_41de_11ea_82c8_acde48001122row1_col121\" class=\"data row1 col121\" >nan</td>\n",
       "                        <td id=\"T_6e1aed6e_41de_11ea_82c8_acde48001122row1_col122\" class=\"data row1 col122\" >Work/life balance</td>\n",
       "                        <td id=\"T_6e1aed6e_41de_11ea_82c8_acde48001122row1_col123\" class=\"data row1 col123\" >nan</td>\n",
       "                        <td id=\"T_6e1aed6e_41de_11ea_82c8_acde48001122row1_col124\" class=\"data row1 col124\" >nan</td>\n",
       "                        <td id=\"T_6e1aed6e_41de_11ea_82c8_acde48001122row1_col125\" class=\"data row1 col125\" >nan</td>\n",
       "                        <td id=\"T_6e1aed6e_41de_11ea_82c8_acde48001122row1_col126\" class=\"data row1 col126\" >Quality of colleagues</td>\n",
       "                        <td id=\"T_6e1aed6e_41de_11ea_82c8_acde48001122row1_col127\" class=\"data row1 col127\" >nan</td>\n",
       "                        <td id=\"T_6e1aed6e_41de_11ea_82c8_acde48001122row1_col128\" class=\"data row1 col128\" >nan</td>\n",
       "                        <td id=\"T_6e1aed6e_41de_11ea_82c8_acde48001122row1_col129\" class=\"data row1 col129\" >nan</td>\n",
       "                        <td id=\"T_6e1aed6e_41de_11ea_82c8_acde48001122row1_col130\" class=\"data row1 col130\" >nan</td>\n",
       "                        <td id=\"T_6e1aed6e_41de_11ea_82c8_acde48001122row1_col131\" class=\"data row1 col131\" >nan</td>\n",
       "                        <td id=\"T_6e1aed6e_41de_11ea_82c8_acde48001122row1_col132\" class=\"data row1 col132\" >Neutral - I don't mind working in the office or remotely</td>\n",
       "                        <td id=\"T_6e1aed6e_41de_11ea_82c8_acde48001122row1_col133\" class=\"data row1 col133\" >nan</td>\n",
       "                        <td id=\"T_6e1aed6e_41de_11ea_82c8_acde48001122row1_col134\" class=\"data row1 col134\" >nan</td>\n",
       "                        <td id=\"T_6e1aed6e_41de_11ea_82c8_acde48001122row1_col135\" class=\"data row1 col135\" >Searching for a job that seems interesting</td>\n",
       "                        <td id=\"T_6e1aed6e_41de_11ea_82c8_acde48001122row1_col136\" class=\"data row1 col136\" >nan</td>\n",
       "                        <td id=\"T_6e1aed6e_41de_11ea_82c8_acde48001122row1_col137\" class=\"data row1 col137\" >nan</td>\n",
       "                        <td id=\"T_6e1aed6e_41de_11ea_82c8_acde48001122row1_col138\" class=\"data row1 col138\" >Taking time off work to interview</td>\n",
       "                        <td id=\"T_6e1aed6e_41de_11ea_82c8_acde48001122row1_col139\" class=\"data row1 col139\" >The interview process</td>\n",
       "                        <td id=\"T_6e1aed6e_41de_11ea_82c8_acde48001122row1_col140\" class=\"data row1 col140\" >Rarely</td>\n",
       "                        <td id=\"T_6e1aed6e_41de_11ea_82c8_acde48001122row1_col141\" class=\"data row1 col141\" >I wish more recruiters contacted me!</td>\n",
       "                        <td id=\"T_6e1aed6e_41de_11ea_82c8_acde48001122row1_col142\" class=\"data row1 col142\" >Great</td>\n",
       "                        <td id=\"T_6e1aed6e_41de_11ea_82c8_acde48001122row1_col143\" class=\"data row1 col143\" >Great</td>\n",
       "                        <td id=\"T_6e1aed6e_41de_11ea_82c8_acde48001122row1_col144\" class=\"data row1 col144\" >I don't have an account</td>\n",
       "                        <td id=\"T_6e1aed6e_41de_11ea_82c8_acde48001122row1_col145\" class=\"data row1 col145\" >Tolerate</td>\n",
       "                        <td id=\"T_6e1aed6e_41de_11ea_82c8_acde48001122row1_col146\" class=\"data row1 col146\" >Great</td>\n",
       "                        <td id=\"T_6e1aed6e_41de_11ea_82c8_acde48001122row1_col147\" class=\"data row1 col147\" >Tolerate</td>\n",
       "                        <td id=\"T_6e1aed6e_41de_11ea_82c8_acde48001122row1_col148\" class=\"data row1 col148\" >Hate</td>\n",
       "                        <td id=\"T_6e1aed6e_41de_11ea_82c8_acde48001122row1_col149\" class=\"data row1 col149\" >Message is personalized</td>\n",
       "                        <td id=\"T_6e1aed6e_41de_11ea_82c8_acde48001122row1_col150\" class=\"data row1 col150\" >Code or projects I've worked on are referenced</td>\n",
       "                        <td id=\"T_6e1aed6e_41de_11ea_82c8_acde48001122row1_col151\" class=\"data row1 col151\" >nan</td>\n",
       "                        <td id=\"T_6e1aed6e_41de_11ea_82c8_acde48001122row1_col152\" class=\"data row1 col152\" >nan</td>\n",
       "                        <td id=\"T_6e1aed6e_41de_11ea_82c8_acde48001122row1_col153\" class=\"data row1 col153\" >nan</td>\n",
       "                        <td id=\"T_6e1aed6e_41de_11ea_82c8_acde48001122row1_col154\" class=\"data row1 col154\" >nan</td>\n",
       "                        <td id=\"T_6e1aed6e_41de_11ea_82c8_acde48001122row1_col155\" class=\"data row1 col155\" >Benefits / perks of the work environment are described</td>\n",
       "                        <td id=\"T_6e1aed6e_41de_11ea_82c8_acde48001122row1_col156\" class=\"data row1 col156\" >nan</td>\n",
       "                        <td id=\"T_6e1aed6e_41de_11ea_82c8_acde48001122row1_col157\" class=\"data row1 col157\" >nan</td>\n",
       "                        <td id=\"T_6e1aed6e_41de_11ea_82c8_acde48001122row1_col158\" class=\"data row1 col158\" >nan</td>\n",
       "                        <td id=\"T_6e1aed6e_41de_11ea_82c8_acde48001122row1_col159\" class=\"data row1 col159\" >nan</td>\n",
       "                        <td id=\"T_6e1aed6e_41de_11ea_82c8_acde48001122row1_col160\" class=\"data row1 col160\" >Tech stack</td>\n",
       "                        <td id=\"T_6e1aed6e_41de_11ea_82c8_acde48001122row1_col161\" class=\"data row1 col161\" >nan</td>\n",
       "                        <td id=\"T_6e1aed6e_41de_11ea_82c8_acde48001122row1_col162\" class=\"data row1 col162\" >nan</td>\n",
       "                        <td id=\"T_6e1aed6e_41de_11ea_82c8_acde48001122row1_col163\" class=\"data row1 col163\" >nan</td>\n",
       "                        <td id=\"T_6e1aed6e_41de_11ea_82c8_acde48001122row1_col164\" class=\"data row1 col164\" >nan</td>\n",
       "                        <td id=\"T_6e1aed6e_41de_11ea_82c8_acde48001122row1_col165\" class=\"data row1 col165\" >Hate</td>\n",
       "                        <td id=\"T_6e1aed6e_41de_11ea_82c8_acde48001122row1_col166\" class=\"data row1 col166\" >Tolerate</td>\n",
       "                        <td id=\"T_6e1aed6e_41de_11ea_82c8_acde48001122row1_col167\" class=\"data row1 col167\" >Great</td>\n",
       "                        <td id=\"T_6e1aed6e_41de_11ea_82c8_acde48001122row1_col168\" class=\"data row1 col168\" >Great</td>\n",
       "                        <td id=\"T_6e1aed6e_41de_11ea_82c8_acde48001122row1_col169\" class=\"data row1 col169\" >Great</td>\n",
       "                        <td id=\"T_6e1aed6e_41de_11ea_82c8_acde48001122row1_col170\" class=\"data row1 col170\" >nan</td>\n",
       "                        <td id=\"T_6e1aed6e_41de_11ea_82c8_acde48001122row1_col171\" class=\"data row1 col171\" >Be more flexible about interview scheduling</td>\n",
       "                        <td id=\"T_6e1aed6e_41de_11ea_82c8_acde48001122row1_col172\" class=\"data row1 col172\" >Offer remote interviews (ie. via video conference)</td>\n",
       "                        <td id=\"T_6e1aed6e_41de_11ea_82c8_acde48001122row1_col173\" class=\"data row1 col173\" >nan</td>\n",
       "                        <td id=\"T_6e1aed6e_41de_11ea_82c8_acde48001122row1_col174\" class=\"data row1 col174\" >nan</td>\n",
       "                        <td id=\"T_6e1aed6e_41de_11ea_82c8_acde48001122row1_col175\" class=\"data row1 col175\" >nan</td>\n",
       "                        <td id=\"T_6e1aed6e_41de_11ea_82c8_acde48001122row1_col176\" class=\"data row1 col176\" >nan</td>\n",
       "                        <td id=\"T_6e1aed6e_41de_11ea_82c8_acde48001122row1_col177\" class=\"data row1 col177\" >nan</td>\n",
       "                        <td id=\"T_6e1aed6e_41de_11ea_82c8_acde48001122row1_col178\" class=\"data row1 col178\" >nan</td>\n",
       "                        <td id=\"T_6e1aed6e_41de_11ea_82c8_acde48001122row1_col179\" class=\"data row1 col179\" >nan</td>\n",
       "                        <td id=\"T_6e1aed6e_41de_11ea_82c8_acde48001122row1_col180\" class=\"data row1 col180\" >It's a jobs site specificallyæfor programmers</td>\n",
       "                        <td id=\"T_6e1aed6e_41de_11ea_82c8_acde48001122row1_col181\" class=\"data row1 col181\" >Goodæselection of relevant jobs</td>\n",
       "                        <td id=\"T_6e1aed6e_41de_11ea_82c8_acde48001122row1_col182\" class=\"data row1 col182\" >nan</td>\n",
       "                        <td id=\"T_6e1aed6e_41de_11ea_82c8_acde48001122row1_col183\" class=\"data row1 col183\" >nan</td>\n",
       "                        <td id=\"T_6e1aed6e_41de_11ea_82c8_acde48001122row1_col184\" class=\"data row1 col184\" >nan</td>\n",
       "                        <td id=\"T_6e1aed6e_41de_11ea_82c8_acde48001122row1_col185\" class=\"data row1 col185\" >3</td>\n",
       "                        <td id=\"T_6e1aed6e_41de_11ea_82c8_acde48001122row1_col186\" class=\"data row1 col186\" >2-5 hours per week</td>\n",
       "                        <td id=\"T_6e1aed6e_41de_11ea_82c8_acde48001122row1_col187\" class=\"data row1 col187\" >Once a day</td>\n",
       "                        <td id=\"T_6e1aed6e_41de_11ea_82c8_acde48001122row1_col188\" class=\"data row1 col188\" >nan</td>\n",
       "                        <td id=\"T_6e1aed6e_41de_11ea_82c8_acde48001122row1_col189\" class=\"data row1 col189\" >Visual Studio 2013</td>\n",
       "                        <td id=\"T_6e1aed6e_41de_11ea_82c8_acde48001122row1_col190\" class=\"data row1 col190\" >Light</td>\n",
       "                        <td id=\"T_6e1aed6e_41de_11ea_82c8_acde48001122row1_col191\" class=\"data row1 col191\" >Git</td>\n",
       "                        <td id=\"T_6e1aed6e_41de_11ea_82c8_acde48001122row1_col192\" class=\"data row1 col192\" >nan</td>\n",
       "                        <td id=\"T_6e1aed6e_41de_11ea_82c8_acde48001122row1_col193\" class=\"data row1 col193\" >nan</td>\n",
       "                        <td id=\"T_6e1aed6e_41de_11ea_82c8_acde48001122row1_col194\" class=\"data row1 col194\" >nan</td>\n",
       "                        <td id=\"T_6e1aed6e_41de_11ea_82c8_acde48001122row1_col195\" class=\"data row1 col195\" >nan</td>\n",
       "                        <td id=\"T_6e1aed6e_41de_11ea_82c8_acde48001122row1_col196\" class=\"data row1 col196\" >TFS</td>\n",
       "                        <td id=\"T_6e1aed6e_41de_11ea_82c8_acde48001122row1_col197\" class=\"data row1 col197\" >nan</td>\n",
       "                        <td id=\"T_6e1aed6e_41de_11ea_82c8_acde48001122row1_col198\" class=\"data row1 col198\" >nan</td>\n",
       "                        <td id=\"T_6e1aed6e_41de_11ea_82c8_acde48001122row1_col199\" class=\"data row1 col199\" >nan</td>\n",
       "                        <td id=\"T_6e1aed6e_41de_11ea_82c8_acde48001122row1_col200\" class=\"data row1 col200\" >nan</td>\n",
       "                        <td id=\"T_6e1aed6e_41de_11ea_82c8_acde48001122row1_col201\" class=\"data row1 col201\" >nan</td>\n",
       "                        <td id=\"T_6e1aed6e_41de_11ea_82c8_acde48001122row1_col202\" class=\"data row1 col202\" >TFS</td>\n",
       "                        <td id=\"T_6e1aed6e_41de_11ea_82c8_acde48001122row1_col203\" class=\"data row1 col203\" >nan</td>\n",
       "                        <td id=\"T_6e1aed6e_41de_11ea_82c8_acde48001122row1_col204\" class=\"data row1 col204\" >To get help for my job</td>\n",
       "                        <td id=\"T_6e1aed6e_41de_11ea_82c8_acde48001122row1_col205\" class=\"data row1 col205\" >To give help to others</td>\n",
       "                        <td id=\"T_6e1aed6e_41de_11ea_82c8_acde48001122row1_col206\" class=\"data row1 col206\" >nan</td>\n",
       "                        <td id=\"T_6e1aed6e_41de_11ea_82c8_acde48001122row1_col207\" class=\"data row1 col207\" >nan</td>\n",
       "                        <td id=\"T_6e1aed6e_41de_11ea_82c8_acde48001122row1_col208\" class=\"data row1 col208\" >nan</td>\n",
       "                        <td id=\"T_6e1aed6e_41de_11ea_82c8_acde48001122row1_col209\" class=\"data row1 col209\" >nan</td>\n",
       "                        <td id=\"T_6e1aed6e_41de_11ea_82c8_acde48001122row1_col210\" class=\"data row1 col210\" >To receive help onæmy personal projects</td>\n",
       "                        <td id=\"T_6e1aed6e_41de_11ea_82c8_acde48001122row1_col211\" class=\"data row1 col211\" >nan</td>\n",
       "                        <td id=\"T_6e1aed6e_41de_11ea_82c8_acde48001122row1_col212\" class=\"data row1 col212\" >nan</td>\n",
       "                        <td id=\"T_6e1aed6e_41de_11ea_82c8_acde48001122row1_col213\" class=\"data row1 col213\" >Usually</td>\n",
       "                        <td id=\"T_6e1aed6e_41de_11ea_82c8_acde48001122row1_col214\" class=\"data row1 col214\" >nan</td>\n",
       "                        <td id=\"T_6e1aed6e_41de_11ea_82c8_acde48001122row1_col215\" class=\"data row1 col215\" >My answer will help lots of people who have the same problem in the future</td>\n",
       "                        <td id=\"T_6e1aed6e_41de_11ea_82c8_acde48001122row1_col216\" class=\"data row1 col216\" >It feels good to demonstrate my expertise.</td>\n",
       "                        <td id=\"T_6e1aed6e_41de_11ea_82c8_acde48001122row1_col217\" class=\"data row1 col217\" >nan</td>\n",
       "                        <td id=\"T_6e1aed6e_41de_11ea_82c8_acde48001122row1_col218\" class=\"data row1 col218\" >nan</td>\n",
       "                        <td id=\"T_6e1aed6e_41de_11ea_82c8_acde48001122row1_col219\" class=\"data row1 col219\" >nan</td>\n",
       "                        <td id=\"T_6e1aed6e_41de_11ea_82c8_acde48001122row1_col220\" class=\"data row1 col220\" >nan</td>\n",
       "                        <td id=\"T_6e1aed6e_41de_11ea_82c8_acde48001122row1_col221\" class=\"data row1 col221\" >nan</td>\n",
       "            </tr>\n",
       "    </tbody></table>"
      ],
      "text/plain": [
       "<pandas.io.formats.style.Styler at 0x1c5afe3e50>"
      ]
     },
     "execution_count": 520,
     "metadata": {},
     "output_type": "execute_result"
    }
   ],
   "source": [
    "survey_2015 = pd.read_csv(\"survey_results_public_2015.csv\",sep = \",\",engine='python')\n",
    "new_header_2015 = survey_2015.iloc[0] #grab the first row for the header\n",
    "survey_2015 = survey_2015[1:] #take the data less the header row\n",
    "survey_2015.columns = new_header_2015 #set the header row as the df header\n",
    "survey_2015.head(2).style.set_properties(**style_dict)"
   ]
  },
  {
   "cell_type": "code",
   "execution_count": 521,
   "metadata": {},
   "outputs": [],
   "source": [
    "#Load the  datasets from 2016 to 2019 :\n",
    "survey_2016 = pd.read_csv(\"survey_results_public_2016.csv\",sep = \",\")\n",
    "survey_2017 = pd.read_csv(\"survey_results_public_2017.csv\",sep = \",\")\n",
    "survey_2018 = pd.read_csv(\"survey_results_public_2018.csv\",sep = \",\")\n",
    "survey_2019 = pd.read_csv(\"survey_results_public_2019.csv\",sep = \",\")"
   ]
  },
  {
   "cell_type": "markdown",
   "metadata": {},
   "source": [
    "### Observations: \n",
    "-  I wanted to do the comparative analysis of surveys from 2011 to 2019, but due to the data inconsistency in surveys from 2011 to 2015, am going with 4 years data from 2016 to 2019. Also, in some sections  of this analysis I have used data only of year 2019. \n",
    "- You can see above cells to see few lines of surveys from 2011 to 2015 .\n",
    "- To use the data from 2011 to 2015 one will have to arrange the data properly and it will take good amount of time, that is why I am just going with data from 2016 to 2019."
   ]
  },
  {
   "cell_type": "markdown",
   "metadata": {},
   "source": [
    "## <a id = '2'> 2. OVERVIEW </a>"
   ]
  },
  {
   "cell_type": "markdown",
   "metadata": {},
   "source": [
    "### <a  id='2.1'> 2.1. DATA INFORMATION<a/>"
   ]
  },
  {
   "cell_type": "code",
   "execution_count": 659,
   "metadata": {},
   "outputs": [
    {
     "data": {
      "text/plain": [
       "Index(['Respondent', 'MainBranch', 'Hobbyist', 'OpenSourcer', 'OpenSource',\n",
       "       'Employment', 'Country', 'Student', 'EdLevel', 'UndergradMajor',\n",
       "       'EduOther', 'OrgSize', 'DevType', 'YearsCode', 'Age1stCode',\n",
       "       'YearsCodePro', 'CareerSat', 'JobSat', 'MgrIdiot', 'MgrMoney',\n",
       "       'MgrWant', 'JobSeek', 'LastHireDate', 'LastInt', 'FizzBuzz',\n",
       "       'JobFactors', 'ResumeUpdate', 'CurrencySymbol', 'CurrencyDesc',\n",
       "       'CompTotal', 'CompFreq', 'ConvertedComp', 'WorkWeekHrs', 'WorkPlan',\n",
       "       'WorkChallenge', 'WorkRemote', 'WorkLoc', 'ImpSyn', 'CodeRev',\n",
       "       'CodeRevHrs', 'UnitTests', 'PurchaseHow', 'PurchaseWhat',\n",
       "       'LanguageWorkedWith', 'LanguageDesireNextYear', 'DatabaseWorkedWith',\n",
       "       'DatabaseDesireNextYear', 'PlatformWorkedWith',\n",
       "       'PlatformDesireNextYear', 'WebFrameWorkedWith',\n",
       "       'WebFrameDesireNextYear', 'MiscTechWorkedWith',\n",
       "       'MiscTechDesireNextYear', 'DevEnviron', 'OpSys', 'Containers',\n",
       "       'BlockchainOrg', 'BlockchainIs', 'BetterLife', 'ITperson', 'OffOn',\n",
       "       'SocialMedia', 'Extraversion', 'ScreenName', 'SOVisit1st',\n",
       "       'SOVisitFreq', 'SOVisitTo', 'SOFindAnswer', 'SOTimeSaved',\n",
       "       'SOHowMuchTime', 'SOAccount', 'SOPartFreq', 'SOJobs', 'EntTeams',\n",
       "       'SOComm', 'WelcomeChange', 'SONewContent', 'Age', 'Gender', 'Trans',\n",
       "       'Sexuality', 'Ethnicity', 'Dependents', 'SurveyLength', 'SurveyEase'],\n",
       "      dtype='object')"
      ]
     },
     "execution_count": 659,
     "metadata": {},
     "output_type": "execute_result"
    }
   ],
   "source": [
    "# Data columns in the dataset:\n",
    "survey_2019.columns"
   ]
  },
  {
   "cell_type": "markdown",
   "metadata": {},
   "source": [
    "### <a id = '2.2' > 2.2. HEAD <a/>"
   ]
  },
  {
   "cell_type": "markdown",
   "metadata": {},
   "source": [
    "#####  Let's see first few lines of the survey"
   ]
  },
  {
   "cell_type": "code",
   "execution_count": 660,
   "metadata": {},
   "outputs": [
    {
     "data": {
      "text/html": [
       "<style  type=\"text/css\" >\n",
       "    #T_96f2d16c_429b_11ea_82c8_acde48001122row0_col0 {\n",
       "            background-color:  lightyellow;\n",
       "            color:  #000000;\n",
       "            border-color:  red;\n",
       "            font-family:  Roboto;\n",
       "        }    #T_96f2d16c_429b_11ea_82c8_acde48001122row0_col1 {\n",
       "            background-color:  lightyellow;\n",
       "            color:  #000000;\n",
       "            border-color:  red;\n",
       "            font-family:  Roboto;\n",
       "        }    #T_96f2d16c_429b_11ea_82c8_acde48001122row0_col2 {\n",
       "            background-color:  lightyellow;\n",
       "            color:  #000000;\n",
       "            border-color:  red;\n",
       "            font-family:  Roboto;\n",
       "        }    #T_96f2d16c_429b_11ea_82c8_acde48001122row0_col3 {\n",
       "            background-color:  lightyellow;\n",
       "            color:  #000000;\n",
       "            border-color:  red;\n",
       "            font-family:  Roboto;\n",
       "        }    #T_96f2d16c_429b_11ea_82c8_acde48001122row0_col4 {\n",
       "            background-color:  lightyellow;\n",
       "            color:  #000000;\n",
       "            border-color:  red;\n",
       "            font-family:  Roboto;\n",
       "        }    #T_96f2d16c_429b_11ea_82c8_acde48001122row0_col5 {\n",
       "            background-color:  lightyellow;\n",
       "            color:  #000000;\n",
       "            border-color:  red;\n",
       "            font-family:  Roboto;\n",
       "        }    #T_96f2d16c_429b_11ea_82c8_acde48001122row0_col6 {\n",
       "            background-color:  lightyellow;\n",
       "            color:  #000000;\n",
       "            border-color:  red;\n",
       "            font-family:  Roboto;\n",
       "        }    #T_96f2d16c_429b_11ea_82c8_acde48001122row0_col7 {\n",
       "            background-color:  lightyellow;\n",
       "            color:  #000000;\n",
       "            border-color:  red;\n",
       "            font-family:  Roboto;\n",
       "        }    #T_96f2d16c_429b_11ea_82c8_acde48001122row0_col8 {\n",
       "            background-color:  lightyellow;\n",
       "            color:  #000000;\n",
       "            border-color:  red;\n",
       "            font-family:  Roboto;\n",
       "        }    #T_96f2d16c_429b_11ea_82c8_acde48001122row0_col9 {\n",
       "            background-color:  lightyellow;\n",
       "            color:  #000000;\n",
       "            border-color:  red;\n",
       "            font-family:  Roboto;\n",
       "        }    #T_96f2d16c_429b_11ea_82c8_acde48001122row0_col10 {\n",
       "            background-color:  lightyellow;\n",
       "            color:  #000000;\n",
       "            border-color:  red;\n",
       "            font-family:  Roboto;\n",
       "        }    #T_96f2d16c_429b_11ea_82c8_acde48001122row0_col11 {\n",
       "            background-color:  lightyellow;\n",
       "            color:  #000000;\n",
       "            border-color:  red;\n",
       "            font-family:  Roboto;\n",
       "        }    #T_96f2d16c_429b_11ea_82c8_acde48001122row0_col12 {\n",
       "            background-color:  lightyellow;\n",
       "            color:  #000000;\n",
       "            border-color:  red;\n",
       "            font-family:  Roboto;\n",
       "        }    #T_96f2d16c_429b_11ea_82c8_acde48001122row0_col13 {\n",
       "            background-color:  lightyellow;\n",
       "            color:  #000000;\n",
       "            border-color:  red;\n",
       "            font-family:  Roboto;\n",
       "        }    #T_96f2d16c_429b_11ea_82c8_acde48001122row0_col14 {\n",
       "            background-color:  lightyellow;\n",
       "            color:  #000000;\n",
       "            border-color:  red;\n",
       "            font-family:  Roboto;\n",
       "        }    #T_96f2d16c_429b_11ea_82c8_acde48001122row0_col15 {\n",
       "            background-color:  lightyellow;\n",
       "            color:  #000000;\n",
       "            border-color:  red;\n",
       "            font-family:  Roboto;\n",
       "        }    #T_96f2d16c_429b_11ea_82c8_acde48001122row0_col16 {\n",
       "            background-color:  lightyellow;\n",
       "            color:  #000000;\n",
       "            border-color:  red;\n",
       "            font-family:  Roboto;\n",
       "        }    #T_96f2d16c_429b_11ea_82c8_acde48001122row0_col17 {\n",
       "            background-color:  lightyellow;\n",
       "            color:  #000000;\n",
       "            border-color:  red;\n",
       "            font-family:  Roboto;\n",
       "        }    #T_96f2d16c_429b_11ea_82c8_acde48001122row0_col18 {\n",
       "            background-color:  lightyellow;\n",
       "            color:  #000000;\n",
       "            border-color:  red;\n",
       "            font-family:  Roboto;\n",
       "        }    #T_96f2d16c_429b_11ea_82c8_acde48001122row0_col19 {\n",
       "            background-color:  lightyellow;\n",
       "            color:  #000000;\n",
       "            border-color:  red;\n",
       "            font-family:  Roboto;\n",
       "        }    #T_96f2d16c_429b_11ea_82c8_acde48001122row0_col20 {\n",
       "            background-color:  lightyellow;\n",
       "            color:  #000000;\n",
       "            border-color:  red;\n",
       "            font-family:  Roboto;\n",
       "        }    #T_96f2d16c_429b_11ea_82c8_acde48001122row0_col21 {\n",
       "            background-color:  lightyellow;\n",
       "            color:  #000000;\n",
       "            border-color:  red;\n",
       "            font-family:  Roboto;\n",
       "        }    #T_96f2d16c_429b_11ea_82c8_acde48001122row0_col22 {\n",
       "            background-color:  lightyellow;\n",
       "            color:  #000000;\n",
       "            border-color:  red;\n",
       "            font-family:  Roboto;\n",
       "        }    #T_96f2d16c_429b_11ea_82c8_acde48001122row0_col23 {\n",
       "            background-color:  lightyellow;\n",
       "            color:  #000000;\n",
       "            border-color:  red;\n",
       "            font-family:  Roboto;\n",
       "        }    #T_96f2d16c_429b_11ea_82c8_acde48001122row0_col24 {\n",
       "            background-color:  lightyellow;\n",
       "            color:  #000000;\n",
       "            border-color:  red;\n",
       "            font-family:  Roboto;\n",
       "        }    #T_96f2d16c_429b_11ea_82c8_acde48001122row0_col25 {\n",
       "            background-color:  lightyellow;\n",
       "            color:  #000000;\n",
       "            border-color:  red;\n",
       "            font-family:  Roboto;\n",
       "        }    #T_96f2d16c_429b_11ea_82c8_acde48001122row0_col26 {\n",
       "            background-color:  lightyellow;\n",
       "            color:  #000000;\n",
       "            border-color:  red;\n",
       "            font-family:  Roboto;\n",
       "        }    #T_96f2d16c_429b_11ea_82c8_acde48001122row0_col27 {\n",
       "            background-color:  lightyellow;\n",
       "            color:  #000000;\n",
       "            border-color:  red;\n",
       "            font-family:  Roboto;\n",
       "        }    #T_96f2d16c_429b_11ea_82c8_acde48001122row0_col28 {\n",
       "            background-color:  lightyellow;\n",
       "            color:  #000000;\n",
       "            border-color:  red;\n",
       "            font-family:  Roboto;\n",
       "        }    #T_96f2d16c_429b_11ea_82c8_acde48001122row0_col29 {\n",
       "            background-color:  lightyellow;\n",
       "            color:  #000000;\n",
       "            border-color:  red;\n",
       "            font-family:  Roboto;\n",
       "        }    #T_96f2d16c_429b_11ea_82c8_acde48001122row0_col30 {\n",
       "            background-color:  lightyellow;\n",
       "            color:  #000000;\n",
       "            border-color:  red;\n",
       "            font-family:  Roboto;\n",
       "        }    #T_96f2d16c_429b_11ea_82c8_acde48001122row0_col31 {\n",
       "            background-color:  lightyellow;\n",
       "            color:  #000000;\n",
       "            border-color:  red;\n",
       "            font-family:  Roboto;\n",
       "        }    #T_96f2d16c_429b_11ea_82c8_acde48001122row0_col32 {\n",
       "            background-color:  lightyellow;\n",
       "            color:  #000000;\n",
       "            border-color:  red;\n",
       "            font-family:  Roboto;\n",
       "        }    #T_96f2d16c_429b_11ea_82c8_acde48001122row0_col33 {\n",
       "            background-color:  lightyellow;\n",
       "            color:  #000000;\n",
       "            border-color:  red;\n",
       "            font-family:  Roboto;\n",
       "        }    #T_96f2d16c_429b_11ea_82c8_acde48001122row0_col34 {\n",
       "            background-color:  lightyellow;\n",
       "            color:  #000000;\n",
       "            border-color:  red;\n",
       "            font-family:  Roboto;\n",
       "        }    #T_96f2d16c_429b_11ea_82c8_acde48001122row0_col35 {\n",
       "            background-color:  lightyellow;\n",
       "            color:  #000000;\n",
       "            border-color:  red;\n",
       "            font-family:  Roboto;\n",
       "        }    #T_96f2d16c_429b_11ea_82c8_acde48001122row0_col36 {\n",
       "            background-color:  lightyellow;\n",
       "            color:  #000000;\n",
       "            border-color:  red;\n",
       "            font-family:  Roboto;\n",
       "        }    #T_96f2d16c_429b_11ea_82c8_acde48001122row0_col37 {\n",
       "            background-color:  lightyellow;\n",
       "            color:  #000000;\n",
       "            border-color:  red;\n",
       "            font-family:  Roboto;\n",
       "        }    #T_96f2d16c_429b_11ea_82c8_acde48001122row0_col38 {\n",
       "            background-color:  lightyellow;\n",
       "            color:  #000000;\n",
       "            border-color:  red;\n",
       "            font-family:  Roboto;\n",
       "        }    #T_96f2d16c_429b_11ea_82c8_acde48001122row0_col39 {\n",
       "            background-color:  lightyellow;\n",
       "            color:  #000000;\n",
       "            border-color:  red;\n",
       "            font-family:  Roboto;\n",
       "        }    #T_96f2d16c_429b_11ea_82c8_acde48001122row0_col40 {\n",
       "            background-color:  lightyellow;\n",
       "            color:  #000000;\n",
       "            border-color:  red;\n",
       "            font-family:  Roboto;\n",
       "        }    #T_96f2d16c_429b_11ea_82c8_acde48001122row0_col41 {\n",
       "            background-color:  lightyellow;\n",
       "            color:  #000000;\n",
       "            border-color:  red;\n",
       "            font-family:  Roboto;\n",
       "        }    #T_96f2d16c_429b_11ea_82c8_acde48001122row0_col42 {\n",
       "            background-color:  lightyellow;\n",
       "            color:  #000000;\n",
       "            border-color:  red;\n",
       "            font-family:  Roboto;\n",
       "        }    #T_96f2d16c_429b_11ea_82c8_acde48001122row0_col43 {\n",
       "            background-color:  lightyellow;\n",
       "            color:  #000000;\n",
       "            border-color:  red;\n",
       "            font-family:  Roboto;\n",
       "        }    #T_96f2d16c_429b_11ea_82c8_acde48001122row0_col44 {\n",
       "            background-color:  lightyellow;\n",
       "            color:  #000000;\n",
       "            border-color:  red;\n",
       "            font-family:  Roboto;\n",
       "        }    #T_96f2d16c_429b_11ea_82c8_acde48001122row0_col45 {\n",
       "            background-color:  lightyellow;\n",
       "            color:  #000000;\n",
       "            border-color:  red;\n",
       "            font-family:  Roboto;\n",
       "        }    #T_96f2d16c_429b_11ea_82c8_acde48001122row0_col46 {\n",
       "            background-color:  lightyellow;\n",
       "            color:  #000000;\n",
       "            border-color:  red;\n",
       "            font-family:  Roboto;\n",
       "        }    #T_96f2d16c_429b_11ea_82c8_acde48001122row0_col47 {\n",
       "            background-color:  lightyellow;\n",
       "            color:  #000000;\n",
       "            border-color:  red;\n",
       "            font-family:  Roboto;\n",
       "        }    #T_96f2d16c_429b_11ea_82c8_acde48001122row0_col48 {\n",
       "            background-color:  lightyellow;\n",
       "            color:  #000000;\n",
       "            border-color:  red;\n",
       "            font-family:  Roboto;\n",
       "        }    #T_96f2d16c_429b_11ea_82c8_acde48001122row0_col49 {\n",
       "            background-color:  lightyellow;\n",
       "            color:  #000000;\n",
       "            border-color:  red;\n",
       "            font-family:  Roboto;\n",
       "        }    #T_96f2d16c_429b_11ea_82c8_acde48001122row0_col50 {\n",
       "            background-color:  lightyellow;\n",
       "            color:  #000000;\n",
       "            border-color:  red;\n",
       "            font-family:  Roboto;\n",
       "        }    #T_96f2d16c_429b_11ea_82c8_acde48001122row0_col51 {\n",
       "            background-color:  lightyellow;\n",
       "            color:  #000000;\n",
       "            border-color:  red;\n",
       "            font-family:  Roboto;\n",
       "        }    #T_96f2d16c_429b_11ea_82c8_acde48001122row0_col52 {\n",
       "            background-color:  lightyellow;\n",
       "            color:  #000000;\n",
       "            border-color:  red;\n",
       "            font-family:  Roboto;\n",
       "        }    #T_96f2d16c_429b_11ea_82c8_acde48001122row0_col53 {\n",
       "            background-color:  lightyellow;\n",
       "            color:  #000000;\n",
       "            border-color:  red;\n",
       "            font-family:  Roboto;\n",
       "        }    #T_96f2d16c_429b_11ea_82c8_acde48001122row0_col54 {\n",
       "            background-color:  lightyellow;\n",
       "            color:  #000000;\n",
       "            border-color:  red;\n",
       "            font-family:  Roboto;\n",
       "        }    #T_96f2d16c_429b_11ea_82c8_acde48001122row0_col55 {\n",
       "            background-color:  lightyellow;\n",
       "            color:  #000000;\n",
       "            border-color:  red;\n",
       "            font-family:  Roboto;\n",
       "        }    #T_96f2d16c_429b_11ea_82c8_acde48001122row0_col56 {\n",
       "            background-color:  lightyellow;\n",
       "            color:  #000000;\n",
       "            border-color:  red;\n",
       "            font-family:  Roboto;\n",
       "        }    #T_96f2d16c_429b_11ea_82c8_acde48001122row0_col57 {\n",
       "            background-color:  lightyellow;\n",
       "            color:  #000000;\n",
       "            border-color:  red;\n",
       "            font-family:  Roboto;\n",
       "        }    #T_96f2d16c_429b_11ea_82c8_acde48001122row0_col58 {\n",
       "            background-color:  lightyellow;\n",
       "            color:  #000000;\n",
       "            border-color:  red;\n",
       "            font-family:  Roboto;\n",
       "        }    #T_96f2d16c_429b_11ea_82c8_acde48001122row0_col59 {\n",
       "            background-color:  lightyellow;\n",
       "            color:  #000000;\n",
       "            border-color:  red;\n",
       "            font-family:  Roboto;\n",
       "        }    #T_96f2d16c_429b_11ea_82c8_acde48001122row0_col60 {\n",
       "            background-color:  lightyellow;\n",
       "            color:  #000000;\n",
       "            border-color:  red;\n",
       "            font-family:  Roboto;\n",
       "        }    #T_96f2d16c_429b_11ea_82c8_acde48001122row0_col61 {\n",
       "            background-color:  lightyellow;\n",
       "            color:  #000000;\n",
       "            border-color:  red;\n",
       "            font-family:  Roboto;\n",
       "        }    #T_96f2d16c_429b_11ea_82c8_acde48001122row0_col62 {\n",
       "            background-color:  lightyellow;\n",
       "            color:  #000000;\n",
       "            border-color:  red;\n",
       "            font-family:  Roboto;\n",
       "        }    #T_96f2d16c_429b_11ea_82c8_acde48001122row0_col63 {\n",
       "            background-color:  lightyellow;\n",
       "            color:  #000000;\n",
       "            border-color:  red;\n",
       "            font-family:  Roboto;\n",
       "        }    #T_96f2d16c_429b_11ea_82c8_acde48001122row0_col64 {\n",
       "            background-color:  lightyellow;\n",
       "            color:  #000000;\n",
       "            border-color:  red;\n",
       "            font-family:  Roboto;\n",
       "        }    #T_96f2d16c_429b_11ea_82c8_acde48001122row0_col65 {\n",
       "            background-color:  lightyellow;\n",
       "            color:  #000000;\n",
       "            border-color:  red;\n",
       "            font-family:  Roboto;\n",
       "        }    #T_96f2d16c_429b_11ea_82c8_acde48001122row0_col66 {\n",
       "            background-color:  lightyellow;\n",
       "            color:  #000000;\n",
       "            border-color:  red;\n",
       "            font-family:  Roboto;\n",
       "        }    #T_96f2d16c_429b_11ea_82c8_acde48001122row0_col67 {\n",
       "            background-color:  lightyellow;\n",
       "            color:  #000000;\n",
       "            border-color:  red;\n",
       "            font-family:  Roboto;\n",
       "        }    #T_96f2d16c_429b_11ea_82c8_acde48001122row0_col68 {\n",
       "            background-color:  lightyellow;\n",
       "            color:  #000000;\n",
       "            border-color:  red;\n",
       "            font-family:  Roboto;\n",
       "        }    #T_96f2d16c_429b_11ea_82c8_acde48001122row0_col69 {\n",
       "            background-color:  lightyellow;\n",
       "            color:  #000000;\n",
       "            border-color:  red;\n",
       "            font-family:  Roboto;\n",
       "        }    #T_96f2d16c_429b_11ea_82c8_acde48001122row0_col70 {\n",
       "            background-color:  lightyellow;\n",
       "            color:  #000000;\n",
       "            border-color:  red;\n",
       "            font-family:  Roboto;\n",
       "        }    #T_96f2d16c_429b_11ea_82c8_acde48001122row0_col71 {\n",
       "            background-color:  lightyellow;\n",
       "            color:  #000000;\n",
       "            border-color:  red;\n",
       "            font-family:  Roboto;\n",
       "        }    #T_96f2d16c_429b_11ea_82c8_acde48001122row0_col72 {\n",
       "            background-color:  lightyellow;\n",
       "            color:  #000000;\n",
       "            border-color:  red;\n",
       "            font-family:  Roboto;\n",
       "        }    #T_96f2d16c_429b_11ea_82c8_acde48001122row0_col73 {\n",
       "            background-color:  lightyellow;\n",
       "            color:  #000000;\n",
       "            border-color:  red;\n",
       "            font-family:  Roboto;\n",
       "        }    #T_96f2d16c_429b_11ea_82c8_acde48001122row0_col74 {\n",
       "            background-color:  lightyellow;\n",
       "            color:  #000000;\n",
       "            border-color:  red;\n",
       "            font-family:  Roboto;\n",
       "        }    #T_96f2d16c_429b_11ea_82c8_acde48001122row0_col75 {\n",
       "            background-color:  lightyellow;\n",
       "            color:  #000000;\n",
       "            border-color:  red;\n",
       "            font-family:  Roboto;\n",
       "        }    #T_96f2d16c_429b_11ea_82c8_acde48001122row0_col76 {\n",
       "            background-color:  lightyellow;\n",
       "            color:  #000000;\n",
       "            border-color:  red;\n",
       "            font-family:  Roboto;\n",
       "        }    #T_96f2d16c_429b_11ea_82c8_acde48001122row0_col77 {\n",
       "            background-color:  lightyellow;\n",
       "            color:  #000000;\n",
       "            border-color:  red;\n",
       "            font-family:  Roboto;\n",
       "        }    #T_96f2d16c_429b_11ea_82c8_acde48001122row0_col78 {\n",
       "            background-color:  lightyellow;\n",
       "            color:  #000000;\n",
       "            border-color:  red;\n",
       "            font-family:  Roboto;\n",
       "        }    #T_96f2d16c_429b_11ea_82c8_acde48001122row0_col79 {\n",
       "            background-color:  lightyellow;\n",
       "            color:  #000000;\n",
       "            border-color:  red;\n",
       "            font-family:  Roboto;\n",
       "        }    #T_96f2d16c_429b_11ea_82c8_acde48001122row0_col80 {\n",
       "            background-color:  lightyellow;\n",
       "            color:  #000000;\n",
       "            border-color:  red;\n",
       "            font-family:  Roboto;\n",
       "        }    #T_96f2d16c_429b_11ea_82c8_acde48001122row0_col81 {\n",
       "            background-color:  lightyellow;\n",
       "            color:  #000000;\n",
       "            border-color:  red;\n",
       "            font-family:  Roboto;\n",
       "        }    #T_96f2d16c_429b_11ea_82c8_acde48001122row0_col82 {\n",
       "            background-color:  lightyellow;\n",
       "            color:  #000000;\n",
       "            border-color:  red;\n",
       "            font-family:  Roboto;\n",
       "        }    #T_96f2d16c_429b_11ea_82c8_acde48001122row0_col83 {\n",
       "            background-color:  lightyellow;\n",
       "            color:  #000000;\n",
       "            border-color:  red;\n",
       "            font-family:  Roboto;\n",
       "        }    #T_96f2d16c_429b_11ea_82c8_acde48001122row0_col84 {\n",
       "            background-color:  lightyellow;\n",
       "            color:  #000000;\n",
       "            border-color:  red;\n",
       "            font-family:  Roboto;\n",
       "        }    #T_96f2d16c_429b_11ea_82c8_acde48001122row1_col0 {\n",
       "            background-color:  lightyellow;\n",
       "            color:  #000000;\n",
       "            border-color:  red;\n",
       "            font-family:  Roboto;\n",
       "        }    #T_96f2d16c_429b_11ea_82c8_acde48001122row1_col1 {\n",
       "            background-color:  lightyellow;\n",
       "            color:  #000000;\n",
       "            border-color:  red;\n",
       "            font-family:  Roboto;\n",
       "        }    #T_96f2d16c_429b_11ea_82c8_acde48001122row1_col2 {\n",
       "            background-color:  lightyellow;\n",
       "            color:  #000000;\n",
       "            border-color:  red;\n",
       "            font-family:  Roboto;\n",
       "        }    #T_96f2d16c_429b_11ea_82c8_acde48001122row1_col3 {\n",
       "            background-color:  lightyellow;\n",
       "            color:  #000000;\n",
       "            border-color:  red;\n",
       "            font-family:  Roboto;\n",
       "        }    #T_96f2d16c_429b_11ea_82c8_acde48001122row1_col4 {\n",
       "            background-color:  lightyellow;\n",
       "            color:  #000000;\n",
       "            border-color:  red;\n",
       "            font-family:  Roboto;\n",
       "        }    #T_96f2d16c_429b_11ea_82c8_acde48001122row1_col5 {\n",
       "            background-color:  lightyellow;\n",
       "            color:  #000000;\n",
       "            border-color:  red;\n",
       "            font-family:  Roboto;\n",
       "        }    #T_96f2d16c_429b_11ea_82c8_acde48001122row1_col6 {\n",
       "            background-color:  lightyellow;\n",
       "            color:  #000000;\n",
       "            border-color:  red;\n",
       "            font-family:  Roboto;\n",
       "        }    #T_96f2d16c_429b_11ea_82c8_acde48001122row1_col7 {\n",
       "            background-color:  lightyellow;\n",
       "            color:  #000000;\n",
       "            border-color:  red;\n",
       "            font-family:  Roboto;\n",
       "        }    #T_96f2d16c_429b_11ea_82c8_acde48001122row1_col8 {\n",
       "            background-color:  lightyellow;\n",
       "            color:  #000000;\n",
       "            border-color:  red;\n",
       "            font-family:  Roboto;\n",
       "        }    #T_96f2d16c_429b_11ea_82c8_acde48001122row1_col9 {\n",
       "            background-color:  lightyellow;\n",
       "            color:  #000000;\n",
       "            border-color:  red;\n",
       "            font-family:  Roboto;\n",
       "        }    #T_96f2d16c_429b_11ea_82c8_acde48001122row1_col10 {\n",
       "            background-color:  lightyellow;\n",
       "            color:  #000000;\n",
       "            border-color:  red;\n",
       "            font-family:  Roboto;\n",
       "        }    #T_96f2d16c_429b_11ea_82c8_acde48001122row1_col11 {\n",
       "            background-color:  lightyellow;\n",
       "            color:  #000000;\n",
       "            border-color:  red;\n",
       "            font-family:  Roboto;\n",
       "        }    #T_96f2d16c_429b_11ea_82c8_acde48001122row1_col12 {\n",
       "            background-color:  lightyellow;\n",
       "            color:  #000000;\n",
       "            border-color:  red;\n",
       "            font-family:  Roboto;\n",
       "        }    #T_96f2d16c_429b_11ea_82c8_acde48001122row1_col13 {\n",
       "            background-color:  lightyellow;\n",
       "            color:  #000000;\n",
       "            border-color:  red;\n",
       "            font-family:  Roboto;\n",
       "        }    #T_96f2d16c_429b_11ea_82c8_acde48001122row1_col14 {\n",
       "            background-color:  lightyellow;\n",
       "            color:  #000000;\n",
       "            border-color:  red;\n",
       "            font-family:  Roboto;\n",
       "        }    #T_96f2d16c_429b_11ea_82c8_acde48001122row1_col15 {\n",
       "            background-color:  lightyellow;\n",
       "            color:  #000000;\n",
       "            border-color:  red;\n",
       "            font-family:  Roboto;\n",
       "        }    #T_96f2d16c_429b_11ea_82c8_acde48001122row1_col16 {\n",
       "            background-color:  lightyellow;\n",
       "            color:  #000000;\n",
       "            border-color:  red;\n",
       "            font-family:  Roboto;\n",
       "        }    #T_96f2d16c_429b_11ea_82c8_acde48001122row1_col17 {\n",
       "            background-color:  lightyellow;\n",
       "            color:  #000000;\n",
       "            border-color:  red;\n",
       "            font-family:  Roboto;\n",
       "        }    #T_96f2d16c_429b_11ea_82c8_acde48001122row1_col18 {\n",
       "            background-color:  lightyellow;\n",
       "            color:  #000000;\n",
       "            border-color:  red;\n",
       "            font-family:  Roboto;\n",
       "        }    #T_96f2d16c_429b_11ea_82c8_acde48001122row1_col19 {\n",
       "            background-color:  lightyellow;\n",
       "            color:  #000000;\n",
       "            border-color:  red;\n",
       "            font-family:  Roboto;\n",
       "        }    #T_96f2d16c_429b_11ea_82c8_acde48001122row1_col20 {\n",
       "            background-color:  lightyellow;\n",
       "            color:  #000000;\n",
       "            border-color:  red;\n",
       "            font-family:  Roboto;\n",
       "        }    #T_96f2d16c_429b_11ea_82c8_acde48001122row1_col21 {\n",
       "            background-color:  lightyellow;\n",
       "            color:  #000000;\n",
       "            border-color:  red;\n",
       "            font-family:  Roboto;\n",
       "        }    #T_96f2d16c_429b_11ea_82c8_acde48001122row1_col22 {\n",
       "            background-color:  lightyellow;\n",
       "            color:  #000000;\n",
       "            border-color:  red;\n",
       "            font-family:  Roboto;\n",
       "        }    #T_96f2d16c_429b_11ea_82c8_acde48001122row1_col23 {\n",
       "            background-color:  lightyellow;\n",
       "            color:  #000000;\n",
       "            border-color:  red;\n",
       "            font-family:  Roboto;\n",
       "        }    #T_96f2d16c_429b_11ea_82c8_acde48001122row1_col24 {\n",
       "            background-color:  lightyellow;\n",
       "            color:  #000000;\n",
       "            border-color:  red;\n",
       "            font-family:  Roboto;\n",
       "        }    #T_96f2d16c_429b_11ea_82c8_acde48001122row1_col25 {\n",
       "            background-color:  lightyellow;\n",
       "            color:  #000000;\n",
       "            border-color:  red;\n",
       "            font-family:  Roboto;\n",
       "        }    #T_96f2d16c_429b_11ea_82c8_acde48001122row1_col26 {\n",
       "            background-color:  lightyellow;\n",
       "            color:  #000000;\n",
       "            border-color:  red;\n",
       "            font-family:  Roboto;\n",
       "        }    #T_96f2d16c_429b_11ea_82c8_acde48001122row1_col27 {\n",
       "            background-color:  lightyellow;\n",
       "            color:  #000000;\n",
       "            border-color:  red;\n",
       "            font-family:  Roboto;\n",
       "        }    #T_96f2d16c_429b_11ea_82c8_acde48001122row1_col28 {\n",
       "            background-color:  lightyellow;\n",
       "            color:  #000000;\n",
       "            border-color:  red;\n",
       "            font-family:  Roboto;\n",
       "        }    #T_96f2d16c_429b_11ea_82c8_acde48001122row1_col29 {\n",
       "            background-color:  lightyellow;\n",
       "            color:  #000000;\n",
       "            border-color:  red;\n",
       "            font-family:  Roboto;\n",
       "        }    #T_96f2d16c_429b_11ea_82c8_acde48001122row1_col30 {\n",
       "            background-color:  lightyellow;\n",
       "            color:  #000000;\n",
       "            border-color:  red;\n",
       "            font-family:  Roboto;\n",
       "        }    #T_96f2d16c_429b_11ea_82c8_acde48001122row1_col31 {\n",
       "            background-color:  lightyellow;\n",
       "            color:  #000000;\n",
       "            border-color:  red;\n",
       "            font-family:  Roboto;\n",
       "        }    #T_96f2d16c_429b_11ea_82c8_acde48001122row1_col32 {\n",
       "            background-color:  lightyellow;\n",
       "            color:  #000000;\n",
       "            border-color:  red;\n",
       "            font-family:  Roboto;\n",
       "        }    #T_96f2d16c_429b_11ea_82c8_acde48001122row1_col33 {\n",
       "            background-color:  lightyellow;\n",
       "            color:  #000000;\n",
       "            border-color:  red;\n",
       "            font-family:  Roboto;\n",
       "        }    #T_96f2d16c_429b_11ea_82c8_acde48001122row1_col34 {\n",
       "            background-color:  lightyellow;\n",
       "            color:  #000000;\n",
       "            border-color:  red;\n",
       "            font-family:  Roboto;\n",
       "        }    #T_96f2d16c_429b_11ea_82c8_acde48001122row1_col35 {\n",
       "            background-color:  lightyellow;\n",
       "            color:  #000000;\n",
       "            border-color:  red;\n",
       "            font-family:  Roboto;\n",
       "        }    #T_96f2d16c_429b_11ea_82c8_acde48001122row1_col36 {\n",
       "            background-color:  lightyellow;\n",
       "            color:  #000000;\n",
       "            border-color:  red;\n",
       "            font-family:  Roboto;\n",
       "        }    #T_96f2d16c_429b_11ea_82c8_acde48001122row1_col37 {\n",
       "            background-color:  lightyellow;\n",
       "            color:  #000000;\n",
       "            border-color:  red;\n",
       "            font-family:  Roboto;\n",
       "        }    #T_96f2d16c_429b_11ea_82c8_acde48001122row1_col38 {\n",
       "            background-color:  lightyellow;\n",
       "            color:  #000000;\n",
       "            border-color:  red;\n",
       "            font-family:  Roboto;\n",
       "        }    #T_96f2d16c_429b_11ea_82c8_acde48001122row1_col39 {\n",
       "            background-color:  lightyellow;\n",
       "            color:  #000000;\n",
       "            border-color:  red;\n",
       "            font-family:  Roboto;\n",
       "        }    #T_96f2d16c_429b_11ea_82c8_acde48001122row1_col40 {\n",
       "            background-color:  lightyellow;\n",
       "            color:  #000000;\n",
       "            border-color:  red;\n",
       "            font-family:  Roboto;\n",
       "        }    #T_96f2d16c_429b_11ea_82c8_acde48001122row1_col41 {\n",
       "            background-color:  lightyellow;\n",
       "            color:  #000000;\n",
       "            border-color:  red;\n",
       "            font-family:  Roboto;\n",
       "        }    #T_96f2d16c_429b_11ea_82c8_acde48001122row1_col42 {\n",
       "            background-color:  lightyellow;\n",
       "            color:  #000000;\n",
       "            border-color:  red;\n",
       "            font-family:  Roboto;\n",
       "        }    #T_96f2d16c_429b_11ea_82c8_acde48001122row1_col43 {\n",
       "            background-color:  lightyellow;\n",
       "            color:  #000000;\n",
       "            border-color:  red;\n",
       "            font-family:  Roboto;\n",
       "        }    #T_96f2d16c_429b_11ea_82c8_acde48001122row1_col44 {\n",
       "            background-color:  lightyellow;\n",
       "            color:  #000000;\n",
       "            border-color:  red;\n",
       "            font-family:  Roboto;\n",
       "        }    #T_96f2d16c_429b_11ea_82c8_acde48001122row1_col45 {\n",
       "            background-color:  lightyellow;\n",
       "            color:  #000000;\n",
       "            border-color:  red;\n",
       "            font-family:  Roboto;\n",
       "        }    #T_96f2d16c_429b_11ea_82c8_acde48001122row1_col46 {\n",
       "            background-color:  lightyellow;\n",
       "            color:  #000000;\n",
       "            border-color:  red;\n",
       "            font-family:  Roboto;\n",
       "        }    #T_96f2d16c_429b_11ea_82c8_acde48001122row1_col47 {\n",
       "            background-color:  lightyellow;\n",
       "            color:  #000000;\n",
       "            border-color:  red;\n",
       "            font-family:  Roboto;\n",
       "        }    #T_96f2d16c_429b_11ea_82c8_acde48001122row1_col48 {\n",
       "            background-color:  lightyellow;\n",
       "            color:  #000000;\n",
       "            border-color:  red;\n",
       "            font-family:  Roboto;\n",
       "        }    #T_96f2d16c_429b_11ea_82c8_acde48001122row1_col49 {\n",
       "            background-color:  lightyellow;\n",
       "            color:  #000000;\n",
       "            border-color:  red;\n",
       "            font-family:  Roboto;\n",
       "        }    #T_96f2d16c_429b_11ea_82c8_acde48001122row1_col50 {\n",
       "            background-color:  lightyellow;\n",
       "            color:  #000000;\n",
       "            border-color:  red;\n",
       "            font-family:  Roboto;\n",
       "        }    #T_96f2d16c_429b_11ea_82c8_acde48001122row1_col51 {\n",
       "            background-color:  lightyellow;\n",
       "            color:  #000000;\n",
       "            border-color:  red;\n",
       "            font-family:  Roboto;\n",
       "        }    #T_96f2d16c_429b_11ea_82c8_acde48001122row1_col52 {\n",
       "            background-color:  lightyellow;\n",
       "            color:  #000000;\n",
       "            border-color:  red;\n",
       "            font-family:  Roboto;\n",
       "        }    #T_96f2d16c_429b_11ea_82c8_acde48001122row1_col53 {\n",
       "            background-color:  lightyellow;\n",
       "            color:  #000000;\n",
       "            border-color:  red;\n",
       "            font-family:  Roboto;\n",
       "        }    #T_96f2d16c_429b_11ea_82c8_acde48001122row1_col54 {\n",
       "            background-color:  lightyellow;\n",
       "            color:  #000000;\n",
       "            border-color:  red;\n",
       "            font-family:  Roboto;\n",
       "        }    #T_96f2d16c_429b_11ea_82c8_acde48001122row1_col55 {\n",
       "            background-color:  lightyellow;\n",
       "            color:  #000000;\n",
       "            border-color:  red;\n",
       "            font-family:  Roboto;\n",
       "        }    #T_96f2d16c_429b_11ea_82c8_acde48001122row1_col56 {\n",
       "            background-color:  lightyellow;\n",
       "            color:  #000000;\n",
       "            border-color:  red;\n",
       "            font-family:  Roboto;\n",
       "        }    #T_96f2d16c_429b_11ea_82c8_acde48001122row1_col57 {\n",
       "            background-color:  lightyellow;\n",
       "            color:  #000000;\n",
       "            border-color:  red;\n",
       "            font-family:  Roboto;\n",
       "        }    #T_96f2d16c_429b_11ea_82c8_acde48001122row1_col58 {\n",
       "            background-color:  lightyellow;\n",
       "            color:  #000000;\n",
       "            border-color:  red;\n",
       "            font-family:  Roboto;\n",
       "        }    #T_96f2d16c_429b_11ea_82c8_acde48001122row1_col59 {\n",
       "            background-color:  lightyellow;\n",
       "            color:  #000000;\n",
       "            border-color:  red;\n",
       "            font-family:  Roboto;\n",
       "        }    #T_96f2d16c_429b_11ea_82c8_acde48001122row1_col60 {\n",
       "            background-color:  lightyellow;\n",
       "            color:  #000000;\n",
       "            border-color:  red;\n",
       "            font-family:  Roboto;\n",
       "        }    #T_96f2d16c_429b_11ea_82c8_acde48001122row1_col61 {\n",
       "            background-color:  lightyellow;\n",
       "            color:  #000000;\n",
       "            border-color:  red;\n",
       "            font-family:  Roboto;\n",
       "        }    #T_96f2d16c_429b_11ea_82c8_acde48001122row1_col62 {\n",
       "            background-color:  lightyellow;\n",
       "            color:  #000000;\n",
       "            border-color:  red;\n",
       "            font-family:  Roboto;\n",
       "        }    #T_96f2d16c_429b_11ea_82c8_acde48001122row1_col63 {\n",
       "            background-color:  lightyellow;\n",
       "            color:  #000000;\n",
       "            border-color:  red;\n",
       "            font-family:  Roboto;\n",
       "        }    #T_96f2d16c_429b_11ea_82c8_acde48001122row1_col64 {\n",
       "            background-color:  lightyellow;\n",
       "            color:  #000000;\n",
       "            border-color:  red;\n",
       "            font-family:  Roboto;\n",
       "        }    #T_96f2d16c_429b_11ea_82c8_acde48001122row1_col65 {\n",
       "            background-color:  lightyellow;\n",
       "            color:  #000000;\n",
       "            border-color:  red;\n",
       "            font-family:  Roboto;\n",
       "        }    #T_96f2d16c_429b_11ea_82c8_acde48001122row1_col66 {\n",
       "            background-color:  lightyellow;\n",
       "            color:  #000000;\n",
       "            border-color:  red;\n",
       "            font-family:  Roboto;\n",
       "        }    #T_96f2d16c_429b_11ea_82c8_acde48001122row1_col67 {\n",
       "            background-color:  lightyellow;\n",
       "            color:  #000000;\n",
       "            border-color:  red;\n",
       "            font-family:  Roboto;\n",
       "        }    #T_96f2d16c_429b_11ea_82c8_acde48001122row1_col68 {\n",
       "            background-color:  lightyellow;\n",
       "            color:  #000000;\n",
       "            border-color:  red;\n",
       "            font-family:  Roboto;\n",
       "        }    #T_96f2d16c_429b_11ea_82c8_acde48001122row1_col69 {\n",
       "            background-color:  lightyellow;\n",
       "            color:  #000000;\n",
       "            border-color:  red;\n",
       "            font-family:  Roboto;\n",
       "        }    #T_96f2d16c_429b_11ea_82c8_acde48001122row1_col70 {\n",
       "            background-color:  lightyellow;\n",
       "            color:  #000000;\n",
       "            border-color:  red;\n",
       "            font-family:  Roboto;\n",
       "        }    #T_96f2d16c_429b_11ea_82c8_acde48001122row1_col71 {\n",
       "            background-color:  lightyellow;\n",
       "            color:  #000000;\n",
       "            border-color:  red;\n",
       "            font-family:  Roboto;\n",
       "        }    #T_96f2d16c_429b_11ea_82c8_acde48001122row1_col72 {\n",
       "            background-color:  lightyellow;\n",
       "            color:  #000000;\n",
       "            border-color:  red;\n",
       "            font-family:  Roboto;\n",
       "        }    #T_96f2d16c_429b_11ea_82c8_acde48001122row1_col73 {\n",
       "            background-color:  lightyellow;\n",
       "            color:  #000000;\n",
       "            border-color:  red;\n",
       "            font-family:  Roboto;\n",
       "        }    #T_96f2d16c_429b_11ea_82c8_acde48001122row1_col74 {\n",
       "            background-color:  lightyellow;\n",
       "            color:  #000000;\n",
       "            border-color:  red;\n",
       "            font-family:  Roboto;\n",
       "        }    #T_96f2d16c_429b_11ea_82c8_acde48001122row1_col75 {\n",
       "            background-color:  lightyellow;\n",
       "            color:  #000000;\n",
       "            border-color:  red;\n",
       "            font-family:  Roboto;\n",
       "        }    #T_96f2d16c_429b_11ea_82c8_acde48001122row1_col76 {\n",
       "            background-color:  lightyellow;\n",
       "            color:  #000000;\n",
       "            border-color:  red;\n",
       "            font-family:  Roboto;\n",
       "        }    #T_96f2d16c_429b_11ea_82c8_acde48001122row1_col77 {\n",
       "            background-color:  lightyellow;\n",
       "            color:  #000000;\n",
       "            border-color:  red;\n",
       "            font-family:  Roboto;\n",
       "        }    #T_96f2d16c_429b_11ea_82c8_acde48001122row1_col78 {\n",
       "            background-color:  lightyellow;\n",
       "            color:  #000000;\n",
       "            border-color:  red;\n",
       "            font-family:  Roboto;\n",
       "        }    #T_96f2d16c_429b_11ea_82c8_acde48001122row1_col79 {\n",
       "            background-color:  lightyellow;\n",
       "            color:  #000000;\n",
       "            border-color:  red;\n",
       "            font-family:  Roboto;\n",
       "        }    #T_96f2d16c_429b_11ea_82c8_acde48001122row1_col80 {\n",
       "            background-color:  lightyellow;\n",
       "            color:  #000000;\n",
       "            border-color:  red;\n",
       "            font-family:  Roboto;\n",
       "        }    #T_96f2d16c_429b_11ea_82c8_acde48001122row1_col81 {\n",
       "            background-color:  lightyellow;\n",
       "            color:  #000000;\n",
       "            border-color:  red;\n",
       "            font-family:  Roboto;\n",
       "        }    #T_96f2d16c_429b_11ea_82c8_acde48001122row1_col82 {\n",
       "            background-color:  lightyellow;\n",
       "            color:  #000000;\n",
       "            border-color:  red;\n",
       "            font-family:  Roboto;\n",
       "        }    #T_96f2d16c_429b_11ea_82c8_acde48001122row1_col83 {\n",
       "            background-color:  lightyellow;\n",
       "            color:  #000000;\n",
       "            border-color:  red;\n",
       "            font-family:  Roboto;\n",
       "        }    #T_96f2d16c_429b_11ea_82c8_acde48001122row1_col84 {\n",
       "            background-color:  lightyellow;\n",
       "            color:  #000000;\n",
       "            border-color:  red;\n",
       "            font-family:  Roboto;\n",
       "        }</style><table id=\"T_96f2d16c_429b_11ea_82c8_acde48001122\" ><thead>    <tr>        <th class=\"blank level0\" ></th>        <th class=\"col_heading level0 col0\" >Respondent</th>        <th class=\"col_heading level0 col1\" >MainBranch</th>        <th class=\"col_heading level0 col2\" >Hobbyist</th>        <th class=\"col_heading level0 col3\" >OpenSourcer</th>        <th class=\"col_heading level0 col4\" >OpenSource</th>        <th class=\"col_heading level0 col5\" >Employment</th>        <th class=\"col_heading level0 col6\" >Country</th>        <th class=\"col_heading level0 col7\" >Student</th>        <th class=\"col_heading level0 col8\" >EdLevel</th>        <th class=\"col_heading level0 col9\" >UndergradMajor</th>        <th class=\"col_heading level0 col10\" >EduOther</th>        <th class=\"col_heading level0 col11\" >OrgSize</th>        <th class=\"col_heading level0 col12\" >DevType</th>        <th class=\"col_heading level0 col13\" >YearsCode</th>        <th class=\"col_heading level0 col14\" >Age1stCode</th>        <th class=\"col_heading level0 col15\" >YearsCodePro</th>        <th class=\"col_heading level0 col16\" >CareerSat</th>        <th class=\"col_heading level0 col17\" >JobSat</th>        <th class=\"col_heading level0 col18\" >MgrIdiot</th>        <th class=\"col_heading level0 col19\" >MgrMoney</th>        <th class=\"col_heading level0 col20\" >MgrWant</th>        <th class=\"col_heading level0 col21\" >JobSeek</th>        <th class=\"col_heading level0 col22\" >LastHireDate</th>        <th class=\"col_heading level0 col23\" >LastInt</th>        <th class=\"col_heading level0 col24\" >FizzBuzz</th>        <th class=\"col_heading level0 col25\" >JobFactors</th>        <th class=\"col_heading level0 col26\" >ResumeUpdate</th>        <th class=\"col_heading level0 col27\" >CurrencySymbol</th>        <th class=\"col_heading level0 col28\" >CurrencyDesc</th>        <th class=\"col_heading level0 col29\" >CompTotal</th>        <th class=\"col_heading level0 col30\" >CompFreq</th>        <th class=\"col_heading level0 col31\" >ConvertedComp</th>        <th class=\"col_heading level0 col32\" >WorkWeekHrs</th>        <th class=\"col_heading level0 col33\" >WorkPlan</th>        <th class=\"col_heading level0 col34\" >WorkChallenge</th>        <th class=\"col_heading level0 col35\" >WorkRemote</th>        <th class=\"col_heading level0 col36\" >WorkLoc</th>        <th class=\"col_heading level0 col37\" >ImpSyn</th>        <th class=\"col_heading level0 col38\" >CodeRev</th>        <th class=\"col_heading level0 col39\" >CodeRevHrs</th>        <th class=\"col_heading level0 col40\" >UnitTests</th>        <th class=\"col_heading level0 col41\" >PurchaseHow</th>        <th class=\"col_heading level0 col42\" >PurchaseWhat</th>        <th class=\"col_heading level0 col43\" >LanguageWorkedWith</th>        <th class=\"col_heading level0 col44\" >LanguageDesireNextYear</th>        <th class=\"col_heading level0 col45\" >DatabaseWorkedWith</th>        <th class=\"col_heading level0 col46\" >DatabaseDesireNextYear</th>        <th class=\"col_heading level0 col47\" >PlatformWorkedWith</th>        <th class=\"col_heading level0 col48\" >PlatformDesireNextYear</th>        <th class=\"col_heading level0 col49\" >WebFrameWorkedWith</th>        <th class=\"col_heading level0 col50\" >WebFrameDesireNextYear</th>        <th class=\"col_heading level0 col51\" >MiscTechWorkedWith</th>        <th class=\"col_heading level0 col52\" >MiscTechDesireNextYear</th>        <th class=\"col_heading level0 col53\" >DevEnviron</th>        <th class=\"col_heading level0 col54\" >OpSys</th>        <th class=\"col_heading level0 col55\" >Containers</th>        <th class=\"col_heading level0 col56\" >BlockchainOrg</th>        <th class=\"col_heading level0 col57\" >BlockchainIs</th>        <th class=\"col_heading level0 col58\" >BetterLife</th>        <th class=\"col_heading level0 col59\" >ITperson</th>        <th class=\"col_heading level0 col60\" >OffOn</th>        <th class=\"col_heading level0 col61\" >SocialMedia</th>        <th class=\"col_heading level0 col62\" >Extraversion</th>        <th class=\"col_heading level0 col63\" >ScreenName</th>        <th class=\"col_heading level0 col64\" >SOVisit1st</th>        <th class=\"col_heading level0 col65\" >SOVisitFreq</th>        <th class=\"col_heading level0 col66\" >SOVisitTo</th>        <th class=\"col_heading level0 col67\" >SOFindAnswer</th>        <th class=\"col_heading level0 col68\" >SOTimeSaved</th>        <th class=\"col_heading level0 col69\" >SOHowMuchTime</th>        <th class=\"col_heading level0 col70\" >SOAccount</th>        <th class=\"col_heading level0 col71\" >SOPartFreq</th>        <th class=\"col_heading level0 col72\" >SOJobs</th>        <th class=\"col_heading level0 col73\" >EntTeams</th>        <th class=\"col_heading level0 col74\" >SOComm</th>        <th class=\"col_heading level0 col75\" >WelcomeChange</th>        <th class=\"col_heading level0 col76\" >SONewContent</th>        <th class=\"col_heading level0 col77\" >Age</th>        <th class=\"col_heading level0 col78\" >Gender</th>        <th class=\"col_heading level0 col79\" >Trans</th>        <th class=\"col_heading level0 col80\" >Sexuality</th>        <th class=\"col_heading level0 col81\" >Ethnicity</th>        <th class=\"col_heading level0 col82\" >Dependents</th>        <th class=\"col_heading level0 col83\" >SurveyLength</th>        <th class=\"col_heading level0 col84\" >SurveyEase</th>    </tr></thead><tbody>\n",
       "                <tr>\n",
       "                        <th id=\"T_96f2d16c_429b_11ea_82c8_acde48001122level0_row0\" class=\"row_heading level0 row0\" >0</th>\n",
       "                        <td id=\"T_96f2d16c_429b_11ea_82c8_acde48001122row0_col0\" class=\"data row0 col0\" >1</td>\n",
       "                        <td id=\"T_96f2d16c_429b_11ea_82c8_acde48001122row0_col1\" class=\"data row0 col1\" >I am a student who is learning to code</td>\n",
       "                        <td id=\"T_96f2d16c_429b_11ea_82c8_acde48001122row0_col2\" class=\"data row0 col2\" >Yes</td>\n",
       "                        <td id=\"T_96f2d16c_429b_11ea_82c8_acde48001122row0_col3\" class=\"data row0 col3\" >Never</td>\n",
       "                        <td id=\"T_96f2d16c_429b_11ea_82c8_acde48001122row0_col4\" class=\"data row0 col4\" >The quality of OSS and closed source software is about the same</td>\n",
       "                        <td id=\"T_96f2d16c_429b_11ea_82c8_acde48001122row0_col5\" class=\"data row0 col5\" >Not employed, and not looking for work</td>\n",
       "                        <td id=\"T_96f2d16c_429b_11ea_82c8_acde48001122row0_col6\" class=\"data row0 col6\" >United Kingdom</td>\n",
       "                        <td id=\"T_96f2d16c_429b_11ea_82c8_acde48001122row0_col7\" class=\"data row0 col7\" >No</td>\n",
       "                        <td id=\"T_96f2d16c_429b_11ea_82c8_acde48001122row0_col8\" class=\"data row0 col8\" >Primary/elementary school</td>\n",
       "                        <td id=\"T_96f2d16c_429b_11ea_82c8_acde48001122row0_col9\" class=\"data row0 col9\" >nan</td>\n",
       "                        <td id=\"T_96f2d16c_429b_11ea_82c8_acde48001122row0_col10\" class=\"data row0 col10\" >Taught yourself a new language, framework, or tool without taking a formal course</td>\n",
       "                        <td id=\"T_96f2d16c_429b_11ea_82c8_acde48001122row0_col11\" class=\"data row0 col11\" >nan</td>\n",
       "                        <td id=\"T_96f2d16c_429b_11ea_82c8_acde48001122row0_col12\" class=\"data row0 col12\" >nan</td>\n",
       "                        <td id=\"T_96f2d16c_429b_11ea_82c8_acde48001122row0_col13\" class=\"data row0 col13\" >4</td>\n",
       "                        <td id=\"T_96f2d16c_429b_11ea_82c8_acde48001122row0_col14\" class=\"data row0 col14\" >10</td>\n",
       "                        <td id=\"T_96f2d16c_429b_11ea_82c8_acde48001122row0_col15\" class=\"data row0 col15\" >nan</td>\n",
       "                        <td id=\"T_96f2d16c_429b_11ea_82c8_acde48001122row0_col16\" class=\"data row0 col16\" >nan</td>\n",
       "                        <td id=\"T_96f2d16c_429b_11ea_82c8_acde48001122row0_col17\" class=\"data row0 col17\" >nan</td>\n",
       "                        <td id=\"T_96f2d16c_429b_11ea_82c8_acde48001122row0_col18\" class=\"data row0 col18\" >nan</td>\n",
       "                        <td id=\"T_96f2d16c_429b_11ea_82c8_acde48001122row0_col19\" class=\"data row0 col19\" >nan</td>\n",
       "                        <td id=\"T_96f2d16c_429b_11ea_82c8_acde48001122row0_col20\" class=\"data row0 col20\" >nan</td>\n",
       "                        <td id=\"T_96f2d16c_429b_11ea_82c8_acde48001122row0_col21\" class=\"data row0 col21\" >nan</td>\n",
       "                        <td id=\"T_96f2d16c_429b_11ea_82c8_acde48001122row0_col22\" class=\"data row0 col22\" >nan</td>\n",
       "                        <td id=\"T_96f2d16c_429b_11ea_82c8_acde48001122row0_col23\" class=\"data row0 col23\" >nan</td>\n",
       "                        <td id=\"T_96f2d16c_429b_11ea_82c8_acde48001122row0_col24\" class=\"data row0 col24\" >nan</td>\n",
       "                        <td id=\"T_96f2d16c_429b_11ea_82c8_acde48001122row0_col25\" class=\"data row0 col25\" >nan</td>\n",
       "                        <td id=\"T_96f2d16c_429b_11ea_82c8_acde48001122row0_col26\" class=\"data row0 col26\" >nan</td>\n",
       "                        <td id=\"T_96f2d16c_429b_11ea_82c8_acde48001122row0_col27\" class=\"data row0 col27\" >nan</td>\n",
       "                        <td id=\"T_96f2d16c_429b_11ea_82c8_acde48001122row0_col28\" class=\"data row0 col28\" >nan</td>\n",
       "                        <td id=\"T_96f2d16c_429b_11ea_82c8_acde48001122row0_col29\" class=\"data row0 col29\" >nan</td>\n",
       "                        <td id=\"T_96f2d16c_429b_11ea_82c8_acde48001122row0_col30\" class=\"data row0 col30\" >nan</td>\n",
       "                        <td id=\"T_96f2d16c_429b_11ea_82c8_acde48001122row0_col31\" class=\"data row0 col31\" >nan</td>\n",
       "                        <td id=\"T_96f2d16c_429b_11ea_82c8_acde48001122row0_col32\" class=\"data row0 col32\" >nan</td>\n",
       "                        <td id=\"T_96f2d16c_429b_11ea_82c8_acde48001122row0_col33\" class=\"data row0 col33\" >nan</td>\n",
       "                        <td id=\"T_96f2d16c_429b_11ea_82c8_acde48001122row0_col34\" class=\"data row0 col34\" >nan</td>\n",
       "                        <td id=\"T_96f2d16c_429b_11ea_82c8_acde48001122row0_col35\" class=\"data row0 col35\" >nan</td>\n",
       "                        <td id=\"T_96f2d16c_429b_11ea_82c8_acde48001122row0_col36\" class=\"data row0 col36\" >nan</td>\n",
       "                        <td id=\"T_96f2d16c_429b_11ea_82c8_acde48001122row0_col37\" class=\"data row0 col37\" >nan</td>\n",
       "                        <td id=\"T_96f2d16c_429b_11ea_82c8_acde48001122row0_col38\" class=\"data row0 col38\" >nan</td>\n",
       "                        <td id=\"T_96f2d16c_429b_11ea_82c8_acde48001122row0_col39\" class=\"data row0 col39\" >nan</td>\n",
       "                        <td id=\"T_96f2d16c_429b_11ea_82c8_acde48001122row0_col40\" class=\"data row0 col40\" >nan</td>\n",
       "                        <td id=\"T_96f2d16c_429b_11ea_82c8_acde48001122row0_col41\" class=\"data row0 col41\" >nan</td>\n",
       "                        <td id=\"T_96f2d16c_429b_11ea_82c8_acde48001122row0_col42\" class=\"data row0 col42\" >nan</td>\n",
       "                        <td id=\"T_96f2d16c_429b_11ea_82c8_acde48001122row0_col43\" class=\"data row0 col43\" >HTML/CSS;Java;JavaScript;Python</td>\n",
       "                        <td id=\"T_96f2d16c_429b_11ea_82c8_acde48001122row0_col44\" class=\"data row0 col44\" >C;C++;C#;Go;HTML/CSS;Java;JavaScript;Python;SQL</td>\n",
       "                        <td id=\"T_96f2d16c_429b_11ea_82c8_acde48001122row0_col45\" class=\"data row0 col45\" >SQLite</td>\n",
       "                        <td id=\"T_96f2d16c_429b_11ea_82c8_acde48001122row0_col46\" class=\"data row0 col46\" >MySQL</td>\n",
       "                        <td id=\"T_96f2d16c_429b_11ea_82c8_acde48001122row0_col47\" class=\"data row0 col47\" >MacOS;Windows</td>\n",
       "                        <td id=\"T_96f2d16c_429b_11ea_82c8_acde48001122row0_col48\" class=\"data row0 col48\" >Android;Arduino;Windows</td>\n",
       "                        <td id=\"T_96f2d16c_429b_11ea_82c8_acde48001122row0_col49\" class=\"data row0 col49\" >Django;Flask</td>\n",
       "                        <td id=\"T_96f2d16c_429b_11ea_82c8_acde48001122row0_col50\" class=\"data row0 col50\" >Flask;jQuery</td>\n",
       "                        <td id=\"T_96f2d16c_429b_11ea_82c8_acde48001122row0_col51\" class=\"data row0 col51\" >Node.js</td>\n",
       "                        <td id=\"T_96f2d16c_429b_11ea_82c8_acde48001122row0_col52\" class=\"data row0 col52\" >Node.js</td>\n",
       "                        <td id=\"T_96f2d16c_429b_11ea_82c8_acde48001122row0_col53\" class=\"data row0 col53\" >IntelliJ;Notepad++;PyCharm</td>\n",
       "                        <td id=\"T_96f2d16c_429b_11ea_82c8_acde48001122row0_col54\" class=\"data row0 col54\" >Windows</td>\n",
       "                        <td id=\"T_96f2d16c_429b_11ea_82c8_acde48001122row0_col55\" class=\"data row0 col55\" >I do not use containers</td>\n",
       "                        <td id=\"T_96f2d16c_429b_11ea_82c8_acde48001122row0_col56\" class=\"data row0 col56\" >nan</td>\n",
       "                        <td id=\"T_96f2d16c_429b_11ea_82c8_acde48001122row0_col57\" class=\"data row0 col57\" >nan</td>\n",
       "                        <td id=\"T_96f2d16c_429b_11ea_82c8_acde48001122row0_col58\" class=\"data row0 col58\" >Yes</td>\n",
       "                        <td id=\"T_96f2d16c_429b_11ea_82c8_acde48001122row0_col59\" class=\"data row0 col59\" >Fortunately, someone else has that title</td>\n",
       "                        <td id=\"T_96f2d16c_429b_11ea_82c8_acde48001122row0_col60\" class=\"data row0 col60\" >Yes</td>\n",
       "                        <td id=\"T_96f2d16c_429b_11ea_82c8_acde48001122row0_col61\" class=\"data row0 col61\" >Twitter</td>\n",
       "                        <td id=\"T_96f2d16c_429b_11ea_82c8_acde48001122row0_col62\" class=\"data row0 col62\" >Online</td>\n",
       "                        <td id=\"T_96f2d16c_429b_11ea_82c8_acde48001122row0_col63\" class=\"data row0 col63\" >Username</td>\n",
       "                        <td id=\"T_96f2d16c_429b_11ea_82c8_acde48001122row0_col64\" class=\"data row0 col64\" >2017</td>\n",
       "                        <td id=\"T_96f2d16c_429b_11ea_82c8_acde48001122row0_col65\" class=\"data row0 col65\" >A few times per month or weekly</td>\n",
       "                        <td id=\"T_96f2d16c_429b_11ea_82c8_acde48001122row0_col66\" class=\"data row0 col66\" >Find answers to specific questions;Learn how to do things I didn’t necessarily look for</td>\n",
       "                        <td id=\"T_96f2d16c_429b_11ea_82c8_acde48001122row0_col67\" class=\"data row0 col67\" >3-5 times per week</td>\n",
       "                        <td id=\"T_96f2d16c_429b_11ea_82c8_acde48001122row0_col68\" class=\"data row0 col68\" >Stack Overflow was much faster</td>\n",
       "                        <td id=\"T_96f2d16c_429b_11ea_82c8_acde48001122row0_col69\" class=\"data row0 col69\" >31-60 minutes</td>\n",
       "                        <td id=\"T_96f2d16c_429b_11ea_82c8_acde48001122row0_col70\" class=\"data row0 col70\" >No</td>\n",
       "                        <td id=\"T_96f2d16c_429b_11ea_82c8_acde48001122row0_col71\" class=\"data row0 col71\" >nan</td>\n",
       "                        <td id=\"T_96f2d16c_429b_11ea_82c8_acde48001122row0_col72\" class=\"data row0 col72\" >No, I didn't know that Stack Overflow had a job board</td>\n",
       "                        <td id=\"T_96f2d16c_429b_11ea_82c8_acde48001122row0_col73\" class=\"data row0 col73\" >No, and I don't know what those are</td>\n",
       "                        <td id=\"T_96f2d16c_429b_11ea_82c8_acde48001122row0_col74\" class=\"data row0 col74\" >Neutral</td>\n",
       "                        <td id=\"T_96f2d16c_429b_11ea_82c8_acde48001122row0_col75\" class=\"data row0 col75\" >Just as welcome now as I felt last year</td>\n",
       "                        <td id=\"T_96f2d16c_429b_11ea_82c8_acde48001122row0_col76\" class=\"data row0 col76\" >Tech articles written by other developers;Industry news about technologies you're interested in;Courses on technologies you're interested in</td>\n",
       "                        <td id=\"T_96f2d16c_429b_11ea_82c8_acde48001122row0_col77\" class=\"data row0 col77\" >14</td>\n",
       "                        <td id=\"T_96f2d16c_429b_11ea_82c8_acde48001122row0_col78\" class=\"data row0 col78\" >Man</td>\n",
       "                        <td id=\"T_96f2d16c_429b_11ea_82c8_acde48001122row0_col79\" class=\"data row0 col79\" >No</td>\n",
       "                        <td id=\"T_96f2d16c_429b_11ea_82c8_acde48001122row0_col80\" class=\"data row0 col80\" >Straight / Heterosexual</td>\n",
       "                        <td id=\"T_96f2d16c_429b_11ea_82c8_acde48001122row0_col81\" class=\"data row0 col81\" >nan</td>\n",
       "                        <td id=\"T_96f2d16c_429b_11ea_82c8_acde48001122row0_col82\" class=\"data row0 col82\" >No</td>\n",
       "                        <td id=\"T_96f2d16c_429b_11ea_82c8_acde48001122row0_col83\" class=\"data row0 col83\" >Appropriate in length</td>\n",
       "                        <td id=\"T_96f2d16c_429b_11ea_82c8_acde48001122row0_col84\" class=\"data row0 col84\" >Neither easy nor difficult</td>\n",
       "            </tr>\n",
       "            <tr>\n",
       "                        <th id=\"T_96f2d16c_429b_11ea_82c8_acde48001122level0_row1\" class=\"row_heading level0 row1\" >1</th>\n",
       "                        <td id=\"T_96f2d16c_429b_11ea_82c8_acde48001122row1_col0\" class=\"data row1 col0\" >2</td>\n",
       "                        <td id=\"T_96f2d16c_429b_11ea_82c8_acde48001122row1_col1\" class=\"data row1 col1\" >I am a student who is learning to code</td>\n",
       "                        <td id=\"T_96f2d16c_429b_11ea_82c8_acde48001122row1_col2\" class=\"data row1 col2\" >No</td>\n",
       "                        <td id=\"T_96f2d16c_429b_11ea_82c8_acde48001122row1_col3\" class=\"data row1 col3\" >Less than once per year</td>\n",
       "                        <td id=\"T_96f2d16c_429b_11ea_82c8_acde48001122row1_col4\" class=\"data row1 col4\" >The quality of OSS and closed source software is about the same</td>\n",
       "                        <td id=\"T_96f2d16c_429b_11ea_82c8_acde48001122row1_col5\" class=\"data row1 col5\" >Not employed, but looking for work</td>\n",
       "                        <td id=\"T_96f2d16c_429b_11ea_82c8_acde48001122row1_col6\" class=\"data row1 col6\" >Bosnia and Herzegovina</td>\n",
       "                        <td id=\"T_96f2d16c_429b_11ea_82c8_acde48001122row1_col7\" class=\"data row1 col7\" >Yes, full-time</td>\n",
       "                        <td id=\"T_96f2d16c_429b_11ea_82c8_acde48001122row1_col8\" class=\"data row1 col8\" >Secondary school (e.g. American high school, German Realschule or Gymnasium, etc.)</td>\n",
       "                        <td id=\"T_96f2d16c_429b_11ea_82c8_acde48001122row1_col9\" class=\"data row1 col9\" >nan</td>\n",
       "                        <td id=\"T_96f2d16c_429b_11ea_82c8_acde48001122row1_col10\" class=\"data row1 col10\" >Taken an online course in programming or software development (e.g. a MOOC)</td>\n",
       "                        <td id=\"T_96f2d16c_429b_11ea_82c8_acde48001122row1_col11\" class=\"data row1 col11\" >nan</td>\n",
       "                        <td id=\"T_96f2d16c_429b_11ea_82c8_acde48001122row1_col12\" class=\"data row1 col12\" >Developer, desktop or enterprise applications;Developer, front-end</td>\n",
       "                        <td id=\"T_96f2d16c_429b_11ea_82c8_acde48001122row1_col13\" class=\"data row1 col13\" >nan</td>\n",
       "                        <td id=\"T_96f2d16c_429b_11ea_82c8_acde48001122row1_col14\" class=\"data row1 col14\" >17</td>\n",
       "                        <td id=\"T_96f2d16c_429b_11ea_82c8_acde48001122row1_col15\" class=\"data row1 col15\" >nan</td>\n",
       "                        <td id=\"T_96f2d16c_429b_11ea_82c8_acde48001122row1_col16\" class=\"data row1 col16\" >nan</td>\n",
       "                        <td id=\"T_96f2d16c_429b_11ea_82c8_acde48001122row1_col17\" class=\"data row1 col17\" >nan</td>\n",
       "                        <td id=\"T_96f2d16c_429b_11ea_82c8_acde48001122row1_col18\" class=\"data row1 col18\" >nan</td>\n",
       "                        <td id=\"T_96f2d16c_429b_11ea_82c8_acde48001122row1_col19\" class=\"data row1 col19\" >nan</td>\n",
       "                        <td id=\"T_96f2d16c_429b_11ea_82c8_acde48001122row1_col20\" class=\"data row1 col20\" >nan</td>\n",
       "                        <td id=\"T_96f2d16c_429b_11ea_82c8_acde48001122row1_col21\" class=\"data row1 col21\" >I am actively looking for a job</td>\n",
       "                        <td id=\"T_96f2d16c_429b_11ea_82c8_acde48001122row1_col22\" class=\"data row1 col22\" >I've never had a job</td>\n",
       "                        <td id=\"T_96f2d16c_429b_11ea_82c8_acde48001122row1_col23\" class=\"data row1 col23\" >nan</td>\n",
       "                        <td id=\"T_96f2d16c_429b_11ea_82c8_acde48001122row1_col24\" class=\"data row1 col24\" >nan</td>\n",
       "                        <td id=\"T_96f2d16c_429b_11ea_82c8_acde48001122row1_col25\" class=\"data row1 col25\" >Financial performance or funding status of the company or organization;Specific department or team I'd be working on;Languages, frameworks, and other technologies I'd be working with</td>\n",
       "                        <td id=\"T_96f2d16c_429b_11ea_82c8_acde48001122row1_col26\" class=\"data row1 col26\" >Something else changed (education, award, media, etc.)</td>\n",
       "                        <td id=\"T_96f2d16c_429b_11ea_82c8_acde48001122row1_col27\" class=\"data row1 col27\" >nan</td>\n",
       "                        <td id=\"T_96f2d16c_429b_11ea_82c8_acde48001122row1_col28\" class=\"data row1 col28\" >nan</td>\n",
       "                        <td id=\"T_96f2d16c_429b_11ea_82c8_acde48001122row1_col29\" class=\"data row1 col29\" >nan</td>\n",
       "                        <td id=\"T_96f2d16c_429b_11ea_82c8_acde48001122row1_col30\" class=\"data row1 col30\" >nan</td>\n",
       "                        <td id=\"T_96f2d16c_429b_11ea_82c8_acde48001122row1_col31\" class=\"data row1 col31\" >nan</td>\n",
       "                        <td id=\"T_96f2d16c_429b_11ea_82c8_acde48001122row1_col32\" class=\"data row1 col32\" >nan</td>\n",
       "                        <td id=\"T_96f2d16c_429b_11ea_82c8_acde48001122row1_col33\" class=\"data row1 col33\" >nan</td>\n",
       "                        <td id=\"T_96f2d16c_429b_11ea_82c8_acde48001122row1_col34\" class=\"data row1 col34\" >nan</td>\n",
       "                        <td id=\"T_96f2d16c_429b_11ea_82c8_acde48001122row1_col35\" class=\"data row1 col35\" >nan</td>\n",
       "                        <td id=\"T_96f2d16c_429b_11ea_82c8_acde48001122row1_col36\" class=\"data row1 col36\" >nan</td>\n",
       "                        <td id=\"T_96f2d16c_429b_11ea_82c8_acde48001122row1_col37\" class=\"data row1 col37\" >nan</td>\n",
       "                        <td id=\"T_96f2d16c_429b_11ea_82c8_acde48001122row1_col38\" class=\"data row1 col38\" >nan</td>\n",
       "                        <td id=\"T_96f2d16c_429b_11ea_82c8_acde48001122row1_col39\" class=\"data row1 col39\" >nan</td>\n",
       "                        <td id=\"T_96f2d16c_429b_11ea_82c8_acde48001122row1_col40\" class=\"data row1 col40\" >nan</td>\n",
       "                        <td id=\"T_96f2d16c_429b_11ea_82c8_acde48001122row1_col41\" class=\"data row1 col41\" >nan</td>\n",
       "                        <td id=\"T_96f2d16c_429b_11ea_82c8_acde48001122row1_col42\" class=\"data row1 col42\" >nan</td>\n",
       "                        <td id=\"T_96f2d16c_429b_11ea_82c8_acde48001122row1_col43\" class=\"data row1 col43\" >C++;HTML/CSS;Python</td>\n",
       "                        <td id=\"T_96f2d16c_429b_11ea_82c8_acde48001122row1_col44\" class=\"data row1 col44\" >C++;HTML/CSS;JavaScript;SQL</td>\n",
       "                        <td id=\"T_96f2d16c_429b_11ea_82c8_acde48001122row1_col45\" class=\"data row1 col45\" >nan</td>\n",
       "                        <td id=\"T_96f2d16c_429b_11ea_82c8_acde48001122row1_col46\" class=\"data row1 col46\" >MySQL</td>\n",
       "                        <td id=\"T_96f2d16c_429b_11ea_82c8_acde48001122row1_col47\" class=\"data row1 col47\" >Windows</td>\n",
       "                        <td id=\"T_96f2d16c_429b_11ea_82c8_acde48001122row1_col48\" class=\"data row1 col48\" >Windows</td>\n",
       "                        <td id=\"T_96f2d16c_429b_11ea_82c8_acde48001122row1_col49\" class=\"data row1 col49\" >Django</td>\n",
       "                        <td id=\"T_96f2d16c_429b_11ea_82c8_acde48001122row1_col50\" class=\"data row1 col50\" >Django</td>\n",
       "                        <td id=\"T_96f2d16c_429b_11ea_82c8_acde48001122row1_col51\" class=\"data row1 col51\" >nan</td>\n",
       "                        <td id=\"T_96f2d16c_429b_11ea_82c8_acde48001122row1_col52\" class=\"data row1 col52\" >nan</td>\n",
       "                        <td id=\"T_96f2d16c_429b_11ea_82c8_acde48001122row1_col53\" class=\"data row1 col53\" >Atom;PyCharm</td>\n",
       "                        <td id=\"T_96f2d16c_429b_11ea_82c8_acde48001122row1_col54\" class=\"data row1 col54\" >Windows</td>\n",
       "                        <td id=\"T_96f2d16c_429b_11ea_82c8_acde48001122row1_col55\" class=\"data row1 col55\" >I do not use containers</td>\n",
       "                        <td id=\"T_96f2d16c_429b_11ea_82c8_acde48001122row1_col56\" class=\"data row1 col56\" >nan</td>\n",
       "                        <td id=\"T_96f2d16c_429b_11ea_82c8_acde48001122row1_col57\" class=\"data row1 col57\" >Useful across many domains and could change many aspects of our lives</td>\n",
       "                        <td id=\"T_96f2d16c_429b_11ea_82c8_acde48001122row1_col58\" class=\"data row1 col58\" >Yes</td>\n",
       "                        <td id=\"T_96f2d16c_429b_11ea_82c8_acde48001122row1_col59\" class=\"data row1 col59\" >Yes</td>\n",
       "                        <td id=\"T_96f2d16c_429b_11ea_82c8_acde48001122row1_col60\" class=\"data row1 col60\" >Yes</td>\n",
       "                        <td id=\"T_96f2d16c_429b_11ea_82c8_acde48001122row1_col61\" class=\"data row1 col61\" >Instagram</td>\n",
       "                        <td id=\"T_96f2d16c_429b_11ea_82c8_acde48001122row1_col62\" class=\"data row1 col62\" >Online</td>\n",
       "                        <td id=\"T_96f2d16c_429b_11ea_82c8_acde48001122row1_col63\" class=\"data row1 col63\" >Username</td>\n",
       "                        <td id=\"T_96f2d16c_429b_11ea_82c8_acde48001122row1_col64\" class=\"data row1 col64\" >2017</td>\n",
       "                        <td id=\"T_96f2d16c_429b_11ea_82c8_acde48001122row1_col65\" class=\"data row1 col65\" >Daily or almost daily</td>\n",
       "                        <td id=\"T_96f2d16c_429b_11ea_82c8_acde48001122row1_col66\" class=\"data row1 col66\" >Find answers to specific questions;Learn how to do things I didn’t necessarily look for</td>\n",
       "                        <td id=\"T_96f2d16c_429b_11ea_82c8_acde48001122row1_col67\" class=\"data row1 col67\" >3-5 times per week</td>\n",
       "                        <td id=\"T_96f2d16c_429b_11ea_82c8_acde48001122row1_col68\" class=\"data row1 col68\" >Stack Overflow was much faster</td>\n",
       "                        <td id=\"T_96f2d16c_429b_11ea_82c8_acde48001122row1_col69\" class=\"data row1 col69\" >11-30 minutes</td>\n",
       "                        <td id=\"T_96f2d16c_429b_11ea_82c8_acde48001122row1_col70\" class=\"data row1 col70\" >Yes</td>\n",
       "                        <td id=\"T_96f2d16c_429b_11ea_82c8_acde48001122row1_col71\" class=\"data row1 col71\" >A few times per month or weekly</td>\n",
       "                        <td id=\"T_96f2d16c_429b_11ea_82c8_acde48001122row1_col72\" class=\"data row1 col72\" >No, I knew that Stack Overflow had a job board but have never used or visited it</td>\n",
       "                        <td id=\"T_96f2d16c_429b_11ea_82c8_acde48001122row1_col73\" class=\"data row1 col73\" >No, and I don't know what those are</td>\n",
       "                        <td id=\"T_96f2d16c_429b_11ea_82c8_acde48001122row1_col74\" class=\"data row1 col74\" >Yes, somewhat</td>\n",
       "                        <td id=\"T_96f2d16c_429b_11ea_82c8_acde48001122row1_col75\" class=\"data row1 col75\" >Just as welcome now as I felt last year</td>\n",
       "                        <td id=\"T_96f2d16c_429b_11ea_82c8_acde48001122row1_col76\" class=\"data row1 col76\" >Tech articles written by other developers;Industry news about technologies you're interested in;Tech meetups or events in your area;Courses on technologies you're interested in</td>\n",
       "                        <td id=\"T_96f2d16c_429b_11ea_82c8_acde48001122row1_col77\" class=\"data row1 col77\" >19</td>\n",
       "                        <td id=\"T_96f2d16c_429b_11ea_82c8_acde48001122row1_col78\" class=\"data row1 col78\" >Man</td>\n",
       "                        <td id=\"T_96f2d16c_429b_11ea_82c8_acde48001122row1_col79\" class=\"data row1 col79\" >No</td>\n",
       "                        <td id=\"T_96f2d16c_429b_11ea_82c8_acde48001122row1_col80\" class=\"data row1 col80\" >Straight / Heterosexual</td>\n",
       "                        <td id=\"T_96f2d16c_429b_11ea_82c8_acde48001122row1_col81\" class=\"data row1 col81\" >nan</td>\n",
       "                        <td id=\"T_96f2d16c_429b_11ea_82c8_acde48001122row1_col82\" class=\"data row1 col82\" >No</td>\n",
       "                        <td id=\"T_96f2d16c_429b_11ea_82c8_acde48001122row1_col83\" class=\"data row1 col83\" >Appropriate in length</td>\n",
       "                        <td id=\"T_96f2d16c_429b_11ea_82c8_acde48001122row1_col84\" class=\"data row1 col84\" >Neither easy nor difficult</td>\n",
       "            </tr>\n",
       "    </tbody></table>"
      ],
      "text/plain": [
       "<pandas.io.formats.style.Styler at 0x1c1cd54090>"
      ]
     },
     "execution_count": 660,
     "metadata": {},
     "output_type": "execute_result"
    }
   ],
   "source": [
    "# First two rows of the dataset:\n",
    "survey_2019.head(2).style.set_properties(**style_dict)"
   ]
  },
  {
   "cell_type": "markdown",
   "metadata": {},
   "source": [
    "### <a id = '2.3' > 2.3. DATA TYPES <a/>"
   ]
  },
  {
   "cell_type": "code",
   "execution_count": 676,
   "metadata": {},
   "outputs": [
    {
     "data": {
      "text/plain": [
       "3"
      ]
     },
     "execution_count": 676,
     "metadata": {},
     "output_type": "execute_result"
    }
   ],
   "source": [
    "len(survey_2019.dtypes.unique())"
   ]
  },
  {
   "cell_type": "code",
   "execution_count": 678,
   "metadata": {},
   "outputs": [
    {
     "data": {
      "text/plain": [
       "object     79\n",
       "float64     5\n",
       "int64       1\n",
       "dtype: int64"
      ]
     },
     "execution_count": 678,
     "metadata": {},
     "output_type": "execute_result"
    }
   ],
   "source": [
    "pd.value_counts(survey_2019.dtypes)"
   ]
  },
  {
   "cell_type": "markdown",
   "metadata": {},
   "source": [
    "We have 79 object columns. We can use change them to numerical by using various techniques in python. "
   ]
  },
  {
   "cell_type": "markdown",
   "metadata": {},
   "source": [
    "## <a id = '3'> 3. MISSING VALUES  <a/>"
   ]
  },
  {
   "cell_type": "code",
   "execution_count": 668,
   "metadata": {},
   "outputs": [
    {
     "name": "stdout",
     "output_type": "stream",
     "text": [
      "There is/are 1 columns with more than 30% missing values in 2016 survey.\n",
      "There are 130 columns with more than 30% missing values in 2017 survey.\n",
      "There are 82 columns with more than 30% missing values in 2018 survey.\n",
      "There are 11 columns with more than 30% missing values in 2019 survey.\n"
     ]
    }
   ],
   "source": [
    "#Number of missing columns in 2016\n",
    "most_missing_cols = set(survey_2016.columns[survey_2016.isnull().mean() > 0.30])\n",
    "print(\"There is/are {} columns with more than 30% missing values in 2016 survey.\".format(len(most_missing_cols)))\n",
    "\n",
    "#Number of missing columns in 2017\n",
    "most_missing_cols = set(survey_2017.columns[survey_2017.isnull().mean() > 0.30])\n",
    "print(\"There are {} columns with more than 30% missing values in 2017 survey.\".format(len(most_missing_cols)))\n",
    "\n",
    "\n",
    "#Number of missing columns in 2018\n",
    "most_missing_cols = set(survey_2018.columns[survey_2018.isnull().mean() > 0.30])\n",
    "print(\"There are {} columns with more than 30% missing values in 2018 survey.\".format(len(most_missing_cols)))\n",
    "\n",
    "#Number of missing columns in 2019\n",
    "most_missing_cols = set(survey_2019.columns[survey_2019.isnull().mean() > 0.30])\n",
    "print(\"There are {} columns with more than 30% missing values in 2019 survey.\".format(len(most_missing_cols)))"
   ]
  },
  {
   "cell_type": "markdown",
   "metadata": {},
   "source": [
    "## <a id='4'>4. ANALYSIS </a> "
   ]
  },
  {
   "cell_type": "markdown",
   "metadata": {},
   "source": [
    "**OBJECTIVE OF ANALYSIS**\n",
    "\n",
    "**4.1. TOP PROGRAMMING LANGUAGES**\n",
    "\n",
    "1. Which programming languages had most demand in 2018 & 2019 \n",
    "2. A trend of programming languages from 2016 to 2019\n",
    "3. Popular programming languages amongst students and developers in 2019\n",
    "\n",
    "**4.2. TOP DEVELOPER ROLES**\n",
    "1. Top 3 developer roles in 2018 and 2019\n",
    "2. Gender Proportion in Top 3 Developer Types (Year 2019)\n",
    "3. Popular Languages In Top 3 Developer Types in 2019)\n",
    "\n",
    "**4.3. GENDER**\n",
    "1. Gender proportion in development community from 2016 to 2019\n"
   ]
  },
  {
   "cell_type": "markdown",
   "metadata": {},
   "source": [
    "# <a id='4.1'>4.1. TOP PROGRAMMING LANGUAGES  </a> "
   ]
  },
  {
   "cell_type": "markdown",
   "metadata": {},
   "source": [
    "As an aspiring developer, one wants to know about the current demanding and valued programming languages in the industry. From the below analysis we will try to get the useful trends and insights of programming languages. "
   ]
  },
  {
   "cell_type": "markdown",
   "metadata": {},
   "source": [
    "**Year-wise Languages dataset**"
   ]
  },
  {
   "cell_type": "code",
   "execution_count": null,
   "metadata": {},
   "outputs": [],
   "source": [
    "# Save year-wise languages data: \n",
    "survey_2016_langs = pd.DataFrame(survey_2016.tech_do).dropna()\n",
    "survey_2017_langs = pd.DataFrame(survey_2017.HaveWorkedLanguage).dropna()\n",
    "survey_2018_langs = pd.DataFrame(survey_2018.LanguageWorkedWith).dropna()\n",
    "survey_2019_langs = pd.DataFrame(survey_2019.LanguageWorkedWith).dropna()"
   ]
  },
  {
   "cell_type": "markdown",
   "metadata": {},
   "source": [
    "## 1. Which programming languages had most demand in 2018 & 2019"
   ]
  },
  {
   "cell_type": "markdown",
   "metadata": {},
   "source": [
    "**A function to clean a programming languages column in surveys and to get a data frame with top languages count \n",
    "and their percentages**"
   ]
  },
  {
   "cell_type": "code",
   "execution_count": 687,
   "metadata": {},
   "outputs": [],
   "source": [
    "## A function to clean a programming languages column in surveys and to get a data frame with top languages count \n",
    "## and their percentages**\n",
    "def all_languages(dataset,column,new_name_col1,year):\n",
    "    \n",
    "    temp = pd.DataFrame(dataset[column].dropna())\n",
    "    temp = pd.DataFrame(temp[column].apply(lambda x: pd.value_counts(x.split(\";\")))\n",
    "                             .sum(axis = 0)).reset_index()\n",
    "    new_name_col2 = (\"Count\"+str(year))\n",
    "    \n",
    "    '''\n",
    "    dataset = dataset you want to use \n",
    "    col = On the column you want to use this function\n",
    "    name_col1 = give new name to column one\n",
    "    name_col2 = give new name to column two (Preferably count)\n",
    "    '''\n",
    "    #Renaming columns\n",
    "    clean_data = temp.rename(columns={\"index\": new_name_col1,0:new_name_col2})\n",
    "    clean_data[\"New_column\"] = clean_data[new_name_col1].str.strip()\n",
    "    clean_data = clean_data.drop(columns=[new_name_col1])\n",
    "    clean_data = clean_data.sort_values(by=new_name_col2, ascending=False)\n",
    "\n",
    "    \n",
    "    #Grab DataFrame rows where column has certain values\n",
    "    selected_rows = pd.DataFrame(clean_data.groupby(['New_column']).sum().sort_values(by=new_name_col2,\n",
    "                                                        ascending = False)).reset_index()\n",
    "    selected_rows['year'+str(year)] = year\n",
    "    selected_rows[\"Count%\"+str(year)] = round((selected_rows[new_name_col2]/sum(selected_rows[new_name_col2]))*100,3)\n",
    " \n",
    "    return selected_rows"
   ]
  },
  {
   "cell_type": "code",
   "execution_count": 685,
   "metadata": {
    "collapsed": true
   },
   "outputs": [
    {
     "data": {
      "text/html": [
       "<div>\n",
       "<style scoped>\n",
       "    .dataframe tbody tr th:only-of-type {\n",
       "        vertical-align: middle;\n",
       "    }\n",
       "\n",
       "    .dataframe tbody tr th {\n",
       "        vertical-align: top;\n",
       "    }\n",
       "\n",
       "    .dataframe thead th {\n",
       "        text-align: right;\n",
       "    }\n",
       "</style>\n",
       "<table border=\"1\" class=\"dataframe\">\n",
       "  <thead>\n",
       "    <tr style=\"text-align: right;\">\n",
       "      <th></th>\n",
       "      <th>languages</th>\n",
       "      <th>Count%2019</th>\n",
       "      <th>Count%2018</th>\n",
       "    </tr>\n",
       "  </thead>\n",
       "  <tbody>\n",
       "    <tr>\n",
       "      <td>0</td>\n",
       "      <td>JavaScript</td>\n",
       "      <td>13.443</td>\n",
       "      <td>11.260</td>\n",
       "    </tr>\n",
       "    <tr>\n",
       "      <td>1</td>\n",
       "      <td>HTML/CSS</td>\n",
       "      <td>12.591</td>\n",
       "      <td>11.042</td>\n",
       "    </tr>\n",
       "    <tr>\n",
       "      <td>2</td>\n",
       "      <td>SQL</td>\n",
       "      <td>10.793</td>\n",
       "      <td>9.198</td>\n",
       "    </tr>\n",
       "    <tr>\n",
       "      <td>3</td>\n",
       "      <td>Python</td>\n",
       "      <td>8.273</td>\n",
       "      <td>6.251</td>\n",
       "    </tr>\n",
       "    <tr>\n",
       "      <td>4</td>\n",
       "      <td>Java</td>\n",
       "      <td>8.154</td>\n",
       "      <td>7.314</td>\n",
       "    </tr>\n",
       "    <tr>\n",
       "      <td>6</td>\n",
       "      <td>C#</td>\n",
       "      <td>6.151</td>\n",
       "      <td>5.550</td>\n",
       "    </tr>\n",
       "    <tr>\n",
       "      <td>7</td>\n",
       "      <td>PHP</td>\n",
       "      <td>5.228</td>\n",
       "      <td>4.956</td>\n",
       "    </tr>\n",
       "    <tr>\n",
       "      <td>8</td>\n",
       "      <td>C++</td>\n",
       "      <td>4.659</td>\n",
       "      <td>4.092</td>\n",
       "    </tr>\n",
       "    <tr>\n",
       "      <td>9</td>\n",
       "      <td>TypeScript</td>\n",
       "      <td>4.205</td>\n",
       "      <td>2.806</td>\n",
       "    </tr>\n",
       "    <tr>\n",
       "      <td>10</td>\n",
       "      <td>C</td>\n",
       "      <td>4.090</td>\n",
       "      <td>3.715</td>\n",
       "    </tr>\n",
       "    <tr>\n",
       "      <td>12</td>\n",
       "      <td>Ruby</td>\n",
       "      <td>1.664</td>\n",
       "      <td>1.629</td>\n",
       "    </tr>\n",
       "    <tr>\n",
       "      <td>13</td>\n",
       "      <td>Go</td>\n",
       "      <td>1.635</td>\n",
       "      <td>1.139</td>\n",
       "    </tr>\n",
       "    <tr>\n",
       "      <td>14</td>\n",
       "      <td>Assembly</td>\n",
       "      <td>1.324</td>\n",
       "      <td>1.186</td>\n",
       "    </tr>\n",
       "    <tr>\n",
       "      <td>15</td>\n",
       "      <td>Swift</td>\n",
       "      <td>1.304</td>\n",
       "      <td>1.299</td>\n",
       "    </tr>\n",
       "    <tr>\n",
       "      <td>16</td>\n",
       "      <td>Kotlin</td>\n",
       "      <td>1.276</td>\n",
       "      <td>0.722</td>\n",
       "    </tr>\n",
       "    <tr>\n",
       "      <td>17</td>\n",
       "      <td>R</td>\n",
       "      <td>1.146</td>\n",
       "      <td>0.991</td>\n",
       "    </tr>\n",
       "    <tr>\n",
       "      <td>18</td>\n",
       "      <td>VBA</td>\n",
       "      <td>1.085</td>\n",
       "      <td>0.784</td>\n",
       "    </tr>\n",
       "    <tr>\n",
       "      <td>19</td>\n",
       "      <td>Objective-C</td>\n",
       "      <td>0.951</td>\n",
       "      <td>1.135</td>\n",
       "    </tr>\n",
       "    <tr>\n",
       "      <td>20</td>\n",
       "      <td>Scala</td>\n",
       "      <td>0.751</td>\n",
       "      <td>0.704</td>\n",
       "    </tr>\n",
       "    <tr>\n",
       "      <td>21</td>\n",
       "      <td>Rust</td>\n",
       "      <td>0.634</td>\n",
       "      <td>0.382</td>\n",
       "    </tr>\n",
       "    <tr>\n",
       "      <td>24</td>\n",
       "      <td>Clojure</td>\n",
       "      <td>0.285</td>\n",
       "      <td>0.212</td>\n",
       "    </tr>\n",
       "    <tr>\n",
       "      <td>26</td>\n",
       "      <td>F#</td>\n",
       "      <td>0.221</td>\n",
       "      <td>0.230</td>\n",
       "    </tr>\n",
       "    <tr>\n",
       "      <td>27</td>\n",
       "      <td>Erlang</td>\n",
       "      <td>0.176</td>\n",
       "      <td>0.182</td>\n",
       "    </tr>\n",
       "  </tbody>\n",
       "</table>\n",
       "</div>"
      ],
      "text/plain": [
       "      languages  Count%2019  Count%2018\n",
       "0    JavaScript      13.443      11.260\n",
       "1      HTML/CSS      12.591      11.042\n",
       "2           SQL      10.793       9.198\n",
       "3        Python       8.273       6.251\n",
       "4          Java       8.154       7.314\n",
       "6            C#       6.151       5.550\n",
       "7           PHP       5.228       4.956\n",
       "8           C++       4.659       4.092\n",
       "9    TypeScript       4.205       2.806\n",
       "10            C       4.090       3.715\n",
       "12         Ruby       1.664       1.629\n",
       "13           Go       1.635       1.139\n",
       "14     Assembly       1.324       1.186\n",
       "15        Swift       1.304       1.299\n",
       "16       Kotlin       1.276       0.722\n",
       "17            R       1.146       0.991\n",
       "18          VBA       1.085       0.784\n",
       "19  Objective-C       0.951       1.135\n",
       "20        Scala       0.751       0.704\n",
       "21         Rust       0.634       0.382\n",
       "24      Clojure       0.285       0.212\n",
       "26           F#       0.221       0.230\n",
       "27       Erlang       0.176       0.182"
      ]
     },
     "execution_count": 685,
     "metadata": {},
     "output_type": "execute_result"
    }
   ],
   "source": [
    "# Use above function to get the dataframes which have percentages for SQL, JavaScript, Java, Python, C#, C++, HTML/CSS \n",
    "lang_2018 = all_languages(survey_2018_langs,\"LanguageWorkedWith\",\"Language\",2018)\n",
    "lang_2018 = lang_2018.replace({\"HTML\":\"HTML/CSS\"})\n",
    "\n",
    "lang_2019 = all_languages(survey_2019_langs,\"LanguageWorkedWith\",\"Language\",2019)\n",
    "lang_2018_2019 = pd.merge(lang_2019[[\"New_column\",\"Count%2019\"]],lang_2018[[\"New_column\",\"Count%2018\"]],\n",
    "                on=\"New_column\", how='left')\n",
    "lang_2018_2019 = lang_2018_2019.dropna(subset=[\"Count%2019\",\"Count%2018\"]).rename(columns={\"New_column\": \"languages\"})\n",
    "lang_2018_2019"
   ]
  },
  {
   "cell_type": "code",
   "execution_count": 726,
   "metadata": {},
   "outputs": [
    {
     "data": {
      "application/vnd.plotly.v1+json": {
       "config": {
        "plotlyServerURL": "https://plot.ly"
       },
       "data": [
        {
         "marker": {
          "color": "rgba(246, 78, 139, 0.6)",
          "line": {
           "color": "rgba(246, 78, 139, 1.0)",
           "width": 2
          }
         },
         "name": "Year 2018",
         "orientation": "h",
         "text": [
          11.26,
          11.042,
          9.198,
          6.251,
          7.314,
          5.55,
          4.956,
          4.092,
          2.806,
          3.715,
          1.629,
          1.139,
          1.186,
          1.299,
          0.722,
          0.991,
          0.784,
          1.135,
          0.704,
          0.382,
          0.212,
          0.23,
          0.182
         ],
         "textposition": "auto",
         "type": "bar",
         "x": [
          11.26,
          11.042,
          9.198,
          6.251,
          7.314,
          5.55,
          4.956,
          4.092,
          2.806,
          3.715,
          1.629,
          1.139,
          1.186,
          1.299,
          0.722,
          0.991,
          0.784,
          1.135,
          0.704,
          0.382,
          0.212,
          0.23,
          0.182
         ],
         "y": [
          "JavaScript",
          "HTML/CSS",
          "SQL",
          "Python",
          "Java",
          "C#",
          "PHP",
          "C++",
          "TypeScript",
          "C",
          "Ruby",
          "Go",
          "Assembly",
          "Swift",
          "Kotlin",
          "R",
          "VBA",
          "Objective-C",
          "Scala",
          "Rust",
          "Clojure",
          "F#",
          "Erlang"
         ]
        },
        {
         "marker": {
          "color": "rgba(50, 171, 96, 0.6)",
          "line": {
           "color": "rgba(58, 71, 80, 1.0)",
           "width": 2
          }
         },
         "name": "Year 2019",
         "orientation": "h",
         "text": [
          13.443,
          12.591,
          10.793,
          8.273,
          8.154,
          6.151,
          5.228,
          4.659,
          4.205,
          4.09,
          1.664,
          1.635,
          1.324,
          1.304,
          1.276,
          1.146,
          1.085,
          0.951,
          0.751,
          0.634,
          0.285,
          0.221,
          0.176
         ],
         "textposition": "auto",
         "type": "bar",
         "x": [
          13.443,
          12.591,
          10.793,
          8.273,
          8.154,
          6.151,
          5.228,
          4.659,
          4.205,
          4.09,
          1.664,
          1.635,
          1.324,
          1.304,
          1.276,
          1.146,
          1.085,
          0.951,
          0.751,
          0.634,
          0.285,
          0.221,
          0.176
         ],
         "y": [
          "JavaScript",
          "HTML/CSS",
          "SQL",
          "Python",
          "Java",
          "C#",
          "PHP",
          "C++",
          "TypeScript",
          "C",
          "Ruby",
          "Go",
          "Assembly",
          "Swift",
          "Kotlin",
          "R",
          "VBA",
          "Objective-C",
          "Scala",
          "Rust",
          "Clojure",
          "F#",
          "Erlang"
         ]
        }
       ],
       "layout": {
        "barmode": "stack",
        "height": 1000,
        "template": {
         "data": {
          "bar": [
           {
            "error_x": {
             "color": "#2a3f5f"
            },
            "error_y": {
             "color": "#2a3f5f"
            },
            "marker": {
             "line": {
              "color": "#E5ECF6",
              "width": 0.5
             }
            },
            "type": "bar"
           }
          ],
          "barpolar": [
           {
            "marker": {
             "line": {
              "color": "#E5ECF6",
              "width": 0.5
             }
            },
            "type": "barpolar"
           }
          ],
          "carpet": [
           {
            "aaxis": {
             "endlinecolor": "#2a3f5f",
             "gridcolor": "white",
             "linecolor": "white",
             "minorgridcolor": "white",
             "startlinecolor": "#2a3f5f"
            },
            "baxis": {
             "endlinecolor": "#2a3f5f",
             "gridcolor": "white",
             "linecolor": "white",
             "minorgridcolor": "white",
             "startlinecolor": "#2a3f5f"
            },
            "type": "carpet"
           }
          ],
          "choropleth": [
           {
            "colorbar": {
             "outlinewidth": 0,
             "ticks": ""
            },
            "type": "choropleth"
           }
          ],
          "contour": [
           {
            "colorbar": {
             "outlinewidth": 0,
             "ticks": ""
            },
            "colorscale": [
             [
              0,
              "#0d0887"
             ],
             [
              0.1111111111111111,
              "#46039f"
             ],
             [
              0.2222222222222222,
              "#7201a8"
             ],
             [
              0.3333333333333333,
              "#9c179e"
             ],
             [
              0.4444444444444444,
              "#bd3786"
             ],
             [
              0.5555555555555556,
              "#d8576b"
             ],
             [
              0.6666666666666666,
              "#ed7953"
             ],
             [
              0.7777777777777778,
              "#fb9f3a"
             ],
             [
              0.8888888888888888,
              "#fdca26"
             ],
             [
              1,
              "#f0f921"
             ]
            ],
            "type": "contour"
           }
          ],
          "contourcarpet": [
           {
            "colorbar": {
             "outlinewidth": 0,
             "ticks": ""
            },
            "type": "contourcarpet"
           }
          ],
          "heatmap": [
           {
            "colorbar": {
             "outlinewidth": 0,
             "ticks": ""
            },
            "colorscale": [
             [
              0,
              "#0d0887"
             ],
             [
              0.1111111111111111,
              "#46039f"
             ],
             [
              0.2222222222222222,
              "#7201a8"
             ],
             [
              0.3333333333333333,
              "#9c179e"
             ],
             [
              0.4444444444444444,
              "#bd3786"
             ],
             [
              0.5555555555555556,
              "#d8576b"
             ],
             [
              0.6666666666666666,
              "#ed7953"
             ],
             [
              0.7777777777777778,
              "#fb9f3a"
             ],
             [
              0.8888888888888888,
              "#fdca26"
             ],
             [
              1,
              "#f0f921"
             ]
            ],
            "type": "heatmap"
           }
          ],
          "heatmapgl": [
           {
            "colorbar": {
             "outlinewidth": 0,
             "ticks": ""
            },
            "colorscale": [
             [
              0,
              "#0d0887"
             ],
             [
              0.1111111111111111,
              "#46039f"
             ],
             [
              0.2222222222222222,
              "#7201a8"
             ],
             [
              0.3333333333333333,
              "#9c179e"
             ],
             [
              0.4444444444444444,
              "#bd3786"
             ],
             [
              0.5555555555555556,
              "#d8576b"
             ],
             [
              0.6666666666666666,
              "#ed7953"
             ],
             [
              0.7777777777777778,
              "#fb9f3a"
             ],
             [
              0.8888888888888888,
              "#fdca26"
             ],
             [
              1,
              "#f0f921"
             ]
            ],
            "type": "heatmapgl"
           }
          ],
          "histogram": [
           {
            "marker": {
             "colorbar": {
              "outlinewidth": 0,
              "ticks": ""
             }
            },
            "type": "histogram"
           }
          ],
          "histogram2d": [
           {
            "colorbar": {
             "outlinewidth": 0,
             "ticks": ""
            },
            "colorscale": [
             [
              0,
              "#0d0887"
             ],
             [
              0.1111111111111111,
              "#46039f"
             ],
             [
              0.2222222222222222,
              "#7201a8"
             ],
             [
              0.3333333333333333,
              "#9c179e"
             ],
             [
              0.4444444444444444,
              "#bd3786"
             ],
             [
              0.5555555555555556,
              "#d8576b"
             ],
             [
              0.6666666666666666,
              "#ed7953"
             ],
             [
              0.7777777777777778,
              "#fb9f3a"
             ],
             [
              0.8888888888888888,
              "#fdca26"
             ],
             [
              1,
              "#f0f921"
             ]
            ],
            "type": "histogram2d"
           }
          ],
          "histogram2dcontour": [
           {
            "colorbar": {
             "outlinewidth": 0,
             "ticks": ""
            },
            "colorscale": [
             [
              0,
              "#0d0887"
             ],
             [
              0.1111111111111111,
              "#46039f"
             ],
             [
              0.2222222222222222,
              "#7201a8"
             ],
             [
              0.3333333333333333,
              "#9c179e"
             ],
             [
              0.4444444444444444,
              "#bd3786"
             ],
             [
              0.5555555555555556,
              "#d8576b"
             ],
             [
              0.6666666666666666,
              "#ed7953"
             ],
             [
              0.7777777777777778,
              "#fb9f3a"
             ],
             [
              0.8888888888888888,
              "#fdca26"
             ],
             [
              1,
              "#f0f921"
             ]
            ],
            "type": "histogram2dcontour"
           }
          ],
          "mesh3d": [
           {
            "colorbar": {
             "outlinewidth": 0,
             "ticks": ""
            },
            "type": "mesh3d"
           }
          ],
          "parcoords": [
           {
            "line": {
             "colorbar": {
              "outlinewidth": 0,
              "ticks": ""
             }
            },
            "type": "parcoords"
           }
          ],
          "pie": [
           {
            "automargin": true,
            "type": "pie"
           }
          ],
          "scatter": [
           {
            "marker": {
             "colorbar": {
              "outlinewidth": 0,
              "ticks": ""
             }
            },
            "type": "scatter"
           }
          ],
          "scatter3d": [
           {
            "line": {
             "colorbar": {
              "outlinewidth": 0,
              "ticks": ""
             }
            },
            "marker": {
             "colorbar": {
              "outlinewidth": 0,
              "ticks": ""
             }
            },
            "type": "scatter3d"
           }
          ],
          "scattercarpet": [
           {
            "marker": {
             "colorbar": {
              "outlinewidth": 0,
              "ticks": ""
             }
            },
            "type": "scattercarpet"
           }
          ],
          "scattergeo": [
           {
            "marker": {
             "colorbar": {
              "outlinewidth": 0,
              "ticks": ""
             }
            },
            "type": "scattergeo"
           }
          ],
          "scattergl": [
           {
            "marker": {
             "colorbar": {
              "outlinewidth": 0,
              "ticks": ""
             }
            },
            "type": "scattergl"
           }
          ],
          "scattermapbox": [
           {
            "marker": {
             "colorbar": {
              "outlinewidth": 0,
              "ticks": ""
             }
            },
            "type": "scattermapbox"
           }
          ],
          "scatterpolar": [
           {
            "marker": {
             "colorbar": {
              "outlinewidth": 0,
              "ticks": ""
             }
            },
            "type": "scatterpolar"
           }
          ],
          "scatterpolargl": [
           {
            "marker": {
             "colorbar": {
              "outlinewidth": 0,
              "ticks": ""
             }
            },
            "type": "scatterpolargl"
           }
          ],
          "scatterternary": [
           {
            "marker": {
             "colorbar": {
              "outlinewidth": 0,
              "ticks": ""
             }
            },
            "type": "scatterternary"
           }
          ],
          "surface": [
           {
            "colorbar": {
             "outlinewidth": 0,
             "ticks": ""
            },
            "colorscale": [
             [
              0,
              "#0d0887"
             ],
             [
              0.1111111111111111,
              "#46039f"
             ],
             [
              0.2222222222222222,
              "#7201a8"
             ],
             [
              0.3333333333333333,
              "#9c179e"
             ],
             [
              0.4444444444444444,
              "#bd3786"
             ],
             [
              0.5555555555555556,
              "#d8576b"
             ],
             [
              0.6666666666666666,
              "#ed7953"
             ],
             [
              0.7777777777777778,
              "#fb9f3a"
             ],
             [
              0.8888888888888888,
              "#fdca26"
             ],
             [
              1,
              "#f0f921"
             ]
            ],
            "type": "surface"
           }
          ],
          "table": [
           {
            "cells": {
             "fill": {
              "color": "#EBF0F8"
             },
             "line": {
              "color": "white"
             }
            },
            "header": {
             "fill": {
              "color": "#C8D4E3"
             },
             "line": {
              "color": "white"
             }
            },
            "type": "table"
           }
          ]
         },
         "layout": {
          "annotationdefaults": {
           "arrowcolor": "#2a3f5f",
           "arrowhead": 0,
           "arrowwidth": 1
          },
          "coloraxis": {
           "colorbar": {
            "outlinewidth": 0,
            "ticks": ""
           }
          },
          "colorscale": {
           "diverging": [
            [
             0,
             "#8e0152"
            ],
            [
             0.1,
             "#c51b7d"
            ],
            [
             0.2,
             "#de77ae"
            ],
            [
             0.3,
             "#f1b6da"
            ],
            [
             0.4,
             "#fde0ef"
            ],
            [
             0.5,
             "#f7f7f7"
            ],
            [
             0.6,
             "#e6f5d0"
            ],
            [
             0.7,
             "#b8e186"
            ],
            [
             0.8,
             "#7fbc41"
            ],
            [
             0.9,
             "#4d9221"
            ],
            [
             1,
             "#276419"
            ]
           ],
           "sequential": [
            [
             0,
             "#0d0887"
            ],
            [
             0.1111111111111111,
             "#46039f"
            ],
            [
             0.2222222222222222,
             "#7201a8"
            ],
            [
             0.3333333333333333,
             "#9c179e"
            ],
            [
             0.4444444444444444,
             "#bd3786"
            ],
            [
             0.5555555555555556,
             "#d8576b"
            ],
            [
             0.6666666666666666,
             "#ed7953"
            ],
            [
             0.7777777777777778,
             "#fb9f3a"
            ],
            [
             0.8888888888888888,
             "#fdca26"
            ],
            [
             1,
             "#f0f921"
            ]
           ],
           "sequentialminus": [
            [
             0,
             "#0d0887"
            ],
            [
             0.1111111111111111,
             "#46039f"
            ],
            [
             0.2222222222222222,
             "#7201a8"
            ],
            [
             0.3333333333333333,
             "#9c179e"
            ],
            [
             0.4444444444444444,
             "#bd3786"
            ],
            [
             0.5555555555555556,
             "#d8576b"
            ],
            [
             0.6666666666666666,
             "#ed7953"
            ],
            [
             0.7777777777777778,
             "#fb9f3a"
            ],
            [
             0.8888888888888888,
             "#fdca26"
            ],
            [
             1,
             "#f0f921"
            ]
           ]
          },
          "colorway": [
           "#636efa",
           "#EF553B",
           "#00cc96",
           "#ab63fa",
           "#FFA15A",
           "#19d3f3",
           "#FF6692",
           "#B6E880",
           "#FF97FF",
           "#FECB52"
          ],
          "font": {
           "color": "#2a3f5f"
          },
          "geo": {
           "bgcolor": "white",
           "lakecolor": "white",
           "landcolor": "#E5ECF6",
           "showlakes": true,
           "showland": true,
           "subunitcolor": "white"
          },
          "hoverlabel": {
           "align": "left"
          },
          "hovermode": "closest",
          "mapbox": {
           "style": "light"
          },
          "paper_bgcolor": "white",
          "plot_bgcolor": "#E5ECF6",
          "polar": {
           "angularaxis": {
            "gridcolor": "white",
            "linecolor": "white",
            "ticks": ""
           },
           "bgcolor": "#E5ECF6",
           "radialaxis": {
            "gridcolor": "white",
            "linecolor": "white",
            "ticks": ""
           }
          },
          "scene": {
           "xaxis": {
            "backgroundcolor": "#E5ECF6",
            "gridcolor": "white",
            "gridwidth": 2,
            "linecolor": "white",
            "showbackground": true,
            "ticks": "",
            "zerolinecolor": "white"
           },
           "yaxis": {
            "backgroundcolor": "#E5ECF6",
            "gridcolor": "white",
            "gridwidth": 2,
            "linecolor": "white",
            "showbackground": true,
            "ticks": "",
            "zerolinecolor": "white"
           },
           "zaxis": {
            "backgroundcolor": "#E5ECF6",
            "gridcolor": "white",
            "gridwidth": 2,
            "linecolor": "white",
            "showbackground": true,
            "ticks": "",
            "zerolinecolor": "white"
           }
          },
          "shapedefaults": {
           "line": {
            "color": "#2a3f5f"
           }
          },
          "ternary": {
           "aaxis": {
            "gridcolor": "white",
            "linecolor": "white",
            "ticks": ""
           },
           "baxis": {
            "gridcolor": "white",
            "linecolor": "white",
            "ticks": ""
           },
           "bgcolor": "#E5ECF6",
           "caxis": {
            "gridcolor": "white",
            "linecolor": "white",
            "ticks": ""
           }
          },
          "title": {
           "x": 0.05
          },
          "xaxis": {
           "automargin": true,
           "gridcolor": "white",
           "linecolor": "white",
           "ticks": "",
           "title": {
            "standoff": 15
           },
           "zerolinecolor": "white",
           "zerolinewidth": 2
          },
          "yaxis": {
           "automargin": true,
           "gridcolor": "white",
           "linecolor": "white",
           "ticks": "",
           "title": {
            "standoff": 15
           },
           "zerolinecolor": "white",
           "zerolinewidth": 2
          }
         }
        },
        "title": {
         "text": "Top programming languages in 2018 and 2019"
        },
        "width": 700,
        "yaxis": {
         "categoryorder": "total ascending",
         "tickformat": ",.0%"
        }
       }
      },
      "text/html": [
       "<div>\n",
       "        \n",
       "        \n",
       "            <div id=\"d59211d8-6b81-4e96-b7ab-f18c3776aee1\" class=\"plotly-graph-div\" style=\"height:1000px; width:700px;\"></div>\n",
       "            <script type=\"text/javascript\">\n",
       "                require([\"plotly\"], function(Plotly) {\n",
       "                    window.PLOTLYENV=window.PLOTLYENV || {};\n",
       "                    \n",
       "                if (document.getElementById(\"d59211d8-6b81-4e96-b7ab-f18c3776aee1\")) {\n",
       "                    Plotly.newPlot(\n",
       "                        'd59211d8-6b81-4e96-b7ab-f18c3776aee1',\n",
       "                        [{\"marker\": {\"color\": \"rgba(246, 78, 139, 0.6)\", \"line\": {\"color\": \"rgba(246, 78, 139, 1.0)\", \"width\": 2}}, \"name\": \"Year 2018\", \"orientation\": \"h\", \"text\": [11.26, 11.042, 9.198, 6.251, 7.314, 5.55, 4.956, 4.092, 2.806, 3.715, 1.629, 1.139, 1.186, 1.299, 0.722, 0.991, 0.784, 1.135, 0.704, 0.382, 0.212, 0.23, 0.182], \"textposition\": \"auto\", \"type\": \"bar\", \"x\": [11.26, 11.042, 9.198, 6.251, 7.314, 5.55, 4.956, 4.092, 2.806, 3.715, 1.629, 1.139, 1.186, 1.299, 0.722, 0.991, 0.784, 1.135, 0.704, 0.382, 0.212, 0.23, 0.182], \"y\": [\"JavaScript\", \"HTML/CSS\", \"SQL\", \"Python\", \"Java\", \"C#\", \"PHP\", \"C++\", \"TypeScript\", \"C\", \"Ruby\", \"Go\", \"Assembly\", \"Swift\", \"Kotlin\", \"R\", \"VBA\", \"Objective-C\", \"Scala\", \"Rust\", \"Clojure\", \"F#\", \"Erlang\"]}, {\"marker\": {\"color\": \"rgba(50, 171, 96, 0.6)\", \"line\": {\"color\": \"rgba(58, 71, 80, 1.0)\", \"width\": 2}}, \"name\": \"Year 2019\", \"orientation\": \"h\", \"text\": [13.443, 12.591, 10.793, 8.273, 8.154, 6.151, 5.228, 4.659, 4.205, 4.09, 1.664, 1.635, 1.324, 1.304, 1.276, 1.146, 1.085, 0.951, 0.751, 0.634, 0.285, 0.221, 0.176], \"textposition\": \"auto\", \"type\": \"bar\", \"x\": [13.443, 12.591, 10.793, 8.273, 8.154, 6.151, 5.228, 4.659, 4.205, 4.09, 1.664, 1.635, 1.324, 1.304, 1.276, 1.146, 1.085, 0.951, 0.751, 0.634, 0.285, 0.221, 0.176], \"y\": [\"JavaScript\", \"HTML/CSS\", \"SQL\", \"Python\", \"Java\", \"C#\", \"PHP\", \"C++\", \"TypeScript\", \"C\", \"Ruby\", \"Go\", \"Assembly\", \"Swift\", \"Kotlin\", \"R\", \"VBA\", \"Objective-C\", \"Scala\", \"Rust\", \"Clojure\", \"F#\", \"Erlang\"]}],\n",
       "                        {\"barmode\": \"stack\", \"height\": 1000, \"template\": {\"data\": {\"bar\": [{\"error_x\": {\"color\": \"#2a3f5f\"}, \"error_y\": {\"color\": \"#2a3f5f\"}, \"marker\": {\"line\": {\"color\": \"#E5ECF6\", \"width\": 0.5}}, \"type\": \"bar\"}], \"barpolar\": [{\"marker\": {\"line\": {\"color\": \"#E5ECF6\", \"width\": 0.5}}, \"type\": \"barpolar\"}], \"carpet\": [{\"aaxis\": {\"endlinecolor\": \"#2a3f5f\", \"gridcolor\": \"white\", \"linecolor\": \"white\", \"minorgridcolor\": \"white\", \"startlinecolor\": \"#2a3f5f\"}, \"baxis\": {\"endlinecolor\": \"#2a3f5f\", \"gridcolor\": \"white\", \"linecolor\": \"white\", \"minorgridcolor\": \"white\", \"startlinecolor\": \"#2a3f5f\"}, \"type\": \"carpet\"}], \"choropleth\": [{\"colorbar\": {\"outlinewidth\": 0, \"ticks\": \"\"}, \"type\": \"choropleth\"}], \"contour\": [{\"colorbar\": {\"outlinewidth\": 0, \"ticks\": \"\"}, \"colorscale\": [[0.0, \"#0d0887\"], [0.1111111111111111, \"#46039f\"], [0.2222222222222222, \"#7201a8\"], [0.3333333333333333, \"#9c179e\"], [0.4444444444444444, \"#bd3786\"], [0.5555555555555556, \"#d8576b\"], [0.6666666666666666, \"#ed7953\"], [0.7777777777777778, \"#fb9f3a\"], [0.8888888888888888, \"#fdca26\"], [1.0, \"#f0f921\"]], \"type\": \"contour\"}], \"contourcarpet\": [{\"colorbar\": {\"outlinewidth\": 0, \"ticks\": \"\"}, \"type\": \"contourcarpet\"}], \"heatmap\": [{\"colorbar\": {\"outlinewidth\": 0, \"ticks\": \"\"}, \"colorscale\": [[0.0, \"#0d0887\"], [0.1111111111111111, \"#46039f\"], [0.2222222222222222, \"#7201a8\"], [0.3333333333333333, \"#9c179e\"], [0.4444444444444444, \"#bd3786\"], [0.5555555555555556, \"#d8576b\"], [0.6666666666666666, \"#ed7953\"], [0.7777777777777778, \"#fb9f3a\"], [0.8888888888888888, \"#fdca26\"], [1.0, \"#f0f921\"]], \"type\": \"heatmap\"}], \"heatmapgl\": [{\"colorbar\": {\"outlinewidth\": 0, \"ticks\": \"\"}, \"colorscale\": [[0.0, \"#0d0887\"], [0.1111111111111111, \"#46039f\"], [0.2222222222222222, \"#7201a8\"], [0.3333333333333333, \"#9c179e\"], [0.4444444444444444, \"#bd3786\"], [0.5555555555555556, \"#d8576b\"], [0.6666666666666666, \"#ed7953\"], [0.7777777777777778, \"#fb9f3a\"], [0.8888888888888888, \"#fdca26\"], [1.0, \"#f0f921\"]], \"type\": \"heatmapgl\"}], \"histogram\": [{\"marker\": {\"colorbar\": {\"outlinewidth\": 0, \"ticks\": \"\"}}, \"type\": \"histogram\"}], \"histogram2d\": [{\"colorbar\": {\"outlinewidth\": 0, \"ticks\": \"\"}, \"colorscale\": [[0.0, \"#0d0887\"], [0.1111111111111111, \"#46039f\"], [0.2222222222222222, \"#7201a8\"], [0.3333333333333333, \"#9c179e\"], [0.4444444444444444, \"#bd3786\"], [0.5555555555555556, \"#d8576b\"], [0.6666666666666666, \"#ed7953\"], [0.7777777777777778, \"#fb9f3a\"], [0.8888888888888888, \"#fdca26\"], [1.0, \"#f0f921\"]], \"type\": \"histogram2d\"}], \"histogram2dcontour\": [{\"colorbar\": {\"outlinewidth\": 0, \"ticks\": \"\"}, \"colorscale\": [[0.0, \"#0d0887\"], [0.1111111111111111, \"#46039f\"], [0.2222222222222222, \"#7201a8\"], [0.3333333333333333, \"#9c179e\"], [0.4444444444444444, \"#bd3786\"], [0.5555555555555556, \"#d8576b\"], [0.6666666666666666, \"#ed7953\"], [0.7777777777777778, \"#fb9f3a\"], [0.8888888888888888, \"#fdca26\"], [1.0, \"#f0f921\"]], \"type\": \"histogram2dcontour\"}], \"mesh3d\": [{\"colorbar\": {\"outlinewidth\": 0, \"ticks\": \"\"}, \"type\": \"mesh3d\"}], \"parcoords\": [{\"line\": {\"colorbar\": {\"outlinewidth\": 0, \"ticks\": \"\"}}, \"type\": \"parcoords\"}], \"pie\": [{\"automargin\": true, \"type\": \"pie\"}], \"scatter\": [{\"marker\": {\"colorbar\": {\"outlinewidth\": 0, \"ticks\": \"\"}}, \"type\": \"scatter\"}], \"scatter3d\": [{\"line\": {\"colorbar\": {\"outlinewidth\": 0, \"ticks\": \"\"}}, \"marker\": {\"colorbar\": {\"outlinewidth\": 0, \"ticks\": \"\"}}, \"type\": \"scatter3d\"}], \"scattercarpet\": [{\"marker\": {\"colorbar\": {\"outlinewidth\": 0, \"ticks\": \"\"}}, \"type\": \"scattercarpet\"}], \"scattergeo\": [{\"marker\": {\"colorbar\": {\"outlinewidth\": 0, \"ticks\": \"\"}}, \"type\": \"scattergeo\"}], \"scattergl\": [{\"marker\": {\"colorbar\": {\"outlinewidth\": 0, \"ticks\": \"\"}}, \"type\": \"scattergl\"}], \"scattermapbox\": [{\"marker\": {\"colorbar\": {\"outlinewidth\": 0, \"ticks\": \"\"}}, \"type\": \"scattermapbox\"}], \"scatterpolar\": [{\"marker\": {\"colorbar\": {\"outlinewidth\": 0, \"ticks\": \"\"}}, \"type\": \"scatterpolar\"}], \"scatterpolargl\": [{\"marker\": {\"colorbar\": {\"outlinewidth\": 0, \"ticks\": \"\"}}, \"type\": \"scatterpolargl\"}], \"scatterternary\": [{\"marker\": {\"colorbar\": {\"outlinewidth\": 0, \"ticks\": \"\"}}, \"type\": \"scatterternary\"}], \"surface\": [{\"colorbar\": {\"outlinewidth\": 0, \"ticks\": \"\"}, \"colorscale\": [[0.0, \"#0d0887\"], [0.1111111111111111, \"#46039f\"], [0.2222222222222222, \"#7201a8\"], [0.3333333333333333, \"#9c179e\"], [0.4444444444444444, \"#bd3786\"], [0.5555555555555556, \"#d8576b\"], [0.6666666666666666, \"#ed7953\"], [0.7777777777777778, \"#fb9f3a\"], [0.8888888888888888, \"#fdca26\"], [1.0, \"#f0f921\"]], \"type\": \"surface\"}], \"table\": [{\"cells\": {\"fill\": {\"color\": \"#EBF0F8\"}, \"line\": {\"color\": \"white\"}}, \"header\": {\"fill\": {\"color\": \"#C8D4E3\"}, \"line\": {\"color\": \"white\"}}, \"type\": \"table\"}]}, \"layout\": {\"annotationdefaults\": {\"arrowcolor\": \"#2a3f5f\", \"arrowhead\": 0, \"arrowwidth\": 1}, \"coloraxis\": {\"colorbar\": {\"outlinewidth\": 0, \"ticks\": \"\"}}, \"colorscale\": {\"diverging\": [[0, \"#8e0152\"], [0.1, \"#c51b7d\"], [0.2, \"#de77ae\"], [0.3, \"#f1b6da\"], [0.4, \"#fde0ef\"], [0.5, \"#f7f7f7\"], [0.6, \"#e6f5d0\"], [0.7, \"#b8e186\"], [0.8, \"#7fbc41\"], [0.9, \"#4d9221\"], [1, \"#276419\"]], \"sequential\": [[0.0, \"#0d0887\"], [0.1111111111111111, \"#46039f\"], [0.2222222222222222, \"#7201a8\"], [0.3333333333333333, \"#9c179e\"], [0.4444444444444444, \"#bd3786\"], [0.5555555555555556, \"#d8576b\"], [0.6666666666666666, \"#ed7953\"], [0.7777777777777778, \"#fb9f3a\"], [0.8888888888888888, \"#fdca26\"], [1.0, \"#f0f921\"]], \"sequentialminus\": [[0.0, \"#0d0887\"], [0.1111111111111111, \"#46039f\"], [0.2222222222222222, \"#7201a8\"], [0.3333333333333333, \"#9c179e\"], [0.4444444444444444, \"#bd3786\"], [0.5555555555555556, \"#d8576b\"], [0.6666666666666666, \"#ed7953\"], [0.7777777777777778, \"#fb9f3a\"], [0.8888888888888888, \"#fdca26\"], [1.0, \"#f0f921\"]]}, \"colorway\": [\"#636efa\", \"#EF553B\", \"#00cc96\", \"#ab63fa\", \"#FFA15A\", \"#19d3f3\", \"#FF6692\", \"#B6E880\", \"#FF97FF\", \"#FECB52\"], \"font\": {\"color\": \"#2a3f5f\"}, \"geo\": {\"bgcolor\": \"white\", \"lakecolor\": \"white\", \"landcolor\": \"#E5ECF6\", \"showlakes\": true, \"showland\": true, \"subunitcolor\": \"white\"}, \"hoverlabel\": {\"align\": \"left\"}, \"hovermode\": \"closest\", \"mapbox\": {\"style\": \"light\"}, \"paper_bgcolor\": \"white\", \"plot_bgcolor\": \"#E5ECF6\", \"polar\": {\"angularaxis\": {\"gridcolor\": \"white\", \"linecolor\": \"white\", \"ticks\": \"\"}, \"bgcolor\": \"#E5ECF6\", \"radialaxis\": {\"gridcolor\": \"white\", \"linecolor\": \"white\", \"ticks\": \"\"}}, \"scene\": {\"xaxis\": {\"backgroundcolor\": \"#E5ECF6\", \"gridcolor\": \"white\", \"gridwidth\": 2, \"linecolor\": \"white\", \"showbackground\": true, \"ticks\": \"\", \"zerolinecolor\": \"white\"}, \"yaxis\": {\"backgroundcolor\": \"#E5ECF6\", \"gridcolor\": \"white\", \"gridwidth\": 2, \"linecolor\": \"white\", \"showbackground\": true, \"ticks\": \"\", \"zerolinecolor\": \"white\"}, \"zaxis\": {\"backgroundcolor\": \"#E5ECF6\", \"gridcolor\": \"white\", \"gridwidth\": 2, \"linecolor\": \"white\", \"showbackground\": true, \"ticks\": \"\", \"zerolinecolor\": \"white\"}}, \"shapedefaults\": {\"line\": {\"color\": \"#2a3f5f\"}}, \"ternary\": {\"aaxis\": {\"gridcolor\": \"white\", \"linecolor\": \"white\", \"ticks\": \"\"}, \"baxis\": {\"gridcolor\": \"white\", \"linecolor\": \"white\", \"ticks\": \"\"}, \"bgcolor\": \"#E5ECF6\", \"caxis\": {\"gridcolor\": \"white\", \"linecolor\": \"white\", \"ticks\": \"\"}}, \"title\": {\"x\": 0.05}, \"xaxis\": {\"automargin\": true, \"gridcolor\": \"white\", \"linecolor\": \"white\", \"ticks\": \"\", \"title\": {\"standoff\": 15}, \"zerolinecolor\": \"white\", \"zerolinewidth\": 2}, \"yaxis\": {\"automargin\": true, \"gridcolor\": \"white\", \"linecolor\": \"white\", \"ticks\": \"\", \"title\": {\"standoff\": 15}, \"zerolinecolor\": \"white\", \"zerolinewidth\": 2}}}, \"title\": {\"text\": \"Top programming languages in 2018 and 2019\"}, \"width\": 700, \"yaxis\": {\"categoryorder\": \"total ascending\", \"tickformat\": \",.0%\"}},\n",
       "                        {\"responsive\": true}\n",
       "                    ).then(function(){\n",
       "                            \n",
       "var gd = document.getElementById('d59211d8-6b81-4e96-b7ab-f18c3776aee1');\n",
       "var x = new MutationObserver(function (mutations, observer) {{\n",
       "        var display = window.getComputedStyle(gd).display;\n",
       "        if (!display || display === 'none') {{\n",
       "            console.log([gd, 'removed!']);\n",
       "            Plotly.purge(gd);\n",
       "            observer.disconnect();\n",
       "        }}\n",
       "}});\n",
       "\n",
       "// Listen for the removal of the full notebook cells\n",
       "var notebookContainer = gd.closest('#notebook-container');\n",
       "if (notebookContainer) {{\n",
       "    x.observe(notebookContainer, {childList: true});\n",
       "}}\n",
       "\n",
       "// Listen for the clearing of the current output cell\n",
       "var outputEl = gd.closest('.output');\n",
       "if (outputEl) {{\n",
       "    x.observe(outputEl, {childList: true});\n",
       "}}\n",
       "\n",
       "                        })\n",
       "                };\n",
       "                });\n",
       "            </script>\n",
       "        </div>"
      ]
     },
     "metadata": {},
     "output_type": "display_data"
    }
   ],
   "source": [
    "fig = go.Figure()\n",
    "fig.add_trace(go.Bar(\n",
    "    y= lang_2018_2019.languages,\n",
    "    x=lang_2018_2019[\"Count%2018\"],\n",
    "    name='Year 2018',\n",
    "    orientation='h',text=lang_2018_2019[\"Count%2018\"], textposition = 'auto',\n",
    "    marker=dict(\n",
    "        color='rgba(246, 78, 139, 0.6)',\n",
    "        line=dict(color='rgba(246, 78, 139, 1.0)', width=2)\n",
    "    )\n",
    "))\n",
    "fig.add_trace(go.Bar(\n",
    "    y=lang_2018_2019.languages,\n",
    "    x=lang_2018_2019[\"Count%2019\"],\n",
    "    name='Year 2019',\n",
    "    orientation='h',text=(lang_2018_2019[\"Count%2019\"]) , textposition = 'auto',\n",
    "    marker=dict(\n",
    "        color='rgba(50, 171, 96, 0.6)',\n",
    "        line=dict(color='rgba(58, 71, 80, 1.0)', width=2)\n",
    "    )\n",
    "))\n",
    "\n",
    "# Update layout properties\n",
    "fig.update_layout(\n",
    "    title_text=\"Top programming languages in 2018 and 2019\",\n",
    "    width=700,\n",
    "    height = 1000\n",
    ")\n",
    "fig.update_layout(barmode='stack')\n",
    "fig.layout.yaxis.tickformat = ',.0%' \n",
    "fig.update_layout(yaxis_categoryorder = 'total ascending')\n",
    "\n",
    "\n",
    "fig.show()"
   ]
  },
  {
   "cell_type": "markdown",
   "metadata": {},
   "source": [
    "**Conclusion:** \n",
    "\n",
    "- As per above chart, JavaScript was the top most language used by the developers in 2018 and 2019 followed by HTML/CSS, SQL, Java and Python.\n"
   ]
  },
  {
   "cell_type": "markdown",
   "metadata": {},
   "source": [
    "## 2. A trend of programming languages from 2016 to 2019"
   ]
  },
  {
   "cell_type": "code",
   "execution_count": 688,
   "metadata": {},
   "outputs": [],
   "source": [
    "''' A function to clean a programming languages column in surveys and to get a data frame with top languages count \n",
    "and their percentages '''\n",
    "def languages(dataset,column,new_name_col1,year):\n",
    "    \n",
    "    temp = pd.DataFrame(dataset[column].dropna()) #Drop missing values \n",
    "    \n",
    "    # Spliting the string separated by ; and count them:\n",
    "    temp = pd.DataFrame(temp[column].apply(lambda x: pd.value_counts(x.split(\";\")))\n",
    "                             .sum(axis = 0)).reset_index()\n",
    "    new_name_col2 = (\"Count\"+str(year))\n",
    "    \n",
    "    '''\n",
    "    dataset = dataset you want to use \n",
    "    col = On the column you want to use this function\n",
    "    name_col1 = give new name to column one\n",
    "    name_col2 = give new name to column two (Preferably count)\n",
    "    '''\n",
    "    #Renaming columns\n",
    "    clean_data = temp.rename(columns={\"index\": new_name_col1,0:new_name_col2})\n",
    "    clean_data[\"New_column\"] = clean_data[new_name_col1].str.strip()\n",
    "    clean_data = clean_data.drop(columns=[new_name_col1])\n",
    "    clean_data = clean_data.sort_values(by=new_name_col2, ascending=False)\n",
    "    \n",
    "    \n",
    "    #Get values for these languages\n",
    "    value_list = ['SQL', 'JavaScript','Java', 'Python','C#','C++','HTML',\"HTML/CSS\"]\n",
    "    \n",
    "    \n",
    "    #Grab DataFrame rows where column has certain values\n",
    "    selected_rows = clean_data[clean_data['New_column'].isin(value_list)]\n",
    "    selected_rows = pd.DataFrame(selected_rows.groupby(['New_column']).sum().sort_values(by=new_name_col2,\n",
    "                                                        ascending = False)).reset_index()\n",
    "   \n",
    "   # Add percentages: \n",
    "    selected_rows['year'+str(year)] = year\n",
    "    selected_rows[\"Count%\"+str(year)] = selected_rows[new_name_col2]/sum(selected_rows[new_name_col2])\n",
    " \n",
    "    return selected_rows"
   ]
  },
  {
   "cell_type": "code",
   "execution_count": 527,
   "metadata": {},
   "outputs": [],
   "source": [
    "#Use languages function to get count of languages for 4 years\n",
    "languages_2016 = languages(survey_2016_langs,\"tech_do\",\"Language\",2016)\n",
    "languages_2017 = languages(survey_2017_langs,\"HaveWorkedLanguage\",\"Language\",2017)\n",
    "languages_2018 = languages(survey_2018_langs,\"LanguageWorkedWith\",\"Language\",2018)\n",
    "languages_2019 = languages(survey_2019_langs,\"LanguageWorkedWith\",\"Language\",2019)"
   ]
  },
  {
   "cell_type": "code",
   "execution_count": 530,
   "metadata": {},
   "outputs": [
    {
     "data": {
      "text/html": [
       "<div>\n",
       "<style scoped>\n",
       "    .dataframe tbody tr th:only-of-type {\n",
       "        vertical-align: middle;\n",
       "    }\n",
       "\n",
       "    .dataframe tbody tr th {\n",
       "        vertical-align: top;\n",
       "    }\n",
       "\n",
       "    .dataframe thead th {\n",
       "        text-align: right;\n",
       "    }\n",
       "</style>\n",
       "<table border=\"1\" class=\"dataframe\">\n",
       "  <thead>\n",
       "    <tr style=\"text-align: right;\">\n",
       "      <th>New_column</th>\n",
       "      <th>JavaScript</th>\n",
       "      <th>SQL</th>\n",
       "      <th>Java</th>\n",
       "      <th>C#</th>\n",
       "      <th>Python</th>\n",
       "      <th>C++</th>\n",
       "    </tr>\n",
       "  </thead>\n",
       "  <tbody>\n",
       "    <tr>\n",
       "      <td>Count%2016</td>\n",
       "      <td>0.262165</td>\n",
       "      <td>0.210383</td>\n",
       "      <td>0.171764</td>\n",
       "      <td>0.146309</td>\n",
       "      <td>0.117579</td>\n",
       "      <td>0.091799</td>\n",
       "    </tr>\n",
       "    <tr>\n",
       "      <td>Count%2017</td>\n",
       "      <td>0.258510</td>\n",
       "      <td>0.211938</td>\n",
       "      <td>0.164135</td>\n",
       "      <td>0.140991</td>\n",
       "      <td>0.132267</td>\n",
       "      <td>0.092159</td>\n",
       "    </tr>\n",
       "    <tr>\n",
       "      <td>Count%2018</td>\n",
       "      <td>0.205826</td>\n",
       "      <td>0.168128</td>\n",
       "      <td>0.133693</td>\n",
       "      <td>0.101449</td>\n",
       "      <td>0.114265</td>\n",
       "      <td>0.074794</td>\n",
       "    </tr>\n",
       "    <tr>\n",
       "      <td>Count%2019</td>\n",
       "      <td>0.209840</td>\n",
       "      <td>0.168470</td>\n",
       "      <td>0.127270</td>\n",
       "      <td>0.096017</td>\n",
       "      <td>0.129134</td>\n",
       "      <td>0.072726</td>\n",
       "    </tr>\n",
       "  </tbody>\n",
       "</table>\n",
       "</div>"
      ],
      "text/plain": [
       "New_column  JavaScript       SQL      Java        C#    Python       C++\n",
       "Count%2016    0.262165  0.210383  0.171764  0.146309  0.117579  0.091799\n",
       "Count%2017    0.258510  0.211938  0.164135  0.140991  0.132267  0.092159\n",
       "Count%2018    0.205826  0.168128  0.133693  0.101449  0.114265  0.074794\n",
       "Count%2019    0.209840  0.168470  0.127270  0.096017  0.129134  0.072726"
      ]
     },
     "execution_count": 530,
     "metadata": {},
     "output_type": "execute_result"
    }
   ],
   "source": [
    "all_languages = pd.merge(languages_2016[[\"New_column\",\"Count%2016\"]],languages_2017[[\"New_column\",\"Count%2017\"]],\n",
    "                on=\"New_column\", how='left').merge(languages_2018[[\"New_column\",\"Count%2018\"]],\n",
    "                on=\"New_column\", how='left').merge(languages_2019[[\"New_column\",\"Count%2019\"]],\n",
    "                on=\"New_column\", how='left')\n",
    "all_language= all_languages.set_index(\"New_column\",inplace=True)\n",
    "all_language = all_languages.T\n",
    "all_language"
   ]
  },
  {
   "cell_type": "code",
   "execution_count": 531,
   "metadata": {},
   "outputs": [
    {
     "data": {
      "application/vnd.plotly.v1+json": {
       "config": {
        "plotlyServerURL": "https://plot.ly"
       },
       "data": [
        {
         "name": "python",
         "type": "scatter",
         "x": [
          2016,
          2017,
          2018,
          2019
         ],
         "y": [
          0.11757948246646946,
          0.13226652201428443,
          0.11426474462719712,
          0.12913433258920662
         ]
        },
        {
         "name": "sql",
         "type": "scatter",
         "x": [
          2016,
          2017,
          2018,
          2019
         ],
         "y": [
          0.2103832198895239,
          0.21193834192206853,
          0.16812826978809892,
          0.1684702880833422
         ]
        },
        {
         "name": "Javascript",
         "type": "scatter",
         "x": [
          2016,
          2017,
          2018,
          2019
         ],
         "y": [
          0.2621652928956413,
          0.2585096284241931,
          0.20582633896646468,
          0.20984018992948514
         ]
        },
        {
         "name": "Java",
         "type": "scatter",
         "x": [
          2016,
          2017,
          2018,
          2019
         ],
         "y": [
          0.17176445810237706,
          0.16413524997739806,
          0.1336934020851368,
          0.12727047234329045
         ]
        },
        {
         "name": "C_hash",
         "type": "scatter",
         "x": [
          2016,
          2017,
          2018,
          2019
         ],
         "y": [
          0.14630900753420067,
          0.14099086881837086,
          0.10144905717189205,
          0.09601715034903087
         ]
        },
        {
         "name": "C_plus_plus",
         "type": "scatter",
         "x": [
          2016,
          2017,
          2018,
          2019
         ],
         "y": [
          0.09179853911178762,
          0.09215938884368502,
          0.07479393277880236,
          0.07272598419616598
         ]
        }
       ],
       "layout": {
        "autosize": false,
        "font": {
         "family": "Franklin Gothic",
         "size": 14
        },
        "height": 500,
        "template": {
         "data": {
          "bar": [
           {
            "error_x": {
             "color": "#2a3f5f"
            },
            "error_y": {
             "color": "#2a3f5f"
            },
            "marker": {
             "line": {
              "color": "#E5ECF6",
              "width": 0.5
             }
            },
            "type": "bar"
           }
          ],
          "barpolar": [
           {
            "marker": {
             "line": {
              "color": "#E5ECF6",
              "width": 0.5
             }
            },
            "type": "barpolar"
           }
          ],
          "carpet": [
           {
            "aaxis": {
             "endlinecolor": "#2a3f5f",
             "gridcolor": "white",
             "linecolor": "white",
             "minorgridcolor": "white",
             "startlinecolor": "#2a3f5f"
            },
            "baxis": {
             "endlinecolor": "#2a3f5f",
             "gridcolor": "white",
             "linecolor": "white",
             "minorgridcolor": "white",
             "startlinecolor": "#2a3f5f"
            },
            "type": "carpet"
           }
          ],
          "choropleth": [
           {
            "colorbar": {
             "outlinewidth": 0,
             "ticks": ""
            },
            "type": "choropleth"
           }
          ],
          "contour": [
           {
            "colorbar": {
             "outlinewidth": 0,
             "ticks": ""
            },
            "colorscale": [
             [
              0,
              "#0d0887"
             ],
             [
              0.1111111111111111,
              "#46039f"
             ],
             [
              0.2222222222222222,
              "#7201a8"
             ],
             [
              0.3333333333333333,
              "#9c179e"
             ],
             [
              0.4444444444444444,
              "#bd3786"
             ],
             [
              0.5555555555555556,
              "#d8576b"
             ],
             [
              0.6666666666666666,
              "#ed7953"
             ],
             [
              0.7777777777777778,
              "#fb9f3a"
             ],
             [
              0.8888888888888888,
              "#fdca26"
             ],
             [
              1,
              "#f0f921"
             ]
            ],
            "type": "contour"
           }
          ],
          "contourcarpet": [
           {
            "colorbar": {
             "outlinewidth": 0,
             "ticks": ""
            },
            "type": "contourcarpet"
           }
          ],
          "heatmap": [
           {
            "colorbar": {
             "outlinewidth": 0,
             "ticks": ""
            },
            "colorscale": [
             [
              0,
              "#0d0887"
             ],
             [
              0.1111111111111111,
              "#46039f"
             ],
             [
              0.2222222222222222,
              "#7201a8"
             ],
             [
              0.3333333333333333,
              "#9c179e"
             ],
             [
              0.4444444444444444,
              "#bd3786"
             ],
             [
              0.5555555555555556,
              "#d8576b"
             ],
             [
              0.6666666666666666,
              "#ed7953"
             ],
             [
              0.7777777777777778,
              "#fb9f3a"
             ],
             [
              0.8888888888888888,
              "#fdca26"
             ],
             [
              1,
              "#f0f921"
             ]
            ],
            "type": "heatmap"
           }
          ],
          "heatmapgl": [
           {
            "colorbar": {
             "outlinewidth": 0,
             "ticks": ""
            },
            "colorscale": [
             [
              0,
              "#0d0887"
             ],
             [
              0.1111111111111111,
              "#46039f"
             ],
             [
              0.2222222222222222,
              "#7201a8"
             ],
             [
              0.3333333333333333,
              "#9c179e"
             ],
             [
              0.4444444444444444,
              "#bd3786"
             ],
             [
              0.5555555555555556,
              "#d8576b"
             ],
             [
              0.6666666666666666,
              "#ed7953"
             ],
             [
              0.7777777777777778,
              "#fb9f3a"
             ],
             [
              0.8888888888888888,
              "#fdca26"
             ],
             [
              1,
              "#f0f921"
             ]
            ],
            "type": "heatmapgl"
           }
          ],
          "histogram": [
           {
            "marker": {
             "colorbar": {
              "outlinewidth": 0,
              "ticks": ""
             }
            },
            "type": "histogram"
           }
          ],
          "histogram2d": [
           {
            "colorbar": {
             "outlinewidth": 0,
             "ticks": ""
            },
            "colorscale": [
             [
              0,
              "#0d0887"
             ],
             [
              0.1111111111111111,
              "#46039f"
             ],
             [
              0.2222222222222222,
              "#7201a8"
             ],
             [
              0.3333333333333333,
              "#9c179e"
             ],
             [
              0.4444444444444444,
              "#bd3786"
             ],
             [
              0.5555555555555556,
              "#d8576b"
             ],
             [
              0.6666666666666666,
              "#ed7953"
             ],
             [
              0.7777777777777778,
              "#fb9f3a"
             ],
             [
              0.8888888888888888,
              "#fdca26"
             ],
             [
              1,
              "#f0f921"
             ]
            ],
            "type": "histogram2d"
           }
          ],
          "histogram2dcontour": [
           {
            "colorbar": {
             "outlinewidth": 0,
             "ticks": ""
            },
            "colorscale": [
             [
              0,
              "#0d0887"
             ],
             [
              0.1111111111111111,
              "#46039f"
             ],
             [
              0.2222222222222222,
              "#7201a8"
             ],
             [
              0.3333333333333333,
              "#9c179e"
             ],
             [
              0.4444444444444444,
              "#bd3786"
             ],
             [
              0.5555555555555556,
              "#d8576b"
             ],
             [
              0.6666666666666666,
              "#ed7953"
             ],
             [
              0.7777777777777778,
              "#fb9f3a"
             ],
             [
              0.8888888888888888,
              "#fdca26"
             ],
             [
              1,
              "#f0f921"
             ]
            ],
            "type": "histogram2dcontour"
           }
          ],
          "mesh3d": [
           {
            "colorbar": {
             "outlinewidth": 0,
             "ticks": ""
            },
            "type": "mesh3d"
           }
          ],
          "parcoords": [
           {
            "line": {
             "colorbar": {
              "outlinewidth": 0,
              "ticks": ""
             }
            },
            "type": "parcoords"
           }
          ],
          "pie": [
           {
            "automargin": true,
            "type": "pie"
           }
          ],
          "scatter": [
           {
            "marker": {
             "colorbar": {
              "outlinewidth": 0,
              "ticks": ""
             }
            },
            "type": "scatter"
           }
          ],
          "scatter3d": [
           {
            "line": {
             "colorbar": {
              "outlinewidth": 0,
              "ticks": ""
             }
            },
            "marker": {
             "colorbar": {
              "outlinewidth": 0,
              "ticks": ""
             }
            },
            "type": "scatter3d"
           }
          ],
          "scattercarpet": [
           {
            "marker": {
             "colorbar": {
              "outlinewidth": 0,
              "ticks": ""
             }
            },
            "type": "scattercarpet"
           }
          ],
          "scattergeo": [
           {
            "marker": {
             "colorbar": {
              "outlinewidth": 0,
              "ticks": ""
             }
            },
            "type": "scattergeo"
           }
          ],
          "scattergl": [
           {
            "marker": {
             "colorbar": {
              "outlinewidth": 0,
              "ticks": ""
             }
            },
            "type": "scattergl"
           }
          ],
          "scattermapbox": [
           {
            "marker": {
             "colorbar": {
              "outlinewidth": 0,
              "ticks": ""
             }
            },
            "type": "scattermapbox"
           }
          ],
          "scatterpolar": [
           {
            "marker": {
             "colorbar": {
              "outlinewidth": 0,
              "ticks": ""
             }
            },
            "type": "scatterpolar"
           }
          ],
          "scatterpolargl": [
           {
            "marker": {
             "colorbar": {
              "outlinewidth": 0,
              "ticks": ""
             }
            },
            "type": "scatterpolargl"
           }
          ],
          "scatterternary": [
           {
            "marker": {
             "colorbar": {
              "outlinewidth": 0,
              "ticks": ""
             }
            },
            "type": "scatterternary"
           }
          ],
          "surface": [
           {
            "colorbar": {
             "outlinewidth": 0,
             "ticks": ""
            },
            "colorscale": [
             [
              0,
              "#0d0887"
             ],
             [
              0.1111111111111111,
              "#46039f"
             ],
             [
              0.2222222222222222,
              "#7201a8"
             ],
             [
              0.3333333333333333,
              "#9c179e"
             ],
             [
              0.4444444444444444,
              "#bd3786"
             ],
             [
              0.5555555555555556,
              "#d8576b"
             ],
             [
              0.6666666666666666,
              "#ed7953"
             ],
             [
              0.7777777777777778,
              "#fb9f3a"
             ],
             [
              0.8888888888888888,
              "#fdca26"
             ],
             [
              1,
              "#f0f921"
             ]
            ],
            "type": "surface"
           }
          ],
          "table": [
           {
            "cells": {
             "fill": {
              "color": "#EBF0F8"
             },
             "line": {
              "color": "white"
             }
            },
            "header": {
             "fill": {
              "color": "#C8D4E3"
             },
             "line": {
              "color": "white"
             }
            },
            "type": "table"
           }
          ]
         },
         "layout": {
          "annotationdefaults": {
           "arrowcolor": "#2a3f5f",
           "arrowhead": 0,
           "arrowwidth": 1
          },
          "coloraxis": {
           "colorbar": {
            "outlinewidth": 0,
            "ticks": ""
           }
          },
          "colorscale": {
           "diverging": [
            [
             0,
             "#8e0152"
            ],
            [
             0.1,
             "#c51b7d"
            ],
            [
             0.2,
             "#de77ae"
            ],
            [
             0.3,
             "#f1b6da"
            ],
            [
             0.4,
             "#fde0ef"
            ],
            [
             0.5,
             "#f7f7f7"
            ],
            [
             0.6,
             "#e6f5d0"
            ],
            [
             0.7,
             "#b8e186"
            ],
            [
             0.8,
             "#7fbc41"
            ],
            [
             0.9,
             "#4d9221"
            ],
            [
             1,
             "#276419"
            ]
           ],
           "sequential": [
            [
             0,
             "#0d0887"
            ],
            [
             0.1111111111111111,
             "#46039f"
            ],
            [
             0.2222222222222222,
             "#7201a8"
            ],
            [
             0.3333333333333333,
             "#9c179e"
            ],
            [
             0.4444444444444444,
             "#bd3786"
            ],
            [
             0.5555555555555556,
             "#d8576b"
            ],
            [
             0.6666666666666666,
             "#ed7953"
            ],
            [
             0.7777777777777778,
             "#fb9f3a"
            ],
            [
             0.8888888888888888,
             "#fdca26"
            ],
            [
             1,
             "#f0f921"
            ]
           ],
           "sequentialminus": [
            [
             0,
             "#0d0887"
            ],
            [
             0.1111111111111111,
             "#46039f"
            ],
            [
             0.2222222222222222,
             "#7201a8"
            ],
            [
             0.3333333333333333,
             "#9c179e"
            ],
            [
             0.4444444444444444,
             "#bd3786"
            ],
            [
             0.5555555555555556,
             "#d8576b"
            ],
            [
             0.6666666666666666,
             "#ed7953"
            ],
            [
             0.7777777777777778,
             "#fb9f3a"
            ],
            [
             0.8888888888888888,
             "#fdca26"
            ],
            [
             1,
             "#f0f921"
            ]
           ]
          },
          "colorway": [
           "#636efa",
           "#EF553B",
           "#00cc96",
           "#ab63fa",
           "#FFA15A",
           "#19d3f3",
           "#FF6692",
           "#B6E880",
           "#FF97FF",
           "#FECB52"
          ],
          "font": {
           "color": "#2a3f5f"
          },
          "geo": {
           "bgcolor": "white",
           "lakecolor": "white",
           "landcolor": "#E5ECF6",
           "showlakes": true,
           "showland": true,
           "subunitcolor": "white"
          },
          "hoverlabel": {
           "align": "left"
          },
          "hovermode": "closest",
          "mapbox": {
           "style": "light"
          },
          "paper_bgcolor": "white",
          "plot_bgcolor": "#E5ECF6",
          "polar": {
           "angularaxis": {
            "gridcolor": "white",
            "linecolor": "white",
            "ticks": ""
           },
           "bgcolor": "#E5ECF6",
           "radialaxis": {
            "gridcolor": "white",
            "linecolor": "white",
            "ticks": ""
           }
          },
          "scene": {
           "xaxis": {
            "backgroundcolor": "#E5ECF6",
            "gridcolor": "white",
            "gridwidth": 2,
            "linecolor": "white",
            "showbackground": true,
            "ticks": "",
            "zerolinecolor": "white"
           },
           "yaxis": {
            "backgroundcolor": "#E5ECF6",
            "gridcolor": "white",
            "gridwidth": 2,
            "linecolor": "white",
            "showbackground": true,
            "ticks": "",
            "zerolinecolor": "white"
           },
           "zaxis": {
            "backgroundcolor": "#E5ECF6",
            "gridcolor": "white",
            "gridwidth": 2,
            "linecolor": "white",
            "showbackground": true,
            "ticks": "",
            "zerolinecolor": "white"
           }
          },
          "shapedefaults": {
           "line": {
            "color": "#2a3f5f"
           }
          },
          "ternary": {
           "aaxis": {
            "gridcolor": "white",
            "linecolor": "white",
            "ticks": ""
           },
           "baxis": {
            "gridcolor": "white",
            "linecolor": "white",
            "ticks": ""
           },
           "bgcolor": "#E5ECF6",
           "caxis": {
            "gridcolor": "white",
            "linecolor": "white",
            "ticks": ""
           }
          },
          "title": {
           "x": 0.05
          },
          "xaxis": {
           "automargin": true,
           "gridcolor": "white",
           "linecolor": "white",
           "ticks": "",
           "title": {
            "standoff": 15
           },
           "zerolinecolor": "white",
           "zerolinewidth": 2
          },
          "yaxis": {
           "automargin": true,
           "gridcolor": "white",
           "linecolor": "white",
           "ticks": "",
           "title": {
            "standoff": 15
           },
           "zerolinecolor": "white",
           "zerolinewidth": 2
          }
         }
        },
        "title": {
         "text": "Trend of Most Popular Technologies in 2017, 2018 and 2019"
        },
        "width": 900,
        "xaxis": {
         "dtick": 1,
         "tick0": 1,
         "tickmode": "linear",
         "title": {
          "text": "Years (2016-2019)"
         }
        },
        "yaxis": {
         "title": {
          "text": "Percentages"
         }
        }
       }
      },
      "text/html": [
       "<div>\n",
       "        \n",
       "        \n",
       "            <div id=\"a0df713b-66fb-4f6b-9b83-a32b47797509\" class=\"plotly-graph-div\" style=\"height:500px; width:900px;\"></div>\n",
       "            <script type=\"text/javascript\">\n",
       "                require([\"plotly\"], function(Plotly) {\n",
       "                    window.PLOTLYENV=window.PLOTLYENV || {};\n",
       "                    \n",
       "                if (document.getElementById(\"a0df713b-66fb-4f6b-9b83-a32b47797509\")) {\n",
       "                    Plotly.newPlot(\n",
       "                        'a0df713b-66fb-4f6b-9b83-a32b47797509',\n",
       "                        [{\"name\": \"python\", \"type\": \"scatter\", \"x\": [2016, 2017, 2018, 2019], \"y\": [0.11757948246646946, 0.13226652201428443, 0.11426474462719712, 0.12913433258920662]}, {\"name\": \"sql\", \"type\": \"scatter\", \"x\": [2016, 2017, 2018, 2019], \"y\": [0.2103832198895239, 0.21193834192206853, 0.16812826978809892, 0.1684702880833422]}, {\"name\": \"Javascript\", \"type\": \"scatter\", \"x\": [2016, 2017, 2018, 2019], \"y\": [0.2621652928956413, 0.2585096284241931, 0.20582633896646468, 0.20984018992948514]}, {\"name\": \"Java\", \"type\": \"scatter\", \"x\": [2016, 2017, 2018, 2019], \"y\": [0.17176445810237706, 0.16413524997739806, 0.1336934020851368, 0.12727047234329045]}, {\"name\": \"C_hash\", \"type\": \"scatter\", \"x\": [2016, 2017, 2018, 2019], \"y\": [0.14630900753420067, 0.14099086881837086, 0.10144905717189205, 0.09601715034903087]}, {\"name\": \"C_plus_plus\", \"type\": \"scatter\", \"x\": [2016, 2017, 2018, 2019], \"y\": [0.09179853911178762, 0.09215938884368502, 0.07479393277880236, 0.07272598419616598]}],\n",
       "                        {\"autosize\": false, \"font\": {\"family\": \"Franklin Gothic\", \"size\": 14}, \"height\": 500, \"template\": {\"data\": {\"bar\": [{\"error_x\": {\"color\": \"#2a3f5f\"}, \"error_y\": {\"color\": \"#2a3f5f\"}, \"marker\": {\"line\": {\"color\": \"#E5ECF6\", \"width\": 0.5}}, \"type\": \"bar\"}], \"barpolar\": [{\"marker\": {\"line\": {\"color\": \"#E5ECF6\", \"width\": 0.5}}, \"type\": \"barpolar\"}], \"carpet\": [{\"aaxis\": {\"endlinecolor\": \"#2a3f5f\", \"gridcolor\": \"white\", \"linecolor\": \"white\", \"minorgridcolor\": \"white\", \"startlinecolor\": \"#2a3f5f\"}, \"baxis\": {\"endlinecolor\": \"#2a3f5f\", \"gridcolor\": \"white\", \"linecolor\": \"white\", \"minorgridcolor\": \"white\", \"startlinecolor\": \"#2a3f5f\"}, \"type\": \"carpet\"}], \"choropleth\": [{\"colorbar\": {\"outlinewidth\": 0, \"ticks\": \"\"}, \"type\": \"choropleth\"}], \"contour\": [{\"colorbar\": {\"outlinewidth\": 0, \"ticks\": \"\"}, \"colorscale\": [[0.0, \"#0d0887\"], [0.1111111111111111, \"#46039f\"], [0.2222222222222222, \"#7201a8\"], [0.3333333333333333, \"#9c179e\"], [0.4444444444444444, \"#bd3786\"], [0.5555555555555556, \"#d8576b\"], [0.6666666666666666, \"#ed7953\"], [0.7777777777777778, \"#fb9f3a\"], [0.8888888888888888, \"#fdca26\"], [1.0, \"#f0f921\"]], \"type\": \"contour\"}], \"contourcarpet\": [{\"colorbar\": {\"outlinewidth\": 0, \"ticks\": \"\"}, \"type\": \"contourcarpet\"}], \"heatmap\": [{\"colorbar\": {\"outlinewidth\": 0, \"ticks\": \"\"}, \"colorscale\": [[0.0, \"#0d0887\"], [0.1111111111111111, \"#46039f\"], [0.2222222222222222, \"#7201a8\"], [0.3333333333333333, \"#9c179e\"], [0.4444444444444444, \"#bd3786\"], [0.5555555555555556, \"#d8576b\"], [0.6666666666666666, \"#ed7953\"], [0.7777777777777778, \"#fb9f3a\"], [0.8888888888888888, \"#fdca26\"], [1.0, \"#f0f921\"]], \"type\": \"heatmap\"}], \"heatmapgl\": [{\"colorbar\": {\"outlinewidth\": 0, \"ticks\": \"\"}, \"colorscale\": [[0.0, \"#0d0887\"], [0.1111111111111111, \"#46039f\"], [0.2222222222222222, \"#7201a8\"], [0.3333333333333333, \"#9c179e\"], [0.4444444444444444, \"#bd3786\"], [0.5555555555555556, \"#d8576b\"], [0.6666666666666666, \"#ed7953\"], [0.7777777777777778, \"#fb9f3a\"], [0.8888888888888888, \"#fdca26\"], [1.0, \"#f0f921\"]], \"type\": \"heatmapgl\"}], \"histogram\": [{\"marker\": {\"colorbar\": {\"outlinewidth\": 0, \"ticks\": \"\"}}, \"type\": \"histogram\"}], \"histogram2d\": [{\"colorbar\": {\"outlinewidth\": 0, \"ticks\": \"\"}, \"colorscale\": [[0.0, \"#0d0887\"], [0.1111111111111111, \"#46039f\"], [0.2222222222222222, \"#7201a8\"], [0.3333333333333333, \"#9c179e\"], [0.4444444444444444, \"#bd3786\"], [0.5555555555555556, \"#d8576b\"], [0.6666666666666666, \"#ed7953\"], [0.7777777777777778, \"#fb9f3a\"], [0.8888888888888888, \"#fdca26\"], [1.0, \"#f0f921\"]], \"type\": \"histogram2d\"}], \"histogram2dcontour\": [{\"colorbar\": {\"outlinewidth\": 0, \"ticks\": \"\"}, \"colorscale\": [[0.0, \"#0d0887\"], [0.1111111111111111, \"#46039f\"], [0.2222222222222222, \"#7201a8\"], [0.3333333333333333, \"#9c179e\"], [0.4444444444444444, \"#bd3786\"], [0.5555555555555556, \"#d8576b\"], [0.6666666666666666, \"#ed7953\"], [0.7777777777777778, \"#fb9f3a\"], [0.8888888888888888, \"#fdca26\"], [1.0, \"#f0f921\"]], \"type\": \"histogram2dcontour\"}], \"mesh3d\": [{\"colorbar\": {\"outlinewidth\": 0, \"ticks\": \"\"}, \"type\": \"mesh3d\"}], \"parcoords\": [{\"line\": {\"colorbar\": {\"outlinewidth\": 0, \"ticks\": \"\"}}, \"type\": \"parcoords\"}], \"pie\": [{\"automargin\": true, \"type\": \"pie\"}], \"scatter\": [{\"marker\": {\"colorbar\": {\"outlinewidth\": 0, \"ticks\": \"\"}}, \"type\": \"scatter\"}], \"scatter3d\": [{\"line\": {\"colorbar\": {\"outlinewidth\": 0, \"ticks\": \"\"}}, \"marker\": {\"colorbar\": {\"outlinewidth\": 0, \"ticks\": \"\"}}, \"type\": \"scatter3d\"}], \"scattercarpet\": [{\"marker\": {\"colorbar\": {\"outlinewidth\": 0, \"ticks\": \"\"}}, \"type\": \"scattercarpet\"}], \"scattergeo\": [{\"marker\": {\"colorbar\": {\"outlinewidth\": 0, \"ticks\": \"\"}}, \"type\": \"scattergeo\"}], \"scattergl\": [{\"marker\": {\"colorbar\": {\"outlinewidth\": 0, \"ticks\": \"\"}}, \"type\": \"scattergl\"}], \"scattermapbox\": [{\"marker\": {\"colorbar\": {\"outlinewidth\": 0, \"ticks\": \"\"}}, \"type\": \"scattermapbox\"}], \"scatterpolar\": [{\"marker\": {\"colorbar\": {\"outlinewidth\": 0, \"ticks\": \"\"}}, \"type\": \"scatterpolar\"}], \"scatterpolargl\": [{\"marker\": {\"colorbar\": {\"outlinewidth\": 0, \"ticks\": \"\"}}, \"type\": \"scatterpolargl\"}], \"scatterternary\": [{\"marker\": {\"colorbar\": {\"outlinewidth\": 0, \"ticks\": \"\"}}, \"type\": \"scatterternary\"}], \"surface\": [{\"colorbar\": {\"outlinewidth\": 0, \"ticks\": \"\"}, \"colorscale\": [[0.0, \"#0d0887\"], [0.1111111111111111, \"#46039f\"], [0.2222222222222222, \"#7201a8\"], [0.3333333333333333, \"#9c179e\"], [0.4444444444444444, \"#bd3786\"], [0.5555555555555556, \"#d8576b\"], [0.6666666666666666, \"#ed7953\"], [0.7777777777777778, \"#fb9f3a\"], [0.8888888888888888, \"#fdca26\"], [1.0, \"#f0f921\"]], \"type\": \"surface\"}], \"table\": [{\"cells\": {\"fill\": {\"color\": \"#EBF0F8\"}, \"line\": {\"color\": \"white\"}}, \"header\": {\"fill\": {\"color\": \"#C8D4E3\"}, \"line\": {\"color\": \"white\"}}, \"type\": \"table\"}]}, \"layout\": {\"annotationdefaults\": {\"arrowcolor\": \"#2a3f5f\", \"arrowhead\": 0, \"arrowwidth\": 1}, \"coloraxis\": {\"colorbar\": {\"outlinewidth\": 0, \"ticks\": \"\"}}, \"colorscale\": {\"diverging\": [[0, \"#8e0152\"], [0.1, \"#c51b7d\"], [0.2, \"#de77ae\"], [0.3, \"#f1b6da\"], [0.4, \"#fde0ef\"], [0.5, \"#f7f7f7\"], [0.6, \"#e6f5d0\"], [0.7, \"#b8e186\"], [0.8, \"#7fbc41\"], [0.9, \"#4d9221\"], [1, \"#276419\"]], \"sequential\": [[0.0, \"#0d0887\"], [0.1111111111111111, \"#46039f\"], [0.2222222222222222, \"#7201a8\"], [0.3333333333333333, \"#9c179e\"], [0.4444444444444444, \"#bd3786\"], [0.5555555555555556, \"#d8576b\"], [0.6666666666666666, \"#ed7953\"], [0.7777777777777778, \"#fb9f3a\"], [0.8888888888888888, \"#fdca26\"], [1.0, \"#f0f921\"]], \"sequentialminus\": [[0.0, \"#0d0887\"], [0.1111111111111111, \"#46039f\"], [0.2222222222222222, \"#7201a8\"], [0.3333333333333333, \"#9c179e\"], [0.4444444444444444, \"#bd3786\"], [0.5555555555555556, \"#d8576b\"], [0.6666666666666666, \"#ed7953\"], [0.7777777777777778, \"#fb9f3a\"], [0.8888888888888888, \"#fdca26\"], [1.0, \"#f0f921\"]]}, \"colorway\": [\"#636efa\", \"#EF553B\", \"#00cc96\", \"#ab63fa\", \"#FFA15A\", \"#19d3f3\", \"#FF6692\", \"#B6E880\", \"#FF97FF\", \"#FECB52\"], \"font\": {\"color\": \"#2a3f5f\"}, \"geo\": {\"bgcolor\": \"white\", \"lakecolor\": \"white\", \"landcolor\": \"#E5ECF6\", \"showlakes\": true, \"showland\": true, \"subunitcolor\": \"white\"}, \"hoverlabel\": {\"align\": \"left\"}, \"hovermode\": \"closest\", \"mapbox\": {\"style\": \"light\"}, \"paper_bgcolor\": \"white\", \"plot_bgcolor\": \"#E5ECF6\", \"polar\": {\"angularaxis\": {\"gridcolor\": \"white\", \"linecolor\": \"white\", \"ticks\": \"\"}, \"bgcolor\": \"#E5ECF6\", \"radialaxis\": {\"gridcolor\": \"white\", \"linecolor\": \"white\", \"ticks\": \"\"}}, \"scene\": {\"xaxis\": {\"backgroundcolor\": \"#E5ECF6\", \"gridcolor\": \"white\", \"gridwidth\": 2, \"linecolor\": \"white\", \"showbackground\": true, \"ticks\": \"\", \"zerolinecolor\": \"white\"}, \"yaxis\": {\"backgroundcolor\": \"#E5ECF6\", \"gridcolor\": \"white\", \"gridwidth\": 2, \"linecolor\": \"white\", \"showbackground\": true, \"ticks\": \"\", \"zerolinecolor\": \"white\"}, \"zaxis\": {\"backgroundcolor\": \"#E5ECF6\", \"gridcolor\": \"white\", \"gridwidth\": 2, \"linecolor\": \"white\", \"showbackground\": true, \"ticks\": \"\", \"zerolinecolor\": \"white\"}}, \"shapedefaults\": {\"line\": {\"color\": \"#2a3f5f\"}}, \"ternary\": {\"aaxis\": {\"gridcolor\": \"white\", \"linecolor\": \"white\", \"ticks\": \"\"}, \"baxis\": {\"gridcolor\": \"white\", \"linecolor\": \"white\", \"ticks\": \"\"}, \"bgcolor\": \"#E5ECF6\", \"caxis\": {\"gridcolor\": \"white\", \"linecolor\": \"white\", \"ticks\": \"\"}}, \"title\": {\"x\": 0.05}, \"xaxis\": {\"automargin\": true, \"gridcolor\": \"white\", \"linecolor\": \"white\", \"ticks\": \"\", \"title\": {\"standoff\": 15}, \"zerolinecolor\": \"white\", \"zerolinewidth\": 2}, \"yaxis\": {\"automargin\": true, \"gridcolor\": \"white\", \"linecolor\": \"white\", \"ticks\": \"\", \"title\": {\"standoff\": 15}, \"zerolinecolor\": \"white\", \"zerolinewidth\": 2}}}, \"title\": {\"text\": \"Trend of Most Popular Technologies in 2017, 2018 and 2019\"}, \"width\": 900, \"xaxis\": {\"dtick\": 1, \"tick0\": 1, \"tickmode\": \"linear\", \"title\": {\"text\": \"Years (2016-2019)\"}}, \"yaxis\": {\"title\": {\"text\": \"Percentages\"}}},\n",
       "                        {\"responsive\": true}\n",
       "                    ).then(function(){\n",
       "                            \n",
       "var gd = document.getElementById('a0df713b-66fb-4f6b-9b83-a32b47797509');\n",
       "var x = new MutationObserver(function (mutations, observer) {{\n",
       "        var display = window.getComputedStyle(gd).display;\n",
       "        if (!display || display === 'none') {{\n",
       "            console.log([gd, 'removed!']);\n",
       "            Plotly.purge(gd);\n",
       "            observer.disconnect();\n",
       "        }}\n",
       "}});\n",
       "\n",
       "// Listen for the removal of the full notebook cells\n",
       "var notebookContainer = gd.closest('#notebook-container');\n",
       "if (notebookContainer) {{\n",
       "    x.observe(notebookContainer, {childList: true});\n",
       "}}\n",
       "\n",
       "// Listen for the clearing of the current output cell\n",
       "var outputEl = gd.closest('.output');\n",
       "if (outputEl) {{\n",
       "    x.observe(outputEl, {childList: true});\n",
       "}}\n",
       "\n",
       "                        })\n",
       "                };\n",
       "                });\n",
       "            </script>\n",
       "        </div>"
      ]
     },
     "metadata": {},
     "output_type": "display_data"
    }
   ],
   "source": [
    "import plotly.graph_objects as go\n",
    "\n",
    "X = [2016,2017,2018,2019]\n",
    "\n",
    "Javascript = all_language.JavaScript\n",
    "sql= all_language.SQL\n",
    "Java = all_language.Java\n",
    "python = all_language.Python\n",
    "C_hash = all_language[\"C#\"]\n",
    "C_plus_plus = all_language[\"C++\"]\n",
    "\n",
    "# Create traces\n",
    "fig = go.Figure()\n",
    "fig.add_trace(go.Line(x=X, y=python,\n",
    "                    name='python'))\n",
    "fig.add_trace(go.Line(x=X, y=sql,\n",
    "                   # mode='lines+markers',\n",
    "                    name='sql'))\n",
    "fig.add_trace(go.Line(x=X, y=Javascript,\n",
    "                    #mode='lines+markers', \n",
    "                    name='Javascript'))\n",
    "fig.add_trace(go.Line(x=X, y=Java,\n",
    "                    #mode='lines+markers',\n",
    "                    name='Java'))\n",
    "fig.add_trace(go.Line(x=X, y=C_hash,\n",
    "                    #mode='lines+markers',\n",
    "                    name='C_hash'))\n",
    "fig.add_trace(go.Line(x=X, y=C_plus_plus,\n",
    "                    #mode='lines+markers', \n",
    "                    name='C_plus_plus'))\n",
    "\n",
    "fig.update_layout(\n",
    "    title=\"Trend of Most Popular Technologies in 2017, 2018 and 2019\",\n",
    "    xaxis_title=\"Years (2016-2019)\",\n",
    "    yaxis_title=\"Percentages\",\n",
    "    font=dict(\n",
    "        family=\"Franklin Gothic\",\n",
    "        size=14))\n",
    "fig.update_layout(\n",
    "    autosize=False,\n",
    "    width=900,\n",
    "    height=500)\n",
    "\n",
    "fig.update_layout(\n",
    "    xaxis = dict(\n",
    "        tickmode = 'linear',\n",
    "        tick0 = 1,\n",
    "        dtick = 1\n",
    "    )\n",
    ")\n",
    "fig.show()"
   ]
  },
  {
   "cell_type": "markdown",
   "metadata": {},
   "source": [
    "**Notes**\n",
    "- HTML/CSS is missing in the chart because it is not available in year 2016 and 2017. \n",
    "-  All the line are going down in 2018 and 2019 because HTML/CSS is around 20% in these years, which has impacted on the percentages of other languages.  \n",
    "- You can see HTML/CSS is at the second number in the above 2018 and 2019 top programming  graph.\n",
    "\n",
    "**Observations**:\n",
    "- As expected JavaScript was on the top in all the 4 years. \n",
    "- Python had shown upward trend from 2018 to 2019.\n",
    "- Users of C# was going down from 2016 to 2019. "
   ]
  },
  {
   "cell_type": "markdown",
   "metadata": {},
   "source": [
    "# Top percentage-wise programming languages in 2016, 2017, 2018 and 2019"
   ]
  },
  {
   "cell_type": "code",
   "execution_count": 532,
   "metadata": {},
   "outputs": [
    {
     "data": {
      "application/vnd.plotly.v1+json": {
       "config": {
        "plotlyServerURL": "https://plot.ly"
       },
       "data": [
        {
         "domain": {
          "x": [
           0,
           0.45
          ],
          "y": [
           0.625,
           1
          ]
         },
         "labels": [
          "JavaScript",
          "SQL",
          "Java",
          "C#",
          "Python",
          "C++"
         ],
         "textinfo": "percent+label",
         "type": "pie",
         "values": [
          0.2621652928956413,
          0.2103832198895239,
          0.17176445810237706,
          0.14630900753420067,
          0.11757948246646946,
          0.09179853911178762
         ]
        },
        {
         "domain": {
          "x": [
           0.55,
           1
          ],
          "y": [
           0.625,
           1
          ]
         },
         "labels": [
          "JavaScript",
          "SQL",
          "Java",
          "C#",
          "Python",
          "C++"
         ],
         "textinfo": "percent+label",
         "type": "pie",
         "values": [
          0.2585096284241931,
          0.21193834192206853,
          0.16413524997739806,
          0.14099086881837086,
          0.13226652201428443,
          0.09215938884368502
         ]
        },
        {
         "domain": {
          "x": [
           0,
           0.45
          ],
          "y": [
           0,
           0.375
          ]
         },
         "labels": [
          "JavaScript",
          "HTML",
          "SQL",
          "Java",
          "Python",
          "C#",
          "C++"
         ],
         "textinfo": "percent+label",
         "type": "pie",
         "values": [
          0.20582633896646468,
          0.20184425458240807,
          0.16812826978809892,
          0.1336934020851368,
          0.11426474462719712,
          0.10144905717189205,
          0.07479393277880236
         ]
        },
        {
         "domain": {
          "x": [
           0.55,
           1
          ],
          "y": [
           0,
           0.375
          ]
         },
         "labels": [
          "JavaScript",
          "HTML/CSS",
          "SQL",
          "Python",
          "Java",
          "C#",
          "C++"
         ],
         "textinfo": "percent+label",
         "type": "pie",
         "values": [
          0.20984018992948514,
          0.19654158250947876,
          0.1684702880833422,
          0.12913433258920662,
          0.12727047234329045,
          0.09601715034903087,
          0.07272598419616598
         ]
        }
       ],
       "layout": {
        "annotations": [
         {
          "font": {
           "size": 16
          },
          "showarrow": false,
          "text": "2016",
          "x": 0.225,
          "xanchor": "center",
          "xref": "paper",
          "y": 1,
          "yanchor": "bottom",
          "yref": "paper"
         },
         {
          "font": {
           "size": 16
          },
          "showarrow": false,
          "text": "2017",
          "x": 0.775,
          "xanchor": "center",
          "xref": "paper",
          "y": 1,
          "yanchor": "bottom",
          "yref": "paper"
         },
         {
          "font": {
           "size": 16
          },
          "showarrow": false,
          "text": "2018",
          "x": 0.225,
          "xanchor": "center",
          "xref": "paper",
          "y": 0.375,
          "yanchor": "bottom",
          "yref": "paper"
         },
         {
          "font": {
           "size": 16
          },
          "showarrow": false,
          "text": "2019",
          "x": 0.775,
          "xanchor": "center",
          "xref": "paper",
          "y": 0.375,
          "yanchor": "bottom",
          "yref": "paper"
         }
        ],
        "template": {
         "data": {
          "bar": [
           {
            "error_x": {
             "color": "#2a3f5f"
            },
            "error_y": {
             "color": "#2a3f5f"
            },
            "marker": {
             "line": {
              "color": "#E5ECF6",
              "width": 0.5
             }
            },
            "type": "bar"
           }
          ],
          "barpolar": [
           {
            "marker": {
             "line": {
              "color": "#E5ECF6",
              "width": 0.5
             }
            },
            "type": "barpolar"
           }
          ],
          "carpet": [
           {
            "aaxis": {
             "endlinecolor": "#2a3f5f",
             "gridcolor": "white",
             "linecolor": "white",
             "minorgridcolor": "white",
             "startlinecolor": "#2a3f5f"
            },
            "baxis": {
             "endlinecolor": "#2a3f5f",
             "gridcolor": "white",
             "linecolor": "white",
             "minorgridcolor": "white",
             "startlinecolor": "#2a3f5f"
            },
            "type": "carpet"
           }
          ],
          "choropleth": [
           {
            "colorbar": {
             "outlinewidth": 0,
             "ticks": ""
            },
            "type": "choropleth"
           }
          ],
          "contour": [
           {
            "colorbar": {
             "outlinewidth": 0,
             "ticks": ""
            },
            "colorscale": [
             [
              0,
              "#0d0887"
             ],
             [
              0.1111111111111111,
              "#46039f"
             ],
             [
              0.2222222222222222,
              "#7201a8"
             ],
             [
              0.3333333333333333,
              "#9c179e"
             ],
             [
              0.4444444444444444,
              "#bd3786"
             ],
             [
              0.5555555555555556,
              "#d8576b"
             ],
             [
              0.6666666666666666,
              "#ed7953"
             ],
             [
              0.7777777777777778,
              "#fb9f3a"
             ],
             [
              0.8888888888888888,
              "#fdca26"
             ],
             [
              1,
              "#f0f921"
             ]
            ],
            "type": "contour"
           }
          ],
          "contourcarpet": [
           {
            "colorbar": {
             "outlinewidth": 0,
             "ticks": ""
            },
            "type": "contourcarpet"
           }
          ],
          "heatmap": [
           {
            "colorbar": {
             "outlinewidth": 0,
             "ticks": ""
            },
            "colorscale": [
             [
              0,
              "#0d0887"
             ],
             [
              0.1111111111111111,
              "#46039f"
             ],
             [
              0.2222222222222222,
              "#7201a8"
             ],
             [
              0.3333333333333333,
              "#9c179e"
             ],
             [
              0.4444444444444444,
              "#bd3786"
             ],
             [
              0.5555555555555556,
              "#d8576b"
             ],
             [
              0.6666666666666666,
              "#ed7953"
             ],
             [
              0.7777777777777778,
              "#fb9f3a"
             ],
             [
              0.8888888888888888,
              "#fdca26"
             ],
             [
              1,
              "#f0f921"
             ]
            ],
            "type": "heatmap"
           }
          ],
          "heatmapgl": [
           {
            "colorbar": {
             "outlinewidth": 0,
             "ticks": ""
            },
            "colorscale": [
             [
              0,
              "#0d0887"
             ],
             [
              0.1111111111111111,
              "#46039f"
             ],
             [
              0.2222222222222222,
              "#7201a8"
             ],
             [
              0.3333333333333333,
              "#9c179e"
             ],
             [
              0.4444444444444444,
              "#bd3786"
             ],
             [
              0.5555555555555556,
              "#d8576b"
             ],
             [
              0.6666666666666666,
              "#ed7953"
             ],
             [
              0.7777777777777778,
              "#fb9f3a"
             ],
             [
              0.8888888888888888,
              "#fdca26"
             ],
             [
              1,
              "#f0f921"
             ]
            ],
            "type": "heatmapgl"
           }
          ],
          "histogram": [
           {
            "marker": {
             "colorbar": {
              "outlinewidth": 0,
              "ticks": ""
             }
            },
            "type": "histogram"
           }
          ],
          "histogram2d": [
           {
            "colorbar": {
             "outlinewidth": 0,
             "ticks": ""
            },
            "colorscale": [
             [
              0,
              "#0d0887"
             ],
             [
              0.1111111111111111,
              "#46039f"
             ],
             [
              0.2222222222222222,
              "#7201a8"
             ],
             [
              0.3333333333333333,
              "#9c179e"
             ],
             [
              0.4444444444444444,
              "#bd3786"
             ],
             [
              0.5555555555555556,
              "#d8576b"
             ],
             [
              0.6666666666666666,
              "#ed7953"
             ],
             [
              0.7777777777777778,
              "#fb9f3a"
             ],
             [
              0.8888888888888888,
              "#fdca26"
             ],
             [
              1,
              "#f0f921"
             ]
            ],
            "type": "histogram2d"
           }
          ],
          "histogram2dcontour": [
           {
            "colorbar": {
             "outlinewidth": 0,
             "ticks": ""
            },
            "colorscale": [
             [
              0,
              "#0d0887"
             ],
             [
              0.1111111111111111,
              "#46039f"
             ],
             [
              0.2222222222222222,
              "#7201a8"
             ],
             [
              0.3333333333333333,
              "#9c179e"
             ],
             [
              0.4444444444444444,
              "#bd3786"
             ],
             [
              0.5555555555555556,
              "#d8576b"
             ],
             [
              0.6666666666666666,
              "#ed7953"
             ],
             [
              0.7777777777777778,
              "#fb9f3a"
             ],
             [
              0.8888888888888888,
              "#fdca26"
             ],
             [
              1,
              "#f0f921"
             ]
            ],
            "type": "histogram2dcontour"
           }
          ],
          "mesh3d": [
           {
            "colorbar": {
             "outlinewidth": 0,
             "ticks": ""
            },
            "type": "mesh3d"
           }
          ],
          "parcoords": [
           {
            "line": {
             "colorbar": {
              "outlinewidth": 0,
              "ticks": ""
             }
            },
            "type": "parcoords"
           }
          ],
          "pie": [
           {
            "automargin": true,
            "type": "pie"
           }
          ],
          "scatter": [
           {
            "marker": {
             "colorbar": {
              "outlinewidth": 0,
              "ticks": ""
             }
            },
            "type": "scatter"
           }
          ],
          "scatter3d": [
           {
            "line": {
             "colorbar": {
              "outlinewidth": 0,
              "ticks": ""
             }
            },
            "marker": {
             "colorbar": {
              "outlinewidth": 0,
              "ticks": ""
             }
            },
            "type": "scatter3d"
           }
          ],
          "scattercarpet": [
           {
            "marker": {
             "colorbar": {
              "outlinewidth": 0,
              "ticks": ""
             }
            },
            "type": "scattercarpet"
           }
          ],
          "scattergeo": [
           {
            "marker": {
             "colorbar": {
              "outlinewidth": 0,
              "ticks": ""
             }
            },
            "type": "scattergeo"
           }
          ],
          "scattergl": [
           {
            "marker": {
             "colorbar": {
              "outlinewidth": 0,
              "ticks": ""
             }
            },
            "type": "scattergl"
           }
          ],
          "scattermapbox": [
           {
            "marker": {
             "colorbar": {
              "outlinewidth": 0,
              "ticks": ""
             }
            },
            "type": "scattermapbox"
           }
          ],
          "scatterpolar": [
           {
            "marker": {
             "colorbar": {
              "outlinewidth": 0,
              "ticks": ""
             }
            },
            "type": "scatterpolar"
           }
          ],
          "scatterpolargl": [
           {
            "marker": {
             "colorbar": {
              "outlinewidth": 0,
              "ticks": ""
             }
            },
            "type": "scatterpolargl"
           }
          ],
          "scatterternary": [
           {
            "marker": {
             "colorbar": {
              "outlinewidth": 0,
              "ticks": ""
             }
            },
            "type": "scatterternary"
           }
          ],
          "surface": [
           {
            "colorbar": {
             "outlinewidth": 0,
             "ticks": ""
            },
            "colorscale": [
             [
              0,
              "#0d0887"
             ],
             [
              0.1111111111111111,
              "#46039f"
             ],
             [
              0.2222222222222222,
              "#7201a8"
             ],
             [
              0.3333333333333333,
              "#9c179e"
             ],
             [
              0.4444444444444444,
              "#bd3786"
             ],
             [
              0.5555555555555556,
              "#d8576b"
             ],
             [
              0.6666666666666666,
              "#ed7953"
             ],
             [
              0.7777777777777778,
              "#fb9f3a"
             ],
             [
              0.8888888888888888,
              "#fdca26"
             ],
             [
              1,
              "#f0f921"
             ]
            ],
            "type": "surface"
           }
          ],
          "table": [
           {
            "cells": {
             "fill": {
              "color": "#EBF0F8"
             },
             "line": {
              "color": "white"
             }
            },
            "header": {
             "fill": {
              "color": "#C8D4E3"
             },
             "line": {
              "color": "white"
             }
            },
            "type": "table"
           }
          ]
         },
         "layout": {
          "annotationdefaults": {
           "arrowcolor": "#2a3f5f",
           "arrowhead": 0,
           "arrowwidth": 1
          },
          "coloraxis": {
           "colorbar": {
            "outlinewidth": 0,
            "ticks": ""
           }
          },
          "colorscale": {
           "diverging": [
            [
             0,
             "#8e0152"
            ],
            [
             0.1,
             "#c51b7d"
            ],
            [
             0.2,
             "#de77ae"
            ],
            [
             0.3,
             "#f1b6da"
            ],
            [
             0.4,
             "#fde0ef"
            ],
            [
             0.5,
             "#f7f7f7"
            ],
            [
             0.6,
             "#e6f5d0"
            ],
            [
             0.7,
             "#b8e186"
            ],
            [
             0.8,
             "#7fbc41"
            ],
            [
             0.9,
             "#4d9221"
            ],
            [
             1,
             "#276419"
            ]
           ],
           "sequential": [
            [
             0,
             "#0d0887"
            ],
            [
             0.1111111111111111,
             "#46039f"
            ],
            [
             0.2222222222222222,
             "#7201a8"
            ],
            [
             0.3333333333333333,
             "#9c179e"
            ],
            [
             0.4444444444444444,
             "#bd3786"
            ],
            [
             0.5555555555555556,
             "#d8576b"
            ],
            [
             0.6666666666666666,
             "#ed7953"
            ],
            [
             0.7777777777777778,
             "#fb9f3a"
            ],
            [
             0.8888888888888888,
             "#fdca26"
            ],
            [
             1,
             "#f0f921"
            ]
           ],
           "sequentialminus": [
            [
             0,
             "#0d0887"
            ],
            [
             0.1111111111111111,
             "#46039f"
            ],
            [
             0.2222222222222222,
             "#7201a8"
            ],
            [
             0.3333333333333333,
             "#9c179e"
            ],
            [
             0.4444444444444444,
             "#bd3786"
            ],
            [
             0.5555555555555556,
             "#d8576b"
            ],
            [
             0.6666666666666666,
             "#ed7953"
            ],
            [
             0.7777777777777778,
             "#fb9f3a"
            ],
            [
             0.8888888888888888,
             "#fdca26"
            ],
            [
             1,
             "#f0f921"
            ]
           ]
          },
          "colorway": [
           "#636efa",
           "#EF553B",
           "#00cc96",
           "#ab63fa",
           "#FFA15A",
           "#19d3f3",
           "#FF6692",
           "#B6E880",
           "#FF97FF",
           "#FECB52"
          ],
          "font": {
           "color": "#2a3f5f"
          },
          "geo": {
           "bgcolor": "white",
           "lakecolor": "white",
           "landcolor": "#E5ECF6",
           "showlakes": true,
           "showland": true,
           "subunitcolor": "white"
          },
          "hoverlabel": {
           "align": "left"
          },
          "hovermode": "closest",
          "mapbox": {
           "style": "light"
          },
          "paper_bgcolor": "white",
          "plot_bgcolor": "#E5ECF6",
          "polar": {
           "angularaxis": {
            "gridcolor": "white",
            "linecolor": "white",
            "ticks": ""
           },
           "bgcolor": "#E5ECF6",
           "radialaxis": {
            "gridcolor": "white",
            "linecolor": "white",
            "ticks": ""
           }
          },
          "scene": {
           "xaxis": {
            "backgroundcolor": "#E5ECF6",
            "gridcolor": "white",
            "gridwidth": 2,
            "linecolor": "white",
            "showbackground": true,
            "ticks": "",
            "zerolinecolor": "white"
           },
           "yaxis": {
            "backgroundcolor": "#E5ECF6",
            "gridcolor": "white",
            "gridwidth": 2,
            "linecolor": "white",
            "showbackground": true,
            "ticks": "",
            "zerolinecolor": "white"
           },
           "zaxis": {
            "backgroundcolor": "#E5ECF6",
            "gridcolor": "white",
            "gridwidth": 2,
            "linecolor": "white",
            "showbackground": true,
            "ticks": "",
            "zerolinecolor": "white"
           }
          },
          "shapedefaults": {
           "line": {
            "color": "#2a3f5f"
           }
          },
          "ternary": {
           "aaxis": {
            "gridcolor": "white",
            "linecolor": "white",
            "ticks": ""
           },
           "baxis": {
            "gridcolor": "white",
            "linecolor": "white",
            "ticks": ""
           },
           "bgcolor": "#E5ECF6",
           "caxis": {
            "gridcolor": "white",
            "linecolor": "white",
            "ticks": ""
           }
          },
          "title": {
           "x": 0.05
          },
          "xaxis": {
           "automargin": true,
           "gridcolor": "white",
           "linecolor": "white",
           "ticks": "",
           "title": {
            "standoff": 15
           },
           "zerolinecolor": "white",
           "zerolinewidth": 2
          },
          "yaxis": {
           "automargin": true,
           "gridcolor": "white",
           "linecolor": "white",
           "ticks": "",
           "title": {
            "standoff": 15
           },
           "zerolinecolor": "white",
           "zerolinewidth": 2
          }
         }
        },
        "title": {
         "text": "Share of Most Popular Technologies in 2016, 2017, 2018 and 2019"
        }
       }
      },
      "text/html": [
       "<div>\n",
       "        \n",
       "        \n",
       "            <div id=\"2dc94c46-f2fb-450b-805d-2a26a722536c\" class=\"plotly-graph-div\" style=\"height:525px; width:100%;\"></div>\n",
       "            <script type=\"text/javascript\">\n",
       "                require([\"plotly\"], function(Plotly) {\n",
       "                    window.PLOTLYENV=window.PLOTLYENV || {};\n",
       "                    \n",
       "                if (document.getElementById(\"2dc94c46-f2fb-450b-805d-2a26a722536c\")) {\n",
       "                    Plotly.newPlot(\n",
       "                        '2dc94c46-f2fb-450b-805d-2a26a722536c',\n",
       "                        [{\"domain\": {\"x\": [0.0, 0.45], \"y\": [0.625, 1.0]}, \"labels\": [\"JavaScript\", \"SQL\", \"Java\", \"C#\", \"Python\", \"C++\"], \"textinfo\": \"percent+label\", \"type\": \"pie\", \"values\": [0.2621652928956413, 0.2103832198895239, 0.17176445810237706, 0.14630900753420067, 0.11757948246646946, 0.09179853911178762]}, {\"domain\": {\"x\": [0.55, 1.0], \"y\": [0.625, 1.0]}, \"labels\": [\"JavaScript\", \"SQL\", \"Java\", \"C#\", \"Python\", \"C++\"], \"textinfo\": \"percent+label\", \"type\": \"pie\", \"values\": [0.2585096284241931, 0.21193834192206853, 0.16413524997739806, 0.14099086881837086, 0.13226652201428443, 0.09215938884368502]}, {\"domain\": {\"x\": [0.0, 0.45], \"y\": [0.0, 0.375]}, \"labels\": [\"JavaScript\", \"HTML\", \"SQL\", \"Java\", \"Python\", \"C#\", \"C++\"], \"textinfo\": \"percent+label\", \"type\": \"pie\", \"values\": [0.20582633896646468, 0.20184425458240807, 0.16812826978809892, 0.1336934020851368, 0.11426474462719712, 0.10144905717189205, 0.07479393277880236]}, {\"domain\": {\"x\": [0.55, 1.0], \"y\": [0.0, 0.375]}, \"labels\": [\"JavaScript\", \"HTML/CSS\", \"SQL\", \"Python\", \"Java\", \"C#\", \"C++\"], \"textinfo\": \"percent+label\", \"type\": \"pie\", \"values\": [0.20984018992948514, 0.19654158250947876, 0.1684702880833422, 0.12913433258920662, 0.12727047234329045, 0.09601715034903087, 0.07272598419616598]}],\n",
       "                        {\"annotations\": [{\"font\": {\"size\": 16}, \"showarrow\": false, \"text\": \"2016\", \"x\": 0.225, \"xanchor\": \"center\", \"xref\": \"paper\", \"y\": 1.0, \"yanchor\": \"bottom\", \"yref\": \"paper\"}, {\"font\": {\"size\": 16}, \"showarrow\": false, \"text\": \"2017\", \"x\": 0.775, \"xanchor\": \"center\", \"xref\": \"paper\", \"y\": 1.0, \"yanchor\": \"bottom\", \"yref\": \"paper\"}, {\"font\": {\"size\": 16}, \"showarrow\": false, \"text\": \"2018\", \"x\": 0.225, \"xanchor\": \"center\", \"xref\": \"paper\", \"y\": 0.375, \"yanchor\": \"bottom\", \"yref\": \"paper\"}, {\"font\": {\"size\": 16}, \"showarrow\": false, \"text\": \"2019\", \"x\": 0.775, \"xanchor\": \"center\", \"xref\": \"paper\", \"y\": 0.375, \"yanchor\": \"bottom\", \"yref\": \"paper\"}], \"template\": {\"data\": {\"bar\": [{\"error_x\": {\"color\": \"#2a3f5f\"}, \"error_y\": {\"color\": \"#2a3f5f\"}, \"marker\": {\"line\": {\"color\": \"#E5ECF6\", \"width\": 0.5}}, \"type\": \"bar\"}], \"barpolar\": [{\"marker\": {\"line\": {\"color\": \"#E5ECF6\", \"width\": 0.5}}, \"type\": \"barpolar\"}], \"carpet\": [{\"aaxis\": {\"endlinecolor\": \"#2a3f5f\", \"gridcolor\": \"white\", \"linecolor\": \"white\", \"minorgridcolor\": \"white\", \"startlinecolor\": \"#2a3f5f\"}, \"baxis\": {\"endlinecolor\": \"#2a3f5f\", \"gridcolor\": \"white\", \"linecolor\": \"white\", \"minorgridcolor\": \"white\", \"startlinecolor\": \"#2a3f5f\"}, \"type\": \"carpet\"}], \"choropleth\": [{\"colorbar\": {\"outlinewidth\": 0, \"ticks\": \"\"}, \"type\": \"choropleth\"}], \"contour\": [{\"colorbar\": {\"outlinewidth\": 0, \"ticks\": \"\"}, \"colorscale\": [[0.0, \"#0d0887\"], [0.1111111111111111, \"#46039f\"], [0.2222222222222222, \"#7201a8\"], [0.3333333333333333, \"#9c179e\"], [0.4444444444444444, \"#bd3786\"], [0.5555555555555556, \"#d8576b\"], [0.6666666666666666, \"#ed7953\"], [0.7777777777777778, \"#fb9f3a\"], [0.8888888888888888, \"#fdca26\"], [1.0, \"#f0f921\"]], \"type\": \"contour\"}], \"contourcarpet\": [{\"colorbar\": {\"outlinewidth\": 0, \"ticks\": \"\"}, \"type\": \"contourcarpet\"}], \"heatmap\": [{\"colorbar\": {\"outlinewidth\": 0, \"ticks\": \"\"}, \"colorscale\": [[0.0, \"#0d0887\"], [0.1111111111111111, \"#46039f\"], [0.2222222222222222, \"#7201a8\"], [0.3333333333333333, \"#9c179e\"], [0.4444444444444444, \"#bd3786\"], [0.5555555555555556, \"#d8576b\"], [0.6666666666666666, \"#ed7953\"], [0.7777777777777778, \"#fb9f3a\"], [0.8888888888888888, \"#fdca26\"], [1.0, \"#f0f921\"]], \"type\": \"heatmap\"}], \"heatmapgl\": [{\"colorbar\": {\"outlinewidth\": 0, \"ticks\": \"\"}, \"colorscale\": [[0.0, \"#0d0887\"], [0.1111111111111111, \"#46039f\"], [0.2222222222222222, \"#7201a8\"], [0.3333333333333333, \"#9c179e\"], [0.4444444444444444, \"#bd3786\"], [0.5555555555555556, \"#d8576b\"], [0.6666666666666666, \"#ed7953\"], [0.7777777777777778, \"#fb9f3a\"], [0.8888888888888888, \"#fdca26\"], [1.0, \"#f0f921\"]], \"type\": \"heatmapgl\"}], \"histogram\": [{\"marker\": {\"colorbar\": {\"outlinewidth\": 0, \"ticks\": \"\"}}, \"type\": \"histogram\"}], \"histogram2d\": [{\"colorbar\": {\"outlinewidth\": 0, \"ticks\": \"\"}, \"colorscale\": [[0.0, \"#0d0887\"], [0.1111111111111111, \"#46039f\"], [0.2222222222222222, \"#7201a8\"], [0.3333333333333333, \"#9c179e\"], [0.4444444444444444, \"#bd3786\"], [0.5555555555555556, \"#d8576b\"], [0.6666666666666666, \"#ed7953\"], [0.7777777777777778, \"#fb9f3a\"], [0.8888888888888888, \"#fdca26\"], [1.0, \"#f0f921\"]], \"type\": \"histogram2d\"}], \"histogram2dcontour\": [{\"colorbar\": {\"outlinewidth\": 0, \"ticks\": \"\"}, \"colorscale\": [[0.0, \"#0d0887\"], [0.1111111111111111, \"#46039f\"], [0.2222222222222222, \"#7201a8\"], [0.3333333333333333, \"#9c179e\"], [0.4444444444444444, \"#bd3786\"], [0.5555555555555556, \"#d8576b\"], [0.6666666666666666, \"#ed7953\"], [0.7777777777777778, \"#fb9f3a\"], [0.8888888888888888, \"#fdca26\"], [1.0, \"#f0f921\"]], \"type\": \"histogram2dcontour\"}], \"mesh3d\": [{\"colorbar\": {\"outlinewidth\": 0, \"ticks\": \"\"}, \"type\": \"mesh3d\"}], \"parcoords\": [{\"line\": {\"colorbar\": {\"outlinewidth\": 0, \"ticks\": \"\"}}, \"type\": \"parcoords\"}], \"pie\": [{\"automargin\": true, \"type\": \"pie\"}], \"scatter\": [{\"marker\": {\"colorbar\": {\"outlinewidth\": 0, \"ticks\": \"\"}}, \"type\": \"scatter\"}], \"scatter3d\": [{\"line\": {\"colorbar\": {\"outlinewidth\": 0, \"ticks\": \"\"}}, \"marker\": {\"colorbar\": {\"outlinewidth\": 0, \"ticks\": \"\"}}, \"type\": \"scatter3d\"}], \"scattercarpet\": [{\"marker\": {\"colorbar\": {\"outlinewidth\": 0, \"ticks\": \"\"}}, \"type\": \"scattercarpet\"}], \"scattergeo\": [{\"marker\": {\"colorbar\": {\"outlinewidth\": 0, \"ticks\": \"\"}}, \"type\": \"scattergeo\"}], \"scattergl\": [{\"marker\": {\"colorbar\": {\"outlinewidth\": 0, \"ticks\": \"\"}}, \"type\": \"scattergl\"}], \"scattermapbox\": [{\"marker\": {\"colorbar\": {\"outlinewidth\": 0, \"ticks\": \"\"}}, \"type\": \"scattermapbox\"}], \"scatterpolar\": [{\"marker\": {\"colorbar\": {\"outlinewidth\": 0, \"ticks\": \"\"}}, \"type\": \"scatterpolar\"}], \"scatterpolargl\": [{\"marker\": {\"colorbar\": {\"outlinewidth\": 0, \"ticks\": \"\"}}, \"type\": \"scatterpolargl\"}], \"scatterternary\": [{\"marker\": {\"colorbar\": {\"outlinewidth\": 0, \"ticks\": \"\"}}, \"type\": \"scatterternary\"}], \"surface\": [{\"colorbar\": {\"outlinewidth\": 0, \"ticks\": \"\"}, \"colorscale\": [[0.0, \"#0d0887\"], [0.1111111111111111, \"#46039f\"], [0.2222222222222222, \"#7201a8\"], [0.3333333333333333, \"#9c179e\"], [0.4444444444444444, \"#bd3786\"], [0.5555555555555556, \"#d8576b\"], [0.6666666666666666, \"#ed7953\"], [0.7777777777777778, \"#fb9f3a\"], [0.8888888888888888, \"#fdca26\"], [1.0, \"#f0f921\"]], \"type\": \"surface\"}], \"table\": [{\"cells\": {\"fill\": {\"color\": \"#EBF0F8\"}, \"line\": {\"color\": \"white\"}}, \"header\": {\"fill\": {\"color\": \"#C8D4E3\"}, \"line\": {\"color\": \"white\"}}, \"type\": \"table\"}]}, \"layout\": {\"annotationdefaults\": {\"arrowcolor\": \"#2a3f5f\", \"arrowhead\": 0, \"arrowwidth\": 1}, \"coloraxis\": {\"colorbar\": {\"outlinewidth\": 0, \"ticks\": \"\"}}, \"colorscale\": {\"diverging\": [[0, \"#8e0152\"], [0.1, \"#c51b7d\"], [0.2, \"#de77ae\"], [0.3, \"#f1b6da\"], [0.4, \"#fde0ef\"], [0.5, \"#f7f7f7\"], [0.6, \"#e6f5d0\"], [0.7, \"#b8e186\"], [0.8, \"#7fbc41\"], [0.9, \"#4d9221\"], [1, \"#276419\"]], \"sequential\": [[0.0, \"#0d0887\"], [0.1111111111111111, \"#46039f\"], [0.2222222222222222, \"#7201a8\"], [0.3333333333333333, \"#9c179e\"], [0.4444444444444444, \"#bd3786\"], [0.5555555555555556, \"#d8576b\"], [0.6666666666666666, \"#ed7953\"], [0.7777777777777778, \"#fb9f3a\"], [0.8888888888888888, \"#fdca26\"], [1.0, \"#f0f921\"]], \"sequentialminus\": [[0.0, \"#0d0887\"], [0.1111111111111111, \"#46039f\"], [0.2222222222222222, \"#7201a8\"], [0.3333333333333333, \"#9c179e\"], [0.4444444444444444, \"#bd3786\"], [0.5555555555555556, \"#d8576b\"], [0.6666666666666666, \"#ed7953\"], [0.7777777777777778, \"#fb9f3a\"], [0.8888888888888888, \"#fdca26\"], [1.0, \"#f0f921\"]]}, \"colorway\": [\"#636efa\", \"#EF553B\", \"#00cc96\", \"#ab63fa\", \"#FFA15A\", \"#19d3f3\", \"#FF6692\", \"#B6E880\", \"#FF97FF\", \"#FECB52\"], \"font\": {\"color\": \"#2a3f5f\"}, \"geo\": {\"bgcolor\": \"white\", \"lakecolor\": \"white\", \"landcolor\": \"#E5ECF6\", \"showlakes\": true, \"showland\": true, \"subunitcolor\": \"white\"}, \"hoverlabel\": {\"align\": \"left\"}, \"hovermode\": \"closest\", \"mapbox\": {\"style\": \"light\"}, \"paper_bgcolor\": \"white\", \"plot_bgcolor\": \"#E5ECF6\", \"polar\": {\"angularaxis\": {\"gridcolor\": \"white\", \"linecolor\": \"white\", \"ticks\": \"\"}, \"bgcolor\": \"#E5ECF6\", \"radialaxis\": {\"gridcolor\": \"white\", \"linecolor\": \"white\", \"ticks\": \"\"}}, \"scene\": {\"xaxis\": {\"backgroundcolor\": \"#E5ECF6\", \"gridcolor\": \"white\", \"gridwidth\": 2, \"linecolor\": \"white\", \"showbackground\": true, \"ticks\": \"\", \"zerolinecolor\": \"white\"}, \"yaxis\": {\"backgroundcolor\": \"#E5ECF6\", \"gridcolor\": \"white\", \"gridwidth\": 2, \"linecolor\": \"white\", \"showbackground\": true, \"ticks\": \"\", \"zerolinecolor\": \"white\"}, \"zaxis\": {\"backgroundcolor\": \"#E5ECF6\", \"gridcolor\": \"white\", \"gridwidth\": 2, \"linecolor\": \"white\", \"showbackground\": true, \"ticks\": \"\", \"zerolinecolor\": \"white\"}}, \"shapedefaults\": {\"line\": {\"color\": \"#2a3f5f\"}}, \"ternary\": {\"aaxis\": {\"gridcolor\": \"white\", \"linecolor\": \"white\", \"ticks\": \"\"}, \"baxis\": {\"gridcolor\": \"white\", \"linecolor\": \"white\", \"ticks\": \"\"}, \"bgcolor\": \"#E5ECF6\", \"caxis\": {\"gridcolor\": \"white\", \"linecolor\": \"white\", \"ticks\": \"\"}}, \"title\": {\"x\": 0.05}, \"xaxis\": {\"automargin\": true, \"gridcolor\": \"white\", \"linecolor\": \"white\", \"ticks\": \"\", \"title\": {\"standoff\": 15}, \"zerolinecolor\": \"white\", \"zerolinewidth\": 2}, \"yaxis\": {\"automargin\": true, \"gridcolor\": \"white\", \"linecolor\": \"white\", \"ticks\": \"\", \"title\": {\"standoff\": 15}, \"zerolinecolor\": \"white\", \"zerolinewidth\": 2}}}, \"title\": {\"text\": \"Share of Most Popular Technologies in 2016, 2017, 2018 and 2019\"}},\n",
       "                        {\"responsive\": true}\n",
       "                    ).then(function(){\n",
       "                            \n",
       "var gd = document.getElementById('2dc94c46-f2fb-450b-805d-2a26a722536c');\n",
       "var x = new MutationObserver(function (mutations, observer) {{\n",
       "        var display = window.getComputedStyle(gd).display;\n",
       "        if (!display || display === 'none') {{\n",
       "            console.log([gd, 'removed!']);\n",
       "            Plotly.purge(gd);\n",
       "            observer.disconnect();\n",
       "        }}\n",
       "}});\n",
       "\n",
       "// Listen for the removal of the full notebook cells\n",
       "var notebookContainer = gd.closest('#notebook-container');\n",
       "if (notebookContainer) {{\n",
       "    x.observe(notebookContainer, {childList: true});\n",
       "}}\n",
       "\n",
       "// Listen for the clearing of the current output cell\n",
       "var outputEl = gd.closest('.output');\n",
       "if (outputEl) {{\n",
       "    x.observe(outputEl, {childList: true});\n",
       "}}\n",
       "\n",
       "                        })\n",
       "                };\n",
       "                });\n",
       "            </script>\n",
       "        </div>"
      ]
     },
     "metadata": {},
     "output_type": "display_data"
    }
   ],
   "source": [
    "\n",
    "# Create subplots, using 'domain' type for pie charts\n",
    "specs = [[{'type':'domain'}, {'type':'domain'}],[{'type':'domain'},{'type':'domain'}]]\n",
    "fig = make_subplots(rows=2, cols=2, specs=specs, subplot_titles=('2016','2017','2018','2019'))\n",
    "\n",
    "\n",
    "fig.add_trace(go.Pie(labels=languages_2016.New_column,values= languages_2016['Count%2016']),1,1)\n",
    "\n",
    "fig.add_trace(go.Pie(labels=languages_2017.New_column,values= languages_2017['Count%2017']),1,2)\n",
    "\n",
    "fig.add_trace(go.Pie(labels=languages_2018.New_column,values= languages_2018['Count%2018']),2,1)\n",
    "\n",
    "fig.add_trace(go.Pie(labels=languages_2019.New_column,values= languages_2019['Count%2019']),2,2)\n",
    "\n",
    "\n",
    "fig.update_traces(textinfo='percent+label')\n",
    "fig.update_layout(title_text=\"Share of Most Popular Technologies in 2016, 2017, 2018 and 2019\")\n",
    "\n",
    "fig.show()"
   ]
  },
  {
   "cell_type": "markdown",
   "metadata": {},
   "source": [
    "## 3. Popular programming languages amongst students and developers in 2019"
   ]
  },
  {
   "cell_type": "code",
   "execution_count": 533,
   "metadata": {
    "collapsed": true
   },
   "outputs": [
    {
     "data": {
      "text/plain": [
       "I am a developer by profession                                                   65679\n",
       "I am a student who is learning to code                                           10189\n",
       "I am not primarily a developer, but I write code sometimes as part of my work     7539\n",
       "I code primarily as a hobby                                                       3340\n",
       "I used to be a developer by profession, but no longer am                          1584\n",
       "Name: MainBranch, dtype: int64"
      ]
     },
     "execution_count": 533,
     "metadata": {},
     "output_type": "execute_result"
    }
   ],
   "source": [
    "survey_2019.MainBranch.dropna().value_counts()"
   ]
  },
  {
   "cell_type": "code",
   "execution_count": 534,
   "metadata": {
    "collapsed": true
   },
   "outputs": [
    {
     "data": {
      "text/html": [
       "<div>\n",
       "<style scoped>\n",
       "    .dataframe tbody tr th:only-of-type {\n",
       "        vertical-align: middle;\n",
       "    }\n",
       "\n",
       "    .dataframe tbody tr th {\n",
       "        vertical-align: top;\n",
       "    }\n",
       "\n",
       "    .dataframe thead th {\n",
       "        text-align: right;\n",
       "    }\n",
       "</style>\n",
       "<table border=\"1\" class=\"dataframe\">\n",
       "  <thead>\n",
       "    <tr style=\"text-align: right;\">\n",
       "      <th></th>\n",
       "      <th>New_column</th>\n",
       "      <th>year2019</th>\n",
       "      <th>Count%2019</th>\n",
       "      <th>Count%2019_stud</th>\n",
       "    </tr>\n",
       "  </thead>\n",
       "  <tbody>\n",
       "    <tr>\n",
       "      <td>0</td>\n",
       "      <td>JavaScript</td>\n",
       "      <td>2019</td>\n",
       "      <td>0.221777</td>\n",
       "      <td>0.163472</td>\n",
       "    </tr>\n",
       "    <tr>\n",
       "      <td>1</td>\n",
       "      <td>HTML/CSS</td>\n",
       "      <td>2019</td>\n",
       "      <td>0.197995</td>\n",
       "      <td>0.190109</td>\n",
       "    </tr>\n",
       "    <tr>\n",
       "      <td>2</td>\n",
       "      <td>SQL</td>\n",
       "      <td>2019</td>\n",
       "      <td>0.175905</td>\n",
       "      <td>0.129973</td>\n",
       "    </tr>\n",
       "    <tr>\n",
       "      <td>3</td>\n",
       "      <td>Java</td>\n",
       "      <td>2019</td>\n",
       "      <td>0.124473</td>\n",
       "      <td>0.161619</td>\n",
       "    </tr>\n",
       "    <tr>\n",
       "      <td>4</td>\n",
       "      <td>Python</td>\n",
       "      <td>2019</td>\n",
       "      <td>0.114727</td>\n",
       "      <td>0.155597</td>\n",
       "    </tr>\n",
       "    <tr>\n",
       "      <td>5</td>\n",
       "      <td>C#</td>\n",
       "      <td>2019</td>\n",
       "      <td>0.102312</td>\n",
       "      <td>0.075540</td>\n",
       "    </tr>\n",
       "    <tr>\n",
       "      <td>6</td>\n",
       "      <td>C++</td>\n",
       "      <td>2019</td>\n",
       "      <td>0.062813</td>\n",
       "      <td>0.123690</td>\n",
       "    </tr>\n",
       "  </tbody>\n",
       "</table>\n",
       "</div>"
      ],
      "text/plain": [
       "   New_column  year2019  Count%2019  Count%2019_stud\n",
       "0  JavaScript      2019    0.221777         0.163472\n",
       "1    HTML/CSS      2019    0.197995         0.190109\n",
       "2         SQL      2019    0.175905         0.129973\n",
       "3        Java      2019    0.124473         0.161619\n",
       "4      Python      2019    0.114727         0.155597\n",
       "5          C#      2019    0.102312         0.075540\n",
       "6         C++      2019    0.062813         0.123690"
      ]
     },
     "execution_count": 534,
     "metadata": {},
     "output_type": "execute_result"
    }
   ],
   "source": [
    "# Sort values if  MainBranch is \"I am a developer by profession\":\n",
    "MainBranch_Developer = survey_2019.loc[survey_2019['MainBranch'] == \"I am a developer by profession\"]\n",
    "pd.DataFrame(MainBranch_Developer,columns=[ 'MainBranch','LanguageWorkedWith']).dropna()\n",
    "\n",
    "# Sort values if  MainBranch is \"I am a student who is learning to code \":\n",
    "MainBranch_students = survey_2019.loc[survey_2019['MainBranch'] == \"I am a student who is learning to code\"]\n",
    "pd.DataFrame(MainBranch_students,columns=[ 'MainBranch','LanguageWorkedWith']).dropna()\n",
    "\n",
    "MainBranch_Developer = languages(MainBranch_Developer,\"LanguageWorkedWith\",\"Language\",2019)\n",
    "\n",
    "MainBranch_students = languages(MainBranch_students,\"LanguageWorkedWith\",\"Language\",2019)\n",
    "MainBranch_students = MainBranch_students.rename(columns={\"Count2019\" :  \"Count2019_stud\",\n",
    "                                                          \"Count%2019\": \"Count%2019_stud\"})\n",
    "\n",
    "langs = pd.merge(MainBranch_Developer[[\"New_column\",\"year2019\",\"Count%2019\"]],MainBranch_students[[\"New_column\",\"Count%2019_stud\"]],\n",
    "               on=\"New_column\", how='left')\n",
    "langs"
   ]
  },
  {
   "cell_type": "code",
   "execution_count": 535,
   "metadata": {},
   "outputs": [
    {
     "data": {
      "application/vnd.plotly.v1+json": {
       "config": {
        "plotlyServerURL": "https://plot.ly"
       },
       "data": [
        {
         "name": "Developers",
         "type": "bar",
         "x": [
          "JavaScript",
          "HTML/CSS",
          "SQL",
          "Java",
          "Python",
          "C#",
          "C++"
         ],
         "y": [
          0.22177657468690504,
          0.19799505850895469,
          0.1759047983484271,
          0.12447266353926029,
          0.11472668263439108,
          0.10231154069643844,
          0.06281268158562338
         ]
        },
        {
         "name": "Students",
         "type": "bar",
         "x": [
          "JavaScript",
          "HTML/CSS",
          "SQL",
          "Java",
          "Python",
          "C#",
          "C++"
         ],
         "y": [
          0.16347211766749667,
          0.19010944466963925,
          0.12997278360067172,
          0.16161908622386936,
          0.1555967340320806,
          0.07553998494411952,
          0.12368984886212288
         ]
        }
       ],
       "layout": {
        "barmode": "group",
        "template": {
         "data": {
          "bar": [
           {
            "error_x": {
             "color": "#2a3f5f"
            },
            "error_y": {
             "color": "#2a3f5f"
            },
            "marker": {
             "line": {
              "color": "#E5ECF6",
              "width": 0.5
             }
            },
            "type": "bar"
           }
          ],
          "barpolar": [
           {
            "marker": {
             "line": {
              "color": "#E5ECF6",
              "width": 0.5
             }
            },
            "type": "barpolar"
           }
          ],
          "carpet": [
           {
            "aaxis": {
             "endlinecolor": "#2a3f5f",
             "gridcolor": "white",
             "linecolor": "white",
             "minorgridcolor": "white",
             "startlinecolor": "#2a3f5f"
            },
            "baxis": {
             "endlinecolor": "#2a3f5f",
             "gridcolor": "white",
             "linecolor": "white",
             "minorgridcolor": "white",
             "startlinecolor": "#2a3f5f"
            },
            "type": "carpet"
           }
          ],
          "choropleth": [
           {
            "colorbar": {
             "outlinewidth": 0,
             "ticks": ""
            },
            "type": "choropleth"
           }
          ],
          "contour": [
           {
            "colorbar": {
             "outlinewidth": 0,
             "ticks": ""
            },
            "colorscale": [
             [
              0,
              "#0d0887"
             ],
             [
              0.1111111111111111,
              "#46039f"
             ],
             [
              0.2222222222222222,
              "#7201a8"
             ],
             [
              0.3333333333333333,
              "#9c179e"
             ],
             [
              0.4444444444444444,
              "#bd3786"
             ],
             [
              0.5555555555555556,
              "#d8576b"
             ],
             [
              0.6666666666666666,
              "#ed7953"
             ],
             [
              0.7777777777777778,
              "#fb9f3a"
             ],
             [
              0.8888888888888888,
              "#fdca26"
             ],
             [
              1,
              "#f0f921"
             ]
            ],
            "type": "contour"
           }
          ],
          "contourcarpet": [
           {
            "colorbar": {
             "outlinewidth": 0,
             "ticks": ""
            },
            "type": "contourcarpet"
           }
          ],
          "heatmap": [
           {
            "colorbar": {
             "outlinewidth": 0,
             "ticks": ""
            },
            "colorscale": [
             [
              0,
              "#0d0887"
             ],
             [
              0.1111111111111111,
              "#46039f"
             ],
             [
              0.2222222222222222,
              "#7201a8"
             ],
             [
              0.3333333333333333,
              "#9c179e"
             ],
             [
              0.4444444444444444,
              "#bd3786"
             ],
             [
              0.5555555555555556,
              "#d8576b"
             ],
             [
              0.6666666666666666,
              "#ed7953"
             ],
             [
              0.7777777777777778,
              "#fb9f3a"
             ],
             [
              0.8888888888888888,
              "#fdca26"
             ],
             [
              1,
              "#f0f921"
             ]
            ],
            "type": "heatmap"
           }
          ],
          "heatmapgl": [
           {
            "colorbar": {
             "outlinewidth": 0,
             "ticks": ""
            },
            "colorscale": [
             [
              0,
              "#0d0887"
             ],
             [
              0.1111111111111111,
              "#46039f"
             ],
             [
              0.2222222222222222,
              "#7201a8"
             ],
             [
              0.3333333333333333,
              "#9c179e"
             ],
             [
              0.4444444444444444,
              "#bd3786"
             ],
             [
              0.5555555555555556,
              "#d8576b"
             ],
             [
              0.6666666666666666,
              "#ed7953"
             ],
             [
              0.7777777777777778,
              "#fb9f3a"
             ],
             [
              0.8888888888888888,
              "#fdca26"
             ],
             [
              1,
              "#f0f921"
             ]
            ],
            "type": "heatmapgl"
           }
          ],
          "histogram": [
           {
            "marker": {
             "colorbar": {
              "outlinewidth": 0,
              "ticks": ""
             }
            },
            "type": "histogram"
           }
          ],
          "histogram2d": [
           {
            "colorbar": {
             "outlinewidth": 0,
             "ticks": ""
            },
            "colorscale": [
             [
              0,
              "#0d0887"
             ],
             [
              0.1111111111111111,
              "#46039f"
             ],
             [
              0.2222222222222222,
              "#7201a8"
             ],
             [
              0.3333333333333333,
              "#9c179e"
             ],
             [
              0.4444444444444444,
              "#bd3786"
             ],
             [
              0.5555555555555556,
              "#d8576b"
             ],
             [
              0.6666666666666666,
              "#ed7953"
             ],
             [
              0.7777777777777778,
              "#fb9f3a"
             ],
             [
              0.8888888888888888,
              "#fdca26"
             ],
             [
              1,
              "#f0f921"
             ]
            ],
            "type": "histogram2d"
           }
          ],
          "histogram2dcontour": [
           {
            "colorbar": {
             "outlinewidth": 0,
             "ticks": ""
            },
            "colorscale": [
             [
              0,
              "#0d0887"
             ],
             [
              0.1111111111111111,
              "#46039f"
             ],
             [
              0.2222222222222222,
              "#7201a8"
             ],
             [
              0.3333333333333333,
              "#9c179e"
             ],
             [
              0.4444444444444444,
              "#bd3786"
             ],
             [
              0.5555555555555556,
              "#d8576b"
             ],
             [
              0.6666666666666666,
              "#ed7953"
             ],
             [
              0.7777777777777778,
              "#fb9f3a"
             ],
             [
              0.8888888888888888,
              "#fdca26"
             ],
             [
              1,
              "#f0f921"
             ]
            ],
            "type": "histogram2dcontour"
           }
          ],
          "mesh3d": [
           {
            "colorbar": {
             "outlinewidth": 0,
             "ticks": ""
            },
            "type": "mesh3d"
           }
          ],
          "parcoords": [
           {
            "line": {
             "colorbar": {
              "outlinewidth": 0,
              "ticks": ""
             }
            },
            "type": "parcoords"
           }
          ],
          "pie": [
           {
            "automargin": true,
            "type": "pie"
           }
          ],
          "scatter": [
           {
            "marker": {
             "colorbar": {
              "outlinewidth": 0,
              "ticks": ""
             }
            },
            "type": "scatter"
           }
          ],
          "scatter3d": [
           {
            "line": {
             "colorbar": {
              "outlinewidth": 0,
              "ticks": ""
             }
            },
            "marker": {
             "colorbar": {
              "outlinewidth": 0,
              "ticks": ""
             }
            },
            "type": "scatter3d"
           }
          ],
          "scattercarpet": [
           {
            "marker": {
             "colorbar": {
              "outlinewidth": 0,
              "ticks": ""
             }
            },
            "type": "scattercarpet"
           }
          ],
          "scattergeo": [
           {
            "marker": {
             "colorbar": {
              "outlinewidth": 0,
              "ticks": ""
             }
            },
            "type": "scattergeo"
           }
          ],
          "scattergl": [
           {
            "marker": {
             "colorbar": {
              "outlinewidth": 0,
              "ticks": ""
             }
            },
            "type": "scattergl"
           }
          ],
          "scattermapbox": [
           {
            "marker": {
             "colorbar": {
              "outlinewidth": 0,
              "ticks": ""
             }
            },
            "type": "scattermapbox"
           }
          ],
          "scatterpolar": [
           {
            "marker": {
             "colorbar": {
              "outlinewidth": 0,
              "ticks": ""
             }
            },
            "type": "scatterpolar"
           }
          ],
          "scatterpolargl": [
           {
            "marker": {
             "colorbar": {
              "outlinewidth": 0,
              "ticks": ""
             }
            },
            "type": "scatterpolargl"
           }
          ],
          "scatterternary": [
           {
            "marker": {
             "colorbar": {
              "outlinewidth": 0,
              "ticks": ""
             }
            },
            "type": "scatterternary"
           }
          ],
          "surface": [
           {
            "colorbar": {
             "outlinewidth": 0,
             "ticks": ""
            },
            "colorscale": [
             [
              0,
              "#0d0887"
             ],
             [
              0.1111111111111111,
              "#46039f"
             ],
             [
              0.2222222222222222,
              "#7201a8"
             ],
             [
              0.3333333333333333,
              "#9c179e"
             ],
             [
              0.4444444444444444,
              "#bd3786"
             ],
             [
              0.5555555555555556,
              "#d8576b"
             ],
             [
              0.6666666666666666,
              "#ed7953"
             ],
             [
              0.7777777777777778,
              "#fb9f3a"
             ],
             [
              0.8888888888888888,
              "#fdca26"
             ],
             [
              1,
              "#f0f921"
             ]
            ],
            "type": "surface"
           }
          ],
          "table": [
           {
            "cells": {
             "fill": {
              "color": "#EBF0F8"
             },
             "line": {
              "color": "white"
             }
            },
            "header": {
             "fill": {
              "color": "#C8D4E3"
             },
             "line": {
              "color": "white"
             }
            },
            "type": "table"
           }
          ]
         },
         "layout": {
          "annotationdefaults": {
           "arrowcolor": "#2a3f5f",
           "arrowhead": 0,
           "arrowwidth": 1
          },
          "coloraxis": {
           "colorbar": {
            "outlinewidth": 0,
            "ticks": ""
           }
          },
          "colorscale": {
           "diverging": [
            [
             0,
             "#8e0152"
            ],
            [
             0.1,
             "#c51b7d"
            ],
            [
             0.2,
             "#de77ae"
            ],
            [
             0.3,
             "#f1b6da"
            ],
            [
             0.4,
             "#fde0ef"
            ],
            [
             0.5,
             "#f7f7f7"
            ],
            [
             0.6,
             "#e6f5d0"
            ],
            [
             0.7,
             "#b8e186"
            ],
            [
             0.8,
             "#7fbc41"
            ],
            [
             0.9,
             "#4d9221"
            ],
            [
             1,
             "#276419"
            ]
           ],
           "sequential": [
            [
             0,
             "#0d0887"
            ],
            [
             0.1111111111111111,
             "#46039f"
            ],
            [
             0.2222222222222222,
             "#7201a8"
            ],
            [
             0.3333333333333333,
             "#9c179e"
            ],
            [
             0.4444444444444444,
             "#bd3786"
            ],
            [
             0.5555555555555556,
             "#d8576b"
            ],
            [
             0.6666666666666666,
             "#ed7953"
            ],
            [
             0.7777777777777778,
             "#fb9f3a"
            ],
            [
             0.8888888888888888,
             "#fdca26"
            ],
            [
             1,
             "#f0f921"
            ]
           ],
           "sequentialminus": [
            [
             0,
             "#0d0887"
            ],
            [
             0.1111111111111111,
             "#46039f"
            ],
            [
             0.2222222222222222,
             "#7201a8"
            ],
            [
             0.3333333333333333,
             "#9c179e"
            ],
            [
             0.4444444444444444,
             "#bd3786"
            ],
            [
             0.5555555555555556,
             "#d8576b"
            ],
            [
             0.6666666666666666,
             "#ed7953"
            ],
            [
             0.7777777777777778,
             "#fb9f3a"
            ],
            [
             0.8888888888888888,
             "#fdca26"
            ],
            [
             1,
             "#f0f921"
            ]
           ]
          },
          "colorway": [
           "#636efa",
           "#EF553B",
           "#00cc96",
           "#ab63fa",
           "#FFA15A",
           "#19d3f3",
           "#FF6692",
           "#B6E880",
           "#FF97FF",
           "#FECB52"
          ],
          "font": {
           "color": "#2a3f5f"
          },
          "geo": {
           "bgcolor": "white",
           "lakecolor": "white",
           "landcolor": "#E5ECF6",
           "showlakes": true,
           "showland": true,
           "subunitcolor": "white"
          },
          "hoverlabel": {
           "align": "left"
          },
          "hovermode": "closest",
          "mapbox": {
           "style": "light"
          },
          "paper_bgcolor": "white",
          "plot_bgcolor": "#E5ECF6",
          "polar": {
           "angularaxis": {
            "gridcolor": "white",
            "linecolor": "white",
            "ticks": ""
           },
           "bgcolor": "#E5ECF6",
           "radialaxis": {
            "gridcolor": "white",
            "linecolor": "white",
            "ticks": ""
           }
          },
          "scene": {
           "xaxis": {
            "backgroundcolor": "#E5ECF6",
            "gridcolor": "white",
            "gridwidth": 2,
            "linecolor": "white",
            "showbackground": true,
            "ticks": "",
            "zerolinecolor": "white"
           },
           "yaxis": {
            "backgroundcolor": "#E5ECF6",
            "gridcolor": "white",
            "gridwidth": 2,
            "linecolor": "white",
            "showbackground": true,
            "ticks": "",
            "zerolinecolor": "white"
           },
           "zaxis": {
            "backgroundcolor": "#E5ECF6",
            "gridcolor": "white",
            "gridwidth": 2,
            "linecolor": "white",
            "showbackground": true,
            "ticks": "",
            "zerolinecolor": "white"
           }
          },
          "shapedefaults": {
           "line": {
            "color": "#2a3f5f"
           }
          },
          "ternary": {
           "aaxis": {
            "gridcolor": "white",
            "linecolor": "white",
            "ticks": ""
           },
           "baxis": {
            "gridcolor": "white",
            "linecolor": "white",
            "ticks": ""
           },
           "bgcolor": "#E5ECF6",
           "caxis": {
            "gridcolor": "white",
            "linecolor": "white",
            "ticks": ""
           }
          },
          "title": {
           "x": 0.05
          },
          "xaxis": {
           "automargin": true,
           "gridcolor": "white",
           "linecolor": "white",
           "ticks": "",
           "title": {
            "standoff": 15
           },
           "zerolinecolor": "white",
           "zerolinewidth": 2
          },
          "yaxis": {
           "automargin": true,
           "gridcolor": "white",
           "linecolor": "white",
           "ticks": "",
           "title": {
            "standoff": 15
           },
           "zerolinecolor": "white",
           "zerolinewidth": 2
          }
         }
        },
        "title": {
         "text": "Popular Technologies in 2019 (Students vs Developers)"
        },
        "xaxis": {
         "title": {
          "text": "Programming Languages"
         }
        },
        "yaxis": {
         "title": {
          "text": " "
         }
        }
       }
      },
      "text/html": [
       "<div>\n",
       "        \n",
       "        \n",
       "            <div id=\"b1635e00-1274-4c6f-a0b8-243a94e426e3\" class=\"plotly-graph-div\" style=\"height:525px; width:100%;\"></div>\n",
       "            <script type=\"text/javascript\">\n",
       "                require([\"plotly\"], function(Plotly) {\n",
       "                    window.PLOTLYENV=window.PLOTLYENV || {};\n",
       "                    \n",
       "                if (document.getElementById(\"b1635e00-1274-4c6f-a0b8-243a94e426e3\")) {\n",
       "                    Plotly.newPlot(\n",
       "                        'b1635e00-1274-4c6f-a0b8-243a94e426e3',\n",
       "                        [{\"name\": \"Developers\", \"type\": \"bar\", \"x\": [\"JavaScript\", \"HTML/CSS\", \"SQL\", \"Java\", \"Python\", \"C#\", \"C++\"], \"y\": [0.22177657468690504, 0.19799505850895469, 0.1759047983484271, 0.12447266353926029, 0.11472668263439108, 0.10231154069643844, 0.06281268158562338]}, {\"name\": \"Students\", \"type\": \"bar\", \"x\": [\"JavaScript\", \"HTML/CSS\", \"SQL\", \"Java\", \"Python\", \"C#\", \"C++\"], \"y\": [0.16347211766749667, 0.19010944466963925, 0.12997278360067172, 0.16161908622386936, 0.1555967340320806, 0.07553998494411952, 0.12368984886212288]}],\n",
       "                        {\"barmode\": \"group\", \"template\": {\"data\": {\"bar\": [{\"error_x\": {\"color\": \"#2a3f5f\"}, \"error_y\": {\"color\": \"#2a3f5f\"}, \"marker\": {\"line\": {\"color\": \"#E5ECF6\", \"width\": 0.5}}, \"type\": \"bar\"}], \"barpolar\": [{\"marker\": {\"line\": {\"color\": \"#E5ECF6\", \"width\": 0.5}}, \"type\": \"barpolar\"}], \"carpet\": [{\"aaxis\": {\"endlinecolor\": \"#2a3f5f\", \"gridcolor\": \"white\", \"linecolor\": \"white\", \"minorgridcolor\": \"white\", \"startlinecolor\": \"#2a3f5f\"}, \"baxis\": {\"endlinecolor\": \"#2a3f5f\", \"gridcolor\": \"white\", \"linecolor\": \"white\", \"minorgridcolor\": \"white\", \"startlinecolor\": \"#2a3f5f\"}, \"type\": \"carpet\"}], \"choropleth\": [{\"colorbar\": {\"outlinewidth\": 0, \"ticks\": \"\"}, \"type\": \"choropleth\"}], \"contour\": [{\"colorbar\": {\"outlinewidth\": 0, \"ticks\": \"\"}, \"colorscale\": [[0.0, \"#0d0887\"], [0.1111111111111111, \"#46039f\"], [0.2222222222222222, \"#7201a8\"], [0.3333333333333333, \"#9c179e\"], [0.4444444444444444, \"#bd3786\"], [0.5555555555555556, \"#d8576b\"], [0.6666666666666666, \"#ed7953\"], [0.7777777777777778, \"#fb9f3a\"], [0.8888888888888888, \"#fdca26\"], [1.0, \"#f0f921\"]], \"type\": \"contour\"}], \"contourcarpet\": [{\"colorbar\": {\"outlinewidth\": 0, \"ticks\": \"\"}, \"type\": \"contourcarpet\"}], \"heatmap\": [{\"colorbar\": {\"outlinewidth\": 0, \"ticks\": \"\"}, \"colorscale\": [[0.0, \"#0d0887\"], [0.1111111111111111, \"#46039f\"], [0.2222222222222222, \"#7201a8\"], [0.3333333333333333, \"#9c179e\"], [0.4444444444444444, \"#bd3786\"], [0.5555555555555556, \"#d8576b\"], [0.6666666666666666, \"#ed7953\"], [0.7777777777777778, \"#fb9f3a\"], [0.8888888888888888, \"#fdca26\"], [1.0, \"#f0f921\"]], \"type\": \"heatmap\"}], \"heatmapgl\": [{\"colorbar\": {\"outlinewidth\": 0, \"ticks\": \"\"}, \"colorscale\": [[0.0, \"#0d0887\"], [0.1111111111111111, \"#46039f\"], [0.2222222222222222, \"#7201a8\"], [0.3333333333333333, \"#9c179e\"], [0.4444444444444444, \"#bd3786\"], [0.5555555555555556, \"#d8576b\"], [0.6666666666666666, \"#ed7953\"], [0.7777777777777778, \"#fb9f3a\"], [0.8888888888888888, \"#fdca26\"], [1.0, \"#f0f921\"]], \"type\": \"heatmapgl\"}], \"histogram\": [{\"marker\": {\"colorbar\": {\"outlinewidth\": 0, \"ticks\": \"\"}}, \"type\": \"histogram\"}], \"histogram2d\": [{\"colorbar\": {\"outlinewidth\": 0, \"ticks\": \"\"}, \"colorscale\": [[0.0, \"#0d0887\"], [0.1111111111111111, \"#46039f\"], [0.2222222222222222, \"#7201a8\"], [0.3333333333333333, \"#9c179e\"], [0.4444444444444444, \"#bd3786\"], [0.5555555555555556, \"#d8576b\"], [0.6666666666666666, \"#ed7953\"], [0.7777777777777778, \"#fb9f3a\"], [0.8888888888888888, \"#fdca26\"], [1.0, \"#f0f921\"]], \"type\": \"histogram2d\"}], \"histogram2dcontour\": [{\"colorbar\": {\"outlinewidth\": 0, \"ticks\": \"\"}, \"colorscale\": [[0.0, \"#0d0887\"], [0.1111111111111111, \"#46039f\"], [0.2222222222222222, \"#7201a8\"], [0.3333333333333333, \"#9c179e\"], [0.4444444444444444, \"#bd3786\"], [0.5555555555555556, \"#d8576b\"], [0.6666666666666666, \"#ed7953\"], [0.7777777777777778, \"#fb9f3a\"], [0.8888888888888888, \"#fdca26\"], [1.0, \"#f0f921\"]], \"type\": \"histogram2dcontour\"}], \"mesh3d\": [{\"colorbar\": {\"outlinewidth\": 0, \"ticks\": \"\"}, \"type\": \"mesh3d\"}], \"parcoords\": [{\"line\": {\"colorbar\": {\"outlinewidth\": 0, \"ticks\": \"\"}}, \"type\": \"parcoords\"}], \"pie\": [{\"automargin\": true, \"type\": \"pie\"}], \"scatter\": [{\"marker\": {\"colorbar\": {\"outlinewidth\": 0, \"ticks\": \"\"}}, \"type\": \"scatter\"}], \"scatter3d\": [{\"line\": {\"colorbar\": {\"outlinewidth\": 0, \"ticks\": \"\"}}, \"marker\": {\"colorbar\": {\"outlinewidth\": 0, \"ticks\": \"\"}}, \"type\": \"scatter3d\"}], \"scattercarpet\": [{\"marker\": {\"colorbar\": {\"outlinewidth\": 0, \"ticks\": \"\"}}, \"type\": \"scattercarpet\"}], \"scattergeo\": [{\"marker\": {\"colorbar\": {\"outlinewidth\": 0, \"ticks\": \"\"}}, \"type\": \"scattergeo\"}], \"scattergl\": [{\"marker\": {\"colorbar\": {\"outlinewidth\": 0, \"ticks\": \"\"}}, \"type\": \"scattergl\"}], \"scattermapbox\": [{\"marker\": {\"colorbar\": {\"outlinewidth\": 0, \"ticks\": \"\"}}, \"type\": \"scattermapbox\"}], \"scatterpolar\": [{\"marker\": {\"colorbar\": {\"outlinewidth\": 0, \"ticks\": \"\"}}, \"type\": \"scatterpolar\"}], \"scatterpolargl\": [{\"marker\": {\"colorbar\": {\"outlinewidth\": 0, \"ticks\": \"\"}}, \"type\": \"scatterpolargl\"}], \"scatterternary\": [{\"marker\": {\"colorbar\": {\"outlinewidth\": 0, \"ticks\": \"\"}}, \"type\": \"scatterternary\"}], \"surface\": [{\"colorbar\": {\"outlinewidth\": 0, \"ticks\": \"\"}, \"colorscale\": [[0.0, \"#0d0887\"], [0.1111111111111111, \"#46039f\"], [0.2222222222222222, \"#7201a8\"], [0.3333333333333333, \"#9c179e\"], [0.4444444444444444, \"#bd3786\"], [0.5555555555555556, \"#d8576b\"], [0.6666666666666666, \"#ed7953\"], [0.7777777777777778, \"#fb9f3a\"], [0.8888888888888888, \"#fdca26\"], [1.0, \"#f0f921\"]], \"type\": \"surface\"}], \"table\": [{\"cells\": {\"fill\": {\"color\": \"#EBF0F8\"}, \"line\": {\"color\": \"white\"}}, \"header\": {\"fill\": {\"color\": \"#C8D4E3\"}, \"line\": {\"color\": \"white\"}}, \"type\": \"table\"}]}, \"layout\": {\"annotationdefaults\": {\"arrowcolor\": \"#2a3f5f\", \"arrowhead\": 0, \"arrowwidth\": 1}, \"coloraxis\": {\"colorbar\": {\"outlinewidth\": 0, \"ticks\": \"\"}}, \"colorscale\": {\"diverging\": [[0, \"#8e0152\"], [0.1, \"#c51b7d\"], [0.2, \"#de77ae\"], [0.3, \"#f1b6da\"], [0.4, \"#fde0ef\"], [0.5, \"#f7f7f7\"], [0.6, \"#e6f5d0\"], [0.7, \"#b8e186\"], [0.8, \"#7fbc41\"], [0.9, \"#4d9221\"], [1, \"#276419\"]], \"sequential\": [[0.0, \"#0d0887\"], [0.1111111111111111, \"#46039f\"], [0.2222222222222222, \"#7201a8\"], [0.3333333333333333, \"#9c179e\"], [0.4444444444444444, \"#bd3786\"], [0.5555555555555556, \"#d8576b\"], [0.6666666666666666, \"#ed7953\"], [0.7777777777777778, \"#fb9f3a\"], [0.8888888888888888, \"#fdca26\"], [1.0, \"#f0f921\"]], \"sequentialminus\": [[0.0, \"#0d0887\"], [0.1111111111111111, \"#46039f\"], [0.2222222222222222, \"#7201a8\"], [0.3333333333333333, \"#9c179e\"], [0.4444444444444444, \"#bd3786\"], [0.5555555555555556, \"#d8576b\"], [0.6666666666666666, \"#ed7953\"], [0.7777777777777778, \"#fb9f3a\"], [0.8888888888888888, \"#fdca26\"], [1.0, \"#f0f921\"]]}, \"colorway\": [\"#636efa\", \"#EF553B\", \"#00cc96\", \"#ab63fa\", \"#FFA15A\", \"#19d3f3\", \"#FF6692\", \"#B6E880\", \"#FF97FF\", \"#FECB52\"], \"font\": {\"color\": \"#2a3f5f\"}, \"geo\": {\"bgcolor\": \"white\", \"lakecolor\": \"white\", \"landcolor\": \"#E5ECF6\", \"showlakes\": true, \"showland\": true, \"subunitcolor\": \"white\"}, \"hoverlabel\": {\"align\": \"left\"}, \"hovermode\": \"closest\", \"mapbox\": {\"style\": \"light\"}, \"paper_bgcolor\": \"white\", \"plot_bgcolor\": \"#E5ECF6\", \"polar\": {\"angularaxis\": {\"gridcolor\": \"white\", \"linecolor\": \"white\", \"ticks\": \"\"}, \"bgcolor\": \"#E5ECF6\", \"radialaxis\": {\"gridcolor\": \"white\", \"linecolor\": \"white\", \"ticks\": \"\"}}, \"scene\": {\"xaxis\": {\"backgroundcolor\": \"#E5ECF6\", \"gridcolor\": \"white\", \"gridwidth\": 2, \"linecolor\": \"white\", \"showbackground\": true, \"ticks\": \"\", \"zerolinecolor\": \"white\"}, \"yaxis\": {\"backgroundcolor\": \"#E5ECF6\", \"gridcolor\": \"white\", \"gridwidth\": 2, \"linecolor\": \"white\", \"showbackground\": true, \"ticks\": \"\", \"zerolinecolor\": \"white\"}, \"zaxis\": {\"backgroundcolor\": \"#E5ECF6\", \"gridcolor\": \"white\", \"gridwidth\": 2, \"linecolor\": \"white\", \"showbackground\": true, \"ticks\": \"\", \"zerolinecolor\": \"white\"}}, \"shapedefaults\": {\"line\": {\"color\": \"#2a3f5f\"}}, \"ternary\": {\"aaxis\": {\"gridcolor\": \"white\", \"linecolor\": \"white\", \"ticks\": \"\"}, \"baxis\": {\"gridcolor\": \"white\", \"linecolor\": \"white\", \"ticks\": \"\"}, \"bgcolor\": \"#E5ECF6\", \"caxis\": {\"gridcolor\": \"white\", \"linecolor\": \"white\", \"ticks\": \"\"}}, \"title\": {\"x\": 0.05}, \"xaxis\": {\"automargin\": true, \"gridcolor\": \"white\", \"linecolor\": \"white\", \"ticks\": \"\", \"title\": {\"standoff\": 15}, \"zerolinecolor\": \"white\", \"zerolinewidth\": 2}, \"yaxis\": {\"automargin\": true, \"gridcolor\": \"white\", \"linecolor\": \"white\", \"ticks\": \"\", \"title\": {\"standoff\": 15}, \"zerolinecolor\": \"white\", \"zerolinewidth\": 2}}}, \"title\": {\"text\": \"Popular Technologies in 2019 (Students vs Developers)\"}, \"xaxis\": {\"title\": {\"text\": \"Programming Languages\"}}, \"yaxis\": {\"title\": {\"text\": \" \"}}},\n",
       "                        {\"responsive\": true}\n",
       "                    ).then(function(){\n",
       "                            \n",
       "var gd = document.getElementById('b1635e00-1274-4c6f-a0b8-243a94e426e3');\n",
       "var x = new MutationObserver(function (mutations, observer) {{\n",
       "        var display = window.getComputedStyle(gd).display;\n",
       "        if (!display || display === 'none') {{\n",
       "            console.log([gd, 'removed!']);\n",
       "            Plotly.purge(gd);\n",
       "            observer.disconnect();\n",
       "        }}\n",
       "}});\n",
       "\n",
       "// Listen for the removal of the full notebook cells\n",
       "var notebookContainer = gd.closest('#notebook-container');\n",
       "if (notebookContainer) {{\n",
       "    x.observe(notebookContainer, {childList: true});\n",
       "}}\n",
       "\n",
       "// Listen for the clearing of the current output cell\n",
       "var outputEl = gd.closest('.output');\n",
       "if (outputEl) {{\n",
       "    x.observe(outputEl, {childList: true});\n",
       "}}\n",
       "\n",
       "                        })\n",
       "                };\n",
       "                });\n",
       "            </script>\n",
       "        </div>"
      ]
     },
     "metadata": {},
     "output_type": "display_data"
    }
   ],
   "source": [
    "x =['JavaScript',\"HTML/CSS\", 'SQL', 'Java',\"Python\",\"C#\",\"C++\"]\n",
    "\n",
    "fig = go.Figure(data=[\n",
    "    go.Bar(name='Developers', x=x, y=langs[\"Count%2019\"]),\n",
    "    go.Bar(name='Students', x=x, y=langs[\"Count%2019_stud\"])\n",
    "])\n",
    "# Change the bar mode\n",
    "fig.update_layout(barmode='group')\n",
    "fig.update_layout(\n",
    "    title=\"Popular Technologies in 2019 (Students vs Developers)\",\n",
    "    xaxis_title=\"Programming Languages\",\n",
    "    yaxis_title=\" \")\n",
    "fig.show()"
   ]
  },
  {
   "cell_type": "markdown",
   "metadata": {},
   "source": [
    "**Observations:**\n",
    "- 1) Many of the respondents knew more than 1 programming languages, that is why the total count of Technologies is more than the number of respondents.\n",
    "\n",
    "- 2) JavaScript was the top most technology in all the 4 years.\n",
    "\n",
    "- 3) The top 5 technologies are: JavaScript, HTML/CSS, SQL, Python,C#, C+,Java."
   ]
  },
  {
   "cell_type": "code",
   "execution_count": null,
   "metadata": {},
   "outputs": [],
   "source": []
  },
  {
   "cell_type": "markdown",
   "metadata": {},
   "source": [
    "# <a id='4.2'>4.2. Top Developer Roles  </a> "
   ]
  },
  {
   "cell_type": "markdown",
   "metadata": {},
   "source": [
    "## 1. Top Developer Roles in 2018 and 2019"
   ]
  },
  {
   "cell_type": "code",
   "execution_count": 537,
   "metadata": {},
   "outputs": [],
   "source": [
    "def developer_types(dataset,column,new_name_col1,year):\n",
    "    \n",
    "    temp = pd.DataFrame(dataset[column].dropna())\n",
    "    temp = pd.DataFrame(temp[column].apply(lambda x: pd.value_counts(x.split(\";\")))\n",
    "                             .sum(axis = 0)).reset_index()\n",
    "    new_name_col2 = (\"Count\"+str(year))\n",
    "    \n",
    "    '''\n",
    "    dataset = dataset you want to use \n",
    "    col = On the column you want to use this function\n",
    "    name_col1 = give new name to column one\n",
    "    name_col2 = give new name to column two (Preferably count)\n",
    "    '''\n",
    "    #Renaming columns\n",
    "    clean_data = temp.rename(columns={\"index\": new_name_col1,0:new_name_col2})\n",
    "    clean_data[\"New_column\"] = clean_data[new_name_col1].str.strip()\n",
    "    clean_data = clean_data.drop(columns=[new_name_col1])\n",
    "    clean_data = clean_data.sort_values(by=new_name_col2, ascending=False)\n",
    "    \n",
    "    \n",
    "    #Get values for these languages\n",
    "    value_list = ['Back-end developer', 'Full-stack developer',\"Front-end developer\", \n",
    "                  \"Developer, full-stack\", \"Developer, back-end\",\"Developer, front-end\"]\n",
    "    \n",
    "    \n",
    "    #Grab DataFrame rows where column has certain values\n",
    "    selected_rows = clean_data[clean_data['New_column'].isin(value_list)]\n",
    "    selected_rows = pd.DataFrame(selected_rows.groupby(['New_column']).sum().sort_values(by=new_name_col2,\n",
    "                                                        ascending = False)).reset_index()\n",
    "    selected_rows['year'+str(year)] = year\n",
    "    selected_rows[\"Count%\"+str(year)] = round((selected_rows[new_name_col2]/sum(selected_rows[new_name_col2]))*100,3)\n",
    " \n",
    "    return selected_rows"
   ]
  },
  {
   "cell_type": "markdown",
   "metadata": {},
   "source": [
    "**Problem with the data consistency "
   ]
  },
  {
   "cell_type": "code",
   "execution_count": 706,
   "metadata": {},
   "outputs": [],
   "source": [
    "developers_2018 = pd.DataFrame(survey_2018.DevType).dropna()\n",
    "developers_2019 = pd.DataFrame(survey_2019.DevType).dropna()"
   ]
  },
  {
   "cell_type": "code",
   "execution_count": 707,
   "metadata": {},
   "outputs": [],
   "source": [
    "dev_2018 = developer_types(developers_2018,\"DevType\",\"Developer\",2018)\n",
    "dev_2019 = developer_types(developers_2019,\"DevType\",\"Developer\",2019)"
   ]
  },
  {
   "cell_type": "code",
   "execution_count": 718,
   "metadata": {},
   "outputs": [],
   "source": [
    "dev_2019 = dev_2019.replace({\"Developer, full-stack\":\"Full-stack developer\",\n",
    "                             \"Developer, back-end\":\"Back-end developer\",\n",
    "                            \"Developer, front-end\":\"Front-end developer\"})"
   ]
  },
  {
   "cell_type": "code",
   "execution_count": 719,
   "metadata": {
    "collapsed": true
   },
   "outputs": [
    {
     "data": {
      "text/html": [
       "<div>\n",
       "<style scoped>\n",
       "    .dataframe tbody tr th:only-of-type {\n",
       "        vertical-align: middle;\n",
       "    }\n",
       "\n",
       "    .dataframe tbody tr th {\n",
       "        vertical-align: top;\n",
       "    }\n",
       "\n",
       "    .dataframe thead th {\n",
       "        text-align: right;\n",
       "    }\n",
       "</style>\n",
       "<table border=\"1\" class=\"dataframe\">\n",
       "  <thead>\n",
       "    <tr style=\"text-align: right;\">\n",
       "      <th></th>\n",
       "      <th>New_column</th>\n",
       "      <th>Count2018</th>\n",
       "      <th>year2018</th>\n",
       "      <th>Count%2018</th>\n",
       "    </tr>\n",
       "  </thead>\n",
       "  <tbody>\n",
       "    <tr>\n",
       "      <td>0</td>\n",
       "      <td>Back-end developer</td>\n",
       "      <td>53300.0</td>\n",
       "      <td>2018</td>\n",
       "      <td>40.234</td>\n",
       "    </tr>\n",
       "    <tr>\n",
       "      <td>1</td>\n",
       "      <td>Full-stack developer</td>\n",
       "      <td>44353.0</td>\n",
       "      <td>2018</td>\n",
       "      <td>33.480</td>\n",
       "    </tr>\n",
       "    <tr>\n",
       "      <td>2</td>\n",
       "      <td>Front-end developer</td>\n",
       "      <td>34822.0</td>\n",
       "      <td>2018</td>\n",
       "      <td>26.286</td>\n",
       "    </tr>\n",
       "  </tbody>\n",
       "</table>\n",
       "</div>"
      ],
      "text/plain": [
       "             New_column  Count2018  year2018  Count%2018\n",
       "0    Back-end developer    53300.0      2018      40.234\n",
       "1  Full-stack developer    44353.0      2018      33.480\n",
       "2   Front-end developer    34822.0      2018      26.286"
      ]
     },
     "execution_count": 719,
     "metadata": {},
     "output_type": "execute_result"
    }
   ],
   "source": [
    "dev_2018"
   ]
  },
  {
   "cell_type": "code",
   "execution_count": 720,
   "metadata": {
    "collapsed": true
   },
   "outputs": [
    {
     "data": {
      "text/html": [
       "<div>\n",
       "<style scoped>\n",
       "    .dataframe tbody tr th:only-of-type {\n",
       "        vertical-align: middle;\n",
       "    }\n",
       "\n",
       "    .dataframe tbody tr th {\n",
       "        vertical-align: top;\n",
       "    }\n",
       "\n",
       "    .dataframe thead th {\n",
       "        text-align: right;\n",
       "    }\n",
       "</style>\n",
       "<table border=\"1\" class=\"dataframe\">\n",
       "  <thead>\n",
       "    <tr style=\"text-align: right;\">\n",
       "      <th></th>\n",
       "      <th>New_column</th>\n",
       "      <th>Count2019</th>\n",
       "      <th>year2019</th>\n",
       "      <th>Count%2019</th>\n",
       "    </tr>\n",
       "  </thead>\n",
       "  <tbody>\n",
       "    <tr>\n",
       "      <td>0</td>\n",
       "      <td>Full-stack developer</td>\n",
       "      <td>42222.0</td>\n",
       "      <td>2019</td>\n",
       "      <td>38.546</td>\n",
       "    </tr>\n",
       "    <tr>\n",
       "      <td>1</td>\n",
       "      <td>Back-end developer</td>\n",
       "      <td>40665.0</td>\n",
       "      <td>2019</td>\n",
       "      <td>37.125</td>\n",
       "    </tr>\n",
       "    <tr>\n",
       "      <td>2</td>\n",
       "      <td>Front-end developer</td>\n",
       "      <td>26649.0</td>\n",
       "      <td>2019</td>\n",
       "      <td>24.329</td>\n",
       "    </tr>\n",
       "  </tbody>\n",
       "</table>\n",
       "</div>"
      ],
      "text/plain": [
       "             New_column  Count2019  year2019  Count%2019\n",
       "0  Full-stack developer    42222.0      2019      38.546\n",
       "1    Back-end developer    40665.0      2019      37.125\n",
       "2   Front-end developer    26649.0      2019      24.329"
      ]
     },
     "execution_count": 720,
     "metadata": {},
     "output_type": "execute_result"
    }
   ],
   "source": [
    "dev_2019"
   ]
  },
  {
   "cell_type": "code",
   "execution_count": 721,
   "metadata": {
    "collapsed": true
   },
   "outputs": [
    {
     "data": {
      "text/html": [
       "<div>\n",
       "<style scoped>\n",
       "    .dataframe tbody tr th:only-of-type {\n",
       "        vertical-align: middle;\n",
       "    }\n",
       "\n",
       "    .dataframe tbody tr th {\n",
       "        vertical-align: top;\n",
       "    }\n",
       "\n",
       "    .dataframe thead th {\n",
       "        text-align: right;\n",
       "    }\n",
       "</style>\n",
       "<table border=\"1\" class=\"dataframe\">\n",
       "  <thead>\n",
       "    <tr style=\"text-align: right;\">\n",
       "      <th></th>\n",
       "      <th>New_column</th>\n",
       "      <th>Count%2019</th>\n",
       "      <th>Count%2018</th>\n",
       "    </tr>\n",
       "  </thead>\n",
       "  <tbody>\n",
       "    <tr>\n",
       "      <td>0</td>\n",
       "      <td>Full-stack developer</td>\n",
       "      <td>38.546</td>\n",
       "      <td>33.480</td>\n",
       "    </tr>\n",
       "    <tr>\n",
       "      <td>1</td>\n",
       "      <td>Back-end developer</td>\n",
       "      <td>37.125</td>\n",
       "      <td>40.234</td>\n",
       "    </tr>\n",
       "    <tr>\n",
       "      <td>2</td>\n",
       "      <td>Front-end developer</td>\n",
       "      <td>24.329</td>\n",
       "      <td>26.286</td>\n",
       "    </tr>\n",
       "  </tbody>\n",
       "</table>\n",
       "</div>"
      ],
      "text/plain": [
       "             New_column  Count%2019  Count%2018\n",
       "0  Full-stack developer      38.546      33.480\n",
       "1    Back-end developer      37.125      40.234\n",
       "2   Front-end developer      24.329      26.286"
      ]
     },
     "execution_count": 721,
     "metadata": {},
     "output_type": "execute_result"
    }
   ],
   "source": [
    "dev_2018_2019 = pd.merge(dev_2019[[\"New_column\",\"Count%2019\"]],dev_2018[[\"New_column\",\"Count%2018\"]],\n",
    "                on=\"New_column\", how='left')\n",
    "#dev_2018_2019 = dev_2018_2019.dropna(subset=[\"Count%2019\",\"Count%2018\"]).rename(columns={\"New_column\": \"developers\"})\n",
    "dev_2018_2019"
   ]
  },
  {
   "cell_type": "code",
   "execution_count": 723,
   "metadata": {},
   "outputs": [
    {
     "data": {
      "application/vnd.plotly.v1+json": {
       "config": {
        "plotlyServerURL": "https://plot.ly"
       },
       "data": [
        {
         "domain": {
          "x": [
           0,
           0.45
          ],
          "y": [
           0,
           1
          ]
         },
         "labels": [
          "Full-stack developer",
          "Back-end developer",
          "Front-end developer"
         ],
         "name": "Top 10 Computer Programming Languages in 2018",
         "textinfo": "label+percent",
         "type": "pie",
         "values": [
          33.48,
          40.234,
          26.286
         ]
        },
        {
         "domain": {
          "x": [
           0.55,
           1
          ],
          "y": [
           0,
           1
          ]
         },
         "labels": [
          "Full-stack developer",
          "Back-end developer",
          "Front-end developer"
         ],
         "name": "Top 10 Computer Programming Languages in 2019",
         "textinfo": "label+percent",
         "type": "pie",
         "values": [
          38.546,
          37.125,
          24.329
         ]
        }
       ],
       "layout": {
        "annotations": [
         {
          "font": {
           "size": 16
          },
          "showarrow": false,
          "text": "2018",
          "x": 0.225,
          "xanchor": "center",
          "xref": "paper",
          "y": 1,
          "yanchor": "bottom",
          "yref": "paper"
         },
         {
          "font": {
           "size": 16
          },
          "showarrow": false,
          "text": "2019",
          "x": 0.775,
          "xanchor": "center",
          "xref": "paper",
          "y": 1,
          "yanchor": "bottom",
          "yref": "paper"
         }
        ],
        "template": {
         "data": {
          "bar": [
           {
            "error_x": {
             "color": "#2a3f5f"
            },
            "error_y": {
             "color": "#2a3f5f"
            },
            "marker": {
             "line": {
              "color": "#E5ECF6",
              "width": 0.5
             }
            },
            "type": "bar"
           }
          ],
          "barpolar": [
           {
            "marker": {
             "line": {
              "color": "#E5ECF6",
              "width": 0.5
             }
            },
            "type": "barpolar"
           }
          ],
          "carpet": [
           {
            "aaxis": {
             "endlinecolor": "#2a3f5f",
             "gridcolor": "white",
             "linecolor": "white",
             "minorgridcolor": "white",
             "startlinecolor": "#2a3f5f"
            },
            "baxis": {
             "endlinecolor": "#2a3f5f",
             "gridcolor": "white",
             "linecolor": "white",
             "minorgridcolor": "white",
             "startlinecolor": "#2a3f5f"
            },
            "type": "carpet"
           }
          ],
          "choropleth": [
           {
            "colorbar": {
             "outlinewidth": 0,
             "ticks": ""
            },
            "type": "choropleth"
           }
          ],
          "contour": [
           {
            "colorbar": {
             "outlinewidth": 0,
             "ticks": ""
            },
            "colorscale": [
             [
              0,
              "#0d0887"
             ],
             [
              0.1111111111111111,
              "#46039f"
             ],
             [
              0.2222222222222222,
              "#7201a8"
             ],
             [
              0.3333333333333333,
              "#9c179e"
             ],
             [
              0.4444444444444444,
              "#bd3786"
             ],
             [
              0.5555555555555556,
              "#d8576b"
             ],
             [
              0.6666666666666666,
              "#ed7953"
             ],
             [
              0.7777777777777778,
              "#fb9f3a"
             ],
             [
              0.8888888888888888,
              "#fdca26"
             ],
             [
              1,
              "#f0f921"
             ]
            ],
            "type": "contour"
           }
          ],
          "contourcarpet": [
           {
            "colorbar": {
             "outlinewidth": 0,
             "ticks": ""
            },
            "type": "contourcarpet"
           }
          ],
          "heatmap": [
           {
            "colorbar": {
             "outlinewidth": 0,
             "ticks": ""
            },
            "colorscale": [
             [
              0,
              "#0d0887"
             ],
             [
              0.1111111111111111,
              "#46039f"
             ],
             [
              0.2222222222222222,
              "#7201a8"
             ],
             [
              0.3333333333333333,
              "#9c179e"
             ],
             [
              0.4444444444444444,
              "#bd3786"
             ],
             [
              0.5555555555555556,
              "#d8576b"
             ],
             [
              0.6666666666666666,
              "#ed7953"
             ],
             [
              0.7777777777777778,
              "#fb9f3a"
             ],
             [
              0.8888888888888888,
              "#fdca26"
             ],
             [
              1,
              "#f0f921"
             ]
            ],
            "type": "heatmap"
           }
          ],
          "heatmapgl": [
           {
            "colorbar": {
             "outlinewidth": 0,
             "ticks": ""
            },
            "colorscale": [
             [
              0,
              "#0d0887"
             ],
             [
              0.1111111111111111,
              "#46039f"
             ],
             [
              0.2222222222222222,
              "#7201a8"
             ],
             [
              0.3333333333333333,
              "#9c179e"
             ],
             [
              0.4444444444444444,
              "#bd3786"
             ],
             [
              0.5555555555555556,
              "#d8576b"
             ],
             [
              0.6666666666666666,
              "#ed7953"
             ],
             [
              0.7777777777777778,
              "#fb9f3a"
             ],
             [
              0.8888888888888888,
              "#fdca26"
             ],
             [
              1,
              "#f0f921"
             ]
            ],
            "type": "heatmapgl"
           }
          ],
          "histogram": [
           {
            "marker": {
             "colorbar": {
              "outlinewidth": 0,
              "ticks": ""
             }
            },
            "type": "histogram"
           }
          ],
          "histogram2d": [
           {
            "colorbar": {
             "outlinewidth": 0,
             "ticks": ""
            },
            "colorscale": [
             [
              0,
              "#0d0887"
             ],
             [
              0.1111111111111111,
              "#46039f"
             ],
             [
              0.2222222222222222,
              "#7201a8"
             ],
             [
              0.3333333333333333,
              "#9c179e"
             ],
             [
              0.4444444444444444,
              "#bd3786"
             ],
             [
              0.5555555555555556,
              "#d8576b"
             ],
             [
              0.6666666666666666,
              "#ed7953"
             ],
             [
              0.7777777777777778,
              "#fb9f3a"
             ],
             [
              0.8888888888888888,
              "#fdca26"
             ],
             [
              1,
              "#f0f921"
             ]
            ],
            "type": "histogram2d"
           }
          ],
          "histogram2dcontour": [
           {
            "colorbar": {
             "outlinewidth": 0,
             "ticks": ""
            },
            "colorscale": [
             [
              0,
              "#0d0887"
             ],
             [
              0.1111111111111111,
              "#46039f"
             ],
             [
              0.2222222222222222,
              "#7201a8"
             ],
             [
              0.3333333333333333,
              "#9c179e"
             ],
             [
              0.4444444444444444,
              "#bd3786"
             ],
             [
              0.5555555555555556,
              "#d8576b"
             ],
             [
              0.6666666666666666,
              "#ed7953"
             ],
             [
              0.7777777777777778,
              "#fb9f3a"
             ],
             [
              0.8888888888888888,
              "#fdca26"
             ],
             [
              1,
              "#f0f921"
             ]
            ],
            "type": "histogram2dcontour"
           }
          ],
          "mesh3d": [
           {
            "colorbar": {
             "outlinewidth": 0,
             "ticks": ""
            },
            "type": "mesh3d"
           }
          ],
          "parcoords": [
           {
            "line": {
             "colorbar": {
              "outlinewidth": 0,
              "ticks": ""
             }
            },
            "type": "parcoords"
           }
          ],
          "pie": [
           {
            "automargin": true,
            "type": "pie"
           }
          ],
          "scatter": [
           {
            "marker": {
             "colorbar": {
              "outlinewidth": 0,
              "ticks": ""
             }
            },
            "type": "scatter"
           }
          ],
          "scatter3d": [
           {
            "line": {
             "colorbar": {
              "outlinewidth": 0,
              "ticks": ""
             }
            },
            "marker": {
             "colorbar": {
              "outlinewidth": 0,
              "ticks": ""
             }
            },
            "type": "scatter3d"
           }
          ],
          "scattercarpet": [
           {
            "marker": {
             "colorbar": {
              "outlinewidth": 0,
              "ticks": ""
             }
            },
            "type": "scattercarpet"
           }
          ],
          "scattergeo": [
           {
            "marker": {
             "colorbar": {
              "outlinewidth": 0,
              "ticks": ""
             }
            },
            "type": "scattergeo"
           }
          ],
          "scattergl": [
           {
            "marker": {
             "colorbar": {
              "outlinewidth": 0,
              "ticks": ""
             }
            },
            "type": "scattergl"
           }
          ],
          "scattermapbox": [
           {
            "marker": {
             "colorbar": {
              "outlinewidth": 0,
              "ticks": ""
             }
            },
            "type": "scattermapbox"
           }
          ],
          "scatterpolar": [
           {
            "marker": {
             "colorbar": {
              "outlinewidth": 0,
              "ticks": ""
             }
            },
            "type": "scatterpolar"
           }
          ],
          "scatterpolargl": [
           {
            "marker": {
             "colorbar": {
              "outlinewidth": 0,
              "ticks": ""
             }
            },
            "type": "scatterpolargl"
           }
          ],
          "scatterternary": [
           {
            "marker": {
             "colorbar": {
              "outlinewidth": 0,
              "ticks": ""
             }
            },
            "type": "scatterternary"
           }
          ],
          "surface": [
           {
            "colorbar": {
             "outlinewidth": 0,
             "ticks": ""
            },
            "colorscale": [
             [
              0,
              "#0d0887"
             ],
             [
              0.1111111111111111,
              "#46039f"
             ],
             [
              0.2222222222222222,
              "#7201a8"
             ],
             [
              0.3333333333333333,
              "#9c179e"
             ],
             [
              0.4444444444444444,
              "#bd3786"
             ],
             [
              0.5555555555555556,
              "#d8576b"
             ],
             [
              0.6666666666666666,
              "#ed7953"
             ],
             [
              0.7777777777777778,
              "#fb9f3a"
             ],
             [
              0.8888888888888888,
              "#fdca26"
             ],
             [
              1,
              "#f0f921"
             ]
            ],
            "type": "surface"
           }
          ],
          "table": [
           {
            "cells": {
             "fill": {
              "color": "#EBF0F8"
             },
             "line": {
              "color": "white"
             }
            },
            "header": {
             "fill": {
              "color": "#C8D4E3"
             },
             "line": {
              "color": "white"
             }
            },
            "type": "table"
           }
          ]
         },
         "layout": {
          "annotationdefaults": {
           "arrowcolor": "#2a3f5f",
           "arrowhead": 0,
           "arrowwidth": 1
          },
          "coloraxis": {
           "colorbar": {
            "outlinewidth": 0,
            "ticks": ""
           }
          },
          "colorscale": {
           "diverging": [
            [
             0,
             "#8e0152"
            ],
            [
             0.1,
             "#c51b7d"
            ],
            [
             0.2,
             "#de77ae"
            ],
            [
             0.3,
             "#f1b6da"
            ],
            [
             0.4,
             "#fde0ef"
            ],
            [
             0.5,
             "#f7f7f7"
            ],
            [
             0.6,
             "#e6f5d0"
            ],
            [
             0.7,
             "#b8e186"
            ],
            [
             0.8,
             "#7fbc41"
            ],
            [
             0.9,
             "#4d9221"
            ],
            [
             1,
             "#276419"
            ]
           ],
           "sequential": [
            [
             0,
             "#0d0887"
            ],
            [
             0.1111111111111111,
             "#46039f"
            ],
            [
             0.2222222222222222,
             "#7201a8"
            ],
            [
             0.3333333333333333,
             "#9c179e"
            ],
            [
             0.4444444444444444,
             "#bd3786"
            ],
            [
             0.5555555555555556,
             "#d8576b"
            ],
            [
             0.6666666666666666,
             "#ed7953"
            ],
            [
             0.7777777777777778,
             "#fb9f3a"
            ],
            [
             0.8888888888888888,
             "#fdca26"
            ],
            [
             1,
             "#f0f921"
            ]
           ],
           "sequentialminus": [
            [
             0,
             "#0d0887"
            ],
            [
             0.1111111111111111,
             "#46039f"
            ],
            [
             0.2222222222222222,
             "#7201a8"
            ],
            [
             0.3333333333333333,
             "#9c179e"
            ],
            [
             0.4444444444444444,
             "#bd3786"
            ],
            [
             0.5555555555555556,
             "#d8576b"
            ],
            [
             0.6666666666666666,
             "#ed7953"
            ],
            [
             0.7777777777777778,
             "#fb9f3a"
            ],
            [
             0.8888888888888888,
             "#fdca26"
            ],
            [
             1,
             "#f0f921"
            ]
           ]
          },
          "colorway": [
           "#636efa",
           "#EF553B",
           "#00cc96",
           "#ab63fa",
           "#FFA15A",
           "#19d3f3",
           "#FF6692",
           "#B6E880",
           "#FF97FF",
           "#FECB52"
          ],
          "font": {
           "color": "#2a3f5f"
          },
          "geo": {
           "bgcolor": "white",
           "lakecolor": "white",
           "landcolor": "#E5ECF6",
           "showlakes": true,
           "showland": true,
           "subunitcolor": "white"
          },
          "hoverlabel": {
           "align": "left"
          },
          "hovermode": "closest",
          "mapbox": {
           "style": "light"
          },
          "paper_bgcolor": "white",
          "plot_bgcolor": "#E5ECF6",
          "polar": {
           "angularaxis": {
            "gridcolor": "white",
            "linecolor": "white",
            "ticks": ""
           },
           "bgcolor": "#E5ECF6",
           "radialaxis": {
            "gridcolor": "white",
            "linecolor": "white",
            "ticks": ""
           }
          },
          "scene": {
           "xaxis": {
            "backgroundcolor": "#E5ECF6",
            "gridcolor": "white",
            "gridwidth": 2,
            "linecolor": "white",
            "showbackground": true,
            "ticks": "",
            "zerolinecolor": "white"
           },
           "yaxis": {
            "backgroundcolor": "#E5ECF6",
            "gridcolor": "white",
            "gridwidth": 2,
            "linecolor": "white",
            "showbackground": true,
            "ticks": "",
            "zerolinecolor": "white"
           },
           "zaxis": {
            "backgroundcolor": "#E5ECF6",
            "gridcolor": "white",
            "gridwidth": 2,
            "linecolor": "white",
            "showbackground": true,
            "ticks": "",
            "zerolinecolor": "white"
           }
          },
          "shapedefaults": {
           "line": {
            "color": "#2a3f5f"
           }
          },
          "ternary": {
           "aaxis": {
            "gridcolor": "white",
            "linecolor": "white",
            "ticks": ""
           },
           "baxis": {
            "gridcolor": "white",
            "linecolor": "white",
            "ticks": ""
           },
           "bgcolor": "#E5ECF6",
           "caxis": {
            "gridcolor": "white",
            "linecolor": "white",
            "ticks": ""
           }
          },
          "title": {
           "x": 0.05
          },
          "xaxis": {
           "automargin": true,
           "gridcolor": "white",
           "linecolor": "white",
           "ticks": "",
           "title": {
            "standoff": 15
           },
           "zerolinecolor": "white",
           "zerolinewidth": 2
          },
          "yaxis": {
           "automargin": true,
           "gridcolor": "white",
           "linecolor": "white",
           "ticks": "",
           "title": {
            "standoff": 15
           },
           "zerolinecolor": "white",
           "zerolinewidth": 2
          }
         }
        },
        "title": {
         "text": "Top 3 Developer Roles in 2018 and 2019"
        }
       }
      },
      "text/html": [
       "<div>\n",
       "        \n",
       "        \n",
       "            <div id=\"769bf1af-dac2-4fa6-b82e-6e97fe942994\" class=\"plotly-graph-div\" style=\"height:525px; width:100%;\"></div>\n",
       "            <script type=\"text/javascript\">\n",
       "                require([\"plotly\"], function(Plotly) {\n",
       "                    window.PLOTLYENV=window.PLOTLYENV || {};\n",
       "                    \n",
       "                if (document.getElementById(\"769bf1af-dac2-4fa6-b82e-6e97fe942994\")) {\n",
       "                    Plotly.newPlot(\n",
       "                        '769bf1af-dac2-4fa6-b82e-6e97fe942994',\n",
       "                        [{\"domain\": {\"x\": [0.0, 0.45], \"y\": [0.0, 1.0]}, \"labels\": [\"Full-stack developer\", \"Back-end developer\", \"Front-end developer\"], \"name\": \"Top 10 Computer Programming Languages in 2018\", \"textinfo\": \"label+percent\", \"type\": \"pie\", \"values\": [33.48, 40.234, 26.286]}, {\"domain\": {\"x\": [0.55, 1.0], \"y\": [0.0, 1.0]}, \"labels\": [\"Full-stack developer\", \"Back-end developer\", \"Front-end developer\"], \"name\": \"Top 10 Computer Programming Languages in 2019\", \"textinfo\": \"label+percent\", \"type\": \"pie\", \"values\": [38.546, 37.125, 24.329]}],\n",
       "                        {\"annotations\": [{\"font\": {\"size\": 16}, \"showarrow\": false, \"text\": \"2018\", \"x\": 0.225, \"xanchor\": \"center\", \"xref\": \"paper\", \"y\": 1.0, \"yanchor\": \"bottom\", \"yref\": \"paper\"}, {\"font\": {\"size\": 16}, \"showarrow\": false, \"text\": \"2019\", \"x\": 0.775, \"xanchor\": \"center\", \"xref\": \"paper\", \"y\": 1.0, \"yanchor\": \"bottom\", \"yref\": \"paper\"}], \"template\": {\"data\": {\"bar\": [{\"error_x\": {\"color\": \"#2a3f5f\"}, \"error_y\": {\"color\": \"#2a3f5f\"}, \"marker\": {\"line\": {\"color\": \"#E5ECF6\", \"width\": 0.5}}, \"type\": \"bar\"}], \"barpolar\": [{\"marker\": {\"line\": {\"color\": \"#E5ECF6\", \"width\": 0.5}}, \"type\": \"barpolar\"}], \"carpet\": [{\"aaxis\": {\"endlinecolor\": \"#2a3f5f\", \"gridcolor\": \"white\", \"linecolor\": \"white\", \"minorgridcolor\": \"white\", \"startlinecolor\": \"#2a3f5f\"}, \"baxis\": {\"endlinecolor\": \"#2a3f5f\", \"gridcolor\": \"white\", \"linecolor\": \"white\", \"minorgridcolor\": \"white\", \"startlinecolor\": \"#2a3f5f\"}, \"type\": \"carpet\"}], \"choropleth\": [{\"colorbar\": {\"outlinewidth\": 0, \"ticks\": \"\"}, \"type\": \"choropleth\"}], \"contour\": [{\"colorbar\": {\"outlinewidth\": 0, \"ticks\": \"\"}, \"colorscale\": [[0.0, \"#0d0887\"], [0.1111111111111111, \"#46039f\"], [0.2222222222222222, \"#7201a8\"], [0.3333333333333333, \"#9c179e\"], [0.4444444444444444, \"#bd3786\"], [0.5555555555555556, \"#d8576b\"], [0.6666666666666666, \"#ed7953\"], [0.7777777777777778, \"#fb9f3a\"], [0.8888888888888888, \"#fdca26\"], [1.0, \"#f0f921\"]], \"type\": \"contour\"}], \"contourcarpet\": [{\"colorbar\": {\"outlinewidth\": 0, \"ticks\": \"\"}, \"type\": \"contourcarpet\"}], \"heatmap\": [{\"colorbar\": {\"outlinewidth\": 0, \"ticks\": \"\"}, \"colorscale\": [[0.0, \"#0d0887\"], [0.1111111111111111, \"#46039f\"], [0.2222222222222222, \"#7201a8\"], [0.3333333333333333, \"#9c179e\"], [0.4444444444444444, \"#bd3786\"], [0.5555555555555556, \"#d8576b\"], [0.6666666666666666, \"#ed7953\"], [0.7777777777777778, \"#fb9f3a\"], [0.8888888888888888, \"#fdca26\"], [1.0, \"#f0f921\"]], \"type\": \"heatmap\"}], \"heatmapgl\": [{\"colorbar\": {\"outlinewidth\": 0, \"ticks\": \"\"}, \"colorscale\": [[0.0, \"#0d0887\"], [0.1111111111111111, \"#46039f\"], [0.2222222222222222, \"#7201a8\"], [0.3333333333333333, \"#9c179e\"], [0.4444444444444444, \"#bd3786\"], [0.5555555555555556, \"#d8576b\"], [0.6666666666666666, \"#ed7953\"], [0.7777777777777778, \"#fb9f3a\"], [0.8888888888888888, \"#fdca26\"], [1.0, \"#f0f921\"]], \"type\": \"heatmapgl\"}], \"histogram\": [{\"marker\": {\"colorbar\": {\"outlinewidth\": 0, \"ticks\": \"\"}}, \"type\": \"histogram\"}], \"histogram2d\": [{\"colorbar\": {\"outlinewidth\": 0, \"ticks\": \"\"}, \"colorscale\": [[0.0, \"#0d0887\"], [0.1111111111111111, \"#46039f\"], [0.2222222222222222, \"#7201a8\"], [0.3333333333333333, \"#9c179e\"], [0.4444444444444444, \"#bd3786\"], [0.5555555555555556, \"#d8576b\"], [0.6666666666666666, \"#ed7953\"], [0.7777777777777778, \"#fb9f3a\"], [0.8888888888888888, \"#fdca26\"], [1.0, \"#f0f921\"]], \"type\": \"histogram2d\"}], \"histogram2dcontour\": [{\"colorbar\": {\"outlinewidth\": 0, \"ticks\": \"\"}, \"colorscale\": [[0.0, \"#0d0887\"], [0.1111111111111111, \"#46039f\"], [0.2222222222222222, \"#7201a8\"], [0.3333333333333333, \"#9c179e\"], [0.4444444444444444, \"#bd3786\"], [0.5555555555555556, \"#d8576b\"], [0.6666666666666666, \"#ed7953\"], [0.7777777777777778, \"#fb9f3a\"], [0.8888888888888888, \"#fdca26\"], [1.0, \"#f0f921\"]], \"type\": \"histogram2dcontour\"}], \"mesh3d\": [{\"colorbar\": {\"outlinewidth\": 0, \"ticks\": \"\"}, \"type\": \"mesh3d\"}], \"parcoords\": [{\"line\": {\"colorbar\": {\"outlinewidth\": 0, \"ticks\": \"\"}}, \"type\": \"parcoords\"}], \"pie\": [{\"automargin\": true, \"type\": \"pie\"}], \"scatter\": [{\"marker\": {\"colorbar\": {\"outlinewidth\": 0, \"ticks\": \"\"}}, \"type\": \"scatter\"}], \"scatter3d\": [{\"line\": {\"colorbar\": {\"outlinewidth\": 0, \"ticks\": \"\"}}, \"marker\": {\"colorbar\": {\"outlinewidth\": 0, \"ticks\": \"\"}}, \"type\": \"scatter3d\"}], \"scattercarpet\": [{\"marker\": {\"colorbar\": {\"outlinewidth\": 0, \"ticks\": \"\"}}, \"type\": \"scattercarpet\"}], \"scattergeo\": [{\"marker\": {\"colorbar\": {\"outlinewidth\": 0, \"ticks\": \"\"}}, \"type\": \"scattergeo\"}], \"scattergl\": [{\"marker\": {\"colorbar\": {\"outlinewidth\": 0, \"ticks\": \"\"}}, \"type\": \"scattergl\"}], \"scattermapbox\": [{\"marker\": {\"colorbar\": {\"outlinewidth\": 0, \"ticks\": \"\"}}, \"type\": \"scattermapbox\"}], \"scatterpolar\": [{\"marker\": {\"colorbar\": {\"outlinewidth\": 0, \"ticks\": \"\"}}, \"type\": \"scatterpolar\"}], \"scatterpolargl\": [{\"marker\": {\"colorbar\": {\"outlinewidth\": 0, \"ticks\": \"\"}}, \"type\": \"scatterpolargl\"}], \"scatterternary\": [{\"marker\": {\"colorbar\": {\"outlinewidth\": 0, \"ticks\": \"\"}}, \"type\": \"scatterternary\"}], \"surface\": [{\"colorbar\": {\"outlinewidth\": 0, \"ticks\": \"\"}, \"colorscale\": [[0.0, \"#0d0887\"], [0.1111111111111111, \"#46039f\"], [0.2222222222222222, \"#7201a8\"], [0.3333333333333333, \"#9c179e\"], [0.4444444444444444, \"#bd3786\"], [0.5555555555555556, \"#d8576b\"], [0.6666666666666666, \"#ed7953\"], [0.7777777777777778, \"#fb9f3a\"], [0.8888888888888888, \"#fdca26\"], [1.0, \"#f0f921\"]], \"type\": \"surface\"}], \"table\": [{\"cells\": {\"fill\": {\"color\": \"#EBF0F8\"}, \"line\": {\"color\": \"white\"}}, \"header\": {\"fill\": {\"color\": \"#C8D4E3\"}, \"line\": {\"color\": \"white\"}}, \"type\": \"table\"}]}, \"layout\": {\"annotationdefaults\": {\"arrowcolor\": \"#2a3f5f\", \"arrowhead\": 0, \"arrowwidth\": 1}, \"coloraxis\": {\"colorbar\": {\"outlinewidth\": 0, \"ticks\": \"\"}}, \"colorscale\": {\"diverging\": [[0, \"#8e0152\"], [0.1, \"#c51b7d\"], [0.2, \"#de77ae\"], [0.3, \"#f1b6da\"], [0.4, \"#fde0ef\"], [0.5, \"#f7f7f7\"], [0.6, \"#e6f5d0\"], [0.7, \"#b8e186\"], [0.8, \"#7fbc41\"], [0.9, \"#4d9221\"], [1, \"#276419\"]], \"sequential\": [[0.0, \"#0d0887\"], [0.1111111111111111, \"#46039f\"], [0.2222222222222222, \"#7201a8\"], [0.3333333333333333, \"#9c179e\"], [0.4444444444444444, \"#bd3786\"], [0.5555555555555556, \"#d8576b\"], [0.6666666666666666, \"#ed7953\"], [0.7777777777777778, \"#fb9f3a\"], [0.8888888888888888, \"#fdca26\"], [1.0, \"#f0f921\"]], \"sequentialminus\": [[0.0, \"#0d0887\"], [0.1111111111111111, \"#46039f\"], [0.2222222222222222, \"#7201a8\"], [0.3333333333333333, \"#9c179e\"], [0.4444444444444444, \"#bd3786\"], [0.5555555555555556, \"#d8576b\"], [0.6666666666666666, \"#ed7953\"], [0.7777777777777778, \"#fb9f3a\"], [0.8888888888888888, \"#fdca26\"], [1.0, \"#f0f921\"]]}, \"colorway\": [\"#636efa\", \"#EF553B\", \"#00cc96\", \"#ab63fa\", \"#FFA15A\", \"#19d3f3\", \"#FF6692\", \"#B6E880\", \"#FF97FF\", \"#FECB52\"], \"font\": {\"color\": \"#2a3f5f\"}, \"geo\": {\"bgcolor\": \"white\", \"lakecolor\": \"white\", \"landcolor\": \"#E5ECF6\", \"showlakes\": true, \"showland\": true, \"subunitcolor\": \"white\"}, \"hoverlabel\": {\"align\": \"left\"}, \"hovermode\": \"closest\", \"mapbox\": {\"style\": \"light\"}, \"paper_bgcolor\": \"white\", \"plot_bgcolor\": \"#E5ECF6\", \"polar\": {\"angularaxis\": {\"gridcolor\": \"white\", \"linecolor\": \"white\", \"ticks\": \"\"}, \"bgcolor\": \"#E5ECF6\", \"radialaxis\": {\"gridcolor\": \"white\", \"linecolor\": \"white\", \"ticks\": \"\"}}, \"scene\": {\"xaxis\": {\"backgroundcolor\": \"#E5ECF6\", \"gridcolor\": \"white\", \"gridwidth\": 2, \"linecolor\": \"white\", \"showbackground\": true, \"ticks\": \"\", \"zerolinecolor\": \"white\"}, \"yaxis\": {\"backgroundcolor\": \"#E5ECF6\", \"gridcolor\": \"white\", \"gridwidth\": 2, \"linecolor\": \"white\", \"showbackground\": true, \"ticks\": \"\", \"zerolinecolor\": \"white\"}, \"zaxis\": {\"backgroundcolor\": \"#E5ECF6\", \"gridcolor\": \"white\", \"gridwidth\": 2, \"linecolor\": \"white\", \"showbackground\": true, \"ticks\": \"\", \"zerolinecolor\": \"white\"}}, \"shapedefaults\": {\"line\": {\"color\": \"#2a3f5f\"}}, \"ternary\": {\"aaxis\": {\"gridcolor\": \"white\", \"linecolor\": \"white\", \"ticks\": \"\"}, \"baxis\": {\"gridcolor\": \"white\", \"linecolor\": \"white\", \"ticks\": \"\"}, \"bgcolor\": \"#E5ECF6\", \"caxis\": {\"gridcolor\": \"white\", \"linecolor\": \"white\", \"ticks\": \"\"}}, \"title\": {\"x\": 0.05}, \"xaxis\": {\"automargin\": true, \"gridcolor\": \"white\", \"linecolor\": \"white\", \"ticks\": \"\", \"title\": {\"standoff\": 15}, \"zerolinecolor\": \"white\", \"zerolinewidth\": 2}, \"yaxis\": {\"automargin\": true, \"gridcolor\": \"white\", \"linecolor\": \"white\", \"ticks\": \"\", \"title\": {\"standoff\": 15}, \"zerolinecolor\": \"white\", \"zerolinewidth\": 2}}}, \"title\": {\"text\": \"Top 3 Developer Roles in 2018 and 2019\"}},\n",
       "                        {\"responsive\": true}\n",
       "                    ).then(function(){\n",
       "                            \n",
       "var gd = document.getElementById('769bf1af-dac2-4fa6-b82e-6e97fe942994');\n",
       "var x = new MutationObserver(function (mutations, observer) {{\n",
       "        var display = window.getComputedStyle(gd).display;\n",
       "        if (!display || display === 'none') {{\n",
       "            console.log([gd, 'removed!']);\n",
       "            Plotly.purge(gd);\n",
       "            observer.disconnect();\n",
       "        }}\n",
       "}});\n",
       "\n",
       "// Listen for the removal of the full notebook cells\n",
       "var notebookContainer = gd.closest('#notebook-container');\n",
       "if (notebookContainer) {{\n",
       "    x.observe(notebookContainer, {childList: true});\n",
       "}}\n",
       "\n",
       "// Listen for the clearing of the current output cell\n",
       "var outputEl = gd.closest('.output');\n",
       "if (outputEl) {{\n",
       "    x.observe(outputEl, {childList: true});\n",
       "}}\n",
       "\n",
       "                        })\n",
       "                };\n",
       "                });\n",
       "            </script>\n",
       "        </div>"
      ]
     },
     "metadata": {},
     "output_type": "display_data"
    }
   ],
   "source": [
    "# Create subplots, using 'domain' type for pie charts\n",
    "specs = [[{'type':'domain'}, {'type':'domain'}]]\n",
    "fig = make_subplots(rows=1, cols=2, specs=specs,subplot_titles=('2018','2019'))\n",
    "\n",
    "\n",
    "fig.add_trace(go.Pie(labels=dev_2018_2019.New_column,values= dev_2018_2019[\"Count%2018\"],  \n",
    "             name= 'Top 10 Computer Programming Languages in 2018'),1,1)\n",
    "\n",
    "fig.add_trace(go.Pie(labels=dev_2018_2019.New_column,values= dev_2018_2019[\"Count%2019\"],  \n",
    "             name= 'Top 10 Computer Programming Languages in 2019'),1,2)\n",
    "\n",
    "\n",
    "fig.update_traces(textinfo='label+percent')\n",
    "fig.update_layout(title_text=\"Top 3 Developer Roles in 2018 and 2019\")\n",
    "\n",
    "fig.show()"
   ]
  },
  {
   "cell_type": "markdown",
   "metadata": {},
   "source": [
    "## 2.  Gender Proportion in Top 3 Developer Types ( Year 2019)"
   ]
  },
  {
   "cell_type": "code",
   "execution_count": 543,
   "metadata": {},
   "outputs": [],
   "source": [
    "two_columns = survey_2019[[\"DevType\",\"Gender\"]].dropna()"
   ]
  },
  {
   "cell_type": "code",
   "execution_count": 544,
   "metadata": {},
   "outputs": [],
   "source": [
    "two_columns[\"Gender\"] = two_columns.Gender.replace([\"Man;Non-binary, genderqueer, or gender non-conforming\",\n",
    "                                                    \"Woman;Man\",\"Other\",\n",
    "                                                    \"Woman;Non-binary, genderqueer, or gender non-conforming\",\n",
    "                                                    \"Woman;Man;Non-binary, genderqueer, or gender non-conforming\",\n",
    "                                                   \"Non-binary, genderqueer, or gender non-conforming\"],\n",
    "                                                     \"LGBTQ+\")"
   ]
  },
  {
   "cell_type": "code",
   "execution_count": 545,
   "metadata": {},
   "outputs": [],
   "source": [
    "job_gender = two_columns[(two_columns.DevType == \"Developer, front-end\") | \n",
    "                          (two_columns.DevType == \"Developer, back-end\")|\n",
    "                          (two_columns.DevType == \"Developer, full-stack\")]"
   ]
  },
  {
   "cell_type": "code",
   "execution_count": 711,
   "metadata": {},
   "outputs": [
    {
     "data": {
      "image/png": "[encoded data removed]",
      "text/plain": [
       "<Figure size 936x576 with 1 Axes>"
      ]
     },
     "metadata": {
      "needs_background": "light"
     },
     "output_type": "display_data"
    }
   ],
   "source": [
    "plt.figure(figsize=(13,8))\n",
    "totals = job_gender['DevType'].value_counts()\n",
    "ax = sns.countplot(x='DevType',hue='Gender',data=job_gender,order=totals.index,)\n",
    "ax.set(xlabel='Job Types', ylabel='Count', title='Gender proportion in Top 3 DeveloperTypes(Year-2019)')\n",
    "\n",
    "totals = job_gender['DevType'].value_counts()\n",
    "n_hues = job_gender['Gender'].unique().size\n",
    "\n",
    "temp_totals = totals.values.tolist()*n_hues\n",
    "for p,t in zip(ax.patches,temp_totals):\n",
    "    height = p.get_height()\n",
    "    ax.text(p.get_x()+p.get_width()/2.,\n",
    "        height + 3,\n",
    "        '{0:.1%}'.format(height/t),\n",
    "        ha=\"center\", fontsize=15)\n",
    "    \n",
    "plt.show()"
   ]
  },
  {
   "cell_type": "markdown",
   "metadata": {},
   "source": [
    "**Observations**\n",
    "-  According to above graph front-end developers have best gender proportion amongst developers community."
   ]
  },
  {
   "attachments": {},
   "cell_type": "markdown",
   "metadata": {},
   "source": [
    "## 3. Popular Languages In Top 3 Developer Types in 2019"
   ]
  },
  {
   "cell_type": "code",
   "execution_count": 548,
   "metadata": {},
   "outputs": [],
   "source": [
    "job_lang = survey_2019[[\"DevType\",\"LanguageWorkedWith\"]].dropna()"
   ]
  },
  {
   "cell_type": "code",
   "execution_count": 615,
   "metadata": {},
   "outputs": [],
   "source": [
    "front_end = job_lang [(job_lang.DevType == \"Developer, front-end\")]\n",
    "front_end_langs = pd.DataFrame(front_end[\"LanguageWorkedWith\"].apply(lambda x: pd.value_counts(x.split(\";\")))\n",
    "                             .count(axis = 0)).reset_index()\n",
    "front_end_langs = front_end_langs.rename(columns= {0:\"front_count\" })"
   ]
  },
  {
   "cell_type": "code",
   "execution_count": 619,
   "metadata": {},
   "outputs": [],
   "source": [
    "back_end = job_lang [(job_lang.DevType == \"Developer, back-end\")]\n",
    "back_end_langs = pd.DataFrame(back_end[\"LanguageWorkedWith\"].apply(lambda x: pd.value_counts(x.split(\";\")))\n",
    "                             .count(axis = 0)).reset_index()\n",
    "back_end_langs = back_end_langs.rename(columns= {0:\"back_count\" })"
   ]
  },
  {
   "cell_type": "code",
   "execution_count": 609,
   "metadata": {},
   "outputs": [],
   "source": [
    "full_stack = job_lang [(job_lang.DevType == \"Developer, full-stack\")]\n",
    "full_stack_langs = pd.DataFrame(full_stack[\"LanguageWorkedWith\"].apply(lambda x: pd.value_counts(x.split(\";\")))\n",
    "                             .count(axis = 0)).reset_index()\n",
    "full_stack_langs = full_stack_langs.rename(columns= {0:\"full_count\" })"
   ]
  },
  {
   "cell_type": "code",
   "execution_count": 623,
   "metadata": {},
   "outputs": [],
   "source": [
    "developers_all = pd.merge(front_end_langs[[\"index\",\"front_count\"]],back_end_langs[[\"index\",\"back_count\"]],\n",
    "                on=\"index\", how='left').merge(full_stack_langs[[\"index\",\"full_count\"]],\n",
    "                on=\"index\", how='left')"
   ]
  },
  {
   "cell_type": "code",
   "execution_count": 630,
   "metadata": {},
   "outputs": [],
   "source": [
    "  #Get values for these languages\n",
    "languages_list = ['SQL', 'JavaScript','Java', 'Python','C#','C++','HTML',\"HTML/CSS\"]\n",
    "developers_langs  = developers_all[developers_all['index'].isin(languages_list)]"
   ]
  },
  {
   "cell_type": "code",
   "execution_count": 632,
   "metadata": {},
   "outputs": [],
   "source": [
    "developers_langs[\"front_count_percent\"] = round((developers_langs.front_count/sum(developers_langs.front_count))*100,2) \n",
    "developers_langs[\"back_count_percent\"] = round((developers_langs.back_count/sum(developers_langs.back_count))*100,2)\n",
    "developers_langs[\"full_count_percent\"] = round((developers_langs.full_count/sum(developers_langs.full_count))*100,2) "
   ]
  },
  {
   "cell_type": "code",
   "execution_count": 633,
   "metadata": {
    "collapsed": true
   },
   "outputs": [
    {
     "data": {
      "text/html": [
       "<div>\n",
       "<style scoped>\n",
       "    .dataframe tbody tr th:only-of-type {\n",
       "        vertical-align: middle;\n",
       "    }\n",
       "\n",
       "    .dataframe tbody tr th {\n",
       "        vertical-align: top;\n",
       "    }\n",
       "\n",
       "    .dataframe thead th {\n",
       "        text-align: right;\n",
       "    }\n",
       "</style>\n",
       "<table border=\"1\" class=\"dataframe\">\n",
       "  <thead>\n",
       "    <tr style=\"text-align: right;\">\n",
       "      <th></th>\n",
       "      <th>index</th>\n",
       "      <th>front_count</th>\n",
       "      <th>back_count</th>\n",
       "      <th>full_count</th>\n",
       "      <th>front_count_percent</th>\n",
       "      <th>back_count_percent</th>\n",
       "      <th>full_count_percent</th>\n",
       "    </tr>\n",
       "  </thead>\n",
       "  <tbody>\n",
       "    <tr>\n",
       "      <td>2</td>\n",
       "      <td>JavaScript</td>\n",
       "      <td>2049</td>\n",
       "      <td>2421</td>\n",
       "      <td>7452</td>\n",
       "      <td>37.14</td>\n",
       "      <td>19.08</td>\n",
       "      <td>25.69</td>\n",
       "    </tr>\n",
       "    <tr>\n",
       "      <td>3</td>\n",
       "      <td>HTML/CSS</td>\n",
       "      <td>1903</td>\n",
       "      <td>1820</td>\n",
       "      <td>6609</td>\n",
       "      <td>34.49</td>\n",
       "      <td>14.35</td>\n",
       "      <td>22.79</td>\n",
       "    </tr>\n",
       "    <tr>\n",
       "      <td>4</td>\n",
       "      <td>SQL</td>\n",
       "      <td>478</td>\n",
       "      <td>2582</td>\n",
       "      <td>5349</td>\n",
       "      <td>8.66</td>\n",
       "      <td>20.35</td>\n",
       "      <td>18.44</td>\n",
       "    </tr>\n",
       "    <tr>\n",
       "      <td>6</td>\n",
       "      <td>Python</td>\n",
       "      <td>320</td>\n",
       "      <td>1778</td>\n",
       "      <td>2407</td>\n",
       "      <td>5.80</td>\n",
       "      <td>14.02</td>\n",
       "      <td>8.30</td>\n",
       "    </tr>\n",
       "    <tr>\n",
       "      <td>7</td>\n",
       "      <td>Java</td>\n",
       "      <td>352</td>\n",
       "      <td>2257</td>\n",
       "      <td>3088</td>\n",
       "      <td>6.38</td>\n",
       "      <td>17.79</td>\n",
       "      <td>10.65</td>\n",
       "    </tr>\n",
       "    <tr>\n",
       "      <td>8</td>\n",
       "      <td>C#</td>\n",
       "      <td>277</td>\n",
       "      <td>1044</td>\n",
       "      <td>3175</td>\n",
       "      <td>5.02</td>\n",
       "      <td>8.23</td>\n",
       "      <td>10.95</td>\n",
       "    </tr>\n",
       "    <tr>\n",
       "      <td>11</td>\n",
       "      <td>C++</td>\n",
       "      <td>138</td>\n",
       "      <td>784</td>\n",
       "      <td>922</td>\n",
       "      <td>2.50</td>\n",
       "      <td>6.18</td>\n",
       "      <td>3.18</td>\n",
       "    </tr>\n",
       "  </tbody>\n",
       "</table>\n",
       "</div>"
      ],
      "text/plain": [
       "         index  front_count  back_count  full_count  front_count_percent  \\\n",
       "2   JavaScript         2049        2421        7452                37.14   \n",
       "3     HTML/CSS         1903        1820        6609                34.49   \n",
       "4          SQL          478        2582        5349                 8.66   \n",
       "6       Python          320        1778        2407                 5.80   \n",
       "7         Java          352        2257        3088                 6.38   \n",
       "8           C#          277        1044        3175                 5.02   \n",
       "11         C++          138         784         922                 2.50   \n",
       "\n",
       "    back_count_percent  full_count_percent  \n",
       "2                19.08               25.69  \n",
       "3                14.35               22.79  \n",
       "4                20.35               18.44  \n",
       "6                14.02                8.30  \n",
       "7                17.79               10.65  \n",
       "8                 8.23               10.95  \n",
       "11                6.18                3.18  "
      ]
     },
     "execution_count": 633,
     "metadata": {},
     "output_type": "execute_result"
    }
   ],
   "source": [
    "developers_langs"
   ]
  },
  {
   "cell_type": "code",
   "execution_count": 639,
   "metadata": {},
   "outputs": [
    {
     "data": {
      "application/vnd.plotly.v1+json": {
       "config": {
        "plotlyServerURL": "https://plot.ly"
       },
       "data": [
        {
         "name": "Front-end",
         "type": "bar",
         "x": [
          "JavaScript",
          "HTML/CSS",
          "SQL",
          "Python",
          "Java",
          "C#",
          "C++"
         ],
         "y": [
          37.14,
          34.49,
          8.66,
          5.8,
          6.38,
          5.02,
          2.5
         ]
        },
        {
         "name": "Back-end",
         "type": "bar",
         "x": [
          "JavaScript",
          "HTML/CSS",
          "SQL",
          "Python",
          "Java",
          "C#",
          "C++"
         ],
         "y": [
          19.08,
          14.35,
          20.35,
          14.02,
          17.79,
          8.23,
          6.18
         ]
        },
        {
         "name": "Full-stack",
         "type": "bar",
         "x": [
          "JavaScript",
          "HTML/CSS",
          "SQL",
          "Python",
          "Java",
          "C#",
          "C++"
         ],
         "y": [
          25.69,
          22.79,
          18.44,
          8.3,
          10.65,
          10.95,
          3.18
         ]
        }
       ],
       "layout": {
        "barmode": "group",
        "template": {
         "data": {
          "bar": [
           {
            "error_x": {
             "color": "#2a3f5f"
            },
            "error_y": {
             "color": "#2a3f5f"
            },
            "marker": {
             "line": {
              "color": "#E5ECF6",
              "width": 0.5
             }
            },
            "type": "bar"
           }
          ],
          "barpolar": [
           {
            "marker": {
             "line": {
              "color": "#E5ECF6",
              "width": 0.5
             }
            },
            "type": "barpolar"
           }
          ],
          "carpet": [
           {
            "aaxis": {
             "endlinecolor": "#2a3f5f",
             "gridcolor": "white",
             "linecolor": "white",
             "minorgridcolor": "white",
             "startlinecolor": "#2a3f5f"
            },
            "baxis": {
             "endlinecolor": "#2a3f5f",
             "gridcolor": "white",
             "linecolor": "white",
             "minorgridcolor": "white",
             "startlinecolor": "#2a3f5f"
            },
            "type": "carpet"
           }
          ],
          "choropleth": [
           {
            "colorbar": {
             "outlinewidth": 0,
             "ticks": ""
            },
            "type": "choropleth"
           }
          ],
          "contour": [
           {
            "colorbar": {
             "outlinewidth": 0,
             "ticks": ""
            },
            "colorscale": [
             [
              0,
              "#0d0887"
             ],
             [
              0.1111111111111111,
              "#46039f"
             ],
             [
              0.2222222222222222,
              "#7201a8"
             ],
             [
              0.3333333333333333,
              "#9c179e"
             ],
             [
              0.4444444444444444,
              "#bd3786"
             ],
             [
              0.5555555555555556,
              "#d8576b"
             ],
             [
              0.6666666666666666,
              "#ed7953"
             ],
             [
              0.7777777777777778,
              "#fb9f3a"
             ],
             [
              0.8888888888888888,
              "#fdca26"
             ],
             [
              1,
              "#f0f921"
             ]
            ],
            "type": "contour"
           }
          ],
          "contourcarpet": [
           {
            "colorbar": {
             "outlinewidth": 0,
             "ticks": ""
            },
            "type": "contourcarpet"
           }
          ],
          "heatmap": [
           {
            "colorbar": {
             "outlinewidth": 0,
             "ticks": ""
            },
            "colorscale": [
             [
              0,
              "#0d0887"
             ],
             [
              0.1111111111111111,
              "#46039f"
             ],
             [
              0.2222222222222222,
              "#7201a8"
             ],
             [
              0.3333333333333333,
              "#9c179e"
             ],
             [
              0.4444444444444444,
              "#bd3786"
             ],
             [
              0.5555555555555556,
              "#d8576b"
             ],
             [
              0.6666666666666666,
              "#ed7953"
             ],
             [
              0.7777777777777778,
              "#fb9f3a"
             ],
             [
              0.8888888888888888,
              "#fdca26"
             ],
             [
              1,
              "#f0f921"
             ]
            ],
            "type": "heatmap"
           }
          ],
          "heatmapgl": [
           {
            "colorbar": {
             "outlinewidth": 0,
             "ticks": ""
            },
            "colorscale": [
             [
              0,
              "#0d0887"
             ],
             [
              0.1111111111111111,
              "#46039f"
             ],
             [
              0.2222222222222222,
              "#7201a8"
             ],
             [
              0.3333333333333333,
              "#9c179e"
             ],
             [
              0.4444444444444444,
              "#bd3786"
             ],
             [
              0.5555555555555556,
              "#d8576b"
             ],
             [
              0.6666666666666666,
              "#ed7953"
             ],
             [
              0.7777777777777778,
              "#fb9f3a"
             ],
             [
              0.8888888888888888,
              "#fdca26"
             ],
             [
              1,
              "#f0f921"
             ]
            ],
            "type": "heatmapgl"
           }
          ],
          "histogram": [
           {
            "marker": {
             "colorbar": {
              "outlinewidth": 0,
              "ticks": ""
             }
            },
            "type": "histogram"
           }
          ],
          "histogram2d": [
           {
            "colorbar": {
             "outlinewidth": 0,
             "ticks": ""
            },
            "colorscale": [
             [
              0,
              "#0d0887"
             ],
             [
              0.1111111111111111,
              "#46039f"
             ],
             [
              0.2222222222222222,
              "#7201a8"
             ],
             [
              0.3333333333333333,
              "#9c179e"
             ],
             [
              0.4444444444444444,
              "#bd3786"
             ],
             [
              0.5555555555555556,
              "#d8576b"
             ],
             [
              0.6666666666666666,
              "#ed7953"
             ],
             [
              0.7777777777777778,
              "#fb9f3a"
             ],
             [
              0.8888888888888888,
              "#fdca26"
             ],
             [
              1,
              "#f0f921"
             ]
            ],
            "type": "histogram2d"
           }
          ],
          "histogram2dcontour": [
           {
            "colorbar": {
             "outlinewidth": 0,
             "ticks": ""
            },
            "colorscale": [
             [
              0,
              "#0d0887"
             ],
             [
              0.1111111111111111,
              "#46039f"
             ],
             [
              0.2222222222222222,
              "#7201a8"
             ],
             [
              0.3333333333333333,
              "#9c179e"
             ],
             [
              0.4444444444444444,
              "#bd3786"
             ],
             [
              0.5555555555555556,
              "#d8576b"
             ],
             [
              0.6666666666666666,
              "#ed7953"
             ],
             [
              0.7777777777777778,
              "#fb9f3a"
             ],
             [
              0.8888888888888888,
              "#fdca26"
             ],
             [
              1,
              "#f0f921"
             ]
            ],
            "type": "histogram2dcontour"
           }
          ],
          "mesh3d": [
           {
            "colorbar": {
             "outlinewidth": 0,
             "ticks": ""
            },
            "type": "mesh3d"
           }
          ],
          "parcoords": [
           {
            "line": {
             "colorbar": {
              "outlinewidth": 0,
              "ticks": ""
             }
            },
            "type": "parcoords"
           }
          ],
          "pie": [
           {
            "automargin": true,
            "type": "pie"
           }
          ],
          "scatter": [
           {
            "marker": {
             "colorbar": {
              "outlinewidth": 0,
              "ticks": ""
             }
            },
            "type": "scatter"
           }
          ],
          "scatter3d": [
           {
            "line": {
             "colorbar": {
              "outlinewidth": 0,
              "ticks": ""
             }
            },
            "marker": {
             "colorbar": {
              "outlinewidth": 0,
              "ticks": ""
             }
            },
            "type": "scatter3d"
           }
          ],
          "scattercarpet": [
           {
            "marker": {
             "colorbar": {
              "outlinewidth": 0,
              "ticks": ""
             }
            },
            "type": "scattercarpet"
           }
          ],
          "scattergeo": [
           {
            "marker": {
             "colorbar": {
              "outlinewidth": 0,
              "ticks": ""
             }
            },
            "type": "scattergeo"
           }
          ],
          "scattergl": [
           {
            "marker": {
             "colorbar": {
              "outlinewidth": 0,
              "ticks": ""
             }
            },
            "type": "scattergl"
           }
          ],
          "scattermapbox": [
           {
            "marker": {
             "colorbar": {
              "outlinewidth": 0,
              "ticks": ""
             }
            },
            "type": "scattermapbox"
           }
          ],
          "scatterpolar": [
           {
            "marker": {
             "colorbar": {
              "outlinewidth": 0,
              "ticks": ""
             }
            },
            "type": "scatterpolar"
           }
          ],
          "scatterpolargl": [
           {
            "marker": {
             "colorbar": {
              "outlinewidth": 0,
              "ticks": ""
             }
            },
            "type": "scatterpolargl"
           }
          ],
          "scatterternary": [
           {
            "marker": {
             "colorbar": {
              "outlinewidth": 0,
              "ticks": ""
             }
            },
            "type": "scatterternary"
           }
          ],
          "surface": [
           {
            "colorbar": {
             "outlinewidth": 0,
             "ticks": ""
            },
            "colorscale": [
             [
              0,
              "#0d0887"
             ],
             [
              0.1111111111111111,
              "#46039f"
             ],
             [
              0.2222222222222222,
              "#7201a8"
             ],
             [
              0.3333333333333333,
              "#9c179e"
             ],
             [
              0.4444444444444444,
              "#bd3786"
             ],
             [
              0.5555555555555556,
              "#d8576b"
             ],
             [
              0.6666666666666666,
              "#ed7953"
             ],
             [
              0.7777777777777778,
              "#fb9f3a"
             ],
             [
              0.8888888888888888,
              "#fdca26"
             ],
             [
              1,
              "#f0f921"
             ]
            ],
            "type": "surface"
           }
          ],
          "table": [
           {
            "cells": {
             "fill": {
              "color": "#EBF0F8"
             },
             "line": {
              "color": "white"
             }
            },
            "header": {
             "fill": {
              "color": "#C8D4E3"
             },
             "line": {
              "color": "white"
             }
            },
            "type": "table"
           }
          ]
         },
         "layout": {
          "annotationdefaults": {
           "arrowcolor": "#2a3f5f",
           "arrowhead": 0,
           "arrowwidth": 1
          },
          "coloraxis": {
           "colorbar": {
            "outlinewidth": 0,
            "ticks": ""
           }
          },
          "colorscale": {
           "diverging": [
            [
             0,
             "#8e0152"
            ],
            [
             0.1,
             "#c51b7d"
            ],
            [
             0.2,
             "#de77ae"
            ],
            [
             0.3,
             "#f1b6da"
            ],
            [
             0.4,
             "#fde0ef"
            ],
            [
             0.5,
             "#f7f7f7"
            ],
            [
             0.6,
             "#e6f5d0"
            ],
            [
             0.7,
             "#b8e186"
            ],
            [
             0.8,
             "#7fbc41"
            ],
            [
             0.9,
             "#4d9221"
            ],
            [
             1,
             "#276419"
            ]
           ],
           "sequential": [
            [
             0,
             "#0d0887"
            ],
            [
             0.1111111111111111,
             "#46039f"
            ],
            [
             0.2222222222222222,
             "#7201a8"
            ],
            [
             0.3333333333333333,
             "#9c179e"
            ],
            [
             0.4444444444444444,
             "#bd3786"
            ],
            [
             0.5555555555555556,
             "#d8576b"
            ],
            [
             0.6666666666666666,
             "#ed7953"
            ],
            [
             0.7777777777777778,
             "#fb9f3a"
            ],
            [
             0.8888888888888888,
             "#fdca26"
            ],
            [
             1,
             "#f0f921"
            ]
           ],
           "sequentialminus": [
            [
             0,
             "#0d0887"
            ],
            [
             0.1111111111111111,
             "#46039f"
            ],
            [
             0.2222222222222222,
             "#7201a8"
            ],
            [
             0.3333333333333333,
             "#9c179e"
            ],
            [
             0.4444444444444444,
             "#bd3786"
            ],
            [
             0.5555555555555556,
             "#d8576b"
            ],
            [
             0.6666666666666666,
             "#ed7953"
            ],
            [
             0.7777777777777778,
             "#fb9f3a"
            ],
            [
             0.8888888888888888,
             "#fdca26"
            ],
            [
             1,
             "#f0f921"
            ]
           ]
          },
          "colorway": [
           "#636efa",
           "#EF553B",
           "#00cc96",
           "#ab63fa",
           "#FFA15A",
           "#19d3f3",
           "#FF6692",
           "#B6E880",
           "#FF97FF",
           "#FECB52"
          ],
          "font": {
           "color": "#2a3f5f"
          },
          "geo": {
           "bgcolor": "white",
           "lakecolor": "white",
           "landcolor": "#E5ECF6",
           "showlakes": true,
           "showland": true,
           "subunitcolor": "white"
          },
          "hoverlabel": {
           "align": "left"
          },
          "hovermode": "closest",
          "mapbox": {
           "style": "light"
          },
          "paper_bgcolor": "white",
          "plot_bgcolor": "#E5ECF6",
          "polar": {
           "angularaxis": {
            "gridcolor": "white",
            "linecolor": "white",
            "ticks": ""
           },
           "bgcolor": "#E5ECF6",
           "radialaxis": {
            "gridcolor": "white",
            "linecolor": "white",
            "ticks": ""
           }
          },
          "scene": {
           "xaxis": {
            "backgroundcolor": "#E5ECF6",
            "gridcolor": "white",
            "gridwidth": 2,
            "linecolor": "white",
            "showbackground": true,
            "ticks": "",
            "zerolinecolor": "white"
           },
           "yaxis": {
            "backgroundcolor": "#E5ECF6",
            "gridcolor": "white",
            "gridwidth": 2,
            "linecolor": "white",
            "showbackground": true,
            "ticks": "",
            "zerolinecolor": "white"
           },
           "zaxis": {
            "backgroundcolor": "#E5ECF6",
            "gridcolor": "white",
            "gridwidth": 2,
            "linecolor": "white",
            "showbackground": true,
            "ticks": "",
            "zerolinecolor": "white"
           }
          },
          "shapedefaults": {
           "line": {
            "color": "#2a3f5f"
           }
          },
          "ternary": {
           "aaxis": {
            "gridcolor": "white",
            "linecolor": "white",
            "ticks": ""
           },
           "baxis": {
            "gridcolor": "white",
            "linecolor": "white",
            "ticks": ""
           },
           "bgcolor": "#E5ECF6",
           "caxis": {
            "gridcolor": "white",
            "linecolor": "white",
            "ticks": ""
           }
          },
          "title": {
           "x": 0.05
          },
          "xaxis": {
           "automargin": true,
           "gridcolor": "white",
           "linecolor": "white",
           "ticks": "",
           "title": {
            "standoff": 15
           },
           "zerolinecolor": "white",
           "zerolinewidth": 2
          },
          "yaxis": {
           "automargin": true,
           "gridcolor": "white",
           "linecolor": "white",
           "ticks": "",
           "title": {
            "standoff": 15
           },
           "zerolinecolor": "white",
           "zerolinewidth": 2
          }
         }
        },
        "title": {
         "text": "POPULAR LANGUAGES IN DIFFERENT JOB TYPES"
        },
        "xaxis": {
         "title": {
          "text": "Programming Languages"
         }
        },
        "yaxis": {
         "title": {
          "text": "Percentages"
         }
        }
       }
      },
      "text/html": [
       "<div>\n",
       "        \n",
       "        \n",
       "            <div id=\"d548ec00-9011-458d-a621-5be76028d16b\" class=\"plotly-graph-div\" style=\"height:525px; width:100%;\"></div>\n",
       "            <script type=\"text/javascript\">\n",
       "                require([\"plotly\"], function(Plotly) {\n",
       "                    window.PLOTLYENV=window.PLOTLYENV || {};\n",
       "                    \n",
       "                if (document.getElementById(\"d548ec00-9011-458d-a621-5be76028d16b\")) {\n",
       "                    Plotly.newPlot(\n",
       "                        'd548ec00-9011-458d-a621-5be76028d16b',\n",
       "                        [{\"name\": \"Front-end\", \"type\": \"bar\", \"x\": [\"JavaScript\", \"HTML/CSS\", \"SQL\", \"Python\", \"Java\", \"C#\", \"C++\"], \"y\": [37.14, 34.49, 8.66, 5.8, 6.38, 5.02, 2.5]}, {\"name\": \"Back-end\", \"type\": \"bar\", \"x\": [\"JavaScript\", \"HTML/CSS\", \"SQL\", \"Python\", \"Java\", \"C#\", \"C++\"], \"y\": [19.08, 14.35, 20.35, 14.02, 17.79, 8.23, 6.18]}, {\"name\": \"Full-stack\", \"type\": \"bar\", \"x\": [\"JavaScript\", \"HTML/CSS\", \"SQL\", \"Python\", \"Java\", \"C#\", \"C++\"], \"y\": [25.69, 22.79, 18.44, 8.3, 10.65, 10.95, 3.18]}],\n",
       "                        {\"barmode\": \"group\", \"template\": {\"data\": {\"bar\": [{\"error_x\": {\"color\": \"#2a3f5f\"}, \"error_y\": {\"color\": \"#2a3f5f\"}, \"marker\": {\"line\": {\"color\": \"#E5ECF6\", \"width\": 0.5}}, \"type\": \"bar\"}], \"barpolar\": [{\"marker\": {\"line\": {\"color\": \"#E5ECF6\", \"width\": 0.5}}, \"type\": \"barpolar\"}], \"carpet\": [{\"aaxis\": {\"endlinecolor\": \"#2a3f5f\", \"gridcolor\": \"white\", \"linecolor\": \"white\", \"minorgridcolor\": \"white\", \"startlinecolor\": \"#2a3f5f\"}, \"baxis\": {\"endlinecolor\": \"#2a3f5f\", \"gridcolor\": \"white\", \"linecolor\": \"white\", \"minorgridcolor\": \"white\", \"startlinecolor\": \"#2a3f5f\"}, \"type\": \"carpet\"}], \"choropleth\": [{\"colorbar\": {\"outlinewidth\": 0, \"ticks\": \"\"}, \"type\": \"choropleth\"}], \"contour\": [{\"colorbar\": {\"outlinewidth\": 0, \"ticks\": \"\"}, \"colorscale\": [[0.0, \"#0d0887\"], [0.1111111111111111, \"#46039f\"], [0.2222222222222222, \"#7201a8\"], [0.3333333333333333, \"#9c179e\"], [0.4444444444444444, \"#bd3786\"], [0.5555555555555556, \"#d8576b\"], [0.6666666666666666, \"#ed7953\"], [0.7777777777777778, \"#fb9f3a\"], [0.8888888888888888, \"#fdca26\"], [1.0, \"#f0f921\"]], \"type\": \"contour\"}], \"contourcarpet\": [{\"colorbar\": {\"outlinewidth\": 0, \"ticks\": \"\"}, \"type\": \"contourcarpet\"}], \"heatmap\": [{\"colorbar\": {\"outlinewidth\": 0, \"ticks\": \"\"}, \"colorscale\": [[0.0, \"#0d0887\"], [0.1111111111111111, \"#46039f\"], [0.2222222222222222, \"#7201a8\"], [0.3333333333333333, \"#9c179e\"], [0.4444444444444444, \"#bd3786\"], [0.5555555555555556, \"#d8576b\"], [0.6666666666666666, \"#ed7953\"], [0.7777777777777778, \"#fb9f3a\"], [0.8888888888888888, \"#fdca26\"], [1.0, \"#f0f921\"]], \"type\": \"heatmap\"}], \"heatmapgl\": [{\"colorbar\": {\"outlinewidth\": 0, \"ticks\": \"\"}, \"colorscale\": [[0.0, \"#0d0887\"], [0.1111111111111111, \"#46039f\"], [0.2222222222222222, \"#7201a8\"], [0.3333333333333333, \"#9c179e\"], [0.4444444444444444, \"#bd3786\"], [0.5555555555555556, \"#d8576b\"], [0.6666666666666666, \"#ed7953\"], [0.7777777777777778, \"#fb9f3a\"], [0.8888888888888888, \"#fdca26\"], [1.0, \"#f0f921\"]], \"type\": \"heatmapgl\"}], \"histogram\": [{\"marker\": {\"colorbar\": {\"outlinewidth\": 0, \"ticks\": \"\"}}, \"type\": \"histogram\"}], \"histogram2d\": [{\"colorbar\": {\"outlinewidth\": 0, \"ticks\": \"\"}, \"colorscale\": [[0.0, \"#0d0887\"], [0.1111111111111111, \"#46039f\"], [0.2222222222222222, \"#7201a8\"], [0.3333333333333333, \"#9c179e\"], [0.4444444444444444, \"#bd3786\"], [0.5555555555555556, \"#d8576b\"], [0.6666666666666666, \"#ed7953\"], [0.7777777777777778, \"#fb9f3a\"], [0.8888888888888888, \"#fdca26\"], [1.0, \"#f0f921\"]], \"type\": \"histogram2d\"}], \"histogram2dcontour\": [{\"colorbar\": {\"outlinewidth\": 0, \"ticks\": \"\"}, \"colorscale\": [[0.0, \"#0d0887\"], [0.1111111111111111, \"#46039f\"], [0.2222222222222222, \"#7201a8\"], [0.3333333333333333, \"#9c179e\"], [0.4444444444444444, \"#bd3786\"], [0.5555555555555556, \"#d8576b\"], [0.6666666666666666, \"#ed7953\"], [0.7777777777777778, \"#fb9f3a\"], [0.8888888888888888, \"#fdca26\"], [1.0, \"#f0f921\"]], \"type\": \"histogram2dcontour\"}], \"mesh3d\": [{\"colorbar\": {\"outlinewidth\": 0, \"ticks\": \"\"}, \"type\": \"mesh3d\"}], \"parcoords\": [{\"line\": {\"colorbar\": {\"outlinewidth\": 0, \"ticks\": \"\"}}, \"type\": \"parcoords\"}], \"pie\": [{\"automargin\": true, \"type\": \"pie\"}], \"scatter\": [{\"marker\": {\"colorbar\": {\"outlinewidth\": 0, \"ticks\": \"\"}}, \"type\": \"scatter\"}], \"scatter3d\": [{\"line\": {\"colorbar\": {\"outlinewidth\": 0, \"ticks\": \"\"}}, \"marker\": {\"colorbar\": {\"outlinewidth\": 0, \"ticks\": \"\"}}, \"type\": \"scatter3d\"}], \"scattercarpet\": [{\"marker\": {\"colorbar\": {\"outlinewidth\": 0, \"ticks\": \"\"}}, \"type\": \"scattercarpet\"}], \"scattergeo\": [{\"marker\": {\"colorbar\": {\"outlinewidth\": 0, \"ticks\": \"\"}}, \"type\": \"scattergeo\"}], \"scattergl\": [{\"marker\": {\"colorbar\": {\"outlinewidth\": 0, \"ticks\": \"\"}}, \"type\": \"scattergl\"}], \"scattermapbox\": [{\"marker\": {\"colorbar\": {\"outlinewidth\": 0, \"ticks\": \"\"}}, \"type\": \"scattermapbox\"}], \"scatterpolar\": [{\"marker\": {\"colorbar\": {\"outlinewidth\": 0, \"ticks\": \"\"}}, \"type\": \"scatterpolar\"}], \"scatterpolargl\": [{\"marker\": {\"colorbar\": {\"outlinewidth\": 0, \"ticks\": \"\"}}, \"type\": \"scatterpolargl\"}], \"scatterternary\": [{\"marker\": {\"colorbar\": {\"outlinewidth\": 0, \"ticks\": \"\"}}, \"type\": \"scatterternary\"}], \"surface\": [{\"colorbar\": {\"outlinewidth\": 0, \"ticks\": \"\"}, \"colorscale\": [[0.0, \"#0d0887\"], [0.1111111111111111, \"#46039f\"], [0.2222222222222222, \"#7201a8\"], [0.3333333333333333, \"#9c179e\"], [0.4444444444444444, \"#bd3786\"], [0.5555555555555556, \"#d8576b\"], [0.6666666666666666, \"#ed7953\"], [0.7777777777777778, \"#fb9f3a\"], [0.8888888888888888, \"#fdca26\"], [1.0, \"#f0f921\"]], \"type\": \"surface\"}], \"table\": [{\"cells\": {\"fill\": {\"color\": \"#EBF0F8\"}, \"line\": {\"color\": \"white\"}}, \"header\": {\"fill\": {\"color\": \"#C8D4E3\"}, \"line\": {\"color\": \"white\"}}, \"type\": \"table\"}]}, \"layout\": {\"annotationdefaults\": {\"arrowcolor\": \"#2a3f5f\", \"arrowhead\": 0, \"arrowwidth\": 1}, \"coloraxis\": {\"colorbar\": {\"outlinewidth\": 0, \"ticks\": \"\"}}, \"colorscale\": {\"diverging\": [[0, \"#8e0152\"], [0.1, \"#c51b7d\"], [0.2, \"#de77ae\"], [0.3, \"#f1b6da\"], [0.4, \"#fde0ef\"], [0.5, \"#f7f7f7\"], [0.6, \"#e6f5d0\"], [0.7, \"#b8e186\"], [0.8, \"#7fbc41\"], [0.9, \"#4d9221\"], [1, \"#276419\"]], \"sequential\": [[0.0, \"#0d0887\"], [0.1111111111111111, \"#46039f\"], [0.2222222222222222, \"#7201a8\"], [0.3333333333333333, \"#9c179e\"], [0.4444444444444444, \"#bd3786\"], [0.5555555555555556, \"#d8576b\"], [0.6666666666666666, \"#ed7953\"], [0.7777777777777778, \"#fb9f3a\"], [0.8888888888888888, \"#fdca26\"], [1.0, \"#f0f921\"]], \"sequentialminus\": [[0.0, \"#0d0887\"], [0.1111111111111111, \"#46039f\"], [0.2222222222222222, \"#7201a8\"], [0.3333333333333333, \"#9c179e\"], [0.4444444444444444, \"#bd3786\"], [0.5555555555555556, \"#d8576b\"], [0.6666666666666666, \"#ed7953\"], [0.7777777777777778, \"#fb9f3a\"], [0.8888888888888888, \"#fdca26\"], [1.0, \"#f0f921\"]]}, \"colorway\": [\"#636efa\", \"#EF553B\", \"#00cc96\", \"#ab63fa\", \"#FFA15A\", \"#19d3f3\", \"#FF6692\", \"#B6E880\", \"#FF97FF\", \"#FECB52\"], \"font\": {\"color\": \"#2a3f5f\"}, \"geo\": {\"bgcolor\": \"white\", \"lakecolor\": \"white\", \"landcolor\": \"#E5ECF6\", \"showlakes\": true, \"showland\": true, \"subunitcolor\": \"white\"}, \"hoverlabel\": {\"align\": \"left\"}, \"hovermode\": \"closest\", \"mapbox\": {\"style\": \"light\"}, \"paper_bgcolor\": \"white\", \"plot_bgcolor\": \"#E5ECF6\", \"polar\": {\"angularaxis\": {\"gridcolor\": \"white\", \"linecolor\": \"white\", \"ticks\": \"\"}, \"bgcolor\": \"#E5ECF6\", \"radialaxis\": {\"gridcolor\": \"white\", \"linecolor\": \"white\", \"ticks\": \"\"}}, \"scene\": {\"xaxis\": {\"backgroundcolor\": \"#E5ECF6\", \"gridcolor\": \"white\", \"gridwidth\": 2, \"linecolor\": \"white\", \"showbackground\": true, \"ticks\": \"\", \"zerolinecolor\": \"white\"}, \"yaxis\": {\"backgroundcolor\": \"#E5ECF6\", \"gridcolor\": \"white\", \"gridwidth\": 2, \"linecolor\": \"white\", \"showbackground\": true, \"ticks\": \"\", \"zerolinecolor\": \"white\"}, \"zaxis\": {\"backgroundcolor\": \"#E5ECF6\", \"gridcolor\": \"white\", \"gridwidth\": 2, \"linecolor\": \"white\", \"showbackground\": true, \"ticks\": \"\", \"zerolinecolor\": \"white\"}}, \"shapedefaults\": {\"line\": {\"color\": \"#2a3f5f\"}}, \"ternary\": {\"aaxis\": {\"gridcolor\": \"white\", \"linecolor\": \"white\", \"ticks\": \"\"}, \"baxis\": {\"gridcolor\": \"white\", \"linecolor\": \"white\", \"ticks\": \"\"}, \"bgcolor\": \"#E5ECF6\", \"caxis\": {\"gridcolor\": \"white\", \"linecolor\": \"white\", \"ticks\": \"\"}}, \"title\": {\"x\": 0.05}, \"xaxis\": {\"automargin\": true, \"gridcolor\": \"white\", \"linecolor\": \"white\", \"ticks\": \"\", \"title\": {\"standoff\": 15}, \"zerolinecolor\": \"white\", \"zerolinewidth\": 2}, \"yaxis\": {\"automargin\": true, \"gridcolor\": \"white\", \"linecolor\": \"white\", \"ticks\": \"\", \"title\": {\"standoff\": 15}, \"zerolinecolor\": \"white\", \"zerolinewidth\": 2}}}, \"title\": {\"text\": \"POPULAR LANGUAGES IN DIFFERENT JOB TYPES\"}, \"xaxis\": {\"title\": {\"text\": \"Programming Languages\"}}, \"yaxis\": {\"title\": {\"text\": \"Percentages\"}}},\n",
       "                        {\"responsive\": true}\n",
       "                    ).then(function(){\n",
       "                            \n",
       "var gd = document.getElementById('d548ec00-9011-458d-a621-5be76028d16b');\n",
       "var x = new MutationObserver(function (mutations, observer) {{\n",
       "        var display = window.getComputedStyle(gd).display;\n",
       "        if (!display || display === 'none') {{\n",
       "            console.log([gd, 'removed!']);\n",
       "            Plotly.purge(gd);\n",
       "            observer.disconnect();\n",
       "        }}\n",
       "}});\n",
       "\n",
       "// Listen for the removal of the full notebook cells\n",
       "var notebookContainer = gd.closest('#notebook-container');\n",
       "if (notebookContainer) {{\n",
       "    x.observe(notebookContainer, {childList: true});\n",
       "}}\n",
       "\n",
       "// Listen for the clearing of the current output cell\n",
       "var outputEl = gd.closest('.output');\n",
       "if (outputEl) {{\n",
       "    x.observe(outputEl, {childList: true});\n",
       "}}\n",
       "\n",
       "                        })\n",
       "                };\n",
       "                });\n",
       "            </script>\n",
       "        </div>"
      ]
     },
     "metadata": {},
     "output_type": "display_data"
    }
   ],
   "source": [
    "x =['JavaScript',\"HTML/CSS\", 'SQL', 'Python',\"Java\",\"C#\",\"C++\"]\n",
    "\n",
    "fig = go.Figure(data=[\n",
    "    go.Bar(name='Front-end', x=x, y=developers_langs[\"front_count_percent\"]),\n",
    "    go.Bar(name='Back-end',  x=x,  y=developers_langs[\"back_count_percent\"]),\n",
    "    go.Bar(name='Full-stack', x=x, y=developers_langs[\"full_count_percent\"]),\n",
    "    \n",
    "])\n",
    "# Change the bar mode\n",
    "fig.update_layout(barmode='group')\n",
    "fig.update_layout(\n",
    "    title=\"POPULAR LANGUAGES IN DIFFERENT JOB TYPES\",\n",
    "    xaxis_title=\"Programming Languages\",\n",
    "    yaxis_title=\"Percentages\")\n",
    "fig.show()"
   ]
  },
  {
   "cell_type": "markdown",
   "metadata": {},
   "source": [
    "**Notes:**\n",
    "- There are around 29% of missing values in the DeveloperTypee column, which is just 1% less than the 30%, so will take this variable for our analysis. \n",
    "- For this analysis we are going to delete the rows with missing values of DeveloperType."
   ]
  },
  {
   "cell_type": "markdown",
   "metadata": {},
   "source": [
    "**Observations:**\n",
    "- 1) Many of the respondents worked as more than 1 role , that is why the total count is more than the number of respondents.\n",
    "\n",
    "- 2) I think there was change in the naming for some types of developers that is why there were no same types of developers recorded in 2018 and 2019.\n",
    "\n",
    "- 3) According to above visualization full-stack, back-end and front-end developers were the top most developers roles in the 2019.  "
   ]
  },
  {
   "cell_type": "markdown",
   "metadata": {},
   "source": [
    "# <a id='4.3'>4.3. GENDER </a> "
   ]
  },
  {
   "cell_type": "markdown",
   "metadata": {},
   "source": [
    "## 1. Gender proportion in development community from 2016 to 2019"
   ]
  },
  {
   "cell_type": "code",
   "execution_count": 569,
   "metadata": {},
   "outputs": [],
   "source": [
    "def genders(dataset,column,new_name_col1,year):\n",
    "    \n",
    "    temp = pd.DataFrame(dataset[column].dropna())\n",
    "    temp = pd.DataFrame(temp[column].apply(lambda x: pd.value_counts(x.split(\";\")))\n",
    "                             .sum(axis = 0)).reset_index()\n",
    "    new_name_col2 = (\"Count\"+str(year))\n",
    "    \n",
    "    '''\n",
    "    dataset = dataset you want to use \n",
    "    col = On the column you want to use this function\n",
    "    name_col1 = give new name to column one\n",
    "    name_col2 = give new name to column two (Preferably count)\n",
    "    '''\n",
    "    #Renaming columns\n",
    "    clean_data = temp.rename(columns={\"index\": new_name_col1,0:new_name_col2})\n",
    "    clean_data[\"New_column\"] = clean_data[new_name_col1].str.strip()\n",
    "    clean_data = clean_data.drop(columns=[new_name_col1])\n",
    "    clean_data = clean_data.sort_values(by=new_name_col2, ascending=False)\n",
    "    clean_data[\"Count%\"+str(year)] = clean_data[new_name_col2]/sum(clean_data[new_name_col2])\n",
    "    \n",
    "    #Grab DataFrame rows where column has certain values\n",
    "    selected_rows = pd.DataFrame(clean_data.groupby(['New_column']).sum().sort_values(by=new_name_col2,\n",
    "                                                                                         ascending = False)).reset_index()\n",
    " \n",
    "    return selected_rows"
   ]
  },
  {
   "cell_type": "code",
   "execution_count": 570,
   "metadata": {
    "collapsed": true
   },
   "outputs": [
    {
     "data": {
      "text/html": [
       "<div>\n",
       "<style scoped>\n",
       "    .dataframe tbody tr th:only-of-type {\n",
       "        vertical-align: middle;\n",
       "    }\n",
       "\n",
       "    .dataframe tbody tr th {\n",
       "        vertical-align: top;\n",
       "    }\n",
       "\n",
       "    .dataframe thead th {\n",
       "        text-align: right;\n",
       "    }\n",
       "</style>\n",
       "<table border=\"1\" class=\"dataframe\">\n",
       "  <thead>\n",
       "    <tr style=\"text-align: right;\">\n",
       "      <th></th>\n",
       "      <th>New_column</th>\n",
       "      <th>Count2016</th>\n",
       "      <th>Count%2016</th>\n",
       "    </tr>\n",
       "  </thead>\n",
       "  <tbody>\n",
       "    <tr>\n",
       "      <td>0</td>\n",
       "      <td>Male</td>\n",
       "      <td>51388.0</td>\n",
       "      <td>0.924477</td>\n",
       "    </tr>\n",
       "    <tr>\n",
       "      <td>1</td>\n",
       "      <td>Female</td>\n",
       "      <td>3202.0</td>\n",
       "      <td>0.057604</td>\n",
       "    </tr>\n",
       "    <tr>\n",
       "      <td>2</td>\n",
       "      <td>Prefer not to disclose</td>\n",
       "      <td>722.0</td>\n",
       "      <td>0.012989</td>\n",
       "    </tr>\n",
       "    <tr>\n",
       "      <td>3</td>\n",
       "      <td>Other</td>\n",
       "      <td>274.0</td>\n",
       "      <td>0.004929</td>\n",
       "    </tr>\n",
       "  </tbody>\n",
       "</table>\n",
       "</div>"
      ],
      "text/plain": [
       "               New_column  Count2016  Count%2016\n",
       "0                    Male    51388.0    0.924477\n",
       "1                  Female     3202.0    0.057604\n",
       "2  Prefer not to disclose      722.0    0.012989\n",
       "3                   Other      274.0    0.004929"
      ]
     },
     "execution_count": 570,
     "metadata": {},
     "output_type": "execute_result"
    }
   ],
   "source": [
    "genders_2016 = genders(survey_2016,\"gender\",\"Genders_all\",2016)\n",
    "genders_2016 "
   ]
  },
  {
   "cell_type": "code",
   "execution_count": 571,
   "metadata": {},
   "outputs": [],
   "source": [
    "genders_2016 = genders_2016.replace([\"Gender non-conforming\",\"Transgender\",\"Other\",\"Prefer not to disclose\"],\"LGBTQ+\")"
   ]
  },
  {
   "cell_type": "code",
   "execution_count": 572,
   "metadata": {
    "collapsed": true
   },
   "outputs": [
    {
     "data": {
      "text/html": [
       "<div>\n",
       "<style scoped>\n",
       "    .dataframe tbody tr th:only-of-type {\n",
       "        vertical-align: middle;\n",
       "    }\n",
       "\n",
       "    .dataframe tbody tr th {\n",
       "        vertical-align: top;\n",
       "    }\n",
       "\n",
       "    .dataframe thead th {\n",
       "        text-align: right;\n",
       "    }\n",
       "</style>\n",
       "<table border=\"1\" class=\"dataframe\">\n",
       "  <thead>\n",
       "    <tr style=\"text-align: right;\">\n",
       "      <th></th>\n",
       "      <th>New_column</th>\n",
       "      <th>Count2017</th>\n",
       "      <th>Count%2017</th>\n",
       "    </tr>\n",
       "  </thead>\n",
       "  <tbody>\n",
       "    <tr>\n",
       "      <td>0</td>\n",
       "      <td>Male</td>\n",
       "      <td>31890.0</td>\n",
       "      <td>0.896920</td>\n",
       "    </tr>\n",
       "    <tr>\n",
       "      <td>1</td>\n",
       "      <td>Female</td>\n",
       "      <td>2743.0</td>\n",
       "      <td>0.077148</td>\n",
       "    </tr>\n",
       "    <tr>\n",
       "      <td>2</td>\n",
       "      <td>Other</td>\n",
       "      <td>428.0</td>\n",
       "      <td>0.012038</td>\n",
       "    </tr>\n",
       "    <tr>\n",
       "      <td>3</td>\n",
       "      <td>Gender non-conforming</td>\n",
       "      <td>314.0</td>\n",
       "      <td>0.008831</td>\n",
       "    </tr>\n",
       "    <tr>\n",
       "      <td>4</td>\n",
       "      <td>Transgender</td>\n",
       "      <td>180.0</td>\n",
       "      <td>0.005063</td>\n",
       "    </tr>\n",
       "  </tbody>\n",
       "</table>\n",
       "</div>"
      ],
      "text/plain": [
       "              New_column  Count2017  Count%2017\n",
       "0                   Male    31890.0    0.896920\n",
       "1                 Female     2743.0    0.077148\n",
       "2                  Other      428.0    0.012038\n",
       "3  Gender non-conforming      314.0    0.008831\n",
       "4            Transgender      180.0    0.005063"
      ]
     },
     "execution_count": 572,
     "metadata": {},
     "output_type": "execute_result"
    }
   ],
   "source": [
    "genders_2017 = genders(survey_2017,\"Gender\",\"Genders_all\",2017)\n",
    "genders_2017 "
   ]
  },
  {
   "cell_type": "code",
   "execution_count": 573,
   "metadata": {},
   "outputs": [],
   "source": [
    "genders_2017 = genders_2017.replace([\"Gender non-conforming\",\"Transgender\",\"Other\"],\"LGBTQ+\")"
   ]
  },
  {
   "cell_type": "code",
   "execution_count": 574,
   "metadata": {
    "collapsed": true
   },
   "outputs": [
    {
     "data": {
      "text/html": [
       "<div>\n",
       "<style scoped>\n",
       "    .dataframe tbody tr th:only-of-type {\n",
       "        vertical-align: middle;\n",
       "    }\n",
       "\n",
       "    .dataframe tbody tr th {\n",
       "        vertical-align: top;\n",
       "    }\n",
       "\n",
       "    .dataframe thead th {\n",
       "        text-align: right;\n",
       "    }\n",
       "</style>\n",
       "<table border=\"1\" class=\"dataframe\">\n",
       "  <thead>\n",
       "    <tr style=\"text-align: right;\">\n",
       "      <th></th>\n",
       "      <th>New_column</th>\n",
       "      <th>Count2018</th>\n",
       "      <th>Count%2018</th>\n",
       "    </tr>\n",
       "  </thead>\n",
       "  <tbody>\n",
       "    <tr>\n",
       "      <td>0</td>\n",
       "      <td>Male</td>\n",
       "      <td>59785.0</td>\n",
       "      <td>0.916779</td>\n",
       "    </tr>\n",
       "    <tr>\n",
       "      <td>1</td>\n",
       "      <td>Female</td>\n",
       "      <td>4409.0</td>\n",
       "      <td>0.067610</td>\n",
       "    </tr>\n",
       "    <tr>\n",
       "      <td>2</td>\n",
       "      <td>Non-binary, genderqueer, or gender non-conforming</td>\n",
       "      <td>595.0</td>\n",
       "      <td>0.009124</td>\n",
       "    </tr>\n",
       "    <tr>\n",
       "      <td>3</td>\n",
       "      <td>Transgender</td>\n",
       "      <td>423.0</td>\n",
       "      <td>0.006487</td>\n",
       "    </tr>\n",
       "  </tbody>\n",
       "</table>\n",
       "</div>"
      ],
      "text/plain": [
       "                                          New_column  Count2018  Count%2018\n",
       "0                                               Male    59785.0    0.916779\n",
       "1                                             Female     4409.0    0.067610\n",
       "2  Non-binary, genderqueer, or gender non-conforming      595.0    0.009124\n",
       "3                                        Transgender      423.0    0.006487"
      ]
     },
     "execution_count": 574,
     "metadata": {},
     "output_type": "execute_result"
    }
   ],
   "source": [
    "genders_2018 = genders(survey_2018,\"Gender\",\"Genders_all\",2018)\n",
    "genders_2018"
   ]
  },
  {
   "cell_type": "code",
   "execution_count": 575,
   "metadata": {},
   "outputs": [],
   "source": [
    "genders_2018 = genders_2018.replace([\"Non-binary, genderqueer, or gender non-conforming\",\"Transgender\",\"Other\"],\n",
    "                                    \"LGBTQ+\")"
   ]
  },
  {
   "cell_type": "code",
   "execution_count": 576,
   "metadata": {
    "collapsed": true
   },
   "outputs": [
    {
     "data": {
      "text/html": [
       "<div>\n",
       "<style scoped>\n",
       "    .dataframe tbody tr th:only-of-type {\n",
       "        vertical-align: middle;\n",
       "    }\n",
       "\n",
       "    .dataframe tbody tr th {\n",
       "        vertical-align: top;\n",
       "    }\n",
       "\n",
       "    .dataframe thead th {\n",
       "        text-align: right;\n",
       "    }\n",
       "</style>\n",
       "<table border=\"1\" class=\"dataframe\">\n",
       "  <thead>\n",
       "    <tr style=\"text-align: right;\">\n",
       "      <th></th>\n",
       "      <th>New_column</th>\n",
       "      <th>Count2019</th>\n",
       "      <th>Count%2019</th>\n",
       "    </tr>\n",
       "  </thead>\n",
       "  <tbody>\n",
       "    <tr>\n",
       "      <td>0</td>\n",
       "      <td>Man</td>\n",
       "      <td>78302.0</td>\n",
       "      <td>0.910256</td>\n",
       "    </tr>\n",
       "    <tr>\n",
       "      <td>1</td>\n",
       "      <td>Woman</td>\n",
       "      <td>6709.0</td>\n",
       "      <td>0.077992</td>\n",
       "    </tr>\n",
       "    <tr>\n",
       "      <td>2</td>\n",
       "      <td>Non-binary, genderqueer, or gender non-conforming</td>\n",
       "      <td>1011.0</td>\n",
       "      <td>0.011753</td>\n",
       "    </tr>\n",
       "  </tbody>\n",
       "</table>\n",
       "</div>"
      ],
      "text/plain": [
       "                                          New_column  Count2019  Count%2019\n",
       "0                                                Man    78302.0    0.910256\n",
       "1                                              Woman     6709.0    0.077992\n",
       "2  Non-binary, genderqueer, or gender non-conforming     1011.0    0.011753"
      ]
     },
     "execution_count": 576,
     "metadata": {},
     "output_type": "execute_result"
    }
   ],
   "source": [
    "genders_2019 = genders(survey_2019,\"Gender\",\"Genders_all\",2019)\n",
    "genders_2019"
   ]
  },
  {
   "cell_type": "code",
   "execution_count": 577,
   "metadata": {},
   "outputs": [],
   "source": [
    "genders_2019 = genders_2019.replace([\"Non-binary, genderqueer, or gender non-conforming\",\"Transgender\",\"Other\"],\"LGBTQ+\")\n",
    "genders_2019 = genders_2019.replace([\"Man\",\"Woman\"],[\"Male\",\"Female\"])"
   ]
  },
  {
   "cell_type": "code",
   "execution_count": 578,
   "metadata": {},
   "outputs": [
    {
     "data": {
      "application/vnd.plotly.v1+json": {
       "config": {
        "plotlyServerURL": "https://plot.ly"
       },
       "data": [
        {
         "domain": {
          "x": [
           0,
           0.2125
          ],
          "y": [
           0,
           1
          ]
         },
         "labels": [
          "Male",
          "Female",
          "LGBTQ+",
          "LGBTQ+",
          "LGBTQ+"
         ],
         "name": "Top 10 Computer Programming Languages in 2017",
         "textinfo": "label+percent",
         "type": "pie",
         "values": [
          51388,
          3202,
          722,
          274
         ]
        },
        {
         "domain": {
          "x": [
           0.2625,
           0.475
          ],
          "y": [
           0,
           1
          ]
         },
         "labels": [
          "Male",
          "Female",
          "LGBTQ+",
          "LGBTQ+",
          "LGBTQ+"
         ],
         "name": "Top 10 Computer Programming Languages in 2017",
         "textinfo": "label+percent",
         "type": "pie",
         "values": [
          31890,
          2743,
          428,
          314,
          180
         ]
        },
        {
         "domain": {
          "x": [
           0.525,
           0.7375
          ],
          "y": [
           0,
           1
          ]
         },
         "labels": [
          "Male",
          "Female",
          "LGBTQ+",
          "LGBTQ+"
         ],
         "name": "Top 10 Computer Programming Languages in 2018",
         "textinfo": "label+percent",
         "type": "pie",
         "values": [
          59785,
          4409,
          595,
          423
         ]
        },
        {
         "domain": {
          "x": [
           0.7875,
           1
          ],
          "y": [
           0,
           1
          ]
         },
         "labels": [
          "Male",
          "Female",
          "LGBTQ+"
         ],
         "name": "Top 10 Computer Programming Languages in 2019",
         "textinfo": "label+percent",
         "type": "pie",
         "values": [
          78302,
          6709,
          1011
         ]
        }
       ],
       "layout": {
        "annotations": [
         {
          "font": {
           "size": 16
          },
          "showarrow": false,
          "text": "2016",
          "x": 0.10625,
          "xanchor": "center",
          "xref": "paper",
          "y": 1,
          "yanchor": "bottom",
          "yref": "paper"
         },
         {
          "font": {
           "size": 16
          },
          "showarrow": false,
          "text": "2017",
          "x": 0.36875,
          "xanchor": "center",
          "xref": "paper",
          "y": 1,
          "yanchor": "bottom",
          "yref": "paper"
         },
         {
          "font": {
           "size": 16
          },
          "showarrow": false,
          "text": "2018",
          "x": 0.6312500000000001,
          "xanchor": "center",
          "xref": "paper",
          "y": 1,
          "yanchor": "bottom",
          "yref": "paper"
         },
         {
          "font": {
           "size": 16
          },
          "showarrow": false,
          "text": "2019",
          "x": 0.89375,
          "xanchor": "center",
          "xref": "paper",
          "y": 1,
          "yanchor": "bottom",
          "yref": "paper"
         }
        ],
        "template": {
         "data": {
          "bar": [
           {
            "error_x": {
             "color": "#2a3f5f"
            },
            "error_y": {
             "color": "#2a3f5f"
            },
            "marker": {
             "line": {
              "color": "#E5ECF6",
              "width": 0.5
             }
            },
            "type": "bar"
           }
          ],
          "barpolar": [
           {
            "marker": {
             "line": {
              "color": "#E5ECF6",
              "width": 0.5
             }
            },
            "type": "barpolar"
           }
          ],
          "carpet": [
           {
            "aaxis": {
             "endlinecolor": "#2a3f5f",
             "gridcolor": "white",
             "linecolor": "white",
             "minorgridcolor": "white",
             "startlinecolor": "#2a3f5f"
            },
            "baxis": {
             "endlinecolor": "#2a3f5f",
             "gridcolor": "white",
             "linecolor": "white",
             "minorgridcolor": "white",
             "startlinecolor": "#2a3f5f"
            },
            "type": "carpet"
           }
          ],
          "choropleth": [
           {
            "colorbar": {
             "outlinewidth": 0,
             "ticks": ""
            },
            "type": "choropleth"
           }
          ],
          "contour": [
           {
            "colorbar": {
             "outlinewidth": 0,
             "ticks": ""
            },
            "colorscale": [
             [
              0,
              "#0d0887"
             ],
             [
              0.1111111111111111,
              "#46039f"
             ],
             [
              0.2222222222222222,
              "#7201a8"
             ],
             [
              0.3333333333333333,
              "#9c179e"
             ],
             [
              0.4444444444444444,
              "#bd3786"
             ],
             [
              0.5555555555555556,
              "#d8576b"
             ],
             [
              0.6666666666666666,
              "#ed7953"
             ],
             [
              0.7777777777777778,
              "#fb9f3a"
             ],
             [
              0.8888888888888888,
              "#fdca26"
             ],
             [
              1,
              "#f0f921"
             ]
            ],
            "type": "contour"
           }
          ],
          "contourcarpet": [
           {
            "colorbar": {
             "outlinewidth": 0,
             "ticks": ""
            },
            "type": "contourcarpet"
           }
          ],
          "heatmap": [
           {
            "colorbar": {
             "outlinewidth": 0,
             "ticks": ""
            },
            "colorscale": [
             [
              0,
              "#0d0887"
             ],
             [
              0.1111111111111111,
              "#46039f"
             ],
             [
              0.2222222222222222,
              "#7201a8"
             ],
             [
              0.3333333333333333,
              "#9c179e"
             ],
             [
              0.4444444444444444,
              "#bd3786"
             ],
             [
              0.5555555555555556,
              "#d8576b"
             ],
             [
              0.6666666666666666,
              "#ed7953"
             ],
             [
              0.7777777777777778,
              "#fb9f3a"
             ],
             [
              0.8888888888888888,
              "#fdca26"
             ],
             [
              1,
              "#f0f921"
             ]
            ],
            "type": "heatmap"
           }
          ],
          "heatmapgl": [
           {
            "colorbar": {
             "outlinewidth": 0,
             "ticks": ""
            },
            "colorscale": [
             [
              0,
              "#0d0887"
             ],
             [
              0.1111111111111111,
              "#46039f"
             ],
             [
              0.2222222222222222,
              "#7201a8"
             ],
             [
              0.3333333333333333,
              "#9c179e"
             ],
             [
              0.4444444444444444,
              "#bd3786"
             ],
             [
              0.5555555555555556,
              "#d8576b"
             ],
             [
              0.6666666666666666,
              "#ed7953"
             ],
             [
              0.7777777777777778,
              "#fb9f3a"
             ],
             [
              0.8888888888888888,
              "#fdca26"
             ],
             [
              1,
              "#f0f921"
             ]
            ],
            "type": "heatmapgl"
           }
          ],
          "histogram": [
           {
            "marker": {
             "colorbar": {
              "outlinewidth": 0,
              "ticks": ""
             }
            },
            "type": "histogram"
           }
          ],
          "histogram2d": [
           {
            "colorbar": {
             "outlinewidth": 0,
             "ticks": ""
            },
            "colorscale": [
             [
              0,
              "#0d0887"
             ],
             [
              0.1111111111111111,
              "#46039f"
             ],
             [
              0.2222222222222222,
              "#7201a8"
             ],
             [
              0.3333333333333333,
              "#9c179e"
             ],
             [
              0.4444444444444444,
              "#bd3786"
             ],
             [
              0.5555555555555556,
              "#d8576b"
             ],
             [
              0.6666666666666666,
              "#ed7953"
             ],
             [
              0.7777777777777778,
              "#fb9f3a"
             ],
             [
              0.8888888888888888,
              "#fdca26"
             ],
             [
              1,
              "#f0f921"
             ]
            ],
            "type": "histogram2d"
           }
          ],
          "histogram2dcontour": [
           {
            "colorbar": {
             "outlinewidth": 0,
             "ticks": ""
            },
            "colorscale": [
             [
              0,
              "#0d0887"
             ],
             [
              0.1111111111111111,
              "#46039f"
             ],
             [
              0.2222222222222222,
              "#7201a8"
             ],
             [
              0.3333333333333333,
              "#9c179e"
             ],
             [
              0.4444444444444444,
              "#bd3786"
             ],
             [
              0.5555555555555556,
              "#d8576b"
             ],
             [
              0.6666666666666666,
              "#ed7953"
             ],
             [
              0.7777777777777778,
              "#fb9f3a"
             ],
             [
              0.8888888888888888,
              "#fdca26"
             ],
             [
              1,
              "#f0f921"
             ]
            ],
            "type": "histogram2dcontour"
           }
          ],
          "mesh3d": [
           {
            "colorbar": {
             "outlinewidth": 0,
             "ticks": ""
            },
            "type": "mesh3d"
           }
          ],
          "parcoords": [
           {
            "line": {
             "colorbar": {
              "outlinewidth": 0,
              "ticks": ""
             }
            },
            "type": "parcoords"
           }
          ],
          "pie": [
           {
            "automargin": true,
            "type": "pie"
           }
          ],
          "scatter": [
           {
            "marker": {
             "colorbar": {
              "outlinewidth": 0,
              "ticks": ""
             }
            },
            "type": "scatter"
           }
          ],
          "scatter3d": [
           {
            "line": {
             "colorbar": {
              "outlinewidth": 0,
              "ticks": ""
             }
            },
            "marker": {
             "colorbar": {
              "outlinewidth": 0,
              "ticks": ""
             }
            },
            "type": "scatter3d"
           }
          ],
          "scattercarpet": [
           {
            "marker": {
             "colorbar": {
              "outlinewidth": 0,
              "ticks": ""
             }
            },
            "type": "scattercarpet"
           }
          ],
          "scattergeo": [
           {
            "marker": {
             "colorbar": {
              "outlinewidth": 0,
              "ticks": ""
             }
            },
            "type": "scattergeo"
           }
          ],
          "scattergl": [
           {
            "marker": {
             "colorbar": {
              "outlinewidth": 0,
              "ticks": ""
             }
            },
            "type": "scattergl"
           }
          ],
          "scattermapbox": [
           {
            "marker": {
             "colorbar": {
              "outlinewidth": 0,
              "ticks": ""
             }
            },
            "type": "scattermapbox"
           }
          ],
          "scatterpolar": [
           {
            "marker": {
             "colorbar": {
              "outlinewidth": 0,
              "ticks": ""
             }
            },
            "type": "scatterpolar"
           }
          ],
          "scatterpolargl": [
           {
            "marker": {
             "colorbar": {
              "outlinewidth": 0,
              "ticks": ""
             }
            },
            "type": "scatterpolargl"
           }
          ],
          "scatterternary": [
           {
            "marker": {
             "colorbar": {
              "outlinewidth": 0,
              "ticks": ""
             }
            },
            "type": "scatterternary"
           }
          ],
          "surface": [
           {
            "colorbar": {
             "outlinewidth": 0,
             "ticks": ""
            },
            "colorscale": [
             [
              0,
              "#0d0887"
             ],
             [
              0.1111111111111111,
              "#46039f"
             ],
             [
              0.2222222222222222,
              "#7201a8"
             ],
             [
              0.3333333333333333,
              "#9c179e"
             ],
             [
              0.4444444444444444,
              "#bd3786"
             ],
             [
              0.5555555555555556,
              "#d8576b"
             ],
             [
              0.6666666666666666,
              "#ed7953"
             ],
             [
              0.7777777777777778,
              "#fb9f3a"
             ],
             [
              0.8888888888888888,
              "#fdca26"
             ],
             [
              1,
              "#f0f921"
             ]
            ],
            "type": "surface"
           }
          ],
          "table": [
           {
            "cells": {
             "fill": {
              "color": "#EBF0F8"
             },
             "line": {
              "color": "white"
             }
            },
            "header": {
             "fill": {
              "color": "#C8D4E3"
             },
             "line": {
              "color": "white"
             }
            },
            "type": "table"
           }
          ]
         },
         "layout": {
          "annotationdefaults": {
           "arrowcolor": "#2a3f5f",
           "arrowhead": 0,
           "arrowwidth": 1
          },
          "coloraxis": {
           "colorbar": {
            "outlinewidth": 0,
            "ticks": ""
           }
          },
          "colorscale": {
           "diverging": [
            [
             0,
             "#8e0152"
            ],
            [
             0.1,
             "#c51b7d"
            ],
            [
             0.2,
             "#de77ae"
            ],
            [
             0.3,
             "#f1b6da"
            ],
            [
             0.4,
             "#fde0ef"
            ],
            [
             0.5,
             "#f7f7f7"
            ],
            [
             0.6,
             "#e6f5d0"
            ],
            [
             0.7,
             "#b8e186"
            ],
            [
             0.8,
             "#7fbc41"
            ],
            [
             0.9,
             "#4d9221"
            ],
            [
             1,
             "#276419"
            ]
           ],
           "sequential": [
            [
             0,
             "#0d0887"
            ],
            [
             0.1111111111111111,
             "#46039f"
            ],
            [
             0.2222222222222222,
             "#7201a8"
            ],
            [
             0.3333333333333333,
             "#9c179e"
            ],
            [
             0.4444444444444444,
             "#bd3786"
            ],
            [
             0.5555555555555556,
             "#d8576b"
            ],
            [
             0.6666666666666666,
             "#ed7953"
            ],
            [
             0.7777777777777778,
             "#fb9f3a"
            ],
            [
             0.8888888888888888,
             "#fdca26"
            ],
            [
             1,
             "#f0f921"
            ]
           ],
           "sequentialminus": [
            [
             0,
             "#0d0887"
            ],
            [
             0.1111111111111111,
             "#46039f"
            ],
            [
             0.2222222222222222,
             "#7201a8"
            ],
            [
             0.3333333333333333,
             "#9c179e"
            ],
            [
             0.4444444444444444,
             "#bd3786"
            ],
            [
             0.5555555555555556,
             "#d8576b"
            ],
            [
             0.6666666666666666,
             "#ed7953"
            ],
            [
             0.7777777777777778,
             "#fb9f3a"
            ],
            [
             0.8888888888888888,
             "#fdca26"
            ],
            [
             1,
             "#f0f921"
            ]
           ]
          },
          "colorway": [
           "#636efa",
           "#EF553B",
           "#00cc96",
           "#ab63fa",
           "#FFA15A",
           "#19d3f3",
           "#FF6692",
           "#B6E880",
           "#FF97FF",
           "#FECB52"
          ],
          "font": {
           "color": "#2a3f5f"
          },
          "geo": {
           "bgcolor": "white",
           "lakecolor": "white",
           "landcolor": "#E5ECF6",
           "showlakes": true,
           "showland": true,
           "subunitcolor": "white"
          },
          "hoverlabel": {
           "align": "left"
          },
          "hovermode": "closest",
          "mapbox": {
           "style": "light"
          },
          "paper_bgcolor": "white",
          "plot_bgcolor": "#E5ECF6",
          "polar": {
           "angularaxis": {
            "gridcolor": "white",
            "linecolor": "white",
            "ticks": ""
           },
           "bgcolor": "#E5ECF6",
           "radialaxis": {
            "gridcolor": "white",
            "linecolor": "white",
            "ticks": ""
           }
          },
          "scene": {
           "xaxis": {
            "backgroundcolor": "#E5ECF6",
            "gridcolor": "white",
            "gridwidth": 2,
            "linecolor": "white",
            "showbackground": true,
            "ticks": "",
            "zerolinecolor": "white"
           },
           "yaxis": {
            "backgroundcolor": "#E5ECF6",
            "gridcolor": "white",
            "gridwidth": 2,
            "linecolor": "white",
            "showbackground": true,
            "ticks": "",
            "zerolinecolor": "white"
           },
           "zaxis": {
            "backgroundcolor": "#E5ECF6",
            "gridcolor": "white",
            "gridwidth": 2,
            "linecolor": "white",
            "showbackground": true,
            "ticks": "",
            "zerolinecolor": "white"
           }
          },
          "shapedefaults": {
           "line": {
            "color": "#2a3f5f"
           }
          },
          "ternary": {
           "aaxis": {
            "gridcolor": "white",
            "linecolor": "white",
            "ticks": ""
           },
           "baxis": {
            "gridcolor": "white",
            "linecolor": "white",
            "ticks": ""
           },
           "bgcolor": "#E5ECF6",
           "caxis": {
            "gridcolor": "white",
            "linecolor": "white",
            "ticks": ""
           }
          },
          "title": {
           "x": 0.05
          },
          "xaxis": {
           "automargin": true,
           "gridcolor": "white",
           "linecolor": "white",
           "ticks": "",
           "title": {
            "standoff": 15
           },
           "zerolinecolor": "white",
           "zerolinewidth": 2
          },
          "yaxis": {
           "automargin": true,
           "gridcolor": "white",
           "linecolor": "white",
           "ticks": "",
           "title": {
            "standoff": 15
           },
           "zerolinecolor": "white",
           "zerolinewidth": 2
          }
         }
        },
        "title": {
         "text": "Gender proportion in 2016, 2017, 2018 and 2019"
        }
       }
      },
      "text/html": [
       "<div>\n",
       "        \n",
       "        \n",
       "            <div id=\"e7bd5613-5a35-47b3-bde0-4f126bfc3155\" class=\"plotly-graph-div\" style=\"height:525px; width:100%;\"></div>\n",
       "            <script type=\"text/javascript\">\n",
       "                require([\"plotly\"], function(Plotly) {\n",
       "                    window.PLOTLYENV=window.PLOTLYENV || {};\n",
       "                    \n",
       "                if (document.getElementById(\"e7bd5613-5a35-47b3-bde0-4f126bfc3155\")) {\n",
       "                    Plotly.newPlot(\n",
       "                        'e7bd5613-5a35-47b3-bde0-4f126bfc3155',\n",
       "                        [{\"domain\": {\"x\": [0.0, 0.2125], \"y\": [0.0, 1.0]}, \"labels\": [\"Male\", \"Female\", \"LGBTQ+\", \"LGBTQ+\", \"LGBTQ+\"], \"name\": \"Top 10 Computer Programming Languages in 2017\", \"textinfo\": \"label+percent\", \"type\": \"pie\", \"values\": [51388.0, 3202.0, 722.0, 274.0]}, {\"domain\": {\"x\": [0.2625, 0.475], \"y\": [0.0, 1.0]}, \"labels\": [\"Male\", \"Female\", \"LGBTQ+\", \"LGBTQ+\", \"LGBTQ+\"], \"name\": \"Top 10 Computer Programming Languages in 2017\", \"textinfo\": \"label+percent\", \"type\": \"pie\", \"values\": [31890.0, 2743.0, 428.0, 314.0, 180.0]}, {\"domain\": {\"x\": [0.525, 0.7375], \"y\": [0.0, 1.0]}, \"labels\": [\"Male\", \"Female\", \"LGBTQ+\", \"LGBTQ+\"], \"name\": \"Top 10 Computer Programming Languages in 2018\", \"textinfo\": \"label+percent\", \"type\": \"pie\", \"values\": [59785.0, 4409.0, 595.0, 423.0]}, {\"domain\": {\"x\": [0.7875, 1.0], \"y\": [0.0, 1.0]}, \"labels\": [\"Male\", \"Female\", \"LGBTQ+\"], \"name\": \"Top 10 Computer Programming Languages in 2019\", \"textinfo\": \"label+percent\", \"type\": \"pie\", \"values\": [78302.0, 6709.0, 1011.0]}],\n",
       "                        {\"annotations\": [{\"font\": {\"size\": 16}, \"showarrow\": false, \"text\": \"2016\", \"x\": 0.10625, \"xanchor\": \"center\", \"xref\": \"paper\", \"y\": 1.0, \"yanchor\": \"bottom\", \"yref\": \"paper\"}, {\"font\": {\"size\": 16}, \"showarrow\": false, \"text\": \"2017\", \"x\": 0.36875, \"xanchor\": \"center\", \"xref\": \"paper\", \"y\": 1.0, \"yanchor\": \"bottom\", \"yref\": \"paper\"}, {\"font\": {\"size\": 16}, \"showarrow\": false, \"text\": \"2018\", \"x\": 0.6312500000000001, \"xanchor\": \"center\", \"xref\": \"paper\", \"y\": 1.0, \"yanchor\": \"bottom\", \"yref\": \"paper\"}, {\"font\": {\"size\": 16}, \"showarrow\": false, \"text\": \"2019\", \"x\": 0.89375, \"xanchor\": \"center\", \"xref\": \"paper\", \"y\": 1.0, \"yanchor\": \"bottom\", \"yref\": \"paper\"}], \"template\": {\"data\": {\"bar\": [{\"error_x\": {\"color\": \"#2a3f5f\"}, \"error_y\": {\"color\": \"#2a3f5f\"}, \"marker\": {\"line\": {\"color\": \"#E5ECF6\", \"width\": 0.5}}, \"type\": \"bar\"}], \"barpolar\": [{\"marker\": {\"line\": {\"color\": \"#E5ECF6\", \"width\": 0.5}}, \"type\": \"barpolar\"}], \"carpet\": [{\"aaxis\": {\"endlinecolor\": \"#2a3f5f\", \"gridcolor\": \"white\", \"linecolor\": \"white\", \"minorgridcolor\": \"white\", \"startlinecolor\": \"#2a3f5f\"}, \"baxis\": {\"endlinecolor\": \"#2a3f5f\", \"gridcolor\": \"white\", \"linecolor\": \"white\", \"minorgridcolor\": \"white\", \"startlinecolor\": \"#2a3f5f\"}, \"type\": \"carpet\"}], \"choropleth\": [{\"colorbar\": {\"outlinewidth\": 0, \"ticks\": \"\"}, \"type\": \"choropleth\"}], \"contour\": [{\"colorbar\": {\"outlinewidth\": 0, \"ticks\": \"\"}, \"colorscale\": [[0.0, \"#0d0887\"], [0.1111111111111111, \"#46039f\"], [0.2222222222222222, \"#7201a8\"], [0.3333333333333333, \"#9c179e\"], [0.4444444444444444, \"#bd3786\"], [0.5555555555555556, \"#d8576b\"], [0.6666666666666666, \"#ed7953\"], [0.7777777777777778, \"#fb9f3a\"], [0.8888888888888888, \"#fdca26\"], [1.0, \"#f0f921\"]], \"type\": \"contour\"}], \"contourcarpet\": [{\"colorbar\": {\"outlinewidth\": 0, \"ticks\": \"\"}, \"type\": \"contourcarpet\"}], \"heatmap\": [{\"colorbar\": {\"outlinewidth\": 0, \"ticks\": \"\"}, \"colorscale\": [[0.0, \"#0d0887\"], [0.1111111111111111, \"#46039f\"], [0.2222222222222222, \"#7201a8\"], [0.3333333333333333, \"#9c179e\"], [0.4444444444444444, \"#bd3786\"], [0.5555555555555556, \"#d8576b\"], [0.6666666666666666, \"#ed7953\"], [0.7777777777777778, \"#fb9f3a\"], [0.8888888888888888, \"#fdca26\"], [1.0, \"#f0f921\"]], \"type\": \"heatmap\"}], \"heatmapgl\": [{\"colorbar\": {\"outlinewidth\": 0, \"ticks\": \"\"}, \"colorscale\": [[0.0, \"#0d0887\"], [0.1111111111111111, \"#46039f\"], [0.2222222222222222, \"#7201a8\"], [0.3333333333333333, \"#9c179e\"], [0.4444444444444444, \"#bd3786\"], [0.5555555555555556, \"#d8576b\"], [0.6666666666666666, \"#ed7953\"], [0.7777777777777778, \"#fb9f3a\"], [0.8888888888888888, \"#fdca26\"], [1.0, \"#f0f921\"]], \"type\": \"heatmapgl\"}], \"histogram\": [{\"marker\": {\"colorbar\": {\"outlinewidth\": 0, \"ticks\": \"\"}}, \"type\": \"histogram\"}], \"histogram2d\": [{\"colorbar\": {\"outlinewidth\": 0, \"ticks\": \"\"}, \"colorscale\": [[0.0, \"#0d0887\"], [0.1111111111111111, \"#46039f\"], [0.2222222222222222, \"#7201a8\"], [0.3333333333333333, \"#9c179e\"], [0.4444444444444444, \"#bd3786\"], [0.5555555555555556, \"#d8576b\"], [0.6666666666666666, \"#ed7953\"], [0.7777777777777778, \"#fb9f3a\"], [0.8888888888888888, \"#fdca26\"], [1.0, \"#f0f921\"]], \"type\": \"histogram2d\"}], \"histogram2dcontour\": [{\"colorbar\": {\"outlinewidth\": 0, \"ticks\": \"\"}, \"colorscale\": [[0.0, \"#0d0887\"], [0.1111111111111111, \"#46039f\"], [0.2222222222222222, \"#7201a8\"], [0.3333333333333333, \"#9c179e\"], [0.4444444444444444, \"#bd3786\"], [0.5555555555555556, \"#d8576b\"], [0.6666666666666666, \"#ed7953\"], [0.7777777777777778, \"#fb9f3a\"], [0.8888888888888888, \"#fdca26\"], [1.0, \"#f0f921\"]], \"type\": \"histogram2dcontour\"}], \"mesh3d\": [{\"colorbar\": {\"outlinewidth\": 0, \"ticks\": \"\"}, \"type\": \"mesh3d\"}], \"parcoords\": [{\"line\": {\"colorbar\": {\"outlinewidth\": 0, \"ticks\": \"\"}}, \"type\": \"parcoords\"}], \"pie\": [{\"automargin\": true, \"type\": \"pie\"}], \"scatter\": [{\"marker\": {\"colorbar\": {\"outlinewidth\": 0, \"ticks\": \"\"}}, \"type\": \"scatter\"}], \"scatter3d\": [{\"line\": {\"colorbar\": {\"outlinewidth\": 0, \"ticks\": \"\"}}, \"marker\": {\"colorbar\": {\"outlinewidth\": 0, \"ticks\": \"\"}}, \"type\": \"scatter3d\"}], \"scattercarpet\": [{\"marker\": {\"colorbar\": {\"outlinewidth\": 0, \"ticks\": \"\"}}, \"type\": \"scattercarpet\"}], \"scattergeo\": [{\"marker\": {\"colorbar\": {\"outlinewidth\": 0, \"ticks\": \"\"}}, \"type\": \"scattergeo\"}], \"scattergl\": [{\"marker\": {\"colorbar\": {\"outlinewidth\": 0, \"ticks\": \"\"}}, \"type\": \"scattergl\"}], \"scattermapbox\": [{\"marker\": {\"colorbar\": {\"outlinewidth\": 0, \"ticks\": \"\"}}, \"type\": \"scattermapbox\"}], \"scatterpolar\": [{\"marker\": {\"colorbar\": {\"outlinewidth\": 0, \"ticks\": \"\"}}, \"type\": \"scatterpolar\"}], \"scatterpolargl\": [{\"marker\": {\"colorbar\": {\"outlinewidth\": 0, \"ticks\": \"\"}}, \"type\": \"scatterpolargl\"}], \"scatterternary\": [{\"marker\": {\"colorbar\": {\"outlinewidth\": 0, \"ticks\": \"\"}}, \"type\": \"scatterternary\"}], \"surface\": [{\"colorbar\": {\"outlinewidth\": 0, \"ticks\": \"\"}, \"colorscale\": [[0.0, \"#0d0887\"], [0.1111111111111111, \"#46039f\"], [0.2222222222222222, \"#7201a8\"], [0.3333333333333333, \"#9c179e\"], [0.4444444444444444, \"#bd3786\"], [0.5555555555555556, \"#d8576b\"], [0.6666666666666666, \"#ed7953\"], [0.7777777777777778, \"#fb9f3a\"], [0.8888888888888888, \"#fdca26\"], [1.0, \"#f0f921\"]], \"type\": \"surface\"}], \"table\": [{\"cells\": {\"fill\": {\"color\": \"#EBF0F8\"}, \"line\": {\"color\": \"white\"}}, \"header\": {\"fill\": {\"color\": \"#C8D4E3\"}, \"line\": {\"color\": \"white\"}}, \"type\": \"table\"}]}, \"layout\": {\"annotationdefaults\": {\"arrowcolor\": \"#2a3f5f\", \"arrowhead\": 0, \"arrowwidth\": 1}, \"coloraxis\": {\"colorbar\": {\"outlinewidth\": 0, \"ticks\": \"\"}}, \"colorscale\": {\"diverging\": [[0, \"#8e0152\"], [0.1, \"#c51b7d\"], [0.2, \"#de77ae\"], [0.3, \"#f1b6da\"], [0.4, \"#fde0ef\"], [0.5, \"#f7f7f7\"], [0.6, \"#e6f5d0\"], [0.7, \"#b8e186\"], [0.8, \"#7fbc41\"], [0.9, \"#4d9221\"], [1, \"#276419\"]], \"sequential\": [[0.0, \"#0d0887\"], [0.1111111111111111, \"#46039f\"], [0.2222222222222222, \"#7201a8\"], [0.3333333333333333, \"#9c179e\"], [0.4444444444444444, \"#bd3786\"], [0.5555555555555556, \"#d8576b\"], [0.6666666666666666, \"#ed7953\"], [0.7777777777777778, \"#fb9f3a\"], [0.8888888888888888, \"#fdca26\"], [1.0, \"#f0f921\"]], \"sequentialminus\": [[0.0, \"#0d0887\"], [0.1111111111111111, \"#46039f\"], [0.2222222222222222, \"#7201a8\"], [0.3333333333333333, \"#9c179e\"], [0.4444444444444444, \"#bd3786\"], [0.5555555555555556, \"#d8576b\"], [0.6666666666666666, \"#ed7953\"], [0.7777777777777778, \"#fb9f3a\"], [0.8888888888888888, \"#fdca26\"], [1.0, \"#f0f921\"]]}, \"colorway\": [\"#636efa\", \"#EF553B\", \"#00cc96\", \"#ab63fa\", \"#FFA15A\", \"#19d3f3\", \"#FF6692\", \"#B6E880\", \"#FF97FF\", \"#FECB52\"], \"font\": {\"color\": \"#2a3f5f\"}, \"geo\": {\"bgcolor\": \"white\", \"lakecolor\": \"white\", \"landcolor\": \"#E5ECF6\", \"showlakes\": true, \"showland\": true, \"subunitcolor\": \"white\"}, \"hoverlabel\": {\"align\": \"left\"}, \"hovermode\": \"closest\", \"mapbox\": {\"style\": \"light\"}, \"paper_bgcolor\": \"white\", \"plot_bgcolor\": \"#E5ECF6\", \"polar\": {\"angularaxis\": {\"gridcolor\": \"white\", \"linecolor\": \"white\", \"ticks\": \"\"}, \"bgcolor\": \"#E5ECF6\", \"radialaxis\": {\"gridcolor\": \"white\", \"linecolor\": \"white\", \"ticks\": \"\"}}, \"scene\": {\"xaxis\": {\"backgroundcolor\": \"#E5ECF6\", \"gridcolor\": \"white\", \"gridwidth\": 2, \"linecolor\": \"white\", \"showbackground\": true, \"ticks\": \"\", \"zerolinecolor\": \"white\"}, \"yaxis\": {\"backgroundcolor\": \"#E5ECF6\", \"gridcolor\": \"white\", \"gridwidth\": 2, \"linecolor\": \"white\", \"showbackground\": true, \"ticks\": \"\", \"zerolinecolor\": \"white\"}, \"zaxis\": {\"backgroundcolor\": \"#E5ECF6\", \"gridcolor\": \"white\", \"gridwidth\": 2, \"linecolor\": \"white\", \"showbackground\": true, \"ticks\": \"\", \"zerolinecolor\": \"white\"}}, \"shapedefaults\": {\"line\": {\"color\": \"#2a3f5f\"}}, \"ternary\": {\"aaxis\": {\"gridcolor\": \"white\", \"linecolor\": \"white\", \"ticks\": \"\"}, \"baxis\": {\"gridcolor\": \"white\", \"linecolor\": \"white\", \"ticks\": \"\"}, \"bgcolor\": \"#E5ECF6\", \"caxis\": {\"gridcolor\": \"white\", \"linecolor\": \"white\", \"ticks\": \"\"}}, \"title\": {\"x\": 0.05}, \"xaxis\": {\"automargin\": true, \"gridcolor\": \"white\", \"linecolor\": \"white\", \"ticks\": \"\", \"title\": {\"standoff\": 15}, \"zerolinecolor\": \"white\", \"zerolinewidth\": 2}, \"yaxis\": {\"automargin\": true, \"gridcolor\": \"white\", \"linecolor\": \"white\", \"ticks\": \"\", \"title\": {\"standoff\": 15}, \"zerolinecolor\": \"white\", \"zerolinewidth\": 2}}}, \"title\": {\"text\": \"Gender proportion in 2016, 2017, 2018 and 2019\"}},\n",
       "                        {\"responsive\": true}\n",
       "                    ).then(function(){\n",
       "                            \n",
       "var gd = document.getElementById('e7bd5613-5a35-47b3-bde0-4f126bfc3155');\n",
       "var x = new MutationObserver(function (mutations, observer) {{\n",
       "        var display = window.getComputedStyle(gd).display;\n",
       "        if (!display || display === 'none') {{\n",
       "            console.log([gd, 'removed!']);\n",
       "            Plotly.purge(gd);\n",
       "            observer.disconnect();\n",
       "        }}\n",
       "}});\n",
       "\n",
       "// Listen for the removal of the full notebook cells\n",
       "var notebookContainer = gd.closest('#notebook-container');\n",
       "if (notebookContainer) {{\n",
       "    x.observe(notebookContainer, {childList: true});\n",
       "}}\n",
       "\n",
       "// Listen for the clearing of the current output cell\n",
       "var outputEl = gd.closest('.output');\n",
       "if (outputEl) {{\n",
       "    x.observe(outputEl, {childList: true});\n",
       "}}\n",
       "\n",
       "                        })\n",
       "                };\n",
       "                });\n",
       "            </script>\n",
       "        </div>"
      ]
     },
     "metadata": {},
     "output_type": "display_data"
    }
   ],
   "source": [
    "# Create subplots, using 'domain' type for pie charts\n",
    "specs = [[{'type':'domain'}, {'type':'domain'},{'type':'domain'},{'type':'domain'}]]\n",
    "fig = make_subplots(rows=1, cols=4, specs=specs, subplot_titles=('2016','2017','2018','2019'))\n",
    "\n",
    "\n",
    "fig.add_trace(go.Pie(labels=genders_2017.New_column,values= genders_2016.Count2016,\n",
    "             name='Top 10 Computer Programming Languages in 2017'),1,1)\n",
    "\n",
    "fig.add_trace(go.Pie(labels=genders_2017.New_column,values= genders_2017.Count2017,\n",
    "             name='Top 10 Computer Programming Languages in 2017'),1,2)\n",
    "\n",
    "fig.add_trace(go.Pie(labels=genders_2018.New_column,values= genders_2018.Count2018,  \n",
    "             name= 'Top 10 Computer Programming Languages in 2018'),1,3)\n",
    "\n",
    "fig.add_trace(go.Pie(labels=genders_2019.New_column,values= genders_2019.Count2019,  \n",
    "             name= 'Top 10 Computer Programming Languages in 2019'),1,4)\n",
    "\n",
    "\n",
    "fig.update_traces(textinfo='label+percent')\n",
    "fig.update_layout(title_text=\"Gender proportion in 2016, 2017, 2018 and 2019\")\n",
    "\n",
    "fig.show()"
   ]
  },
  {
   "cell_type": "markdown",
   "metadata": {},
   "source": [
    "**Notes:**\n",
    "\n",
    "- In 2019 we changed name of entries from \"Man\" to \"Male and from \"Woman\" to \"Female\" for this comparative analysis. \n",
    "\n",
    "**Observations:** \n",
    "\n",
    "- As we can see from the above graphs that more than 90% developers are male and around 8% are females."
   ]
  },
  {
   "cell_type": "code",
   "execution_count": null,
   "metadata": {},
   "outputs": [],
   "source": []
  }
 ],
 "metadata": {
  "kernelspec": {
   "display_name": "Python 3",
   "language": "python",
   "name": "python3"
  },
  "language_info": {
   "codemirror_mode": {
    "name": "ipython",
    "version": 3
   },
   "file_extension": ".py",
   "mimetype": "text/x-python",
   "name": "python",
   "nbconvert_exporter": "python",
   "pygments_lexer": "ipython3",
   "version": "3.7.4"
  }
 },
 "nbformat": 4,
 "nbformat_minor": 2
}
