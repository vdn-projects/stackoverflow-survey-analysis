{
 "cells": [
  {
   "cell_type": "markdown",
   "metadata": {},
   "source": [
    "# Stack overflow survey 2020 analysis"
   ]
  },
  {
   "cell_type": "code",
   "execution_count": 226,
   "metadata": {},
   "outputs": [],
   "source": [
    "import numpy as np\n",
    "import pandas as pd\n",
    "import matplotlib.pyplot as plt\n",
    "pd.set_option('display.max_columns', None)\n",
    "import plotly.express as px"
   ]
  },
  {
   "cell_type": "markdown",
   "metadata": {},
   "source": [
    "## Project motivation"
   ]
  },
  {
   "cell_type": "markdown",
   "metadata": {},
   "source": [
    "Im interested in Stackoverflow data from 2020 to answer the following questions:\n",
    "1. What are the top priorities of working as a developer professional?\n",
    "1. How coding languages associated with salary?\n",
    "1. Understand the correlation between salary with developer type, year of experience?"
   ]
  },
  {
   "cell_type": "markdown",
   "metadata": {},
   "source": [
    "## Prepare data\n",
    "Data can be downloaded from [Stackoverflow](https://insights.stackoverflow.com/survey). Used data is taken from the 2020 survey on 64,461 people with 61 columns of data."
   ]
  },
  {
   "cell_type": "code",
   "execution_count": 227,
   "metadata": {
    "scrolled": true
   },
   "outputs": [
    {
     "name": "stdout",
     "output_type": "stream",
     "text": [
      "Shape:\n",
      "(64461, 61)\n",
      "Data Type:\n",
      "\n",
      "Respondent: int64\n",
      "MainBranch: object\n",
      "Hobbyist: object\n",
      "Age: float64\n",
      "Age1stCode: object\n",
      "CompFreq: object\n",
      "CompTotal: float64\n",
      "ConvertedComp: float64\n",
      "Country: object\n",
      "CurrencyDesc: object\n",
      "CurrencySymbol: object\n",
      "DatabaseDesireNextYear: object\n",
      "DatabaseWorkedWith: object\n",
      "DevType: object\n",
      "EdLevel: object\n",
      "Employment: object\n",
      "Ethnicity: object\n",
      "Gender: object\n",
      "JobFactors: object\n",
      "JobSat: object\n",
      "JobSeek: object\n",
      "LanguageDesireNextYear: object\n",
      "LanguageWorkedWith: object\n",
      "MiscTechDesireNextYear: object\n",
      "MiscTechWorkedWith: object\n",
      "NEWCollabToolsDesireNextYear: object\n",
      "NEWCollabToolsWorkedWith: object\n",
      "NEWDevOps: object\n",
      "NEWDevOpsImpt: object\n",
      "NEWEdImpt: object\n",
      "NEWJobHunt: object\n",
      "NEWJobHuntResearch: object\n",
      "NEWLearn: object\n",
      "NEWOffTopic: object\n",
      "NEWOnboardGood: object\n",
      "NEWOtherComms: object\n",
      "NEWOvertime: object\n",
      "NEWPurchaseResearch: object\n",
      "NEWPurpleLink: object\n",
      "NEWSOSites: object\n",
      "NEWStuck: object\n",
      "OpSys: object\n",
      "OrgSize: object\n",
      "PlatformDesireNextYear: object\n",
      "PlatformWorkedWith: object\n",
      "PurchaseWhat: object\n",
      "Sexuality: object\n",
      "SOAccount: object\n",
      "SOComm: object\n",
      "SOPartFreq: object\n",
      "SOVisitFreq: object\n",
      "SurveyEase: object\n",
      "SurveyLength: object\n",
      "Trans: object\n",
      "UndergradMajor: object\n",
      "WebframeDesireNextYear: object\n",
      "WebframeWorkedWith: object\n",
      "WelcomeChange: object\n",
      "WorkWeekHrs: float64\n",
      "YearsCode: object\n",
      "YearsCodePro: object\n"
     ]
    },
    {
     "data": {
      "text/html": [
       "<div>\n",
       "<style scoped>\n",
       "    .dataframe tbody tr th:only-of-type {\n",
       "        vertical-align: middle;\n",
       "    }\n",
       "\n",
       "    .dataframe tbody tr th {\n",
       "        vertical-align: top;\n",
       "    }\n",
       "\n",
       "    .dataframe thead th {\n",
       "        text-align: right;\n",
       "    }\n",
       "</style>\n",
       "<table border=\"1\" class=\"dataframe\">\n",
       "  <thead>\n",
       "    <tr style=\"text-align: right;\">\n",
       "      <th></th>\n",
       "      <th>Respondent</th>\n",
       "      <th>MainBranch</th>\n",
       "      <th>Hobbyist</th>\n",
       "      <th>Age</th>\n",
       "      <th>Age1stCode</th>\n",
       "      <th>CompFreq</th>\n",
       "      <th>CompTotal</th>\n",
       "      <th>ConvertedComp</th>\n",
       "      <th>Country</th>\n",
       "      <th>CurrencyDesc</th>\n",
       "      <th>CurrencySymbol</th>\n",
       "      <th>DatabaseDesireNextYear</th>\n",
       "      <th>DatabaseWorkedWith</th>\n",
       "      <th>DevType</th>\n",
       "      <th>EdLevel</th>\n",
       "      <th>Employment</th>\n",
       "      <th>Ethnicity</th>\n",
       "      <th>Gender</th>\n",
       "      <th>JobFactors</th>\n",
       "      <th>JobSat</th>\n",
       "      <th>JobSeek</th>\n",
       "      <th>LanguageDesireNextYear</th>\n",
       "      <th>LanguageWorkedWith</th>\n",
       "      <th>MiscTechDesireNextYear</th>\n",
       "      <th>MiscTechWorkedWith</th>\n",
       "      <th>NEWCollabToolsDesireNextYear</th>\n",
       "      <th>NEWCollabToolsWorkedWith</th>\n",
       "      <th>NEWDevOps</th>\n",
       "      <th>NEWDevOpsImpt</th>\n",
       "      <th>NEWEdImpt</th>\n",
       "      <th>NEWJobHunt</th>\n",
       "      <th>NEWJobHuntResearch</th>\n",
       "      <th>NEWLearn</th>\n",
       "      <th>NEWOffTopic</th>\n",
       "      <th>NEWOnboardGood</th>\n",
       "      <th>NEWOtherComms</th>\n",
       "      <th>NEWOvertime</th>\n",
       "      <th>NEWPurchaseResearch</th>\n",
       "      <th>NEWPurpleLink</th>\n",
       "      <th>NEWSOSites</th>\n",
       "      <th>NEWStuck</th>\n",
       "      <th>OpSys</th>\n",
       "      <th>OrgSize</th>\n",
       "      <th>PlatformDesireNextYear</th>\n",
       "      <th>PlatformWorkedWith</th>\n",
       "      <th>PurchaseWhat</th>\n",
       "      <th>Sexuality</th>\n",
       "      <th>SOAccount</th>\n",
       "      <th>SOComm</th>\n",
       "      <th>SOPartFreq</th>\n",
       "      <th>SOVisitFreq</th>\n",
       "      <th>SurveyEase</th>\n",
       "      <th>SurveyLength</th>\n",
       "      <th>Trans</th>\n",
       "      <th>UndergradMajor</th>\n",
       "      <th>WebframeDesireNextYear</th>\n",
       "      <th>WebframeWorkedWith</th>\n",
       "      <th>WelcomeChange</th>\n",
       "      <th>WorkWeekHrs</th>\n",
       "      <th>YearsCode</th>\n",
       "      <th>YearsCodePro</th>\n",
       "    </tr>\n",
       "  </thead>\n",
       "  <tbody>\n",
       "    <tr>\n",
       "      <th>0</th>\n",
       "      <td>1</td>\n",
       "      <td>I am a developer by profession</td>\n",
       "      <td>Yes</td>\n",
       "      <td>NaN</td>\n",
       "      <td>13</td>\n",
       "      <td>Monthly</td>\n",
       "      <td>NaN</td>\n",
       "      <td>NaN</td>\n",
       "      <td>Germany</td>\n",
       "      <td>European Euro</td>\n",
       "      <td>EUR</td>\n",
       "      <td>Microsoft SQL Server</td>\n",
       "      <td>Elasticsearch;Microsoft SQL Server;Oracle</td>\n",
       "      <td>Developer, desktop or enterprise applications;...</td>\n",
       "      <td>Master’s degree (M.A., M.S., M.Eng., MBA, etc.)</td>\n",
       "      <td>Independent contractor, freelancer, or self-em...</td>\n",
       "      <td>White or of European descent</td>\n",
       "      <td>Man</td>\n",
       "      <td>Languages, frameworks, and other technologies ...</td>\n",
       "      <td>Slightly satisfied</td>\n",
       "      <td>I am not interested in new job opportunities</td>\n",
       "      <td>C#;HTML/CSS;JavaScript</td>\n",
       "      <td>C#;HTML/CSS;JavaScript</td>\n",
       "      <td>.NET Core;Xamarin</td>\n",
       "      <td>.NET;.NET Core</td>\n",
       "      <td>Microsoft Teams;Microsoft Azure;Trello</td>\n",
       "      <td>Confluence;Jira;Slack;Microsoft Azure;Trello</td>\n",
       "      <td>No</td>\n",
       "      <td>Somewhat important</td>\n",
       "      <td>Fairly important</td>\n",
       "      <td>NaN</td>\n",
       "      <td>NaN</td>\n",
       "      <td>Once a year</td>\n",
       "      <td>Not sure</td>\n",
       "      <td>NaN</td>\n",
       "      <td>No</td>\n",
       "      <td>Often: 1-2 days per week or more</td>\n",
       "      <td>Start a free trial;Ask developers I know/work ...</td>\n",
       "      <td>Amused</td>\n",
       "      <td>Stack Overflow (public Q&amp;A for anyone who codes)</td>\n",
       "      <td>Visit Stack Overflow;Go for a walk or other ph...</td>\n",
       "      <td>Windows</td>\n",
       "      <td>2 to 9 employees</td>\n",
       "      <td>Android;iOS;Kubernetes;Microsoft Azure;Windows</td>\n",
       "      <td>Windows</td>\n",
       "      <td>NaN</td>\n",
       "      <td>Straight / Heterosexual</td>\n",
       "      <td>No</td>\n",
       "      <td>No, not at all</td>\n",
       "      <td>NaN</td>\n",
       "      <td>Multiple times per day</td>\n",
       "      <td>Neither easy nor difficult</td>\n",
       "      <td>Appropriate in length</td>\n",
       "      <td>No</td>\n",
       "      <td>Computer science, computer engineering, or sof...</td>\n",
       "      <td>ASP.NET Core</td>\n",
       "      <td>ASP.NET;ASP.NET Core</td>\n",
       "      <td>Just as welcome now as I felt last year</td>\n",
       "      <td>50.0</td>\n",
       "      <td>36</td>\n",
       "      <td>27</td>\n",
       "    </tr>\n",
       "    <tr>\n",
       "      <th>1</th>\n",
       "      <td>2</td>\n",
       "      <td>I am a developer by profession</td>\n",
       "      <td>No</td>\n",
       "      <td>NaN</td>\n",
       "      <td>19</td>\n",
       "      <td>NaN</td>\n",
       "      <td>NaN</td>\n",
       "      <td>NaN</td>\n",
       "      <td>United Kingdom</td>\n",
       "      <td>Pound sterling</td>\n",
       "      <td>GBP</td>\n",
       "      <td>NaN</td>\n",
       "      <td>NaN</td>\n",
       "      <td>Developer, full-stack;Developer, mobile</td>\n",
       "      <td>Bachelor’s degree (B.A., B.S., B.Eng., etc.)</td>\n",
       "      <td>Employed full-time</td>\n",
       "      <td>NaN</td>\n",
       "      <td>NaN</td>\n",
       "      <td>NaN</td>\n",
       "      <td>Very dissatisfied</td>\n",
       "      <td>I am not interested in new job opportunities</td>\n",
       "      <td>Python;Swift</td>\n",
       "      <td>JavaScript;Swift</td>\n",
       "      <td>React Native;TensorFlow;Unity 3D</td>\n",
       "      <td>React Native</td>\n",
       "      <td>Github;Slack</td>\n",
       "      <td>Confluence;Jira;Github;Gitlab;Slack</td>\n",
       "      <td>NaN</td>\n",
       "      <td>NaN</td>\n",
       "      <td>Fairly important</td>\n",
       "      <td>NaN</td>\n",
       "      <td>NaN</td>\n",
       "      <td>Once a year</td>\n",
       "      <td>Not sure</td>\n",
       "      <td>NaN</td>\n",
       "      <td>No</td>\n",
       "      <td>NaN</td>\n",
       "      <td>NaN</td>\n",
       "      <td>Amused</td>\n",
       "      <td>Stack Overflow (public Q&amp;A for anyone who code...</td>\n",
       "      <td>Visit Stack Overflow;Go for a walk or other ph...</td>\n",
       "      <td>MacOS</td>\n",
       "      <td>1,000 to 4,999 employees</td>\n",
       "      <td>iOS;Kubernetes;Linux;MacOS</td>\n",
       "      <td>iOS</td>\n",
       "      <td>I have little or no influence</td>\n",
       "      <td>NaN</td>\n",
       "      <td>Yes</td>\n",
       "      <td>Yes, definitely</td>\n",
       "      <td>Less than once per month or monthly</td>\n",
       "      <td>Multiple times per day</td>\n",
       "      <td>NaN</td>\n",
       "      <td>NaN</td>\n",
       "      <td>NaN</td>\n",
       "      <td>Computer science, computer engineering, or sof...</td>\n",
       "      <td>NaN</td>\n",
       "      <td>NaN</td>\n",
       "      <td>Somewhat more welcome now than last year</td>\n",
       "      <td>NaN</td>\n",
       "      <td>7</td>\n",
       "      <td>4</td>\n",
       "    </tr>\n",
       "    <tr>\n",
       "      <th>2</th>\n",
       "      <td>3</td>\n",
       "      <td>I code primarily as a hobby</td>\n",
       "      <td>Yes</td>\n",
       "      <td>NaN</td>\n",
       "      <td>15</td>\n",
       "      <td>NaN</td>\n",
       "      <td>NaN</td>\n",
       "      <td>NaN</td>\n",
       "      <td>Russian Federation</td>\n",
       "      <td>NaN</td>\n",
       "      <td>NaN</td>\n",
       "      <td>NaN</td>\n",
       "      <td>NaN</td>\n",
       "      <td>NaN</td>\n",
       "      <td>NaN</td>\n",
       "      <td>NaN</td>\n",
       "      <td>NaN</td>\n",
       "      <td>NaN</td>\n",
       "      <td>NaN</td>\n",
       "      <td>NaN</td>\n",
       "      <td>NaN</td>\n",
       "      <td>Objective-C;Python;Swift</td>\n",
       "      <td>Objective-C;Python;Swift</td>\n",
       "      <td>NaN</td>\n",
       "      <td>NaN</td>\n",
       "      <td>NaN</td>\n",
       "      <td>NaN</td>\n",
       "      <td>NaN</td>\n",
       "      <td>NaN</td>\n",
       "      <td>NaN</td>\n",
       "      <td>NaN</td>\n",
       "      <td>NaN</td>\n",
       "      <td>Once a decade</td>\n",
       "      <td>NaN</td>\n",
       "      <td>NaN</td>\n",
       "      <td>No</td>\n",
       "      <td>NaN</td>\n",
       "      <td>NaN</td>\n",
       "      <td>NaN</td>\n",
       "      <td>Stack Overflow (public Q&amp;A for anyone who codes)</td>\n",
       "      <td>NaN</td>\n",
       "      <td>Linux-based</td>\n",
       "      <td>NaN</td>\n",
       "      <td>NaN</td>\n",
       "      <td>NaN</td>\n",
       "      <td>NaN</td>\n",
       "      <td>NaN</td>\n",
       "      <td>Yes</td>\n",
       "      <td>Yes, somewhat</td>\n",
       "      <td>A few times per month or weekly</td>\n",
       "      <td>Daily or almost daily</td>\n",
       "      <td>Neither easy nor difficult</td>\n",
       "      <td>Appropriate in length</td>\n",
       "      <td>NaN</td>\n",
       "      <td>NaN</td>\n",
       "      <td>NaN</td>\n",
       "      <td>NaN</td>\n",
       "      <td>Somewhat more welcome now than last year</td>\n",
       "      <td>NaN</td>\n",
       "      <td>4</td>\n",
       "      <td>NaN</td>\n",
       "    </tr>\n",
       "    <tr>\n",
       "      <th>3</th>\n",
       "      <td>4</td>\n",
       "      <td>I am a developer by profession</td>\n",
       "      <td>Yes</td>\n",
       "      <td>25.0</td>\n",
       "      <td>18</td>\n",
       "      <td>NaN</td>\n",
       "      <td>NaN</td>\n",
       "      <td>NaN</td>\n",
       "      <td>Albania</td>\n",
       "      <td>Albanian lek</td>\n",
       "      <td>ALL</td>\n",
       "      <td>NaN</td>\n",
       "      <td>NaN</td>\n",
       "      <td>NaN</td>\n",
       "      <td>Master’s degree (M.A., M.S., M.Eng., MBA, etc.)</td>\n",
       "      <td>NaN</td>\n",
       "      <td>White or of European descent</td>\n",
       "      <td>Man</td>\n",
       "      <td>Flex time or a flexible schedule;Office enviro...</td>\n",
       "      <td>Slightly dissatisfied</td>\n",
       "      <td>I’m not actively looking, but I am open to new...</td>\n",
       "      <td>NaN</td>\n",
       "      <td>NaN</td>\n",
       "      <td>NaN</td>\n",
       "      <td>NaN</td>\n",
       "      <td>NaN</td>\n",
       "      <td>NaN</td>\n",
       "      <td>No</td>\n",
       "      <td>NaN</td>\n",
       "      <td>Not at all important/not necessary</td>\n",
       "      <td>Curious about other opportunities;Wanting to w...</td>\n",
       "      <td>NaN</td>\n",
       "      <td>Once a year</td>\n",
       "      <td>Not sure</td>\n",
       "      <td>Yes</td>\n",
       "      <td>Yes</td>\n",
       "      <td>Occasionally: 1-2 days per quarter but less th...</td>\n",
       "      <td>NaN</td>\n",
       "      <td>NaN</td>\n",
       "      <td>Stack Overflow (public Q&amp;A for anyone who code...</td>\n",
       "      <td>NaN</td>\n",
       "      <td>Linux-based</td>\n",
       "      <td>20 to 99 employees</td>\n",
       "      <td>NaN</td>\n",
       "      <td>NaN</td>\n",
       "      <td>I have a great deal of influence</td>\n",
       "      <td>Straight / Heterosexual</td>\n",
       "      <td>Yes</td>\n",
       "      <td>Yes, definitely</td>\n",
       "      <td>A few times per month or weekly</td>\n",
       "      <td>Multiple times per day</td>\n",
       "      <td>NaN</td>\n",
       "      <td>NaN</td>\n",
       "      <td>No</td>\n",
       "      <td>Computer science, computer engineering, or sof...</td>\n",
       "      <td>NaN</td>\n",
       "      <td>NaN</td>\n",
       "      <td>Somewhat less welcome now than last year</td>\n",
       "      <td>40.0</td>\n",
       "      <td>7</td>\n",
       "      <td>4</td>\n",
       "    </tr>\n",
       "    <tr>\n",
       "      <th>4</th>\n",
       "      <td>5</td>\n",
       "      <td>I used to be a developer by profession, but no...</td>\n",
       "      <td>Yes</td>\n",
       "      <td>31.0</td>\n",
       "      <td>16</td>\n",
       "      <td>NaN</td>\n",
       "      <td>NaN</td>\n",
       "      <td>NaN</td>\n",
       "      <td>United States</td>\n",
       "      <td>NaN</td>\n",
       "      <td>NaN</td>\n",
       "      <td>MySQL;PostgreSQL</td>\n",
       "      <td>MySQL;PostgreSQL;Redis;SQLite</td>\n",
       "      <td>NaN</td>\n",
       "      <td>Bachelor’s degree (B.A., B.S., B.Eng., etc.)</td>\n",
       "      <td>Employed full-time</td>\n",
       "      <td>White or of European descent</td>\n",
       "      <td>Man</td>\n",
       "      <td>NaN</td>\n",
       "      <td>NaN</td>\n",
       "      <td>NaN</td>\n",
       "      <td>Java;Ruby;Scala</td>\n",
       "      <td>HTML/CSS;Ruby;SQL</td>\n",
       "      <td>Ansible;Chef</td>\n",
       "      <td>Ansible</td>\n",
       "      <td>Github;Google Suite (Docs, Meet, etc)</td>\n",
       "      <td>Confluence;Jira;Github;Slack;Google Suite (Doc...</td>\n",
       "      <td>NaN</td>\n",
       "      <td>NaN</td>\n",
       "      <td>Very important</td>\n",
       "      <td>NaN</td>\n",
       "      <td>NaN</td>\n",
       "      <td>Once a year</td>\n",
       "      <td>No</td>\n",
       "      <td>NaN</td>\n",
       "      <td>Yes</td>\n",
       "      <td>NaN</td>\n",
       "      <td>Start a free trial;Ask developers I know/work ...</td>\n",
       "      <td>Hello, old friend</td>\n",
       "      <td>Stack Overflow (public Q&amp;A for anyone who code...</td>\n",
       "      <td>Call a coworker or friend;Visit Stack Overflow...</td>\n",
       "      <td>Windows</td>\n",
       "      <td>NaN</td>\n",
       "      <td>Docker;Google Cloud Platform;Heroku;Linux;Windows</td>\n",
       "      <td>AWS;Docker;Linux;MacOS;Windows</td>\n",
       "      <td>NaN</td>\n",
       "      <td>Straight / Heterosexual</td>\n",
       "      <td>Yes</td>\n",
       "      <td>Yes, somewhat</td>\n",
       "      <td>Less than once per month or monthly</td>\n",
       "      <td>A few times per month or weekly</td>\n",
       "      <td>Easy</td>\n",
       "      <td>Too short</td>\n",
       "      <td>No</td>\n",
       "      <td>Computer science, computer engineering, or sof...</td>\n",
       "      <td>Django;Ruby on Rails</td>\n",
       "      <td>Ruby on Rails</td>\n",
       "      <td>Just as welcome now as I felt last year</td>\n",
       "      <td>NaN</td>\n",
       "      <td>15</td>\n",
       "      <td>8</td>\n",
       "    </tr>\n",
       "  </tbody>\n",
       "</table>\n",
       "</div>"
      ],
      "text/plain": [
       "   Respondent                                         MainBranch Hobbyist  \\\n",
       "0           1                     I am a developer by profession      Yes   \n",
       "1           2                     I am a developer by profession       No   \n",
       "2           3                        I code primarily as a hobby      Yes   \n",
       "3           4                     I am a developer by profession      Yes   \n",
       "4           5  I used to be a developer by profession, but no...      Yes   \n",
       "\n",
       "    Age Age1stCode CompFreq  CompTotal  ConvertedComp             Country  \\\n",
       "0   NaN         13  Monthly        NaN            NaN             Germany   \n",
       "1   NaN         19      NaN        NaN            NaN      United Kingdom   \n",
       "2   NaN         15      NaN        NaN            NaN  Russian Federation   \n",
       "3  25.0         18      NaN        NaN            NaN             Albania   \n",
       "4  31.0         16      NaN        NaN            NaN       United States   \n",
       "\n",
       "     CurrencyDesc CurrencySymbol DatabaseDesireNextYear  \\\n",
       "0   European Euro            EUR   Microsoft SQL Server   \n",
       "1  Pound sterling            GBP                    NaN   \n",
       "2             NaN            NaN                    NaN   \n",
       "3    Albanian lek            ALL                    NaN   \n",
       "4             NaN            NaN       MySQL;PostgreSQL   \n",
       "\n",
       "                          DatabaseWorkedWith  \\\n",
       "0  Elasticsearch;Microsoft SQL Server;Oracle   \n",
       "1                                        NaN   \n",
       "2                                        NaN   \n",
       "3                                        NaN   \n",
       "4              MySQL;PostgreSQL;Redis;SQLite   \n",
       "\n",
       "                                             DevType  \\\n",
       "0  Developer, desktop or enterprise applications;...   \n",
       "1            Developer, full-stack;Developer, mobile   \n",
       "2                                                NaN   \n",
       "3                                                NaN   \n",
       "4                                                NaN   \n",
       "\n",
       "                                           EdLevel  \\\n",
       "0  Master’s degree (M.A., M.S., M.Eng., MBA, etc.)   \n",
       "1     Bachelor’s degree (B.A., B.S., B.Eng., etc.)   \n",
       "2                                              NaN   \n",
       "3  Master’s degree (M.A., M.S., M.Eng., MBA, etc.)   \n",
       "4     Bachelor’s degree (B.A., B.S., B.Eng., etc.)   \n",
       "\n",
       "                                          Employment  \\\n",
       "0  Independent contractor, freelancer, or self-em...   \n",
       "1                                 Employed full-time   \n",
       "2                                                NaN   \n",
       "3                                                NaN   \n",
       "4                                 Employed full-time   \n",
       "\n",
       "                      Ethnicity Gender  \\\n",
       "0  White or of European descent    Man   \n",
       "1                           NaN    NaN   \n",
       "2                           NaN    NaN   \n",
       "3  White or of European descent    Man   \n",
       "4  White or of European descent    Man   \n",
       "\n",
       "                                          JobFactors                 JobSat  \\\n",
       "0  Languages, frameworks, and other technologies ...     Slightly satisfied   \n",
       "1                                                NaN      Very dissatisfied   \n",
       "2                                                NaN                    NaN   \n",
       "3  Flex time or a flexible schedule;Office enviro...  Slightly dissatisfied   \n",
       "4                                                NaN                    NaN   \n",
       "\n",
       "                                             JobSeek  \\\n",
       "0       I am not interested in new job opportunities   \n",
       "1       I am not interested in new job opportunities   \n",
       "2                                                NaN   \n",
       "3  I’m not actively looking, but I am open to new...   \n",
       "4                                                NaN   \n",
       "\n",
       "     LanguageDesireNextYear        LanguageWorkedWith  \\\n",
       "0    C#;HTML/CSS;JavaScript    C#;HTML/CSS;JavaScript   \n",
       "1              Python;Swift          JavaScript;Swift   \n",
       "2  Objective-C;Python;Swift  Objective-C;Python;Swift   \n",
       "3                       NaN                       NaN   \n",
       "4           Java;Ruby;Scala         HTML/CSS;Ruby;SQL   \n",
       "\n",
       "             MiscTechDesireNextYear MiscTechWorkedWith  \\\n",
       "0                 .NET Core;Xamarin     .NET;.NET Core   \n",
       "1  React Native;TensorFlow;Unity 3D       React Native   \n",
       "2                               NaN                NaN   \n",
       "3                               NaN                NaN   \n",
       "4                      Ansible;Chef            Ansible   \n",
       "\n",
       "             NEWCollabToolsDesireNextYear  \\\n",
       "0  Microsoft Teams;Microsoft Azure;Trello   \n",
       "1                            Github;Slack   \n",
       "2                                     NaN   \n",
       "3                                     NaN   \n",
       "4   Github;Google Suite (Docs, Meet, etc)   \n",
       "\n",
       "                            NEWCollabToolsWorkedWith NEWDevOps  \\\n",
       "0       Confluence;Jira;Slack;Microsoft Azure;Trello        No   \n",
       "1                Confluence;Jira;Github;Gitlab;Slack       NaN   \n",
       "2                                                NaN       NaN   \n",
       "3                                                NaN        No   \n",
       "4  Confluence;Jira;Github;Slack;Google Suite (Doc...       NaN   \n",
       "\n",
       "        NEWDevOpsImpt                           NEWEdImpt  \\\n",
       "0  Somewhat important                    Fairly important   \n",
       "1                 NaN                    Fairly important   \n",
       "2                 NaN                                 NaN   \n",
       "3                 NaN  Not at all important/not necessary   \n",
       "4                 NaN                      Very important   \n",
       "\n",
       "                                          NEWJobHunt NEWJobHuntResearch  \\\n",
       "0                                                NaN                NaN   \n",
       "1                                                NaN                NaN   \n",
       "2                                                NaN                NaN   \n",
       "3  Curious about other opportunities;Wanting to w...                NaN   \n",
       "4                                                NaN                NaN   \n",
       "\n",
       "        NEWLearn NEWOffTopic NEWOnboardGood NEWOtherComms  \\\n",
       "0    Once a year    Not sure            NaN            No   \n",
       "1    Once a year    Not sure            NaN            No   \n",
       "2  Once a decade         NaN            NaN            No   \n",
       "3    Once a year    Not sure            Yes           Yes   \n",
       "4    Once a year          No            NaN           Yes   \n",
       "\n",
       "                                         NEWOvertime  \\\n",
       "0                   Often: 1-2 days per week or more   \n",
       "1                                                NaN   \n",
       "2                                                NaN   \n",
       "3  Occasionally: 1-2 days per quarter but less th...   \n",
       "4                                                NaN   \n",
       "\n",
       "                                 NEWPurchaseResearch      NEWPurpleLink  \\\n",
       "0  Start a free trial;Ask developers I know/work ...             Amused   \n",
       "1                                                NaN             Amused   \n",
       "2                                                NaN                NaN   \n",
       "3                                                NaN                NaN   \n",
       "4  Start a free trial;Ask developers I know/work ...  Hello, old friend   \n",
       "\n",
       "                                          NEWSOSites  \\\n",
       "0   Stack Overflow (public Q&A for anyone who codes)   \n",
       "1  Stack Overflow (public Q&A for anyone who code...   \n",
       "2   Stack Overflow (public Q&A for anyone who codes)   \n",
       "3  Stack Overflow (public Q&A for anyone who code...   \n",
       "4  Stack Overflow (public Q&A for anyone who code...   \n",
       "\n",
       "                                            NEWStuck        OpSys  \\\n",
       "0  Visit Stack Overflow;Go for a walk or other ph...      Windows   \n",
       "1  Visit Stack Overflow;Go for a walk or other ph...        MacOS   \n",
       "2                                                NaN  Linux-based   \n",
       "3                                                NaN  Linux-based   \n",
       "4  Call a coworker or friend;Visit Stack Overflow...      Windows   \n",
       "\n",
       "                    OrgSize  \\\n",
       "0          2 to 9 employees   \n",
       "1  1,000 to 4,999 employees   \n",
       "2                       NaN   \n",
       "3        20 to 99 employees   \n",
       "4                       NaN   \n",
       "\n",
       "                              PlatformDesireNextYear  \\\n",
       "0     Android;iOS;Kubernetes;Microsoft Azure;Windows   \n",
       "1                         iOS;Kubernetes;Linux;MacOS   \n",
       "2                                                NaN   \n",
       "3                                                NaN   \n",
       "4  Docker;Google Cloud Platform;Heroku;Linux;Windows   \n",
       "\n",
       "               PlatformWorkedWith                      PurchaseWhat  \\\n",
       "0                         Windows                               NaN   \n",
       "1                             iOS     I have little or no influence   \n",
       "2                             NaN                               NaN   \n",
       "3                             NaN  I have a great deal of influence   \n",
       "4  AWS;Docker;Linux;MacOS;Windows                               NaN   \n",
       "\n",
       "                 Sexuality SOAccount           SOComm  \\\n",
       "0  Straight / Heterosexual        No   No, not at all   \n",
       "1                      NaN       Yes  Yes, definitely   \n",
       "2                      NaN       Yes    Yes, somewhat   \n",
       "3  Straight / Heterosexual       Yes  Yes, definitely   \n",
       "4  Straight / Heterosexual       Yes    Yes, somewhat   \n",
       "\n",
       "                            SOPartFreq                      SOVisitFreq  \\\n",
       "0                                  NaN           Multiple times per day   \n",
       "1  Less than once per month or monthly           Multiple times per day   \n",
       "2      A few times per month or weekly            Daily or almost daily   \n",
       "3      A few times per month or weekly           Multiple times per day   \n",
       "4  Less than once per month or monthly  A few times per month or weekly   \n",
       "\n",
       "                   SurveyEase           SurveyLength Trans  \\\n",
       "0  Neither easy nor difficult  Appropriate in length    No   \n",
       "1                         NaN                    NaN   NaN   \n",
       "2  Neither easy nor difficult  Appropriate in length   NaN   \n",
       "3                         NaN                    NaN    No   \n",
       "4                        Easy              Too short    No   \n",
       "\n",
       "                                      UndergradMajor WebframeDesireNextYear  \\\n",
       "0  Computer science, computer engineering, or sof...           ASP.NET Core   \n",
       "1  Computer science, computer engineering, or sof...                    NaN   \n",
       "2                                                NaN                    NaN   \n",
       "3  Computer science, computer engineering, or sof...                    NaN   \n",
       "4  Computer science, computer engineering, or sof...   Django;Ruby on Rails   \n",
       "\n",
       "     WebframeWorkedWith                             WelcomeChange  \\\n",
       "0  ASP.NET;ASP.NET Core   Just as welcome now as I felt last year   \n",
       "1                   NaN  Somewhat more welcome now than last year   \n",
       "2                   NaN  Somewhat more welcome now than last year   \n",
       "3                   NaN  Somewhat less welcome now than last year   \n",
       "4         Ruby on Rails   Just as welcome now as I felt last year   \n",
       "\n",
       "   WorkWeekHrs YearsCode YearsCodePro  \n",
       "0         50.0        36           27  \n",
       "1          NaN         7            4  \n",
       "2          NaN         4          NaN  \n",
       "3         40.0         7            4  \n",
       "4          NaN        15            8  "
      ]
     },
     "execution_count": 227,
     "metadata": {},
     "output_type": "execute_result"
    }
   ],
   "source": [
    "# Load data\n",
    "df = pd.read_csv('./data/survey_results_public.csv')\n",
    "\n",
    "# Descriptive observation\n",
    "print(f\"Shape:\\n{df.shape}\")\n",
    "\n",
    "print(f\"Data Type:\\n\")\n",
    "for i, v in df.dtypes.items():\n",
    "    print(str(i) + \": \" + str(v))\n",
    "\n",
    "df.head()"
   ]
  },
  {
   "cell_type": "code",
   "execution_count": 228,
   "metadata": {
    "scrolled": true
   },
   "outputs": [
    {
     "data": {
      "text/html": [
       "<div>\n",
       "<style scoped>\n",
       "    .dataframe tbody tr th:only-of-type {\n",
       "        vertical-align: middle;\n",
       "    }\n",
       "\n",
       "    .dataframe tbody tr th {\n",
       "        vertical-align: top;\n",
       "    }\n",
       "\n",
       "    .dataframe thead th {\n",
       "        text-align: right;\n",
       "    }\n",
       "</style>\n",
       "<table border=\"1\" class=\"dataframe\">\n",
       "  <thead>\n",
       "    <tr style=\"text-align: right;\">\n",
       "      <th></th>\n",
       "      <th>Respondent</th>\n",
       "      <th>Age</th>\n",
       "      <th>CompTotal</th>\n",
       "      <th>ConvertedComp</th>\n",
       "      <th>WorkWeekHrs</th>\n",
       "    </tr>\n",
       "  </thead>\n",
       "  <tbody>\n",
       "    <tr>\n",
       "      <th>count</th>\n",
       "      <td>64461.00</td>\n",
       "      <td>45446.00</td>\n",
       "      <td>3.48e+04</td>\n",
       "      <td>3.48e+04</td>\n",
       "      <td>41151.00</td>\n",
       "    </tr>\n",
       "    <tr>\n",
       "      <th>mean</th>\n",
       "      <td>32554.08</td>\n",
       "      <td>30.83</td>\n",
       "      <td>3.19e+242</td>\n",
       "      <td>1.04e+05</td>\n",
       "      <td>40.78</td>\n",
       "    </tr>\n",
       "    <tr>\n",
       "      <th>std</th>\n",
       "      <td>18967.44</td>\n",
       "      <td>9.59</td>\n",
       "      <td>inf</td>\n",
       "      <td>2.27e+05</td>\n",
       "      <td>17.82</td>\n",
       "    </tr>\n",
       "    <tr>\n",
       "      <th>min</th>\n",
       "      <td>1.00</td>\n",
       "      <td>1.00</td>\n",
       "      <td>0.00e+00</td>\n",
       "      <td>0.00e+00</td>\n",
       "      <td>1.00</td>\n",
       "    </tr>\n",
       "    <tr>\n",
       "      <th>25%</th>\n",
       "      <td>16116.00</td>\n",
       "      <td>24.00</td>\n",
       "      <td>2.00e+04</td>\n",
       "      <td>2.46e+04</td>\n",
       "      <td>40.00</td>\n",
       "    </tr>\n",
       "    <tr>\n",
       "      <th>50%</th>\n",
       "      <td>32231.00</td>\n",
       "      <td>29.00</td>\n",
       "      <td>6.30e+04</td>\n",
       "      <td>5.40e+04</td>\n",
       "      <td>40.00</td>\n",
       "    </tr>\n",
       "    <tr>\n",
       "      <th>75%</th>\n",
       "      <td>49142.00</td>\n",
       "      <td>35.00</td>\n",
       "      <td>1.25e+05</td>\n",
       "      <td>9.50e+04</td>\n",
       "      <td>44.00</td>\n",
       "    </tr>\n",
       "    <tr>\n",
       "      <th>max</th>\n",
       "      <td>65639.00</td>\n",
       "      <td>279.00</td>\n",
       "      <td>1.11e+247</td>\n",
       "      <td>2.00e+06</td>\n",
       "      <td>475.00</td>\n",
       "    </tr>\n",
       "  </tbody>\n",
       "</table>\n",
       "</div>"
      ],
      "text/plain": [
       "       Respondent       Age  CompTotal  ConvertedComp  WorkWeekHrs\n",
       "count    64461.00  45446.00   3.48e+04       3.48e+04     41151.00\n",
       "mean     32554.08     30.83  3.19e+242       1.04e+05        40.78\n",
       "std      18967.44      9.59        inf       2.27e+05        17.82\n",
       "min          1.00      1.00   0.00e+00       0.00e+00         1.00\n",
       "25%      16116.00     24.00   2.00e+04       2.46e+04        40.00\n",
       "50%      32231.00     29.00   6.30e+04       5.40e+04        40.00\n",
       "75%      49142.00     35.00   1.25e+05       9.50e+04        44.00\n",
       "max      65639.00    279.00  1.11e+247       2.00e+06       475.00"
      ]
     },
     "execution_count": 228,
     "metadata": {},
     "output_type": "execute_result"
    }
   ],
   "source": [
    "# Look at summarized descriptive data\n",
    "pd.set_option(\"precision\", 2)\n",
    "df.describe()"
   ]
  },
  {
   "cell_type": "markdown",
   "metadata": {},
   "source": [
    "### 1. What are the top priorities of working as a developer professional?\n",
    "Aprt from compensation & location, in this question, we would like to know which factors would affect most to developer to choose an offers over others. Interested data are taken from `JobFactors` column."
   ]
  },
  {
   "cell_type": "code",
   "execution_count": 229,
   "metadata": {},
   "outputs": [
    {
     "data": {
      "application/vnd.plotly.v1+json": {
       "config": {
        "plotlyServerURL": "https://plot.ly"
       },
       "data": [
        {
         "alignmentgroup": "True",
         "customdata": [
          [
           "Diversity of the company or organization"
          ],
          [
           "Specific department or team I’d be working on"
          ],
          [
           "Financial performance or funding status of the company or organization"
          ],
          [
           "Family friendliness"
          ],
          [
           "Industry that I’d be working in"
          ],
          [
           "How widely used or impactful my work output would be"
          ],
          [
           "Remote work options"
          ],
          [
           "Opportunities for professional development"
          ],
          [
           "Flex time or a flexible schedule"
          ],
          [
           "Office environment or company culture"
          ],
          [
           "Languages, frameworks, and other technologies I’d be working with"
          ]
         ],
         "hovertemplate": "percentage=%{x}<br>job_priority=%{customdata[0]}<br>label_txt=%{text}<extra></extra>",
         "legendgroup": "",
         "marker": {
          "color": "#636efa"
         },
         "name": "",
         "offsetgroup": "",
         "orientation": "h",
         "showlegend": false,
         "text": [
          "6.9%",
          "11.8%",
          "11.9%",
          "12.1%",
          "15.3%",
          "20.8%",
          "33.3%",
          "41.4%",
          "43.9%",
          "44.5%",
          "51.3%"
         ],
         "textposition": "auto",
         "type": "bar",
         "x": [
          6.863360959695232,
          11.763156294960385,
          11.93945166062129,
          12.129931710875601,
          15.347828730065451,
          20.82514336663357,
          33.25497983748404,
          41.380777725992424,
          43.88336136497193,
          44.54193600680865,
          51.336399927050195
         ],
         "xaxis": "x",
         "y": [
          "Diversity of the company or organization",
          "Specific department or team I’d be working on",
          "Financial performance or funding status of the company or organization",
          "Family friendliness",
          "Industry that I’d be working in",
          "How widely used or impactful my work output would be",
          "Remote work options",
          "Opportunities for professional development",
          "Flex time or a flexible schedule",
          "Office environment or company culture",
          "Languages, frameworks, and other technologies I’d be working with"
         ],
         "yaxis": "y"
        }
       ],
       "layout": {
        "barmode": "relative",
        "legend": {
         "tracegroupgap": 0
        },
        "template": {
         "data": {
          "bar": [
           {
            "error_x": {
             "color": "#2a3f5f"
            },
            "error_y": {
             "color": "#2a3f5f"
            },
            "marker": {
             "line": {
              "color": "#E5ECF6",
              "width": 0.5
             }
            },
            "type": "bar"
           }
          ],
          "barpolar": [
           {
            "marker": {
             "line": {
              "color": "#E5ECF6",
              "width": 0.5
             }
            },
            "type": "barpolar"
           }
          ],
          "carpet": [
           {
            "aaxis": {
             "endlinecolor": "#2a3f5f",
             "gridcolor": "white",
             "linecolor": "white",
             "minorgridcolor": "white",
             "startlinecolor": "#2a3f5f"
            },
            "baxis": {
             "endlinecolor": "#2a3f5f",
             "gridcolor": "white",
             "linecolor": "white",
             "minorgridcolor": "white",
             "startlinecolor": "#2a3f5f"
            },
            "type": "carpet"
           }
          ],
          "choropleth": [
           {
            "colorbar": {
             "outlinewidth": 0,
             "ticks": ""
            },
            "type": "choropleth"
           }
          ],
          "contour": [
           {
            "colorbar": {
             "outlinewidth": 0,
             "ticks": ""
            },
            "colorscale": [
             [
              0,
              "#0d0887"
             ],
             [
              0.1111111111111111,
              "#46039f"
             ],
             [
              0.2222222222222222,
              "#7201a8"
             ],
             [
              0.3333333333333333,
              "#9c179e"
             ],
             [
              0.4444444444444444,
              "#bd3786"
             ],
             [
              0.5555555555555556,
              "#d8576b"
             ],
             [
              0.6666666666666666,
              "#ed7953"
             ],
             [
              0.7777777777777778,
              "#fb9f3a"
             ],
             [
              0.8888888888888888,
              "#fdca26"
             ],
             [
              1,
              "#f0f921"
             ]
            ],
            "type": "contour"
           }
          ],
          "contourcarpet": [
           {
            "colorbar": {
             "outlinewidth": 0,
             "ticks": ""
            },
            "type": "contourcarpet"
           }
          ],
          "heatmap": [
           {
            "colorbar": {
             "outlinewidth": 0,
             "ticks": ""
            },
            "colorscale": [
             [
              0,
              "#0d0887"
             ],
             [
              0.1111111111111111,
              "#46039f"
             ],
             [
              0.2222222222222222,
              "#7201a8"
             ],
             [
              0.3333333333333333,
              "#9c179e"
             ],
             [
              0.4444444444444444,
              "#bd3786"
             ],
             [
              0.5555555555555556,
              "#d8576b"
             ],
             [
              0.6666666666666666,
              "#ed7953"
             ],
             [
              0.7777777777777778,
              "#fb9f3a"
             ],
             [
              0.8888888888888888,
              "#fdca26"
             ],
             [
              1,
              "#f0f921"
             ]
            ],
            "type": "heatmap"
           }
          ],
          "heatmapgl": [
           {
            "colorbar": {
             "outlinewidth": 0,
             "ticks": ""
            },
            "colorscale": [
             [
              0,
              "#0d0887"
             ],
             [
              0.1111111111111111,
              "#46039f"
             ],
             [
              0.2222222222222222,
              "#7201a8"
             ],
             [
              0.3333333333333333,
              "#9c179e"
             ],
             [
              0.4444444444444444,
              "#bd3786"
             ],
             [
              0.5555555555555556,
              "#d8576b"
             ],
             [
              0.6666666666666666,
              "#ed7953"
             ],
             [
              0.7777777777777778,
              "#fb9f3a"
             ],
             [
              0.8888888888888888,
              "#fdca26"
             ],
             [
              1,
              "#f0f921"
             ]
            ],
            "type": "heatmapgl"
           }
          ],
          "histogram": [
           {
            "marker": {
             "colorbar": {
              "outlinewidth": 0,
              "ticks": ""
             }
            },
            "type": "histogram"
           }
          ],
          "histogram2d": [
           {
            "colorbar": {
             "outlinewidth": 0,
             "ticks": ""
            },
            "colorscale": [
             [
              0,
              "#0d0887"
             ],
             [
              0.1111111111111111,
              "#46039f"
             ],
             [
              0.2222222222222222,
              "#7201a8"
             ],
             [
              0.3333333333333333,
              "#9c179e"
             ],
             [
              0.4444444444444444,
              "#bd3786"
             ],
             [
              0.5555555555555556,
              "#d8576b"
             ],
             [
              0.6666666666666666,
              "#ed7953"
             ],
             [
              0.7777777777777778,
              "#fb9f3a"
             ],
             [
              0.8888888888888888,
              "#fdca26"
             ],
             [
              1,
              "#f0f921"
             ]
            ],
            "type": "histogram2d"
           }
          ],
          "histogram2dcontour": [
           {
            "colorbar": {
             "outlinewidth": 0,
             "ticks": ""
            },
            "colorscale": [
             [
              0,
              "#0d0887"
             ],
             [
              0.1111111111111111,
              "#46039f"
             ],
             [
              0.2222222222222222,
              "#7201a8"
             ],
             [
              0.3333333333333333,
              "#9c179e"
             ],
             [
              0.4444444444444444,
              "#bd3786"
             ],
             [
              0.5555555555555556,
              "#d8576b"
             ],
             [
              0.6666666666666666,
              "#ed7953"
             ],
             [
              0.7777777777777778,
              "#fb9f3a"
             ],
             [
              0.8888888888888888,
              "#fdca26"
             ],
             [
              1,
              "#f0f921"
             ]
            ],
            "type": "histogram2dcontour"
           }
          ],
          "mesh3d": [
           {
            "colorbar": {
             "outlinewidth": 0,
             "ticks": ""
            },
            "type": "mesh3d"
           }
          ],
          "parcoords": [
           {
            "line": {
             "colorbar": {
              "outlinewidth": 0,
              "ticks": ""
             }
            },
            "type": "parcoords"
           }
          ],
          "pie": [
           {
            "automargin": true,
            "type": "pie"
           }
          ],
          "scatter": [
           {
            "marker": {
             "colorbar": {
              "outlinewidth": 0,
              "ticks": ""
             }
            },
            "type": "scatter"
           }
          ],
          "scatter3d": [
           {
            "line": {
             "colorbar": {
              "outlinewidth": 0,
              "ticks": ""
             }
            },
            "marker": {
             "colorbar": {
              "outlinewidth": 0,
              "ticks": ""
             }
            },
            "type": "scatter3d"
           }
          ],
          "scattercarpet": [
           {
            "marker": {
             "colorbar": {
              "outlinewidth": 0,
              "ticks": ""
             }
            },
            "type": "scattercarpet"
           }
          ],
          "scattergeo": [
           {
            "marker": {
             "colorbar": {
              "outlinewidth": 0,
              "ticks": ""
             }
            },
            "type": "scattergeo"
           }
          ],
          "scattergl": [
           {
            "marker": {
             "colorbar": {
              "outlinewidth": 0,
              "ticks": ""
             }
            },
            "type": "scattergl"
           }
          ],
          "scattermapbox": [
           {
            "marker": {
             "colorbar": {
              "outlinewidth": 0,
              "ticks": ""
             }
            },
            "type": "scattermapbox"
           }
          ],
          "scatterpolar": [
           {
            "marker": {
             "colorbar": {
              "outlinewidth": 0,
              "ticks": ""
             }
            },
            "type": "scatterpolar"
           }
          ],
          "scatterpolargl": [
           {
            "marker": {
             "colorbar": {
              "outlinewidth": 0,
              "ticks": ""
             }
            },
            "type": "scatterpolargl"
           }
          ],
          "scatterternary": [
           {
            "marker": {
             "colorbar": {
              "outlinewidth": 0,
              "ticks": ""
             }
            },
            "type": "scatterternary"
           }
          ],
          "surface": [
           {
            "colorbar": {
             "outlinewidth": 0,
             "ticks": ""
            },
            "colorscale": [
             [
              0,
              "#0d0887"
             ],
             [
              0.1111111111111111,
              "#46039f"
             ],
             [
              0.2222222222222222,
              "#7201a8"
             ],
             [
              0.3333333333333333,
              "#9c179e"
             ],
             [
              0.4444444444444444,
              "#bd3786"
             ],
             [
              0.5555555555555556,
              "#d8576b"
             ],
             [
              0.6666666666666666,
              "#ed7953"
             ],
             [
              0.7777777777777778,
              "#fb9f3a"
             ],
             [
              0.8888888888888888,
              "#fdca26"
             ],
             [
              1,
              "#f0f921"
             ]
            ],
            "type": "surface"
           }
          ],
          "table": [
           {
            "cells": {
             "fill": {
              "color": "#EBF0F8"
             },
             "line": {
              "color": "white"
             }
            },
            "header": {
             "fill": {
              "color": "#C8D4E3"
             },
             "line": {
              "color": "white"
             }
            },
            "type": "table"
           }
          ]
         },
         "layout": {
          "annotationdefaults": {
           "arrowcolor": "#2a3f5f",
           "arrowhead": 0,
           "arrowwidth": 1
          },
          "autotypenumbers": "strict",
          "coloraxis": {
           "colorbar": {
            "outlinewidth": 0,
            "ticks": ""
           }
          },
          "colorscale": {
           "diverging": [
            [
             0,
             "#8e0152"
            ],
            [
             0.1,
             "#c51b7d"
            ],
            [
             0.2,
             "#de77ae"
            ],
            [
             0.3,
             "#f1b6da"
            ],
            [
             0.4,
             "#fde0ef"
            ],
            [
             0.5,
             "#f7f7f7"
            ],
            [
             0.6,
             "#e6f5d0"
            ],
            [
             0.7,
             "#b8e186"
            ],
            [
             0.8,
             "#7fbc41"
            ],
            [
             0.9,
             "#4d9221"
            ],
            [
             1,
             "#276419"
            ]
           ],
           "sequential": [
            [
             0,
             "#0d0887"
            ],
            [
             0.1111111111111111,
             "#46039f"
            ],
            [
             0.2222222222222222,
             "#7201a8"
            ],
            [
             0.3333333333333333,
             "#9c179e"
            ],
            [
             0.4444444444444444,
             "#bd3786"
            ],
            [
             0.5555555555555556,
             "#d8576b"
            ],
            [
             0.6666666666666666,
             "#ed7953"
            ],
            [
             0.7777777777777778,
             "#fb9f3a"
            ],
            [
             0.8888888888888888,
             "#fdca26"
            ],
            [
             1,
             "#f0f921"
            ]
           ],
           "sequentialminus": [
            [
             0,
             "#0d0887"
            ],
            [
             0.1111111111111111,
             "#46039f"
            ],
            [
             0.2222222222222222,
             "#7201a8"
            ],
            [
             0.3333333333333333,
             "#9c179e"
            ],
            [
             0.4444444444444444,
             "#bd3786"
            ],
            [
             0.5555555555555556,
             "#d8576b"
            ],
            [
             0.6666666666666666,
             "#ed7953"
            ],
            [
             0.7777777777777778,
             "#fb9f3a"
            ],
            [
             0.8888888888888888,
             "#fdca26"
            ],
            [
             1,
             "#f0f921"
            ]
           ]
          },
          "colorway": [
           "#636efa",
           "#EF553B",
           "#00cc96",
           "#ab63fa",
           "#FFA15A",
           "#19d3f3",
           "#FF6692",
           "#B6E880",
           "#FF97FF",
           "#FECB52"
          ],
          "font": {
           "color": "#2a3f5f"
          },
          "geo": {
           "bgcolor": "white",
           "lakecolor": "white",
           "landcolor": "#E5ECF6",
           "showlakes": true,
           "showland": true,
           "subunitcolor": "white"
          },
          "hoverlabel": {
           "align": "left"
          },
          "hovermode": "closest",
          "mapbox": {
           "style": "light"
          },
          "paper_bgcolor": "white",
          "plot_bgcolor": "#E5ECF6",
          "polar": {
           "angularaxis": {
            "gridcolor": "white",
            "linecolor": "white",
            "ticks": ""
           },
           "bgcolor": "#E5ECF6",
           "radialaxis": {
            "gridcolor": "white",
            "linecolor": "white",
            "ticks": ""
           }
          },
          "scene": {
           "xaxis": {
            "backgroundcolor": "#E5ECF6",
            "gridcolor": "white",
            "gridwidth": 2,
            "linecolor": "white",
            "showbackground": true,
            "ticks": "",
            "zerolinecolor": "white"
           },
           "yaxis": {
            "backgroundcolor": "#E5ECF6",
            "gridcolor": "white",
            "gridwidth": 2,
            "linecolor": "white",
            "showbackground": true,
            "ticks": "",
            "zerolinecolor": "white"
           },
           "zaxis": {
            "backgroundcolor": "#E5ECF6",
            "gridcolor": "white",
            "gridwidth": 2,
            "linecolor": "white",
            "showbackground": true,
            "ticks": "",
            "zerolinecolor": "white"
           }
          },
          "shapedefaults": {
           "line": {
            "color": "#2a3f5f"
           }
          },
          "ternary": {
           "aaxis": {
            "gridcolor": "white",
            "linecolor": "white",
            "ticks": ""
           },
           "baxis": {
            "gridcolor": "white",
            "linecolor": "white",
            "ticks": ""
           },
           "bgcolor": "#E5ECF6",
           "caxis": {
            "gridcolor": "white",
            "linecolor": "white",
            "ticks": ""
           }
          },
          "title": {
           "x": 0.05
          },
          "xaxis": {
           "automargin": true,
           "gridcolor": "white",
           "linecolor": "white",
           "ticks": "",
           "title": {
            "standoff": 15
           },
           "zerolinecolor": "white",
           "zerolinewidth": 2
          },
          "yaxis": {
           "automargin": true,
           "gridcolor": "white",
           "linecolor": "white",
           "ticks": "",
           "title": {
            "standoff": 15
           },
           "zerolinecolor": "white",
           "zerolinewidth": 2
          }
         }
        },
        "title": {
         "text": "Job priorities"
        },
        "xaxis": {
         "anchor": "y",
         "domain": [
          0,
          1
         ],
         "title": {
          "text": "percentage"
         }
        },
        "yaxis": {
         "anchor": "x",
         "domain": [
          0,
          1
         ],
         "title": {
          "text": "job_priority"
         }
        }
       }
      },
      "text/html": [
       "<div>                            <div id=\"f7cf0ce3-9ceb-4372-8ea1-6fd534b477c3\" class=\"plotly-graph-div\" style=\"height:525px; width:100%;\"></div>            <script type=\"text/javascript\">                require([\"plotly\"], function(Plotly) {                    window.PLOTLYENV=window.PLOTLYENV || {};                                    if (document.getElementById(\"f7cf0ce3-9ceb-4372-8ea1-6fd534b477c3\")) {                    Plotly.newPlot(                        \"f7cf0ce3-9ceb-4372-8ea1-6fd534b477c3\",                        [{\"alignmentgroup\": \"True\", \"customdata\": [[\"Diversity of the company or organization\"], [\"Specific department or team I\\u2019d be working on\"], [\"Financial performance or funding status of the company or organization\"], [\"Family friendliness\"], [\"Industry that I\\u2019d be working in\"], [\"How widely used or impactful my work output would be\"], [\"Remote work options\"], [\"Opportunities for professional development\"], [\"Flex time or a flexible schedule\"], [\"Office environment or company culture\"], [\"Languages, frameworks, and other technologies I\\u2019d be working with\"]], \"hovertemplate\": \"percentage=%{x}<br>job_priority=%{customdata[0]}<br>label_txt=%{text}<extra></extra>\", \"legendgroup\": \"\", \"marker\": {\"color\": \"#636efa\"}, \"name\": \"\", \"offsetgroup\": \"\", \"orientation\": \"h\", \"showlegend\": false, \"text\": [\"6.9%\", \"11.8%\", \"11.9%\", \"12.1%\", \"15.3%\", \"20.8%\", \"33.3%\", \"41.4%\", \"43.9%\", \"44.5%\", \"51.3%\"], \"textposition\": \"auto\", \"type\": \"bar\", \"x\": [6.863360959695232, 11.763156294960385, 11.93945166062129, 12.129931710875601, 15.347828730065451, 20.82514336663357, 33.25497983748404, 41.380777725992424, 43.88336136497193, 44.54193600680865, 51.336399927050195], \"xaxis\": \"x\", \"y\": [\"Diversity of the company or organization\", \"Specific department or team I\\u2019d be working on\", \"Financial performance or funding status of the company or organization\", \"Family friendliness\", \"Industry that I\\u2019d be working in\", \"How widely used or impactful my work output would be\", \"Remote work options\", \"Opportunities for professional development\", \"Flex time or a flexible schedule\", \"Office environment or company culture\", \"Languages, frameworks, and other technologies I\\u2019d be working with\"], \"yaxis\": \"y\"}],                        {\"barmode\": \"relative\", \"legend\": {\"tracegroupgap\": 0}, \"template\": {\"data\": {\"bar\": [{\"error_x\": {\"color\": \"#2a3f5f\"}, \"error_y\": {\"color\": \"#2a3f5f\"}, \"marker\": {\"line\": {\"color\": \"#E5ECF6\", \"width\": 0.5}}, \"type\": \"bar\"}], \"barpolar\": [{\"marker\": {\"line\": {\"color\": \"#E5ECF6\", \"width\": 0.5}}, \"type\": \"barpolar\"}], \"carpet\": [{\"aaxis\": {\"endlinecolor\": \"#2a3f5f\", \"gridcolor\": \"white\", \"linecolor\": \"white\", \"minorgridcolor\": \"white\", \"startlinecolor\": \"#2a3f5f\"}, \"baxis\": {\"endlinecolor\": \"#2a3f5f\", \"gridcolor\": \"white\", \"linecolor\": \"white\", \"minorgridcolor\": \"white\", \"startlinecolor\": \"#2a3f5f\"}, \"type\": \"carpet\"}], \"choropleth\": [{\"colorbar\": {\"outlinewidth\": 0, \"ticks\": \"\"}, \"type\": \"choropleth\"}], \"contour\": [{\"colorbar\": {\"outlinewidth\": 0, \"ticks\": \"\"}, \"colorscale\": [[0.0, \"#0d0887\"], [0.1111111111111111, \"#46039f\"], [0.2222222222222222, \"#7201a8\"], [0.3333333333333333, \"#9c179e\"], [0.4444444444444444, \"#bd3786\"], [0.5555555555555556, \"#d8576b\"], [0.6666666666666666, \"#ed7953\"], [0.7777777777777778, \"#fb9f3a\"], [0.8888888888888888, \"#fdca26\"], [1.0, \"#f0f921\"]], \"type\": \"contour\"}], \"contourcarpet\": [{\"colorbar\": {\"outlinewidth\": 0, \"ticks\": \"\"}, \"type\": \"contourcarpet\"}], \"heatmap\": [{\"colorbar\": {\"outlinewidth\": 0, \"ticks\": \"\"}, \"colorscale\": [[0.0, \"#0d0887\"], [0.1111111111111111, \"#46039f\"], [0.2222222222222222, \"#7201a8\"], [0.3333333333333333, \"#9c179e\"], [0.4444444444444444, \"#bd3786\"], [0.5555555555555556, \"#d8576b\"], [0.6666666666666666, \"#ed7953\"], [0.7777777777777778, \"#fb9f3a\"], [0.8888888888888888, \"#fdca26\"], [1.0, \"#f0f921\"]], \"type\": \"heatmap\"}], \"heatmapgl\": [{\"colorbar\": {\"outlinewidth\": 0, \"ticks\": \"\"}, \"colorscale\": [[0.0, \"#0d0887\"], [0.1111111111111111, \"#46039f\"], [0.2222222222222222, \"#7201a8\"], [0.3333333333333333, \"#9c179e\"], [0.4444444444444444, \"#bd3786\"], [0.5555555555555556, \"#d8576b\"], [0.6666666666666666, \"#ed7953\"], [0.7777777777777778, \"#fb9f3a\"], [0.8888888888888888, \"#fdca26\"], [1.0, \"#f0f921\"]], \"type\": \"heatmapgl\"}], \"histogram\": [{\"marker\": {\"colorbar\": {\"outlinewidth\": 0, \"ticks\": \"\"}}, \"type\": \"histogram\"}], \"histogram2d\": [{\"colorbar\": {\"outlinewidth\": 0, \"ticks\": \"\"}, \"colorscale\": [[0.0, \"#0d0887\"], [0.1111111111111111, \"#46039f\"], [0.2222222222222222, \"#7201a8\"], [0.3333333333333333, \"#9c179e\"], [0.4444444444444444, \"#bd3786\"], [0.5555555555555556, \"#d8576b\"], [0.6666666666666666, \"#ed7953\"], [0.7777777777777778, \"#fb9f3a\"], [0.8888888888888888, \"#fdca26\"], [1.0, \"#f0f921\"]], \"type\": \"histogram2d\"}], \"histogram2dcontour\": [{\"colorbar\": {\"outlinewidth\": 0, \"ticks\": \"\"}, \"colorscale\": [[0.0, \"#0d0887\"], [0.1111111111111111, \"#46039f\"], [0.2222222222222222, \"#7201a8\"], [0.3333333333333333, \"#9c179e\"], [0.4444444444444444, \"#bd3786\"], [0.5555555555555556, \"#d8576b\"], [0.6666666666666666, \"#ed7953\"], [0.7777777777777778, \"#fb9f3a\"], [0.8888888888888888, \"#fdca26\"], [1.0, \"#f0f921\"]], \"type\": \"histogram2dcontour\"}], \"mesh3d\": [{\"colorbar\": {\"outlinewidth\": 0, \"ticks\": \"\"}, \"type\": \"mesh3d\"}], \"parcoords\": [{\"line\": {\"colorbar\": {\"outlinewidth\": 0, \"ticks\": \"\"}}, \"type\": \"parcoords\"}], \"pie\": [{\"automargin\": true, \"type\": \"pie\"}], \"scatter\": [{\"marker\": {\"colorbar\": {\"outlinewidth\": 0, \"ticks\": \"\"}}, \"type\": \"scatter\"}], \"scatter3d\": [{\"line\": {\"colorbar\": {\"outlinewidth\": 0, \"ticks\": \"\"}}, \"marker\": {\"colorbar\": {\"outlinewidth\": 0, \"ticks\": \"\"}}, \"type\": \"scatter3d\"}], \"scattercarpet\": [{\"marker\": {\"colorbar\": {\"outlinewidth\": 0, \"ticks\": \"\"}}, \"type\": \"scattercarpet\"}], \"scattergeo\": [{\"marker\": {\"colorbar\": {\"outlinewidth\": 0, \"ticks\": \"\"}}, \"type\": \"scattergeo\"}], \"scattergl\": [{\"marker\": {\"colorbar\": {\"outlinewidth\": 0, \"ticks\": \"\"}}, \"type\": \"scattergl\"}], \"scattermapbox\": [{\"marker\": {\"colorbar\": {\"outlinewidth\": 0, \"ticks\": \"\"}}, \"type\": \"scattermapbox\"}], \"scatterpolar\": [{\"marker\": {\"colorbar\": {\"outlinewidth\": 0, \"ticks\": \"\"}}, \"type\": \"scatterpolar\"}], \"scatterpolargl\": [{\"marker\": {\"colorbar\": {\"outlinewidth\": 0, \"ticks\": \"\"}}, \"type\": \"scatterpolargl\"}], \"scatterternary\": [{\"marker\": {\"colorbar\": {\"outlinewidth\": 0, \"ticks\": \"\"}}, \"type\": \"scatterternary\"}], \"surface\": [{\"colorbar\": {\"outlinewidth\": 0, \"ticks\": \"\"}, \"colorscale\": [[0.0, \"#0d0887\"], [0.1111111111111111, \"#46039f\"], [0.2222222222222222, \"#7201a8\"], [0.3333333333333333, \"#9c179e\"], [0.4444444444444444, \"#bd3786\"], [0.5555555555555556, \"#d8576b\"], [0.6666666666666666, \"#ed7953\"], [0.7777777777777778, \"#fb9f3a\"], [0.8888888888888888, \"#fdca26\"], [1.0, \"#f0f921\"]], \"type\": \"surface\"}], \"table\": [{\"cells\": {\"fill\": {\"color\": \"#EBF0F8\"}, \"line\": {\"color\": \"white\"}}, \"header\": {\"fill\": {\"color\": \"#C8D4E3\"}, \"line\": {\"color\": \"white\"}}, \"type\": \"table\"}]}, \"layout\": {\"annotationdefaults\": {\"arrowcolor\": \"#2a3f5f\", \"arrowhead\": 0, \"arrowwidth\": 1}, \"autotypenumbers\": \"strict\", \"coloraxis\": {\"colorbar\": {\"outlinewidth\": 0, \"ticks\": \"\"}}, \"colorscale\": {\"diverging\": [[0, \"#8e0152\"], [0.1, \"#c51b7d\"], [0.2, \"#de77ae\"], [0.3, \"#f1b6da\"], [0.4, \"#fde0ef\"], [0.5, \"#f7f7f7\"], [0.6, \"#e6f5d0\"], [0.7, \"#b8e186\"], [0.8, \"#7fbc41\"], [0.9, \"#4d9221\"], [1, \"#276419\"]], \"sequential\": [[0.0, \"#0d0887\"], [0.1111111111111111, \"#46039f\"], [0.2222222222222222, \"#7201a8\"], [0.3333333333333333, \"#9c179e\"], [0.4444444444444444, \"#bd3786\"], [0.5555555555555556, \"#d8576b\"], [0.6666666666666666, \"#ed7953\"], [0.7777777777777778, \"#fb9f3a\"], [0.8888888888888888, \"#fdca26\"], [1.0, \"#f0f921\"]], \"sequentialminus\": [[0.0, \"#0d0887\"], [0.1111111111111111, \"#46039f\"], [0.2222222222222222, \"#7201a8\"], [0.3333333333333333, \"#9c179e\"], [0.4444444444444444, \"#bd3786\"], [0.5555555555555556, \"#d8576b\"], [0.6666666666666666, \"#ed7953\"], [0.7777777777777778, \"#fb9f3a\"], [0.8888888888888888, \"#fdca26\"], [1.0, \"#f0f921\"]]}, \"colorway\": [\"#636efa\", \"#EF553B\", \"#00cc96\", \"#ab63fa\", \"#FFA15A\", \"#19d3f3\", \"#FF6692\", \"#B6E880\", \"#FF97FF\", \"#FECB52\"], \"font\": {\"color\": \"#2a3f5f\"}, \"geo\": {\"bgcolor\": \"white\", \"lakecolor\": \"white\", \"landcolor\": \"#E5ECF6\", \"showlakes\": true, \"showland\": true, \"subunitcolor\": \"white\"}, \"hoverlabel\": {\"align\": \"left\"}, \"hovermode\": \"closest\", \"mapbox\": {\"style\": \"light\"}, \"paper_bgcolor\": \"white\", \"plot_bgcolor\": \"#E5ECF6\", \"polar\": {\"angularaxis\": {\"gridcolor\": \"white\", \"linecolor\": \"white\", \"ticks\": \"\"}, \"bgcolor\": \"#E5ECF6\", \"radialaxis\": {\"gridcolor\": \"white\", \"linecolor\": \"white\", \"ticks\": \"\"}}, \"scene\": {\"xaxis\": {\"backgroundcolor\": \"#E5ECF6\", \"gridcolor\": \"white\", \"gridwidth\": 2, \"linecolor\": \"white\", \"showbackground\": true, \"ticks\": \"\", \"zerolinecolor\": \"white\"}, \"yaxis\": {\"backgroundcolor\": \"#E5ECF6\", \"gridcolor\": \"white\", \"gridwidth\": 2, \"linecolor\": \"white\", \"showbackground\": true, \"ticks\": \"\", \"zerolinecolor\": \"white\"}, \"zaxis\": {\"backgroundcolor\": \"#E5ECF6\", \"gridcolor\": \"white\", \"gridwidth\": 2, \"linecolor\": \"white\", \"showbackground\": true, \"ticks\": \"\", \"zerolinecolor\": \"white\"}}, \"shapedefaults\": {\"line\": {\"color\": \"#2a3f5f\"}}, \"ternary\": {\"aaxis\": {\"gridcolor\": \"white\", \"linecolor\": \"white\", \"ticks\": \"\"}, \"baxis\": {\"gridcolor\": \"white\", \"linecolor\": \"white\", \"ticks\": \"\"}, \"bgcolor\": \"#E5ECF6\", \"caxis\": {\"gridcolor\": \"white\", \"linecolor\": \"white\", \"ticks\": \"\"}}, \"title\": {\"x\": 0.05}, \"xaxis\": {\"automargin\": true, \"gridcolor\": \"white\", \"linecolor\": \"white\", \"ticks\": \"\", \"title\": {\"standoff\": 15}, \"zerolinecolor\": \"white\", \"zerolinewidth\": 2}, \"yaxis\": {\"automargin\": true, \"gridcolor\": \"white\", \"linecolor\": \"white\", \"ticks\": \"\", \"title\": {\"standoff\": 15}, \"zerolinecolor\": \"white\", \"zerolinewidth\": 2}}}, \"title\": {\"text\": \"Job priorities\"}, \"xaxis\": {\"anchor\": \"y\", \"domain\": [0.0, 1.0], \"title\": {\"text\": \"percentage\"}}, \"yaxis\": {\"anchor\": \"x\", \"domain\": [0.0, 1.0], \"title\": {\"text\": \"job_priority\"}}},                        {\"responsive\": true}                    ).then(function(){\n",
       "                            \n",
       "var gd = document.getElementById('f7cf0ce3-9ceb-4372-8ea1-6fd534b477c3');\n",
       "var x = new MutationObserver(function (mutations, observer) {{\n",
       "        var display = window.getComputedStyle(gd).display;\n",
       "        if (!display || display === 'none') {{\n",
       "            console.log([gd, 'removed!']);\n",
       "            Plotly.purge(gd);\n",
       "            observer.disconnect();\n",
       "        }}\n",
       "}});\n",
       "\n",
       "// Listen for the removal of the full notebook cells\n",
       "var notebookContainer = gd.closest('#notebook-container');\n",
       "if (notebookContainer) {{\n",
       "    x.observe(notebookContainer, {childList: true});\n",
       "}}\n",
       "\n",
       "// Listen for the clearing of the current output cell\n",
       "var outputEl = gd.closest('.output');\n",
       "if (outputEl) {{\n",
       "    x.observe(outputEl, {childList: true});\n",
       "}}\n",
       "\n",
       "                        })                };                });            </script>        </div>"
      ]
     },
     "metadata": {},
     "output_type": "display_data"
    }
   ],
   "source": [
    "job_prior_df = df[\"JobFactors\"].str.split(\";\", expand=True).stack().value_counts().sort_values(ascending=True)\n",
    "job_prior_df = job_prior_df/df[\"JobFactors\"].count()*100\n",
    "job_prior_df = pd.DataFrame({\"Job Priority\": job_prior_df.index, \"Percentage\": job_prior_df.values})\n",
    "job_prior_df[\"Label\"] = job_prior_df.apply(lambda row: str(round(row[\"percentage\"], 1)) + \"%\", axis=1)\n",
    "fig = px.bar(job_prior_df, x=\"percentage\", y=\"job_priority\", orientation='h', title=\"Job priorities\", text=\"Label\")\n",
    "fig.show()"
   ]
  },
  {
   "cell_type": "markdown",
   "metadata": {},
   "source": [
    "Overall, developer prefers to continue working on their technology stack (languages & framework) from more than half of respondents (51.3%). Similar percentage of responses 41.4%-43.9%-44.5%, the three following important factors are company culture, flexible schedule and professional development oppotunities. The least important factors are the financial performance of the organization (11.9%), the specific team they would be working on (11.8%), and the diversity of the organization (6.9%)."
   ]
  },
  {
   "cell_type": "markdown",
   "metadata": {},
   "source": [
    "### 2. How coding languages associated with salary?"
   ]
  },
  {
   "cell_type": "code",
   "execution_count": 359,
   "metadata": {},
   "outputs": [
    {
     "data": {
      "application/vnd.plotly.v1+json": {
       "config": {
        "plotlyServerURL": "https://plot.ly"
       },
       "data": [
        {
         "alignmentgroup": "True",
         "hovertemplate": "Salary=%{x}<br>LanguageWorkedWith=%{y}<br>Label=%{text}<extra></extra>",
         "legendgroup": "",
         "marker": {
          "color": "#636efa"
         },
         "name": "",
         "offsetgroup": "",
         "orientation": "h",
         "showlegend": false,
         "text": [
          "$35.7K",
          "$38.9K",
          "$50.3K",
          "$51K",
          "$51.7K",
          "$51.7K",
          "$52.2K",
          "$53.3K",
          "$53.4K",
          "$54K",
          "$54K",
          "$56.2K",
          "$56.8K",
          "$56.8K",
          "$58.2K",
          "$60K",
          "$60.1K",
          "$63.3K",
          "$63.4K",
          "$66K",
          "$70.3K",
          "$72.2K",
          "$73.7K",
          "$76.5K",
          "$77.7K"
         ],
         "textposition": "auto",
         "type": "bar",
         "x": [
          35699.5,
          38916,
          50268,
          51000,
          51704,
          51704,
          52234.5,
          53328,
          53448,
          54039,
          54049,
          56211,
          56774,
          56788,
          58236,
          60000,
          60088.5,
          63281,
          63358.5,
          66000,
          70264,
          72154,
          73661,
          76536,
          77694
         ],
         "xaxis": "x",
         "y": [
          "Dart",
          "PHP",
          "Java",
          "C",
          "VBA",
          "HTML/CSS",
          "JavaScript",
          "Kotlin",
          "Assembly",
          "SQL",
          "C++",
          "R",
          "C#",
          "TypeScript",
          "Swift",
          "Python",
          "Haskell",
          "Julia",
          "Objective-C",
          "Bash/Shell/PowerShell",
          "Ruby",
          "Go",
          "Rust",
          "Scala",
          "Perl"
         ],
         "yaxis": "y"
        }
       ],
       "layout": {
        "barmode": "relative",
        "height": 800,
        "legend": {
         "tracegroupgap": 0
        },
        "template": {
         "data": {
          "bar": [
           {
            "error_x": {
             "color": "#2a3f5f"
            },
            "error_y": {
             "color": "#2a3f5f"
            },
            "marker": {
             "line": {
              "color": "#E5ECF6",
              "width": 0.5
             }
            },
            "type": "bar"
           }
          ],
          "barpolar": [
           {
            "marker": {
             "line": {
              "color": "#E5ECF6",
              "width": 0.5
             }
            },
            "type": "barpolar"
           }
          ],
          "carpet": [
           {
            "aaxis": {
             "endlinecolor": "#2a3f5f",
             "gridcolor": "white",
             "linecolor": "white",
             "minorgridcolor": "white",
             "startlinecolor": "#2a3f5f"
            },
            "baxis": {
             "endlinecolor": "#2a3f5f",
             "gridcolor": "white",
             "linecolor": "white",
             "minorgridcolor": "white",
             "startlinecolor": "#2a3f5f"
            },
            "type": "carpet"
           }
          ],
          "choropleth": [
           {
            "colorbar": {
             "outlinewidth": 0,
             "ticks": ""
            },
            "type": "choropleth"
           }
          ],
          "contour": [
           {
            "colorbar": {
             "outlinewidth": 0,
             "ticks": ""
            },
            "colorscale": [
             [
              0,
              "#0d0887"
             ],
             [
              0.1111111111111111,
              "#46039f"
             ],
             [
              0.2222222222222222,
              "#7201a8"
             ],
             [
              0.3333333333333333,
              "#9c179e"
             ],
             [
              0.4444444444444444,
              "#bd3786"
             ],
             [
              0.5555555555555556,
              "#d8576b"
             ],
             [
              0.6666666666666666,
              "#ed7953"
             ],
             [
              0.7777777777777778,
              "#fb9f3a"
             ],
             [
              0.8888888888888888,
              "#fdca26"
             ],
             [
              1,
              "#f0f921"
             ]
            ],
            "type": "contour"
           }
          ],
          "contourcarpet": [
           {
            "colorbar": {
             "outlinewidth": 0,
             "ticks": ""
            },
            "type": "contourcarpet"
           }
          ],
          "heatmap": [
           {
            "colorbar": {
             "outlinewidth": 0,
             "ticks": ""
            },
            "colorscale": [
             [
              0,
              "#0d0887"
             ],
             [
              0.1111111111111111,
              "#46039f"
             ],
             [
              0.2222222222222222,
              "#7201a8"
             ],
             [
              0.3333333333333333,
              "#9c179e"
             ],
             [
              0.4444444444444444,
              "#bd3786"
             ],
             [
              0.5555555555555556,
              "#d8576b"
             ],
             [
              0.6666666666666666,
              "#ed7953"
             ],
             [
              0.7777777777777778,
              "#fb9f3a"
             ],
             [
              0.8888888888888888,
              "#fdca26"
             ],
             [
              1,
              "#f0f921"
             ]
            ],
            "type": "heatmap"
           }
          ],
          "heatmapgl": [
           {
            "colorbar": {
             "outlinewidth": 0,
             "ticks": ""
            },
            "colorscale": [
             [
              0,
              "#0d0887"
             ],
             [
              0.1111111111111111,
              "#46039f"
             ],
             [
              0.2222222222222222,
              "#7201a8"
             ],
             [
              0.3333333333333333,
              "#9c179e"
             ],
             [
              0.4444444444444444,
              "#bd3786"
             ],
             [
              0.5555555555555556,
              "#d8576b"
             ],
             [
              0.6666666666666666,
              "#ed7953"
             ],
             [
              0.7777777777777778,
              "#fb9f3a"
             ],
             [
              0.8888888888888888,
              "#fdca26"
             ],
             [
              1,
              "#f0f921"
             ]
            ],
            "type": "heatmapgl"
           }
          ],
          "histogram": [
           {
            "marker": {
             "colorbar": {
              "outlinewidth": 0,
              "ticks": ""
             }
            },
            "type": "histogram"
           }
          ],
          "histogram2d": [
           {
            "colorbar": {
             "outlinewidth": 0,
             "ticks": ""
            },
            "colorscale": [
             [
              0,
              "#0d0887"
             ],
             [
              0.1111111111111111,
              "#46039f"
             ],
             [
              0.2222222222222222,
              "#7201a8"
             ],
             [
              0.3333333333333333,
              "#9c179e"
             ],
             [
              0.4444444444444444,
              "#bd3786"
             ],
             [
              0.5555555555555556,
              "#d8576b"
             ],
             [
              0.6666666666666666,
              "#ed7953"
             ],
             [
              0.7777777777777778,
              "#fb9f3a"
             ],
             [
              0.8888888888888888,
              "#fdca26"
             ],
             [
              1,
              "#f0f921"
             ]
            ],
            "type": "histogram2d"
           }
          ],
          "histogram2dcontour": [
           {
            "colorbar": {
             "outlinewidth": 0,
             "ticks": ""
            },
            "colorscale": [
             [
              0,
              "#0d0887"
             ],
             [
              0.1111111111111111,
              "#46039f"
             ],
             [
              0.2222222222222222,
              "#7201a8"
             ],
             [
              0.3333333333333333,
              "#9c179e"
             ],
             [
              0.4444444444444444,
              "#bd3786"
             ],
             [
              0.5555555555555556,
              "#d8576b"
             ],
             [
              0.6666666666666666,
              "#ed7953"
             ],
             [
              0.7777777777777778,
              "#fb9f3a"
             ],
             [
              0.8888888888888888,
              "#fdca26"
             ],
             [
              1,
              "#f0f921"
             ]
            ],
            "type": "histogram2dcontour"
           }
          ],
          "mesh3d": [
           {
            "colorbar": {
             "outlinewidth": 0,
             "ticks": ""
            },
            "type": "mesh3d"
           }
          ],
          "parcoords": [
           {
            "line": {
             "colorbar": {
              "outlinewidth": 0,
              "ticks": ""
             }
            },
            "type": "parcoords"
           }
          ],
          "pie": [
           {
            "automargin": true,
            "type": "pie"
           }
          ],
          "scatter": [
           {
            "marker": {
             "colorbar": {
              "outlinewidth": 0,
              "ticks": ""
             }
            },
            "type": "scatter"
           }
          ],
          "scatter3d": [
           {
            "line": {
             "colorbar": {
              "outlinewidth": 0,
              "ticks": ""
             }
            },
            "marker": {
             "colorbar": {
              "outlinewidth": 0,
              "ticks": ""
             }
            },
            "type": "scatter3d"
           }
          ],
          "scattercarpet": [
           {
            "marker": {
             "colorbar": {
              "outlinewidth": 0,
              "ticks": ""
             }
            },
            "type": "scattercarpet"
           }
          ],
          "scattergeo": [
           {
            "marker": {
             "colorbar": {
              "outlinewidth": 0,
              "ticks": ""
             }
            },
            "type": "scattergeo"
           }
          ],
          "scattergl": [
           {
            "marker": {
             "colorbar": {
              "outlinewidth": 0,
              "ticks": ""
             }
            },
            "type": "scattergl"
           }
          ],
          "scattermapbox": [
           {
            "marker": {
             "colorbar": {
              "outlinewidth": 0,
              "ticks": ""
             }
            },
            "type": "scattermapbox"
           }
          ],
          "scatterpolar": [
           {
            "marker": {
             "colorbar": {
              "outlinewidth": 0,
              "ticks": ""
             }
            },
            "type": "scatterpolar"
           }
          ],
          "scatterpolargl": [
           {
            "marker": {
             "colorbar": {
              "outlinewidth": 0,
              "ticks": ""
             }
            },
            "type": "scatterpolargl"
           }
          ],
          "scatterternary": [
           {
            "marker": {
             "colorbar": {
              "outlinewidth": 0,
              "ticks": ""
             }
            },
            "type": "scatterternary"
           }
          ],
          "surface": [
           {
            "colorbar": {
             "outlinewidth": 0,
             "ticks": ""
            },
            "colorscale": [
             [
              0,
              "#0d0887"
             ],
             [
              0.1111111111111111,
              "#46039f"
             ],
             [
              0.2222222222222222,
              "#7201a8"
             ],
             [
              0.3333333333333333,
              "#9c179e"
             ],
             [
              0.4444444444444444,
              "#bd3786"
             ],
             [
              0.5555555555555556,
              "#d8576b"
             ],
             [
              0.6666666666666666,
              "#ed7953"
             ],
             [
              0.7777777777777778,
              "#fb9f3a"
             ],
             [
              0.8888888888888888,
              "#fdca26"
             ],
             [
              1,
              "#f0f921"
             ]
            ],
            "type": "surface"
           }
          ],
          "table": [
           {
            "cells": {
             "fill": {
              "color": "#EBF0F8"
             },
             "line": {
              "color": "white"
             }
            },
            "header": {
             "fill": {
              "color": "#C8D4E3"
             },
             "line": {
              "color": "white"
             }
            },
            "type": "table"
           }
          ]
         },
         "layout": {
          "annotationdefaults": {
           "arrowcolor": "#2a3f5f",
           "arrowhead": 0,
           "arrowwidth": 1
          },
          "autotypenumbers": "strict",
          "coloraxis": {
           "colorbar": {
            "outlinewidth": 0,
            "ticks": ""
           }
          },
          "colorscale": {
           "diverging": [
            [
             0,
             "#8e0152"
            ],
            [
             0.1,
             "#c51b7d"
            ],
            [
             0.2,
             "#de77ae"
            ],
            [
             0.3,
             "#f1b6da"
            ],
            [
             0.4,
             "#fde0ef"
            ],
            [
             0.5,
             "#f7f7f7"
            ],
            [
             0.6,
             "#e6f5d0"
            ],
            [
             0.7,
             "#b8e186"
            ],
            [
             0.8,
             "#7fbc41"
            ],
            [
             0.9,
             "#4d9221"
            ],
            [
             1,
             "#276419"
            ]
           ],
           "sequential": [
            [
             0,
             "#0d0887"
            ],
            [
             0.1111111111111111,
             "#46039f"
            ],
            [
             0.2222222222222222,
             "#7201a8"
            ],
            [
             0.3333333333333333,
             "#9c179e"
            ],
            [
             0.4444444444444444,
             "#bd3786"
            ],
            [
             0.5555555555555556,
             "#d8576b"
            ],
            [
             0.6666666666666666,
             "#ed7953"
            ],
            [
             0.7777777777777778,
             "#fb9f3a"
            ],
            [
             0.8888888888888888,
             "#fdca26"
            ],
            [
             1,
             "#f0f921"
            ]
           ],
           "sequentialminus": [
            [
             0,
             "#0d0887"
            ],
            [
             0.1111111111111111,
             "#46039f"
            ],
            [
             0.2222222222222222,
             "#7201a8"
            ],
            [
             0.3333333333333333,
             "#9c179e"
            ],
            [
             0.4444444444444444,
             "#bd3786"
            ],
            [
             0.5555555555555556,
             "#d8576b"
            ],
            [
             0.6666666666666666,
             "#ed7953"
            ],
            [
             0.7777777777777778,
             "#fb9f3a"
            ],
            [
             0.8888888888888888,
             "#fdca26"
            ],
            [
             1,
             "#f0f921"
            ]
           ]
          },
          "colorway": [
           "#636efa",
           "#EF553B",
           "#00cc96",
           "#ab63fa",
           "#FFA15A",
           "#19d3f3",
           "#FF6692",
           "#B6E880",
           "#FF97FF",
           "#FECB52"
          ],
          "font": {
           "color": "#2a3f5f"
          },
          "geo": {
           "bgcolor": "white",
           "lakecolor": "white",
           "landcolor": "#E5ECF6",
           "showlakes": true,
           "showland": true,
           "subunitcolor": "white"
          },
          "hoverlabel": {
           "align": "left"
          },
          "hovermode": "closest",
          "mapbox": {
           "style": "light"
          },
          "paper_bgcolor": "white",
          "plot_bgcolor": "#E5ECF6",
          "polar": {
           "angularaxis": {
            "gridcolor": "white",
            "linecolor": "white",
            "ticks": ""
           },
           "bgcolor": "#E5ECF6",
           "radialaxis": {
            "gridcolor": "white",
            "linecolor": "white",
            "ticks": ""
           }
          },
          "scene": {
           "xaxis": {
            "backgroundcolor": "#E5ECF6",
            "gridcolor": "white",
            "gridwidth": 2,
            "linecolor": "white",
            "showbackground": true,
            "ticks": "",
            "zerolinecolor": "white"
           },
           "yaxis": {
            "backgroundcolor": "#E5ECF6",
            "gridcolor": "white",
            "gridwidth": 2,
            "linecolor": "white",
            "showbackground": true,
            "ticks": "",
            "zerolinecolor": "white"
           },
           "zaxis": {
            "backgroundcolor": "#E5ECF6",
            "gridcolor": "white",
            "gridwidth": 2,
            "linecolor": "white",
            "showbackground": true,
            "ticks": "",
            "zerolinecolor": "white"
           }
          },
          "shapedefaults": {
           "line": {
            "color": "#2a3f5f"
           }
          },
          "ternary": {
           "aaxis": {
            "gridcolor": "white",
            "linecolor": "white",
            "ticks": ""
           },
           "baxis": {
            "gridcolor": "white",
            "linecolor": "white",
            "ticks": ""
           },
           "bgcolor": "#E5ECF6",
           "caxis": {
            "gridcolor": "white",
            "linecolor": "white",
            "ticks": ""
           }
          },
          "title": {
           "x": 0.05
          },
          "xaxis": {
           "automargin": true,
           "gridcolor": "white",
           "linecolor": "white",
           "ticks": "",
           "title": {
            "standoff": 15
           },
           "zerolinecolor": "white",
           "zerolinewidth": 2
          },
          "yaxis": {
           "automargin": true,
           "gridcolor": "white",
           "linecolor": "white",
           "ticks": "",
           "title": {
            "standoff": 15
           },
           "zerolinecolor": "white",
           "zerolinewidth": 2
          }
         }
        },
        "title": {
         "text": "Language vs Salary"
        },
        "xaxis": {
         "anchor": "y",
         "domain": [
          0,
          1
         ],
         "title": {
          "text": "Salary"
         }
        },
        "yaxis": {
         "anchor": "x",
         "domain": [
          0,
          1
         ],
         "title": {
          "text": "LanguageWorkedWith"
         }
        }
       }
      },
      "text/html": [
       "<div>                            <div id=\"5f402f18-4e20-4eb1-994e-33b166387253\" class=\"plotly-graph-div\" style=\"height:800px; width:100%;\"></div>            <script type=\"text/javascript\">                require([\"plotly\"], function(Plotly) {                    window.PLOTLYENV=window.PLOTLYENV || {};                                    if (document.getElementById(\"5f402f18-4e20-4eb1-994e-33b166387253\")) {                    Plotly.newPlot(                        \"5f402f18-4e20-4eb1-994e-33b166387253\",                        [{\"alignmentgroup\": \"True\", \"hovertemplate\": \"Salary=%{x}<br>LanguageWorkedWith=%{y}<br>Label=%{text}<extra></extra>\", \"legendgroup\": \"\", \"marker\": {\"color\": \"#636efa\"}, \"name\": \"\", \"offsetgroup\": \"\", \"orientation\": \"h\", \"showlegend\": false, \"text\": [\"$35.7K\", \"$38.9K\", \"$50.3K\", \"$51K\", \"$51.7K\", \"$51.7K\", \"$52.2K\", \"$53.3K\", \"$53.4K\", \"$54K\", \"$54K\", \"$56.2K\", \"$56.8K\", \"$56.8K\", \"$58.2K\", \"$60K\", \"$60.1K\", \"$63.3K\", \"$63.4K\", \"$66K\", \"$70.3K\", \"$72.2K\", \"$73.7K\", \"$76.5K\", \"$77.7K\"], \"textposition\": \"auto\", \"type\": \"bar\", \"x\": [35699.5, 38916.0, 50268.0, 51000.0, 51704.0, 51704.0, 52234.5, 53328.0, 53448.0, 54039.0, 54049.0, 56211.0, 56774.0, 56788.0, 58236.0, 60000.0, 60088.5, 63281.0, 63358.5, 66000.0, 70264.0, 72154.0, 73661.0, 76536.0, 77694.0], \"xaxis\": \"x\", \"y\": [\"Dart\", \"PHP\", \"Java\", \"C\", \"VBA\", \"HTML/CSS\", \"JavaScript\", \"Kotlin\", \"Assembly\", \"SQL\", \"C++\", \"R\", \"C#\", \"TypeScript\", \"Swift\", \"Python\", \"Haskell\", \"Julia\", \"Objective-C\", \"Bash/Shell/PowerShell\", \"Ruby\", \"Go\", \"Rust\", \"Scala\", \"Perl\"], \"yaxis\": \"y\"}],                        {\"barmode\": \"relative\", \"height\": 800, \"legend\": {\"tracegroupgap\": 0}, \"template\": {\"data\": {\"bar\": [{\"error_x\": {\"color\": \"#2a3f5f\"}, \"error_y\": {\"color\": \"#2a3f5f\"}, \"marker\": {\"line\": {\"color\": \"#E5ECF6\", \"width\": 0.5}}, \"type\": \"bar\"}], \"barpolar\": [{\"marker\": {\"line\": {\"color\": \"#E5ECF6\", \"width\": 0.5}}, \"type\": \"barpolar\"}], \"carpet\": [{\"aaxis\": {\"endlinecolor\": \"#2a3f5f\", \"gridcolor\": \"white\", \"linecolor\": \"white\", \"minorgridcolor\": \"white\", \"startlinecolor\": \"#2a3f5f\"}, \"baxis\": {\"endlinecolor\": \"#2a3f5f\", \"gridcolor\": \"white\", \"linecolor\": \"white\", \"minorgridcolor\": \"white\", \"startlinecolor\": \"#2a3f5f\"}, \"type\": \"carpet\"}], \"choropleth\": [{\"colorbar\": {\"outlinewidth\": 0, \"ticks\": \"\"}, \"type\": \"choropleth\"}], \"contour\": [{\"colorbar\": {\"outlinewidth\": 0, \"ticks\": \"\"}, \"colorscale\": [[0.0, \"#0d0887\"], [0.1111111111111111, \"#46039f\"], [0.2222222222222222, \"#7201a8\"], [0.3333333333333333, \"#9c179e\"], [0.4444444444444444, \"#bd3786\"], [0.5555555555555556, \"#d8576b\"], [0.6666666666666666, \"#ed7953\"], [0.7777777777777778, \"#fb9f3a\"], [0.8888888888888888, \"#fdca26\"], [1.0, \"#f0f921\"]], \"type\": \"contour\"}], \"contourcarpet\": [{\"colorbar\": {\"outlinewidth\": 0, \"ticks\": \"\"}, \"type\": \"contourcarpet\"}], \"heatmap\": [{\"colorbar\": {\"outlinewidth\": 0, \"ticks\": \"\"}, \"colorscale\": [[0.0, \"#0d0887\"], [0.1111111111111111, \"#46039f\"], [0.2222222222222222, \"#7201a8\"], [0.3333333333333333, \"#9c179e\"], [0.4444444444444444, \"#bd3786\"], [0.5555555555555556, \"#d8576b\"], [0.6666666666666666, \"#ed7953\"], [0.7777777777777778, \"#fb9f3a\"], [0.8888888888888888, \"#fdca26\"], [1.0, \"#f0f921\"]], \"type\": \"heatmap\"}], \"heatmapgl\": [{\"colorbar\": {\"outlinewidth\": 0, \"ticks\": \"\"}, \"colorscale\": [[0.0, \"#0d0887\"], [0.1111111111111111, \"#46039f\"], [0.2222222222222222, \"#7201a8\"], [0.3333333333333333, \"#9c179e\"], [0.4444444444444444, \"#bd3786\"], [0.5555555555555556, \"#d8576b\"], [0.6666666666666666, \"#ed7953\"], [0.7777777777777778, \"#fb9f3a\"], [0.8888888888888888, \"#fdca26\"], [1.0, \"#f0f921\"]], \"type\": \"heatmapgl\"}], \"histogram\": [{\"marker\": {\"colorbar\": {\"outlinewidth\": 0, \"ticks\": \"\"}}, \"type\": \"histogram\"}], \"histogram2d\": [{\"colorbar\": {\"outlinewidth\": 0, \"ticks\": \"\"}, \"colorscale\": [[0.0, \"#0d0887\"], [0.1111111111111111, \"#46039f\"], [0.2222222222222222, \"#7201a8\"], [0.3333333333333333, \"#9c179e\"], [0.4444444444444444, \"#bd3786\"], [0.5555555555555556, \"#d8576b\"], [0.6666666666666666, \"#ed7953\"], [0.7777777777777778, \"#fb9f3a\"], [0.8888888888888888, \"#fdca26\"], [1.0, \"#f0f921\"]], \"type\": \"histogram2d\"}], \"histogram2dcontour\": [{\"colorbar\": {\"outlinewidth\": 0, \"ticks\": \"\"}, \"colorscale\": [[0.0, \"#0d0887\"], [0.1111111111111111, \"#46039f\"], [0.2222222222222222, \"#7201a8\"], [0.3333333333333333, \"#9c179e\"], [0.4444444444444444, \"#bd3786\"], [0.5555555555555556, \"#d8576b\"], [0.6666666666666666, \"#ed7953\"], [0.7777777777777778, \"#fb9f3a\"], [0.8888888888888888, \"#fdca26\"], [1.0, \"#f0f921\"]], \"type\": \"histogram2dcontour\"}], \"mesh3d\": [{\"colorbar\": {\"outlinewidth\": 0, \"ticks\": \"\"}, \"type\": \"mesh3d\"}], \"parcoords\": [{\"line\": {\"colorbar\": {\"outlinewidth\": 0, \"ticks\": \"\"}}, \"type\": \"parcoords\"}], \"pie\": [{\"automargin\": true, \"type\": \"pie\"}], \"scatter\": [{\"marker\": {\"colorbar\": {\"outlinewidth\": 0, \"ticks\": \"\"}}, \"type\": \"scatter\"}], \"scatter3d\": [{\"line\": {\"colorbar\": {\"outlinewidth\": 0, \"ticks\": \"\"}}, \"marker\": {\"colorbar\": {\"outlinewidth\": 0, \"ticks\": \"\"}}, \"type\": \"scatter3d\"}], \"scattercarpet\": [{\"marker\": {\"colorbar\": {\"outlinewidth\": 0, \"ticks\": \"\"}}, \"type\": \"scattercarpet\"}], \"scattergeo\": [{\"marker\": {\"colorbar\": {\"outlinewidth\": 0, \"ticks\": \"\"}}, \"type\": \"scattergeo\"}], \"scattergl\": [{\"marker\": {\"colorbar\": {\"outlinewidth\": 0, \"ticks\": \"\"}}, \"type\": \"scattergl\"}], \"scattermapbox\": [{\"marker\": {\"colorbar\": {\"outlinewidth\": 0, \"ticks\": \"\"}}, \"type\": \"scattermapbox\"}], \"scatterpolar\": [{\"marker\": {\"colorbar\": {\"outlinewidth\": 0, \"ticks\": \"\"}}, \"type\": \"scatterpolar\"}], \"scatterpolargl\": [{\"marker\": {\"colorbar\": {\"outlinewidth\": 0, \"ticks\": \"\"}}, \"type\": \"scatterpolargl\"}], \"scatterternary\": [{\"marker\": {\"colorbar\": {\"outlinewidth\": 0, \"ticks\": \"\"}}, \"type\": \"scatterternary\"}], \"surface\": [{\"colorbar\": {\"outlinewidth\": 0, \"ticks\": \"\"}, \"colorscale\": [[0.0, \"#0d0887\"], [0.1111111111111111, \"#46039f\"], [0.2222222222222222, \"#7201a8\"], [0.3333333333333333, \"#9c179e\"], [0.4444444444444444, \"#bd3786\"], [0.5555555555555556, \"#d8576b\"], [0.6666666666666666, \"#ed7953\"], [0.7777777777777778, \"#fb9f3a\"], [0.8888888888888888, \"#fdca26\"], [1.0, \"#f0f921\"]], \"type\": \"surface\"}], \"table\": [{\"cells\": {\"fill\": {\"color\": \"#EBF0F8\"}, \"line\": {\"color\": \"white\"}}, \"header\": {\"fill\": {\"color\": \"#C8D4E3\"}, \"line\": {\"color\": \"white\"}}, \"type\": \"table\"}]}, \"layout\": {\"annotationdefaults\": {\"arrowcolor\": \"#2a3f5f\", \"arrowhead\": 0, \"arrowwidth\": 1}, \"autotypenumbers\": \"strict\", \"coloraxis\": {\"colorbar\": {\"outlinewidth\": 0, \"ticks\": \"\"}}, \"colorscale\": {\"diverging\": [[0, \"#8e0152\"], [0.1, \"#c51b7d\"], [0.2, \"#de77ae\"], [0.3, \"#f1b6da\"], [0.4, \"#fde0ef\"], [0.5, \"#f7f7f7\"], [0.6, \"#e6f5d0\"], [0.7, \"#b8e186\"], [0.8, \"#7fbc41\"], [0.9, \"#4d9221\"], [1, \"#276419\"]], \"sequential\": [[0.0, \"#0d0887\"], [0.1111111111111111, \"#46039f\"], [0.2222222222222222, \"#7201a8\"], [0.3333333333333333, \"#9c179e\"], [0.4444444444444444, \"#bd3786\"], [0.5555555555555556, \"#d8576b\"], [0.6666666666666666, \"#ed7953\"], [0.7777777777777778, \"#fb9f3a\"], [0.8888888888888888, \"#fdca26\"], [1.0, \"#f0f921\"]], \"sequentialminus\": [[0.0, \"#0d0887\"], [0.1111111111111111, \"#46039f\"], [0.2222222222222222, \"#7201a8\"], [0.3333333333333333, \"#9c179e\"], [0.4444444444444444, \"#bd3786\"], [0.5555555555555556, \"#d8576b\"], [0.6666666666666666, \"#ed7953\"], [0.7777777777777778, \"#fb9f3a\"], [0.8888888888888888, \"#fdca26\"], [1.0, \"#f0f921\"]]}, \"colorway\": [\"#636efa\", \"#EF553B\", \"#00cc96\", \"#ab63fa\", \"#FFA15A\", \"#19d3f3\", \"#FF6692\", \"#B6E880\", \"#FF97FF\", \"#FECB52\"], \"font\": {\"color\": \"#2a3f5f\"}, \"geo\": {\"bgcolor\": \"white\", \"lakecolor\": \"white\", \"landcolor\": \"#E5ECF6\", \"showlakes\": true, \"showland\": true, \"subunitcolor\": \"white\"}, \"hoverlabel\": {\"align\": \"left\"}, \"hovermode\": \"closest\", \"mapbox\": {\"style\": \"light\"}, \"paper_bgcolor\": \"white\", \"plot_bgcolor\": \"#E5ECF6\", \"polar\": {\"angularaxis\": {\"gridcolor\": \"white\", \"linecolor\": \"white\", \"ticks\": \"\"}, \"bgcolor\": \"#E5ECF6\", \"radialaxis\": {\"gridcolor\": \"white\", \"linecolor\": \"white\", \"ticks\": \"\"}}, \"scene\": {\"xaxis\": {\"backgroundcolor\": \"#E5ECF6\", \"gridcolor\": \"white\", \"gridwidth\": 2, \"linecolor\": \"white\", \"showbackground\": true, \"ticks\": \"\", \"zerolinecolor\": \"white\"}, \"yaxis\": {\"backgroundcolor\": \"#E5ECF6\", \"gridcolor\": \"white\", \"gridwidth\": 2, \"linecolor\": \"white\", \"showbackground\": true, \"ticks\": \"\", \"zerolinecolor\": \"white\"}, \"zaxis\": {\"backgroundcolor\": \"#E5ECF6\", \"gridcolor\": \"white\", \"gridwidth\": 2, \"linecolor\": \"white\", \"showbackground\": true, \"ticks\": \"\", \"zerolinecolor\": \"white\"}}, \"shapedefaults\": {\"line\": {\"color\": \"#2a3f5f\"}}, \"ternary\": {\"aaxis\": {\"gridcolor\": \"white\", \"linecolor\": \"white\", \"ticks\": \"\"}, \"baxis\": {\"gridcolor\": \"white\", \"linecolor\": \"white\", \"ticks\": \"\"}, \"bgcolor\": \"#E5ECF6\", \"caxis\": {\"gridcolor\": \"white\", \"linecolor\": \"white\", \"ticks\": \"\"}}, \"title\": {\"x\": 0.05}, \"xaxis\": {\"automargin\": true, \"gridcolor\": \"white\", \"linecolor\": \"white\", \"ticks\": \"\", \"title\": {\"standoff\": 15}, \"zerolinecolor\": \"white\", \"zerolinewidth\": 2}, \"yaxis\": {\"automargin\": true, \"gridcolor\": \"white\", \"linecolor\": \"white\", \"ticks\": \"\", \"title\": {\"standoff\": 15}, \"zerolinecolor\": \"white\", \"zerolinewidth\": 2}}}, \"title\": {\"text\": \"Language vs Salary\"}, \"xaxis\": {\"anchor\": \"y\", \"domain\": [0.0, 1.0], \"title\": {\"text\": \"Salary\"}}, \"yaxis\": {\"anchor\": \"x\", \"domain\": [0.0, 1.0], \"title\": {\"text\": \"LanguageWorkedWith\"}}},                        {\"responsive\": true}                    ).then(function(){\n",
       "                            \n",
       "var gd = document.getElementById('5f402f18-4e20-4eb1-994e-33b166387253');\n",
       "var x = new MutationObserver(function (mutations, observer) {{\n",
       "        var display = window.getComputedStyle(gd).display;\n",
       "        if (!display || display === 'none') {{\n",
       "            console.log([gd, 'removed!']);\n",
       "            Plotly.purge(gd);\n",
       "            observer.disconnect();\n",
       "        }}\n",
       "}});\n",
       "\n",
       "// Listen for the removal of the full notebook cells\n",
       "var notebookContainer = gd.closest('#notebook-container');\n",
       "if (notebookContainer) {{\n",
       "    x.observe(notebookContainer, {childList: true});\n",
       "}}\n",
       "\n",
       "// Listen for the clearing of the current output cell\n",
       "var outputEl = gd.closest('.output');\n",
       "if (outputEl) {{\n",
       "    x.observe(outputEl, {childList: true});\n",
       "}}\n",
       "\n",
       "                        })                };                });            </script>        </div>"
      ]
     },
     "metadata": {},
     "output_type": "display_data"
    }
   ],
   "source": [
    "lang_sal_df = df[(df[\"MainBranch\"] == \"I am a developer by profession\")][[\"LanguageWorkedWith\", \"ConvertedComp\"]]\n",
    "lang_sal_df[\"LanguageWorkedWith\"] = lang_sal_df[\"LanguageWorkedWith\"].str.split(\";\")\n",
    "lang_sal_df = lang_sal_df.explode(\"LanguageWorkedWith\")\n",
    "lang_sal_df = lang_sal_df.dropna(how=\"any\", axis=0)\n",
    "lang_sal_df = lang_sal_df.groupby([\"LanguageWorkedWith\"]).median()[\"ConvertedComp\"].sort_values()\n",
    "lang_sal_df = pd.DataFrame({\"LanguageWorkedWith\": lang_sal_df.index,  \"Salary\": lang_sal_df.values})\n",
    "lang_sal_df[\"Label\"] = lang_sal_df.apply(lambda row: \"$\" + human_format(round(row[\"Salary\"], 0)), axis=1)\n",
    "\n",
    "fig = px.bar(lang_sal_df, height=800, x=\"Salary\", y=\"LanguageWorkedWith\", orientation='h', title=\"Language vs Salary\", text=\"Label\")\n",
    "fig.show()"
   ]
  },
  {
   "cell_type": "markdown",
   "metadata": {},
   "source": [
    "### 3. What is the correlation between salary and developer type?"
   ]
  },
  {
   "cell_type": "markdown",
   "metadata": {},
   "source": [
    "We filter developer professional to get the more accurate data"
   ]
  },
  {
   "cell_type": "code",
   "execution_count": 230,
   "metadata": {},
   "outputs": [],
   "source": [
    "def human_format(num):\n",
    "    num = float('{:.3g}'.format(num))\n",
    "    magnitude = 0\n",
    "    while abs(num) >= 1000:\n",
    "        magnitude += 1\n",
    "        num /= 1000.0\n",
    "    return '{}{}'.format('{:f}'.format(num).rstrip('0').rstrip('.'), ['', 'K', 'M', 'B', 'T'][magnitude])"
   ]
  },
  {
   "cell_type": "code",
   "execution_count": 231,
   "metadata": {},
   "outputs": [
    {
     "data": {
      "application/vnd.plotly.v1+json": {
       "config": {
        "plotlyServerURL": "https://plot.ly"
       },
       "data": [
        {
         "alignmentgroup": "True",
         "hovertemplate": "Salary=%{x}<br>DevType=%{y}<br>label=%{text}<extra></extra>",
         "legendgroup": "",
         "marker": {
          "color": "#636efa"
         },
         "name": "",
         "offsetgroup": "",
         "orientation": "h",
         "showlegend": false,
         "text": [
          "$37.8K",
          "$43.2K",
          "$46.8K",
          "$48.6K",
          "$49.3K",
          "$50K",
          "$51K",
          "$51.9K",
          "$53.2K",
          "$54.1K",
          "$54.1K",
          "$54.5K",
          "$55.4K",
          "$56K",
          "$56.2K",
          "$56.7K",
          "$57.3K",
          "$58.4K",
          "$64.9K",
          "$68.1K",
          "$80K",
          "$86.5K",
          "$91.2K"
         ],
         "textposition": "auto",
         "type": "bar",
         "x": [
          37834,
          43239,
          46767,
          48644,
          49296,
          50000,
          50952,
          51888,
          53184,
          54063,
          54122,
          54480,
          55403,
          55995,
          56209.5,
          56723,
          57292,
          58368,
          64860,
          68068,
          80000,
          86478,
          91164
         ],
         "xaxis": "x",
         "y": [
          "Academic researcher",
          "Developer, mobile",
          "Designer",
          "Developer, front-end",
          "Educator",
          "Developer, game or graphics",
          "Database administrator",
          "Marketing or sales professional",
          "Developer, back-end",
          "Developer, QA or test",
          "System administrator",
          "Developer, full-stack",
          "Data or business analyst",
          "Developer, desktop or enterprise applications",
          "Product manager",
          "Developer, embedded applications or devices",
          "Data scientist or machine learning specialist",
          "Scientist",
          "Engineer, data",
          "DevOps specialist",
          "Engineer, site reliability",
          "Senior executive/VP",
          "Engineering manager"
         ],
         "yaxis": "y"
        }
       ],
       "layout": {
        "barmode": "relative",
        "height": 800,
        "legend": {
         "tracegroupgap": 0
        },
        "template": {
         "data": {
          "bar": [
           {
            "error_x": {
             "color": "#2a3f5f"
            },
            "error_y": {
             "color": "#2a3f5f"
            },
            "marker": {
             "line": {
              "color": "#E5ECF6",
              "width": 0.5
             }
            },
            "type": "bar"
           }
          ],
          "barpolar": [
           {
            "marker": {
             "line": {
              "color": "#E5ECF6",
              "width": 0.5
             }
            },
            "type": "barpolar"
           }
          ],
          "carpet": [
           {
            "aaxis": {
             "endlinecolor": "#2a3f5f",
             "gridcolor": "white",
             "linecolor": "white",
             "minorgridcolor": "white",
             "startlinecolor": "#2a3f5f"
            },
            "baxis": {
             "endlinecolor": "#2a3f5f",
             "gridcolor": "white",
             "linecolor": "white",
             "minorgridcolor": "white",
             "startlinecolor": "#2a3f5f"
            },
            "type": "carpet"
           }
          ],
          "choropleth": [
           {
            "colorbar": {
             "outlinewidth": 0,
             "ticks": ""
            },
            "type": "choropleth"
           }
          ],
          "contour": [
           {
            "colorbar": {
             "outlinewidth": 0,
             "ticks": ""
            },
            "colorscale": [
             [
              0,
              "#0d0887"
             ],
             [
              0.1111111111111111,
              "#46039f"
             ],
             [
              0.2222222222222222,
              "#7201a8"
             ],
             [
              0.3333333333333333,
              "#9c179e"
             ],
             [
              0.4444444444444444,
              "#bd3786"
             ],
             [
              0.5555555555555556,
              "#d8576b"
             ],
             [
              0.6666666666666666,
              "#ed7953"
             ],
             [
              0.7777777777777778,
              "#fb9f3a"
             ],
             [
              0.8888888888888888,
              "#fdca26"
             ],
             [
              1,
              "#f0f921"
             ]
            ],
            "type": "contour"
           }
          ],
          "contourcarpet": [
           {
            "colorbar": {
             "outlinewidth": 0,
             "ticks": ""
            },
            "type": "contourcarpet"
           }
          ],
          "heatmap": [
           {
            "colorbar": {
             "outlinewidth": 0,
             "ticks": ""
            },
            "colorscale": [
             [
              0,
              "#0d0887"
             ],
             [
              0.1111111111111111,
              "#46039f"
             ],
             [
              0.2222222222222222,
              "#7201a8"
             ],
             [
              0.3333333333333333,
              "#9c179e"
             ],
             [
              0.4444444444444444,
              "#bd3786"
             ],
             [
              0.5555555555555556,
              "#d8576b"
             ],
             [
              0.6666666666666666,
              "#ed7953"
             ],
             [
              0.7777777777777778,
              "#fb9f3a"
             ],
             [
              0.8888888888888888,
              "#fdca26"
             ],
             [
              1,
              "#f0f921"
             ]
            ],
            "type": "heatmap"
           }
          ],
          "heatmapgl": [
           {
            "colorbar": {
             "outlinewidth": 0,
             "ticks": ""
            },
            "colorscale": [
             [
              0,
              "#0d0887"
             ],
             [
              0.1111111111111111,
              "#46039f"
             ],
             [
              0.2222222222222222,
              "#7201a8"
             ],
             [
              0.3333333333333333,
              "#9c179e"
             ],
             [
              0.4444444444444444,
              "#bd3786"
             ],
             [
              0.5555555555555556,
              "#d8576b"
             ],
             [
              0.6666666666666666,
              "#ed7953"
             ],
             [
              0.7777777777777778,
              "#fb9f3a"
             ],
             [
              0.8888888888888888,
              "#fdca26"
             ],
             [
              1,
              "#f0f921"
             ]
            ],
            "type": "heatmapgl"
           }
          ],
          "histogram": [
           {
            "marker": {
             "colorbar": {
              "outlinewidth": 0,
              "ticks": ""
             }
            },
            "type": "histogram"
           }
          ],
          "histogram2d": [
           {
            "colorbar": {
             "outlinewidth": 0,
             "ticks": ""
            },
            "colorscale": [
             [
              0,
              "#0d0887"
             ],
             [
              0.1111111111111111,
              "#46039f"
             ],
             [
              0.2222222222222222,
              "#7201a8"
             ],
             [
              0.3333333333333333,
              "#9c179e"
             ],
             [
              0.4444444444444444,
              "#bd3786"
             ],
             [
              0.5555555555555556,
              "#d8576b"
             ],
             [
              0.6666666666666666,
              "#ed7953"
             ],
             [
              0.7777777777777778,
              "#fb9f3a"
             ],
             [
              0.8888888888888888,
              "#fdca26"
             ],
             [
              1,
              "#f0f921"
             ]
            ],
            "type": "histogram2d"
           }
          ],
          "histogram2dcontour": [
           {
            "colorbar": {
             "outlinewidth": 0,
             "ticks": ""
            },
            "colorscale": [
             [
              0,
              "#0d0887"
             ],
             [
              0.1111111111111111,
              "#46039f"
             ],
             [
              0.2222222222222222,
              "#7201a8"
             ],
             [
              0.3333333333333333,
              "#9c179e"
             ],
             [
              0.4444444444444444,
              "#bd3786"
             ],
             [
              0.5555555555555556,
              "#d8576b"
             ],
             [
              0.6666666666666666,
              "#ed7953"
             ],
             [
              0.7777777777777778,
              "#fb9f3a"
             ],
             [
              0.8888888888888888,
              "#fdca26"
             ],
             [
              1,
              "#f0f921"
             ]
            ],
            "type": "histogram2dcontour"
           }
          ],
          "mesh3d": [
           {
            "colorbar": {
             "outlinewidth": 0,
             "ticks": ""
            },
            "type": "mesh3d"
           }
          ],
          "parcoords": [
           {
            "line": {
             "colorbar": {
              "outlinewidth": 0,
              "ticks": ""
             }
            },
            "type": "parcoords"
           }
          ],
          "pie": [
           {
            "automargin": true,
            "type": "pie"
           }
          ],
          "scatter": [
           {
            "marker": {
             "colorbar": {
              "outlinewidth": 0,
              "ticks": ""
             }
            },
            "type": "scatter"
           }
          ],
          "scatter3d": [
           {
            "line": {
             "colorbar": {
              "outlinewidth": 0,
              "ticks": ""
             }
            },
            "marker": {
             "colorbar": {
              "outlinewidth": 0,
              "ticks": ""
             }
            },
            "type": "scatter3d"
           }
          ],
          "scattercarpet": [
           {
            "marker": {
             "colorbar": {
              "outlinewidth": 0,
              "ticks": ""
             }
            },
            "type": "scattercarpet"
           }
          ],
          "scattergeo": [
           {
            "marker": {
             "colorbar": {
              "outlinewidth": 0,
              "ticks": ""
             }
            },
            "type": "scattergeo"
           }
          ],
          "scattergl": [
           {
            "marker": {
             "colorbar": {
              "outlinewidth": 0,
              "ticks": ""
             }
            },
            "type": "scattergl"
           }
          ],
          "scattermapbox": [
           {
            "marker": {
             "colorbar": {
              "outlinewidth": 0,
              "ticks": ""
             }
            },
            "type": "scattermapbox"
           }
          ],
          "scatterpolar": [
           {
            "marker": {
             "colorbar": {
              "outlinewidth": 0,
              "ticks": ""
             }
            },
            "type": "scatterpolar"
           }
          ],
          "scatterpolargl": [
           {
            "marker": {
             "colorbar": {
              "outlinewidth": 0,
              "ticks": ""
             }
            },
            "type": "scatterpolargl"
           }
          ],
          "scatterternary": [
           {
            "marker": {
             "colorbar": {
              "outlinewidth": 0,
              "ticks": ""
             }
            },
            "type": "scatterternary"
           }
          ],
          "surface": [
           {
            "colorbar": {
             "outlinewidth": 0,
             "ticks": ""
            },
            "colorscale": [
             [
              0,
              "#0d0887"
             ],
             [
              0.1111111111111111,
              "#46039f"
             ],
             [
              0.2222222222222222,
              "#7201a8"
             ],
             [
              0.3333333333333333,
              "#9c179e"
             ],
             [
              0.4444444444444444,
              "#bd3786"
             ],
             [
              0.5555555555555556,
              "#d8576b"
             ],
             [
              0.6666666666666666,
              "#ed7953"
             ],
             [
              0.7777777777777778,
              "#fb9f3a"
             ],
             [
              0.8888888888888888,
              "#fdca26"
             ],
             [
              1,
              "#f0f921"
             ]
            ],
            "type": "surface"
           }
          ],
          "table": [
           {
            "cells": {
             "fill": {
              "color": "#EBF0F8"
             },
             "line": {
              "color": "white"
             }
            },
            "header": {
             "fill": {
              "color": "#C8D4E3"
             },
             "line": {
              "color": "white"
             }
            },
            "type": "table"
           }
          ]
         },
         "layout": {
          "annotationdefaults": {
           "arrowcolor": "#2a3f5f",
           "arrowhead": 0,
           "arrowwidth": 1
          },
          "autotypenumbers": "strict",
          "coloraxis": {
           "colorbar": {
            "outlinewidth": 0,
            "ticks": ""
           }
          },
          "colorscale": {
           "diverging": [
            [
             0,
             "#8e0152"
            ],
            [
             0.1,
             "#c51b7d"
            ],
            [
             0.2,
             "#de77ae"
            ],
            [
             0.3,
             "#f1b6da"
            ],
            [
             0.4,
             "#fde0ef"
            ],
            [
             0.5,
             "#f7f7f7"
            ],
            [
             0.6,
             "#e6f5d0"
            ],
            [
             0.7,
             "#b8e186"
            ],
            [
             0.8,
             "#7fbc41"
            ],
            [
             0.9,
             "#4d9221"
            ],
            [
             1,
             "#276419"
            ]
           ],
           "sequential": [
            [
             0,
             "#0d0887"
            ],
            [
             0.1111111111111111,
             "#46039f"
            ],
            [
             0.2222222222222222,
             "#7201a8"
            ],
            [
             0.3333333333333333,
             "#9c179e"
            ],
            [
             0.4444444444444444,
             "#bd3786"
            ],
            [
             0.5555555555555556,
             "#d8576b"
            ],
            [
             0.6666666666666666,
             "#ed7953"
            ],
            [
             0.7777777777777778,
             "#fb9f3a"
            ],
            [
             0.8888888888888888,
             "#fdca26"
            ],
            [
             1,
             "#f0f921"
            ]
           ],
           "sequentialminus": [
            [
             0,
             "#0d0887"
            ],
            [
             0.1111111111111111,
             "#46039f"
            ],
            [
             0.2222222222222222,
             "#7201a8"
            ],
            [
             0.3333333333333333,
             "#9c179e"
            ],
            [
             0.4444444444444444,
             "#bd3786"
            ],
            [
             0.5555555555555556,
             "#d8576b"
            ],
            [
             0.6666666666666666,
             "#ed7953"
            ],
            [
             0.7777777777777778,
             "#fb9f3a"
            ],
            [
             0.8888888888888888,
             "#fdca26"
            ],
            [
             1,
             "#f0f921"
            ]
           ]
          },
          "colorway": [
           "#636efa",
           "#EF553B",
           "#00cc96",
           "#ab63fa",
           "#FFA15A",
           "#19d3f3",
           "#FF6692",
           "#B6E880",
           "#FF97FF",
           "#FECB52"
          ],
          "font": {
           "color": "#2a3f5f"
          },
          "geo": {
           "bgcolor": "white",
           "lakecolor": "white",
           "landcolor": "#E5ECF6",
           "showlakes": true,
           "showland": true,
           "subunitcolor": "white"
          },
          "hoverlabel": {
           "align": "left"
          },
          "hovermode": "closest",
          "mapbox": {
           "style": "light"
          },
          "paper_bgcolor": "white",
          "plot_bgcolor": "#E5ECF6",
          "polar": {
           "angularaxis": {
            "gridcolor": "white",
            "linecolor": "white",
            "ticks": ""
           },
           "bgcolor": "#E5ECF6",
           "radialaxis": {
            "gridcolor": "white",
            "linecolor": "white",
            "ticks": ""
           }
          },
          "scene": {
           "xaxis": {
            "backgroundcolor": "#E5ECF6",
            "gridcolor": "white",
            "gridwidth": 2,
            "linecolor": "white",
            "showbackground": true,
            "ticks": "",
            "zerolinecolor": "white"
           },
           "yaxis": {
            "backgroundcolor": "#E5ECF6",
            "gridcolor": "white",
            "gridwidth": 2,
            "linecolor": "white",
            "showbackground": true,
            "ticks": "",
            "zerolinecolor": "white"
           },
           "zaxis": {
            "backgroundcolor": "#E5ECF6",
            "gridcolor": "white",
            "gridwidth": 2,
            "linecolor": "white",
            "showbackground": true,
            "ticks": "",
            "zerolinecolor": "white"
           }
          },
          "shapedefaults": {
           "line": {
            "color": "#2a3f5f"
           }
          },
          "ternary": {
           "aaxis": {
            "gridcolor": "white",
            "linecolor": "white",
            "ticks": ""
           },
           "baxis": {
            "gridcolor": "white",
            "linecolor": "white",
            "ticks": ""
           },
           "bgcolor": "#E5ECF6",
           "caxis": {
            "gridcolor": "white",
            "linecolor": "white",
            "ticks": ""
           }
          },
          "title": {
           "x": 0.05
          },
          "xaxis": {
           "automargin": true,
           "gridcolor": "white",
           "linecolor": "white",
           "ticks": "",
           "title": {
            "standoff": 15
           },
           "zerolinecolor": "white",
           "zerolinewidth": 2
          },
          "yaxis": {
           "automargin": true,
           "gridcolor": "white",
           "linecolor": "white",
           "ticks": "",
           "title": {
            "standoff": 15
           },
           "zerolinecolor": "white",
           "zerolinewidth": 2
          }
         }
        },
        "title": {
         "text": "Job priorities"
        },
        "xaxis": {
         "anchor": "y",
         "domain": [
          0,
          1
         ],
         "title": {
          "text": "Salary"
         }
        },
        "yaxis": {
         "anchor": "x",
         "domain": [
          0,
          1
         ],
         "title": {
          "text": "DevType"
         }
        }
       }
      },
      "text/html": [
       "<div>                            <div id=\"da344654-4d86-4e08-82a8-b796aadf345e\" class=\"plotly-graph-div\" style=\"height:800px; width:100%;\"></div>            <script type=\"text/javascript\">                require([\"plotly\"], function(Plotly) {                    window.PLOTLYENV=window.PLOTLYENV || {};                                    if (document.getElementById(\"da344654-4d86-4e08-82a8-b796aadf345e\")) {                    Plotly.newPlot(                        \"da344654-4d86-4e08-82a8-b796aadf345e\",                        [{\"alignmentgroup\": \"True\", \"hovertemplate\": \"Salary=%{x}<br>DevType=%{y}<br>label=%{text}<extra></extra>\", \"legendgroup\": \"\", \"marker\": {\"color\": \"#636efa\"}, \"name\": \"\", \"offsetgroup\": \"\", \"orientation\": \"h\", \"showlegend\": false, \"text\": [\"$37.8K\", \"$43.2K\", \"$46.8K\", \"$48.6K\", \"$49.3K\", \"$50K\", \"$51K\", \"$51.9K\", \"$53.2K\", \"$54.1K\", \"$54.1K\", \"$54.5K\", \"$55.4K\", \"$56K\", \"$56.2K\", \"$56.7K\", \"$57.3K\", \"$58.4K\", \"$64.9K\", \"$68.1K\", \"$80K\", \"$86.5K\", \"$91.2K\"], \"textposition\": \"auto\", \"type\": \"bar\", \"x\": [37834.0, 43239.0, 46767.0, 48644.0, 49296.0, 50000.0, 50952.0, 51888.0, 53184.0, 54063.0, 54122.0, 54480.0, 55403.0, 55995.0, 56209.5, 56723.0, 57292.0, 58368.0, 64860.0, 68068.0, 80000.0, 86478.0, 91164.0], \"xaxis\": \"x\", \"y\": [\"Academic researcher\", \"Developer, mobile\", \"Designer\", \"Developer, front-end\", \"Educator\", \"Developer, game or graphics\", \"Database administrator\", \"Marketing or sales professional\", \"Developer, back-end\", \"Developer, QA or test\", \"System administrator\", \"Developer, full-stack\", \"Data or business analyst\", \"Developer, desktop or enterprise applications\", \"Product manager\", \"Developer, embedded applications or devices\", \"Data scientist or machine learning specialist\", \"Scientist\", \"Engineer, data\", \"DevOps specialist\", \"Engineer, site reliability\", \"Senior executive/VP\", \"Engineering manager\"], \"yaxis\": \"y\"}],                        {\"barmode\": \"relative\", \"height\": 800, \"legend\": {\"tracegroupgap\": 0}, \"template\": {\"data\": {\"bar\": [{\"error_x\": {\"color\": \"#2a3f5f\"}, \"error_y\": {\"color\": \"#2a3f5f\"}, \"marker\": {\"line\": {\"color\": \"#E5ECF6\", \"width\": 0.5}}, \"type\": \"bar\"}], \"barpolar\": [{\"marker\": {\"line\": {\"color\": \"#E5ECF6\", \"width\": 0.5}}, \"type\": \"barpolar\"}], \"carpet\": [{\"aaxis\": {\"endlinecolor\": \"#2a3f5f\", \"gridcolor\": \"white\", \"linecolor\": \"white\", \"minorgridcolor\": \"white\", \"startlinecolor\": \"#2a3f5f\"}, \"baxis\": {\"endlinecolor\": \"#2a3f5f\", \"gridcolor\": \"white\", \"linecolor\": \"white\", \"minorgridcolor\": \"white\", \"startlinecolor\": \"#2a3f5f\"}, \"type\": \"carpet\"}], \"choropleth\": [{\"colorbar\": {\"outlinewidth\": 0, \"ticks\": \"\"}, \"type\": \"choropleth\"}], \"contour\": [{\"colorbar\": {\"outlinewidth\": 0, \"ticks\": \"\"}, \"colorscale\": [[0.0, \"#0d0887\"], [0.1111111111111111, \"#46039f\"], [0.2222222222222222, \"#7201a8\"], [0.3333333333333333, \"#9c179e\"], [0.4444444444444444, \"#bd3786\"], [0.5555555555555556, \"#d8576b\"], [0.6666666666666666, \"#ed7953\"], [0.7777777777777778, \"#fb9f3a\"], [0.8888888888888888, \"#fdca26\"], [1.0, \"#f0f921\"]], \"type\": \"contour\"}], \"contourcarpet\": [{\"colorbar\": {\"outlinewidth\": 0, \"ticks\": \"\"}, \"type\": \"contourcarpet\"}], \"heatmap\": [{\"colorbar\": {\"outlinewidth\": 0, \"ticks\": \"\"}, \"colorscale\": [[0.0, \"#0d0887\"], [0.1111111111111111, \"#46039f\"], [0.2222222222222222, \"#7201a8\"], [0.3333333333333333, \"#9c179e\"], [0.4444444444444444, \"#bd3786\"], [0.5555555555555556, \"#d8576b\"], [0.6666666666666666, \"#ed7953\"], [0.7777777777777778, \"#fb9f3a\"], [0.8888888888888888, \"#fdca26\"], [1.0, \"#f0f921\"]], \"type\": \"heatmap\"}], \"heatmapgl\": [{\"colorbar\": {\"outlinewidth\": 0, \"ticks\": \"\"}, \"colorscale\": [[0.0, \"#0d0887\"], [0.1111111111111111, \"#46039f\"], [0.2222222222222222, \"#7201a8\"], [0.3333333333333333, \"#9c179e\"], [0.4444444444444444, \"#bd3786\"], [0.5555555555555556, \"#d8576b\"], [0.6666666666666666, \"#ed7953\"], [0.7777777777777778, \"#fb9f3a\"], [0.8888888888888888, \"#fdca26\"], [1.0, \"#f0f921\"]], \"type\": \"heatmapgl\"}], \"histogram\": [{\"marker\": {\"colorbar\": {\"outlinewidth\": 0, \"ticks\": \"\"}}, \"type\": \"histogram\"}], \"histogram2d\": [{\"colorbar\": {\"outlinewidth\": 0, \"ticks\": \"\"}, \"colorscale\": [[0.0, \"#0d0887\"], [0.1111111111111111, \"#46039f\"], [0.2222222222222222, \"#7201a8\"], [0.3333333333333333, \"#9c179e\"], [0.4444444444444444, \"#bd3786\"], [0.5555555555555556, \"#d8576b\"], [0.6666666666666666, \"#ed7953\"], [0.7777777777777778, \"#fb9f3a\"], [0.8888888888888888, \"#fdca26\"], [1.0, \"#f0f921\"]], \"type\": \"histogram2d\"}], \"histogram2dcontour\": [{\"colorbar\": {\"outlinewidth\": 0, \"ticks\": \"\"}, \"colorscale\": [[0.0, \"#0d0887\"], [0.1111111111111111, \"#46039f\"], [0.2222222222222222, \"#7201a8\"], [0.3333333333333333, \"#9c179e\"], [0.4444444444444444, \"#bd3786\"], [0.5555555555555556, \"#d8576b\"], [0.6666666666666666, \"#ed7953\"], [0.7777777777777778, \"#fb9f3a\"], [0.8888888888888888, \"#fdca26\"], [1.0, \"#f0f921\"]], \"type\": \"histogram2dcontour\"}], \"mesh3d\": [{\"colorbar\": {\"outlinewidth\": 0, \"ticks\": \"\"}, \"type\": \"mesh3d\"}], \"parcoords\": [{\"line\": {\"colorbar\": {\"outlinewidth\": 0, \"ticks\": \"\"}}, \"type\": \"parcoords\"}], \"pie\": [{\"automargin\": true, \"type\": \"pie\"}], \"scatter\": [{\"marker\": {\"colorbar\": {\"outlinewidth\": 0, \"ticks\": \"\"}}, \"type\": \"scatter\"}], \"scatter3d\": [{\"line\": {\"colorbar\": {\"outlinewidth\": 0, \"ticks\": \"\"}}, \"marker\": {\"colorbar\": {\"outlinewidth\": 0, \"ticks\": \"\"}}, \"type\": \"scatter3d\"}], \"scattercarpet\": [{\"marker\": {\"colorbar\": {\"outlinewidth\": 0, \"ticks\": \"\"}}, \"type\": \"scattercarpet\"}], \"scattergeo\": [{\"marker\": {\"colorbar\": {\"outlinewidth\": 0, \"ticks\": \"\"}}, \"type\": \"scattergeo\"}], \"scattergl\": [{\"marker\": {\"colorbar\": {\"outlinewidth\": 0, \"ticks\": \"\"}}, \"type\": \"scattergl\"}], \"scattermapbox\": [{\"marker\": {\"colorbar\": {\"outlinewidth\": 0, \"ticks\": \"\"}}, \"type\": \"scattermapbox\"}], \"scatterpolar\": [{\"marker\": {\"colorbar\": {\"outlinewidth\": 0, \"ticks\": \"\"}}, \"type\": \"scatterpolar\"}], \"scatterpolargl\": [{\"marker\": {\"colorbar\": {\"outlinewidth\": 0, \"ticks\": \"\"}}, \"type\": \"scatterpolargl\"}], \"scatterternary\": [{\"marker\": {\"colorbar\": {\"outlinewidth\": 0, \"ticks\": \"\"}}, \"type\": \"scatterternary\"}], \"surface\": [{\"colorbar\": {\"outlinewidth\": 0, \"ticks\": \"\"}, \"colorscale\": [[0.0, \"#0d0887\"], [0.1111111111111111, \"#46039f\"], [0.2222222222222222, \"#7201a8\"], [0.3333333333333333, \"#9c179e\"], [0.4444444444444444, \"#bd3786\"], [0.5555555555555556, \"#d8576b\"], [0.6666666666666666, \"#ed7953\"], [0.7777777777777778, \"#fb9f3a\"], [0.8888888888888888, \"#fdca26\"], [1.0, \"#f0f921\"]], \"type\": \"surface\"}], \"table\": [{\"cells\": {\"fill\": {\"color\": \"#EBF0F8\"}, \"line\": {\"color\": \"white\"}}, \"header\": {\"fill\": {\"color\": \"#C8D4E3\"}, \"line\": {\"color\": \"white\"}}, \"type\": \"table\"}]}, \"layout\": {\"annotationdefaults\": {\"arrowcolor\": \"#2a3f5f\", \"arrowhead\": 0, \"arrowwidth\": 1}, \"autotypenumbers\": \"strict\", \"coloraxis\": {\"colorbar\": {\"outlinewidth\": 0, \"ticks\": \"\"}}, \"colorscale\": {\"diverging\": [[0, \"#8e0152\"], [0.1, \"#c51b7d\"], [0.2, \"#de77ae\"], [0.3, \"#f1b6da\"], [0.4, \"#fde0ef\"], [0.5, \"#f7f7f7\"], [0.6, \"#e6f5d0\"], [0.7, \"#b8e186\"], [0.8, \"#7fbc41\"], [0.9, \"#4d9221\"], [1, \"#276419\"]], \"sequential\": [[0.0, \"#0d0887\"], [0.1111111111111111, \"#46039f\"], [0.2222222222222222, \"#7201a8\"], [0.3333333333333333, \"#9c179e\"], [0.4444444444444444, \"#bd3786\"], [0.5555555555555556, \"#d8576b\"], [0.6666666666666666, \"#ed7953\"], [0.7777777777777778, \"#fb9f3a\"], [0.8888888888888888, \"#fdca26\"], [1.0, \"#f0f921\"]], \"sequentialminus\": [[0.0, \"#0d0887\"], [0.1111111111111111, \"#46039f\"], [0.2222222222222222, \"#7201a8\"], [0.3333333333333333, \"#9c179e\"], [0.4444444444444444, \"#bd3786\"], [0.5555555555555556, \"#d8576b\"], [0.6666666666666666, \"#ed7953\"], [0.7777777777777778, \"#fb9f3a\"], [0.8888888888888888, \"#fdca26\"], [1.0, \"#f0f921\"]]}, \"colorway\": [\"#636efa\", \"#EF553B\", \"#00cc96\", \"#ab63fa\", \"#FFA15A\", \"#19d3f3\", \"#FF6692\", \"#B6E880\", \"#FF97FF\", \"#FECB52\"], \"font\": {\"color\": \"#2a3f5f\"}, \"geo\": {\"bgcolor\": \"white\", \"lakecolor\": \"white\", \"landcolor\": \"#E5ECF6\", \"showlakes\": true, \"showland\": true, \"subunitcolor\": \"white\"}, \"hoverlabel\": {\"align\": \"left\"}, \"hovermode\": \"closest\", \"mapbox\": {\"style\": \"light\"}, \"paper_bgcolor\": \"white\", \"plot_bgcolor\": \"#E5ECF6\", \"polar\": {\"angularaxis\": {\"gridcolor\": \"white\", \"linecolor\": \"white\", \"ticks\": \"\"}, \"bgcolor\": \"#E5ECF6\", \"radialaxis\": {\"gridcolor\": \"white\", \"linecolor\": \"white\", \"ticks\": \"\"}}, \"scene\": {\"xaxis\": {\"backgroundcolor\": \"#E5ECF6\", \"gridcolor\": \"white\", \"gridwidth\": 2, \"linecolor\": \"white\", \"showbackground\": true, \"ticks\": \"\", \"zerolinecolor\": \"white\"}, \"yaxis\": {\"backgroundcolor\": \"#E5ECF6\", \"gridcolor\": \"white\", \"gridwidth\": 2, \"linecolor\": \"white\", \"showbackground\": true, \"ticks\": \"\", \"zerolinecolor\": \"white\"}, \"zaxis\": {\"backgroundcolor\": \"#E5ECF6\", \"gridcolor\": \"white\", \"gridwidth\": 2, \"linecolor\": \"white\", \"showbackground\": true, \"ticks\": \"\", \"zerolinecolor\": \"white\"}}, \"shapedefaults\": {\"line\": {\"color\": \"#2a3f5f\"}}, \"ternary\": {\"aaxis\": {\"gridcolor\": \"white\", \"linecolor\": \"white\", \"ticks\": \"\"}, \"baxis\": {\"gridcolor\": \"white\", \"linecolor\": \"white\", \"ticks\": \"\"}, \"bgcolor\": \"#E5ECF6\", \"caxis\": {\"gridcolor\": \"white\", \"linecolor\": \"white\", \"ticks\": \"\"}}, \"title\": {\"x\": 0.05}, \"xaxis\": {\"automargin\": true, \"gridcolor\": \"white\", \"linecolor\": \"white\", \"ticks\": \"\", \"title\": {\"standoff\": 15}, \"zerolinecolor\": \"white\", \"zerolinewidth\": 2}, \"yaxis\": {\"automargin\": true, \"gridcolor\": \"white\", \"linecolor\": \"white\", \"ticks\": \"\", \"title\": {\"standoff\": 15}, \"zerolinecolor\": \"white\", \"zerolinewidth\": 2}}}, \"title\": {\"text\": \"Job priorities\"}, \"xaxis\": {\"anchor\": \"y\", \"domain\": [0.0, 1.0], \"title\": {\"text\": \"Salary\"}}, \"yaxis\": {\"anchor\": \"x\", \"domain\": [0.0, 1.0], \"title\": {\"text\": \"DevType\"}}},                        {\"responsive\": true}                    ).then(function(){\n",
       "                            \n",
       "var gd = document.getElementById('da344654-4d86-4e08-82a8-b796aadf345e');\n",
       "var x = new MutationObserver(function (mutations, observer) {{\n",
       "        var display = window.getComputedStyle(gd).display;\n",
       "        if (!display || display === 'none') {{\n",
       "            console.log([gd, 'removed!']);\n",
       "            Plotly.purge(gd);\n",
       "            observer.disconnect();\n",
       "        }}\n",
       "}});\n",
       "\n",
       "// Listen for the removal of the full notebook cells\n",
       "var notebookContainer = gd.closest('#notebook-container');\n",
       "if (notebookContainer) {{\n",
       "    x.observe(notebookContainer, {childList: true});\n",
       "}}\n",
       "\n",
       "// Listen for the clearing of the current output cell\n",
       "var outputEl = gd.closest('.output');\n",
       "if (outputEl) {{\n",
       "    x.observe(outputEl, {childList: true});\n",
       "}}\n",
       "\n",
       "                        })                };                });            </script>        </div>"
      ]
     },
     "metadata": {},
     "output_type": "display_data"
    }
   ],
   "source": [
    "dev_sal_df = df[(df[\"MainBranch\"] == \"I am a developer by profession\")][[\"DevType\", \"ConvertedComp\"]]\n",
    "dev_sal_df = dev_sal_df.dropna(how=\"any\", axis=0)\n",
    "dev_sal_df[\"DevType\"] = dev_sal_df[\"DevType\"].str.split(\";\")\n",
    "dev_sal_df = dev_sal_df.explode(\"DevType\")\n",
    "dev_sal_df = dev_sal_df.groupby([\"DevType\"]).median()[\"ConvertedComp\"].sort_values()\n",
    "dev_sal_df = pd.DataFrame({\"DevType\": dev_sal_df.index,  \"Salary\": dev_sal_df.values})\n",
    "dev_sal_df[\"label\"] = dev_sal_df.apply(lambda row: \"$\" + human_format(round(row[\"Salary\"], 0)), axis=1)\n",
    "\n",
    "fig = px.bar(dev_sal_df, height=800, x=\"Salary\", y=\"DevType\", orientation='h', title=\"Job priorities\", text=\"label\")\n",
    "fig.show()"
   ]
  },
  {
   "cell_type": "markdown",
   "metadata": {},
   "source": [
    "### How is the association if salary and programming language?\n"
   ]
  },
  {
   "cell_type": "code",
   "execution_count": 338,
   "metadata": {
    "scrolled": false
   },
   "outputs": [
    {
     "data": {
      "text/html": [
       "<div>\n",
       "<style scoped>\n",
       "    .dataframe tbody tr th:only-of-type {\n",
       "        vertical-align: middle;\n",
       "    }\n",
       "\n",
       "    .dataframe tbody tr th {\n",
       "        vertical-align: top;\n",
       "    }\n",
       "\n",
       "    .dataframe thead th {\n",
       "        text-align: right;\n",
       "    }\n",
       "</style>\n",
       "<table border=\"1\" class=\"dataframe\">\n",
       "  <thead>\n",
       "    <tr style=\"text-align: right;\">\n",
       "      <th></th>\n",
       "      <th>DevType</th>\n",
       "      <th>Respondent</th>\n",
       "      <th>Avg Experience</th>\n",
       "      <th>Salary</th>\n",
       "    </tr>\n",
       "  </thead>\n",
       "  <tbody>\n",
       "    <tr>\n",
       "      <th>0</th>\n",
       "      <td>Academic researcher</td>\n",
       "      <td>1455</td>\n",
       "      <td>8.20</td>\n",
       "      <td>39093.0</td>\n",
       "    </tr>\n",
       "    <tr>\n",
       "      <th>1</th>\n",
       "      <td>Data or business analyst</td>\n",
       "      <td>1737</td>\n",
       "      <td>10.88</td>\n",
       "      <td>56211.0</td>\n",
       "    </tr>\n",
       "    <tr>\n",
       "      <th>2</th>\n",
       "      <td>Data scientist or machine learning specialist</td>\n",
       "      <td>1895</td>\n",
       "      <td>8.18</td>\n",
       "      <td>59454.0</td>\n",
       "    </tr>\n",
       "    <tr>\n",
       "      <th>3</th>\n",
       "      <td>Database administrator</td>\n",
       "      <td>3330</td>\n",
       "      <td>11.01</td>\n",
       "      <td>51888.0</td>\n",
       "    </tr>\n",
       "    <tr>\n",
       "      <th>4</th>\n",
       "      <td>Designer</td>\n",
       "      <td>2664</td>\n",
       "      <td>10.02</td>\n",
       "      <td>49020.0</td>\n",
       "    </tr>\n",
       "    <tr>\n",
       "      <th>5</th>\n",
       "      <td>DevOps specialist</td>\n",
       "      <td>3963</td>\n",
       "      <td>10.54</td>\n",
       "      <td>69581.0</td>\n",
       "    </tr>\n",
       "    <tr>\n",
       "      <th>6</th>\n",
       "      <td>Developer, QA or test</td>\n",
       "      <td>2326</td>\n",
       "      <td>9.34</td>\n",
       "      <td>55731.5</td>\n",
       "    </tr>\n",
       "    <tr>\n",
       "      <th>7</th>\n",
       "      <td>Developer, back-end</td>\n",
       "      <td>17503</td>\n",
       "      <td>9.26</td>\n",
       "      <td>54480.0</td>\n",
       "    </tr>\n",
       "    <tr>\n",
       "      <th>8</th>\n",
       "      <td>Developer, desktop or enterprise applications</td>\n",
       "      <td>7466</td>\n",
       "      <td>11.04</td>\n",
       "      <td>57129.0</td>\n",
       "    </tr>\n",
       "    <tr>\n",
       "      <th>9</th>\n",
       "      <td>Developer, embedded applications or devices</td>\n",
       "      <td>2818</td>\n",
       "      <td>11.31</td>\n",
       "      <td>58368.0</td>\n",
       "    </tr>\n",
       "    <tr>\n",
       "      <th>10</th>\n",
       "      <td>Developer, front-end</td>\n",
       "      <td>11307</td>\n",
       "      <td>8.58</td>\n",
       "      <td>50806.0</td>\n",
       "    </tr>\n",
       "    <tr>\n",
       "      <th>11</th>\n",
       "      <td>Developer, full-stack</td>\n",
       "      <td>17718</td>\n",
       "      <td>8.95</td>\n",
       "      <td>56211.0</td>\n",
       "    </tr>\n",
       "    <tr>\n",
       "      <th>12</th>\n",
       "      <td>Developer, game or graphics</td>\n",
       "      <td>1542</td>\n",
       "      <td>9.55</td>\n",
       "      <td>51704.0</td>\n",
       "    </tr>\n",
       "    <tr>\n",
       "      <th>13</th>\n",
       "      <td>Developer, mobile</td>\n",
       "      <td>5645</td>\n",
       "      <td>8.81</td>\n",
       "      <td>45241.0</td>\n",
       "    </tr>\n",
       "    <tr>\n",
       "      <th>14</th>\n",
       "      <td>Educator</td>\n",
       "      <td>1457</td>\n",
       "      <td>10.38</td>\n",
       "      <td>51384.0</td>\n",
       "    </tr>\n",
       "    <tr>\n",
       "      <th>15</th>\n",
       "      <td>Engineer, data</td>\n",
       "      <td>2076</td>\n",
       "      <td>9.11</td>\n",
       "      <td>66914.0</td>\n",
       "    </tr>\n",
       "    <tr>\n",
       "      <th>16</th>\n",
       "      <td>Engineer, site reliability</td>\n",
       "      <td>1143</td>\n",
       "      <td>10.35</td>\n",
       "      <td>81074.0</td>\n",
       "    </tr>\n",
       "    <tr>\n",
       "      <th>17</th>\n",
       "      <td>Engineering manager</td>\n",
       "      <td>1595</td>\n",
       "      <td>13.34</td>\n",
       "      <td>91164.0</td>\n",
       "    </tr>\n",
       "    <tr>\n",
       "      <th>18</th>\n",
       "      <td>Marketing or sales professional</td>\n",
       "      <td>207</td>\n",
       "      <td>10.95</td>\n",
       "      <td>52942.0</td>\n",
       "    </tr>\n",
       "    <tr>\n",
       "      <th>19</th>\n",
       "      <td>Product manager</td>\n",
       "      <td>1290</td>\n",
       "      <td>11.64</td>\n",
       "      <td>56669.5</td>\n",
       "    </tr>\n",
       "    <tr>\n",
       "      <th>20</th>\n",
       "      <td>Scientist</td>\n",
       "      <td>915</td>\n",
       "      <td>9.90</td>\n",
       "      <td>58368.0</td>\n",
       "    </tr>\n",
       "    <tr>\n",
       "      <th>21</th>\n",
       "      <td>Senior executive/VP</td>\n",
       "      <td>621</td>\n",
       "      <td>15.95</td>\n",
       "      <td>86150.0</td>\n",
       "    </tr>\n",
       "    <tr>\n",
       "      <th>22</th>\n",
       "      <td>System administrator</td>\n",
       "      <td>2753</td>\n",
       "      <td>11.08</td>\n",
       "      <td>55000.0</td>\n",
       "    </tr>\n",
       "  </tbody>\n",
       "</table>\n",
       "</div>"
      ],
      "text/plain": [
       "                                          DevType  Respondent  Avg Experience  \\\n",
       "0                             Academic researcher        1455            8.20   \n",
       "1                        Data or business analyst        1737           10.88   \n",
       "2   Data scientist or machine learning specialist        1895            8.18   \n",
       "3                          Database administrator        3330           11.01   \n",
       "4                                        Designer        2664           10.02   \n",
       "5                               DevOps specialist        3963           10.54   \n",
       "6                           Developer, QA or test        2326            9.34   \n",
       "7                             Developer, back-end       17503            9.26   \n",
       "8   Developer, desktop or enterprise applications        7466           11.04   \n",
       "9     Developer, embedded applications or devices        2818           11.31   \n",
       "10                           Developer, front-end       11307            8.58   \n",
       "11                          Developer, full-stack       17718            8.95   \n",
       "12                    Developer, game or graphics        1542            9.55   \n",
       "13                              Developer, mobile        5645            8.81   \n",
       "14                                       Educator        1457           10.38   \n",
       "15                                 Engineer, data        2076            9.11   \n",
       "16                     Engineer, site reliability        1143           10.35   \n",
       "17                            Engineering manager        1595           13.34   \n",
       "18                Marketing or sales professional         207           10.95   \n",
       "19                                Product manager        1290           11.64   \n",
       "20                                      Scientist         915            9.90   \n",
       "21                            Senior executive/VP         621           15.95   \n",
       "22                           System administrator        2753           11.08   \n",
       "\n",
       "     Salary  \n",
       "0   39093.0  \n",
       "1   56211.0  \n",
       "2   59454.0  \n",
       "3   51888.0  \n",
       "4   49020.0  \n",
       "5   69581.0  \n",
       "6   55731.5  \n",
       "7   54480.0  \n",
       "8   57129.0  \n",
       "9   58368.0  \n",
       "10  50806.0  \n",
       "11  56211.0  \n",
       "12  51704.0  \n",
       "13  45241.0  \n",
       "14  51384.0  \n",
       "15  66914.0  \n",
       "16  81074.0  \n",
       "17  91164.0  \n",
       "18  52942.0  \n",
       "19  56669.5  \n",
       "20  58368.0  \n",
       "21  86150.0  \n",
       "22  55000.0  "
      ]
     },
     "execution_count": 338,
     "metadata": {},
     "output_type": "execute_result"
    }
   ],
   "source": [
    "exp_sal_df = df[(df[\"MainBranch\"] == \"I am a developer by profession\")][[\"YearsCodePro\", \"LanguageWorkedWith\", \"DevType\", \"ConvertedComp\"]]\n",
    "exp_sal_df[\"YearsCodePro\"] = exp_sal_df.apply(lambda x: pd.to_numeric(x[\"YearsCodePro\"], errors=\"coerce\"), axis=1)\n",
    "# exp_sal_df[\"Age1stCode\"] = exp_sal_df.apply(lambda x: pd.to_numeric(x[\"Age1stCode\"], errors=\"coerce\"), axis=1)\n",
    "exp_sal_df.dropna(how=\"any\", inplace=True)\n",
    "# exp_sal_df[\"CodingExperience\"] = exp_sal_df.apply(lambda row: int(row[\"Age\"]) - int(row[\"Age1stCode\"]), axis=1)\n",
    "\n",
    "exp_sal_df[\"DevType\"] = exp_sal_df[\"DevType\"].str.split(\";\")\n",
    "exp_sal_df = exp_sal_df.explode(\"DevType\")\n",
    "\n",
    "# exp_sal_df.rename(columns={\"ConvertedComp\": \"Salary\"}, inplace=True)\n",
    "# exp_sal_df.drop([\"Age\", \"Age1stCode\"], axis=1, inplace=True)\n",
    "\n",
    "exp_sal_df = (\n",
    "                exp_sal_df.groupby([\"DevType\"])\n",
    "                .agg(\n",
    "                    {\n",
    "                        \"DevType\": \"size\", \n",
    "                        \"YearsCodePro\": \"mean\", \n",
    "                        \"ConvertedComp\": \"median\"\n",
    "                    }\n",
    "                )\n",
    "                .rename(columns={\"DevType\": \"Respondent\", \"ConvertedComp\": \"Salary\", \"YearsCodePro\": \"Avg Experience\"})\n",
    "                .reset_index()\n",
    "            )\n",
    "# exp_sal_df[\"LanguageWorkedWith\"] = lang_sal_df[\"LanguageWorkedWith\"].str.split(\";\")\n",
    "# lang_sal_df = lang_sal_df.explode(\"LanguageWorkedWith\")\n",
    "# lang_sal_df = lang_sal_df.dropna(how=\"any\", axis=0)\n",
    "exp_sal_df"
   ]
  },
  {
   "cell_type": "code",
   "execution_count": 358,
   "metadata": {},
   "outputs": [
    {
     "data": {
      "application/vnd.plotly.v1+json": {
       "config": {
        "plotlyServerURL": "https://plot.ly"
       },
       "data": [
        {
         "hovertemplate": "DevType=Academic researcher<br>Avg Experience=%{x}<br>Salary=%{y}<br>Respondent=%{marker.size}<br>Label=%{text}<extra></extra>",
         "legendgroup": "Academic researcher",
         "marker": {
          "color": "#636efa",
          "size": [
           1455
          ],
          "sizemode": "area",
          "sizeref": 44.295,
          "symbol": "circle"
         },
         "mode": "markers+text",
         "name": "Academic researcher",
         "orientation": "v",
         "showlegend": true,
         "text": [
          "Academic researcher"
         ],
         "textposition": "middle right",
         "type": "scatter",
         "x": [
          8.202061855670102
         ],
         "xaxis": "x",
         "y": [
          39093
         ],
         "yaxis": "y"
        },
        {
         "hovertemplate": "DevType=Data or business analyst<br>Avg Experience=%{x}<br>Salary=%{y}<br>Respondent=%{marker.size}<br>Label=%{text}<extra></extra>",
         "legendgroup": "Data or business analyst",
         "marker": {
          "color": "#EF553B",
          "size": [
           1737
          ],
          "sizemode": "area",
          "sizeref": 44.295,
          "symbol": "circle"
         },
         "mode": "markers+text",
         "name": "Data or business analyst",
         "orientation": "v",
         "showlegend": true,
         "text": [
          ""
         ],
         "textposition": "middle right",
         "type": "scatter",
         "x": [
          10.8762233736327
         ],
         "xaxis": "x",
         "y": [
          56211
         ],
         "yaxis": "y"
        },
        {
         "hovertemplate": "DevType=Data scientist or machine learning specialist<br>Avg Experience=%{x}<br>Salary=%{y}<br>Respondent=%{marker.size}<br>Label=%{text}<extra></extra>",
         "legendgroup": "Data scientist or machine learning specialist",
         "marker": {
          "color": "#00cc96",
          "size": [
           1895
          ],
          "sizemode": "area",
          "sizeref": 44.295,
          "symbol": "circle"
         },
         "mode": "markers+text",
         "name": "Data scientist or machine learning specialist",
         "orientation": "v",
         "showlegend": true,
         "text": [
          "Data scientist or machine learning specialist"
         ],
         "textposition": "middle right",
         "type": "scatter",
         "x": [
          8.179947229551452
         ],
         "xaxis": "x",
         "y": [
          59454
         ],
         "yaxis": "y"
        },
        {
         "hovertemplate": "DevType=Database administrator<br>Avg Experience=%{x}<br>Salary=%{y}<br>Respondent=%{marker.size}<br>Label=%{text}<extra></extra>",
         "legendgroup": "Database administrator",
         "marker": {
          "color": "#ab63fa",
          "size": [
           3330
          ],
          "sizemode": "area",
          "sizeref": 44.295,
          "symbol": "circle"
         },
         "mode": "markers+text",
         "name": "Database administrator",
         "orientation": "v",
         "showlegend": true,
         "text": [
          "Database administrator"
         ],
         "textposition": "middle right",
         "type": "scatter",
         "x": [
          11.007807807807808
         ],
         "xaxis": "x",
         "y": [
          51888
         ],
         "yaxis": "y"
        },
        {
         "hovertemplate": "DevType=Designer<br>Avg Experience=%{x}<br>Salary=%{y}<br>Respondent=%{marker.size}<br>Label=%{text}<extra></extra>",
         "legendgroup": "Designer",
         "marker": {
          "color": "#FFA15A",
          "size": [
           2664
          ],
          "sizemode": "area",
          "sizeref": 44.295,
          "symbol": "circle"
         },
         "mode": "markers+text",
         "name": "Designer",
         "orientation": "v",
         "showlegend": true,
         "text": [
          ""
         ],
         "textposition": "middle right",
         "type": "scatter",
         "x": [
          10.024774774774775
         ],
         "xaxis": "x",
         "y": [
          49020
         ],
         "yaxis": "y"
        },
        {
         "hovertemplate": "DevType=DevOps specialist<br>Avg Experience=%{x}<br>Salary=%{y}<br>Respondent=%{marker.size}<br>Label=%{text}<extra></extra>",
         "legendgroup": "DevOps specialist",
         "marker": {
          "color": "#19d3f3",
          "size": [
           3963
          ],
          "sizemode": "area",
          "sizeref": 44.295,
          "symbol": "circle"
         },
         "mode": "markers+text",
         "name": "DevOps specialist",
         "orientation": "v",
         "showlegend": true,
         "text": [
          "DevOps specialist"
         ],
         "textposition": "middle right",
         "type": "scatter",
         "x": [
          10.543275296492556
         ],
         "xaxis": "x",
         "y": [
          69581
         ],
         "yaxis": "y"
        },
        {
         "hovertemplate": "DevType=Developer, QA or test<br>Avg Experience=%{x}<br>Salary=%{y}<br>Respondent=%{marker.size}<br>Label=%{text}<extra></extra>",
         "legendgroup": "Developer, QA or test",
         "marker": {
          "color": "#FF6692",
          "size": [
           2326
          ],
          "sizemode": "area",
          "sizeref": 44.295,
          "symbol": "circle"
         },
         "mode": "markers+text",
         "name": "Developer, QA or test",
         "orientation": "v",
         "showlegend": true,
         "text": [
          ""
         ],
         "textposition": "middle right",
         "type": "scatter",
         "x": [
          9.344797936371453
         ],
         "xaxis": "x",
         "y": [
          55731.5
         ],
         "yaxis": "y"
        },
        {
         "hovertemplate": "DevType=Developer, back-end<br>Avg Experience=%{x}<br>Salary=%{y}<br>Respondent=%{marker.size}<br>Label=%{text}<extra></extra>",
         "legendgroup": "Developer, back-end",
         "marker": {
          "color": "#B6E880",
          "size": [
           17503
          ],
          "sizemode": "area",
          "sizeref": 44.295,
          "symbol": "circle"
         },
         "mode": "markers+text",
         "name": "Developer, back-end",
         "orientation": "v",
         "showlegend": true,
         "text": [
          "Developer, back-end"
         ],
         "textposition": "middle right",
         "type": "scatter",
         "x": [
          9.258927041078673
         ],
         "xaxis": "x",
         "y": [
          54480
         ],
         "yaxis": "y"
        },
        {
         "hovertemplate": "DevType=Developer, desktop or enterprise applications<br>Avg Experience=%{x}<br>Salary=%{y}<br>Respondent=%{marker.size}<br>Label=%{text}<extra></extra>",
         "legendgroup": "Developer, desktop or enterprise applications",
         "marker": {
          "color": "#FF97FF",
          "size": [
           7466
          ],
          "sizemode": "area",
          "sizeref": 44.295,
          "symbol": "circle"
         },
         "mode": "markers+text",
         "name": "Developer, desktop or enterprise applications",
         "orientation": "v",
         "showlegend": true,
         "text": [
          "Developer, desktop or enterprise applications"
         ],
         "textposition": "middle right",
         "type": "scatter",
         "x": [
          11.037369407982856
         ],
         "xaxis": "x",
         "y": [
          57129
         ],
         "yaxis": "y"
        },
        {
         "hovertemplate": "DevType=Developer, embedded applications or devices<br>Avg Experience=%{x}<br>Salary=%{y}<br>Respondent=%{marker.size}<br>Label=%{text}<extra></extra>",
         "legendgroup": "Developer, embedded applications or devices",
         "marker": {
          "color": "#FECB52",
          "size": [
           2818
          ],
          "sizemode": "area",
          "sizeref": 44.295,
          "symbol": "circle"
         },
         "mode": "markers+text",
         "name": "Developer, embedded applications or devices",
         "orientation": "v",
         "showlegend": true,
         "text": [
          ""
         ],
         "textposition": "middle right",
         "type": "scatter",
         "x": [
          11.307310149041873
         ],
         "xaxis": "x",
         "y": [
          58368
         ],
         "yaxis": "y"
        },
        {
         "hovertemplate": "DevType=Developer, front-end<br>Avg Experience=%{x}<br>Salary=%{y}<br>Respondent=%{marker.size}<br>Label=%{text}<extra></extra>",
         "legendgroup": "Developer, front-end",
         "marker": {
          "color": "#636efa",
          "size": [
           11307
          ],
          "sizemode": "area",
          "sizeref": 44.295,
          "symbol": "circle"
         },
         "mode": "markers+text",
         "name": "Developer, front-end",
         "orientation": "v",
         "showlegend": true,
         "text": [
          "Developer, front-end"
         ],
         "textposition": "middle right",
         "type": "scatter",
         "x": [
          8.582647917219422
         ],
         "xaxis": "x",
         "y": [
          50806
         ],
         "yaxis": "y"
        },
        {
         "hovertemplate": "DevType=Developer, full-stack<br>Avg Experience=%{x}<br>Salary=%{y}<br>Respondent=%{marker.size}<br>Label=%{text}<extra></extra>",
         "legendgroup": "Developer, full-stack",
         "marker": {
          "color": "#EF553B",
          "size": [
           17718
          ],
          "sizemode": "area",
          "sizeref": 44.295,
          "symbol": "circle"
         },
         "mode": "markers+text",
         "name": "Developer, full-stack",
         "orientation": "v",
         "showlegend": true,
         "text": [
          "Developer, full-stack"
         ],
         "textposition": "middle right",
         "type": "scatter",
         "x": [
          8.94717236708432
         ],
         "xaxis": "x",
         "y": [
          56211
         ],
         "yaxis": "y"
        },
        {
         "hovertemplate": "DevType=Developer, game or graphics<br>Avg Experience=%{x}<br>Salary=%{y}<br>Respondent=%{marker.size}<br>Label=%{text}<extra></extra>",
         "legendgroup": "Developer, game or graphics",
         "marker": {
          "color": "#00cc96",
          "size": [
           1542
          ],
          "sizemode": "area",
          "sizeref": 44.295,
          "symbol": "circle"
         },
         "mode": "markers+text",
         "name": "Developer, game or graphics",
         "orientation": "v",
         "showlegend": true,
         "text": [
          ""
         ],
         "textposition": "middle right",
         "type": "scatter",
         "x": [
          9.553826199740596
         ],
         "xaxis": "x",
         "y": [
          51704
         ],
         "yaxis": "y"
        },
        {
         "hovertemplate": "DevType=Developer, mobile<br>Avg Experience=%{x}<br>Salary=%{y}<br>Respondent=%{marker.size}<br>Label=%{text}<extra></extra>",
         "legendgroup": "Developer, mobile",
         "marker": {
          "color": "#ab63fa",
          "size": [
           5645
          ],
          "sizemode": "area",
          "sizeref": 44.295,
          "symbol": "circle"
         },
         "mode": "markers+text",
         "name": "Developer, mobile",
         "orientation": "v",
         "showlegend": true,
         "text": [
          "Developer, mobile"
         ],
         "textposition": "middle right",
         "type": "scatter",
         "x": [
          8.814880425155005
         ],
         "xaxis": "x",
         "y": [
          45241
         ],
         "yaxis": "y"
        },
        {
         "hovertemplate": "DevType=Educator<br>Avg Experience=%{x}<br>Salary=%{y}<br>Respondent=%{marker.size}<br>Label=%{text}<extra></extra>",
         "legendgroup": "Educator",
         "marker": {
          "color": "#FFA15A",
          "size": [
           1457
          ],
          "sizemode": "area",
          "sizeref": 44.295,
          "symbol": "circle"
         },
         "mode": "markers+text",
         "name": "Educator",
         "orientation": "v",
         "showlegend": true,
         "text": [
          ""
         ],
         "textposition": "middle right",
         "type": "scatter",
         "x": [
          10.381606039807824
         ],
         "xaxis": "x",
         "y": [
          51384
         ],
         "yaxis": "y"
        },
        {
         "hovertemplate": "DevType=Engineer, data<br>Avg Experience=%{x}<br>Salary=%{y}<br>Respondent=%{marker.size}<br>Label=%{text}<extra></extra>",
         "legendgroup": "Engineer, data",
         "marker": {
          "color": "#19d3f3",
          "size": [
           2076
          ],
          "sizemode": "area",
          "sizeref": 44.295,
          "symbol": "circle"
         },
         "mode": "markers+text",
         "name": "Engineer, data",
         "orientation": "v",
         "showlegend": true,
         "text": [
          "Engineer, data"
         ],
         "textposition": "middle right",
         "type": "scatter",
         "x": [
          9.107418111753372
         ],
         "xaxis": "x",
         "y": [
          66914
         ],
         "yaxis": "y"
        },
        {
         "hovertemplate": "DevType=Engineer, site reliability<br>Avg Experience=%{x}<br>Salary=%{y}<br>Respondent=%{marker.size}<br>Label=%{text}<extra></extra>",
         "legendgroup": "Engineer, site reliability",
         "marker": {
          "color": "#FF6692",
          "size": [
           1143
          ],
          "sizemode": "area",
          "sizeref": 44.295,
          "symbol": "circle"
         },
         "mode": "markers+text",
         "name": "Engineer, site reliability",
         "orientation": "v",
         "showlegend": true,
         "text": [
          "Engineer, site reliability"
         ],
         "textposition": "middle right",
         "type": "scatter",
         "x": [
          10.349081364829397
         ],
         "xaxis": "x",
         "y": [
          81074
         ],
         "yaxis": "y"
        },
        {
         "hovertemplate": "DevType=Engineering manager<br>Avg Experience=%{x}<br>Salary=%{y}<br>Respondent=%{marker.size}<br>Label=%{text}<extra></extra>",
         "legendgroup": "Engineering manager",
         "marker": {
          "color": "#B6E880",
          "size": [
           1595
          ],
          "sizemode": "area",
          "sizeref": 44.295,
          "symbol": "circle"
         },
         "mode": "markers+text",
         "name": "Engineering manager",
         "orientation": "v",
         "showlegend": true,
         "text": [
          "Engineering manager"
         ],
         "textposition": "middle right",
         "type": "scatter",
         "x": [
          13.34294670846395
         ],
         "xaxis": "x",
         "y": [
          91164
         ],
         "yaxis": "y"
        },
        {
         "hovertemplate": "DevType=Marketing or sales professional<br>Avg Experience=%{x}<br>Salary=%{y}<br>Respondent=%{marker.size}<br>Label=%{text}<extra></extra>",
         "legendgroup": "Marketing or sales professional",
         "marker": {
          "color": "#FF97FF",
          "size": [
           207
          ],
          "sizemode": "area",
          "sizeref": 44.295,
          "symbol": "circle"
         },
         "mode": "markers+text",
         "name": "Marketing or sales professional",
         "orientation": "v",
         "showlegend": true,
         "text": [
          ""
         ],
         "textposition": "middle right",
         "type": "scatter",
         "x": [
          10.951690821256038
         ],
         "xaxis": "x",
         "y": [
          52942
         ],
         "yaxis": "y"
        },
        {
         "hovertemplate": "DevType=Product manager<br>Avg Experience=%{x}<br>Salary=%{y}<br>Respondent=%{marker.size}<br>Label=%{text}<extra></extra>",
         "legendgroup": "Product manager",
         "marker": {
          "color": "#FECB52",
          "size": [
           1290
          ],
          "sizemode": "area",
          "sizeref": 44.295,
          "symbol": "circle"
         },
         "mode": "markers+text",
         "name": "Product manager",
         "orientation": "v",
         "showlegend": true,
         "text": [
          ""
         ],
         "textposition": "middle right",
         "type": "scatter",
         "x": [
          11.644186046511628
         ],
         "xaxis": "x",
         "y": [
          56669.5
         ],
         "yaxis": "y"
        },
        {
         "hovertemplate": "DevType=Scientist<br>Avg Experience=%{x}<br>Salary=%{y}<br>Respondent=%{marker.size}<br>Label=%{text}<extra></extra>",
         "legendgroup": "Scientist",
         "marker": {
          "color": "#636efa",
          "size": [
           915
          ],
          "sizemode": "area",
          "sizeref": 44.295,
          "symbol": "circle"
         },
         "mode": "markers+text",
         "name": "Scientist",
         "orientation": "v",
         "showlegend": true,
         "text": [
          ""
         ],
         "textposition": "middle right",
         "type": "scatter",
         "x": [
          9.904918032786885
         ],
         "xaxis": "x",
         "y": [
          58368
         ],
         "yaxis": "y"
        },
        {
         "hovertemplate": "DevType=Senior executive/VP<br>Avg Experience=%{x}<br>Salary=%{y}<br>Respondent=%{marker.size}<br>Label=%{text}<extra></extra>",
         "legendgroup": "Senior executive/VP",
         "marker": {
          "color": "#EF553B",
          "size": [
           621
          ],
          "sizemode": "area",
          "sizeref": 44.295,
          "symbol": "circle"
         },
         "mode": "markers+text",
         "name": "Senior executive/VP",
         "orientation": "v",
         "showlegend": true,
         "text": [
          "Senior executive/VP"
         ],
         "textposition": "middle right",
         "type": "scatter",
         "x": [
          15.94524959742351
         ],
         "xaxis": "x",
         "y": [
          86150
         ],
         "yaxis": "y"
        },
        {
         "hovertemplate": "DevType=System administrator<br>Avg Experience=%{x}<br>Salary=%{y}<br>Respondent=%{marker.size}<br>Label=%{text}<extra></extra>",
         "legendgroup": "System administrator",
         "marker": {
          "color": "#00cc96",
          "size": [
           2753
          ],
          "sizemode": "area",
          "sizeref": 44.295,
          "symbol": "circle"
         },
         "mode": "markers+text",
         "name": "System administrator",
         "orientation": "v",
         "showlegend": true,
         "text": [
          ""
         ],
         "textposition": "middle right",
         "type": "scatter",
         "x": [
          11.081729022884126
         ],
         "xaxis": "x",
         "y": [
          55000
         ],
         "yaxis": "y"
        }
       ],
       "layout": {
        "height": 600,
        "legend": {
         "itemsizing": "constant",
         "title": {
          "text": "DevType"
         },
         "tracegroupgap": 0
        },
        "margin": {
         "t": 60
        },
        "template": {
         "data": {
          "bar": [
           {
            "error_x": {
             "color": "#2a3f5f"
            },
            "error_y": {
             "color": "#2a3f5f"
            },
            "marker": {
             "line": {
              "color": "#E5ECF6",
              "width": 0.5
             }
            },
            "type": "bar"
           }
          ],
          "barpolar": [
           {
            "marker": {
             "line": {
              "color": "#E5ECF6",
              "width": 0.5
             }
            },
            "type": "barpolar"
           }
          ],
          "carpet": [
           {
            "aaxis": {
             "endlinecolor": "#2a3f5f",
             "gridcolor": "white",
             "linecolor": "white",
             "minorgridcolor": "white",
             "startlinecolor": "#2a3f5f"
            },
            "baxis": {
             "endlinecolor": "#2a3f5f",
             "gridcolor": "white",
             "linecolor": "white",
             "minorgridcolor": "white",
             "startlinecolor": "#2a3f5f"
            },
            "type": "carpet"
           }
          ],
          "choropleth": [
           {
            "colorbar": {
             "outlinewidth": 0,
             "ticks": ""
            },
            "type": "choropleth"
           }
          ],
          "contour": [
           {
            "colorbar": {
             "outlinewidth": 0,
             "ticks": ""
            },
            "colorscale": [
             [
              0,
              "#0d0887"
             ],
             [
              0.1111111111111111,
              "#46039f"
             ],
             [
              0.2222222222222222,
              "#7201a8"
             ],
             [
              0.3333333333333333,
              "#9c179e"
             ],
             [
              0.4444444444444444,
              "#bd3786"
             ],
             [
              0.5555555555555556,
              "#d8576b"
             ],
             [
              0.6666666666666666,
              "#ed7953"
             ],
             [
              0.7777777777777778,
              "#fb9f3a"
             ],
             [
              0.8888888888888888,
              "#fdca26"
             ],
             [
              1,
              "#f0f921"
             ]
            ],
            "type": "contour"
           }
          ],
          "contourcarpet": [
           {
            "colorbar": {
             "outlinewidth": 0,
             "ticks": ""
            },
            "type": "contourcarpet"
           }
          ],
          "heatmap": [
           {
            "colorbar": {
             "outlinewidth": 0,
             "ticks": ""
            },
            "colorscale": [
             [
              0,
              "#0d0887"
             ],
             [
              0.1111111111111111,
              "#46039f"
             ],
             [
              0.2222222222222222,
              "#7201a8"
             ],
             [
              0.3333333333333333,
              "#9c179e"
             ],
             [
              0.4444444444444444,
              "#bd3786"
             ],
             [
              0.5555555555555556,
              "#d8576b"
             ],
             [
              0.6666666666666666,
              "#ed7953"
             ],
             [
              0.7777777777777778,
              "#fb9f3a"
             ],
             [
              0.8888888888888888,
              "#fdca26"
             ],
             [
              1,
              "#f0f921"
             ]
            ],
            "type": "heatmap"
           }
          ],
          "heatmapgl": [
           {
            "colorbar": {
             "outlinewidth": 0,
             "ticks": ""
            },
            "colorscale": [
             [
              0,
              "#0d0887"
             ],
             [
              0.1111111111111111,
              "#46039f"
             ],
             [
              0.2222222222222222,
              "#7201a8"
             ],
             [
              0.3333333333333333,
              "#9c179e"
             ],
             [
              0.4444444444444444,
              "#bd3786"
             ],
             [
              0.5555555555555556,
              "#d8576b"
             ],
             [
              0.6666666666666666,
              "#ed7953"
             ],
             [
              0.7777777777777778,
              "#fb9f3a"
             ],
             [
              0.8888888888888888,
              "#fdca26"
             ],
             [
              1,
              "#f0f921"
             ]
            ],
            "type": "heatmapgl"
           }
          ],
          "histogram": [
           {
            "marker": {
             "colorbar": {
              "outlinewidth": 0,
              "ticks": ""
             }
            },
            "type": "histogram"
           }
          ],
          "histogram2d": [
           {
            "colorbar": {
             "outlinewidth": 0,
             "ticks": ""
            },
            "colorscale": [
             [
              0,
              "#0d0887"
             ],
             [
              0.1111111111111111,
              "#46039f"
             ],
             [
              0.2222222222222222,
              "#7201a8"
             ],
             [
              0.3333333333333333,
              "#9c179e"
             ],
             [
              0.4444444444444444,
              "#bd3786"
             ],
             [
              0.5555555555555556,
              "#d8576b"
             ],
             [
              0.6666666666666666,
              "#ed7953"
             ],
             [
              0.7777777777777778,
              "#fb9f3a"
             ],
             [
              0.8888888888888888,
              "#fdca26"
             ],
             [
              1,
              "#f0f921"
             ]
            ],
            "type": "histogram2d"
           }
          ],
          "histogram2dcontour": [
           {
            "colorbar": {
             "outlinewidth": 0,
             "ticks": ""
            },
            "colorscale": [
             [
              0,
              "#0d0887"
             ],
             [
              0.1111111111111111,
              "#46039f"
             ],
             [
              0.2222222222222222,
              "#7201a8"
             ],
             [
              0.3333333333333333,
              "#9c179e"
             ],
             [
              0.4444444444444444,
              "#bd3786"
             ],
             [
              0.5555555555555556,
              "#d8576b"
             ],
             [
              0.6666666666666666,
              "#ed7953"
             ],
             [
              0.7777777777777778,
              "#fb9f3a"
             ],
             [
              0.8888888888888888,
              "#fdca26"
             ],
             [
              1,
              "#f0f921"
             ]
            ],
            "type": "histogram2dcontour"
           }
          ],
          "mesh3d": [
           {
            "colorbar": {
             "outlinewidth": 0,
             "ticks": ""
            },
            "type": "mesh3d"
           }
          ],
          "parcoords": [
           {
            "line": {
             "colorbar": {
              "outlinewidth": 0,
              "ticks": ""
             }
            },
            "type": "parcoords"
           }
          ],
          "pie": [
           {
            "automargin": true,
            "type": "pie"
           }
          ],
          "scatter": [
           {
            "marker": {
             "colorbar": {
              "outlinewidth": 0,
              "ticks": ""
             }
            },
            "type": "scatter"
           }
          ],
          "scatter3d": [
           {
            "line": {
             "colorbar": {
              "outlinewidth": 0,
              "ticks": ""
             }
            },
            "marker": {
             "colorbar": {
              "outlinewidth": 0,
              "ticks": ""
             }
            },
            "type": "scatter3d"
           }
          ],
          "scattercarpet": [
           {
            "marker": {
             "colorbar": {
              "outlinewidth": 0,
              "ticks": ""
             }
            },
            "type": "scattercarpet"
           }
          ],
          "scattergeo": [
           {
            "marker": {
             "colorbar": {
              "outlinewidth": 0,
              "ticks": ""
             }
            },
            "type": "scattergeo"
           }
          ],
          "scattergl": [
           {
            "marker": {
             "colorbar": {
              "outlinewidth": 0,
              "ticks": ""
             }
            },
            "type": "scattergl"
           }
          ],
          "scattermapbox": [
           {
            "marker": {
             "colorbar": {
              "outlinewidth": 0,
              "ticks": ""
             }
            },
            "type": "scattermapbox"
           }
          ],
          "scatterpolar": [
           {
            "marker": {
             "colorbar": {
              "outlinewidth": 0,
              "ticks": ""
             }
            },
            "type": "scatterpolar"
           }
          ],
          "scatterpolargl": [
           {
            "marker": {
             "colorbar": {
              "outlinewidth": 0,
              "ticks": ""
             }
            },
            "type": "scatterpolargl"
           }
          ],
          "scatterternary": [
           {
            "marker": {
             "colorbar": {
              "outlinewidth": 0,
              "ticks": ""
             }
            },
            "type": "scatterternary"
           }
          ],
          "surface": [
           {
            "colorbar": {
             "outlinewidth": 0,
             "ticks": ""
            },
            "colorscale": [
             [
              0,
              "#0d0887"
             ],
             [
              0.1111111111111111,
              "#46039f"
             ],
             [
              0.2222222222222222,
              "#7201a8"
             ],
             [
              0.3333333333333333,
              "#9c179e"
             ],
             [
              0.4444444444444444,
              "#bd3786"
             ],
             [
              0.5555555555555556,
              "#d8576b"
             ],
             [
              0.6666666666666666,
              "#ed7953"
             ],
             [
              0.7777777777777778,
              "#fb9f3a"
             ],
             [
              0.8888888888888888,
              "#fdca26"
             ],
             [
              1,
              "#f0f921"
             ]
            ],
            "type": "surface"
           }
          ],
          "table": [
           {
            "cells": {
             "fill": {
              "color": "#EBF0F8"
             },
             "line": {
              "color": "white"
             }
            },
            "header": {
             "fill": {
              "color": "#C8D4E3"
             },
             "line": {
              "color": "white"
             }
            },
            "type": "table"
           }
          ]
         },
         "layout": {
          "annotationdefaults": {
           "arrowcolor": "#2a3f5f",
           "arrowhead": 0,
           "arrowwidth": 1
          },
          "autotypenumbers": "strict",
          "coloraxis": {
           "colorbar": {
            "outlinewidth": 0,
            "ticks": ""
           }
          },
          "colorscale": {
           "diverging": [
            [
             0,
             "#8e0152"
            ],
            [
             0.1,
             "#c51b7d"
            ],
            [
             0.2,
             "#de77ae"
            ],
            [
             0.3,
             "#f1b6da"
            ],
            [
             0.4,
             "#fde0ef"
            ],
            [
             0.5,
             "#f7f7f7"
            ],
            [
             0.6,
             "#e6f5d0"
            ],
            [
             0.7,
             "#b8e186"
            ],
            [
             0.8,
             "#7fbc41"
            ],
            [
             0.9,
             "#4d9221"
            ],
            [
             1,
             "#276419"
            ]
           ],
           "sequential": [
            [
             0,
             "#0d0887"
            ],
            [
             0.1111111111111111,
             "#46039f"
            ],
            [
             0.2222222222222222,
             "#7201a8"
            ],
            [
             0.3333333333333333,
             "#9c179e"
            ],
            [
             0.4444444444444444,
             "#bd3786"
            ],
            [
             0.5555555555555556,
             "#d8576b"
            ],
            [
             0.6666666666666666,
             "#ed7953"
            ],
            [
             0.7777777777777778,
             "#fb9f3a"
            ],
            [
             0.8888888888888888,
             "#fdca26"
            ],
            [
             1,
             "#f0f921"
            ]
           ],
           "sequentialminus": [
            [
             0,
             "#0d0887"
            ],
            [
             0.1111111111111111,
             "#46039f"
            ],
            [
             0.2222222222222222,
             "#7201a8"
            ],
            [
             0.3333333333333333,
             "#9c179e"
            ],
            [
             0.4444444444444444,
             "#bd3786"
            ],
            [
             0.5555555555555556,
             "#d8576b"
            ],
            [
             0.6666666666666666,
             "#ed7953"
            ],
            [
             0.7777777777777778,
             "#fb9f3a"
            ],
            [
             0.8888888888888888,
             "#fdca26"
            ],
            [
             1,
             "#f0f921"
            ]
           ]
          },
          "colorway": [
           "#636efa",
           "#EF553B",
           "#00cc96",
           "#ab63fa",
           "#FFA15A",
           "#19d3f3",
           "#FF6692",
           "#B6E880",
           "#FF97FF",
           "#FECB52"
          ],
          "font": {
           "color": "#2a3f5f"
          },
          "geo": {
           "bgcolor": "white",
           "lakecolor": "white",
           "landcolor": "#E5ECF6",
           "showlakes": true,
           "showland": true,
           "subunitcolor": "white"
          },
          "hoverlabel": {
           "align": "left"
          },
          "hovermode": "closest",
          "mapbox": {
           "style": "light"
          },
          "paper_bgcolor": "white",
          "plot_bgcolor": "#E5ECF6",
          "polar": {
           "angularaxis": {
            "gridcolor": "white",
            "linecolor": "white",
            "ticks": ""
           },
           "bgcolor": "#E5ECF6",
           "radialaxis": {
            "gridcolor": "white",
            "linecolor": "white",
            "ticks": ""
           }
          },
          "scene": {
           "xaxis": {
            "backgroundcolor": "#E5ECF6",
            "gridcolor": "white",
            "gridwidth": 2,
            "linecolor": "white",
            "showbackground": true,
            "ticks": "",
            "zerolinecolor": "white"
           },
           "yaxis": {
            "backgroundcolor": "#E5ECF6",
            "gridcolor": "white",
            "gridwidth": 2,
            "linecolor": "white",
            "showbackground": true,
            "ticks": "",
            "zerolinecolor": "white"
           },
           "zaxis": {
            "backgroundcolor": "#E5ECF6",
            "gridcolor": "white",
            "gridwidth": 2,
            "linecolor": "white",
            "showbackground": true,
            "ticks": "",
            "zerolinecolor": "white"
           }
          },
          "shapedefaults": {
           "line": {
            "color": "#2a3f5f"
           }
          },
          "ternary": {
           "aaxis": {
            "gridcolor": "white",
            "linecolor": "white",
            "ticks": ""
           },
           "baxis": {
            "gridcolor": "white",
            "linecolor": "white",
            "ticks": ""
           },
           "bgcolor": "#E5ECF6",
           "caxis": {
            "gridcolor": "white",
            "linecolor": "white",
            "ticks": ""
           }
          },
          "title": {
           "x": 0.05
          },
          "xaxis": {
           "automargin": true,
           "gridcolor": "white",
           "linecolor": "white",
           "ticks": "",
           "title": {
            "standoff": 15
           },
           "zerolinecolor": "white",
           "zerolinewidth": 2
          },
          "yaxis": {
           "automargin": true,
           "gridcolor": "white",
           "linecolor": "white",
           "ticks": "",
           "title": {
            "standoff": 15
           },
           "zerolinecolor": "white",
           "zerolinewidth": 2
          }
         }
        },
        "uniformtext": {
         "minsize": 8,
         "mode": "hide"
        },
        "width": 1100,
        "xaxis": {
         "anchor": "y",
         "domain": [
          0,
          1
         ],
         "title": {
          "text": "Avg Experience"
         }
        },
        "yaxis": {
         "anchor": "x",
         "domain": [
          0,
          1
         ],
         "title": {
          "text": "Salary"
         }
        }
       }
      },
      "text/html": [
       "<div>                            <div id=\"d528068f-0007-4d7b-84a7-03f28c5f8baa\" class=\"plotly-graph-div\" style=\"height:600px; width:1100px;\"></div>            <script type=\"text/javascript\">                require([\"plotly\"], function(Plotly) {                    window.PLOTLYENV=window.PLOTLYENV || {};                                    if (document.getElementById(\"d528068f-0007-4d7b-84a7-03f28c5f8baa\")) {                    Plotly.newPlot(                        \"d528068f-0007-4d7b-84a7-03f28c5f8baa\",                        [{\"hovertemplate\": \"DevType=Academic researcher<br>Avg Experience=%{x}<br>Salary=%{y}<br>Respondent=%{marker.size}<br>Label=%{text}<extra></extra>\", \"legendgroup\": \"Academic researcher\", \"marker\": {\"color\": \"#636efa\", \"size\": [1455], \"sizemode\": \"area\", \"sizeref\": 44.295, \"symbol\": \"circle\"}, \"mode\": \"markers+text\", \"name\": \"Academic researcher\", \"orientation\": \"v\", \"showlegend\": true, \"text\": [\"Academic researcher\"], \"textposition\": \"middle right\", \"type\": \"scatter\", \"x\": [8.202061855670102], \"xaxis\": \"x\", \"y\": [39093.0], \"yaxis\": \"y\"}, {\"hovertemplate\": \"DevType=Data or business analyst<br>Avg Experience=%{x}<br>Salary=%{y}<br>Respondent=%{marker.size}<br>Label=%{text}<extra></extra>\", \"legendgroup\": \"Data or business analyst\", \"marker\": {\"color\": \"#EF553B\", \"size\": [1737], \"sizemode\": \"area\", \"sizeref\": 44.295, \"symbol\": \"circle\"}, \"mode\": \"markers+text\", \"name\": \"Data or business analyst\", \"orientation\": \"v\", \"showlegend\": true, \"text\": [\"\"], \"textposition\": \"middle right\", \"type\": \"scatter\", \"x\": [10.8762233736327], \"xaxis\": \"x\", \"y\": [56211.0], \"yaxis\": \"y\"}, {\"hovertemplate\": \"DevType=Data scientist or machine learning specialist<br>Avg Experience=%{x}<br>Salary=%{y}<br>Respondent=%{marker.size}<br>Label=%{text}<extra></extra>\", \"legendgroup\": \"Data scientist or machine learning specialist\", \"marker\": {\"color\": \"#00cc96\", \"size\": [1895], \"sizemode\": \"area\", \"sizeref\": 44.295, \"symbol\": \"circle\"}, \"mode\": \"markers+text\", \"name\": \"Data scientist or machine learning specialist\", \"orientation\": \"v\", \"showlegend\": true, \"text\": [\"Data scientist or machine learning specialist\"], \"textposition\": \"middle right\", \"type\": \"scatter\", \"x\": [8.179947229551452], \"xaxis\": \"x\", \"y\": [59454.0], \"yaxis\": \"y\"}, {\"hovertemplate\": \"DevType=Database administrator<br>Avg Experience=%{x}<br>Salary=%{y}<br>Respondent=%{marker.size}<br>Label=%{text}<extra></extra>\", \"legendgroup\": \"Database administrator\", \"marker\": {\"color\": \"#ab63fa\", \"size\": [3330], \"sizemode\": \"area\", \"sizeref\": 44.295, \"symbol\": \"circle\"}, \"mode\": \"markers+text\", \"name\": \"Database administrator\", \"orientation\": \"v\", \"showlegend\": true, \"text\": [\"Database administrator\"], \"textposition\": \"middle right\", \"type\": \"scatter\", \"x\": [11.007807807807808], \"xaxis\": \"x\", \"y\": [51888.0], \"yaxis\": \"y\"}, {\"hovertemplate\": \"DevType=Designer<br>Avg Experience=%{x}<br>Salary=%{y}<br>Respondent=%{marker.size}<br>Label=%{text}<extra></extra>\", \"legendgroup\": \"Designer\", \"marker\": {\"color\": \"#FFA15A\", \"size\": [2664], \"sizemode\": \"area\", \"sizeref\": 44.295, \"symbol\": \"circle\"}, \"mode\": \"markers+text\", \"name\": \"Designer\", \"orientation\": \"v\", \"showlegend\": true, \"text\": [\"\"], \"textposition\": \"middle right\", \"type\": \"scatter\", \"x\": [10.024774774774775], \"xaxis\": \"x\", \"y\": [49020.0], \"yaxis\": \"y\"}, {\"hovertemplate\": \"DevType=DevOps specialist<br>Avg Experience=%{x}<br>Salary=%{y}<br>Respondent=%{marker.size}<br>Label=%{text}<extra></extra>\", \"legendgroup\": \"DevOps specialist\", \"marker\": {\"color\": \"#19d3f3\", \"size\": [3963], \"sizemode\": \"area\", \"sizeref\": 44.295, \"symbol\": \"circle\"}, \"mode\": \"markers+text\", \"name\": \"DevOps specialist\", \"orientation\": \"v\", \"showlegend\": true, \"text\": [\"DevOps specialist\"], \"textposition\": \"middle right\", \"type\": \"scatter\", \"x\": [10.543275296492556], \"xaxis\": \"x\", \"y\": [69581.0], \"yaxis\": \"y\"}, {\"hovertemplate\": \"DevType=Developer, QA or test<br>Avg Experience=%{x}<br>Salary=%{y}<br>Respondent=%{marker.size}<br>Label=%{text}<extra></extra>\", \"legendgroup\": \"Developer, QA or test\", \"marker\": {\"color\": \"#FF6692\", \"size\": [2326], \"sizemode\": \"area\", \"sizeref\": 44.295, \"symbol\": \"circle\"}, \"mode\": \"markers+text\", \"name\": \"Developer, QA or test\", \"orientation\": \"v\", \"showlegend\": true, \"text\": [\"\"], \"textposition\": \"middle right\", \"type\": \"scatter\", \"x\": [9.344797936371453], \"xaxis\": \"x\", \"y\": [55731.5], \"yaxis\": \"y\"}, {\"hovertemplate\": \"DevType=Developer, back-end<br>Avg Experience=%{x}<br>Salary=%{y}<br>Respondent=%{marker.size}<br>Label=%{text}<extra></extra>\", \"legendgroup\": \"Developer, back-end\", \"marker\": {\"color\": \"#B6E880\", \"size\": [17503], \"sizemode\": \"area\", \"sizeref\": 44.295, \"symbol\": \"circle\"}, \"mode\": \"markers+text\", \"name\": \"Developer, back-end\", \"orientation\": \"v\", \"showlegend\": true, \"text\": [\"Developer, back-end\"], \"textposition\": \"middle right\", \"type\": \"scatter\", \"x\": [9.258927041078673], \"xaxis\": \"x\", \"y\": [54480.0], \"yaxis\": \"y\"}, {\"hovertemplate\": \"DevType=Developer, desktop or enterprise applications<br>Avg Experience=%{x}<br>Salary=%{y}<br>Respondent=%{marker.size}<br>Label=%{text}<extra></extra>\", \"legendgroup\": \"Developer, desktop or enterprise applications\", \"marker\": {\"color\": \"#FF97FF\", \"size\": [7466], \"sizemode\": \"area\", \"sizeref\": 44.295, \"symbol\": \"circle\"}, \"mode\": \"markers+text\", \"name\": \"Developer, desktop or enterprise applications\", \"orientation\": \"v\", \"showlegend\": true, \"text\": [\"Developer, desktop or enterprise applications\"], \"textposition\": \"middle right\", \"type\": \"scatter\", \"x\": [11.037369407982856], \"xaxis\": \"x\", \"y\": [57129.0], \"yaxis\": \"y\"}, {\"hovertemplate\": \"DevType=Developer, embedded applications or devices<br>Avg Experience=%{x}<br>Salary=%{y}<br>Respondent=%{marker.size}<br>Label=%{text}<extra></extra>\", \"legendgroup\": \"Developer, embedded applications or devices\", \"marker\": {\"color\": \"#FECB52\", \"size\": [2818], \"sizemode\": \"area\", \"sizeref\": 44.295, \"symbol\": \"circle\"}, \"mode\": \"markers+text\", \"name\": \"Developer, embedded applications or devices\", \"orientation\": \"v\", \"showlegend\": true, \"text\": [\"\"], \"textposition\": \"middle right\", \"type\": \"scatter\", \"x\": [11.307310149041873], \"xaxis\": \"x\", \"y\": [58368.0], \"yaxis\": \"y\"}, {\"hovertemplate\": \"DevType=Developer, front-end<br>Avg Experience=%{x}<br>Salary=%{y}<br>Respondent=%{marker.size}<br>Label=%{text}<extra></extra>\", \"legendgroup\": \"Developer, front-end\", \"marker\": {\"color\": \"#636efa\", \"size\": [11307], \"sizemode\": \"area\", \"sizeref\": 44.295, \"symbol\": \"circle\"}, \"mode\": \"markers+text\", \"name\": \"Developer, front-end\", \"orientation\": \"v\", \"showlegend\": true, \"text\": [\"Developer, front-end\"], \"textposition\": \"middle right\", \"type\": \"scatter\", \"x\": [8.582647917219422], \"xaxis\": \"x\", \"y\": [50806.0], \"yaxis\": \"y\"}, {\"hovertemplate\": \"DevType=Developer, full-stack<br>Avg Experience=%{x}<br>Salary=%{y}<br>Respondent=%{marker.size}<br>Label=%{text}<extra></extra>\", \"legendgroup\": \"Developer, full-stack\", \"marker\": {\"color\": \"#EF553B\", \"size\": [17718], \"sizemode\": \"area\", \"sizeref\": 44.295, \"symbol\": \"circle\"}, \"mode\": \"markers+text\", \"name\": \"Developer, full-stack\", \"orientation\": \"v\", \"showlegend\": true, \"text\": [\"Developer, full-stack\"], \"textposition\": \"middle right\", \"type\": \"scatter\", \"x\": [8.94717236708432], \"xaxis\": \"x\", \"y\": [56211.0], \"yaxis\": \"y\"}, {\"hovertemplate\": \"DevType=Developer, game or graphics<br>Avg Experience=%{x}<br>Salary=%{y}<br>Respondent=%{marker.size}<br>Label=%{text}<extra></extra>\", \"legendgroup\": \"Developer, game or graphics\", \"marker\": {\"color\": \"#00cc96\", \"size\": [1542], \"sizemode\": \"area\", \"sizeref\": 44.295, \"symbol\": \"circle\"}, \"mode\": \"markers+text\", \"name\": \"Developer, game or graphics\", \"orientation\": \"v\", \"showlegend\": true, \"text\": [\"\"], \"textposition\": \"middle right\", \"type\": \"scatter\", \"x\": [9.553826199740596], \"xaxis\": \"x\", \"y\": [51704.0], \"yaxis\": \"y\"}, {\"hovertemplate\": \"DevType=Developer, mobile<br>Avg Experience=%{x}<br>Salary=%{y}<br>Respondent=%{marker.size}<br>Label=%{text}<extra></extra>\", \"legendgroup\": \"Developer, mobile\", \"marker\": {\"color\": \"#ab63fa\", \"size\": [5645], \"sizemode\": \"area\", \"sizeref\": 44.295, \"symbol\": \"circle\"}, \"mode\": \"markers+text\", \"name\": \"Developer, mobile\", \"orientation\": \"v\", \"showlegend\": true, \"text\": [\"Developer, mobile\"], \"textposition\": \"middle right\", \"type\": \"scatter\", \"x\": [8.814880425155005], \"xaxis\": \"x\", \"y\": [45241.0], \"yaxis\": \"y\"}, {\"hovertemplate\": \"DevType=Educator<br>Avg Experience=%{x}<br>Salary=%{y}<br>Respondent=%{marker.size}<br>Label=%{text}<extra></extra>\", \"legendgroup\": \"Educator\", \"marker\": {\"color\": \"#FFA15A\", \"size\": [1457], \"sizemode\": \"area\", \"sizeref\": 44.295, \"symbol\": \"circle\"}, \"mode\": \"markers+text\", \"name\": \"Educator\", \"orientation\": \"v\", \"showlegend\": true, \"text\": [\"\"], \"textposition\": \"middle right\", \"type\": \"scatter\", \"x\": [10.381606039807824], \"xaxis\": \"x\", \"y\": [51384.0], \"yaxis\": \"y\"}, {\"hovertemplate\": \"DevType=Engineer, data<br>Avg Experience=%{x}<br>Salary=%{y}<br>Respondent=%{marker.size}<br>Label=%{text}<extra></extra>\", \"legendgroup\": \"Engineer, data\", \"marker\": {\"color\": \"#19d3f3\", \"size\": [2076], \"sizemode\": \"area\", \"sizeref\": 44.295, \"symbol\": \"circle\"}, \"mode\": \"markers+text\", \"name\": \"Engineer, data\", \"orientation\": \"v\", \"showlegend\": true, \"text\": [\"Engineer, data\"], \"textposition\": \"middle right\", \"type\": \"scatter\", \"x\": [9.107418111753372], \"xaxis\": \"x\", \"y\": [66914.0], \"yaxis\": \"y\"}, {\"hovertemplate\": \"DevType=Engineer, site reliability<br>Avg Experience=%{x}<br>Salary=%{y}<br>Respondent=%{marker.size}<br>Label=%{text}<extra></extra>\", \"legendgroup\": \"Engineer, site reliability\", \"marker\": {\"color\": \"#FF6692\", \"size\": [1143], \"sizemode\": \"area\", \"sizeref\": 44.295, \"symbol\": \"circle\"}, \"mode\": \"markers+text\", \"name\": \"Engineer, site reliability\", \"orientation\": \"v\", \"showlegend\": true, \"text\": [\"Engineer, site reliability\"], \"textposition\": \"middle right\", \"type\": \"scatter\", \"x\": [10.349081364829397], \"xaxis\": \"x\", \"y\": [81074.0], \"yaxis\": \"y\"}, {\"hovertemplate\": \"DevType=Engineering manager<br>Avg Experience=%{x}<br>Salary=%{y}<br>Respondent=%{marker.size}<br>Label=%{text}<extra></extra>\", \"legendgroup\": \"Engineering manager\", \"marker\": {\"color\": \"#B6E880\", \"size\": [1595], \"sizemode\": \"area\", \"sizeref\": 44.295, \"symbol\": \"circle\"}, \"mode\": \"markers+text\", \"name\": \"Engineering manager\", \"orientation\": \"v\", \"showlegend\": true, \"text\": [\"Engineering manager\"], \"textposition\": \"middle right\", \"type\": \"scatter\", \"x\": [13.34294670846395], \"xaxis\": \"x\", \"y\": [91164.0], \"yaxis\": \"y\"}, {\"hovertemplate\": \"DevType=Marketing or sales professional<br>Avg Experience=%{x}<br>Salary=%{y}<br>Respondent=%{marker.size}<br>Label=%{text}<extra></extra>\", \"legendgroup\": \"Marketing or sales professional\", \"marker\": {\"color\": \"#FF97FF\", \"size\": [207], \"sizemode\": \"area\", \"sizeref\": 44.295, \"symbol\": \"circle\"}, \"mode\": \"markers+text\", \"name\": \"Marketing or sales professional\", \"orientation\": \"v\", \"showlegend\": true, \"text\": [\"\"], \"textposition\": \"middle right\", \"type\": \"scatter\", \"x\": [10.951690821256038], \"xaxis\": \"x\", \"y\": [52942.0], \"yaxis\": \"y\"}, {\"hovertemplate\": \"DevType=Product manager<br>Avg Experience=%{x}<br>Salary=%{y}<br>Respondent=%{marker.size}<br>Label=%{text}<extra></extra>\", \"legendgroup\": \"Product manager\", \"marker\": {\"color\": \"#FECB52\", \"size\": [1290], \"sizemode\": \"area\", \"sizeref\": 44.295, \"symbol\": \"circle\"}, \"mode\": \"markers+text\", \"name\": \"Product manager\", \"orientation\": \"v\", \"showlegend\": true, \"text\": [\"\"], \"textposition\": \"middle right\", \"type\": \"scatter\", \"x\": [11.644186046511628], \"xaxis\": \"x\", \"y\": [56669.5], \"yaxis\": \"y\"}, {\"hovertemplate\": \"DevType=Scientist<br>Avg Experience=%{x}<br>Salary=%{y}<br>Respondent=%{marker.size}<br>Label=%{text}<extra></extra>\", \"legendgroup\": \"Scientist\", \"marker\": {\"color\": \"#636efa\", \"size\": [915], \"sizemode\": \"area\", \"sizeref\": 44.295, \"symbol\": \"circle\"}, \"mode\": \"markers+text\", \"name\": \"Scientist\", \"orientation\": \"v\", \"showlegend\": true, \"text\": [\"\"], \"textposition\": \"middle right\", \"type\": \"scatter\", \"x\": [9.904918032786885], \"xaxis\": \"x\", \"y\": [58368.0], \"yaxis\": \"y\"}, {\"hovertemplate\": \"DevType=Senior executive/VP<br>Avg Experience=%{x}<br>Salary=%{y}<br>Respondent=%{marker.size}<br>Label=%{text}<extra></extra>\", \"legendgroup\": \"Senior executive/VP\", \"marker\": {\"color\": \"#EF553B\", \"size\": [621], \"sizemode\": \"area\", \"sizeref\": 44.295, \"symbol\": \"circle\"}, \"mode\": \"markers+text\", \"name\": \"Senior executive/VP\", \"orientation\": \"v\", \"showlegend\": true, \"text\": [\"Senior executive/VP\"], \"textposition\": \"middle right\", \"type\": \"scatter\", \"x\": [15.94524959742351], \"xaxis\": \"x\", \"y\": [86150.0], \"yaxis\": \"y\"}, {\"hovertemplate\": \"DevType=System administrator<br>Avg Experience=%{x}<br>Salary=%{y}<br>Respondent=%{marker.size}<br>Label=%{text}<extra></extra>\", \"legendgroup\": \"System administrator\", \"marker\": {\"color\": \"#00cc96\", \"size\": [2753], \"sizemode\": \"area\", \"sizeref\": 44.295, \"symbol\": \"circle\"}, \"mode\": \"markers+text\", \"name\": \"System administrator\", \"orientation\": \"v\", \"showlegend\": true, \"text\": [\"\"], \"textposition\": \"middle right\", \"type\": \"scatter\", \"x\": [11.081729022884126], \"xaxis\": \"x\", \"y\": [55000.0], \"yaxis\": \"y\"}],                        {\"height\": 600, \"legend\": {\"itemsizing\": \"constant\", \"title\": {\"text\": \"DevType\"}, \"tracegroupgap\": 0}, \"margin\": {\"t\": 60}, \"template\": {\"data\": {\"bar\": [{\"error_x\": {\"color\": \"#2a3f5f\"}, \"error_y\": {\"color\": \"#2a3f5f\"}, \"marker\": {\"line\": {\"color\": \"#E5ECF6\", \"width\": 0.5}}, \"type\": \"bar\"}], \"barpolar\": [{\"marker\": {\"line\": {\"color\": \"#E5ECF6\", \"width\": 0.5}}, \"type\": \"barpolar\"}], \"carpet\": [{\"aaxis\": {\"endlinecolor\": \"#2a3f5f\", \"gridcolor\": \"white\", \"linecolor\": \"white\", \"minorgridcolor\": \"white\", \"startlinecolor\": \"#2a3f5f\"}, \"baxis\": {\"endlinecolor\": \"#2a3f5f\", \"gridcolor\": \"white\", \"linecolor\": \"white\", \"minorgridcolor\": \"white\", \"startlinecolor\": \"#2a3f5f\"}, \"type\": \"carpet\"}], \"choropleth\": [{\"colorbar\": {\"outlinewidth\": 0, \"ticks\": \"\"}, \"type\": \"choropleth\"}], \"contour\": [{\"colorbar\": {\"outlinewidth\": 0, \"ticks\": \"\"}, \"colorscale\": [[0.0, \"#0d0887\"], [0.1111111111111111, \"#46039f\"], [0.2222222222222222, \"#7201a8\"], [0.3333333333333333, \"#9c179e\"], [0.4444444444444444, \"#bd3786\"], [0.5555555555555556, \"#d8576b\"], [0.6666666666666666, \"#ed7953\"], [0.7777777777777778, \"#fb9f3a\"], [0.8888888888888888, \"#fdca26\"], [1.0, \"#f0f921\"]], \"type\": \"contour\"}], \"contourcarpet\": [{\"colorbar\": {\"outlinewidth\": 0, \"ticks\": \"\"}, \"type\": \"contourcarpet\"}], \"heatmap\": [{\"colorbar\": {\"outlinewidth\": 0, \"ticks\": \"\"}, \"colorscale\": [[0.0, \"#0d0887\"], [0.1111111111111111, \"#46039f\"], [0.2222222222222222, \"#7201a8\"], [0.3333333333333333, \"#9c179e\"], [0.4444444444444444, \"#bd3786\"], [0.5555555555555556, \"#d8576b\"], [0.6666666666666666, \"#ed7953\"], [0.7777777777777778, \"#fb9f3a\"], [0.8888888888888888, \"#fdca26\"], [1.0, \"#f0f921\"]], \"type\": \"heatmap\"}], \"heatmapgl\": [{\"colorbar\": {\"outlinewidth\": 0, \"ticks\": \"\"}, \"colorscale\": [[0.0, \"#0d0887\"], [0.1111111111111111, \"#46039f\"], [0.2222222222222222, \"#7201a8\"], [0.3333333333333333, \"#9c179e\"], [0.4444444444444444, \"#bd3786\"], [0.5555555555555556, \"#d8576b\"], [0.6666666666666666, \"#ed7953\"], [0.7777777777777778, \"#fb9f3a\"], [0.8888888888888888, \"#fdca26\"], [1.0, \"#f0f921\"]], \"type\": \"heatmapgl\"}], \"histogram\": [{\"marker\": {\"colorbar\": {\"outlinewidth\": 0, \"ticks\": \"\"}}, \"type\": \"histogram\"}], \"histogram2d\": [{\"colorbar\": {\"outlinewidth\": 0, \"ticks\": \"\"}, \"colorscale\": [[0.0, \"#0d0887\"], [0.1111111111111111, \"#46039f\"], [0.2222222222222222, \"#7201a8\"], [0.3333333333333333, \"#9c179e\"], [0.4444444444444444, \"#bd3786\"], [0.5555555555555556, \"#d8576b\"], [0.6666666666666666, \"#ed7953\"], [0.7777777777777778, \"#fb9f3a\"], [0.8888888888888888, \"#fdca26\"], [1.0, \"#f0f921\"]], \"type\": \"histogram2d\"}], \"histogram2dcontour\": [{\"colorbar\": {\"outlinewidth\": 0, \"ticks\": \"\"}, \"colorscale\": [[0.0, \"#0d0887\"], [0.1111111111111111, \"#46039f\"], [0.2222222222222222, \"#7201a8\"], [0.3333333333333333, \"#9c179e\"], [0.4444444444444444, \"#bd3786\"], [0.5555555555555556, \"#d8576b\"], [0.6666666666666666, \"#ed7953\"], [0.7777777777777778, \"#fb9f3a\"], [0.8888888888888888, \"#fdca26\"], [1.0, \"#f0f921\"]], \"type\": \"histogram2dcontour\"}], \"mesh3d\": [{\"colorbar\": {\"outlinewidth\": 0, \"ticks\": \"\"}, \"type\": \"mesh3d\"}], \"parcoords\": [{\"line\": {\"colorbar\": {\"outlinewidth\": 0, \"ticks\": \"\"}}, \"type\": \"parcoords\"}], \"pie\": [{\"automargin\": true, \"type\": \"pie\"}], \"scatter\": [{\"marker\": {\"colorbar\": {\"outlinewidth\": 0, \"ticks\": \"\"}}, \"type\": \"scatter\"}], \"scatter3d\": [{\"line\": {\"colorbar\": {\"outlinewidth\": 0, \"ticks\": \"\"}}, \"marker\": {\"colorbar\": {\"outlinewidth\": 0, \"ticks\": \"\"}}, \"type\": \"scatter3d\"}], \"scattercarpet\": [{\"marker\": {\"colorbar\": {\"outlinewidth\": 0, \"ticks\": \"\"}}, \"type\": \"scattercarpet\"}], \"scattergeo\": [{\"marker\": {\"colorbar\": {\"outlinewidth\": 0, \"ticks\": \"\"}}, \"type\": \"scattergeo\"}], \"scattergl\": [{\"marker\": {\"colorbar\": {\"outlinewidth\": 0, \"ticks\": \"\"}}, \"type\": \"scattergl\"}], \"scattermapbox\": [{\"marker\": {\"colorbar\": {\"outlinewidth\": 0, \"ticks\": \"\"}}, \"type\": \"scattermapbox\"}], \"scatterpolar\": [{\"marker\": {\"colorbar\": {\"outlinewidth\": 0, \"ticks\": \"\"}}, \"type\": \"scatterpolar\"}], \"scatterpolargl\": [{\"marker\": {\"colorbar\": {\"outlinewidth\": 0, \"ticks\": \"\"}}, \"type\": \"scatterpolargl\"}], \"scatterternary\": [{\"marker\": {\"colorbar\": {\"outlinewidth\": 0, \"ticks\": \"\"}}, \"type\": \"scatterternary\"}], \"surface\": [{\"colorbar\": {\"outlinewidth\": 0, \"ticks\": \"\"}, \"colorscale\": [[0.0, \"#0d0887\"], [0.1111111111111111, \"#46039f\"], [0.2222222222222222, \"#7201a8\"], [0.3333333333333333, \"#9c179e\"], [0.4444444444444444, \"#bd3786\"], [0.5555555555555556, \"#d8576b\"], [0.6666666666666666, \"#ed7953\"], [0.7777777777777778, \"#fb9f3a\"], [0.8888888888888888, \"#fdca26\"], [1.0, \"#f0f921\"]], \"type\": \"surface\"}], \"table\": [{\"cells\": {\"fill\": {\"color\": \"#EBF0F8\"}, \"line\": {\"color\": \"white\"}}, \"header\": {\"fill\": {\"color\": \"#C8D4E3\"}, \"line\": {\"color\": \"white\"}}, \"type\": \"table\"}]}, \"layout\": {\"annotationdefaults\": {\"arrowcolor\": \"#2a3f5f\", \"arrowhead\": 0, \"arrowwidth\": 1}, \"autotypenumbers\": \"strict\", \"coloraxis\": {\"colorbar\": {\"outlinewidth\": 0, \"ticks\": \"\"}}, \"colorscale\": {\"diverging\": [[0, \"#8e0152\"], [0.1, \"#c51b7d\"], [0.2, \"#de77ae\"], [0.3, \"#f1b6da\"], [0.4, \"#fde0ef\"], [0.5, \"#f7f7f7\"], [0.6, \"#e6f5d0\"], [0.7, \"#b8e186\"], [0.8, \"#7fbc41\"], [0.9, \"#4d9221\"], [1, \"#276419\"]], \"sequential\": [[0.0, \"#0d0887\"], [0.1111111111111111, \"#46039f\"], [0.2222222222222222, \"#7201a8\"], [0.3333333333333333, \"#9c179e\"], [0.4444444444444444, \"#bd3786\"], [0.5555555555555556, \"#d8576b\"], [0.6666666666666666, \"#ed7953\"], [0.7777777777777778, \"#fb9f3a\"], [0.8888888888888888, \"#fdca26\"], [1.0, \"#f0f921\"]], \"sequentialminus\": [[0.0, \"#0d0887\"], [0.1111111111111111, \"#46039f\"], [0.2222222222222222, \"#7201a8\"], [0.3333333333333333, \"#9c179e\"], [0.4444444444444444, \"#bd3786\"], [0.5555555555555556, \"#d8576b\"], [0.6666666666666666, \"#ed7953\"], [0.7777777777777778, \"#fb9f3a\"], [0.8888888888888888, \"#fdca26\"], [1.0, \"#f0f921\"]]}, \"colorway\": [\"#636efa\", \"#EF553B\", \"#00cc96\", \"#ab63fa\", \"#FFA15A\", \"#19d3f3\", \"#FF6692\", \"#B6E880\", \"#FF97FF\", \"#FECB52\"], \"font\": {\"color\": \"#2a3f5f\"}, \"geo\": {\"bgcolor\": \"white\", \"lakecolor\": \"white\", \"landcolor\": \"#E5ECF6\", \"showlakes\": true, \"showland\": true, \"subunitcolor\": \"white\"}, \"hoverlabel\": {\"align\": \"left\"}, \"hovermode\": \"closest\", \"mapbox\": {\"style\": \"light\"}, \"paper_bgcolor\": \"white\", \"plot_bgcolor\": \"#E5ECF6\", \"polar\": {\"angularaxis\": {\"gridcolor\": \"white\", \"linecolor\": \"white\", \"ticks\": \"\"}, \"bgcolor\": \"#E5ECF6\", \"radialaxis\": {\"gridcolor\": \"white\", \"linecolor\": \"white\", \"ticks\": \"\"}}, \"scene\": {\"xaxis\": {\"backgroundcolor\": \"#E5ECF6\", \"gridcolor\": \"white\", \"gridwidth\": 2, \"linecolor\": \"white\", \"showbackground\": true, \"ticks\": \"\", \"zerolinecolor\": \"white\"}, \"yaxis\": {\"backgroundcolor\": \"#E5ECF6\", \"gridcolor\": \"white\", \"gridwidth\": 2, \"linecolor\": \"white\", \"showbackground\": true, \"ticks\": \"\", \"zerolinecolor\": \"white\"}, \"zaxis\": {\"backgroundcolor\": \"#E5ECF6\", \"gridcolor\": \"white\", \"gridwidth\": 2, \"linecolor\": \"white\", \"showbackground\": true, \"ticks\": \"\", \"zerolinecolor\": \"white\"}}, \"shapedefaults\": {\"line\": {\"color\": \"#2a3f5f\"}}, \"ternary\": {\"aaxis\": {\"gridcolor\": \"white\", \"linecolor\": \"white\", \"ticks\": \"\"}, \"baxis\": {\"gridcolor\": \"white\", \"linecolor\": \"white\", \"ticks\": \"\"}, \"bgcolor\": \"#E5ECF6\", \"caxis\": {\"gridcolor\": \"white\", \"linecolor\": \"white\", \"ticks\": \"\"}}, \"title\": {\"x\": 0.05}, \"xaxis\": {\"automargin\": true, \"gridcolor\": \"white\", \"linecolor\": \"white\", \"ticks\": \"\", \"title\": {\"standoff\": 15}, \"zerolinecolor\": \"white\", \"zerolinewidth\": 2}, \"yaxis\": {\"automargin\": true, \"gridcolor\": \"white\", \"linecolor\": \"white\", \"ticks\": \"\", \"title\": {\"standoff\": 15}, \"zerolinecolor\": \"white\", \"zerolinewidth\": 2}}}, \"uniformtext\": {\"minsize\": 8, \"mode\": \"hide\"}, \"width\": 1100, \"xaxis\": {\"anchor\": \"y\", \"domain\": [0.0, 1.0], \"title\": {\"text\": \"Avg Experience\"}}, \"yaxis\": {\"anchor\": \"x\", \"domain\": [0.0, 1.0], \"title\": {\"text\": \"Salary\"}}},                        {\"responsive\": true}                    ).then(function(){\n",
       "                            \n",
       "var gd = document.getElementById('d528068f-0007-4d7b-84a7-03f28c5f8baa');\n",
       "var x = new MutationObserver(function (mutations, observer) {{\n",
       "        var display = window.getComputedStyle(gd).display;\n",
       "        if (!display || display === 'none') {{\n",
       "            console.log([gd, 'removed!']);\n",
       "            Plotly.purge(gd);\n",
       "            observer.disconnect();\n",
       "        }}\n",
       "}});\n",
       "\n",
       "// Listen for the removal of the full notebook cells\n",
       "var notebookContainer = gd.closest('#notebook-container');\n",
       "if (notebookContainer) {{\n",
       "    x.observe(notebookContainer, {childList: true});\n",
       "}}\n",
       "\n",
       "// Listen for the clearing of the current output cell\n",
       "var outputEl = gd.closest('.output');\n",
       "if (outputEl) {{\n",
       "    x.observe(outputEl, {childList: true});\n",
       "}}\n",
       "\n",
       "                        })                };                });            </script>        </div>"
      ]
     },
     "metadata": {},
     "output_type": "display_data"
    }
   ],
   "source": [
    "show_labels = [\"Academic researcher\", \n",
    "               \"Engineering manager\", \n",
    "               \"Senior executive/VP\",\n",
    "               \"Engineer, site reliability\",\n",
    "               \"DevOps specialist\",\n",
    "               \"Engineer, data\",\n",
    "               \"Data scientist or machine learning specialist\",\n",
    "               \"Developer, full-stack\",\n",
    "               \"Developer, back-end\",\n",
    "               \"Developer, front-end\",\n",
    "               \"Developer, mobile\",\n",
    "               \"Database administrator\",\n",
    "               \"Developer, desktop or enterprise applications\"\n",
    "              ]\n",
    "exp_sal_df[\"Label\"] = exp_sal_df.apply(lambda x: x[\"DevType\"] if x[\"DevType\"] in show_labels else \"\", axis=1)\n",
    "fig = px.scatter(exp_sal_df, \n",
    "                 x=\"Avg Experience\", \n",
    "                 y=\"Salary\", \n",
    "                 text=\"Label\",\n",
    "                 color=\"DevType\", \n",
    "                 size=\"Respondent\", \n",
    "                 height=600, width=1100)\n",
    "fig.update_traces(textposition=\"middle right\")\n",
    "fig.update_layout(uniformtext_minsize=8, uniformtext_mode='hide')\n",
    "fig.show()"
   ]
  }
 ],
 "metadata": {
  "kernelspec": {
   "display_name": "Python 3",
   "language": "python",
   "name": "python3"
  },
  "language_info": {
   "codemirror_mode": {
    "name": "ipython",
    "version": 3
   },
   "file_extension": ".py",
   "mimetype": "text/x-python",
   "name": "python",
   "nbconvert_exporter": "python",
   "pygments_lexer": "ipython3",
   "version": "3.7.9"
  }
 },
 "nbformat": 4,
 "nbformat_minor": 2
}
